{
 "cells": [
  {
   "cell_type": "code",
   "execution_count": 44,
   "id": "da0ce424-69c5-4fe7-9da9-fc50be20677e",
   "metadata": {},
   "outputs": [],
   "source": [
    "from pathlib import Path\n",
    "from typing import Tuple\n",
    "from collections import defaultdict\n",
    "\n",
    "import pandas as pd\n",
    "from sklearn.decomposition import PCA\n",
    "from sklearn.manifold import TSNE\n",
    "from sklearn.preprocessing import StandardScaler\n",
    "from sklearn.model_selection import StratifiedKFold\n",
    "from sklearn.metrics import accuracy_score\n",
    "from sklearn.linear_model import LogisticRegression\n",
    "from sklearn.ensemble import RandomForestClassifier\n",
    "from sklearn.svm import SVC\n",
    "from matplotlib import pyplot as plt\n",
    "import numpy as np\n",
    "\n",
    "import seaborn as sns"
   ]
  },
  {
   "cell_type": "markdown",
   "id": "a1a99c7d-0038-4c8d-aba0-99ed9e206288",
   "metadata": {},
   "source": [
    "# TODO"
   ]
  },
  {
   "cell_type": "markdown",
   "id": "a2d1c195-f7db-4449-aa31-52851976d63a",
   "metadata": {},
   "source": [
    "- [ ] Appliquer le reduction sur les 3 \n",
    "- [ ] essayer de faire la diff de chrom entre les 3 \n",
    "- [ ] essayer d'overfitter pour voir si le modèle peut apprendre\n",
    "- [ ] Attention au temps de suivi: si qqn a pas d'événement, c'est pê que le temps de suivi est pas assez long. Il vaudrait mieux les supprimer\n",
    "- [ ] nouvelle variable histologique : bon ou mauvais répondeur\n",
    "- [ ] eux font le NMF. Ici les données sont + sparse car dans le sang, et pas sur la tumeur.\n",
    "- [ ] censurer les patiens qui viennent d'arriver"
   ]
  },
  {
   "cell_type": "markdown",
   "id": "7641415f-6534-4945-b3cc-3187a2c1a9e7",
   "metadata": {
    "tags": []
   },
   "source": [
    "# Descrition des données\n",
    "\n",
    "## metadata\n",
    "1 ligne par fichier, des fois 2 ; dans le cas où il y a 2 lignes prendre la ligne où le CPA est le plus élevé (correspond à une seconde analyse  où plus de séquence d'ADN ont été analysée)\n",
    "\n",
    "* CPA = % d'altération. Nb d'altération détectée par rapport à une baseline. Estimation de la quantité d'adn de la tumer qui se trouve dans le sang, c'est une valeur pas un pourcentage\n",
    "* nb.reads = dans un premier temsp on s'enffiche (valeur qui permet de normaliser) Nombre de séquences scanées. Si très bas on fait moins confiance. \n",
    "* sexe\n",
    "* age\n",
    "* htum = grosseur de la tumeur au diagnostisque (ie le jour ou on fait la radio)\n",
    "* relapse = 1 rechute, 0 pas rechute\n",
    "* etat 2 = statut du patient (mot ou vivant, 0 vivant, 1 décédé)\n",
    "* id.x = id patient\n",
    "* time_point = 3 valeurs possibles (DIAG, AVANT_CHIR, FIN_TTT)\n",
    "* time_OS = durée de suivi total\n",
    "* time_PFS = nombre de jour entre la rechute et le diagnostique\n",
    "* rep_histo: reponse histologique : bon ou mauvais répondeur. On l'a après le 1er traitement\n",
    "* puberte + parlant que l'âge\n",
    "* meta_bis : présence de métastase au diagnostique\n",
    "\n",
    "\n",
    "## data\n",
    "En fonction des patients on n'a pas tous les times point\n",
    "* Diagnotisque\n",
    "* Avt chirurgie (déjà un traitement)\n",
    "* Fin T : fin traitnement\n",
    "\n",
    "Chaque chromosome est découpé en fenetre => mêmes fenetres pour tous les patients\n",
    "\n",
    "Indicateur de présence d'adn tumoral (0 : 2 copies, > 0 copie en trop, < 0 perte)"
   ]
  },
  {
   "cell_type": "markdown",
   "id": "319de2e4-bde8-49f8-83f5-23ae9b1f5596",
   "metadata": {
    "tags": []
   },
   "source": [
    "# Preprocess data"
   ]
  },
  {
   "cell_type": "markdown",
   "id": "42b40fcb-7afc-4751-941a-19cc4c7854cb",
   "metadata": {
    "tags": []
   },
   "source": [
    "## Load files"
   ]
  },
  {
   "cell_type": "code",
   "execution_count": 160,
   "id": "5a35581a-7b8e-4e60-8441-2d631e64bb82",
   "metadata": {},
   "outputs": [],
   "source": [
    "metadata_path = Path('..') / 'data' / 'raw' / 'metadata_DMLHT_ctDNA.csv'"
   ]
  },
  {
   "cell_type": "code",
   "execution_count": 163,
   "id": "07aa96d5-79dc-4c75-a5ce-10e17a26eeb9",
   "metadata": {},
   "outputs": [],
   "source": [
    "metadata = pd.read_csv(metadata_path, sep='\\t', skiprows=1)"
   ]
  },
  {
   "cell_type": "code",
   "execution_count": 178,
   "id": "683c8fa2-2d4a-4cbe-8e85-7693843a079b",
   "metadata": {},
   "outputs": [],
   "source": [
    "metadata_path_old = Path('..') / 'data' / 'raw' / 'metadata_OS2006_ctdna.csv'\n",
    "data_dir = Path('..') / 'data' / 'raw' / 'results'"
   ]
  },
  {
   "cell_type": "code",
   "execution_count": 179,
   "id": "fa779c4e-a292-4a18-b4e5-3896b67a7e36",
   "metadata": {},
   "outputs": [],
   "source": [
    "metadata_old = pd.read_csv(metadata_path2)"
   ]
  },
  {
   "cell_type": "code",
   "execution_count": 174,
   "id": "b04c57c5-72f9-40fb-82d9-36ac5d55f95c",
   "metadata": {},
   "outputs": [
    {
     "data": {
      "text/html": [
       "<div>\n",
       "<style scoped>\n",
       "    .dataframe tbody tr th:only-of-type {\n",
       "        vertical-align: middle;\n",
       "    }\n",
       "\n",
       "    .dataframe tbody tr th {\n",
       "        vertical-align: top;\n",
       "    }\n",
       "\n",
       "    .dataframe thead th {\n",
       "        text-align: right;\n",
       "    }\n",
       "</style>\n",
       "<table border=\"1\" class=\"dataframe\">\n",
       "  <thead>\n",
       "    <tr style=\"text-align: right;\">\n",
       "      <th></th>\n",
       "      <th>col_name</th>\n",
       "      <th>desc</th>\n",
       "    </tr>\n",
       "  </thead>\n",
       "  <tbody>\n",
       "    <tr>\n",
       "      <th>0</th>\n",
       "      <td>sex</td>\n",
       "      <td>Genre du patient</td>\n",
       "    </tr>\n",
       "    <tr>\n",
       "      <th>1</th>\n",
       "      <td>age</td>\n",
       "      <td>Age du patient (années)</td>\n",
       "    </tr>\n",
       "    <tr>\n",
       "      <th>2</th>\n",
       "      <td>pub</td>\n",
       "      <td>Stade pubertaire</td>\n",
       "    </tr>\n",
       "    <tr>\n",
       "      <th>3</th>\n",
       "      <td>htum</td>\n",
       "      <td>hauteur de la tumeur (mm)</td>\n",
       "    </tr>\n",
       "    <tr>\n",
       "      <th>4</th>\n",
       "      <td>meta_bis</td>\n",
       "      <td>Présence (ou non) de metastase au diagnostic</td>\n",
       "    </tr>\n",
       "    <tr>\n",
       "      <th>5</th>\n",
       "      <td>chimgr</td>\n",
       "      <td>Type de chimio</td>\n",
       "    </tr>\n",
       "    <tr>\n",
       "      <th>6</th>\n",
       "      <td>rep_histo</td>\n",
       "      <td>réponse histologique : bonne (GR) ou mauvaise ...</td>\n",
       "    </tr>\n",
       "    <tr>\n",
       "      <th>7</th>\n",
       "      <td>relapse</td>\n",
       "      <td>Rechute  (1=oui, 0= non)</td>\n",
       "    </tr>\n",
       "    <tr>\n",
       "      <th>8</th>\n",
       "      <td>etat2</td>\n",
       "      <td>Statut vital (1 =décédé)</td>\n",
       "    </tr>\n",
       "    <tr>\n",
       "      <th>9</th>\n",
       "      <td>time_OS</td>\n",
       "      <td>Survie globale jusqu’à la dernière date de sui...</td>\n",
       "    </tr>\n",
       "    <tr>\n",
       "      <th>10</th>\n",
       "      <td>time_PFS</td>\n",
       "      <td>Temps jusqu’à la rechute (jours)</td>\n",
       "    </tr>\n",
       "    <tr>\n",
       "      <th>11</th>\n",
       "      <td>cpa_finTT</td>\n",
       "      <td>CPA mesuré à la fin du traitement</td>\n",
       "    </tr>\n",
       "    <tr>\n",
       "      <th>12</th>\n",
       "      <td>cpa_diagnostic</td>\n",
       "      <td>CPA mesuré au diagnostic</td>\n",
       "    </tr>\n",
       "    <tr>\n",
       "      <th>13</th>\n",
       "      <td>cpa_chirurgie</td>\n",
       "      <td>CPA mesuré à la chirurgie</td>\n",
       "    </tr>\n",
       "    <tr>\n",
       "      <th>14</th>\n",
       "      <td>EFS</td>\n",
       "      <td>Temps jusqu’à la rechute (si rechute observée)...</td>\n",
       "    </tr>\n",
       "    <tr>\n",
       "      <th>15</th>\n",
       "      <td>Code</td>\n",
       "      <td>Code d’anonymisation</td>\n",
       "    </tr>\n",
       "  </tbody>\n",
       "</table>\n",
       "</div>"
      ],
      "text/plain": [
       "          col_name                                               desc\n",
       "0              sex                                   Genre du patient\n",
       "1              age                            Age du patient (années)\n",
       "2              pub                                   Stade pubertaire\n",
       "3             htum                          hauteur de la tumeur (mm)\n",
       "4         meta_bis       Présence (ou non) de metastase au diagnostic\n",
       "5           chimgr                                    Type de chimio \n",
       "6        rep_histo  réponse histologique : bonne (GR) ou mauvaise ...\n",
       "7          relapse                           Rechute  (1=oui, 0= non)\n",
       "8            etat2                          Statut vital (1 =décédé) \n",
       "9          time_OS  Survie globale jusqu’à la dernière date de sui...\n",
       "10        time_PFS                   Temps jusqu’à la rechute (jours)\n",
       "11       cpa_finTT                 CPA mesuré à la fin du traitement \n",
       "12  cpa_diagnostic                          CPA mesuré au diagnostic \n",
       "13   cpa_chirurgie                          CPA mesuré à la chirurgie\n",
       "14             EFS  Temps jusqu’à la rechute (si rechute observée)...\n",
       "15            Code                               Code d’anonymisation"
      ]
     },
     "execution_count": 174,
     "metadata": {},
     "output_type": "execute_result"
    }
   ],
   "source": [
    "col_desc = !head -n 1 ../data/raw/metadata_DMLHT_ctDNA.csv\n",
    "col_desc = pd.concat([pd.Series(metadata.columns), pd.Series(col_desc[0].split('\\t'))], axis=1)\n",
    "col_desc.columns = ['col_name', 'desc']\n",
    "col_desc"
   ]
  },
  {
   "cell_type": "code",
   "execution_count": 184,
   "id": "db57b16c-bfe2-48b3-9ad0-e5efc8eb9555",
   "metadata": {},
   "outputs": [],
   "source": [
    "def get_infos_from_filename(filename: str) -> Tuple[str, str]:\n",
    "    filename = filename.split('.')[0]\n",
    "    splitted_filename = filename.split('_')\n",
    "    id_patient = f'{splitted_filename[0]}_{splitted_filename[1]}'\n",
    "    time_point = f'{splitted_filename[2]}_{splitted_filename[3]}' if len(splitted_filename) == 4 else splitted_filename[2]\n",
    "    return id_patient, time_point"
   ]
  },
  {
   "cell_type": "code",
   "execution_count": 185,
   "id": "767b7ade-0ba6-49e2-a1c4-8b82298f0284",
   "metadata": {},
   "outputs": [],
   "source": [
    "def load_all_data_patient(data_dir: Path) -> defaultdict:\n",
    "    data_patient = defaultdict(dict)\n",
    "\n",
    "    for p in data_dir.iterdir():\n",
    "        if not p.is_file():\n",
    "            continue\n",
    "        filename = str(p).split('/')[-1]\n",
    "        id_patient, time_point = get_infos_from_filename(filename)\n",
    "        data_patient[id_patient][time_point] = pd.read_csv(p, sep='\\t')\n",
    "    \n",
    "    return data_patient"
   ]
  },
  {
   "cell_type": "code",
   "execution_count": 186,
   "id": "19301a51-cd71-4a54-9a2f-d77d365da827",
   "metadata": {},
   "outputs": [
    {
     "name": "stdout",
     "output_type": "stream",
     "text": [
      "There are 182 patient\n"
     ]
    }
   ],
   "source": [
    "data_patient = load_all_data_patient(data_dir)\n",
    "print(f'There are {len(data_patient)} patient')"
   ]
  },
  {
   "cell_type": "markdown",
   "id": "cacc1107-13b7-465c-bf6e-eff3aaa05db6",
   "metadata": {
    "tags": []
   },
   "source": [
    "## Organize data"
   ]
  },
  {
   "cell_type": "code",
   "execution_count": 10,
   "id": "0adf5dcb-64eb-480d-8af5-5f5e47c34a60",
   "metadata": {},
   "outputs": [
    {
     "name": "stdout",
     "output_type": "stream",
     "text": [
      "There are 115 patient with data for the 3 time points\n"
     ]
    }
   ],
   "source": [
    "patient_all_time_points = {patient_id: data for patient_id, data in data_patient.items() if len(data) == 3}\n",
    "print(f'There are {len(patient_all_time_points)} patient with data for the 3 time points')"
   ]
  },
  {
   "cell_type": "code",
   "execution_count": 11,
   "id": "bf1dddc8-b664-496e-acb0-313724c70bb1",
   "metadata": {},
   "outputs": [
    {
     "name": "stdout",
     "output_type": "stream",
     "text": [
      "There are 177 patient with data for DIAG time point\n"
     ]
    }
   ],
   "source": [
    "patient_diag_time_point = {patient_id: {'DIAG': data['DIAG']} for patient_id, data in data_patient.items() if data.get('DIAG') is not None}\n",
    "print(f'There are {len(patient_diag_time_point)} patient with data for DIAG time point')"
   ]
  },
  {
   "cell_type": "code",
   "execution_count": 12,
   "id": "78fb570f-3c22-44b8-a32d-34fb0d863ad4",
   "metadata": {},
   "outputs": [
    {
     "name": "stdout",
     "output_type": "stream",
     "text": [
      "There are 143 patient with data for AVANT_CHIR time point\n"
     ]
    }
   ],
   "source": [
    "patient_chir_time_point = {patient_id: {'AVANT_CHIR': data['AVANT_CHIR']} for patient_id, data in data_patient.items() if data.get('AVANT_CHIR') is not None}\n",
    "print(f'There are {len(patient_chir_time_point)} patient with data for AVANT_CHIR time point')"
   ]
  },
  {
   "cell_type": "code",
   "execution_count": 13,
   "id": "20d72767-2ba1-451d-9455-644c5effee9f",
   "metadata": {},
   "outputs": [
    {
     "name": "stdout",
     "output_type": "stream",
     "text": [
      "There are 143 patient with data for FIN_TT time point\n"
     ]
    }
   ],
   "source": [
    "patient_end_time_point = {patient_id: {'FIN_TT': data['FIN_TT']} for patient_id, data in data_patient.items() if data.get('FIN_TT') is not None}\n",
    "print(f'There are {len(patient_end_time_point)} patient with data for FIN_TT time point')"
   ]
  },
  {
   "cell_type": "markdown",
   "id": "cee3ddd3-3cce-4476-910e-a72894f1ff69",
   "metadata": {
    "tags": []
   },
   "source": [
    "## Check no error"
   ]
  },
  {
   "cell_type": "code",
   "execution_count": 14,
   "id": "727313be-c69f-47ed-8380-29c4f60ff3cf",
   "metadata": {},
   "outputs": [
    {
     "data": {
      "text/plain": [
       "463"
      ]
     },
     "execution_count": 14,
     "metadata": {},
     "output_type": "execute_result"
    }
   ],
   "source": [
    "nb_files = 0\n",
    "for data in data_patient.values():\n",
    "    nb_files += len(data.values())\n",
    "nb_files"
   ]
  },
  {
   "cell_type": "code",
   "execution_count": 15,
   "id": "ce2d1bc6-7eb0-4f9d-a3fa-fa66026b5803",
   "metadata": {},
   "outputs": [
    {
     "data": {
      "text/plain": [
       "463"
      ]
     },
     "execution_count": 15,
     "metadata": {},
     "output_type": "execute_result"
    }
   ],
   "source": [
    "177 + 143 * 2"
   ]
  },
  {
   "cell_type": "markdown",
   "id": "6b38b9c7-7d39-4a59-96c0-3166fcc64cde",
   "metadata": {
    "tags": []
   },
   "source": [
    "## Transform data\n",
    "### Transpose data"
   ]
  },
  {
   "cell_type": "code",
   "execution_count": 24,
   "id": "f5788bdb-61a4-4cd2-a4b0-f14a45dc4791",
   "metadata": {},
   "outputs": [],
   "source": [
    "def transpose_data_one_patient(data: pd.DataFrame) -> pd.DataFrame:\n",
    "    one_data = data.copy()\n",
    "    one_data = one_data[['id', 'ratio', 'zscore']].set_index('id').stack().reset_index()\n",
    "    one_data.columns = ['id', 'score_label', 'value']\n",
    "    one_data['col_name'] = one_data['id'] + '_' + one_data['score_label']\n",
    "    return one_data.set_index('col_name')['value'].to_frame().T"
   ]
  },
  {
   "cell_type": "code",
   "execution_count": 17,
   "id": "4d03804b-363b-4d2b-8a39-0f89c72f00e9",
   "metadata": {},
   "outputs": [],
   "source": [
    "def format_all_data_as_df(patient_data: defaultdict) -> pd.DataFrame:\n",
    "    transpose_data = []\n",
    "    ids_patient = []\n",
    "    \n",
    "    for patient_id, data in patient_data.items():\n",
    "        for time_point, data in data.items():\n",
    "            transpose_data.append(transpose_data_one_patient(data))\n",
    "            ids_patient.append((patient_id, time_point))\n",
    "        \n",
    "    transpose_data_df = pd.concat(transpose_data, axis=0).reset_index(drop=True)\n",
    "    ids_patient_df = pd.DataFrame(ids_patient, columns=['patient_id', 'time_point'])\n",
    "    \n",
    "    return pd.concat([ids_patient_df, transpose_data_df], axis=1)"
   ]
  },
  {
   "cell_type": "code",
   "execution_count": 18,
   "id": "b5b70b2a-0ffc-474a-9c1e-a6bc38337758",
   "metadata": {},
   "outputs": [],
   "source": [
    "patient_all_time_points_df = format_all_data_as_df(patient_all_time_points)"
   ]
  },
  {
   "cell_type": "code",
   "execution_count": 19,
   "id": "8af294fd-2406-4107-9f7a-4909ec9f9b4e",
   "metadata": {},
   "outputs": [],
   "source": [
    "patient_diag_time_point_df = format_all_data_as_df(patient_diag_time_point)"
   ]
  },
  {
   "cell_type": "code",
   "execution_count": 20,
   "id": "85e8e74b-f225-4ca9-b274-786920b2fcdc",
   "metadata": {},
   "outputs": [],
   "source": [
    "patient_chir_time_point_df = format_all_data_as_df(patient_chir_time_point)"
   ]
  },
  {
   "cell_type": "code",
   "execution_count": 21,
   "id": "53940683-1bea-4804-8e05-bdf9b62771a5",
   "metadata": {},
   "outputs": [],
   "source": [
    "patient_end_time_point_df = format_all_data_as_df(patient_end_time_point)"
   ]
  },
  {
   "cell_type": "markdown",
   "id": "261d5128-083b-4c1c-bcb2-2482a1abcb24",
   "metadata": {
    "tags": []
   },
   "source": [
    "## Clean metadata"
   ]
  },
  {
   "cell_type": "code",
   "execution_count": 22,
   "id": "91bf18af-8ec5-40ce-afe6-1189774b4154",
   "metadata": {},
   "outputs": [],
   "source": [
    "metadata_df = metadata.copy()\n",
    "del metadata_df['Unnamed: 0']"
   ]
  },
  {
   "cell_type": "code",
   "execution_count": 27,
   "id": "79a5f22c-df04-4531-be9f-6f30b9d3ecab",
   "metadata": {},
   "outputs": [],
   "source": [
    "metadata_df = metadata_df.sort_values('CPA', ascending=False).drop_duplicates(['id.x', 'time_point'], keep='first')"
   ]
  },
  {
   "cell_type": "code",
   "execution_count": 28,
   "id": "ed567419-7675-49f9-a6eb-4686838f0fd9",
   "metadata": {},
   "outputs": [],
   "source": [
    "metadata_df.rename(columns={'id.x': 'patient_id'}, inplace=True)\n",
    "metadata_df['time_point'] = metadata_df['time_point'].str.replace('FIN_TTT', 'FIN_TT')"
   ]
  },
  {
   "cell_type": "markdown",
   "id": "a0e95488-4177-4987-b562-f312bf4ad93d",
   "metadata": {
    "tags": []
   },
   "source": [
    "## Merge metadata and data"
   ]
  },
  {
   "cell_type": "code",
   "execution_count": 30,
   "id": "578c04e9-398f-4507-8942-e29df88502fa",
   "metadata": {},
   "outputs": [],
   "source": [
    "data_all_time_points = pd.merge(metadata_df, patient_all_time_points_df, on=['patient_id', 'time_point'], how='right')\n",
    "columns_to_keep = ['patient_id', 'time_point'] + [col for col in data_all_time_points.columns if col.endswith('_ratio') or col.endswith('_zscore') or col == 'CPA']\n",
    "data_all_time_points = data_all_time_points[columns_to_keep].set_index(['time_point', 'patient_id']).unstack('time_point')\n",
    "data_all_time_points.columns = ['_'.join(col).strip() for col in data_all_time_points.columns.values]\n",
    "data_all_time_points.reset_index(inplace=True)\n",
    "data_all_time_points = pd.merge(\n",
    "    metadata_df[['patient_id', 'sex', 'age', 'htum', 'relapse', 'etat2', \"time_OS\", \"time_PFS\"]], data_all_time_points, on='patient_id', how='right').drop_duplicates('patient_id').reset_index(drop=True)"
   ]
  },
  {
   "cell_type": "code",
   "execution_count": 31,
   "id": "1aec920f-6dce-4381-875a-3634f7a470d7",
   "metadata": {},
   "outputs": [],
   "source": [
    "data_diag = pd.merge(metadata_df, patient_diag_time_point_df, on=['patient_id', 'time_point'], how='right')\n",
    "data_chir = pd.merge(metadata_df, patient_chir_time_point_df, on=['patient_id', 'time_point'], how='right')\n",
    "data_end = pd.merge(metadata_df, patient_end_time_point_df, on=['patient_id', 'time_point'], how='right')"
   ]
  },
  {
   "cell_type": "code",
   "execution_count": 32,
   "id": "96c7e74d-0434-47a3-8977-f911595acaad",
   "metadata": {},
   "outputs": [],
   "source": [
    "join_columns = ['patient_id', 'sex', 'age', 'htum', 'relapse']\n",
    "columns_to_keep = join_columns + ['CPA']\n",
    "\n",
    "metadata_diag = metadata_df.loc[metadata_df['time_point'] == 'DIAG', columns_to_keep]\n",
    "metadata_diag.rename(columns={'CPA': 'CPA_DIAG'}, inplace=True)\n",
    "\n",
    "metadata_chir = metadata_df.loc[metadata_df['time_point'] == 'AVANT_CHIR', columns_to_keep]\n",
    "metadata_chir.rename(columns={'CPA': 'CPA_AVANT_CHIR'}, inplace=True)\n",
    "\n",
    "metadata_end = metadata_df.loc[metadata_df['time_point'] == 'FIN_TT', columns_to_keep]\n",
    "metadata_end.rename(columns={'CPA': 'CPA_FIN_TT'}, inplace=True)\n",
    "\n",
    "metadata_patients_all_time_points = pd.merge(metadata_diag, metadata_chir, how='inner', on=join_columns)\n",
    "metadata_patients_all_time_points = pd.merge(metadata_patients_all_time_points, metadata_end, how='inner', on=join_columns)"
   ]
  },
  {
   "cell_type": "code",
   "execution_count": 33,
   "id": "468960a3-8249-4882-aadb-206c215d2e3b",
   "metadata": {},
   "outputs": [],
   "source": [
    "OUTPUT_DIR = Path('..') / 'data' / 'intermediate'\n",
    "\n",
    "# all\n",
    "data_all_time_points.to_csv(OUTPUT_DIR / 'data_all_time_point.csv', index=False)\n",
    "metadata_patients_all_time_points.to_csv(OUTPUT_DIR / 'metadata.csv', index=False)\n",
    "\n",
    "# per time\n",
    "data_diag.to_csv(OUTPUT_DIR / \"data_diag.csv\", index=False)\n",
    "data_chir.to_csv(OUTPUT_DIR / \"data_chir.csv\", index=False)\n",
    "data_end.to_csv(OUTPUT_DIR / \"data_end.csv\", index=False)"
   ]
  },
  {
   "cell_type": "markdown",
   "id": "6ca7e004-5f26-40c6-9286-29eed40ebb8e",
   "metadata": {
    "tags": []
   },
   "source": [
    "# Load processed data"
   ]
  },
  {
   "cell_type": "code",
   "execution_count": 34,
   "id": "b0716c3d-e37d-4c4f-9eb3-823b7252af61",
   "metadata": {},
   "outputs": [],
   "source": [
    "OUTPUT_DIR = Path('..') / 'data' / 'intermediate'\n",
    "\n",
    "metadata_patients_all_time_points = pd.read_csv(OUTPUT_DIR / 'metadata.csv')\n",
    "data_diag = pd.read_csv(OUTPUT_DIR / 'diag.csv')\n",
    "data_all = pd.read_csv(OUTPUT_DIR / 'data_all_time_point.csv')"
   ]
  },
  {
   "cell_type": "code",
   "execution_count": 36,
   "id": "289b8197-66fb-41a6-94e1-e97b4ee61b77",
   "metadata": {},
   "outputs": [
    {
     "data": {
      "text/html": [
       "<div>\n",
       "<style scoped>\n",
       "    .dataframe tbody tr th:only-of-type {\n",
       "        vertical-align: middle;\n",
       "    }\n",
       "\n",
       "    .dataframe tbody tr th {\n",
       "        vertical-align: top;\n",
       "    }\n",
       "\n",
       "    .dataframe thead th {\n",
       "        text-align: right;\n",
       "    }\n",
       "</style>\n",
       "<table border=\"1\" class=\"dataframe\">\n",
       "  <thead>\n",
       "    <tr style=\"text-align: right;\">\n",
       "      <th></th>\n",
       "      <th>patient_id</th>\n",
       "      <th>sex</th>\n",
       "      <th>age</th>\n",
       "      <th>htum</th>\n",
       "      <th>relapse</th>\n",
       "      <th>etat2</th>\n",
       "      <th>time_OS</th>\n",
       "      <th>time_PFS</th>\n",
       "      <th>CPA_AVANT_CHIR</th>\n",
       "      <th>CPA_DIAG</th>\n",
       "      <th>...</th>\n",
       "      <th>Y:21000001-22000000_ratio_FIN_TT</th>\n",
       "      <th>Y:21000001-22000000_zscore_AVANT_CHIR</th>\n",
       "      <th>Y:21000001-22000000_zscore_DIAG</th>\n",
       "      <th>Y:21000001-22000000_zscore_FIN_TT</th>\n",
       "      <th>Y:56000001-57000000_ratio_AVANT_CHIR</th>\n",
       "      <th>Y:56000001-57000000_ratio_DIAG</th>\n",
       "      <th>Y:56000001-57000000_ratio_FIN_TT</th>\n",
       "      <th>Y:56000001-57000000_zscore_AVANT_CHIR</th>\n",
       "      <th>Y:56000001-57000000_zscore_DIAG</th>\n",
       "      <th>Y:56000001-57000000_zscore_FIN_TT</th>\n",
       "    </tr>\n",
       "  </thead>\n",
       "  <tbody>\n",
       "    <tr>\n",
       "      <th>0</th>\n",
       "      <td>OS2006_1</td>\n",
       "      <td>Feminin</td>\n",
       "      <td>17.58</td>\n",
       "      <td>10.6</td>\n",
       "      <td>0.0</td>\n",
       "      <td>0.0</td>\n",
       "      <td>2999.0</td>\n",
       "      <td>NaN</td>\n",
       "      <td>0.13178</td>\n",
       "      <td>0.15446</td>\n",
       "      <td>...</td>\n",
       "      <td>NaN</td>\n",
       "      <td>NaN</td>\n",
       "      <td>NaN</td>\n",
       "      <td>NaN</td>\n",
       "      <td>NaN</td>\n",
       "      <td>NaN</td>\n",
       "      <td>NaN</td>\n",
       "      <td>NaN</td>\n",
       "      <td>NaN</td>\n",
       "      <td>NaN</td>\n",
       "    </tr>\n",
       "    <tr>\n",
       "      <th>1</th>\n",
       "      <td>OS2006_10</td>\n",
       "      <td>Masculin</td>\n",
       "      <td>14.51</td>\n",
       "      <td>11.1</td>\n",
       "      <td>0.0</td>\n",
       "      <td>1.0</td>\n",
       "      <td>607.0</td>\n",
       "      <td>NaN</td>\n",
       "      <td>0.12377</td>\n",
       "      <td>0.34361</td>\n",
       "      <td>...</td>\n",
       "      <td>-0.011403</td>\n",
       "      <td>-0.425711</td>\n",
       "      <td>1.538056</td>\n",
       "      <td>-0.209107</td>\n",
       "      <td>-0.006372</td>\n",
       "      <td>-0.084078</td>\n",
       "      <td>-0.067204</td>\n",
       "      <td>-0.229573</td>\n",
       "      <td>-1.442374</td>\n",
       "      <td>-1.568502</td>\n",
       "    </tr>\n",
       "    <tr>\n",
       "      <th>2</th>\n",
       "      <td>OS2006_11</td>\n",
       "      <td>Masculin</td>\n",
       "      <td>18.83</td>\n",
       "      <td>7.0</td>\n",
       "      <td>0.0</td>\n",
       "      <td>0.0</td>\n",
       "      <td>2581.0</td>\n",
       "      <td>NaN</td>\n",
       "      <td>0.11279</td>\n",
       "      <td>0.17640</td>\n",
       "      <td>...</td>\n",
       "      <td>-0.131256</td>\n",
       "      <td>-0.501901</td>\n",
       "      <td>-1.155128</td>\n",
       "      <td>-4.294767</td>\n",
       "      <td>0.135906</td>\n",
       "      <td>0.177465</td>\n",
       "      <td>0.205231</td>\n",
       "      <td>4.687495</td>\n",
       "      <td>4.854536</td>\n",
       "      <td>7.090777</td>\n",
       "    </tr>\n",
       "    <tr>\n",
       "      <th>3</th>\n",
       "      <td>OS2006_12</td>\n",
       "      <td>Feminin</td>\n",
       "      <td>11.69</td>\n",
       "      <td>12.4</td>\n",
       "      <td>0.0</td>\n",
       "      <td>0.0</td>\n",
       "      <td>445.0</td>\n",
       "      <td>122.0</td>\n",
       "      <td>0.27524</td>\n",
       "      <td>0.56731</td>\n",
       "      <td>...</td>\n",
       "      <td>NaN</td>\n",
       "      <td>NaN</td>\n",
       "      <td>NaN</td>\n",
       "      <td>NaN</td>\n",
       "      <td>NaN</td>\n",
       "      <td>NaN</td>\n",
       "      <td>NaN</td>\n",
       "      <td>NaN</td>\n",
       "      <td>NaN</td>\n",
       "      <td>NaN</td>\n",
       "    </tr>\n",
       "    <tr>\n",
       "      <th>4</th>\n",
       "      <td>OS2006_149</td>\n",
       "      <td>Feminin</td>\n",
       "      <td>15.91</td>\n",
       "      <td>8.0</td>\n",
       "      <td>1.0</td>\n",
       "      <td>0.0</td>\n",
       "      <td>2440.0</td>\n",
       "      <td>550.0</td>\n",
       "      <td>0.14314</td>\n",
       "      <td>0.28877</td>\n",
       "      <td>...</td>\n",
       "      <td>NaN</td>\n",
       "      <td>NaN</td>\n",
       "      <td>NaN</td>\n",
       "      <td>NaN</td>\n",
       "      <td>NaN</td>\n",
       "      <td>NaN</td>\n",
       "      <td>NaN</td>\n",
       "      <td>NaN</td>\n",
       "      <td>NaN</td>\n",
       "      <td>NaN</td>\n",
       "    </tr>\n",
       "  </tbody>\n",
       "</table>\n",
       "<p>5 rows × 16025 columns</p>\n",
       "</div>"
      ],
      "text/plain": [
       "   patient_id       sex    age  htum  relapse  etat2  time_OS  time_PFS  \\\n",
       "0    OS2006_1   Feminin  17.58  10.6      0.0    0.0   2999.0       NaN   \n",
       "1   OS2006_10  Masculin  14.51  11.1      0.0    1.0    607.0       NaN   \n",
       "2   OS2006_11  Masculin  18.83   7.0      0.0    0.0   2581.0       NaN   \n",
       "3   OS2006_12   Feminin  11.69  12.4      0.0    0.0    445.0     122.0   \n",
       "4  OS2006_149   Feminin  15.91   8.0      1.0    0.0   2440.0     550.0   \n",
       "\n",
       "   CPA_AVANT_CHIR  CPA_DIAG  ...  Y:21000001-22000000_ratio_FIN_TT  \\\n",
       "0         0.13178   0.15446  ...                               NaN   \n",
       "1         0.12377   0.34361  ...                         -0.011403   \n",
       "2         0.11279   0.17640  ...                         -0.131256   \n",
       "3         0.27524   0.56731  ...                               NaN   \n",
       "4         0.14314   0.28877  ...                               NaN   \n",
       "\n",
       "   Y:21000001-22000000_zscore_AVANT_CHIR  Y:21000001-22000000_zscore_DIAG  \\\n",
       "0                                    NaN                              NaN   \n",
       "1                              -0.425711                         1.538056   \n",
       "2                              -0.501901                        -1.155128   \n",
       "3                                    NaN                              NaN   \n",
       "4                                    NaN                              NaN   \n",
       "\n",
       "   Y:21000001-22000000_zscore_FIN_TT  Y:56000001-57000000_ratio_AVANT_CHIR  \\\n",
       "0                                NaN                                   NaN   \n",
       "1                          -0.209107                             -0.006372   \n",
       "2                          -4.294767                              0.135906   \n",
       "3                                NaN                                   NaN   \n",
       "4                                NaN                                   NaN   \n",
       "\n",
       "   Y:56000001-57000000_ratio_DIAG  Y:56000001-57000000_ratio_FIN_TT  \\\n",
       "0                             NaN                               NaN   \n",
       "1                       -0.084078                         -0.067204   \n",
       "2                        0.177465                          0.205231   \n",
       "3                             NaN                               NaN   \n",
       "4                             NaN                               NaN   \n",
       "\n",
       "   Y:56000001-57000000_zscore_AVANT_CHIR  Y:56000001-57000000_zscore_DIAG  \\\n",
       "0                                    NaN                              NaN   \n",
       "1                              -0.229573                        -1.442374   \n",
       "2                               4.687495                         4.854536   \n",
       "3                                    NaN                              NaN   \n",
       "4                                    NaN                              NaN   \n",
       "\n",
       "   Y:56000001-57000000_zscore_FIN_TT  \n",
       "0                                NaN  \n",
       "1                          -1.568502  \n",
       "2                           7.090777  \n",
       "3                                NaN  \n",
       "4                                NaN  \n",
       "\n",
       "[5 rows x 16025 columns]"
      ]
     },
     "execution_count": 36,
     "metadata": {},
     "output_type": "execute_result"
    }
   ],
   "source": [
    "data_all.head()"
   ]
  },
  {
   "cell_type": "markdown",
   "id": "745c03bb-f56b-49f7-8869-4af3562cf94e",
   "metadata": {
    "tags": []
   },
   "source": [
    "# Data Analysis"
   ]
  },
  {
   "cell_type": "code",
   "execution_count": 37,
   "id": "8bb72d0a-2f75-4944-b9ba-0890e5faae76",
   "metadata": {},
   "outputs": [
    {
     "data": {
      "text/html": [
       "<div>\n",
       "<style scoped>\n",
       "    .dataframe tbody tr th:only-of-type {\n",
       "        vertical-align: middle;\n",
       "    }\n",
       "\n",
       "    .dataframe tbody tr th {\n",
       "        vertical-align: top;\n",
       "    }\n",
       "\n",
       "    .dataframe thead th {\n",
       "        text-align: right;\n",
       "    }\n",
       "</style>\n",
       "<table border=\"1\" class=\"dataframe\">\n",
       "  <thead>\n",
       "    <tr style=\"text-align: right;\">\n",
       "      <th></th>\n",
       "      <th>patient_id</th>\n",
       "      <th>sex</th>\n",
       "      <th>age</th>\n",
       "      <th>htum</th>\n",
       "      <th>relapse</th>\n",
       "      <th>CPA_DIAG</th>\n",
       "      <th>CPA_AVANT_CHIR</th>\n",
       "      <th>CPA_FIN_TT</th>\n",
       "    </tr>\n",
       "  </thead>\n",
       "  <tbody>\n",
       "    <tr>\n",
       "      <th>0</th>\n",
       "      <td>OS2006_424</td>\n",
       "      <td>Feminin</td>\n",
       "      <td>12.91</td>\n",
       "      <td>9.3</td>\n",
       "      <td>1</td>\n",
       "      <td>1.73994</td>\n",
       "      <td>0.14075</td>\n",
       "      <td>0.16581</td>\n",
       "    </tr>\n",
       "    <tr>\n",
       "      <th>1</th>\n",
       "      <td>OS2006_489</td>\n",
       "      <td>Feminin</td>\n",
       "      <td>10.17</td>\n",
       "      <td>13.0</td>\n",
       "      <td>1</td>\n",
       "      <td>1.38208</td>\n",
       "      <td>0.22717</td>\n",
       "      <td>0.21355</td>\n",
       "    </tr>\n",
       "    <tr>\n",
       "      <th>2</th>\n",
       "      <td>OS2006_543</td>\n",
       "      <td>Feminin</td>\n",
       "      <td>15.62</td>\n",
       "      <td>15.0</td>\n",
       "      <td>1</td>\n",
       "      <td>1.37484</td>\n",
       "      <td>0.16444</td>\n",
       "      <td>0.17992</td>\n",
       "    </tr>\n",
       "    <tr>\n",
       "      <th>3</th>\n",
       "      <td>OS2006_252</td>\n",
       "      <td>Feminin</td>\n",
       "      <td>12.10</td>\n",
       "      <td>6.7</td>\n",
       "      <td>0</td>\n",
       "      <td>1.31617</td>\n",
       "      <td>0.25735</td>\n",
       "      <td>0.14705</td>\n",
       "    </tr>\n",
       "    <tr>\n",
       "      <th>4</th>\n",
       "      <td>OS2006_430</td>\n",
       "      <td>Feminin</td>\n",
       "      <td>8.25</td>\n",
       "      <td>7.0</td>\n",
       "      <td>0</td>\n",
       "      <td>1.25124</td>\n",
       "      <td>0.25564</td>\n",
       "      <td>0.16828</td>\n",
       "    </tr>\n",
       "  </tbody>\n",
       "</table>\n",
       "</div>"
      ],
      "text/plain": [
       "   patient_id      sex    age  htum  relapse  CPA_DIAG  CPA_AVANT_CHIR  \\\n",
       "0  OS2006_424  Feminin  12.91   9.3        1   1.73994         0.14075   \n",
       "1  OS2006_489  Feminin  10.17  13.0        1   1.38208         0.22717   \n",
       "2  OS2006_543  Feminin  15.62  15.0        1   1.37484         0.16444   \n",
       "3  OS2006_252  Feminin  12.10   6.7        0   1.31617         0.25735   \n",
       "4  OS2006_430  Feminin   8.25   7.0        0   1.25124         0.25564   \n",
       "\n",
       "   CPA_FIN_TT  \n",
       "0     0.16581  \n",
       "1     0.21355  \n",
       "2     0.17992  \n",
       "3     0.14705  \n",
       "4     0.16828  "
      ]
     },
     "execution_count": 37,
     "metadata": {},
     "output_type": "execute_result"
    }
   ],
   "source": [
    "metadata_patients_all_time_points.head()"
   ]
  },
  {
   "cell_type": "code",
   "execution_count": 38,
   "id": "c55e66cb-3eb6-4e17-9e3f-5f89d4c5e9e7",
   "metadata": {},
   "outputs": [],
   "source": [
    "metadata_patients_all_time_points.relapse = metadata_patients_all_time_points.relapse.astype(\"category\")"
   ]
  },
  {
   "cell_type": "code",
   "execution_count": 39,
   "id": "315536c9-4e72-4712-bc4e-ebb98981df17",
   "metadata": {},
   "outputs": [
    {
     "data": {
      "text/html": [
       "        <script type=\"text/javascript\">\n",
       "        window.PlotlyConfig = {MathJaxConfig: 'local'};\n",
       "        if (window.MathJax) {MathJax.Hub.Config({SVG: {font: \"STIX-Web\"}});}\n",
       "        if (typeof require !== 'undefined') {\n",
       "        require.undef(\"plotly\");\n",
       "        requirejs.config({\n",
       "            paths: {\n",
       "                'plotly': ['https://cdn.plot.ly/plotly-latest.min']\n",
       "            }\n",
       "        });\n",
       "        require(['plotly'], function(Plotly) {\n",
       "            window._Plotly = Plotly;\n",
       "        });\n",
       "        }\n",
       "        </script>\n",
       "        "
      ]
     },
     "metadata": {},
     "output_type": "display_data"
    }
   ],
   "source": [
    "import plotly.express as px\n",
    "from plotly.offline import init_notebook_mode\n",
    "\n",
    "init_notebook_mode(connected=True)"
   ]
  },
  {
   "cell_type": "code",
   "execution_count": 40,
   "id": "fa2d2476-ac51-4154-9c88-117eb40bce95",
   "metadata": {},
   "outputs": [
    {
     "data": {
      "text/plain": [
       "<AxesSubplot:ylabel='relapse'>"
      ]
     },
     "execution_count": 40,
     "metadata": {},
     "output_type": "execute_result"
    },
    {
     "data": {
      "image/png": "[encoded data removed]",
      "text/plain": [
       "<Figure size 432x288 with 1 Axes>"
      ]
     },
     "metadata": {},
     "output_type": "display_data"
    }
   ],
   "source": [
    "# dataset is balanced, we can use AUC as metric\n",
    "metadata_patients_all_time_points.relapse.value_counts().plot(kind='pie')"
   ]
  },
  {
   "cell_type": "code",
   "execution_count": 55,
   "id": "d297f1a7-105d-4280-bd28-dc69927a7e52",
   "metadata": {},
   "outputs": [
    {
     "name": "stderr",
     "output_type": "stream",
     "text": [
      "/opt/homebrew/Caskroom/miniconda/base/lib/python3.8/site-packages/seaborn/distributions.py:2557: FutureWarning:\n",
      "\n",
      "`distplot` is a deprecated function and will be removed in a future version. Please adapt your code to use either `displot` (a figure-level function with similar flexibility) or `histplot` (an axes-level function for histograms).\n",
      "\n"
     ]
    },
    {
     "data": {
      "text/plain": [
       "<AxesSubplot:xlabel='time_OS', ylabel='Density'>"
      ]
     },
     "execution_count": 55,
     "metadata": {},
     "output_type": "execute_result"
    },
    {
     "data": {
      "image/png": "[encoded data removed]",
      "text/plain": [
       "<Figure size 432x288 with 1 Axes>"
      ]
     },
     "metadata": {
      "needs_background": "light"
     },
     "output_type": "display_data"
    }
   ],
   "source": [
    "sns.distplot(data_all.time_OS, bins=10)"
   ]
  },
  {
   "cell_type": "code",
   "execution_count": 57,
   "id": "158addfc-0bd2-4a58-88d0-b61944c0ee19",
   "metadata": {},
   "outputs": [
    {
     "data": {
      "application/vnd.plotly.v1+json": {
       "config": {
        "plotlyServerURL": "https://plot.ly"
       },
       "data": [
        {
         "alignmentgroup": "True",
         "hovertemplate": "variable=%{x}<br>value=%{y}<extra></extra>",
         "legendgroup": "",
         "marker": {
          "color": "#636efa"
         },
         "name": "",
         "notched": false,
         "offsetgroup": "",
         "orientation": "v",
         "showlegend": false,
         "type": "box",
         "x": [
          "time_OS",
          "time_OS",
          "time_OS",
          "time_OS",
          "time_OS",
          "time_OS",
          "time_OS",
          "time_OS",
          "time_OS",
          "time_OS",
          "time_OS",
          "time_OS",
          "time_OS",
          "time_OS",
          "time_OS",
          "time_OS",
          "time_OS",
          "time_OS",
          "time_OS",
          "time_OS",
          "time_OS",
          "time_OS",
          "time_OS",
          "time_OS",
          "time_OS",
          "time_OS",
          "time_OS",
          "time_OS",
          "time_OS",
          "time_OS",
          "time_OS",
          "time_OS",
          "time_OS",
          "time_OS",
          "time_OS",
          "time_OS",
          "time_OS",
          "time_OS",
          "time_OS",
          "time_OS",
          "time_OS",
          "time_OS",
          "time_OS",
          "time_OS",
          "time_OS",
          "time_OS",
          "time_OS",
          "time_OS",
          "time_OS",
          "time_OS",
          "time_OS",
          "time_OS",
          "time_OS",
          "time_OS",
          "time_OS",
          "time_OS",
          "time_OS",
          "time_OS",
          "time_OS",
          "time_OS",
          "time_OS",
          "time_OS",
          "time_OS",
          "time_OS",
          "time_OS",
          "time_OS",
          "time_OS",
          "time_OS",
          "time_OS",
          "time_OS",
          "time_OS",
          "time_OS",
          "time_OS",
          "time_OS",
          "time_OS",
          "time_OS",
          "time_OS",
          "time_OS",
          "time_OS",
          "time_OS",
          "time_OS",
          "time_OS",
          "time_OS",
          "time_OS",
          "time_OS",
          "time_OS",
          "time_OS",
          "time_OS",
          "time_OS",
          "time_OS",
          "time_OS",
          "time_OS",
          "time_OS",
          "time_OS",
          "time_OS",
          "time_OS",
          "time_OS",
          "time_OS",
          "time_OS",
          "time_OS",
          "time_OS",
          "time_OS",
          "time_OS",
          "time_OS",
          "time_OS",
          "time_OS",
          "time_OS",
          "time_OS",
          "time_OS",
          "time_OS",
          "time_OS",
          "time_OS",
          "time_OS",
          "time_OS",
          "time_OS"
         ],
         "x0": " ",
         "xaxis": "x",
         "y": [
          2999,
          607,
          2581,
          445,
          2440,
          409,
          2984,
          1465,
          1746,
          1248,
          2864,
          2017,
          1571,
          2739,
          null,
          2467,
          2700,
          1966,
          1555,
          355,
          2419,
          2283,
          1005,
          null,
          2188,
          2179,
          2280,
          1467,
          743,
          2107,
          453,
          1415,
          434,
          1851,
          854,
          1742,
          1786,
          1676,
          1707,
          1698,
          868,
          1613,
          1427,
          1592,
          1131,
          1036,
          1019,
          1512,
          1484,
          1404,
          1313,
          1187,
          1205,
          1332,
          1392,
          1352,
          1379,
          428,
          773,
          1370,
          590,
          806,
          1313,
          1127,
          1295,
          423,
          1210,
          1216,
          614,
          321,
          1223,
          1042,
          null,
          1156,
          400,
          1187,
          1195,
          1025,
          1122,
          637,
          1084,
          1100,
          1040,
          349,
          522,
          1008,
          null,
          868,
          882,
          944,
          882,
          460,
          641,
          686,
          null,
          829,
          775,
          null,
          662,
          780,
          764,
          717,
          621,
          712,
          1153,
          2520,
          2168,
          1202,
          2052,
          2665,
          2803,
          1452,
          975,
          1452,
          3017
         ],
         "y0": " ",
         "yaxis": "y"
        }
       ],
       "layout": {
        "autosize": true,
        "boxmode": "group",
        "legend": {
         "tracegroupgap": 0
        },
        "margin": {
         "t": 60
        },
        "template": {
         "data": {
          "bar": [
           {
            "error_x": {
             "color": "#2a3f5f"
            },
            "error_y": {
             "color": "#2a3f5f"
            },
            "marker": {
             "line": {
              "color": "#E5ECF6",
              "width": 0.5
             }
            },
            "type": "bar"
           }
          ],
          "barpolar": [
           {
            "marker": {
             "line": {
              "color": "#E5ECF6",
              "width": 0.5
             }
            },
            "type": "barpolar"
           }
          ],
          "carpet": [
           {
            "aaxis": {
             "endlinecolor": "#2a3f5f",
             "gridcolor": "white",
             "linecolor": "white",
             "minorgridcolor": "white",
             "startlinecolor": "#2a3f5f"
            },
            "baxis": {
             "endlinecolor": "#2a3f5f",
             "gridcolor": "white",
             "linecolor": "white",
             "minorgridcolor": "white",
             "startlinecolor": "#2a3f5f"
            },
            "type": "carpet"
           }
          ],
          "choropleth": [
           {
            "colorbar": {
             "outlinewidth": 0,
             "ticks": ""
            },
            "type": "choropleth"
           }
          ],
          "contour": [
           {
            "colorbar": {
             "outlinewidth": 0,
             "ticks": ""
            },
            "colorscale": [
             [
              0,
              "#0d0887"
             ],
             [
              0.1111111111111111,
              "#46039f"
             ],
             [
              0.2222222222222222,
              "#7201a8"
             ],
             [
              0.3333333333333333,
              "#9c179e"
             ],
             [
              0.4444444444444444,
              "#bd3786"
             ],
             [
              0.5555555555555556,
              "#d8576b"
             ],
             [
              0.6666666666666666,
              "#ed7953"
             ],
             [
              0.7777777777777778,
              "#fb9f3a"
             ],
             [
              0.8888888888888888,
              "#fdca26"
             ],
             [
              1,
              "#f0f921"
             ]
            ],
            "type": "contour"
           }
          ],
          "contourcarpet": [
           {
            "colorbar": {
             "outlinewidth": 0,
             "ticks": ""
            },
            "type": "contourcarpet"
           }
          ],
          "heatmap": [
           {
            "colorbar": {
             "outlinewidth": 0,
             "ticks": ""
            },
            "colorscale": [
             [
              0,
              "#0d0887"
             ],
             [
              0.1111111111111111,
              "#46039f"
             ],
             [
              0.2222222222222222,
              "#7201a8"
             ],
             [
              0.3333333333333333,
              "#9c179e"
             ],
             [
              0.4444444444444444,
              "#bd3786"
             ],
             [
              0.5555555555555556,
              "#d8576b"
             ],
             [
              0.6666666666666666,
              "#ed7953"
             ],
             [
              0.7777777777777778,
              "#fb9f3a"
             ],
             [
              0.8888888888888888,
              "#fdca26"
             ],
             [
              1,
              "#f0f921"
             ]
            ],
            "type": "heatmap"
           }
          ],
          "heatmapgl": [
           {
            "colorbar": {
             "outlinewidth": 0,
             "ticks": ""
            },
            "colorscale": [
             [
              0,
              "#0d0887"
             ],
             [
              0.1111111111111111,
              "#46039f"
             ],
             [
              0.2222222222222222,
              "#7201a8"
             ],
             [
              0.3333333333333333,
              "#9c179e"
             ],
             [
              0.4444444444444444,
              "#bd3786"
             ],
             [
              0.5555555555555556,
              "#d8576b"
             ],
             [
              0.6666666666666666,
              "#ed7953"
             ],
             [
              0.7777777777777778,
              "#fb9f3a"
             ],
             [
              0.8888888888888888,
              "#fdca26"
             ],
             [
              1,
              "#f0f921"
             ]
            ],
            "type": "heatmapgl"
           }
          ],
          "histogram": [
           {
            "marker": {
             "colorbar": {
              "outlinewidth": 0,
              "ticks": ""
             }
            },
            "type": "histogram"
           }
          ],
          "histogram2d": [
           {
            "colorbar": {
             "outlinewidth": 0,
             "ticks": ""
            },
            "colorscale": [
             [
              0,
              "#0d0887"
             ],
             [
              0.1111111111111111,
              "#46039f"
             ],
             [
              0.2222222222222222,
              "#7201a8"
             ],
             [
              0.3333333333333333,
              "#9c179e"
             ],
             [
              0.4444444444444444,
              "#bd3786"
             ],
             [
              0.5555555555555556,
              "#d8576b"
             ],
             [
              0.6666666666666666,
              "#ed7953"
             ],
             [
              0.7777777777777778,
              "#fb9f3a"
             ],
             [
              0.8888888888888888,
              "#fdca26"
             ],
             [
              1,
              "#f0f921"
             ]
            ],
            "type": "histogram2d"
           }
          ],
          "histogram2dcontour": [
           {
            "colorbar": {
             "outlinewidth": 0,
             "ticks": ""
            },
            "colorscale": [
             [
              0,
              "#0d0887"
             ],
             [
              0.1111111111111111,
              "#46039f"
             ],
             [
              0.2222222222222222,
              "#7201a8"
             ],
             [
              0.3333333333333333,
              "#9c179e"
             ],
             [
              0.4444444444444444,
              "#bd3786"
             ],
             [
              0.5555555555555556,
              "#d8576b"
             ],
             [
              0.6666666666666666,
              "#ed7953"
             ],
             [
              0.7777777777777778,
              "#fb9f3a"
             ],
             [
              0.8888888888888888,
              "#fdca26"
             ],
             [
              1,
              "#f0f921"
             ]
            ],
            "type": "histogram2dcontour"
           }
          ],
          "mesh3d": [
           {
            "colorbar": {
             "outlinewidth": 0,
             "ticks": ""
            },
            "type": "mesh3d"
           }
          ],
          "parcoords": [
           {
            "line": {
             "colorbar": {
              "outlinewidth": 0,
              "ticks": ""
             }
            },
            "type": "parcoords"
           }
          ],
          "pie": [
           {
            "automargin": true,
            "type": "pie"
           }
          ],
          "scatter": [
           {
            "marker": {
             "colorbar": {
              "outlinewidth": 0,
              "ticks": ""
             }
            },
            "type": "scatter"
           }
          ],
          "scatter3d": [
           {
            "line": {
             "colorbar": {
              "outlinewidth": 0,
              "ticks": ""
             }
            },
            "marker": {
             "colorbar": {
              "outlinewidth": 0,
              "ticks": ""
             }
            },
            "type": "scatter3d"
           }
          ],
          "scattercarpet": [
           {
            "marker": {
             "colorbar": {
              "outlinewidth": 0,
              "ticks": ""
             }
            },
            "type": "scattercarpet"
           }
          ],
          "scattergeo": [
           {
            "marker": {
             "colorbar": {
              "outlinewidth": 0,
              "ticks": ""
             }
            },
            "type": "scattergeo"
           }
          ],
          "scattergl": [
           {
            "marker": {
             "colorbar": {
              "outlinewidth": 0,
              "ticks": ""
             }
            },
            "type": "scattergl"
           }
          ],
          "scattermapbox": [
           {
            "marker": {
             "colorbar": {
              "outlinewidth": 0,
              "ticks": ""
             }
            },
            "type": "scattermapbox"
           }
          ],
          "scatterpolar": [
           {
            "marker": {
             "colorbar": {
              "outlinewidth": 0,
              "ticks": ""
             }
            },
            "type": "scatterpolar"
           }
          ],
          "scatterpolargl": [
           {
            "marker": {
             "colorbar": {
              "outlinewidth": 0,
              "ticks": ""
             }
            },
            "type": "scatterpolargl"
           }
          ],
          "scatterternary": [
           {
            "marker": {
             "colorbar": {
              "outlinewidth": 0,
              "ticks": ""
             }
            },
            "type": "scatterternary"
           }
          ],
          "surface": [
           {
            "colorbar": {
             "outlinewidth": 0,
             "ticks": ""
            },
            "colorscale": [
             [
              0,
              "#0d0887"
             ],
             [
              0.1111111111111111,
              "#46039f"
             ],
             [
              0.2222222222222222,
              "#7201a8"
             ],
             [
              0.3333333333333333,
              "#9c179e"
             ],
             [
              0.4444444444444444,
              "#bd3786"
             ],
             [
              0.5555555555555556,
              "#d8576b"
             ],
             [
              0.6666666666666666,
              "#ed7953"
             ],
             [
              0.7777777777777778,
              "#fb9f3a"
             ],
             [
              0.8888888888888888,
              "#fdca26"
             ],
             [
              1,
              "#f0f921"
             ]
            ],
            "type": "surface"
           }
          ],
          "table": [
           {
            "cells": {
             "fill": {
              "color": "#EBF0F8"
             },
             "line": {
              "color": "white"
             }
            },
            "header": {
             "fill": {
              "color": "#C8D4E3"
             },
             "line": {
              "color": "white"
             }
            },
            "type": "table"
           }
          ]
         },
         "layout": {
          "annotationdefaults": {
           "arrowcolor": "#2a3f5f",
           "arrowhead": 0,
           "arrowwidth": 1
          },
          "autotypenumbers": "strict",
          "coloraxis": {
           "colorbar": {
            "outlinewidth": 0,
            "ticks": ""
           }
          },
          "colorscale": {
           "diverging": [
            [
             0,
             "#8e0152"
            ],
            [
             0.1,
             "#c51b7d"
            ],
            [
             0.2,
             "#de77ae"
            ],
            [
             0.3,
             "#f1b6da"
            ],
            [
             0.4,
             "#fde0ef"
            ],
            [
             0.5,
             "#f7f7f7"
            ],
            [
             0.6,
             "#e6f5d0"
            ],
            [
             0.7,
             "#b8e186"
            ],
            [
             0.8,
             "#7fbc41"
            ],
            [
             0.9,
             "#4d9221"
            ],
            [
             1,
             "#276419"
            ]
           ],
           "sequential": [
            [
             0,
             "#0d0887"
            ],
            [
             0.1111111111111111,
             "#46039f"
            ],
            [
             0.2222222222222222,
             "#7201a8"
            ],
            [
             0.3333333333333333,
             "#9c179e"
            ],
            [
             0.4444444444444444,
             "#bd3786"
            ],
            [
             0.5555555555555556,
             "#d8576b"
            ],
            [
             0.6666666666666666,
             "#ed7953"
            ],
            [
             0.7777777777777778,
             "#fb9f3a"
            ],
            [
             0.8888888888888888,
             "#fdca26"
            ],
            [
             1,
             "#f0f921"
            ]
           ],
           "sequentialminus": [
            [
             0,
             "#0d0887"
            ],
            [
             0.1111111111111111,
             "#46039f"
            ],
            [
             0.2222222222222222,
             "#7201a8"
            ],
            [
             0.3333333333333333,
             "#9c179e"
            ],
            [
             0.4444444444444444,
             "#bd3786"
            ],
            [
             0.5555555555555556,
             "#d8576b"
            ],
            [
             0.6666666666666666,
             "#ed7953"
            ],
            [
             0.7777777777777778,
             "#fb9f3a"
            ],
            [
             0.8888888888888888,
             "#fdca26"
            ],
            [
             1,
             "#f0f921"
            ]
           ]
          },
          "colorway": [
           "#636efa",
           "#EF553B",
           "#00cc96",
           "#ab63fa",
           "#FFA15A",
           "#19d3f3",
           "#FF6692",
           "#B6E880",
           "#FF97FF",
           "#FECB52"
          ],
          "font": {
           "color": "#2a3f5f"
          },
          "geo": {
           "bgcolor": "white",
           "lakecolor": "white",
           "landcolor": "#E5ECF6",
           "showlakes": true,
           "showland": true,
           "subunitcolor": "white"
          },
          "hoverlabel": {
           "align": "left"
          },
          "hovermode": "closest",
          "mapbox": {
           "style": "light"
          },
          "paper_bgcolor": "white",
          "plot_bgcolor": "#E5ECF6",
          "polar": {
           "angularaxis": {
            "gridcolor": "white",
            "linecolor": "white",
            "ticks": ""
           },
           "bgcolor": "#E5ECF6",
           "radialaxis": {
            "gridcolor": "white",
            "linecolor": "white",
            "ticks": ""
           }
          },
          "scene": {
           "xaxis": {
            "backgroundcolor": "#E5ECF6",
            "gridcolor": "white",
            "gridwidth": 2,
            "linecolor": "white",
            "showbackground": true,
            "ticks": "",
            "zerolinecolor": "white"
           },
           "yaxis": {
            "backgroundcolor": "#E5ECF6",
            "gridcolor": "white",
            "gridwidth": 2,
            "linecolor": "white",
            "showbackground": true,
            "ticks": "",
            "zerolinecolor": "white"
           },
           "zaxis": {
            "backgroundcolor": "#E5ECF6",
            "gridcolor": "white",
            "gridwidth": 2,
            "linecolor": "white",
            "showbackground": true,
            "ticks": "",
            "zerolinecolor": "white"
           }
          },
          "shapedefaults": {
           "line": {
            "color": "#2a3f5f"
           }
          },
          "ternary": {
           "aaxis": {
            "gridcolor": "white",
            "linecolor": "white",
            "ticks": ""
           },
           "baxis": {
            "gridcolor": "white",
            "linecolor": "white",
            "ticks": ""
           },
           "bgcolor": "#E5ECF6",
           "caxis": {
            "gridcolor": "white",
            "linecolor": "white",
            "ticks": ""
           }
          },
          "title": {
           "x": 0.05
          },
          "xaxis": {
           "automargin": true,
           "gridcolor": "white",
           "linecolor": "white",
           "ticks": "",
           "title": {
            "standoff": 15
           },
           "zerolinecolor": "white",
           "zerolinewidth": 2
          },
          "yaxis": {
           "automargin": true,
           "gridcolor": "white",
           "linecolor": "white",
           "ticks": "",
           "title": {
            "standoff": 15
           },
           "zerolinecolor": "white",
           "zerolinewidth": 2
          }
         }
        },
        "xaxis": {
         "anchor": "y",
         "autorange": true,
         "domain": [
          0,
          1
         ],
         "range": [
          -0.5,
          0.5
         ],
         "title": {
          "text": "variable"
         },
         "type": "category"
        },
        "yaxis": {
         "anchor": "x",
         "autorange": true,
         "domain": [
          0,
          1
         ],
         "range": [
          171.22222222222223,
          3166.777777777778
         ],
         "title": {
          "text": "value"
         },
         "type": "linear"
        }
       }
      },
      "image/png": "[encoded data removed]",
      "text/html": [
       "<div>                            <div id=\"ce10a54d-96f0-4741-b9e5-99797cd7c737\" class=\"plotly-graph-div\" style=\"height:525px; width:100%;\"></div>            <script type=\"text/javascript\">                require([\"plotly\"], function(Plotly) {                    window.PLOTLYENV=window.PLOTLYENV || {};                                    if (document.getElementById(\"ce10a54d-96f0-4741-b9e5-99797cd7c737\")) {                    Plotly.newPlot(                        \"ce10a54d-96f0-4741-b9e5-99797cd7c737\",                        [{\"alignmentgroup\": \"True\", \"hovertemplate\": \"variable=%{x}<br>value=%{y}<extra></extra>\", \"legendgroup\": \"\", \"marker\": {\"color\": \"#636efa\"}, \"name\": \"\", \"notched\": false, \"offsetgroup\": \"\", \"orientation\": \"v\", \"showlegend\": false, \"type\": \"box\", \"x\": [\"time_OS\", \"time_OS\", \"time_OS\", \"time_OS\", \"time_OS\", \"time_OS\", \"time_OS\", \"time_OS\", \"time_OS\", \"time_OS\", \"time_OS\", \"time_OS\", \"time_OS\", \"time_OS\", \"time_OS\", \"time_OS\", \"time_OS\", \"time_OS\", \"time_OS\", \"time_OS\", \"time_OS\", \"time_OS\", \"time_OS\", \"time_OS\", \"time_OS\", \"time_OS\", \"time_OS\", \"time_OS\", \"time_OS\", \"time_OS\", \"time_OS\", \"time_OS\", \"time_OS\", \"time_OS\", \"time_OS\", \"time_OS\", \"time_OS\", \"time_OS\", \"time_OS\", \"time_OS\", \"time_OS\", \"time_OS\", \"time_OS\", \"time_OS\", \"time_OS\", \"time_OS\", \"time_OS\", \"time_OS\", \"time_OS\", \"time_OS\", \"time_OS\", \"time_OS\", \"time_OS\", \"time_OS\", \"time_OS\", \"time_OS\", \"time_OS\", \"time_OS\", \"time_OS\", \"time_OS\", \"time_OS\", \"time_OS\", \"time_OS\", \"time_OS\", \"time_OS\", \"time_OS\", \"time_OS\", \"time_OS\", \"time_OS\", \"time_OS\", \"time_OS\", \"time_OS\", \"time_OS\", \"time_OS\", \"time_OS\", \"time_OS\", \"time_OS\", \"time_OS\", \"time_OS\", \"time_OS\", \"time_OS\", \"time_OS\", \"time_OS\", \"time_OS\", \"time_OS\", \"time_OS\", \"time_OS\", \"time_OS\", \"time_OS\", \"time_OS\", \"time_OS\", \"time_OS\", \"time_OS\", \"time_OS\", \"time_OS\", \"time_OS\", \"time_OS\", \"time_OS\", \"time_OS\", \"time_OS\", \"time_OS\", \"time_OS\", \"time_OS\", \"time_OS\", \"time_OS\", \"time_OS\", \"time_OS\", \"time_OS\", \"time_OS\", \"time_OS\", \"time_OS\", \"time_OS\", \"time_OS\", \"time_OS\", \"time_OS\"], \"x0\": \" \", \"xaxis\": \"x\", \"y\": [2999.0, 607.0, 2581.0, 445.0, 2440.0, 409.0, 2984.0, 1465.0, 1746.0, 1248.0, 2864.0, 2017.0, 1571.0, 2739.0, null, 2467.0, 2700.0, 1966.0, 1555.0, 355.0, 2419.0, 2283.0, 1005.0, null, 2188.0, 2179.0, 2280.0, 1467.0, 743.0, 2107.0, 453.0, 1415.0, 434.0, 1851.0, 854.0, 1742.0, 1786.0, 1676.0, 1707.0, 1698.0, 868.0, 1613.0, 1427.0, 1592.0, 1131.0, 1036.0, 1019.0, 1512.0, 1484.0, 1404.0, 1313.0, 1187.0, 1205.0, 1332.0, 1392.0, 1352.0, 1379.0, 428.0, 773.0, 1370.0, 590.0, 806.0, 1313.0, 1127.0, 1295.0, 423.0, 1210.0, 1216.0, 614.0, 321.0, 1223.0, 1042.0, null, 1156.0, 400.0, 1187.0, 1195.0, 1025.0, 1122.0, 637.0, 1084.0, 1100.0, 1040.0, 349.0, 522.0, 1008.0, null, 868.0, 882.0, 944.0, 882.0, 460.0, 641.0, 686.0, null, 829.0, 775.0, null, 662.0, 780.0, 764.0, 717.0, 621.0, 712.0, 1153.0, 2520.0, 2168.0, 1202.0, 2052.0, 2665.0, 2803.0, 1452.0, 975.0, 1452.0, 3017.0], \"y0\": \" \", \"yaxis\": \"y\"}],                        {\"boxmode\": \"group\", \"legend\": {\"tracegroupgap\": 0}, \"margin\": {\"t\": 60}, \"template\": {\"data\": {\"bar\": [{\"error_x\": {\"color\": \"#2a3f5f\"}, \"error_y\": {\"color\": \"#2a3f5f\"}, \"marker\": {\"line\": {\"color\": \"#E5ECF6\", \"width\": 0.5}}, \"type\": \"bar\"}], \"barpolar\": [{\"marker\": {\"line\": {\"color\": \"#E5ECF6\", \"width\": 0.5}}, \"type\": \"barpolar\"}], \"carpet\": [{\"aaxis\": {\"endlinecolor\": \"#2a3f5f\", \"gridcolor\": \"white\", \"linecolor\": \"white\", \"minorgridcolor\": \"white\", \"startlinecolor\": \"#2a3f5f\"}, \"baxis\": {\"endlinecolor\": \"#2a3f5f\", \"gridcolor\": \"white\", \"linecolor\": \"white\", \"minorgridcolor\": \"white\", \"startlinecolor\": \"#2a3f5f\"}, \"type\": \"carpet\"}], \"choropleth\": [{\"colorbar\": {\"outlinewidth\": 0, \"ticks\": \"\"}, \"type\": \"choropleth\"}], \"contour\": [{\"colorbar\": {\"outlinewidth\": 0, \"ticks\": \"\"}, \"colorscale\": [[0.0, \"#0d0887\"], [0.1111111111111111, \"#46039f\"], [0.2222222222222222, \"#7201a8\"], [0.3333333333333333, \"#9c179e\"], [0.4444444444444444, \"#bd3786\"], [0.5555555555555556, \"#d8576b\"], [0.6666666666666666, \"#ed7953\"], [0.7777777777777778, \"#fb9f3a\"], [0.8888888888888888, \"#fdca26\"], [1.0, \"#f0f921\"]], \"type\": \"contour\"}], \"contourcarpet\": [{\"colorbar\": {\"outlinewidth\": 0, \"ticks\": \"\"}, \"type\": \"contourcarpet\"}], \"heatmap\": [{\"colorbar\": {\"outlinewidth\": 0, \"ticks\": \"\"}, \"colorscale\": [[0.0, \"#0d0887\"], [0.1111111111111111, \"#46039f\"], [0.2222222222222222, \"#7201a8\"], [0.3333333333333333, \"#9c179e\"], [0.4444444444444444, \"#bd3786\"], [0.5555555555555556, \"#d8576b\"], [0.6666666666666666, \"#ed7953\"], [0.7777777777777778, \"#fb9f3a\"], [0.8888888888888888, \"#fdca26\"], [1.0, \"#f0f921\"]], \"type\": \"heatmap\"}], \"heatmapgl\": [{\"colorbar\": {\"outlinewidth\": 0, \"ticks\": \"\"}, \"colorscale\": [[0.0, \"#0d0887\"], [0.1111111111111111, \"#46039f\"], [0.2222222222222222, \"#7201a8\"], [0.3333333333333333, \"#9c179e\"], [0.4444444444444444, \"#bd3786\"], [0.5555555555555556, \"#d8576b\"], [0.6666666666666666, \"#ed7953\"], [0.7777777777777778, \"#fb9f3a\"], [0.8888888888888888, \"#fdca26\"], [1.0, \"#f0f921\"]], \"type\": \"heatmapgl\"}], \"histogram\": [{\"marker\": {\"colorbar\": {\"outlinewidth\": 0, \"ticks\": \"\"}}, \"type\": \"histogram\"}], \"histogram2d\": [{\"colorbar\": {\"outlinewidth\": 0, \"ticks\": \"\"}, \"colorscale\": [[0.0, \"#0d0887\"], [0.1111111111111111, \"#46039f\"], [0.2222222222222222, \"#7201a8\"], [0.3333333333333333, \"#9c179e\"], [0.4444444444444444, \"#bd3786\"], [0.5555555555555556, \"#d8576b\"], [0.6666666666666666, \"#ed7953\"], [0.7777777777777778, \"#fb9f3a\"], [0.8888888888888888, \"#fdca26\"], [1.0, \"#f0f921\"]], \"type\": \"histogram2d\"}], \"histogram2dcontour\": [{\"colorbar\": {\"outlinewidth\": 0, \"ticks\": \"\"}, \"colorscale\": [[0.0, \"#0d0887\"], [0.1111111111111111, \"#46039f\"], [0.2222222222222222, \"#7201a8\"], [0.3333333333333333, \"#9c179e\"], [0.4444444444444444, \"#bd3786\"], [0.5555555555555556, \"#d8576b\"], [0.6666666666666666, \"#ed7953\"], [0.7777777777777778, \"#fb9f3a\"], [0.8888888888888888, \"#fdca26\"], [1.0, \"#f0f921\"]], \"type\": \"histogram2dcontour\"}], \"mesh3d\": [{\"colorbar\": {\"outlinewidth\": 0, \"ticks\": \"\"}, \"type\": \"mesh3d\"}], \"parcoords\": [{\"line\": {\"colorbar\": {\"outlinewidth\": 0, \"ticks\": \"\"}}, \"type\": \"parcoords\"}], \"pie\": [{\"automargin\": true, \"type\": \"pie\"}], \"scatter\": [{\"marker\": {\"colorbar\": {\"outlinewidth\": 0, \"ticks\": \"\"}}, \"type\": \"scatter\"}], \"scatter3d\": [{\"line\": {\"colorbar\": {\"outlinewidth\": 0, \"ticks\": \"\"}}, \"marker\": {\"colorbar\": {\"outlinewidth\": 0, \"ticks\": \"\"}}, \"type\": \"scatter3d\"}], \"scattercarpet\": [{\"marker\": {\"colorbar\": {\"outlinewidth\": 0, \"ticks\": \"\"}}, \"type\": \"scattercarpet\"}], \"scattergeo\": [{\"marker\": {\"colorbar\": {\"outlinewidth\": 0, \"ticks\": \"\"}}, \"type\": \"scattergeo\"}], \"scattergl\": [{\"marker\": {\"colorbar\": {\"outlinewidth\": 0, \"ticks\": \"\"}}, \"type\": \"scattergl\"}], \"scattermapbox\": [{\"marker\": {\"colorbar\": {\"outlinewidth\": 0, \"ticks\": \"\"}}, \"type\": \"scattermapbox\"}], \"scatterpolar\": [{\"marker\": {\"colorbar\": {\"outlinewidth\": 0, \"ticks\": \"\"}}, \"type\": \"scatterpolar\"}], \"scatterpolargl\": [{\"marker\": {\"colorbar\": {\"outlinewidth\": 0, \"ticks\": \"\"}}, \"type\": \"scatterpolargl\"}], \"scatterternary\": [{\"marker\": {\"colorbar\": {\"outlinewidth\": 0, \"ticks\": \"\"}}, \"type\": \"scatterternary\"}], \"surface\": [{\"colorbar\": {\"outlinewidth\": 0, \"ticks\": \"\"}, \"colorscale\": [[0.0, \"#0d0887\"], [0.1111111111111111, \"#46039f\"], [0.2222222222222222, \"#7201a8\"], [0.3333333333333333, \"#9c179e\"], [0.4444444444444444, \"#bd3786\"], [0.5555555555555556, \"#d8576b\"], [0.6666666666666666, \"#ed7953\"], [0.7777777777777778, \"#fb9f3a\"], [0.8888888888888888, \"#fdca26\"], [1.0, \"#f0f921\"]], \"type\": \"surface\"}], \"table\": [{\"cells\": {\"fill\": {\"color\": \"#EBF0F8\"}, \"line\": {\"color\": \"white\"}}, \"header\": {\"fill\": {\"color\": \"#C8D4E3\"}, \"line\": {\"color\": \"white\"}}, \"type\": \"table\"}]}, \"layout\": {\"annotationdefaults\": {\"arrowcolor\": \"#2a3f5f\", \"arrowhead\": 0, \"arrowwidth\": 1}, \"autotypenumbers\": \"strict\", \"coloraxis\": {\"colorbar\": {\"outlinewidth\": 0, \"ticks\": \"\"}}, \"colorscale\": {\"diverging\": [[0, \"#8e0152\"], [0.1, \"#c51b7d\"], [0.2, \"#de77ae\"], [0.3, \"#f1b6da\"], [0.4, \"#fde0ef\"], [0.5, \"#f7f7f7\"], [0.6, \"#e6f5d0\"], [0.7, \"#b8e186\"], [0.8, \"#7fbc41\"], [0.9, \"#4d9221\"], [1, \"#276419\"]], \"sequential\": [[0.0, \"#0d0887\"], [0.1111111111111111, \"#46039f\"], [0.2222222222222222, \"#7201a8\"], [0.3333333333333333, \"#9c179e\"], [0.4444444444444444, \"#bd3786\"], [0.5555555555555556, \"#d8576b\"], [0.6666666666666666, \"#ed7953\"], [0.7777777777777778, \"#fb9f3a\"], [0.8888888888888888, \"#fdca26\"], [1.0, \"#f0f921\"]], \"sequentialminus\": [[0.0, \"#0d0887\"], [0.1111111111111111, \"#46039f\"], [0.2222222222222222, \"#7201a8\"], [0.3333333333333333, \"#9c179e\"], [0.4444444444444444, \"#bd3786\"], [0.5555555555555556, \"#d8576b\"], [0.6666666666666666, \"#ed7953\"], [0.7777777777777778, \"#fb9f3a\"], [0.8888888888888888, \"#fdca26\"], [1.0, \"#f0f921\"]]}, \"colorway\": [\"#636efa\", \"#EF553B\", \"#00cc96\", \"#ab63fa\", \"#FFA15A\", \"#19d3f3\", \"#FF6692\", \"#B6E880\", \"#FF97FF\", \"#FECB52\"], \"font\": {\"color\": \"#2a3f5f\"}, \"geo\": {\"bgcolor\": \"white\", \"lakecolor\": \"white\", \"landcolor\": \"#E5ECF6\", \"showlakes\": true, \"showland\": true, \"subunitcolor\": \"white\"}, \"hoverlabel\": {\"align\": \"left\"}, \"hovermode\": \"closest\", \"mapbox\": {\"style\": \"light\"}, \"paper_bgcolor\": \"white\", \"plot_bgcolor\": \"#E5ECF6\", \"polar\": {\"angularaxis\": {\"gridcolor\": \"white\", \"linecolor\": \"white\", \"ticks\": \"\"}, \"bgcolor\": \"#E5ECF6\", \"radialaxis\": {\"gridcolor\": \"white\", \"linecolor\": \"white\", \"ticks\": \"\"}}, \"scene\": {\"xaxis\": {\"backgroundcolor\": \"#E5ECF6\", \"gridcolor\": \"white\", \"gridwidth\": 2, \"linecolor\": \"white\", \"showbackground\": true, \"ticks\": \"\", \"zerolinecolor\": \"white\"}, \"yaxis\": {\"backgroundcolor\": \"#E5ECF6\", \"gridcolor\": \"white\", \"gridwidth\": 2, \"linecolor\": \"white\", \"showbackground\": true, \"ticks\": \"\", \"zerolinecolor\": \"white\"}, \"zaxis\": {\"backgroundcolor\": \"#E5ECF6\", \"gridcolor\": \"white\", \"gridwidth\": 2, \"linecolor\": \"white\", \"showbackground\": true, \"ticks\": \"\", \"zerolinecolor\": \"white\"}}, \"shapedefaults\": {\"line\": {\"color\": \"#2a3f5f\"}}, \"ternary\": {\"aaxis\": {\"gridcolor\": \"white\", \"linecolor\": \"white\", \"ticks\": \"\"}, \"baxis\": {\"gridcolor\": \"white\", \"linecolor\": \"white\", \"ticks\": \"\"}, \"bgcolor\": \"#E5ECF6\", \"caxis\": {\"gridcolor\": \"white\", \"linecolor\": \"white\", \"ticks\": \"\"}}, \"title\": {\"x\": 0.05}, \"xaxis\": {\"automargin\": true, \"gridcolor\": \"white\", \"linecolor\": \"white\", \"ticks\": \"\", \"title\": {\"standoff\": 15}, \"zerolinecolor\": \"white\", \"zerolinewidth\": 2}, \"yaxis\": {\"automargin\": true, \"gridcolor\": \"white\", \"linecolor\": \"white\", \"ticks\": \"\", \"title\": {\"standoff\": 15}, \"zerolinecolor\": \"white\", \"zerolinewidth\": 2}}}, \"xaxis\": {\"anchor\": \"y\", \"domain\": [0.0, 1.0], \"title\": {\"text\": \"variable\"}}, \"yaxis\": {\"anchor\": \"x\", \"domain\": [0.0, 1.0], \"title\": {\"text\": \"value\"}}},                        {\"responsive\": true}                    ).then(function(){\n",
       "                            \n",
       "var gd = document.getElementById('ce10a54d-96f0-4741-b9e5-99797cd7c737');\n",
       "var x = new MutationObserver(function (mutations, observer) {{\n",
       "        var display = window.getComputedStyle(gd).display;\n",
       "        if (!display || display === 'none') {{\n",
       "            console.log([gd, 'removed!']);\n",
       "            Plotly.purge(gd);\n",
       "            observer.disconnect();\n",
       "        }}\n",
       "}});\n",
       "\n",
       "// Listen for the removal of the full notebook cells\n",
       "var notebookContainer = gd.closest('#notebook-container');\n",
       "if (notebookContainer) {{\n",
       "    x.observe(notebookContainer, {childList: true});\n",
       "}}\n",
       "\n",
       "// Listen for the clearing of the current output cell\n",
       "var outputEl = gd.closest('.output');\n",
       "if (outputEl) {{\n",
       "    x.observe(outputEl, {childList: true});\n",
       "}}\n",
       "\n",
       "                        })                };                });            </script>        </div>"
      ]
     },
     "metadata": {},
     "output_type": "display_data"
    }
   ],
   "source": [
    "px.box(data_all.time_OS)"
   ]
  },
  {
   "cell_type": "code",
   "execution_count": 70,
   "id": "b7dfabf4-788a-47be-a1c5-9c2925b4e993",
   "metadata": {},
   "outputs": [
    {
     "data": {
      "text/plain": [
       "0.9478260869565217"
      ]
     },
     "execution_count": 70,
     "metadata": {},
     "output_type": "execute_result"
    }
   ],
   "source": [
    "N_DAYS_MIN = 300\n",
    "\n",
    "len(data_all[data_all.time_OS > N_DAYS_MIN])/len(data_all)"
   ]
  },
  {
   "cell_type": "markdown",
   "id": "ed87c191-c0ac-4396-8ff3-f71c6992c5ce",
   "metadata": {},
   "source": [
    "## Outliers"
   ]
  },
  {
   "cell_type": "code",
   "execution_count": 63,
   "id": "dc62ab45-96f9-4a05-b461-5844ac4d7354",
   "metadata": {
    "tags": []
   },
   "outputs": [],
   "source": [
    "outliers_ids = ['OS2006_34', 'OS2006_548', 'OS2006_20']"
   ]
  },
  {
   "cell_type": "markdown",
   "id": "92feb076-c718-4330-a491-9fdc11bd65e4",
   "metadata": {
    "tags": []
   },
   "source": [
    "# ML models on metadata"
   ]
  },
  {
   "cell_type": "markdown",
   "id": "26e2375b-9b5f-407a-a2da-3c55740924ee",
   "metadata": {
    "tags": []
   },
   "source": [
    "## Compute features"
   ]
  },
  {
   "cell_type": "code",
   "execution_count": 71,
   "id": "c412f3f5-8120-472f-bebe-88bb4f5cb5e2",
   "metadata": {},
   "outputs": [
    {
     "data": {
      "text/html": [
       "<div>\n",
       "<style scoped>\n",
       "    .dataframe tbody tr th:only-of-type {\n",
       "        vertical-align: middle;\n",
       "    }\n",
       "\n",
       "    .dataframe tbody tr th {\n",
       "        vertical-align: top;\n",
       "    }\n",
       "\n",
       "    .dataframe thead th {\n",
       "        text-align: right;\n",
       "    }\n",
       "</style>\n",
       "<table border=\"1\" class=\"dataframe\">\n",
       "  <thead>\n",
       "    <tr style=\"text-align: right;\">\n",
       "      <th></th>\n",
       "      <th>patient_id</th>\n",
       "      <th>sex</th>\n",
       "      <th>age</th>\n",
       "      <th>htum</th>\n",
       "      <th>relapse</th>\n",
       "      <th>etat2</th>\n",
       "      <th>time_OS</th>\n",
       "      <th>time_PFS</th>\n",
       "      <th>CPA_AVANT_CHIR</th>\n",
       "      <th>CPA_DIAG</th>\n",
       "      <th>...</th>\n",
       "      <th>Y:21000001-22000000_ratio_FIN_TT</th>\n",
       "      <th>Y:21000001-22000000_zscore_AVANT_CHIR</th>\n",
       "      <th>Y:21000001-22000000_zscore_DIAG</th>\n",
       "      <th>Y:21000001-22000000_zscore_FIN_TT</th>\n",
       "      <th>Y:56000001-57000000_ratio_AVANT_CHIR</th>\n",
       "      <th>Y:56000001-57000000_ratio_DIAG</th>\n",
       "      <th>Y:56000001-57000000_ratio_FIN_TT</th>\n",
       "      <th>Y:56000001-57000000_zscore_AVANT_CHIR</th>\n",
       "      <th>Y:56000001-57000000_zscore_DIAG</th>\n",
       "      <th>Y:56000001-57000000_zscore_FIN_TT</th>\n",
       "    </tr>\n",
       "  </thead>\n",
       "  <tbody>\n",
       "    <tr>\n",
       "      <th>0</th>\n",
       "      <td>OS2006_1</td>\n",
       "      <td>Feminin</td>\n",
       "      <td>17.58</td>\n",
       "      <td>10.6</td>\n",
       "      <td>0.0</td>\n",
       "      <td>0.0</td>\n",
       "      <td>2999.0</td>\n",
       "      <td>NaN</td>\n",
       "      <td>0.13178</td>\n",
       "      <td>0.15446</td>\n",
       "      <td>...</td>\n",
       "      <td>NaN</td>\n",
       "      <td>NaN</td>\n",
       "      <td>NaN</td>\n",
       "      <td>NaN</td>\n",
       "      <td>NaN</td>\n",
       "      <td>NaN</td>\n",
       "      <td>NaN</td>\n",
       "      <td>NaN</td>\n",
       "      <td>NaN</td>\n",
       "      <td>NaN</td>\n",
       "    </tr>\n",
       "    <tr>\n",
       "      <th>1</th>\n",
       "      <td>OS2006_10</td>\n",
       "      <td>Masculin</td>\n",
       "      <td>14.51</td>\n",
       "      <td>11.1</td>\n",
       "      <td>0.0</td>\n",
       "      <td>1.0</td>\n",
       "      <td>607.0</td>\n",
       "      <td>NaN</td>\n",
       "      <td>0.12377</td>\n",
       "      <td>0.34361</td>\n",
       "      <td>...</td>\n",
       "      <td>-0.011403</td>\n",
       "      <td>-0.425711</td>\n",
       "      <td>1.538056</td>\n",
       "      <td>-0.209107</td>\n",
       "      <td>-0.006372</td>\n",
       "      <td>-0.084078</td>\n",
       "      <td>-0.067204</td>\n",
       "      <td>-0.229573</td>\n",
       "      <td>-1.442374</td>\n",
       "      <td>-1.568502</td>\n",
       "    </tr>\n",
       "    <tr>\n",
       "      <th>2</th>\n",
       "      <td>OS2006_11</td>\n",
       "      <td>Masculin</td>\n",
       "      <td>18.83</td>\n",
       "      <td>7.0</td>\n",
       "      <td>0.0</td>\n",
       "      <td>0.0</td>\n",
       "      <td>2581.0</td>\n",
       "      <td>NaN</td>\n",
       "      <td>0.11279</td>\n",
       "      <td>0.17640</td>\n",
       "      <td>...</td>\n",
       "      <td>-0.131256</td>\n",
       "      <td>-0.501901</td>\n",
       "      <td>-1.155128</td>\n",
       "      <td>-4.294767</td>\n",
       "      <td>0.135906</td>\n",
       "      <td>0.177465</td>\n",
       "      <td>0.205231</td>\n",
       "      <td>4.687495</td>\n",
       "      <td>4.854536</td>\n",
       "      <td>7.090777</td>\n",
       "    </tr>\n",
       "    <tr>\n",
       "      <th>3</th>\n",
       "      <td>OS2006_12</td>\n",
       "      <td>Feminin</td>\n",
       "      <td>11.69</td>\n",
       "      <td>12.4</td>\n",
       "      <td>0.0</td>\n",
       "      <td>0.0</td>\n",
       "      <td>445.0</td>\n",
       "      <td>122.0</td>\n",
       "      <td>0.27524</td>\n",
       "      <td>0.56731</td>\n",
       "      <td>...</td>\n",
       "      <td>NaN</td>\n",
       "      <td>NaN</td>\n",
       "      <td>NaN</td>\n",
       "      <td>NaN</td>\n",
       "      <td>NaN</td>\n",
       "      <td>NaN</td>\n",
       "      <td>NaN</td>\n",
       "      <td>NaN</td>\n",
       "      <td>NaN</td>\n",
       "      <td>NaN</td>\n",
       "    </tr>\n",
       "    <tr>\n",
       "      <th>4</th>\n",
       "      <td>OS2006_149</td>\n",
       "      <td>Feminin</td>\n",
       "      <td>15.91</td>\n",
       "      <td>8.0</td>\n",
       "      <td>1.0</td>\n",
       "      <td>0.0</td>\n",
       "      <td>2440.0</td>\n",
       "      <td>550.0</td>\n",
       "      <td>0.14314</td>\n",
       "      <td>0.28877</td>\n",
       "      <td>...</td>\n",
       "      <td>NaN</td>\n",
       "      <td>NaN</td>\n",
       "      <td>NaN</td>\n",
       "      <td>NaN</td>\n",
       "      <td>NaN</td>\n",
       "      <td>NaN</td>\n",
       "      <td>NaN</td>\n",
       "      <td>NaN</td>\n",
       "      <td>NaN</td>\n",
       "      <td>NaN</td>\n",
       "    </tr>\n",
       "  </tbody>\n",
       "</table>\n",
       "<p>5 rows × 16025 columns</p>\n",
       "</div>"
      ],
      "text/plain": [
       "   patient_id       sex    age  htum  relapse  etat2  time_OS  time_PFS  \\\n",
       "0    OS2006_1   Feminin  17.58  10.6      0.0    0.0   2999.0       NaN   \n",
       "1   OS2006_10  Masculin  14.51  11.1      0.0    1.0    607.0       NaN   \n",
       "2   OS2006_11  Masculin  18.83   7.0      0.0    0.0   2581.0       NaN   \n",
       "3   OS2006_12   Feminin  11.69  12.4      0.0    0.0    445.0     122.0   \n",
       "4  OS2006_149   Feminin  15.91   8.0      1.0    0.0   2440.0     550.0   \n",
       "\n",
       "   CPA_AVANT_CHIR  CPA_DIAG  ...  Y:21000001-22000000_ratio_FIN_TT  \\\n",
       "0         0.13178   0.15446  ...                               NaN   \n",
       "1         0.12377   0.34361  ...                         -0.011403   \n",
       "2         0.11279   0.17640  ...                         -0.131256   \n",
       "3         0.27524   0.56731  ...                               NaN   \n",
       "4         0.14314   0.28877  ...                               NaN   \n",
       "\n",
       "   Y:21000001-22000000_zscore_AVANT_CHIR  Y:21000001-22000000_zscore_DIAG  \\\n",
       "0                                    NaN                              NaN   \n",
       "1                              -0.425711                         1.538056   \n",
       "2                              -0.501901                        -1.155128   \n",
       "3                                    NaN                              NaN   \n",
       "4                                    NaN                              NaN   \n",
       "\n",
       "   Y:21000001-22000000_zscore_FIN_TT  Y:56000001-57000000_ratio_AVANT_CHIR  \\\n",
       "0                                NaN                                   NaN   \n",
       "1                          -0.209107                             -0.006372   \n",
       "2                          -4.294767                              0.135906   \n",
       "3                                NaN                                   NaN   \n",
       "4                                NaN                                   NaN   \n",
       "\n",
       "   Y:56000001-57000000_ratio_DIAG  Y:56000001-57000000_ratio_FIN_TT  \\\n",
       "0                             NaN                               NaN   \n",
       "1                       -0.084078                         -0.067204   \n",
       "2                        0.177465                          0.205231   \n",
       "3                             NaN                               NaN   \n",
       "4                             NaN                               NaN   \n",
       "\n",
       "   Y:56000001-57000000_zscore_AVANT_CHIR  Y:56000001-57000000_zscore_DIAG  \\\n",
       "0                                    NaN                              NaN   \n",
       "1                              -0.229573                        -1.442374   \n",
       "2                               4.687495                         4.854536   \n",
       "3                                    NaN                              NaN   \n",
       "4                                    NaN                              NaN   \n",
       "\n",
       "   Y:56000001-57000000_zscore_FIN_TT  \n",
       "0                                NaN  \n",
       "1                          -1.568502  \n",
       "2                           7.090777  \n",
       "3                                NaN  \n",
       "4                                NaN  \n",
       "\n",
       "[5 rows x 16025 columns]"
      ]
     },
     "execution_count": 71,
     "metadata": {},
     "output_type": "execute_result"
    }
   ],
   "source": [
    "data_all.head()"
   ]
  },
  {
   "cell_type": "code",
   "execution_count": 80,
   "id": "2826f882-a3e1-4a26-ac6a-b8760f925e5c",
   "metadata": {},
   "outputs": [
    {
     "name": "stdout",
     "output_type": "stream",
     "text": [
      "Initial features shape : (115, 16025)\n",
      "Features shape after some cleaning: (113, 16025)\n"
     ]
    }
   ],
   "source": [
    "features = data_all.copy()\n",
    "print(f'Initial features shape : {features.shape}')\n",
    "\n",
    "features['sex'] = features.apply(lambda x: 0 if x['sex'] == 'Feminin' else 1, axis=1)\n",
    "features = features[~features['patient_id'].isin(outliers_ids)]\n",
    "features.reset_index(drop=True, inplace=True)\n",
    "\n",
    "print(f'Features shape after some cleaning: {features.shape}')\n",
    "\n",
    "label = 'relapse'\n",
    "labels = features[label]\n",
    "\n",
    "data = features.copy()   # dataset with target for pycaret"
   ]
  },
  {
   "cell_type": "code",
   "execution_count": 81,
   "id": "075bcff9-e791-4502-960e-7af851ed1b5e",
   "metadata": {},
   "outputs": [],
   "source": [
    "CAT_FEATURES = ['sex']\n",
    "NUM_FEATURES = ['age', 'htum', 'CPA_DIAG', 'CPA_AVANT_CHIR', 'CPA_FIN_TT']\n",
    "\n",
    "data = data[CAT_FEATURES + NUM_FEATURES + [label]]"
   ]
  },
  {
   "cell_type": "markdown",
   "id": "7a312fcd-ce8a-4555-a58f-bd9444b6765b",
   "metadata": {
    "tags": []
   },
   "source": [
    "## First baseline with Pycaret"
   ]
  },
  {
   "cell_type": "code",
   "execution_count": 82,
   "id": "05da25c3-869b-46b9-8e2d-46e3d3f62271",
   "metadata": {},
   "outputs": [
    {
     "name": "stdout",
     "output_type": "stream",
     "text": [
      "0.23.2\n"
     ]
    }
   ],
   "source": [
    "from pycaret.classification import *\n",
    "from sklearn import __version__\n",
    "\n",
    "print(__version__)"
   ]
  },
  {
   "cell_type": "code",
   "execution_count": 85,
   "id": "f62c2ba8-9102-47c7-ad19-3b538e1fce49",
   "metadata": {},
   "outputs": [
    {
     "data": {
      "text/html": [
       "<style type=\"text/css\">\n",
       "#T_5f930_row5_col1, #T_5f930_row29_col1, #T_5f930_row44_col1 {\n",
       "  background-color: lightgreen;\n",
       "}\n",
       "</style>\n",
       "<table id=\"T_5f930_\">\n",
       "  <thead>\n",
       "    <tr>\n",
       "      <th class=\"blank level0\" >&nbsp;</th>\n",
       "      <th class=\"col_heading level0 col0\" >Description</th>\n",
       "      <th class=\"col_heading level0 col1\" >Value</th>\n",
       "    </tr>\n",
       "  </thead>\n",
       "  <tbody>\n",
       "    <tr>\n",
       "      <th id=\"T_5f930_level0_row0\" class=\"row_heading level0 row0\" >0</th>\n",
       "      <td id=\"T_5f930_row0_col0\" class=\"data row0 col0\" >session_id</td>\n",
       "      <td id=\"T_5f930_row0_col1\" class=\"data row0 col1\" >6485</td>\n",
       "    </tr>\n",
       "    <tr>\n",
       "      <th id=\"T_5f930_level0_row1\" class=\"row_heading level0 row1\" >1</th>\n",
       "      <td id=\"T_5f930_row1_col0\" class=\"data row1 col0\" >Target</td>\n",
       "      <td id=\"T_5f930_row1_col1\" class=\"data row1 col1\" >relapse</td>\n",
       "    </tr>\n",
       "    <tr>\n",
       "      <th id=\"T_5f930_level0_row2\" class=\"row_heading level0 row2\" >2</th>\n",
       "      <td id=\"T_5f930_row2_col0\" class=\"data row2 col0\" >Target Type</td>\n",
       "      <td id=\"T_5f930_row2_col1\" class=\"data row2 col1\" >Binary</td>\n",
       "    </tr>\n",
       "    <tr>\n",
       "      <th id=\"T_5f930_level0_row3\" class=\"row_heading level0 row3\" >3</th>\n",
       "      <td id=\"T_5f930_row3_col0\" class=\"data row3 col0\" >Label Encoded</td>\n",
       "      <td id=\"T_5f930_row3_col1\" class=\"data row3 col1\" >0.0: 0, 1.0: 1</td>\n",
       "    </tr>\n",
       "    <tr>\n",
       "      <th id=\"T_5f930_level0_row4\" class=\"row_heading level0 row4\" >4</th>\n",
       "      <td id=\"T_5f930_row4_col0\" class=\"data row4 col0\" >Original Data</td>\n",
       "      <td id=\"T_5f930_row4_col1\" class=\"data row4 col1\" >(113, 7)</td>\n",
       "    </tr>\n",
       "    <tr>\n",
       "      <th id=\"T_5f930_level0_row5\" class=\"row_heading level0 row5\" >5</th>\n",
       "      <td id=\"T_5f930_row5_col0\" class=\"data row5 col0\" >Missing Values</td>\n",
       "      <td id=\"T_5f930_row5_col1\" class=\"data row5 col1\" >True</td>\n",
       "    </tr>\n",
       "    <tr>\n",
       "      <th id=\"T_5f930_level0_row6\" class=\"row_heading level0 row6\" >6</th>\n",
       "      <td id=\"T_5f930_row6_col0\" class=\"data row6 col0\" >Numeric Features</td>\n",
       "      <td id=\"T_5f930_row6_col1\" class=\"data row6 col1\" >5</td>\n",
       "    </tr>\n",
       "    <tr>\n",
       "      <th id=\"T_5f930_level0_row7\" class=\"row_heading level0 row7\" >7</th>\n",
       "      <td id=\"T_5f930_row7_col0\" class=\"data row7 col0\" >Categorical Features</td>\n",
       "      <td id=\"T_5f930_row7_col1\" class=\"data row7 col1\" >1</td>\n",
       "    </tr>\n",
       "    <tr>\n",
       "      <th id=\"T_5f930_level0_row8\" class=\"row_heading level0 row8\" >8</th>\n",
       "      <td id=\"T_5f930_row8_col0\" class=\"data row8 col0\" >Ordinal Features</td>\n",
       "      <td id=\"T_5f930_row8_col1\" class=\"data row8 col1\" >False</td>\n",
       "    </tr>\n",
       "    <tr>\n",
       "      <th id=\"T_5f930_level0_row9\" class=\"row_heading level0 row9\" >9</th>\n",
       "      <td id=\"T_5f930_row9_col0\" class=\"data row9 col0\" >High Cardinality Features</td>\n",
       "      <td id=\"T_5f930_row9_col1\" class=\"data row9 col1\" >False</td>\n",
       "    </tr>\n",
       "    <tr>\n",
       "      <th id=\"T_5f930_level0_row10\" class=\"row_heading level0 row10\" >10</th>\n",
       "      <td id=\"T_5f930_row10_col0\" class=\"data row10 col0\" >High Cardinality Method</td>\n",
       "      <td id=\"T_5f930_row10_col1\" class=\"data row10 col1\" >None</td>\n",
       "    </tr>\n",
       "    <tr>\n",
       "      <th id=\"T_5f930_level0_row11\" class=\"row_heading level0 row11\" >11</th>\n",
       "      <td id=\"T_5f930_row11_col0\" class=\"data row11 col0\" >Transformed Train Set</td>\n",
       "      <td id=\"T_5f930_row11_col1\" class=\"data row11 col1\" >(77, 6)</td>\n",
       "    </tr>\n",
       "    <tr>\n",
       "      <th id=\"T_5f930_level0_row12\" class=\"row_heading level0 row12\" >12</th>\n",
       "      <td id=\"T_5f930_row12_col0\" class=\"data row12 col0\" >Transformed Test Set</td>\n",
       "      <td id=\"T_5f930_row12_col1\" class=\"data row12 col1\" >(34, 6)</td>\n",
       "    </tr>\n",
       "    <tr>\n",
       "      <th id=\"T_5f930_level0_row13\" class=\"row_heading level0 row13\" >13</th>\n",
       "      <td id=\"T_5f930_row13_col0\" class=\"data row13 col0\" >Shuffle Train-Test</td>\n",
       "      <td id=\"T_5f930_row13_col1\" class=\"data row13 col1\" >True</td>\n",
       "    </tr>\n",
       "    <tr>\n",
       "      <th id=\"T_5f930_level0_row14\" class=\"row_heading level0 row14\" >14</th>\n",
       "      <td id=\"T_5f930_row14_col0\" class=\"data row14 col0\" >Stratify Train-Test</td>\n",
       "      <td id=\"T_5f930_row14_col1\" class=\"data row14 col1\" >False</td>\n",
       "    </tr>\n",
       "    <tr>\n",
       "      <th id=\"T_5f930_level0_row15\" class=\"row_heading level0 row15\" >15</th>\n",
       "      <td id=\"T_5f930_row15_col0\" class=\"data row15 col0\" >Fold Generator</td>\n",
       "      <td id=\"T_5f930_row15_col1\" class=\"data row15 col1\" >StratifiedKFold</td>\n",
       "    </tr>\n",
       "    <tr>\n",
       "      <th id=\"T_5f930_level0_row16\" class=\"row_heading level0 row16\" >16</th>\n",
       "      <td id=\"T_5f930_row16_col0\" class=\"data row16 col0\" >Fold Number</td>\n",
       "      <td id=\"T_5f930_row16_col1\" class=\"data row16 col1\" >10</td>\n",
       "    </tr>\n",
       "    <tr>\n",
       "      <th id=\"T_5f930_level0_row17\" class=\"row_heading level0 row17\" >17</th>\n",
       "      <td id=\"T_5f930_row17_col0\" class=\"data row17 col0\" >CPU Jobs</td>\n",
       "      <td id=\"T_5f930_row17_col1\" class=\"data row17 col1\" >-1</td>\n",
       "    </tr>\n",
       "    <tr>\n",
       "      <th id=\"T_5f930_level0_row18\" class=\"row_heading level0 row18\" >18</th>\n",
       "      <td id=\"T_5f930_row18_col0\" class=\"data row18 col0\" >Use GPU</td>\n",
       "      <td id=\"T_5f930_row18_col1\" class=\"data row18 col1\" >False</td>\n",
       "    </tr>\n",
       "    <tr>\n",
       "      <th id=\"T_5f930_level0_row19\" class=\"row_heading level0 row19\" >19</th>\n",
       "      <td id=\"T_5f930_row19_col0\" class=\"data row19 col0\" >Log Experiment</td>\n",
       "      <td id=\"T_5f930_row19_col1\" class=\"data row19 col1\" >False</td>\n",
       "    </tr>\n",
       "    <tr>\n",
       "      <th id=\"T_5f930_level0_row20\" class=\"row_heading level0 row20\" >20</th>\n",
       "      <td id=\"T_5f930_row20_col0\" class=\"data row20 col0\" >Experiment Name</td>\n",
       "      <td id=\"T_5f930_row20_col1\" class=\"data row20 col1\" >clf-default-name</td>\n",
       "    </tr>\n",
       "    <tr>\n",
       "      <th id=\"T_5f930_level0_row21\" class=\"row_heading level0 row21\" >21</th>\n",
       "      <td id=\"T_5f930_row21_col0\" class=\"data row21 col0\" >USI</td>\n",
       "      <td id=\"T_5f930_row21_col1\" class=\"data row21 col1\" >cda1</td>\n",
       "    </tr>\n",
       "    <tr>\n",
       "      <th id=\"T_5f930_level0_row22\" class=\"row_heading level0 row22\" >22</th>\n",
       "      <td id=\"T_5f930_row22_col0\" class=\"data row22 col0\" >Imputation Type</td>\n",
       "      <td id=\"T_5f930_row22_col1\" class=\"data row22 col1\" >simple</td>\n",
       "    </tr>\n",
       "    <tr>\n",
       "      <th id=\"T_5f930_level0_row23\" class=\"row_heading level0 row23\" >23</th>\n",
       "      <td id=\"T_5f930_row23_col0\" class=\"data row23 col0\" >Iterative Imputation Iteration</td>\n",
       "      <td id=\"T_5f930_row23_col1\" class=\"data row23 col1\" >None</td>\n",
       "    </tr>\n",
       "    <tr>\n",
       "      <th id=\"T_5f930_level0_row24\" class=\"row_heading level0 row24\" >24</th>\n",
       "      <td id=\"T_5f930_row24_col0\" class=\"data row24 col0\" >Numeric Imputer</td>\n",
       "      <td id=\"T_5f930_row24_col1\" class=\"data row24 col1\" >mean</td>\n",
       "    </tr>\n",
       "    <tr>\n",
       "      <th id=\"T_5f930_level0_row25\" class=\"row_heading level0 row25\" >25</th>\n",
       "      <td id=\"T_5f930_row25_col0\" class=\"data row25 col0\" >Iterative Imputation Numeric Model</td>\n",
       "      <td id=\"T_5f930_row25_col1\" class=\"data row25 col1\" >None</td>\n",
       "    </tr>\n",
       "    <tr>\n",
       "      <th id=\"T_5f930_level0_row26\" class=\"row_heading level0 row26\" >26</th>\n",
       "      <td id=\"T_5f930_row26_col0\" class=\"data row26 col0\" >Categorical Imputer</td>\n",
       "      <td id=\"T_5f930_row26_col1\" class=\"data row26 col1\" >constant</td>\n",
       "    </tr>\n",
       "    <tr>\n",
       "      <th id=\"T_5f930_level0_row27\" class=\"row_heading level0 row27\" >27</th>\n",
       "      <td id=\"T_5f930_row27_col0\" class=\"data row27 col0\" >Iterative Imputation Categorical Model</td>\n",
       "      <td id=\"T_5f930_row27_col1\" class=\"data row27 col1\" >None</td>\n",
       "    </tr>\n",
       "    <tr>\n",
       "      <th id=\"T_5f930_level0_row28\" class=\"row_heading level0 row28\" >28</th>\n",
       "      <td id=\"T_5f930_row28_col0\" class=\"data row28 col0\" >Unknown Categoricals Handling</td>\n",
       "      <td id=\"T_5f930_row28_col1\" class=\"data row28 col1\" >least_frequent</td>\n",
       "    </tr>\n",
       "    <tr>\n",
       "      <th id=\"T_5f930_level0_row29\" class=\"row_heading level0 row29\" >29</th>\n",
       "      <td id=\"T_5f930_row29_col0\" class=\"data row29 col0\" >Normalize</td>\n",
       "      <td id=\"T_5f930_row29_col1\" class=\"data row29 col1\" >True</td>\n",
       "    </tr>\n",
       "    <tr>\n",
       "      <th id=\"T_5f930_level0_row30\" class=\"row_heading level0 row30\" >30</th>\n",
       "      <td id=\"T_5f930_row30_col0\" class=\"data row30 col0\" >Normalize Method</td>\n",
       "      <td id=\"T_5f930_row30_col1\" class=\"data row30 col1\" >zscore</td>\n",
       "    </tr>\n",
       "    <tr>\n",
       "      <th id=\"T_5f930_level0_row31\" class=\"row_heading level0 row31\" >31</th>\n",
       "      <td id=\"T_5f930_row31_col0\" class=\"data row31 col0\" >Transformation</td>\n",
       "      <td id=\"T_5f930_row31_col1\" class=\"data row31 col1\" >False</td>\n",
       "    </tr>\n",
       "    <tr>\n",
       "      <th id=\"T_5f930_level0_row32\" class=\"row_heading level0 row32\" >32</th>\n",
       "      <td id=\"T_5f930_row32_col0\" class=\"data row32 col0\" >Transformation Method</td>\n",
       "      <td id=\"T_5f930_row32_col1\" class=\"data row32 col1\" >None</td>\n",
       "    </tr>\n",
       "    <tr>\n",
       "      <th id=\"T_5f930_level0_row33\" class=\"row_heading level0 row33\" >33</th>\n",
       "      <td id=\"T_5f930_row33_col0\" class=\"data row33 col0\" >PCA</td>\n",
       "      <td id=\"T_5f930_row33_col1\" class=\"data row33 col1\" >False</td>\n",
       "    </tr>\n",
       "    <tr>\n",
       "      <th id=\"T_5f930_level0_row34\" class=\"row_heading level0 row34\" >34</th>\n",
       "      <td id=\"T_5f930_row34_col0\" class=\"data row34 col0\" >PCA Method</td>\n",
       "      <td id=\"T_5f930_row34_col1\" class=\"data row34 col1\" >None</td>\n",
       "    </tr>\n",
       "    <tr>\n",
       "      <th id=\"T_5f930_level0_row35\" class=\"row_heading level0 row35\" >35</th>\n",
       "      <td id=\"T_5f930_row35_col0\" class=\"data row35 col0\" >PCA Components</td>\n",
       "      <td id=\"T_5f930_row35_col1\" class=\"data row35 col1\" >None</td>\n",
       "    </tr>\n",
       "    <tr>\n",
       "      <th id=\"T_5f930_level0_row36\" class=\"row_heading level0 row36\" >36</th>\n",
       "      <td id=\"T_5f930_row36_col0\" class=\"data row36 col0\" >Ignore Low Variance</td>\n",
       "      <td id=\"T_5f930_row36_col1\" class=\"data row36 col1\" >False</td>\n",
       "    </tr>\n",
       "    <tr>\n",
       "      <th id=\"T_5f930_level0_row37\" class=\"row_heading level0 row37\" >37</th>\n",
       "      <td id=\"T_5f930_row37_col0\" class=\"data row37 col0\" >Combine Rare Levels</td>\n",
       "      <td id=\"T_5f930_row37_col1\" class=\"data row37 col1\" >False</td>\n",
       "    </tr>\n",
       "    <tr>\n",
       "      <th id=\"T_5f930_level0_row38\" class=\"row_heading level0 row38\" >38</th>\n",
       "      <td id=\"T_5f930_row38_col0\" class=\"data row38 col0\" >Rare Level Threshold</td>\n",
       "      <td id=\"T_5f930_row38_col1\" class=\"data row38 col1\" >None</td>\n",
       "    </tr>\n",
       "    <tr>\n",
       "      <th id=\"T_5f930_level0_row39\" class=\"row_heading level0 row39\" >39</th>\n",
       "      <td id=\"T_5f930_row39_col0\" class=\"data row39 col0\" >Numeric Binning</td>\n",
       "      <td id=\"T_5f930_row39_col1\" class=\"data row39 col1\" >False</td>\n",
       "    </tr>\n",
       "    <tr>\n",
       "      <th id=\"T_5f930_level0_row40\" class=\"row_heading level0 row40\" >40</th>\n",
       "      <td id=\"T_5f930_row40_col0\" class=\"data row40 col0\" >Remove Outliers</td>\n",
       "      <td id=\"T_5f930_row40_col1\" class=\"data row40 col1\" >False</td>\n",
       "    </tr>\n",
       "    <tr>\n",
       "      <th id=\"T_5f930_level0_row41\" class=\"row_heading level0 row41\" >41</th>\n",
       "      <td id=\"T_5f930_row41_col0\" class=\"data row41 col0\" >Outliers Threshold</td>\n",
       "      <td id=\"T_5f930_row41_col1\" class=\"data row41 col1\" >None</td>\n",
       "    </tr>\n",
       "    <tr>\n",
       "      <th id=\"T_5f930_level0_row42\" class=\"row_heading level0 row42\" >42</th>\n",
       "      <td id=\"T_5f930_row42_col0\" class=\"data row42 col0\" >Remove Multicollinearity</td>\n",
       "      <td id=\"T_5f930_row42_col1\" class=\"data row42 col1\" >False</td>\n",
       "    </tr>\n",
       "    <tr>\n",
       "      <th id=\"T_5f930_level0_row43\" class=\"row_heading level0 row43\" >43</th>\n",
       "      <td id=\"T_5f930_row43_col0\" class=\"data row43 col0\" >Multicollinearity Threshold</td>\n",
       "      <td id=\"T_5f930_row43_col1\" class=\"data row43 col1\" >None</td>\n",
       "    </tr>\n",
       "    <tr>\n",
       "      <th id=\"T_5f930_level0_row44\" class=\"row_heading level0 row44\" >44</th>\n",
       "      <td id=\"T_5f930_row44_col0\" class=\"data row44 col0\" >Remove Perfect Collinearity</td>\n",
       "      <td id=\"T_5f930_row44_col1\" class=\"data row44 col1\" >True</td>\n",
       "    </tr>\n",
       "    <tr>\n",
       "      <th id=\"T_5f930_level0_row45\" class=\"row_heading level0 row45\" >45</th>\n",
       "      <td id=\"T_5f930_row45_col0\" class=\"data row45 col0\" >Clustering</td>\n",
       "      <td id=\"T_5f930_row45_col1\" class=\"data row45 col1\" >False</td>\n",
       "    </tr>\n",
       "    <tr>\n",
       "      <th id=\"T_5f930_level0_row46\" class=\"row_heading level0 row46\" >46</th>\n",
       "      <td id=\"T_5f930_row46_col0\" class=\"data row46 col0\" >Clustering Iteration</td>\n",
       "      <td id=\"T_5f930_row46_col1\" class=\"data row46 col1\" >None</td>\n",
       "    </tr>\n",
       "    <tr>\n",
       "      <th id=\"T_5f930_level0_row47\" class=\"row_heading level0 row47\" >47</th>\n",
       "      <td id=\"T_5f930_row47_col0\" class=\"data row47 col0\" >Polynomial Features</td>\n",
       "      <td id=\"T_5f930_row47_col1\" class=\"data row47 col1\" >False</td>\n",
       "    </tr>\n",
       "    <tr>\n",
       "      <th id=\"T_5f930_level0_row48\" class=\"row_heading level0 row48\" >48</th>\n",
       "      <td id=\"T_5f930_row48_col0\" class=\"data row48 col0\" >Polynomial Degree</td>\n",
       "      <td id=\"T_5f930_row48_col1\" class=\"data row48 col1\" >None</td>\n",
       "    </tr>\n",
       "    <tr>\n",
       "      <th id=\"T_5f930_level0_row49\" class=\"row_heading level0 row49\" >49</th>\n",
       "      <td id=\"T_5f930_row49_col0\" class=\"data row49 col0\" >Trignometry Features</td>\n",
       "      <td id=\"T_5f930_row49_col1\" class=\"data row49 col1\" >False</td>\n",
       "    </tr>\n",
       "    <tr>\n",
       "      <th id=\"T_5f930_level0_row50\" class=\"row_heading level0 row50\" >50</th>\n",
       "      <td id=\"T_5f930_row50_col0\" class=\"data row50 col0\" >Polynomial Threshold</td>\n",
       "      <td id=\"T_5f930_row50_col1\" class=\"data row50 col1\" >None</td>\n",
       "    </tr>\n",
       "    <tr>\n",
       "      <th id=\"T_5f930_level0_row51\" class=\"row_heading level0 row51\" >51</th>\n",
       "      <td id=\"T_5f930_row51_col0\" class=\"data row51 col0\" >Group Features</td>\n",
       "      <td id=\"T_5f930_row51_col1\" class=\"data row51 col1\" >False</td>\n",
       "    </tr>\n",
       "    <tr>\n",
       "      <th id=\"T_5f930_level0_row52\" class=\"row_heading level0 row52\" >52</th>\n",
       "      <td id=\"T_5f930_row52_col0\" class=\"data row52 col0\" >Feature Selection</td>\n",
       "      <td id=\"T_5f930_row52_col1\" class=\"data row52 col1\" >False</td>\n",
       "    </tr>\n",
       "    <tr>\n",
       "      <th id=\"T_5f930_level0_row53\" class=\"row_heading level0 row53\" >53</th>\n",
       "      <td id=\"T_5f930_row53_col0\" class=\"data row53 col0\" >Feature Selection Method</td>\n",
       "      <td id=\"T_5f930_row53_col1\" class=\"data row53 col1\" >classic</td>\n",
       "    </tr>\n",
       "    <tr>\n",
       "      <th id=\"T_5f930_level0_row54\" class=\"row_heading level0 row54\" >54</th>\n",
       "      <td id=\"T_5f930_row54_col0\" class=\"data row54 col0\" >Features Selection Threshold</td>\n",
       "      <td id=\"T_5f930_row54_col1\" class=\"data row54 col1\" >None</td>\n",
       "    </tr>\n",
       "    <tr>\n",
       "      <th id=\"T_5f930_level0_row55\" class=\"row_heading level0 row55\" >55</th>\n",
       "      <td id=\"T_5f930_row55_col0\" class=\"data row55 col0\" >Feature Interaction</td>\n",
       "      <td id=\"T_5f930_row55_col1\" class=\"data row55 col1\" >False</td>\n",
       "    </tr>\n",
       "    <tr>\n",
       "      <th id=\"T_5f930_level0_row56\" class=\"row_heading level0 row56\" >56</th>\n",
       "      <td id=\"T_5f930_row56_col0\" class=\"data row56 col0\" >Feature Ratio</td>\n",
       "      <td id=\"T_5f930_row56_col1\" class=\"data row56 col1\" >False</td>\n",
       "    </tr>\n",
       "    <tr>\n",
       "      <th id=\"T_5f930_level0_row57\" class=\"row_heading level0 row57\" >57</th>\n",
       "      <td id=\"T_5f930_row57_col0\" class=\"data row57 col0\" >Interaction Threshold</td>\n",
       "      <td id=\"T_5f930_row57_col1\" class=\"data row57 col1\" >None</td>\n",
       "    </tr>\n",
       "    <tr>\n",
       "      <th id=\"T_5f930_level0_row58\" class=\"row_heading level0 row58\" >58</th>\n",
       "      <td id=\"T_5f930_row58_col0\" class=\"data row58 col0\" >Fix Imbalance</td>\n",
       "      <td id=\"T_5f930_row58_col1\" class=\"data row58 col1\" >False</td>\n",
       "    </tr>\n",
       "    <tr>\n",
       "      <th id=\"T_5f930_level0_row59\" class=\"row_heading level0 row59\" >59</th>\n",
       "      <td id=\"T_5f930_row59_col0\" class=\"data row59 col0\" >Fix Imbalance Method</td>\n",
       "      <td id=\"T_5f930_row59_col1\" class=\"data row59 col1\" >SMOTE</td>\n",
       "    </tr>\n",
       "  </tbody>\n",
       "</table>\n"
      ],
      "text/plain": [
       "<pandas.io.formats.style.Styler at 0x7f7eb1cdbeb0>"
      ]
     },
     "metadata": {},
     "output_type": "display_data"
    }
   ],
   "source": [
    "clf1 = setup(\n",
    "    data,\n",
    "    target=label,\n",
    "    categorical_features=CAT_FEATURES,\n",
    "    numeric_features=NUM_FEATURES,\n",
    "    normalize=True,\n",
    "    normalize_method='zscore',\n",
    "    feature_selection=False,\n",
    ")"
   ]
  },
  {
   "cell_type": "code",
   "execution_count": 86,
   "id": "cc775fa6-92d8-4d37-ae1d-d0b992022674",
   "metadata": {},
   "outputs": [
    {
     "data": {
      "text/html": [
       "<style type=\"text/css\">\n",
       "#T_08bf5_ th {\n",
       "  text-align: left;\n",
       "}\n",
       "#T_08bf5_row0_col0, #T_08bf5_row0_col2, #T_08bf5_row0_col3, #T_08bf5_row0_col4, #T_08bf5_row0_col5, #T_08bf5_row0_col6, #T_08bf5_row0_col7, #T_08bf5_row1_col0, #T_08bf5_row1_col3, #T_08bf5_row1_col4, #T_08bf5_row1_col5, #T_08bf5_row1_col6, #T_08bf5_row1_col7, #T_08bf5_row2_col0, #T_08bf5_row2_col1, #T_08bf5_row2_col2, #T_08bf5_row2_col3, #T_08bf5_row2_col5, #T_08bf5_row3_col0, #T_08bf5_row3_col1, #T_08bf5_row3_col2, #T_08bf5_row3_col3, #T_08bf5_row3_col4, #T_08bf5_row3_col6, #T_08bf5_row3_col7, #T_08bf5_row4_col0, #T_08bf5_row4_col1, #T_08bf5_row4_col2, #T_08bf5_row4_col3, #T_08bf5_row4_col4, #T_08bf5_row4_col5, #T_08bf5_row4_col6, #T_08bf5_row4_col7, #T_08bf5_row5_col0, #T_08bf5_row5_col1, #T_08bf5_row5_col2, #T_08bf5_row5_col3, #T_08bf5_row5_col4, #T_08bf5_row5_col5, #T_08bf5_row5_col6, #T_08bf5_row5_col7, #T_08bf5_row6_col0, #T_08bf5_row6_col1, #T_08bf5_row6_col2, #T_08bf5_row6_col3, #T_08bf5_row6_col4, #T_08bf5_row6_col5, #T_08bf5_row6_col6, #T_08bf5_row6_col7, #T_08bf5_row7_col0, #T_08bf5_row7_col1, #T_08bf5_row7_col2, #T_08bf5_row7_col4, #T_08bf5_row7_col5, #T_08bf5_row7_col6, #T_08bf5_row7_col7, #T_08bf5_row8_col0, #T_08bf5_row8_col1, #T_08bf5_row8_col2, #T_08bf5_row8_col3, #T_08bf5_row8_col4, #T_08bf5_row8_col5, #T_08bf5_row8_col6, #T_08bf5_row8_col7, #T_08bf5_row9_col0, #T_08bf5_row9_col1, #T_08bf5_row9_col2, #T_08bf5_row9_col4, #T_08bf5_row9_col5, #T_08bf5_row9_col6, #T_08bf5_row9_col7, #T_08bf5_row10_col0, #T_08bf5_row10_col1, #T_08bf5_row10_col2, #T_08bf5_row10_col3, #T_08bf5_row10_col4, #T_08bf5_row10_col5, #T_08bf5_row10_col6, #T_08bf5_row10_col7, #T_08bf5_row11_col0, #T_08bf5_row11_col1, #T_08bf5_row11_col2, #T_08bf5_row11_col3, #T_08bf5_row11_col4, #T_08bf5_row11_col5, #T_08bf5_row11_col6, #T_08bf5_row11_col7, #T_08bf5_row12_col0, #T_08bf5_row12_col1, #T_08bf5_row12_col2, #T_08bf5_row12_col4, #T_08bf5_row12_col5, #T_08bf5_row12_col6, #T_08bf5_row12_col7, #T_08bf5_row13_col0, #T_08bf5_row13_col1, #T_08bf5_row13_col2, #T_08bf5_row13_col3, #T_08bf5_row13_col4, #T_08bf5_row13_col5, #T_08bf5_row13_col6, #T_08bf5_row13_col7, #T_08bf5_row14_col0, #T_08bf5_row14_col1, #T_08bf5_row14_col2, #T_08bf5_row14_col3, #T_08bf5_row14_col4, #T_08bf5_row14_col5, #T_08bf5_row14_col6, #T_08bf5_row14_col7 {\n",
       "  text-align: left;\n",
       "}\n",
       "#T_08bf5_row0_col1, #T_08bf5_row1_col1, #T_08bf5_row1_col2, #T_08bf5_row2_col4, #T_08bf5_row2_col6, #T_08bf5_row2_col7, #T_08bf5_row3_col5, #T_08bf5_row7_col3, #T_08bf5_row9_col3, #T_08bf5_row12_col3 {\n",
       "  text-align: left;\n",
       "  background-color: yellow;\n",
       "}\n",
       "#T_08bf5_row0_col8, #T_08bf5_row1_col8, #T_08bf5_row2_col8, #T_08bf5_row4_col8, #T_08bf5_row5_col8, #T_08bf5_row6_col8, #T_08bf5_row7_col8, #T_08bf5_row8_col8, #T_08bf5_row9_col8, #T_08bf5_row10_col8, #T_08bf5_row11_col8, #T_08bf5_row12_col8, #T_08bf5_row13_col8, #T_08bf5_row14_col8 {\n",
       "  text-align: left;\n",
       "  background-color: lightgrey;\n",
       "}\n",
       "#T_08bf5_row3_col8 {\n",
       "  text-align: left;\n",
       "  background-color: yellow;\n",
       "  background-color: lightgrey;\n",
       "}\n",
       "</style>\n",
       "<table id=\"T_08bf5_\">\n",
       "  <thead>\n",
       "    <tr>\n",
       "      <th class=\"blank level0\" >&nbsp;</th>\n",
       "      <th class=\"col_heading level0 col0\" >Model</th>\n",
       "      <th class=\"col_heading level0 col1\" >Accuracy</th>\n",
       "      <th class=\"col_heading level0 col2\" >AUC</th>\n",
       "      <th class=\"col_heading level0 col3\" >Recall</th>\n",
       "      <th class=\"col_heading level0 col4\" >Prec.</th>\n",
       "      <th class=\"col_heading level0 col5\" >F1</th>\n",
       "      <th class=\"col_heading level0 col6\" >Kappa</th>\n",
       "      <th class=\"col_heading level0 col7\" >MCC</th>\n",
       "      <th class=\"col_heading level0 col8\" >TT (Sec)</th>\n",
       "    </tr>\n",
       "  </thead>\n",
       "  <tbody>\n",
       "    <tr>\n",
       "      <th id=\"T_08bf5_level0_row0\" class=\"row_heading level0 row0\" >ridge</th>\n",
       "      <td id=\"T_08bf5_row0_col0\" class=\"data row0 col0\" >Ridge Classifier</td>\n",
       "      <td id=\"T_08bf5_row0_col1\" class=\"data row0 col1\" >0.6786</td>\n",
       "      <td id=\"T_08bf5_row0_col2\" class=\"data row0 col2\" >0.0000</td>\n",
       "      <td id=\"T_08bf5_row0_col3\" class=\"data row0 col3\" >0.3667</td>\n",
       "      <td id=\"T_08bf5_row0_col4\" class=\"data row0 col4\" >0.5167</td>\n",
       "      <td id=\"T_08bf5_row0_col5\" class=\"data row0 col5\" >0.4138</td>\n",
       "      <td id=\"T_08bf5_row0_col6\" class=\"data row0 col6\" >0.2495</td>\n",
       "      <td id=\"T_08bf5_row0_col7\" class=\"data row0 col7\" >0.2627</td>\n",
       "      <td id=\"T_08bf5_row0_col8\" class=\"data row0 col8\" >0.0230</td>\n",
       "    </tr>\n",
       "    <tr>\n",
       "      <th id=\"T_08bf5_level0_row1\" class=\"row_heading level0 row1\" >lda</th>\n",
       "      <td id=\"T_08bf5_row1_col0\" class=\"data row1 col0\" >Linear Discriminant Analysis</td>\n",
       "      <td id=\"T_08bf5_row1_col1\" class=\"data row1 col1\" >0.6786</td>\n",
       "      <td id=\"T_08bf5_row1_col2\" class=\"data row1 col2\" >0.6417</td>\n",
       "      <td id=\"T_08bf5_row1_col3\" class=\"data row1 col3\" >0.3667</td>\n",
       "      <td id=\"T_08bf5_row1_col4\" class=\"data row1 col4\" >0.5167</td>\n",
       "      <td id=\"T_08bf5_row1_col5\" class=\"data row1 col5\" >0.4138</td>\n",
       "      <td id=\"T_08bf5_row1_col6\" class=\"data row1 col6\" >0.2495</td>\n",
       "      <td id=\"T_08bf5_row1_col7\" class=\"data row1 col7\" >0.2627</td>\n",
       "      <td id=\"T_08bf5_row1_col8\" class=\"data row1 col8\" >0.0230</td>\n",
       "    </tr>\n",
       "    <tr>\n",
       "      <th id=\"T_08bf5_level0_row2\" class=\"row_heading level0 row2\" >lr</th>\n",
       "      <td id=\"T_08bf5_row2_col0\" class=\"data row2 col0\" >Logistic Regression</td>\n",
       "      <td id=\"T_08bf5_row2_col1\" class=\"data row2 col1\" >0.6768</td>\n",
       "      <td id=\"T_08bf5_row2_col2\" class=\"data row2 col2\" >0.6350</td>\n",
       "      <td id=\"T_08bf5_row2_col3\" class=\"data row2 col3\" >0.4000</td>\n",
       "      <td id=\"T_08bf5_row2_col4\" class=\"data row2 col4\" >0.6000</td>\n",
       "      <td id=\"T_08bf5_row2_col5\" class=\"data row2 col5\" >0.4543</td>\n",
       "      <td id=\"T_08bf5_row2_col6\" class=\"data row2 col6\" >0.2623</td>\n",
       "      <td id=\"T_08bf5_row2_col7\" class=\"data row2 col7\" >0.2865</td>\n",
       "      <td id=\"T_08bf5_row2_col8\" class=\"data row2 col8\" >0.7600</td>\n",
       "    </tr>\n",
       "    <tr>\n",
       "      <th id=\"T_08bf5_level0_row3\" class=\"row_heading level0 row3\" >nb</th>\n",
       "      <td id=\"T_08bf5_row3_col0\" class=\"data row3 col0\" >Naive Bayes</td>\n",
       "      <td id=\"T_08bf5_row3_col1\" class=\"data row3 col1\" >0.6482</td>\n",
       "      <td id=\"T_08bf5_row3_col2\" class=\"data row3 col2\" >0.6250</td>\n",
       "      <td id=\"T_08bf5_row3_col3\" class=\"data row3 col3\" >0.4333</td>\n",
       "      <td id=\"T_08bf5_row3_col4\" class=\"data row3 col4\" >0.5167</td>\n",
       "      <td id=\"T_08bf5_row3_col5\" class=\"data row3 col5\" >0.4638</td>\n",
       "      <td id=\"T_08bf5_row3_col6\" class=\"data row3 col6\" >0.2174</td>\n",
       "      <td id=\"T_08bf5_row3_col7\" class=\"data row3 col7\" >0.2129</td>\n",
       "      <td id=\"T_08bf5_row3_col8\" class=\"data row3 col8\" >0.0040</td>\n",
       "    </tr>\n",
       "    <tr>\n",
       "      <th id=\"T_08bf5_level0_row4\" class=\"row_heading level0 row4\" >lightgbm</th>\n",
       "      <td id=\"T_08bf5_row4_col0\" class=\"data row4 col0\" >Light Gradient Boosting Machine</td>\n",
       "      <td id=\"T_08bf5_row4_col1\" class=\"data row4 col1\" >0.6286</td>\n",
       "      <td id=\"T_08bf5_row4_col2\" class=\"data row4 col2\" >0.5933</td>\n",
       "      <td id=\"T_08bf5_row4_col3\" class=\"data row4 col3\" >0.4000</td>\n",
       "      <td id=\"T_08bf5_row4_col4\" class=\"data row4 col4\" >0.5167</td>\n",
       "      <td id=\"T_08bf5_row4_col5\" class=\"data row4 col5\" >0.4438</td>\n",
       "      <td id=\"T_08bf5_row4_col6\" class=\"data row4 col6\" >0.1793</td>\n",
       "      <td id=\"T_08bf5_row4_col7\" class=\"data row4 col7\" >0.1831</td>\n",
       "      <td id=\"T_08bf5_row4_col8\" class=\"data row4 col8\" >0.1100</td>\n",
       "    </tr>\n",
       "    <tr>\n",
       "      <th id=\"T_08bf5_level0_row5\" class=\"row_heading level0 row5\" >qda</th>\n",
       "      <td id=\"T_08bf5_row5_col0\" class=\"data row5 col0\" >Quadratic Discriminant Analysis</td>\n",
       "      <td id=\"T_08bf5_row5_col1\" class=\"data row5 col1\" >0.6125</td>\n",
       "      <td id=\"T_08bf5_row5_col2\" class=\"data row5 col2\" >0.5617</td>\n",
       "      <td id=\"T_08bf5_row5_col3\" class=\"data row5 col3\" >0.4000</td>\n",
       "      <td id=\"T_08bf5_row5_col4\" class=\"data row5 col4\" >0.4417</td>\n",
       "      <td id=\"T_08bf5_row5_col5\" class=\"data row5 col5\" >0.3995</td>\n",
       "      <td id=\"T_08bf5_row5_col6\" class=\"data row5 col6\" >0.1328</td>\n",
       "      <td id=\"T_08bf5_row5_col7\" class=\"data row5 col7\" >0.1330</td>\n",
       "      <td id=\"T_08bf5_row5_col8\" class=\"data row5 col8\" >0.1000</td>\n",
       "    </tr>\n",
       "    <tr>\n",
       "      <th id=\"T_08bf5_level0_row6\" class=\"row_heading level0 row6\" >dummy</th>\n",
       "      <td id=\"T_08bf5_row6_col0\" class=\"data row6 col0\" >Dummy Classifier</td>\n",
       "      <td id=\"T_08bf5_row6_col1\" class=\"data row6 col1\" >0.6089</td>\n",
       "      <td id=\"T_08bf5_row6_col2\" class=\"data row6 col2\" >0.5000</td>\n",
       "      <td id=\"T_08bf5_row6_col3\" class=\"data row6 col3\" >0.0000</td>\n",
       "      <td id=\"T_08bf5_row6_col4\" class=\"data row6 col4\" >0.0000</td>\n",
       "      <td id=\"T_08bf5_row6_col5\" class=\"data row6 col5\" >0.0000</td>\n",
       "      <td id=\"T_08bf5_row6_col6\" class=\"data row6 col6\" >0.0000</td>\n",
       "      <td id=\"T_08bf5_row6_col7\" class=\"data row6 col7\" >0.0000</td>\n",
       "      <td id=\"T_08bf5_row6_col8\" class=\"data row6 col8\" >0.0060</td>\n",
       "    </tr>\n",
       "    <tr>\n",
       "      <th id=\"T_08bf5_level0_row7\" class=\"row_heading level0 row7\" >ada</th>\n",
       "      <td id=\"T_08bf5_row7_col0\" class=\"data row7 col0\" >Ada Boost Classifier</td>\n",
       "      <td id=\"T_08bf5_row7_col1\" class=\"data row7 col1\" >0.5893</td>\n",
       "      <td id=\"T_08bf5_row7_col2\" class=\"data row7 col2\" >0.6317</td>\n",
       "      <td id=\"T_08bf5_row7_col3\" class=\"data row7 col3\" >0.4667</td>\n",
       "      <td id=\"T_08bf5_row7_col4\" class=\"data row7 col4\" >0.4333</td>\n",
       "      <td id=\"T_08bf5_row7_col5\" class=\"data row7 col5\" >0.4326</td>\n",
       "      <td id=\"T_08bf5_row7_col6\" class=\"data row7 col6\" >0.1220</td>\n",
       "      <td id=\"T_08bf5_row7_col7\" class=\"data row7 col7\" >0.1295</td>\n",
       "      <td id=\"T_08bf5_row7_col8\" class=\"data row7 col8\" >0.0470</td>\n",
       "    </tr>\n",
       "    <tr>\n",
       "      <th id=\"T_08bf5_level0_row8\" class=\"row_heading level0 row8\" >knn</th>\n",
       "      <td id=\"T_08bf5_row8_col0\" class=\"data row8 col0\" >K Neighbors Classifier</td>\n",
       "      <td id=\"T_08bf5_row8_col1\" class=\"data row8 col1\" >0.5857</td>\n",
       "      <td id=\"T_08bf5_row8_col2\" class=\"data row8 col2\" >0.5008</td>\n",
       "      <td id=\"T_08bf5_row8_col3\" class=\"data row8 col3\" >0.2667</td>\n",
       "      <td id=\"T_08bf5_row8_col4\" class=\"data row8 col4\" >0.3500</td>\n",
       "      <td id=\"T_08bf5_row8_col5\" class=\"data row8 col5\" >0.2871</td>\n",
       "      <td id=\"T_08bf5_row8_col6\" class=\"data row8 col6\" >0.0490</td>\n",
       "      <td id=\"T_08bf5_row8_col7\" class=\"data row8 col7\" >0.0538</td>\n",
       "      <td id=\"T_08bf5_row8_col8\" class=\"data row8 col8\" >0.0180</td>\n",
       "    </tr>\n",
       "    <tr>\n",
       "      <th id=\"T_08bf5_level0_row9\" class=\"row_heading level0 row9\" >gbc</th>\n",
       "      <td id=\"T_08bf5_row9_col0\" class=\"data row9 col0\" >Gradient Boosting Classifier</td>\n",
       "      <td id=\"T_08bf5_row9_col1\" class=\"data row9 col1\" >0.5857</td>\n",
       "      <td id=\"T_08bf5_row9_col2\" class=\"data row9 col2\" >0.5700</td>\n",
       "      <td id=\"T_08bf5_row9_col3\" class=\"data row9 col3\" >0.4667</td>\n",
       "      <td id=\"T_08bf5_row9_col4\" class=\"data row9 col4\" >0.3650</td>\n",
       "      <td id=\"T_08bf5_row9_col5\" class=\"data row9 col5\" >0.4071</td>\n",
       "      <td id=\"T_08bf5_row9_col6\" class=\"data row9 col6\" >0.1105</td>\n",
       "      <td id=\"T_08bf5_row9_col7\" class=\"data row9 col7\" >0.0961</td>\n",
       "      <td id=\"T_08bf5_row9_col8\" class=\"data row9 col8\" >0.0270</td>\n",
       "    </tr>\n",
       "    <tr>\n",
       "      <th id=\"T_08bf5_level0_row10\" class=\"row_heading level0 row10\" >et</th>\n",
       "      <td id=\"T_08bf5_row10_col0\" class=\"data row10 col0\" >Extra Trees Classifier</td>\n",
       "      <td id=\"T_08bf5_row10_col1\" class=\"data row10 col1\" >0.5750</td>\n",
       "      <td id=\"T_08bf5_row10_col2\" class=\"data row10 col2\" >0.5058</td>\n",
       "      <td id=\"T_08bf5_row10_col3\" class=\"data row10 col3\" >0.2667</td>\n",
       "      <td id=\"T_08bf5_row10_col4\" class=\"data row10 col4\" >0.2833</td>\n",
       "      <td id=\"T_08bf5_row10_col5\" class=\"data row10 col5\" >0.2705</td>\n",
       "      <td id=\"T_08bf5_row10_col6\" class=\"data row10 col6\" >0.0192</td>\n",
       "      <td id=\"T_08bf5_row10_col7\" class=\"data row10 col7\" >0.0006</td>\n",
       "      <td id=\"T_08bf5_row10_col8\" class=\"data row10 col8\" >0.0460</td>\n",
       "    </tr>\n",
       "    <tr>\n",
       "      <th id=\"T_08bf5_level0_row11\" class=\"row_heading level0 row11\" >rf</th>\n",
       "      <td id=\"T_08bf5_row11_col0\" class=\"data row11 col0\" >Random Forest Classifier</td>\n",
       "      <td id=\"T_08bf5_row11_col1\" class=\"data row11 col1\" >0.5732</td>\n",
       "      <td id=\"T_08bf5_row11_col2\" class=\"data row11 col2\" >0.5450</td>\n",
       "      <td id=\"T_08bf5_row11_col3\" class=\"data row11 col3\" >0.3333</td>\n",
       "      <td id=\"T_08bf5_row11_col4\" class=\"data row11 col4\" >0.3500</td>\n",
       "      <td id=\"T_08bf5_row11_col5\" class=\"data row11 col5\" >0.3371</td>\n",
       "      <td id=\"T_08bf5_row11_col6\" class=\"data row11 col6\" >0.0443</td>\n",
       "      <td id=\"T_08bf5_row11_col7\" class=\"data row11 col7\" >0.0278</td>\n",
       "      <td id=\"T_08bf5_row11_col8\" class=\"data row11 col8\" >0.1260</td>\n",
       "    </tr>\n",
       "    <tr>\n",
       "      <th id=\"T_08bf5_level0_row12\" class=\"row_heading level0 row12\" >svm</th>\n",
       "      <td id=\"T_08bf5_row12_col0\" class=\"data row12 col0\" >SVM - Linear Kernel</td>\n",
       "      <td id=\"T_08bf5_row12_col1\" class=\"data row12 col1\" >0.5518</td>\n",
       "      <td id=\"T_08bf5_row12_col2\" class=\"data row12 col2\" >0.0000</td>\n",
       "      <td id=\"T_08bf5_row12_col3\" class=\"data row12 col3\" >0.4667</td>\n",
       "      <td id=\"T_08bf5_row12_col4\" class=\"data row12 col4\" >0.3833</td>\n",
       "      <td id=\"T_08bf5_row12_col5\" class=\"data row12 col5\" >0.4155</td>\n",
       "      <td id=\"T_08bf5_row12_col6\" class=\"data row12 col6\" >0.0594</td>\n",
       "      <td id=\"T_08bf5_row12_col7\" class=\"data row12 col7\" >0.0591</td>\n",
       "      <td id=\"T_08bf5_row12_col8\" class=\"data row12 col8\" >0.0680</td>\n",
       "    </tr>\n",
       "    <tr>\n",
       "      <th id=\"T_08bf5_level0_row13\" class=\"row_heading level0 row13\" >xgboost</th>\n",
       "      <td id=\"T_08bf5_row13_col0\" class=\"data row13 col0\" >Extreme Gradient Boosting</td>\n",
       "      <td id=\"T_08bf5_row13_col1\" class=\"data row13 col1\" >0.5482</td>\n",
       "      <td id=\"T_08bf5_row13_col2\" class=\"data row13 col2\" >0.5633</td>\n",
       "      <td id=\"T_08bf5_row13_col3\" class=\"data row13 col3\" >0.4000</td>\n",
       "      <td id=\"T_08bf5_row13_col4\" class=\"data row13 col4\" >0.3900</td>\n",
       "      <td id=\"T_08bf5_row13_col5\" class=\"data row13 col5\" >0.3843</td>\n",
       "      <td id=\"T_08bf5_row13_col6\" class=\"data row13 col6\" >0.0395</td>\n",
       "      <td id=\"T_08bf5_row13_col7\" class=\"data row13 col7\" >0.0372</td>\n",
       "      <td id=\"T_08bf5_row13_col8\" class=\"data row13 col8\" >0.1830</td>\n",
       "    </tr>\n",
       "    <tr>\n",
       "      <th id=\"T_08bf5_level0_row14\" class=\"row_heading level0 row14\" >dt</th>\n",
       "      <td id=\"T_08bf5_row14_col0\" class=\"data row14 col0\" >Decision Tree Classifier</td>\n",
       "      <td id=\"T_08bf5_row14_col1\" class=\"data row14 col1\" >0.4696</td>\n",
       "      <td id=\"T_08bf5_row14_col2\" class=\"data row14 col2\" >0.4508</td>\n",
       "      <td id=\"T_08bf5_row14_col3\" class=\"data row14 col3\" >0.3667</td>\n",
       "      <td id=\"T_08bf5_row14_col4\" class=\"data row14 col4\" >0.3000</td>\n",
       "      <td id=\"T_08bf5_row14_col5\" class=\"data row14 col5\" >0.3250</td>\n",
       "      <td id=\"T_08bf5_row14_col6\" class=\"data row14 col6\" >-0.1003</td>\n",
       "      <td id=\"T_08bf5_row14_col7\" class=\"data row14 col7\" >-0.1123</td>\n",
       "      <td id=\"T_08bf5_row14_col8\" class=\"data row14 col8\" >0.0460</td>\n",
       "    </tr>\n",
       "  </tbody>\n",
       "</table>\n"
      ],
      "text/plain": [
       "<pandas.io.formats.style.Styler at 0x7f7eb1dd64f0>"
      ]
     },
     "metadata": {},
     "output_type": "display_data"
    }
   ],
   "source": [
    "best_model = compare_models()"
   ]
  },
  {
   "cell_type": "code",
   "execution_count": 87,
   "id": "fd668b2a-fdf3-44f9-ad77-f45c53e4d2f0",
   "metadata": {},
   "outputs": [
    {
     "data": {
      "text/html": [
       "<style type=\"text/css\">\n",
       "#T_32243_row10_col0, #T_32243_row10_col1, #T_32243_row10_col2, #T_32243_row10_col3, #T_32243_row10_col4, #T_32243_row10_col5, #T_32243_row10_col6 {\n",
       "  background: yellow;\n",
       "}\n",
       "</style>\n",
       "<table id=\"T_32243_\">\n",
       "  <thead>\n",
       "    <tr>\n",
       "      <th class=\"blank level0\" >&nbsp;</th>\n",
       "      <th class=\"col_heading level0 col0\" >Accuracy</th>\n",
       "      <th class=\"col_heading level0 col1\" >AUC</th>\n",
       "      <th class=\"col_heading level0 col2\" >Recall</th>\n",
       "      <th class=\"col_heading level0 col3\" >Prec.</th>\n",
       "      <th class=\"col_heading level0 col4\" >F1</th>\n",
       "      <th class=\"col_heading level0 col5\" >Kappa</th>\n",
       "      <th class=\"col_heading level0 col6\" >MCC</th>\n",
       "    </tr>\n",
       "  </thead>\n",
       "  <tbody>\n",
       "    <tr>\n",
       "      <th id=\"T_32243_level0_row0\" class=\"row_heading level0 row0\" >0</th>\n",
       "      <td id=\"T_32243_row0_col0\" class=\"data row0 col0\" >0.5000</td>\n",
       "      <td id=\"T_32243_row0_col1\" class=\"data row0 col1\" >0.2667</td>\n",
       "      <td id=\"T_32243_row0_col2\" class=\"data row0 col2\" >0.0000</td>\n",
       "      <td id=\"T_32243_row0_col3\" class=\"data row0 col3\" >0.0000</td>\n",
       "      <td id=\"T_32243_row0_col4\" class=\"data row0 col4\" >0.0000</td>\n",
       "      <td id=\"T_32243_row0_col5\" class=\"data row0 col5\" >-0.2308</td>\n",
       "      <td id=\"T_32243_row0_col6\" class=\"data row0 col6\" >-0.2928</td>\n",
       "    </tr>\n",
       "    <tr>\n",
       "      <th id=\"T_32243_level0_row1\" class=\"row_heading level0 row1\" >1</th>\n",
       "      <td id=\"T_32243_row1_col0\" class=\"data row1 col0\" >0.7500</td>\n",
       "      <td id=\"T_32243_row1_col1\" class=\"data row1 col1\" >0.4000</td>\n",
       "      <td id=\"T_32243_row1_col2\" class=\"data row1 col2\" >0.3333</td>\n",
       "      <td id=\"T_32243_row1_col3\" class=\"data row1 col3\" >1.0000</td>\n",
       "      <td id=\"T_32243_row1_col4\" class=\"data row1 col4\" >0.5000</td>\n",
       "      <td id=\"T_32243_row1_col5\" class=\"data row1 col5\" >0.3846</td>\n",
       "      <td id=\"T_32243_row1_col6\" class=\"data row1 col6\" >0.4880</td>\n",
       "    </tr>\n",
       "    <tr>\n",
       "      <th id=\"T_32243_level0_row2\" class=\"row_heading level0 row2\" >2</th>\n",
       "      <td id=\"T_32243_row2_col0\" class=\"data row2 col0\" >0.6250</td>\n",
       "      <td id=\"T_32243_row2_col1\" class=\"data row2 col1\" >0.5333</td>\n",
       "      <td id=\"T_32243_row2_col2\" class=\"data row2 col2\" >0.3333</td>\n",
       "      <td id=\"T_32243_row2_col3\" class=\"data row2 col3\" >0.5000</td>\n",
       "      <td id=\"T_32243_row2_col4\" class=\"data row2 col4\" >0.4000</td>\n",
       "      <td id=\"T_32243_row2_col5\" class=\"data row2 col5\" >0.1429</td>\n",
       "      <td id=\"T_32243_row2_col6\" class=\"data row2 col6\" >0.1491</td>\n",
       "    </tr>\n",
       "    <tr>\n",
       "      <th id=\"T_32243_level0_row3\" class=\"row_heading level0 row3\" >3</th>\n",
       "      <td id=\"T_32243_row3_col0\" class=\"data row3 col0\" >0.6250</td>\n",
       "      <td id=\"T_32243_row3_col1\" class=\"data row3 col1\" >0.8000</td>\n",
       "      <td id=\"T_32243_row3_col2\" class=\"data row3 col2\" >0.3333</td>\n",
       "      <td id=\"T_32243_row3_col3\" class=\"data row3 col3\" >0.5000</td>\n",
       "      <td id=\"T_32243_row3_col4\" class=\"data row3 col4\" >0.4000</td>\n",
       "      <td id=\"T_32243_row3_col5\" class=\"data row3 col5\" >0.1429</td>\n",
       "      <td id=\"T_32243_row3_col6\" class=\"data row3 col6\" >0.1491</td>\n",
       "    </tr>\n",
       "    <tr>\n",
       "      <th id=\"T_32243_level0_row4\" class=\"row_heading level0 row4\" >4</th>\n",
       "      <td id=\"T_32243_row4_col0\" class=\"data row4 col0\" >0.6250</td>\n",
       "      <td id=\"T_32243_row4_col1\" class=\"data row4 col1\" >0.0000</td>\n",
       "      <td id=\"T_32243_row4_col2\" class=\"data row4 col2\" >0.0000</td>\n",
       "      <td id=\"T_32243_row4_col3\" class=\"data row4 col3\" >0.0000</td>\n",
       "      <td id=\"T_32243_row4_col4\" class=\"data row4 col4\" >0.0000</td>\n",
       "      <td id=\"T_32243_row4_col5\" class=\"data row4 col5\" >0.0000</td>\n",
       "      <td id=\"T_32243_row4_col6\" class=\"data row4 col6\" >0.0000</td>\n",
       "    </tr>\n",
       "    <tr>\n",
       "      <th id=\"T_32243_level0_row5\" class=\"row_heading level0 row5\" >5</th>\n",
       "      <td id=\"T_32243_row5_col0\" class=\"data row5 col0\" >0.6250</td>\n",
       "      <td id=\"T_32243_row5_col1\" class=\"data row5 col1\" >0.8000</td>\n",
       "      <td id=\"T_32243_row5_col2\" class=\"data row5 col2\" >0.6667</td>\n",
       "      <td id=\"T_32243_row5_col3\" class=\"data row5 col3\" >0.5000</td>\n",
       "      <td id=\"T_32243_row5_col4\" class=\"data row5 col4\" >0.5714</td>\n",
       "      <td id=\"T_32243_row5_col5\" class=\"data row5 col5\" >0.2500</td>\n",
       "      <td id=\"T_32243_row5_col6\" class=\"data row5 col6\" >0.2582</td>\n",
       "    </tr>\n",
       "    <tr>\n",
       "      <th id=\"T_32243_level0_row6\" class=\"row_heading level0 row6\" >6</th>\n",
       "      <td id=\"T_32243_row6_col0\" class=\"data row6 col0\" >0.8750</td>\n",
       "      <td id=\"T_32243_row6_col1\" class=\"data row6 col1\" >0.8000</td>\n",
       "      <td id=\"T_32243_row6_col2\" class=\"data row6 col2\" >0.6667</td>\n",
       "      <td id=\"T_32243_row6_col3\" class=\"data row6 col3\" >1.0000</td>\n",
       "      <td id=\"T_32243_row6_col4\" class=\"data row6 col4\" >0.8000</td>\n",
       "      <td id=\"T_32243_row6_col5\" class=\"data row6 col5\" >0.7143</td>\n",
       "      <td id=\"T_32243_row6_col6\" class=\"data row6 col6\" >0.7454</td>\n",
       "    </tr>\n",
       "    <tr>\n",
       "      <th id=\"T_32243_level0_row7\" class=\"row_heading level0 row7\" >7</th>\n",
       "      <td id=\"T_32243_row7_col0\" class=\"data row7 col0\" >0.7143</td>\n",
       "      <td id=\"T_32243_row7_col1\" class=\"data row7 col1\" >1.0000</td>\n",
       "      <td id=\"T_32243_row7_col2\" class=\"data row7 col2\" >0.3333</td>\n",
       "      <td id=\"T_32243_row7_col3\" class=\"data row7 col3\" >1.0000</td>\n",
       "      <td id=\"T_32243_row7_col4\" class=\"data row7 col4\" >0.5000</td>\n",
       "      <td id=\"T_32243_row7_col5\" class=\"data row7 col5\" >0.3636</td>\n",
       "      <td id=\"T_32243_row7_col6\" class=\"data row7 col6\" >0.4714</td>\n",
       "    </tr>\n",
       "    <tr>\n",
       "      <th id=\"T_32243_level0_row8\" class=\"row_heading level0 row8\" >8</th>\n",
       "      <td id=\"T_32243_row8_col0\" class=\"data row8 col0\" >0.5714</td>\n",
       "      <td id=\"T_32243_row8_col1\" class=\"data row8 col1\" >0.7500</td>\n",
       "      <td id=\"T_32243_row8_col2\" class=\"data row8 col2\" >0.6667</td>\n",
       "      <td id=\"T_32243_row8_col3\" class=\"data row8 col3\" >0.5000</td>\n",
       "      <td id=\"T_32243_row8_col4\" class=\"data row8 col4\" >0.5714</td>\n",
       "      <td id=\"T_32243_row8_col5\" class=\"data row8 col5\" >0.1600</td>\n",
       "      <td id=\"T_32243_row8_col6\" class=\"data row8 col6\" >0.1667</td>\n",
       "    </tr>\n",
       "    <tr>\n",
       "      <th id=\"T_32243_level0_row9\" class=\"row_heading level0 row9\" >9</th>\n",
       "      <td id=\"T_32243_row9_col0\" class=\"data row9 col0\" >0.8571</td>\n",
       "      <td id=\"T_32243_row9_col1\" class=\"data row9 col1\" >1.0000</td>\n",
       "      <td id=\"T_32243_row9_col2\" class=\"data row9 col2\" >0.6667</td>\n",
       "      <td id=\"T_32243_row9_col3\" class=\"data row9 col3\" >1.0000</td>\n",
       "      <td id=\"T_32243_row9_col4\" class=\"data row9 col4\" >0.8000</td>\n",
       "      <td id=\"T_32243_row9_col5\" class=\"data row9 col5\" >0.6957</td>\n",
       "      <td id=\"T_32243_row9_col6\" class=\"data row9 col6\" >0.7303</td>\n",
       "    </tr>\n",
       "    <tr>\n",
       "      <th id=\"T_32243_level0_row10\" class=\"row_heading level0 row10\" >Mean</th>\n",
       "      <td id=\"T_32243_row10_col0\" class=\"data row10 col0\" >0.6768</td>\n",
       "      <td id=\"T_32243_row10_col1\" class=\"data row10 col1\" >0.6350</td>\n",
       "      <td id=\"T_32243_row10_col2\" class=\"data row10 col2\" >0.4000</td>\n",
       "      <td id=\"T_32243_row10_col3\" class=\"data row10 col3\" >0.6000</td>\n",
       "      <td id=\"T_32243_row10_col4\" class=\"data row10 col4\" >0.4543</td>\n",
       "      <td id=\"T_32243_row10_col5\" class=\"data row10 col5\" >0.2623</td>\n",
       "      <td id=\"T_32243_row10_col6\" class=\"data row10 col6\" >0.2865</td>\n",
       "    </tr>\n",
       "    <tr>\n",
       "      <th id=\"T_32243_level0_row11\" class=\"row_heading level0 row11\" >SD</th>\n",
       "      <td id=\"T_32243_row11_col0\" class=\"data row11 col0\" >0.1147</td>\n",
       "      <td id=\"T_32243_row11_col1\" class=\"data row11 col1\" >0.3108</td>\n",
       "      <td id=\"T_32243_row11_col2\" class=\"data row11 col2\" >0.2494</td>\n",
       "      <td id=\"T_32243_row11_col3\" class=\"data row11 col3\" >0.3742</td>\n",
       "      <td id=\"T_32243_row11_col4\" class=\"data row11 col4\" >0.2625</td>\n",
       "      <td id=\"T_32243_row11_col5\" class=\"data row11 col5\" >0.2772</td>\n",
       "      <td id=\"T_32243_row11_col6\" class=\"data row11 col6\" >0.3087</td>\n",
       "    </tr>\n",
       "  </tbody>\n",
       "</table>\n"
      ],
      "text/plain": [
       "<pandas.io.formats.style.Styler at 0x7f7e6020f730>"
      ]
     },
     "metadata": {},
     "output_type": "display_data"
    }
   ],
   "source": [
    "# we create the model that maximize AUC\n",
    "model = create_model('lr')"
   ]
  },
  {
   "cell_type": "code",
   "execution_count": 88,
   "id": "acc64398-d95e-4c09-87f1-85921f44c1ff",
   "metadata": {},
   "outputs": [
    {
     "data": {
      "text/html": [
       "<style type=\"text/css\">\n",
       "#T_925c4_row10_col0, #T_925c4_row10_col1, #T_925c4_row10_col2, #T_925c4_row10_col3, #T_925c4_row10_col4, #T_925c4_row10_col5, #T_925c4_row10_col6 {\n",
       "  background: yellow;\n",
       "}\n",
       "</style>\n",
       "<table id=\"T_925c4_\">\n",
       "  <thead>\n",
       "    <tr>\n",
       "      <th class=\"blank level0\" >&nbsp;</th>\n",
       "      <th class=\"col_heading level0 col0\" >Accuracy</th>\n",
       "      <th class=\"col_heading level0 col1\" >AUC</th>\n",
       "      <th class=\"col_heading level0 col2\" >Recall</th>\n",
       "      <th class=\"col_heading level0 col3\" >Prec.</th>\n",
       "      <th class=\"col_heading level0 col4\" >F1</th>\n",
       "      <th class=\"col_heading level0 col5\" >Kappa</th>\n",
       "      <th class=\"col_heading level0 col6\" >MCC</th>\n",
       "    </tr>\n",
       "  </thead>\n",
       "  <tbody>\n",
       "    <tr>\n",
       "      <th id=\"T_925c4_level0_row0\" class=\"row_heading level0 row0\" >0</th>\n",
       "      <td id=\"T_925c4_row0_col0\" class=\"data row0 col0\" >0.5000</td>\n",
       "      <td id=\"T_925c4_row0_col1\" class=\"data row0 col1\" >0.2667</td>\n",
       "      <td id=\"T_925c4_row0_col2\" class=\"data row0 col2\" >0.0000</td>\n",
       "      <td id=\"T_925c4_row0_col3\" class=\"data row0 col3\" >0.0000</td>\n",
       "      <td id=\"T_925c4_row0_col4\" class=\"data row0 col4\" >0.0000</td>\n",
       "      <td id=\"T_925c4_row0_col5\" class=\"data row0 col5\" >-0.2308</td>\n",
       "      <td id=\"T_925c4_row0_col6\" class=\"data row0 col6\" >-0.2928</td>\n",
       "    </tr>\n",
       "    <tr>\n",
       "      <th id=\"T_925c4_level0_row1\" class=\"row_heading level0 row1\" >1</th>\n",
       "      <td id=\"T_925c4_row1_col0\" class=\"data row1 col0\" >0.7500</td>\n",
       "      <td id=\"T_925c4_row1_col1\" class=\"data row1 col1\" >0.4000</td>\n",
       "      <td id=\"T_925c4_row1_col2\" class=\"data row1 col2\" >0.3333</td>\n",
       "      <td id=\"T_925c4_row1_col3\" class=\"data row1 col3\" >1.0000</td>\n",
       "      <td id=\"T_925c4_row1_col4\" class=\"data row1 col4\" >0.5000</td>\n",
       "      <td id=\"T_925c4_row1_col5\" class=\"data row1 col5\" >0.3846</td>\n",
       "      <td id=\"T_925c4_row1_col6\" class=\"data row1 col6\" >0.4880</td>\n",
       "    </tr>\n",
       "    <tr>\n",
       "      <th id=\"T_925c4_level0_row2\" class=\"row_heading level0 row2\" >2</th>\n",
       "      <td id=\"T_925c4_row2_col0\" class=\"data row2 col0\" >0.7500</td>\n",
       "      <td id=\"T_925c4_row2_col1\" class=\"data row2 col1\" >0.5333</td>\n",
       "      <td id=\"T_925c4_row2_col2\" class=\"data row2 col2\" >0.6667</td>\n",
       "      <td id=\"T_925c4_row2_col3\" class=\"data row2 col3\" >0.6667</td>\n",
       "      <td id=\"T_925c4_row2_col4\" class=\"data row2 col4\" >0.6667</td>\n",
       "      <td id=\"T_925c4_row2_col5\" class=\"data row2 col5\" >0.4667</td>\n",
       "      <td id=\"T_925c4_row2_col6\" class=\"data row2 col6\" >0.4667</td>\n",
       "    </tr>\n",
       "    <tr>\n",
       "      <th id=\"T_925c4_level0_row3\" class=\"row_heading level0 row3\" >3</th>\n",
       "      <td id=\"T_925c4_row3_col0\" class=\"data row3 col0\" >0.6250</td>\n",
       "      <td id=\"T_925c4_row3_col1\" class=\"data row3 col1\" >0.8000</td>\n",
       "      <td id=\"T_925c4_row3_col2\" class=\"data row3 col2\" >0.3333</td>\n",
       "      <td id=\"T_925c4_row3_col3\" class=\"data row3 col3\" >0.5000</td>\n",
       "      <td id=\"T_925c4_row3_col4\" class=\"data row3 col4\" >0.4000</td>\n",
       "      <td id=\"T_925c4_row3_col5\" class=\"data row3 col5\" >0.1429</td>\n",
       "      <td id=\"T_925c4_row3_col6\" class=\"data row3 col6\" >0.1491</td>\n",
       "    </tr>\n",
       "    <tr>\n",
       "      <th id=\"T_925c4_level0_row4\" class=\"row_heading level0 row4\" >4</th>\n",
       "      <td id=\"T_925c4_row4_col0\" class=\"data row4 col0\" >0.6250</td>\n",
       "      <td id=\"T_925c4_row4_col1\" class=\"data row4 col1\" >0.0000</td>\n",
       "      <td id=\"T_925c4_row4_col2\" class=\"data row4 col2\" >0.0000</td>\n",
       "      <td id=\"T_925c4_row4_col3\" class=\"data row4 col3\" >0.0000</td>\n",
       "      <td id=\"T_925c4_row4_col4\" class=\"data row4 col4\" >0.0000</td>\n",
       "      <td id=\"T_925c4_row4_col5\" class=\"data row4 col5\" >0.0000</td>\n",
       "      <td id=\"T_925c4_row4_col6\" class=\"data row4 col6\" >0.0000</td>\n",
       "    </tr>\n",
       "    <tr>\n",
       "      <th id=\"T_925c4_level0_row5\" class=\"row_heading level0 row5\" >5</th>\n",
       "      <td id=\"T_925c4_row5_col0\" class=\"data row5 col0\" >0.6250</td>\n",
       "      <td id=\"T_925c4_row5_col1\" class=\"data row5 col1\" >0.8000</td>\n",
       "      <td id=\"T_925c4_row5_col2\" class=\"data row5 col2\" >0.6667</td>\n",
       "      <td id=\"T_925c4_row5_col3\" class=\"data row5 col3\" >0.5000</td>\n",
       "      <td id=\"T_925c4_row5_col4\" class=\"data row5 col4\" >0.5714</td>\n",
       "      <td id=\"T_925c4_row5_col5\" class=\"data row5 col5\" >0.2500</td>\n",
       "      <td id=\"T_925c4_row5_col6\" class=\"data row5 col6\" >0.2582</td>\n",
       "    </tr>\n",
       "    <tr>\n",
       "      <th id=\"T_925c4_level0_row6\" class=\"row_heading level0 row6\" >6</th>\n",
       "      <td id=\"T_925c4_row6_col0\" class=\"data row6 col0\" >0.8750</td>\n",
       "      <td id=\"T_925c4_row6_col1\" class=\"data row6 col1\" >0.8000</td>\n",
       "      <td id=\"T_925c4_row6_col2\" class=\"data row6 col2\" >0.6667</td>\n",
       "      <td id=\"T_925c4_row6_col3\" class=\"data row6 col3\" >1.0000</td>\n",
       "      <td id=\"T_925c4_row6_col4\" class=\"data row6 col4\" >0.8000</td>\n",
       "      <td id=\"T_925c4_row6_col5\" class=\"data row6 col5\" >0.7143</td>\n",
       "      <td id=\"T_925c4_row6_col6\" class=\"data row6 col6\" >0.7454</td>\n",
       "    </tr>\n",
       "    <tr>\n",
       "      <th id=\"T_925c4_level0_row7\" class=\"row_heading level0 row7\" >7</th>\n",
       "      <td id=\"T_925c4_row7_col0\" class=\"data row7 col0\" >0.7143</td>\n",
       "      <td id=\"T_925c4_row7_col1\" class=\"data row7 col1\" >1.0000</td>\n",
       "      <td id=\"T_925c4_row7_col2\" class=\"data row7 col2\" >0.3333</td>\n",
       "      <td id=\"T_925c4_row7_col3\" class=\"data row7 col3\" >1.0000</td>\n",
       "      <td id=\"T_925c4_row7_col4\" class=\"data row7 col4\" >0.5000</td>\n",
       "      <td id=\"T_925c4_row7_col5\" class=\"data row7 col5\" >0.3636</td>\n",
       "      <td id=\"T_925c4_row7_col6\" class=\"data row7 col6\" >0.4714</td>\n",
       "    </tr>\n",
       "    <tr>\n",
       "      <th id=\"T_925c4_level0_row8\" class=\"row_heading level0 row8\" >8</th>\n",
       "      <td id=\"T_925c4_row8_col0\" class=\"data row8 col0\" >0.5714</td>\n",
       "      <td id=\"T_925c4_row8_col1\" class=\"data row8 col1\" >0.7500</td>\n",
       "      <td id=\"T_925c4_row8_col2\" class=\"data row8 col2\" >0.6667</td>\n",
       "      <td id=\"T_925c4_row8_col3\" class=\"data row8 col3\" >0.5000</td>\n",
       "      <td id=\"T_925c4_row8_col4\" class=\"data row8 col4\" >0.5714</td>\n",
       "      <td id=\"T_925c4_row8_col5\" class=\"data row8 col5\" >0.1600</td>\n",
       "      <td id=\"T_925c4_row8_col6\" class=\"data row8 col6\" >0.1667</td>\n",
       "    </tr>\n",
       "    <tr>\n",
       "      <th id=\"T_925c4_level0_row9\" class=\"row_heading level0 row9\" >9</th>\n",
       "      <td id=\"T_925c4_row9_col0\" class=\"data row9 col0\" >0.8571</td>\n",
       "      <td id=\"T_925c4_row9_col1\" class=\"data row9 col1\" >1.0000</td>\n",
       "      <td id=\"T_925c4_row9_col2\" class=\"data row9 col2\" >0.6667</td>\n",
       "      <td id=\"T_925c4_row9_col3\" class=\"data row9 col3\" >1.0000</td>\n",
       "      <td id=\"T_925c4_row9_col4\" class=\"data row9 col4\" >0.8000</td>\n",
       "      <td id=\"T_925c4_row9_col5\" class=\"data row9 col5\" >0.6957</td>\n",
       "      <td id=\"T_925c4_row9_col6\" class=\"data row9 col6\" >0.7303</td>\n",
       "    </tr>\n",
       "    <tr>\n",
       "      <th id=\"T_925c4_level0_row10\" class=\"row_heading level0 row10\" >Mean</th>\n",
       "      <td id=\"T_925c4_row10_col0\" class=\"data row10 col0\" >0.6893</td>\n",
       "      <td id=\"T_925c4_row10_col1\" class=\"data row10 col1\" >0.6350</td>\n",
       "      <td id=\"T_925c4_row10_col2\" class=\"data row10 col2\" >0.4333</td>\n",
       "      <td id=\"T_925c4_row10_col3\" class=\"data row10 col3\" >0.6167</td>\n",
       "      <td id=\"T_925c4_row10_col4\" class=\"data row10 col4\" >0.4810</td>\n",
       "      <td id=\"T_925c4_row10_col5\" class=\"data row10 col5\" >0.2947</td>\n",
       "      <td id=\"T_925c4_row10_col6\" class=\"data row10 col6\" >0.3183</td>\n",
       "    </tr>\n",
       "    <tr>\n",
       "      <th id=\"T_925c4_level0_row11\" class=\"row_heading level0 row11\" >SD</th>\n",
       "      <td id=\"T_925c4_row11_col0\" class=\"data row11 col0\" >0.1152</td>\n",
       "      <td id=\"T_925c4_row11_col1\" class=\"data row11 col1\" >0.3108</td>\n",
       "      <td id=\"T_925c4_row11_col2\" class=\"data row11 col2\" >0.2603</td>\n",
       "      <td id=\"T_925c4_row11_col3\" class=\"data row11 col3\" >0.3731</td>\n",
       "      <td id=\"T_925c4_row11_col4\" class=\"data row11 col4\" >0.2691</td>\n",
       "      <td id=\"T_925c4_row11_col5\" class=\"data row11 col5\" >0.2802</td>\n",
       "      <td id=\"T_925c4_row11_col6\" class=\"data row11 col6\" >0.3092</td>\n",
       "    </tr>\n",
       "  </tbody>\n",
       "</table>\n"
      ],
      "text/plain": [
       "<pandas.io.formats.style.Styler at 0x7f7e89c1c670>"
      ]
     },
     "metadata": {},
     "output_type": "display_data"
    }
   ],
   "source": [
    "tuned_model = tune_model(model)"
   ]
  },
  {
   "cell_type": "code",
   "execution_count": 89,
   "id": "b133afe0-8f1e-4e03-8802-acc0ede213a5",
   "metadata": {},
   "outputs": [
    {
     "data": {
      "image/png": "[encoded data removed]",
      "text/plain": [
       "<Figure size 576x396 with 1 Axes>"
      ]
     },
     "metadata": {},
     "output_type": "display_data"
    }
   ],
   "source": [
    "plot_model(tuned_model)"
   ]
  },
  {
   "cell_type": "code",
   "execution_count": 90,
   "id": "64ce45a2-4e11-4ff9-853e-c7f1db5bf2e4",
   "metadata": {},
   "outputs": [
    {
     "data": {
      "image/png": "[encoded data removed]",
      "text/plain": [
       "<Figure size 576x396 with 1 Axes>"
      ]
     },
     "metadata": {},
     "output_type": "display_data"
    }
   ],
   "source": [
    "plot_model(tuned_model, plot = 'pr')"
   ]
  },
  {
   "cell_type": "code",
   "execution_count": 91,
   "id": "d4cffd42-25c8-4bf2-9390-4335821112c4",
   "metadata": {},
   "outputs": [
    {
     "data": {
      "image/png": "[encoded data removed]",
      "text/plain": [
       "<Figure size 576x396 with 1 Axes>"
      ]
     },
     "metadata": {},
     "output_type": "display_data"
    }
   ],
   "source": [
    "plot_model(tuned_model, plot = 'confusion_matrix')"
   ]
  },
  {
   "cell_type": "code",
   "execution_count": 92,
   "id": "34d91746-d3f0-42c0-9f5c-9ad31998b458",
   "metadata": {},
   "outputs": [
    {
     "data": {
      "image/png": "[encoded data removed]",
      "text/plain": [
       "<Figure size 800x500 with 1 Axes>"
      ]
     },
     "metadata": {},
     "output_type": "display_data"
    }
   ],
   "source": [
    "plot_model(tuned_model, plot = 'feature')"
   ]
  },
  {
   "cell_type": "code",
   "execution_count": 93,
   "id": "098c37af-8a7b-40c3-ad27-f5e5ce5f4343",
   "metadata": {},
   "outputs": [
    {
     "ename": "TypeError",
     "evalue": "This function only supports tree based models for binary classification: rf, lightgbm, dt, et, xgboost.",
     "output_type": "error",
     "traceback": [
      "\u001b[0;31m---------------------------------------------------------------------------\u001b[0m",
      "\u001b[0;31mTypeError\u001b[0m                                 Traceback (most recent call last)",
      "\u001b[0;32m<ipython-input-93-fe0d132d012b>\u001b[0m in \u001b[0;36m<module>\u001b[0;34m\u001b[0m\n\u001b[0;32m----> 1\u001b[0;31m \u001b[0minterpret_model\u001b[0m\u001b[0;34m(\u001b[0m\u001b[0mtuned_model\u001b[0m\u001b[0;34m)\u001b[0m\u001b[0;34m\u001b[0m\u001b[0;34m\u001b[0m\u001b[0m\n\u001b[0m",
      "\u001b[0;32m/opt/homebrew/Caskroom/miniconda/base/lib/python3.8/site-packages/pycaret/classification.py\u001b[0m in \u001b[0;36minterpret_model\u001b[0;34m(estimator, plot, feature, observation, use_train_data, X_new_sample, y_new_sample, save, **kwargs)\u001b[0m\n\u001b[1;32m   1760\u001b[0m     \"\"\"\n\u001b[1;32m   1761\u001b[0m \u001b[0;34m\u001b[0m\u001b[0m\n\u001b[0;32m-> 1762\u001b[0;31m     return pycaret.internal.tabular.interpret_model(\n\u001b[0m\u001b[1;32m   1763\u001b[0m         \u001b[0mestimator\u001b[0m\u001b[0;34m=\u001b[0m\u001b[0mestimator\u001b[0m\u001b[0;34m,\u001b[0m\u001b[0;34m\u001b[0m\u001b[0;34m\u001b[0m\u001b[0m\n\u001b[1;32m   1764\u001b[0m         \u001b[0mplot\u001b[0m\u001b[0;34m=\u001b[0m\u001b[0mplot\u001b[0m\u001b[0;34m,\u001b[0m\u001b[0;34m\u001b[0m\u001b[0;34m\u001b[0m\u001b[0m\n",
      "\u001b[0;32m/opt/homebrew/Caskroom/miniconda/base/lib/python3.8/site-packages/pycaret/internal/tabular.py\u001b[0m in \u001b[0;36minterpret_model\u001b[0;34m(estimator, plot, feature, observation, use_train_data, X_new_sample, y_new_sample, save, **kwargs)\u001b[0m\n\u001b[1;32m   7667\u001b[0m         \u001b[0mmodel_id\u001b[0m \u001b[0;32mnot\u001b[0m \u001b[0;32min\u001b[0m \u001b[0mshap_models_ids\u001b[0m\u001b[0;34m\u001b[0m\u001b[0;34m\u001b[0m\u001b[0m\n\u001b[1;32m   7668\u001b[0m     ):\n\u001b[0;32m-> 7669\u001b[0;31m         raise TypeError(\n\u001b[0m\u001b[1;32m   7670\u001b[0m             \u001b[0;34mf\"This function only supports tree based models for binary classification: {', '.join(shap_models_ids)}.\"\u001b[0m\u001b[0;34m\u001b[0m\u001b[0;34m\u001b[0m\u001b[0m\n\u001b[1;32m   7671\u001b[0m         )\n",
      "\u001b[0;31mTypeError\u001b[0m: This function only supports tree based models for binary classification: rf, lightgbm, dt, et, xgboost."
     ]
    }
   ],
   "source": [
    "interpret_model(tuned_model)"
   ]
  },
  {
   "cell_type": "markdown",
   "id": "3b4986fb-2dbd-418d-8fdf-46727d99e222",
   "metadata": {
    "tags": []
   },
   "source": [
    "# Processing gene data"
   ]
  },
  {
   "cell_type": "markdown",
   "id": "2abe045a-1f2c-4c19-9d07-4b82c98ce7de",
   "metadata": {
    "tags": []
   },
   "source": [
    "## removing gene cols with missing values"
   ]
  },
  {
   "cell_type": "code",
   "execution_count": 94,
   "id": "f0e22f56-961e-4e66-8971-88a49d279fd2",
   "metadata": {},
   "outputs": [],
   "source": [
    "ratio_cols = [col for col in data_diag.columns.tolist() if \"ratio\" in col]\n",
    "zscore_cols = [col for col in data_diag.columns.tolist() if \"zscore\" in col]\n",
    "gene_ratio = data_diag[ratio_cols]\n",
    "gene_zscore = data_diag[zscore_cols]"
   ]
  },
  {
   "cell_type": "code",
   "execution_count": 95,
   "id": "22f25f57-73d2-4459-8e8a-35e6dc492e92",
   "metadata": {},
   "outputs": [
    {
     "data": {
      "text/plain": [
       "<AxesSubplot:>"
      ]
     },
     "execution_count": 95,
     "metadata": {},
     "output_type": "execute_result"
    },
    {
     "data": {
      "image/png": "[encoded data removed]",
      "text/plain": [
       "<Figure size 576x396 with 1 Axes>"
      ]
     },
     "metadata": {},
     "output_type": "display_data"
    }
   ],
   "source": [
    "gene_ratio['1:1000001-2000000_ratio'].hist()"
   ]
  },
  {
   "cell_type": "code",
   "execution_count": 96,
   "id": "7de343d5-e382-40ba-89d7-cfbd24f677e2",
   "metadata": {},
   "outputs": [
    {
     "data": {
      "text/plain": [
       "<AxesSubplot:>"
      ]
     },
     "execution_count": 96,
     "metadata": {},
     "output_type": "execute_result"
    },
    {
     "data": {
      "image/png": "[encoded data removed]",
      "text/plain": [
       "<Figure size 576x396 with 1 Axes>"
      ]
     },
     "metadata": {},
     "output_type": "display_data"
    }
   ],
   "source": [
    "gene_zscore['1:1000001-2000000_zscore'].hist()"
   ]
  },
  {
   "cell_type": "code",
   "execution_count": 97,
   "id": "2629f035-b6d5-45ef-adb0-a4dbfa1ac988",
   "metadata": {},
   "outputs": [],
   "source": [
    "def compute_null_ratio(df: pd.DataFrame) -> pd.DataFrame:\n",
    "    return pd.DataFrame(df.isna().sum()/len(df), columns=['null_ratio']).reset_index()"
   ]
  },
  {
   "cell_type": "code",
   "execution_count": 98,
   "id": "191b7809-9530-4840-bb97-cf5240cae6a5",
   "metadata": {},
   "outputs": [],
   "source": [
    "ratio_stats = compute_null_ratio(gene_ratio)\n",
    "zscore_stats = compute_null_ratio(gene_zscore)"
   ]
  },
  {
   "cell_type": "code",
   "execution_count": 99,
   "id": "3d0ec233-8034-437e-8fc3-77ba8c7d590c",
   "metadata": {},
   "outputs": [],
   "source": [
    "def plot_distribution(df: pd.DataFrame, threshold: float = 0.0) -> None:\n",
    "    sub_df = df.query(f'null_ratio > {threshold}')\n",
    "    sns.distplot(sub_df['null_ratio'])"
   ]
  },
  {
   "cell_type": "code",
   "execution_count": 100,
   "id": "2ab0cec7-33f1-4dea-ae82-17d80c4e3780",
   "metadata": {},
   "outputs": [
    {
     "data": {
      "image/png": "[encoded data removed]",
      "text/plain": [
       "<Figure size 576x396 with 1 Axes>"
      ]
     },
     "metadata": {},
     "output_type": "display_data"
    }
   ],
   "source": [
    "plot_distribution(ratio_stats)"
   ]
  },
  {
   "cell_type": "code",
   "execution_count": 101,
   "id": "49939e3f-a611-44c6-89e9-ac4a1d2fc242",
   "metadata": {},
   "outputs": [
    {
     "data": {
      "image/png": "[encoded data removed]",
      "text/plain": [
       "<Figure size 576x396 with 1 Axes>"
      ]
     },
     "metadata": {},
     "output_type": "display_data"
    }
   ],
   "source": [
    "plot_distribution(zscore_stats)"
   ]
  },
  {
   "cell_type": "code",
   "execution_count": 102,
   "id": "ef7bb76c-dcfb-48ab-a26b-08e3d508f5a4",
   "metadata": {},
   "outputs": [
    {
     "data": {
      "text/html": [
       "<div>\n",
       "<style scoped>\n",
       "    .dataframe tbody tr th:only-of-type {\n",
       "        vertical-align: middle;\n",
       "    }\n",
       "\n",
       "    .dataframe tbody tr th {\n",
       "        vertical-align: top;\n",
       "    }\n",
       "\n",
       "    .dataframe thead th {\n",
       "        text-align: right;\n",
       "    }\n",
       "</style>\n",
       "<table border=\"1\" class=\"dataframe\">\n",
       "  <thead>\n",
       "    <tr style=\"text-align: right;\">\n",
       "      <th></th>\n",
       "      <th>index</th>\n",
       "      <th>null_ratio</th>\n",
       "      <th>index_zscore</th>\n",
       "      <th>null_ratio_zscore</th>\n",
       "    </tr>\n",
       "  </thead>\n",
       "  <tbody>\n",
       "    <tr>\n",
       "      <th>20</th>\n",
       "      <td>1:23000001-24000000_ratio</td>\n",
       "      <td>0.00565</td>\n",
       "      <td>1:23000001-24000000_zscore</td>\n",
       "      <td>0.00000</td>\n",
       "    </tr>\n",
       "    <tr>\n",
       "      <th>33</th>\n",
       "      <td>1:36000001-37000000_ratio</td>\n",
       "      <td>0.00000</td>\n",
       "      <td>1:36000001-37000000_zscore</td>\n",
       "      <td>0.00565</td>\n",
       "    </tr>\n",
       "    <tr>\n",
       "      <th>35</th>\n",
       "      <td>1:38000001-39000000_ratio</td>\n",
       "      <td>0.00000</td>\n",
       "      <td>1:38000001-39000000_zscore</td>\n",
       "      <td>0.00565</td>\n",
       "    </tr>\n",
       "    <tr>\n",
       "      <th>41</th>\n",
       "      <td>1:44000001-45000000_ratio</td>\n",
       "      <td>0.00565</td>\n",
       "      <td>1:44000001-45000000_zscore</td>\n",
       "      <td>0.00000</td>\n",
       "    </tr>\n",
       "    <tr>\n",
       "      <th>70</th>\n",
       "      <td>1:75000001-76000000_ratio</td>\n",
       "      <td>0.00000</td>\n",
       "      <td>1:75000001-76000000_zscore</td>\n",
       "      <td>0.00565</td>\n",
       "    </tr>\n",
       "    <tr>\n",
       "      <th>...</th>\n",
       "      <td>...</td>\n",
       "      <td>...</td>\n",
       "      <td>...</td>\n",
       "      <td>...</td>\n",
       "    </tr>\n",
       "    <tr>\n",
       "      <th>2416</th>\n",
       "      <td>20:56000001-57000000_ratio</td>\n",
       "      <td>0.00000</td>\n",
       "      <td>20:56000001-57000000_zscore</td>\n",
       "      <td>0.00565</td>\n",
       "    </tr>\n",
       "    <tr>\n",
       "      <th>2422</th>\n",
       "      <td>20:62000001-63000000_ratio</td>\n",
       "      <td>0.00565</td>\n",
       "      <td>20:62000001-63000000_zscore</td>\n",
       "      <td>0.00000</td>\n",
       "    </tr>\n",
       "    <tr>\n",
       "      <th>2448</th>\n",
       "      <td>21:35000001-36000000_ratio</td>\n",
       "      <td>0.00000</td>\n",
       "      <td>21:35000001-36000000_zscore</td>\n",
       "      <td>0.00565</td>\n",
       "    </tr>\n",
       "    <tr>\n",
       "      <th>2474</th>\n",
       "      <td>22:30000001-31000000_ratio</td>\n",
       "      <td>0.00565</td>\n",
       "      <td>22:30000001-31000000_zscore</td>\n",
       "      <td>0.00000</td>\n",
       "    </tr>\n",
       "    <tr>\n",
       "      <th>2483</th>\n",
       "      <td>22:39000001-40000000_ratio</td>\n",
       "      <td>0.00000</td>\n",
       "      <td>22:39000001-40000000_zscore</td>\n",
       "      <td>0.00565</td>\n",
       "    </tr>\n",
       "  </tbody>\n",
       "</table>\n",
       "<p>124 rows × 4 columns</p>\n",
       "</div>"
      ],
      "text/plain": [
       "                           index  null_ratio                 index_zscore  \\\n",
       "20     1:23000001-24000000_ratio     0.00565   1:23000001-24000000_zscore   \n",
       "33     1:36000001-37000000_ratio     0.00000   1:36000001-37000000_zscore   \n",
       "35     1:38000001-39000000_ratio     0.00000   1:38000001-39000000_zscore   \n",
       "41     1:44000001-45000000_ratio     0.00565   1:44000001-45000000_zscore   \n",
       "70     1:75000001-76000000_ratio     0.00000   1:75000001-76000000_zscore   \n",
       "...                          ...         ...                          ...   \n",
       "2416  20:56000001-57000000_ratio     0.00000  20:56000001-57000000_zscore   \n",
       "2422  20:62000001-63000000_ratio     0.00565  20:62000001-63000000_zscore   \n",
       "2448  21:35000001-36000000_ratio     0.00000  21:35000001-36000000_zscore   \n",
       "2474  22:30000001-31000000_ratio     0.00565  22:30000001-31000000_zscore   \n",
       "2483  22:39000001-40000000_ratio     0.00000  22:39000001-40000000_zscore   \n",
       "\n",
       "      null_ratio_zscore  \n",
       "20              0.00000  \n",
       "33              0.00565  \n",
       "35              0.00565  \n",
       "41              0.00000  \n",
       "70              0.00565  \n",
       "...                 ...  \n",
       "2416            0.00565  \n",
       "2422            0.00000  \n",
       "2448            0.00565  \n",
       "2474            0.00000  \n",
       "2483            0.00565  \n",
       "\n",
       "[124 rows x 4 columns]"
      ]
     },
     "execution_count": 102,
     "metadata": {},
     "output_type": "execute_result"
    }
   ],
   "source": [
    "both_stats = pd.concat(\n",
    "    [\n",
    "        ratio_stats,\n",
    "        zscore_stats.rename(columns={'null_ratio': 'null_ratio_zscore', 'index': 'index_zscore'})\n",
    "    ], axis=1)\n",
    "both_stats.query(\"null_ratio != null_ratio_zscore\")"
   ]
  },
  {
   "cell_type": "code",
   "execution_count": 103,
   "id": "3c80be6c-14bb-4066-968a-7a1a86ec35ae",
   "metadata": {},
   "outputs": [],
   "source": [
    "# we remove the columns with high null rates \n",
    "to_remove = both_stats.query('null_ratio > 0.2')\n",
    "cols_to_remove = to_remove['index'].to_list() + to_remove['index_zscore'].to_list()\n",
    "data_diag_clean = data_diag.drop(columns=cols_to_remove, errors='ignore')\n",
    "\n",
    "ratio_cols = [col for col in data_diag_clean.columns.tolist() if \"ratio\" in col]\n",
    "zscore_cols = [col for col in data_diag_clean.columns.tolist() if \"zscore\" in col]"
   ]
  },
  {
   "cell_type": "code",
   "execution_count": 104,
   "id": "a3c61086-862c-4ddc-a76a-1804f6d3d631",
   "metadata": {},
   "outputs": [],
   "source": [
    "for col in ratio_cols + zscore_cols:\n",
    "    data_diag_clean[col] = data_diag_clean[col].fillna(0.0)"
   ]
  },
  {
   "cell_type": "markdown",
   "id": "55004b9b-f84c-4e83-9514-4fb6150778a4",
   "metadata": {
    "tags": []
   },
   "source": [
    "## Dimensionality reduction using UMAP"
   ]
  },
  {
   "cell_type": "markdown",
   "id": "e14e7e13-f99a-4633-9a6a-878a56ccfe0d",
   "metadata": {
    "tags": []
   },
   "source": [
    "### First, visualization in 3D"
   ]
  },
  {
   "cell_type": "code",
   "execution_count": 105,
   "id": "f53ccaa8-7e57-4929-8c58-f09f7f6d3ab5",
   "metadata": {},
   "outputs": [],
   "source": [
    "def vector_numpy_to_pandas(umap_res: np.ndarray) -> pd.DataFrame:\n",
    "    df = pd.DataFrame(umap_res)\n",
    "    df = df.add_prefix('dim_')\n",
    "    return df"
   ]
  },
  {
   "cell_type": "code",
   "execution_count": 106,
   "id": "ea11095b-306d-439c-955d-bb249abadb52",
   "metadata": {},
   "outputs": [
    {
     "data": {
      "text/html": [
       "<div>\n",
       "<style scoped>\n",
       "    .dataframe tbody tr th:only-of-type {\n",
       "        vertical-align: middle;\n",
       "    }\n",
       "\n",
       "    .dataframe tbody tr th {\n",
       "        vertical-align: top;\n",
       "    }\n",
       "\n",
       "    .dataframe thead th {\n",
       "        text-align: right;\n",
       "    }\n",
       "</style>\n",
       "<table border=\"1\" class=\"dataframe\">\n",
       "  <thead>\n",
       "    <tr style=\"text-align: right;\">\n",
       "      <th></th>\n",
       "      <th>CPA</th>\n",
       "      <th>Nb.Reads</th>\n",
       "      <th>sex</th>\n",
       "      <th>age</th>\n",
       "      <th>htum</th>\n",
       "      <th>relapse</th>\n",
       "      <th>etat2</th>\n",
       "      <th>patient_id</th>\n",
       "      <th>time_point</th>\n",
       "      <th>time_OS</th>\n",
       "      <th>time_PFS</th>\n",
       "      <th>dim_0</th>\n",
       "      <th>dim_1</th>\n",
       "      <th>dim_2</th>\n",
       "    </tr>\n",
       "  </thead>\n",
       "  <tbody>\n",
       "    <tr>\n",
       "      <th>0</th>\n",
       "      <td>0.16176</td>\n",
       "      <td>17887776.0</td>\n",
       "      <td>Feminin</td>\n",
       "      <td>12.24</td>\n",
       "      <td>NaN</td>\n",
       "      <td>0.0</td>\n",
       "      <td>0.0</td>\n",
       "      <td>OS2006_581</td>\n",
       "      <td>DIAG</td>\n",
       "      <td>NaN</td>\n",
       "      <td>NaN</td>\n",
       "      <td>10.638923</td>\n",
       "      <td>5.541762</td>\n",
       "      <td>6.499124</td>\n",
       "    </tr>\n",
       "    <tr>\n",
       "      <th>1</th>\n",
       "      <td>1.20004</td>\n",
       "      <td>24753618.0</td>\n",
       "      <td>Masculin</td>\n",
       "      <td>8.47</td>\n",
       "      <td>9.1</td>\n",
       "      <td>1.0</td>\n",
       "      <td>1.0</td>\n",
       "      <td>OS2006_527</td>\n",
       "      <td>DIAG</td>\n",
       "      <td>400.0</td>\n",
       "      <td>313.0</td>\n",
       "      <td>12.984224</td>\n",
       "      <td>7.197556</td>\n",
       "      <td>4.815776</td>\n",
       "    </tr>\n",
       "    <tr>\n",
       "      <th>2</th>\n",
       "      <td>1.25124</td>\n",
       "      <td>3780606.0</td>\n",
       "      <td>Feminin</td>\n",
       "      <td>8.25</td>\n",
       "      <td>7.0</td>\n",
       "      <td>0.0</td>\n",
       "      <td>0.0</td>\n",
       "      <td>OS2006_430</td>\n",
       "      <td>DIAG</td>\n",
       "      <td>1676.0</td>\n",
       "      <td>NaN</td>\n",
       "      <td>13.514312</td>\n",
       "      <td>6.320854</td>\n",
       "      <td>5.400661</td>\n",
       "    </tr>\n",
       "    <tr>\n",
       "      <th>3</th>\n",
       "      <td>0.34353</td>\n",
       "      <td>7041729.0</td>\n",
       "      <td>Feminin</td>\n",
       "      <td>6.57</td>\n",
       "      <td>11.4</td>\n",
       "      <td>1.0</td>\n",
       "      <td>1.0</td>\n",
       "      <td>OS2006_279</td>\n",
       "      <td>DIAG</td>\n",
       "      <td>1555.0</td>\n",
       "      <td>1107.0</td>\n",
       "      <td>13.015133</td>\n",
       "      <td>5.619176</td>\n",
       "      <td>5.788889</td>\n",
       "    </tr>\n",
       "    <tr>\n",
       "      <th>4</th>\n",
       "      <td>0.39071</td>\n",
       "      <td>22523228.0</td>\n",
       "      <td>Masculin</td>\n",
       "      <td>13.30</td>\n",
       "      <td>7.0</td>\n",
       "      <td>0.0</td>\n",
       "      <td>0.0</td>\n",
       "      <td>OS2006_43</td>\n",
       "      <td>DIAG</td>\n",
       "      <td>2744.0</td>\n",
       "      <td>NaN</td>\n",
       "      <td>12.860094</td>\n",
       "      <td>8.018703</td>\n",
       "      <td>7.260830</td>\n",
       "    </tr>\n",
       "  </tbody>\n",
       "</table>\n",
       "</div>"
      ],
      "text/plain": [
       "       CPA    Nb.Reads       sex    age  htum  relapse  etat2  patient_id  \\\n",
       "0  0.16176  17887776.0   Feminin  12.24   NaN      0.0    0.0  OS2006_581   \n",
       "1  1.20004  24753618.0  Masculin   8.47   9.1      1.0    1.0  OS2006_527   \n",
       "2  1.25124   3780606.0   Feminin   8.25   7.0      0.0    0.0  OS2006_430   \n",
       "3  0.34353   7041729.0   Feminin   6.57  11.4      1.0    1.0  OS2006_279   \n",
       "4  0.39071  22523228.0  Masculin  13.30   7.0      0.0    0.0   OS2006_43   \n",
       "\n",
       "  time_point  time_OS  time_PFS      dim_0     dim_1     dim_2  \n",
       "0       DIAG      NaN       NaN  10.638923  5.541762  6.499124  \n",
       "1       DIAG    400.0     313.0  12.984224  7.197556  4.815776  \n",
       "2       DIAG   1676.0       NaN  13.514312  6.320854  5.400661  \n",
       "3       DIAG   1555.0    1107.0  13.015133  5.619176  5.788889  \n",
       "4       DIAG   2744.0       NaN  12.860094  8.018703  7.260830  "
      ]
     },
     "execution_count": 106,
     "metadata": {},
     "output_type": "execute_result"
    }
   ],
   "source": [
    "import umap\n",
    "\n",
    "N_DIMS = 3\n",
    "\n",
    "fit = umap.UMAP(\n",
    "    n_neighbors=30,\n",
    "    min_dist=0.1,\n",
    "    n_components=N_DIMS,\n",
    "    metric='cosine',\n",
    "    random_state=42\n",
    ")\n",
    "\n",
    "u = fit.fit_transform(data_diag_clean[zscore_cols].to_numpy())\n",
    "\n",
    "features = data_diag_clean.iloc[:,:11]\n",
    "vector = vector_numpy_to_pandas(u)\n",
    "features = pd.concat([features, vector], axis=1)\n",
    "\n",
    "features.head()"
   ]
  },
  {
   "cell_type": "code",
   "execution_count": 107,
   "id": "2ff92bf5-7dc1-4f0d-81a3-4d0d4552982b",
   "metadata": {},
   "outputs": [
    {
     "data": {
      "text/html": [
       "        <script type=\"text/javascript\">\n",
       "        window.PlotlyConfig = {MathJaxConfig: 'local'};\n",
       "        if (window.MathJax) {MathJax.Hub.Config({SVG: {font: \"STIX-Web\"}});}\n",
       "        if (typeof require !== 'undefined') {\n",
       "        require.undef(\"plotly\");\n",
       "        requirejs.config({\n",
       "            paths: {\n",
       "                'plotly': ['https://cdn.plot.ly/plotly-latest.min']\n",
       "            }\n",
       "        });\n",
       "        require(['plotly'], function(Plotly) {\n",
       "            window._Plotly = Plotly;\n",
       "        });\n",
       "        }\n",
       "        </script>\n",
       "        "
      ]
     },
     "metadata": {},
     "output_type": "display_data"
    },
    {
     "data": {
      "text/html": [
       "        <script type=\"text/javascript\">\n",
       "        window.PlotlyConfig = {MathJaxConfig: 'local'};\n",
       "        if (window.MathJax) {MathJax.Hub.Config({SVG: {font: \"STIX-Web\"}});}\n",
       "        if (typeof require !== 'undefined') {\n",
       "        require.undef(\"plotly\");\n",
       "        requirejs.config({\n",
       "            paths: {\n",
       "                'plotly': ['https://cdn.plot.ly/plotly-latest.min']\n",
       "            }\n",
       "        });\n",
       "        require(['plotly'], function(Plotly) {\n",
       "            window._Plotly = Plotly;\n",
       "        });\n",
       "        }\n",
       "        </script>\n",
       "        "
      ]
     },
     "metadata": {},
     "output_type": "display_data"
    },
    {
     "data": {
      "text/html": [
       "        <script type=\"text/javascript\">\n",
       "        window.PlotlyConfig = {MathJaxConfig: 'local'};\n",
       "        if (window.MathJax) {MathJax.Hub.Config({SVG: {font: \"STIX-Web\"}});}\n",
       "        if (typeof require !== 'undefined') {\n",
       "        require.undef(\"plotly\");\n",
       "        requirejs.config({\n",
       "            paths: {\n",
       "                'plotly': ['https://cdn.plot.ly/plotly-latest.min']\n",
       "            }\n",
       "        });\n",
       "        require(['plotly'], function(Plotly) {\n",
       "            window._Plotly = Plotly;\n",
       "        });\n",
       "        }\n",
       "        </script>\n",
       "        "
      ]
     },
     "metadata": {},
     "output_type": "display_data"
    }
   ],
   "source": [
    "import cufflinks as cf\n",
    "cf.go_offline()\n",
    "cf.set_config_file(offline=True)\n",
    "import plotly.graph_objs as go\n",
    "import plotly.offline as py\n",
    "import plotly.graph_objs as go\n",
    "from IPython.display import Image,display\n",
    "\n",
    "def plot_cluster(df, name=''):\n",
    "    trace1 = go.Scatter3d(\n",
    "        x=df['dim_0'],\n",
    "        y=df['dim_1'],\n",
    "        z=df['dim_2'],\n",
    "\n",
    "        mode='markers',\n",
    "        marker=dict(\n",
    "            size=2,\n",
    "            color=df[\"relapse\"],\n",
    "            colorscale='Viridis',   # choose a colorscale\n",
    "            opacity=1\n",
    "        ),\n",
    "        text=df['relapse']\n",
    "    )\n",
    "\n",
    "    data = [trace1]\n",
    "    layout = go.Layout(\n",
    "        margin=dict(\n",
    "            l=0,\n",
    "            r=0,\n",
    "            b=0,\n",
    "            t=0\n",
    "        )\n",
    "    )\n",
    "    fig = go.Figure(data=data, layout=layout)\n",
    "    file='../reports/'+name+'.html'\n",
    "    py.iplot(fig, filename=file)\n",
    "    py.plot(fig, filename=file,auto_open=False)"
   ]
  },
  {
   "cell_type": "code",
   "execution_count": 109,
   "id": "3e770617-3bc0-46c9-88a3-b2c6d43565e7",
   "metadata": {},
   "outputs": [],
   "source": [
    "# commented to save space when versionned \n",
    "#plot_cluster(features, 'umap')"
   ]
  },
  {
   "cell_type": "markdown",
   "id": "72d19ca0-0a73-45d9-b325-2549577f2d35",
   "metadata": {
    "tags": []
   },
   "source": [
    "### Compute vector of N dimensions"
   ]
  },
  {
   "cell_type": "code",
   "execution_count": 110,
   "id": "088136a1-1eca-4f7a-b599-3fabc6dd6a7c",
   "metadata": {},
   "outputs": [
    {
     "data": {
      "text/plain": [
       "2645"
      ]
     },
     "execution_count": 110,
     "metadata": {},
     "output_type": "execute_result"
    }
   ],
   "source": [
    "len(zscore_cols)"
   ]
  },
  {
   "cell_type": "code",
   "execution_count": 121,
   "id": "8dcb3d3e-ef7c-4490-8423-c8f11aa18b5c",
   "metadata": {},
   "outputs": [],
   "source": [
    "import umap\n",
    "\n",
    "N_DIMS = 10\n",
    "\n",
    "fit = umap.UMAP(\n",
    "    n_neighbors=30,\n",
    "    min_dist=0.1,\n",
    "    n_components=N_DIMS,\n",
    "    metric='cosine',\n",
    "    random_state=42\n",
    ")\n",
    "\n",
    "u = fit.fit_transform(data_diag_clean[zscore_cols].to_numpy())\n",
    "\n",
    "features = data_all.iloc[:,:11]\n",
    "vector = vector_numpy_to_pandas(u)\n",
    "features = pd.concat([features, vector], axis=1)"
   ]
  },
  {
   "cell_type": "markdown",
   "id": "cdba3a34-6910-4999-addc-fd37cbeffc84",
   "metadata": {
    "tags": []
   },
   "source": [
    "# Train a ML model using all these features"
   ]
  },
  {
   "cell_type": "code",
   "execution_count": 123,
   "id": "402a162c-fe42-4eec-8db0-650ce0b3d3fa",
   "metadata": {},
   "outputs": [],
   "source": [
    "features = features[~features['patient_id'].isin(outliers_ids)]"
   ]
  },
  {
   "cell_type": "code",
   "execution_count": 131,
   "id": "b0c54d30-4b79-4e30-8900-963406a217c9",
   "metadata": {},
   "outputs": [],
   "source": [
    "COLS_TO_DROP = ['patient_id', 'etat2', 'time_OS', 'time_PFS']\n",
    "features = features.drop(columns=COLS_TO_DROP, errors='ignore')"
   ]
  },
  {
   "cell_type": "code",
   "execution_count": 132,
   "id": "662d12f4-c8d7-4786-9083-d507124861d1",
   "metadata": {},
   "outputs": [
    {
     "data": {
      "text/html": [
       "<div>\n",
       "<style scoped>\n",
       "    .dataframe tbody tr th:only-of-type {\n",
       "        vertical-align: middle;\n",
       "    }\n",
       "\n",
       "    .dataframe tbody tr th {\n",
       "        vertical-align: top;\n",
       "    }\n",
       "\n",
       "    .dataframe thead th {\n",
       "        text-align: right;\n",
       "    }\n",
       "</style>\n",
       "<table border=\"1\" class=\"dataframe\">\n",
       "  <thead>\n",
       "    <tr style=\"text-align: right;\">\n",
       "      <th></th>\n",
       "      <th>sex</th>\n",
       "      <th>age</th>\n",
       "      <th>htum</th>\n",
       "      <th>relapse</th>\n",
       "      <th>CPA_AVANT_CHIR</th>\n",
       "      <th>CPA_DIAG</th>\n",
       "      <th>CPA_FIN_TT</th>\n",
       "      <th>dim_0</th>\n",
       "      <th>dim_1</th>\n",
       "      <th>dim_2</th>\n",
       "      <th>dim_3</th>\n",
       "      <th>dim_4</th>\n",
       "      <th>dim_5</th>\n",
       "      <th>dim_6</th>\n",
       "      <th>dim_7</th>\n",
       "      <th>dim_8</th>\n",
       "      <th>dim_9</th>\n",
       "    </tr>\n",
       "  </thead>\n",
       "  <tbody>\n",
       "    <tr>\n",
       "      <th>0</th>\n",
       "      <td>Feminin</td>\n",
       "      <td>17.58</td>\n",
       "      <td>10.6</td>\n",
       "      <td>0.0</td>\n",
       "      <td>0.13178</td>\n",
       "      <td>0.15446</td>\n",
       "      <td>0.12948</td>\n",
       "      <td>6.819944</td>\n",
       "      <td>6.741635</td>\n",
       "      <td>6.552502</td>\n",
       "      <td>3.163334</td>\n",
       "      <td>2.380113</td>\n",
       "      <td>4.450327</td>\n",
       "      <td>7.125168</td>\n",
       "      <td>9.759988</td>\n",
       "      <td>3.327932</td>\n",
       "      <td>5.137546</td>\n",
       "    </tr>\n",
       "    <tr>\n",
       "      <th>1</th>\n",
       "      <td>Masculin</td>\n",
       "      <td>14.51</td>\n",
       "      <td>11.1</td>\n",
       "      <td>0.0</td>\n",
       "      <td>0.12377</td>\n",
       "      <td>0.34361</td>\n",
       "      <td>0.14044</td>\n",
       "      <td>7.009439</td>\n",
       "      <td>7.755746</td>\n",
       "      <td>4.909565</td>\n",
       "      <td>1.374685</td>\n",
       "      <td>2.436057</td>\n",
       "      <td>5.700484</td>\n",
       "      <td>8.502618</td>\n",
       "      <td>10.000359</td>\n",
       "      <td>3.280427</td>\n",
       "      <td>5.533571</td>\n",
       "    </tr>\n",
       "    <tr>\n",
       "      <th>2</th>\n",
       "      <td>Masculin</td>\n",
       "      <td>18.83</td>\n",
       "      <td>7.0</td>\n",
       "      <td>0.0</td>\n",
       "      <td>0.11279</td>\n",
       "      <td>0.17640</td>\n",
       "      <td>0.14109</td>\n",
       "      <td>6.880323</td>\n",
       "      <td>7.230412</td>\n",
       "      <td>4.378039</td>\n",
       "      <td>1.720146</td>\n",
       "      <td>2.839537</td>\n",
       "      <td>5.274788</td>\n",
       "      <td>8.151042</td>\n",
       "      <td>10.238515</td>\n",
       "      <td>3.643500</td>\n",
       "      <td>5.489123</td>\n",
       "    </tr>\n",
       "    <tr>\n",
       "      <th>3</th>\n",
       "      <td>Feminin</td>\n",
       "      <td>11.69</td>\n",
       "      <td>12.4</td>\n",
       "      <td>0.0</td>\n",
       "      <td>0.27524</td>\n",
       "      <td>0.56731</td>\n",
       "      <td>0.17286</td>\n",
       "      <td>6.784331</td>\n",
       "      <td>7.194227</td>\n",
       "      <td>5.372379</td>\n",
       "      <td>2.115988</td>\n",
       "      <td>2.722812</td>\n",
       "      <td>5.398668</td>\n",
       "      <td>7.920492</td>\n",
       "      <td>10.083903</td>\n",
       "      <td>3.973462</td>\n",
       "      <td>5.517278</td>\n",
       "    </tr>\n",
       "    <tr>\n",
       "      <th>4</th>\n",
       "      <td>Feminin</td>\n",
       "      <td>15.91</td>\n",
       "      <td>8.0</td>\n",
       "      <td>1.0</td>\n",
       "      <td>0.14314</td>\n",
       "      <td>0.28877</td>\n",
       "      <td>0.15033</td>\n",
       "      <td>7.550785</td>\n",
       "      <td>7.845530</td>\n",
       "      <td>5.454696</td>\n",
       "      <td>1.102061</td>\n",
       "      <td>1.423698</td>\n",
       "      <td>4.822525</td>\n",
       "      <td>8.000863</td>\n",
       "      <td>11.224867</td>\n",
       "      <td>3.088291</td>\n",
       "      <td>4.955470</td>\n",
       "    </tr>\n",
       "  </tbody>\n",
       "</table>\n",
       "</div>"
      ],
      "text/plain": [
       "        sex    age  htum  relapse  CPA_AVANT_CHIR  CPA_DIAG  CPA_FIN_TT  \\\n",
       "0   Feminin  17.58  10.6      0.0         0.13178   0.15446     0.12948   \n",
       "1  Masculin  14.51  11.1      0.0         0.12377   0.34361     0.14044   \n",
       "2  Masculin  18.83   7.0      0.0         0.11279   0.17640     0.14109   \n",
       "3   Feminin  11.69  12.4      0.0         0.27524   0.56731     0.17286   \n",
       "4   Feminin  15.91   8.0      1.0         0.14314   0.28877     0.15033   \n",
       "\n",
       "      dim_0     dim_1     dim_2     dim_3     dim_4     dim_5     dim_6  \\\n",
       "0  6.819944  6.741635  6.552502  3.163334  2.380113  4.450327  7.125168   \n",
       "1  7.009439  7.755746  4.909565  1.374685  2.436057  5.700484  8.502618   \n",
       "2  6.880323  7.230412  4.378039  1.720146  2.839537  5.274788  8.151042   \n",
       "3  6.784331  7.194227  5.372379  2.115988  2.722812  5.398668  7.920492   \n",
       "4  7.550785  7.845530  5.454696  1.102061  1.423698  4.822525  8.000863   \n",
       "\n",
       "       dim_7     dim_8     dim_9  \n",
       "0   9.759988  3.327932  5.137546  \n",
       "1  10.000359  3.280427  5.533571  \n",
       "2  10.238515  3.643500  5.489123  \n",
       "3  10.083903  3.973462  5.517278  \n",
       "4  11.224867  3.088291  4.955470  "
      ]
     },
     "execution_count": 132,
     "metadata": {},
     "output_type": "execute_result"
    }
   ],
   "source": [
    "features.head()"
   ]
  },
  {
   "cell_type": "code",
   "execution_count": 134,
   "id": "4c8b650a-319a-4666-b1b9-e93f78685efb",
   "metadata": {},
   "outputs": [
    {
     "data": {
      "text/html": [
       "<style type=\"text/css\">\n",
       "#T_cf149_row5_col1, #T_cf149_row29_col1, #T_cf149_row44_col1 {\n",
       "  background-color: lightgreen;\n",
       "}\n",
       "</style>\n",
       "<table id=\"T_cf149_\">\n",
       "  <thead>\n",
       "    <tr>\n",
       "      <th class=\"blank level0\" >&nbsp;</th>\n",
       "      <th class=\"col_heading level0 col0\" >Description</th>\n",
       "      <th class=\"col_heading level0 col1\" >Value</th>\n",
       "    </tr>\n",
       "  </thead>\n",
       "  <tbody>\n",
       "    <tr>\n",
       "      <th id=\"T_cf149_level0_row0\" class=\"row_heading level0 row0\" >0</th>\n",
       "      <td id=\"T_cf149_row0_col0\" class=\"data row0 col0\" >session_id</td>\n",
       "      <td id=\"T_cf149_row0_col1\" class=\"data row0 col1\" >3771</td>\n",
       "    </tr>\n",
       "    <tr>\n",
       "      <th id=\"T_cf149_level0_row1\" class=\"row_heading level0 row1\" >1</th>\n",
       "      <td id=\"T_cf149_row1_col0\" class=\"data row1 col0\" >Target</td>\n",
       "      <td id=\"T_cf149_row1_col1\" class=\"data row1 col1\" >relapse</td>\n",
       "    </tr>\n",
       "    <tr>\n",
       "      <th id=\"T_cf149_level0_row2\" class=\"row_heading level0 row2\" >2</th>\n",
       "      <td id=\"T_cf149_row2_col0\" class=\"data row2 col0\" >Target Type</td>\n",
       "      <td id=\"T_cf149_row2_col1\" class=\"data row2 col1\" >Binary</td>\n",
       "    </tr>\n",
       "    <tr>\n",
       "      <th id=\"T_cf149_level0_row3\" class=\"row_heading level0 row3\" >3</th>\n",
       "      <td id=\"T_cf149_row3_col0\" class=\"data row3 col0\" >Label Encoded</td>\n",
       "      <td id=\"T_cf149_row3_col1\" class=\"data row3 col1\" >0.0: 0, 1.0: 1</td>\n",
       "    </tr>\n",
       "    <tr>\n",
       "      <th id=\"T_cf149_level0_row4\" class=\"row_heading level0 row4\" >4</th>\n",
       "      <td id=\"T_cf149_row4_col0\" class=\"data row4 col0\" >Original Data</td>\n",
       "      <td id=\"T_cf149_row4_col1\" class=\"data row4 col1\" >(175, 17)</td>\n",
       "    </tr>\n",
       "    <tr>\n",
       "      <th id=\"T_cf149_level0_row5\" class=\"row_heading level0 row5\" >5</th>\n",
       "      <td id=\"T_cf149_row5_col0\" class=\"data row5 col0\" >Missing Values</td>\n",
       "      <td id=\"T_cf149_row5_col1\" class=\"data row5 col1\" >True</td>\n",
       "    </tr>\n",
       "    <tr>\n",
       "      <th id=\"T_cf149_level0_row6\" class=\"row_heading level0 row6\" >6</th>\n",
       "      <td id=\"T_cf149_row6_col0\" class=\"data row6 col0\" >Numeric Features</td>\n",
       "      <td id=\"T_cf149_row6_col1\" class=\"data row6 col1\" >15</td>\n",
       "    </tr>\n",
       "    <tr>\n",
       "      <th id=\"T_cf149_level0_row7\" class=\"row_heading level0 row7\" >7</th>\n",
       "      <td id=\"T_cf149_row7_col0\" class=\"data row7 col0\" >Categorical Features</td>\n",
       "      <td id=\"T_cf149_row7_col1\" class=\"data row7 col1\" >1</td>\n",
       "    </tr>\n",
       "    <tr>\n",
       "      <th id=\"T_cf149_level0_row8\" class=\"row_heading level0 row8\" >8</th>\n",
       "      <td id=\"T_cf149_row8_col0\" class=\"data row8 col0\" >Ordinal Features</td>\n",
       "      <td id=\"T_cf149_row8_col1\" class=\"data row8 col1\" >False</td>\n",
       "    </tr>\n",
       "    <tr>\n",
       "      <th id=\"T_cf149_level0_row9\" class=\"row_heading level0 row9\" >9</th>\n",
       "      <td id=\"T_cf149_row9_col0\" class=\"data row9 col0\" >High Cardinality Features</td>\n",
       "      <td id=\"T_cf149_row9_col1\" class=\"data row9 col1\" >False</td>\n",
       "    </tr>\n",
       "    <tr>\n",
       "      <th id=\"T_cf149_level0_row10\" class=\"row_heading level0 row10\" >10</th>\n",
       "      <td id=\"T_cf149_row10_col0\" class=\"data row10 col0\" >High Cardinality Method</td>\n",
       "      <td id=\"T_cf149_row10_col1\" class=\"data row10 col1\" >None</td>\n",
       "    </tr>\n",
       "    <tr>\n",
       "      <th id=\"T_cf149_level0_row11\" class=\"row_heading level0 row11\" >11</th>\n",
       "      <td id=\"T_cf149_row11_col0\" class=\"data row11 col0\" >Transformed Train Set</td>\n",
       "      <td id=\"T_cf149_row11_col1\" class=\"data row11 col1\" >(73, 16)</td>\n",
       "    </tr>\n",
       "    <tr>\n",
       "      <th id=\"T_cf149_level0_row12\" class=\"row_heading level0 row12\" >12</th>\n",
       "      <td id=\"T_cf149_row12_col0\" class=\"data row12 col0\" >Transformed Test Set</td>\n",
       "      <td id=\"T_cf149_row12_col1\" class=\"data row12 col1\" >(38, 16)</td>\n",
       "    </tr>\n",
       "    <tr>\n",
       "      <th id=\"T_cf149_level0_row13\" class=\"row_heading level0 row13\" >13</th>\n",
       "      <td id=\"T_cf149_row13_col0\" class=\"data row13 col0\" >Shuffle Train-Test</td>\n",
       "      <td id=\"T_cf149_row13_col1\" class=\"data row13 col1\" >True</td>\n",
       "    </tr>\n",
       "    <tr>\n",
       "      <th id=\"T_cf149_level0_row14\" class=\"row_heading level0 row14\" >14</th>\n",
       "      <td id=\"T_cf149_row14_col0\" class=\"data row14 col0\" >Stratify Train-Test</td>\n",
       "      <td id=\"T_cf149_row14_col1\" class=\"data row14 col1\" >False</td>\n",
       "    </tr>\n",
       "    <tr>\n",
       "      <th id=\"T_cf149_level0_row15\" class=\"row_heading level0 row15\" >15</th>\n",
       "      <td id=\"T_cf149_row15_col0\" class=\"data row15 col0\" >Fold Generator</td>\n",
       "      <td id=\"T_cf149_row15_col1\" class=\"data row15 col1\" >StratifiedKFold</td>\n",
       "    </tr>\n",
       "    <tr>\n",
       "      <th id=\"T_cf149_level0_row16\" class=\"row_heading level0 row16\" >16</th>\n",
       "      <td id=\"T_cf149_row16_col0\" class=\"data row16 col0\" >Fold Number</td>\n",
       "      <td id=\"T_cf149_row16_col1\" class=\"data row16 col1\" >10</td>\n",
       "    </tr>\n",
       "    <tr>\n",
       "      <th id=\"T_cf149_level0_row17\" class=\"row_heading level0 row17\" >17</th>\n",
       "      <td id=\"T_cf149_row17_col0\" class=\"data row17 col0\" >CPU Jobs</td>\n",
       "      <td id=\"T_cf149_row17_col1\" class=\"data row17 col1\" >-1</td>\n",
       "    </tr>\n",
       "    <tr>\n",
       "      <th id=\"T_cf149_level0_row18\" class=\"row_heading level0 row18\" >18</th>\n",
       "      <td id=\"T_cf149_row18_col0\" class=\"data row18 col0\" >Use GPU</td>\n",
       "      <td id=\"T_cf149_row18_col1\" class=\"data row18 col1\" >False</td>\n",
       "    </tr>\n",
       "    <tr>\n",
       "      <th id=\"T_cf149_level0_row19\" class=\"row_heading level0 row19\" >19</th>\n",
       "      <td id=\"T_cf149_row19_col0\" class=\"data row19 col0\" >Log Experiment</td>\n",
       "      <td id=\"T_cf149_row19_col1\" class=\"data row19 col1\" >False</td>\n",
       "    </tr>\n",
       "    <tr>\n",
       "      <th id=\"T_cf149_level0_row20\" class=\"row_heading level0 row20\" >20</th>\n",
       "      <td id=\"T_cf149_row20_col0\" class=\"data row20 col0\" >Experiment Name</td>\n",
       "      <td id=\"T_cf149_row20_col1\" class=\"data row20 col1\" >clf-default-name</td>\n",
       "    </tr>\n",
       "    <tr>\n",
       "      <th id=\"T_cf149_level0_row21\" class=\"row_heading level0 row21\" >21</th>\n",
       "      <td id=\"T_cf149_row21_col0\" class=\"data row21 col0\" >USI</td>\n",
       "      <td id=\"T_cf149_row21_col1\" class=\"data row21 col1\" >bfe0</td>\n",
       "    </tr>\n",
       "    <tr>\n",
       "      <th id=\"T_cf149_level0_row22\" class=\"row_heading level0 row22\" >22</th>\n",
       "      <td id=\"T_cf149_row22_col0\" class=\"data row22 col0\" >Imputation Type</td>\n",
       "      <td id=\"T_cf149_row22_col1\" class=\"data row22 col1\" >simple</td>\n",
       "    </tr>\n",
       "    <tr>\n",
       "      <th id=\"T_cf149_level0_row23\" class=\"row_heading level0 row23\" >23</th>\n",
       "      <td id=\"T_cf149_row23_col0\" class=\"data row23 col0\" >Iterative Imputation Iteration</td>\n",
       "      <td id=\"T_cf149_row23_col1\" class=\"data row23 col1\" >None</td>\n",
       "    </tr>\n",
       "    <tr>\n",
       "      <th id=\"T_cf149_level0_row24\" class=\"row_heading level0 row24\" >24</th>\n",
       "      <td id=\"T_cf149_row24_col0\" class=\"data row24 col0\" >Numeric Imputer</td>\n",
       "      <td id=\"T_cf149_row24_col1\" class=\"data row24 col1\" >mean</td>\n",
       "    </tr>\n",
       "    <tr>\n",
       "      <th id=\"T_cf149_level0_row25\" class=\"row_heading level0 row25\" >25</th>\n",
       "      <td id=\"T_cf149_row25_col0\" class=\"data row25 col0\" >Iterative Imputation Numeric Model</td>\n",
       "      <td id=\"T_cf149_row25_col1\" class=\"data row25 col1\" >None</td>\n",
       "    </tr>\n",
       "    <tr>\n",
       "      <th id=\"T_cf149_level0_row26\" class=\"row_heading level0 row26\" >26</th>\n",
       "      <td id=\"T_cf149_row26_col0\" class=\"data row26 col0\" >Categorical Imputer</td>\n",
       "      <td id=\"T_cf149_row26_col1\" class=\"data row26 col1\" >constant</td>\n",
       "    </tr>\n",
       "    <tr>\n",
       "      <th id=\"T_cf149_level0_row27\" class=\"row_heading level0 row27\" >27</th>\n",
       "      <td id=\"T_cf149_row27_col0\" class=\"data row27 col0\" >Iterative Imputation Categorical Model</td>\n",
       "      <td id=\"T_cf149_row27_col1\" class=\"data row27 col1\" >None</td>\n",
       "    </tr>\n",
       "    <tr>\n",
       "      <th id=\"T_cf149_level0_row28\" class=\"row_heading level0 row28\" >28</th>\n",
       "      <td id=\"T_cf149_row28_col0\" class=\"data row28 col0\" >Unknown Categoricals Handling</td>\n",
       "      <td id=\"T_cf149_row28_col1\" class=\"data row28 col1\" >least_frequent</td>\n",
       "    </tr>\n",
       "    <tr>\n",
       "      <th id=\"T_cf149_level0_row29\" class=\"row_heading level0 row29\" >29</th>\n",
       "      <td id=\"T_cf149_row29_col0\" class=\"data row29 col0\" >Normalize</td>\n",
       "      <td id=\"T_cf149_row29_col1\" class=\"data row29 col1\" >True</td>\n",
       "    </tr>\n",
       "    <tr>\n",
       "      <th id=\"T_cf149_level0_row30\" class=\"row_heading level0 row30\" >30</th>\n",
       "      <td id=\"T_cf149_row30_col0\" class=\"data row30 col0\" >Normalize Method</td>\n",
       "      <td id=\"T_cf149_row30_col1\" class=\"data row30 col1\" >zscore</td>\n",
       "    </tr>\n",
       "    <tr>\n",
       "      <th id=\"T_cf149_level0_row31\" class=\"row_heading level0 row31\" >31</th>\n",
       "      <td id=\"T_cf149_row31_col0\" class=\"data row31 col0\" >Transformation</td>\n",
       "      <td id=\"T_cf149_row31_col1\" class=\"data row31 col1\" >False</td>\n",
       "    </tr>\n",
       "    <tr>\n",
       "      <th id=\"T_cf149_level0_row32\" class=\"row_heading level0 row32\" >32</th>\n",
       "      <td id=\"T_cf149_row32_col0\" class=\"data row32 col0\" >Transformation Method</td>\n",
       "      <td id=\"T_cf149_row32_col1\" class=\"data row32 col1\" >None</td>\n",
       "    </tr>\n",
       "    <tr>\n",
       "      <th id=\"T_cf149_level0_row33\" class=\"row_heading level0 row33\" >33</th>\n",
       "      <td id=\"T_cf149_row33_col0\" class=\"data row33 col0\" >PCA</td>\n",
       "      <td id=\"T_cf149_row33_col1\" class=\"data row33 col1\" >False</td>\n",
       "    </tr>\n",
       "    <tr>\n",
       "      <th id=\"T_cf149_level0_row34\" class=\"row_heading level0 row34\" >34</th>\n",
       "      <td id=\"T_cf149_row34_col0\" class=\"data row34 col0\" >PCA Method</td>\n",
       "      <td id=\"T_cf149_row34_col1\" class=\"data row34 col1\" >None</td>\n",
       "    </tr>\n",
       "    <tr>\n",
       "      <th id=\"T_cf149_level0_row35\" class=\"row_heading level0 row35\" >35</th>\n",
       "      <td id=\"T_cf149_row35_col0\" class=\"data row35 col0\" >PCA Components</td>\n",
       "      <td id=\"T_cf149_row35_col1\" class=\"data row35 col1\" >None</td>\n",
       "    </tr>\n",
       "    <tr>\n",
       "      <th id=\"T_cf149_level0_row36\" class=\"row_heading level0 row36\" >36</th>\n",
       "      <td id=\"T_cf149_row36_col0\" class=\"data row36 col0\" >Ignore Low Variance</td>\n",
       "      <td id=\"T_cf149_row36_col1\" class=\"data row36 col1\" >False</td>\n",
       "    </tr>\n",
       "    <tr>\n",
       "      <th id=\"T_cf149_level0_row37\" class=\"row_heading level0 row37\" >37</th>\n",
       "      <td id=\"T_cf149_row37_col0\" class=\"data row37 col0\" >Combine Rare Levels</td>\n",
       "      <td id=\"T_cf149_row37_col1\" class=\"data row37 col1\" >False</td>\n",
       "    </tr>\n",
       "    <tr>\n",
       "      <th id=\"T_cf149_level0_row38\" class=\"row_heading level0 row38\" >38</th>\n",
       "      <td id=\"T_cf149_row38_col0\" class=\"data row38 col0\" >Rare Level Threshold</td>\n",
       "      <td id=\"T_cf149_row38_col1\" class=\"data row38 col1\" >None</td>\n",
       "    </tr>\n",
       "    <tr>\n",
       "      <th id=\"T_cf149_level0_row39\" class=\"row_heading level0 row39\" >39</th>\n",
       "      <td id=\"T_cf149_row39_col0\" class=\"data row39 col0\" >Numeric Binning</td>\n",
       "      <td id=\"T_cf149_row39_col1\" class=\"data row39 col1\" >False</td>\n",
       "    </tr>\n",
       "    <tr>\n",
       "      <th id=\"T_cf149_level0_row40\" class=\"row_heading level0 row40\" >40</th>\n",
       "      <td id=\"T_cf149_row40_col0\" class=\"data row40 col0\" >Remove Outliers</td>\n",
       "      <td id=\"T_cf149_row40_col1\" class=\"data row40 col1\" >False</td>\n",
       "    </tr>\n",
       "    <tr>\n",
       "      <th id=\"T_cf149_level0_row41\" class=\"row_heading level0 row41\" >41</th>\n",
       "      <td id=\"T_cf149_row41_col0\" class=\"data row41 col0\" >Outliers Threshold</td>\n",
       "      <td id=\"T_cf149_row41_col1\" class=\"data row41 col1\" >None</td>\n",
       "    </tr>\n",
       "    <tr>\n",
       "      <th id=\"T_cf149_level0_row42\" class=\"row_heading level0 row42\" >42</th>\n",
       "      <td id=\"T_cf149_row42_col0\" class=\"data row42 col0\" >Remove Multicollinearity</td>\n",
       "      <td id=\"T_cf149_row42_col1\" class=\"data row42 col1\" >False</td>\n",
       "    </tr>\n",
       "    <tr>\n",
       "      <th id=\"T_cf149_level0_row43\" class=\"row_heading level0 row43\" >43</th>\n",
       "      <td id=\"T_cf149_row43_col0\" class=\"data row43 col0\" >Multicollinearity Threshold</td>\n",
       "      <td id=\"T_cf149_row43_col1\" class=\"data row43 col1\" >None</td>\n",
       "    </tr>\n",
       "    <tr>\n",
       "      <th id=\"T_cf149_level0_row44\" class=\"row_heading level0 row44\" >44</th>\n",
       "      <td id=\"T_cf149_row44_col0\" class=\"data row44 col0\" >Remove Perfect Collinearity</td>\n",
       "      <td id=\"T_cf149_row44_col1\" class=\"data row44 col1\" >True</td>\n",
       "    </tr>\n",
       "    <tr>\n",
       "      <th id=\"T_cf149_level0_row45\" class=\"row_heading level0 row45\" >45</th>\n",
       "      <td id=\"T_cf149_row45_col0\" class=\"data row45 col0\" >Clustering</td>\n",
       "      <td id=\"T_cf149_row45_col1\" class=\"data row45 col1\" >False</td>\n",
       "    </tr>\n",
       "    <tr>\n",
       "      <th id=\"T_cf149_level0_row46\" class=\"row_heading level0 row46\" >46</th>\n",
       "      <td id=\"T_cf149_row46_col0\" class=\"data row46 col0\" >Clustering Iteration</td>\n",
       "      <td id=\"T_cf149_row46_col1\" class=\"data row46 col1\" >None</td>\n",
       "    </tr>\n",
       "    <tr>\n",
       "      <th id=\"T_cf149_level0_row47\" class=\"row_heading level0 row47\" >47</th>\n",
       "      <td id=\"T_cf149_row47_col0\" class=\"data row47 col0\" >Polynomial Features</td>\n",
       "      <td id=\"T_cf149_row47_col1\" class=\"data row47 col1\" >False</td>\n",
       "    </tr>\n",
       "    <tr>\n",
       "      <th id=\"T_cf149_level0_row48\" class=\"row_heading level0 row48\" >48</th>\n",
       "      <td id=\"T_cf149_row48_col0\" class=\"data row48 col0\" >Polynomial Degree</td>\n",
       "      <td id=\"T_cf149_row48_col1\" class=\"data row48 col1\" >None</td>\n",
       "    </tr>\n",
       "    <tr>\n",
       "      <th id=\"T_cf149_level0_row49\" class=\"row_heading level0 row49\" >49</th>\n",
       "      <td id=\"T_cf149_row49_col0\" class=\"data row49 col0\" >Trignometry Features</td>\n",
       "      <td id=\"T_cf149_row49_col1\" class=\"data row49 col1\" >False</td>\n",
       "    </tr>\n",
       "    <tr>\n",
       "      <th id=\"T_cf149_level0_row50\" class=\"row_heading level0 row50\" >50</th>\n",
       "      <td id=\"T_cf149_row50_col0\" class=\"data row50 col0\" >Polynomial Threshold</td>\n",
       "      <td id=\"T_cf149_row50_col1\" class=\"data row50 col1\" >None</td>\n",
       "    </tr>\n",
       "    <tr>\n",
       "      <th id=\"T_cf149_level0_row51\" class=\"row_heading level0 row51\" >51</th>\n",
       "      <td id=\"T_cf149_row51_col0\" class=\"data row51 col0\" >Group Features</td>\n",
       "      <td id=\"T_cf149_row51_col1\" class=\"data row51 col1\" >False</td>\n",
       "    </tr>\n",
       "    <tr>\n",
       "      <th id=\"T_cf149_level0_row52\" class=\"row_heading level0 row52\" >52</th>\n",
       "      <td id=\"T_cf149_row52_col0\" class=\"data row52 col0\" >Feature Selection</td>\n",
       "      <td id=\"T_cf149_row52_col1\" class=\"data row52 col1\" >False</td>\n",
       "    </tr>\n",
       "    <tr>\n",
       "      <th id=\"T_cf149_level0_row53\" class=\"row_heading level0 row53\" >53</th>\n",
       "      <td id=\"T_cf149_row53_col0\" class=\"data row53 col0\" >Feature Selection Method</td>\n",
       "      <td id=\"T_cf149_row53_col1\" class=\"data row53 col1\" >classic</td>\n",
       "    </tr>\n",
       "    <tr>\n",
       "      <th id=\"T_cf149_level0_row54\" class=\"row_heading level0 row54\" >54</th>\n",
       "      <td id=\"T_cf149_row54_col0\" class=\"data row54 col0\" >Features Selection Threshold</td>\n",
       "      <td id=\"T_cf149_row54_col1\" class=\"data row54 col1\" >None</td>\n",
       "    </tr>\n",
       "    <tr>\n",
       "      <th id=\"T_cf149_level0_row55\" class=\"row_heading level0 row55\" >55</th>\n",
       "      <td id=\"T_cf149_row55_col0\" class=\"data row55 col0\" >Feature Interaction</td>\n",
       "      <td id=\"T_cf149_row55_col1\" class=\"data row55 col1\" >False</td>\n",
       "    </tr>\n",
       "    <tr>\n",
       "      <th id=\"T_cf149_level0_row56\" class=\"row_heading level0 row56\" >56</th>\n",
       "      <td id=\"T_cf149_row56_col0\" class=\"data row56 col0\" >Feature Ratio</td>\n",
       "      <td id=\"T_cf149_row56_col1\" class=\"data row56 col1\" >False</td>\n",
       "    </tr>\n",
       "    <tr>\n",
       "      <th id=\"T_cf149_level0_row57\" class=\"row_heading level0 row57\" >57</th>\n",
       "      <td id=\"T_cf149_row57_col0\" class=\"data row57 col0\" >Interaction Threshold</td>\n",
       "      <td id=\"T_cf149_row57_col1\" class=\"data row57 col1\" >None</td>\n",
       "    </tr>\n",
       "    <tr>\n",
       "      <th id=\"T_cf149_level0_row58\" class=\"row_heading level0 row58\" >58</th>\n",
       "      <td id=\"T_cf149_row58_col0\" class=\"data row58 col0\" >Fix Imbalance</td>\n",
       "      <td id=\"T_cf149_row58_col1\" class=\"data row58 col1\" >False</td>\n",
       "    </tr>\n",
       "    <tr>\n",
       "      <th id=\"T_cf149_level0_row59\" class=\"row_heading level0 row59\" >59</th>\n",
       "      <td id=\"T_cf149_row59_col0\" class=\"data row59 col0\" >Fix Imbalance Method</td>\n",
       "      <td id=\"T_cf149_row59_col1\" class=\"data row59 col1\" >SMOTE</td>\n",
       "    </tr>\n",
       "  </tbody>\n",
       "</table>\n"
      ],
      "text/plain": [
       "<pandas.io.formats.style.Styler at 0x7f7eb3745370>"
      ]
     },
     "metadata": {},
     "output_type": "display_data"
    }
   ],
   "source": [
    "clf1 = setup(\n",
    "    features,\n",
    "    target=label,\n",
    "    categorical_features=['sex'],\n",
    "    numeric_features=['age', 'htum', 'CPA_DIAG', 'CPA_AVANT_CHIR', 'CPA_FIN_TT'] + [col for col in features.columns if col.startswith('dim_')],\n",
    "    normalize=True,\n",
    "    normalize_method='zscore',\n",
    "    feature_selection=False,\n",
    ")"
   ]
  },
  {
   "cell_type": "code",
   "execution_count": 135,
   "id": "4a9f5f95-87f0-46e2-87cd-d1ae5a75adbb",
   "metadata": {},
   "outputs": [
    {
     "data": {
      "text/html": [
       "<style type=\"text/css\">\n",
       "#T_44ef4_ th {\n",
       "  text-align: left;\n",
       "}\n",
       "#T_44ef4_row0_col0, #T_44ef4_row0_col2, #T_44ef4_row0_col3, #T_44ef4_row0_col4, #T_44ef4_row0_col5, #T_44ef4_row0_col6, #T_44ef4_row0_col7, #T_44ef4_row1_col0, #T_44ef4_row1_col1, #T_44ef4_row1_col2, #T_44ef4_row2_col0, #T_44ef4_row2_col1, #T_44ef4_row2_col3, #T_44ef4_row2_col4, #T_44ef4_row2_col5, #T_44ef4_row2_col6, #T_44ef4_row2_col7, #T_44ef4_row3_col0, #T_44ef4_row3_col1, #T_44ef4_row3_col2, #T_44ef4_row3_col3, #T_44ef4_row3_col4, #T_44ef4_row3_col5, #T_44ef4_row3_col6, #T_44ef4_row3_col7, #T_44ef4_row4_col0, #T_44ef4_row4_col1, #T_44ef4_row4_col2, #T_44ef4_row4_col3, #T_44ef4_row4_col4, #T_44ef4_row4_col5, #T_44ef4_row4_col6, #T_44ef4_row4_col7, #T_44ef4_row5_col0, #T_44ef4_row5_col1, #T_44ef4_row5_col2, #T_44ef4_row5_col3, #T_44ef4_row5_col4, #T_44ef4_row5_col5, #T_44ef4_row5_col6, #T_44ef4_row5_col7, #T_44ef4_row6_col0, #T_44ef4_row6_col1, #T_44ef4_row6_col2, #T_44ef4_row6_col3, #T_44ef4_row6_col4, #T_44ef4_row6_col5, #T_44ef4_row6_col6, #T_44ef4_row6_col7, #T_44ef4_row7_col0, #T_44ef4_row7_col1, #T_44ef4_row7_col2, #T_44ef4_row7_col3, #T_44ef4_row7_col4, #T_44ef4_row7_col5, #T_44ef4_row7_col6, #T_44ef4_row7_col7, #T_44ef4_row8_col0, #T_44ef4_row8_col1, #T_44ef4_row8_col2, #T_44ef4_row8_col3, #T_44ef4_row8_col4, #T_44ef4_row8_col5, #T_44ef4_row8_col6, #T_44ef4_row8_col7, #T_44ef4_row9_col0, #T_44ef4_row9_col1, #T_44ef4_row9_col2, #T_44ef4_row9_col3, #T_44ef4_row9_col4, #T_44ef4_row9_col5, #T_44ef4_row9_col6, #T_44ef4_row9_col7, #T_44ef4_row10_col0, #T_44ef4_row10_col1, #T_44ef4_row10_col2, #T_44ef4_row10_col3, #T_44ef4_row10_col4, #T_44ef4_row10_col5, #T_44ef4_row10_col6, #T_44ef4_row10_col7, #T_44ef4_row11_col0, #T_44ef4_row11_col1, #T_44ef4_row11_col2, #T_44ef4_row11_col3, #T_44ef4_row11_col4, #T_44ef4_row11_col5, #T_44ef4_row11_col6, #T_44ef4_row11_col7, #T_44ef4_row12_col0, #T_44ef4_row12_col1, #T_44ef4_row12_col2, #T_44ef4_row12_col3, #T_44ef4_row12_col4, #T_44ef4_row12_col5, #T_44ef4_row12_col6, #T_44ef4_row12_col7, #T_44ef4_row13_col0, #T_44ef4_row13_col1, #T_44ef4_row13_col2, #T_44ef4_row13_col3, #T_44ef4_row13_col4, #T_44ef4_row13_col5, #T_44ef4_row13_col6, #T_44ef4_row13_col7, #T_44ef4_row14_col0, #T_44ef4_row14_col1, #T_44ef4_row14_col2, #T_44ef4_row14_col3, #T_44ef4_row14_col4, #T_44ef4_row14_col5, #T_44ef4_row14_col6, #T_44ef4_row14_col7 {\n",
       "  text-align: left;\n",
       "}\n",
       "#T_44ef4_row0_col1, #T_44ef4_row1_col3, #T_44ef4_row1_col4, #T_44ef4_row1_col5, #T_44ef4_row1_col6, #T_44ef4_row1_col7, #T_44ef4_row2_col2 {\n",
       "  text-align: left;\n",
       "  background-color: yellow;\n",
       "}\n",
       "#T_44ef4_row0_col8, #T_44ef4_row4_col8 {\n",
       "  text-align: left;\n",
       "  background-color: yellow;\n",
       "  background-color: lightgrey;\n",
       "}\n",
       "#T_44ef4_row1_col8, #T_44ef4_row2_col8, #T_44ef4_row3_col8, #T_44ef4_row5_col8, #T_44ef4_row6_col8, #T_44ef4_row7_col8, #T_44ef4_row8_col8, #T_44ef4_row9_col8, #T_44ef4_row10_col8, #T_44ef4_row11_col8, #T_44ef4_row12_col8, #T_44ef4_row13_col8, #T_44ef4_row14_col8 {\n",
       "  text-align: left;\n",
       "  background-color: lightgrey;\n",
       "}\n",
       "</style>\n",
       "<table id=\"T_44ef4_\">\n",
       "  <thead>\n",
       "    <tr>\n",
       "      <th class=\"blank level0\" >&nbsp;</th>\n",
       "      <th class=\"col_heading level0 col0\" >Model</th>\n",
       "      <th class=\"col_heading level0 col1\" >Accuracy</th>\n",
       "      <th class=\"col_heading level0 col2\" >AUC</th>\n",
       "      <th class=\"col_heading level0 col3\" >Recall</th>\n",
       "      <th class=\"col_heading level0 col4\" >Prec.</th>\n",
       "      <th class=\"col_heading level0 col5\" >F1</th>\n",
       "      <th class=\"col_heading level0 col6\" >Kappa</th>\n",
       "      <th class=\"col_heading level0 col7\" >MCC</th>\n",
       "      <th class=\"col_heading level0 col8\" >TT (Sec)</th>\n",
       "    </tr>\n",
       "  </thead>\n",
       "  <tbody>\n",
       "    <tr>\n",
       "      <th id=\"T_44ef4_level0_row0\" class=\"row_heading level0 row0\" >ridge</th>\n",
       "      <td id=\"T_44ef4_row0_col0\" class=\"data row0 col0\" >Ridge Classifier</td>\n",
       "      <td id=\"T_44ef4_row0_col1\" class=\"data row0 col1\" >0.6196</td>\n",
       "      <td id=\"T_44ef4_row0_col2\" class=\"data row0 col2\" >0.0000</td>\n",
       "      <td id=\"T_44ef4_row0_col3\" class=\"data row0 col3\" >0.5083</td>\n",
       "      <td id=\"T_44ef4_row0_col4\" class=\"data row0 col4\" >0.6083</td>\n",
       "      <td id=\"T_44ef4_row0_col5\" class=\"data row0 col5\" >0.5194</td>\n",
       "      <td id=\"T_44ef4_row0_col6\" class=\"data row0 col6\" >0.2188</td>\n",
       "      <td id=\"T_44ef4_row0_col7\" class=\"data row0 col7\" >0.2402</td>\n",
       "      <td id=\"T_44ef4_row0_col8\" class=\"data row0 col8\" >0.0040</td>\n",
       "    </tr>\n",
       "    <tr>\n",
       "      <th id=\"T_44ef4_level0_row1\" class=\"row_heading level0 row1\" >svm</th>\n",
       "      <td id=\"T_44ef4_row1_col0\" class=\"data row1 col0\" >SVM - Linear Kernel</td>\n",
       "      <td id=\"T_44ef4_row1_col1\" class=\"data row1 col1\" >0.6179</td>\n",
       "      <td id=\"T_44ef4_row1_col2\" class=\"data row1 col2\" >0.0000</td>\n",
       "      <td id=\"T_44ef4_row1_col3\" class=\"data row1 col3\" >0.6000</td>\n",
       "      <td id=\"T_44ef4_row1_col4\" class=\"data row1 col4\" >0.6133</td>\n",
       "      <td id=\"T_44ef4_row1_col5\" class=\"data row1 col5\" >0.5816</td>\n",
       "      <td id=\"T_44ef4_row1_col6\" class=\"data row1 col6\" >0.2318</td>\n",
       "      <td id=\"T_44ef4_row1_col7\" class=\"data row1 col7\" >0.2466</td>\n",
       "      <td id=\"T_44ef4_row1_col8\" class=\"data row1 col8\" >0.0090</td>\n",
       "    </tr>\n",
       "    <tr>\n",
       "      <th id=\"T_44ef4_level0_row2\" class=\"row_heading level0 row2\" >lda</th>\n",
       "      <td id=\"T_44ef4_row2_col0\" class=\"data row2 col0\" >Linear Discriminant Analysis</td>\n",
       "      <td id=\"T_44ef4_row2_col1\" class=\"data row2 col1\" >0.6071</td>\n",
       "      <td id=\"T_44ef4_row2_col2\" class=\"data row2 col2\" >0.6542</td>\n",
       "      <td id=\"T_44ef4_row2_col3\" class=\"data row2 col3\" >0.4833</td>\n",
       "      <td id=\"T_44ef4_row2_col4\" class=\"data row2 col4\" >0.5917</td>\n",
       "      <td id=\"T_44ef4_row2_col5\" class=\"data row2 col5\" >0.4956</td>\n",
       "      <td id=\"T_44ef4_row2_col6\" class=\"data row2 col6\" >0.1938</td>\n",
       "      <td id=\"T_44ef4_row2_col7\" class=\"data row2 col7\" >0.2143</td>\n",
       "      <td id=\"T_44ef4_row2_col8\" class=\"data row2 col8\" >0.0050</td>\n",
       "    </tr>\n",
       "    <tr>\n",
       "      <th id=\"T_44ef4_level0_row3\" class=\"row_heading level0 row3\" >lr</th>\n",
       "      <td id=\"T_44ef4_row3_col0\" class=\"data row3 col0\" >Logistic Regression</td>\n",
       "      <td id=\"T_44ef4_row3_col1\" class=\"data row3 col1\" >0.6054</td>\n",
       "      <td id=\"T_44ef4_row3_col2\" class=\"data row3 col2\" >0.6188</td>\n",
       "      <td id=\"T_44ef4_row3_col3\" class=\"data row3 col3\" >0.5167</td>\n",
       "      <td id=\"T_44ef4_row3_col4\" class=\"data row3 col4\" >0.5850</td>\n",
       "      <td id=\"T_44ef4_row3_col5\" class=\"data row3 col5\" >0.5276</td>\n",
       "      <td id=\"T_44ef4_row3_col6\" class=\"data row3 col6\" >0.2051</td>\n",
       "      <td id=\"T_44ef4_row3_col7\" class=\"data row3 col7\" >0.2169</td>\n",
       "      <td id=\"T_44ef4_row3_col8\" class=\"data row3 col8\" >0.6470</td>\n",
       "    </tr>\n",
       "    <tr>\n",
       "      <th id=\"T_44ef4_level0_row4\" class=\"row_heading level0 row4\" >nb</th>\n",
       "      <td id=\"T_44ef4_row4_col0\" class=\"data row4 col0\" >Naive Bayes</td>\n",
       "      <td id=\"T_44ef4_row4_col1\" class=\"data row4 col1\" >0.5714</td>\n",
       "      <td id=\"T_44ef4_row4_col2\" class=\"data row4 col2\" >0.5562</td>\n",
       "      <td id=\"T_44ef4_row4_col3\" class=\"data row4 col3\" >0.4333</td>\n",
       "      <td id=\"T_44ef4_row4_col4\" class=\"data row4 col4\" >0.5500</td>\n",
       "      <td id=\"T_44ef4_row4_col5\" class=\"data row4 col5\" >0.4617</td>\n",
       "      <td id=\"T_44ef4_row4_col6\" class=\"data row4 col6\" >0.1300</td>\n",
       "      <td id=\"T_44ef4_row4_col7\" class=\"data row4 col7\" >0.1366</td>\n",
       "      <td id=\"T_44ef4_row4_col8\" class=\"data row4 col8\" >0.0040</td>\n",
       "    </tr>\n",
       "    <tr>\n",
       "      <th id=\"T_44ef4_level0_row5\" class=\"row_heading level0 row5\" >dummy</th>\n",
       "      <td id=\"T_44ef4_row5_col0\" class=\"data row5 col0\" >Dummy Classifier</td>\n",
       "      <td id=\"T_44ef4_row5_col1\" class=\"data row5 col1\" >0.5357</td>\n",
       "      <td id=\"T_44ef4_row5_col2\" class=\"data row5 col2\" >0.5000</td>\n",
       "      <td id=\"T_44ef4_row5_col3\" class=\"data row5 col3\" >0.0000</td>\n",
       "      <td id=\"T_44ef4_row5_col4\" class=\"data row5 col4\" >0.0000</td>\n",
       "      <td id=\"T_44ef4_row5_col5\" class=\"data row5 col5\" >0.0000</td>\n",
       "      <td id=\"T_44ef4_row5_col6\" class=\"data row5 col6\" >0.0000</td>\n",
       "      <td id=\"T_44ef4_row5_col7\" class=\"data row5 col7\" >0.0000</td>\n",
       "      <td id=\"T_44ef4_row5_col8\" class=\"data row5 col8\" >0.0100</td>\n",
       "    </tr>\n",
       "    <tr>\n",
       "      <th id=\"T_44ef4_level0_row6\" class=\"row_heading level0 row6\" >gbc</th>\n",
       "      <td id=\"T_44ef4_row6_col0\" class=\"data row6 col0\" >Gradient Boosting Classifier</td>\n",
       "      <td id=\"T_44ef4_row6_col1\" class=\"data row6 col1\" >0.5071</td>\n",
       "      <td id=\"T_44ef4_row6_col2\" class=\"data row6 col2\" >0.4729</td>\n",
       "      <td id=\"T_44ef4_row6_col3\" class=\"data row6 col3\" >0.3333</td>\n",
       "      <td id=\"T_44ef4_row6_col4\" class=\"data row6 col4\" >0.4000</td>\n",
       "      <td id=\"T_44ef4_row6_col5\" class=\"data row6 col5\" >0.3538</td>\n",
       "      <td id=\"T_44ef4_row6_col6\" class=\"data row6 col6\" >-0.0076</td>\n",
       "      <td id=\"T_44ef4_row6_col7\" class=\"data row6 col7\" >-0.0282</td>\n",
       "      <td id=\"T_44ef4_row6_col8\" class=\"data row6 col8\" >0.0190</td>\n",
       "    </tr>\n",
       "    <tr>\n",
       "      <th id=\"T_44ef4_level0_row7\" class=\"row_heading level0 row7\" >lightgbm</th>\n",
       "      <td id=\"T_44ef4_row7_col0\" class=\"data row7 col0\" >Light Gradient Boosting Machine</td>\n",
       "      <td id=\"T_44ef4_row7_col1\" class=\"data row7 col1\" >0.4911</td>\n",
       "      <td id=\"T_44ef4_row7_col2\" class=\"data row7 col2\" >0.4833</td>\n",
       "      <td id=\"T_44ef4_row7_col3\" class=\"data row7 col3\" >0.3583</td>\n",
       "      <td id=\"T_44ef4_row7_col4\" class=\"data row7 col4\" >0.4250</td>\n",
       "      <td id=\"T_44ef4_row7_col5\" class=\"data row7 col5\" >0.3629</td>\n",
       "      <td id=\"T_44ef4_row7_col6\" class=\"data row7 col6\" >-0.0355</td>\n",
       "      <td id=\"T_44ef4_row7_col7\" class=\"data row7 col7\" >-0.0349</td>\n",
       "      <td id=\"T_44ef4_row7_col8\" class=\"data row7 col8\" >0.1140</td>\n",
       "    </tr>\n",
       "    <tr>\n",
       "      <th id=\"T_44ef4_level0_row8\" class=\"row_heading level0 row8\" >qda</th>\n",
       "      <td id=\"T_44ef4_row8_col0\" class=\"data row8 col0\" >Quadratic Discriminant Analysis</td>\n",
       "      <td id=\"T_44ef4_row8_col1\" class=\"data row8 col1\" >0.4857</td>\n",
       "      <td id=\"T_44ef4_row8_col2\" class=\"data row8 col2\" >0.4875</td>\n",
       "      <td id=\"T_44ef4_row8_col3\" class=\"data row8 col3\" >0.3500</td>\n",
       "      <td id=\"T_44ef4_row8_col4\" class=\"data row8 col4\" >0.3233</td>\n",
       "      <td id=\"T_44ef4_row8_col5\" class=\"data row8 col5\" >0.3233</td>\n",
       "      <td id=\"T_44ef4_row8_col6\" class=\"data row8 col6\" >-0.0344</td>\n",
       "      <td id=\"T_44ef4_row8_col7\" class=\"data row8 col7\" >-0.0434</td>\n",
       "      <td id=\"T_44ef4_row8_col8\" class=\"data row8 col8\" >0.0160</td>\n",
       "    </tr>\n",
       "    <tr>\n",
       "      <th id=\"T_44ef4_level0_row9\" class=\"row_heading level0 row9\" >knn</th>\n",
       "      <td id=\"T_44ef4_row9_col0\" class=\"data row9 col0\" >K Neighbors Classifier</td>\n",
       "      <td id=\"T_44ef4_row9_col1\" class=\"data row9 col1\" >0.4804</td>\n",
       "      <td id=\"T_44ef4_row9_col2\" class=\"data row9 col2\" >0.4729</td>\n",
       "      <td id=\"T_44ef4_row9_col3\" class=\"data row9 col3\" >0.3333</td>\n",
       "      <td id=\"T_44ef4_row9_col4\" class=\"data row9 col4\" >0.4833</td>\n",
       "      <td id=\"T_44ef4_row9_col5\" class=\"data row9 col5\" >0.3714</td>\n",
       "      <td id=\"T_44ef4_row9_col6\" class=\"data row9 col6\" >-0.0369</td>\n",
       "      <td id=\"T_44ef4_row9_col7\" class=\"data row9 col7\" >-0.0370</td>\n",
       "      <td id=\"T_44ef4_row9_col8\" class=\"data row9 col8\" >0.0190</td>\n",
       "    </tr>\n",
       "    <tr>\n",
       "      <th id=\"T_44ef4_level0_row10\" class=\"row_heading level0 row10\" >dt</th>\n",
       "      <td id=\"T_44ef4_row10_col0\" class=\"data row10 col0\" >Decision Tree Classifier</td>\n",
       "      <td id=\"T_44ef4_row10_col1\" class=\"data row10 col1\" >0.4786</td>\n",
       "      <td id=\"T_44ef4_row10_col2\" class=\"data row10 col2\" >0.4792</td>\n",
       "      <td id=\"T_44ef4_row10_col3\" class=\"data row10 col3\" >0.5583</td>\n",
       "      <td id=\"T_44ef4_row10_col4\" class=\"data row10 col4\" >0.4233</td>\n",
       "      <td id=\"T_44ef4_row10_col5\" class=\"data row10 col5\" >0.4767</td>\n",
       "      <td id=\"T_44ef4_row10_col6\" class=\"data row10 col6\" >-0.0468</td>\n",
       "      <td id=\"T_44ef4_row10_col7\" class=\"data row10 col7\" >-0.0584</td>\n",
       "      <td id=\"T_44ef4_row10_col8\" class=\"data row10 col8\" >0.0300</td>\n",
       "    </tr>\n",
       "    <tr>\n",
       "      <th id=\"T_44ef4_level0_row11\" class=\"row_heading level0 row11\" >ada</th>\n",
       "      <td id=\"T_44ef4_row11_col0\" class=\"data row11 col0\" >Ada Boost Classifier</td>\n",
       "      <td id=\"T_44ef4_row11_col1\" class=\"data row11 col1\" >0.4696</td>\n",
       "      <td id=\"T_44ef4_row11_col2\" class=\"data row11 col2\" >0.5187</td>\n",
       "      <td id=\"T_44ef4_row11_col3\" class=\"data row11 col3\" >0.4000</td>\n",
       "      <td id=\"T_44ef4_row11_col4\" class=\"data row11 col4\" >0.3667</td>\n",
       "      <td id=\"T_44ef4_row11_col5\" class=\"data row11 col5\" >0.3613</td>\n",
       "      <td id=\"T_44ef4_row11_col6\" class=\"data row11 col6\" >-0.0658</td>\n",
       "      <td id=\"T_44ef4_row11_col7\" class=\"data row11 col7\" >-0.0616</td>\n",
       "      <td id=\"T_44ef4_row11_col8\" class=\"data row11 col8\" >0.0400</td>\n",
       "    </tr>\n",
       "    <tr>\n",
       "      <th id=\"T_44ef4_level0_row12\" class=\"row_heading level0 row12\" >xgboost</th>\n",
       "      <td id=\"T_44ef4_row12_col0\" class=\"data row12 col0\" >Extreme Gradient Boosting</td>\n",
       "      <td id=\"T_44ef4_row12_col1\" class=\"data row12 col1\" >0.4696</td>\n",
       "      <td id=\"T_44ef4_row12_col2\" class=\"data row12 col2\" >0.4688</td>\n",
       "      <td id=\"T_44ef4_row12_col3\" class=\"data row12 col3\" >0.4250</td>\n",
       "      <td id=\"T_44ef4_row12_col4\" class=\"data row12 col4\" >0.3700</td>\n",
       "      <td id=\"T_44ef4_row12_col5\" class=\"data row12 col5\" >0.3893</td>\n",
       "      <td id=\"T_44ef4_row12_col6\" class=\"data row12 col6\" >-0.0635</td>\n",
       "      <td id=\"T_44ef4_row12_col7\" class=\"data row12 col7\" >-0.0794</td>\n",
       "      <td id=\"T_44ef4_row12_col8\" class=\"data row12 col8\" >0.1730</td>\n",
       "    </tr>\n",
       "    <tr>\n",
       "      <th id=\"T_44ef4_level0_row13\" class=\"row_heading level0 row13\" >rf</th>\n",
       "      <td id=\"T_44ef4_row13_col0\" class=\"data row13 col0\" >Random Forest Classifier</td>\n",
       "      <td id=\"T_44ef4_row13_col1\" class=\"data row13 col1\" >0.4393</td>\n",
       "      <td id=\"T_44ef4_row13_col2\" class=\"data row13 col2\" >0.4052</td>\n",
       "      <td id=\"T_44ef4_row13_col3\" class=\"data row13 col3\" >0.3583</td>\n",
       "      <td id=\"T_44ef4_row13_col4\" class=\"data row13 col4\" >0.3217</td>\n",
       "      <td id=\"T_44ef4_row13_col5\" class=\"data row13 col5\" >0.3321</td>\n",
       "      <td id=\"T_44ef4_row13_col6\" class=\"data row13 col6\" >-0.1169</td>\n",
       "      <td id=\"T_44ef4_row13_col7\" class=\"data row13 col7\" >-0.1287</td>\n",
       "      <td id=\"T_44ef4_row13_col8\" class=\"data row13 col8\" >0.0670</td>\n",
       "    </tr>\n",
       "    <tr>\n",
       "      <th id=\"T_44ef4_level0_row14\" class=\"row_heading level0 row14\" >et</th>\n",
       "      <td id=\"T_44ef4_row14_col0\" class=\"data row14 col0\" >Extra Trees Classifier</td>\n",
       "      <td id=\"T_44ef4_row14_col1\" class=\"data row14 col1\" >0.4000</td>\n",
       "      <td id=\"T_44ef4_row14_col2\" class=\"data row14 col2\" >0.3948</td>\n",
       "      <td id=\"T_44ef4_row14_col3\" class=\"data row14 col3\" >0.2333</td>\n",
       "      <td id=\"T_44ef4_row14_col4\" class=\"data row14 col4\" >0.3533</td>\n",
       "      <td id=\"T_44ef4_row14_col5\" class=\"data row14 col5\" >0.2641</td>\n",
       "      <td id=\"T_44ef4_row14_col6\" class=\"data row14 col6\" >-0.2214</td>\n",
       "      <td id=\"T_44ef4_row14_col7\" class=\"data row14 col7\" >-0.2192</td>\n",
       "      <td id=\"T_44ef4_row14_col8\" class=\"data row14 col8\" >0.0630</td>\n",
       "    </tr>\n",
       "  </tbody>\n",
       "</table>\n"
      ],
      "text/plain": [
       "<pandas.io.formats.style.Styler at 0x7f7e6297f040>"
      ]
     },
     "metadata": {},
     "output_type": "display_data"
    }
   ],
   "source": [
    "best_model = compare_models()"
   ]
  },
  {
   "cell_type": "code",
   "execution_count": 136,
   "id": "48f1362a-1c03-48e2-a856-5783f98d1cd4",
   "metadata": {},
   "outputs": [
    {
     "data": {
      "image/png": "[encoded data removed]",
      "text/plain": [
       "<Figure size 800x500 with 1 Axes>"
      ]
     },
     "metadata": {},
     "output_type": "display_data"
    }
   ],
   "source": [
    "plot_model(best_model, plot = 'feature')"
   ]
  },
  {
   "cell_type": "code",
   "execution_count": 137,
   "id": "839f5d32-ba7c-4b32-b0e6-e2f8cc550234",
   "metadata": {},
   "outputs": [
    {
     "ename": "TypeError",
     "evalue": "This function only supports tree based models for binary classification: rf, lightgbm, dt, et, xgboost.",
     "output_type": "error",
     "traceback": [
      "\u001b[0;31m---------------------------------------------------------------------------\u001b[0m",
      "\u001b[0;31mTypeError\u001b[0m                                 Traceback (most recent call last)",
      "\u001b[0;32m<ipython-input-137-f12889431735>\u001b[0m in \u001b[0;36m<module>\u001b[0;34m\u001b[0m\n\u001b[0;32m----> 1\u001b[0;31m \u001b[0minterpret_model\u001b[0m\u001b[0;34m(\u001b[0m\u001b[0mbest_model\u001b[0m\u001b[0;34m)\u001b[0m\u001b[0;34m\u001b[0m\u001b[0;34m\u001b[0m\u001b[0m\n\u001b[0m",
      "\u001b[0;32m/opt/homebrew/Caskroom/miniconda/base/lib/python3.8/site-packages/pycaret/classification.py\u001b[0m in \u001b[0;36minterpret_model\u001b[0;34m(estimator, plot, feature, observation, use_train_data, X_new_sample, y_new_sample, save, **kwargs)\u001b[0m\n\u001b[1;32m   1760\u001b[0m     \"\"\"\n\u001b[1;32m   1761\u001b[0m \u001b[0;34m\u001b[0m\u001b[0m\n\u001b[0;32m-> 1762\u001b[0;31m     return pycaret.internal.tabular.interpret_model(\n\u001b[0m\u001b[1;32m   1763\u001b[0m         \u001b[0mestimator\u001b[0m\u001b[0;34m=\u001b[0m\u001b[0mestimator\u001b[0m\u001b[0;34m,\u001b[0m\u001b[0;34m\u001b[0m\u001b[0;34m\u001b[0m\u001b[0m\n\u001b[1;32m   1764\u001b[0m         \u001b[0mplot\u001b[0m\u001b[0;34m=\u001b[0m\u001b[0mplot\u001b[0m\u001b[0;34m,\u001b[0m\u001b[0;34m\u001b[0m\u001b[0;34m\u001b[0m\u001b[0m\n",
      "\u001b[0;32m/opt/homebrew/Caskroom/miniconda/base/lib/python3.8/site-packages/pycaret/internal/tabular.py\u001b[0m in \u001b[0;36minterpret_model\u001b[0;34m(estimator, plot, feature, observation, use_train_data, X_new_sample, y_new_sample, save, **kwargs)\u001b[0m\n\u001b[1;32m   7667\u001b[0m         \u001b[0mmodel_id\u001b[0m \u001b[0;32mnot\u001b[0m \u001b[0;32min\u001b[0m \u001b[0mshap_models_ids\u001b[0m\u001b[0;34m\u001b[0m\u001b[0;34m\u001b[0m\u001b[0m\n\u001b[1;32m   7668\u001b[0m     ):\n\u001b[0;32m-> 7669\u001b[0;31m         raise TypeError(\n\u001b[0m\u001b[1;32m   7670\u001b[0m             \u001b[0;34mf\"This function only supports tree based models for binary classification: {', '.join(shap_models_ids)}.\"\u001b[0m\u001b[0;34m\u001b[0m\u001b[0;34m\u001b[0m\u001b[0m\n\u001b[1;32m   7671\u001b[0m         )\n",
      "\u001b[0;31mTypeError\u001b[0m: This function only supports tree based models for binary classification: rf, lightgbm, dt, et, xgboost."
     ]
    }
   ],
   "source": [
    "interpret_model(best_model)"
   ]
  },
  {
   "cell_type": "code",
   "execution_count": null,
   "id": "a4505dfb-3611-4ab9-a966-9ca729d9c466",
   "metadata": {},
   "outputs": [],
   "source": []
  }
 ],
 "metadata": {
  "kernelspec": {
   "display_name": "Python 3",
   "language": "python",
   "name": "python3"
  },
  "language_info": {
   "codemirror_mode": {
    "name": "ipython",
    "version": 3
   },
   "file_extension": ".py",
   "mimetype": "text/x-python",
   "name": "python",
   "nbconvert_exporter": "python",
   "pygments_lexer": "ipython3",
   "version": "3.8.5"
  }
 },
 "nbformat": 4,
 "nbformat_minor": 5
}
