{
 "cells": [
  {
   "cell_type": "code",
   "execution_count": 2,
   "id": "da0ce424-69c5-4fe7-9da9-fc50be20677e",
   "metadata": {},
   "outputs": [],
   "source": [
    "from pathlib import Path\n",
    "from typing import Tuple, List\n",
    "from collections import defaultdict\n",
    "from random import sample\n",
    "import logging\n",
    "import pickle\n",
    "\n",
    "import pandas as pd\n",
    "from matplotlib import pyplot as plt\n",
    "import numpy as np\n",
    "\n",
    "import seaborn as sns"
   ]
  },
  {
   "cell_type": "markdown",
   "id": "7641415f-6534-4945-b3cc-3187a2c1a9e7",
   "metadata": {
    "tags": []
   },
   "source": [
    "# Data description\n",
    "\n",
    "## Metadata\n",
    "1 ligne par fichier, des fois 2 ; dans le cas où il y a 2 lignes prendre la ligne où le CPA est le plus élevé (correspond à une seconde analyse où plus de séquences d'ADN ont été analysées)\n",
    "\n",
    "3 colonnes CPA ont été normalisées par la fonction racine carré (afin de limiter au maximum l'impact des outlayers lors des analyses). Les valeurs CPA que l'on voit sont en fait les racines-carrés des valeurs initiales (un petit carré sur les colonnes permettra de retomber sur les valeurs initiales, non normalisées) \n",
    "\n",
    "* CPA : % d'altération. Nb d'altération détectée par rapport à une baseline. Estimation de la quantité d'adn de la tumeur qui se trouve dans le sang. C'est une valeur pas un pourcentage.\n",
    "* nb.reads = dans un premier temps on s'en fiche (valeur qui permet de normaliser) Nombre de séquences scanées. Si très bas on fait moins confiance.\n",
    "* sexe\n",
    "* age\n",
    "* htum : grosseur de la tumeur au diagnostic (ie. le jour où on fait la radio)\n",
    "* relapse : 1 rechute, 0 pas rechute\n",
    "* etat2 : statut du patient (0 vivant, 1 décédé)\n",
    "* id.x : id patient\n",
    "* time_point : 3 valeurs possibles (DIAG, AVANT_CHIR, FIN_TTT)\n",
    "* time_OS : durée de suivi total\n",
    "* time_PFS : nombre de jour entre la rechute et le diagnostique\n",
    "* rep_histo : reponse histologique. Bon ou mauvais répondeur. On l'a après le 1er traitement\n",
    "* puberte : + parlant que l'âge\n",
    "* meta_bis : présence de métastase au diagnostique\n",
    "\n",
    "\n",
    "## Data\n",
    "\n",
    "En fonction des patients on n'a pas tous les time points\n",
    "* Diagnotic\n",
    "* Avant chirurgie (déjà un traitement)\n",
    "* Fin T : fin traitnement\n",
    "\n",
    "Chaque chromosome est découpé en fenêtres => même fenetres pour tous les patients\n",
    "Indicateur de présence d'ADN tumoral (0 : 2 copies, > 0 copie en trop, < 0 perte)"
   ]
  },
  {
   "cell_type": "markdown",
   "id": "319de2e4-bde8-49f8-83f5-23ae9b1f5596",
   "metadata": {
    "tags": []
   },
   "source": [
    "# Preprocess data"
   ]
  },
  {
   "cell_type": "markdown",
   "id": "42b40fcb-7afc-4751-941a-19cc4c7854cb",
   "metadata": {
    "tags": []
   },
   "source": [
    "## Load files"
   ]
  },
  {
   "cell_type": "code",
   "execution_count": 3,
   "id": "5a35581a-7b8e-4e60-8441-2d631e64bb82",
   "metadata": {},
   "outputs": [],
   "source": [
    "OUTPUT_DIR = Path('..') / 'data' / 'intermediate'\n",
    "\n",
    "data_dir = Path('..') / 'data' / 'raw' / 'results'\n",
    "metadata_path = Path('..') / 'data' / 'raw' / 'metadata_DMLHT_ctDNA.csv'\n",
    "#metadata_path_old = Path('..') / 'data' / 'raw' / 'metadata_OS2006_ctdna.csv'"
   ]
  },
  {
   "cell_type": "code",
   "execution_count": 4,
   "id": "07aa96d5-79dc-4c75-a5ce-10e17a26eeb9",
   "metadata": {},
   "outputs": [],
   "source": [
    "metadata = pd.read_csv(metadata_path, sep='\\t', skiprows=1)"
   ]
  },
  {
   "cell_type": "code",
   "execution_count": 5,
   "id": "b04c57c5-72f9-40fb-82d9-36ac5d55f95c",
   "metadata": {},
   "outputs": [
    {
     "data": {
      "text/html": [
       "<div>\n",
       "<style scoped>\n",
       "    .dataframe tbody tr th:only-of-type {\n",
       "        vertical-align: middle;\n",
       "    }\n",
       "\n",
       "    .dataframe tbody tr th {\n",
       "        vertical-align: top;\n",
       "    }\n",
       "\n",
       "    .dataframe thead th {\n",
       "        text-align: right;\n",
       "    }\n",
       "</style>\n",
       "<table border=\"1\" class=\"dataframe\">\n",
       "  <thead>\n",
       "    <tr style=\"text-align: right;\">\n",
       "      <th></th>\n",
       "      <th>col_name</th>\n",
       "      <th>desc</th>\n",
       "    </tr>\n",
       "  </thead>\n",
       "  <tbody>\n",
       "    <tr>\n",
       "      <th>0</th>\n",
       "      <td>sex</td>\n",
       "      <td>Genre du patient</td>\n",
       "    </tr>\n",
       "    <tr>\n",
       "      <th>1</th>\n",
       "      <td>age</td>\n",
       "      <td>Age du patient (années)</td>\n",
       "    </tr>\n",
       "    <tr>\n",
       "      <th>2</th>\n",
       "      <td>pub</td>\n",
       "      <td>Stade pubertaire</td>\n",
       "    </tr>\n",
       "    <tr>\n",
       "      <th>3</th>\n",
       "      <td>htum</td>\n",
       "      <td>hauteur de la tumeur (mm)</td>\n",
       "    </tr>\n",
       "    <tr>\n",
       "      <th>4</th>\n",
       "      <td>meta_bis</td>\n",
       "      <td>Présence (ou non) de metastase au diagnostic</td>\n",
       "    </tr>\n",
       "    <tr>\n",
       "      <th>5</th>\n",
       "      <td>chimgr</td>\n",
       "      <td>Type de chimio</td>\n",
       "    </tr>\n",
       "    <tr>\n",
       "      <th>6</th>\n",
       "      <td>rep_histo</td>\n",
       "      <td>réponse histologique : bonne (GR) ou mauvaise ...</td>\n",
       "    </tr>\n",
       "    <tr>\n",
       "      <th>7</th>\n",
       "      <td>relapse</td>\n",
       "      <td>Rechute  (1=oui, 0= non)</td>\n",
       "    </tr>\n",
       "    <tr>\n",
       "      <th>8</th>\n",
       "      <td>etat2</td>\n",
       "      <td>Statut vital (1 =décédé)</td>\n",
       "    </tr>\n",
       "    <tr>\n",
       "      <th>9</th>\n",
       "      <td>time_OS</td>\n",
       "      <td>Survie globale jusqu’à la dernière date de sui...</td>\n",
       "    </tr>\n",
       "    <tr>\n",
       "      <th>10</th>\n",
       "      <td>time_PFS</td>\n",
       "      <td>Temps jusqu’à la rechute (jours)</td>\n",
       "    </tr>\n",
       "    <tr>\n",
       "      <th>11</th>\n",
       "      <td>cpa_finTT</td>\n",
       "      <td>CPA mesuré à la fin du traitement</td>\n",
       "    </tr>\n",
       "    <tr>\n",
       "      <th>12</th>\n",
       "      <td>cpa_diagnostic</td>\n",
       "      <td>CPA mesuré au diagnostic</td>\n",
       "    </tr>\n",
       "    <tr>\n",
       "      <th>13</th>\n",
       "      <td>cpa_chirurgie</td>\n",
       "      <td>CPA mesuré à la chirurgie</td>\n",
       "    </tr>\n",
       "    <tr>\n",
       "      <th>14</th>\n",
       "      <td>EFS</td>\n",
       "      <td>Temps jusqu’à la rechute (si rechute observée)...</td>\n",
       "    </tr>\n",
       "    <tr>\n",
       "      <th>15</th>\n",
       "      <td>Code</td>\n",
       "      <td>Code d’anonymisation</td>\n",
       "    </tr>\n",
       "  </tbody>\n",
       "</table>\n",
       "</div>"
      ],
      "text/plain": [
       "          col_name                                               desc\n",
       "0              sex                                   Genre du patient\n",
       "1              age                            Age du patient (années)\n",
       "2              pub                                   Stade pubertaire\n",
       "3             htum                          hauteur de la tumeur (mm)\n",
       "4         meta_bis       Présence (ou non) de metastase au diagnostic\n",
       "5           chimgr                                    Type de chimio \n",
       "6        rep_histo  réponse histologique : bonne (GR) ou mauvaise ...\n",
       "7          relapse                           Rechute  (1=oui, 0= non)\n",
       "8            etat2                          Statut vital (1 =décédé) \n",
       "9          time_OS  Survie globale jusqu’à la dernière date de sui...\n",
       "10        time_PFS                   Temps jusqu’à la rechute (jours)\n",
       "11       cpa_finTT                 CPA mesuré à la fin du traitement \n",
       "12  cpa_diagnostic                          CPA mesuré au diagnostic \n",
       "13   cpa_chirurgie                          CPA mesuré à la chirurgie\n",
       "14             EFS  Temps jusqu’à la rechute (si rechute observée)...\n",
       "15            Code                               Code d’anonymisation"
      ]
     },
     "execution_count": 5,
     "metadata": {},
     "output_type": "execute_result"
    }
   ],
   "source": [
    "# get columns description\n",
    "col_desc = !head -n 1 ../data/raw/metadata_DMLHT_ctDNA.csv\n",
    "col_desc = pd.concat([pd.Series(metadata.columns), pd.Series(col_desc[0].split('\\t'))], axis=1)\n",
    "col_desc.columns = ['col_name', 'desc']\n",
    "col_desc"
   ]
  },
  {
   "cell_type": "code",
   "execution_count": 6,
   "id": "db57b16c-bfe2-48b3-9ad0-e5efc8eb9555",
   "metadata": {},
   "outputs": [],
   "source": [
    "def get_infos_from_filename(filename: str) -> Tuple[str, str]:\n",
    "    filename = filename.split('.')[0]\n",
    "    splitted_filename = filename.split('_')\n",
    "    id_patient = f'{splitted_filename[0]}_{splitted_filename[1]}'\n",
    "    time_point = f'{splitted_filename[2]}_{splitted_filename[3]}' if len(splitted_filename) == 4 else splitted_filename[2]\n",
    "    return id_patient, time_point\n",
    "\n",
    "\n",
    "def load_all_data_patient(data_dir: Path) -> defaultdict:\n",
    "    data_patient = defaultdict(dict)\n",
    "\n",
    "    for p in data_dir.iterdir():\n",
    "        if not p.is_file():\n",
    "            continue\n",
    "        filename = str(p).split('/')[-1]\n",
    "        try:\n",
    "            id_patient, time_point = get_infos_from_filename(filename)\n",
    "        except IndexError as e:\n",
    "            print(f'Error reading file : {filename}, {e}')\n",
    "            continue\n",
    "        data_patient[id_patient][time_point] = pd.read_csv(p, sep='\\t')\n",
    "    \n",
    "    return data_patient"
   ]
  },
  {
   "cell_type": "code",
   "execution_count": 7,
   "id": "19301a51-cd71-4a54-9a2f-d77d365da827",
   "metadata": {},
   "outputs": [
    {
     "name": "stdout",
     "output_type": "stream",
     "text": [
      "Error reading file : .placeholder, list index out of range\n",
      "There are 182 patient\n"
     ]
    }
   ],
   "source": [
    "data_patient = load_all_data_patient(data_dir)\n",
    "print(f'There are {len(data_patient)} patient')"
   ]
  },
  {
   "cell_type": "markdown",
   "id": "cacc1107-13b7-465c-bf6e-eff3aaa05db6",
   "metadata": {
    "tags": []
   },
   "source": [
    "## Organize data"
   ]
  },
  {
   "cell_type": "code",
   "execution_count": 8,
   "id": "0adf5dcb-64eb-480d-8af5-5f5e47c34a60",
   "metadata": {},
   "outputs": [
    {
     "name": "stdout",
     "output_type": "stream",
     "text": [
      "There are 115 patient with data for the 3 time points\n"
     ]
    }
   ],
   "source": [
    "patient_all_time_points = {patient_id: data for patient_id, data in data_patient.items() if len(data) == 3}\n",
    "print(f'There are {len(patient_all_time_points)} patient with data for the 3 time points')"
   ]
  },
  {
   "cell_type": "code",
   "execution_count": 9,
   "id": "bf1dddc8-b664-496e-acb0-313724c70bb1",
   "metadata": {},
   "outputs": [
    {
     "name": "stdout",
     "output_type": "stream",
     "text": [
      "There are 177 patient with data for DIAG time point\n"
     ]
    }
   ],
   "source": [
    "patient_diag_time_point = {patient_id: {'DIAG': data['DIAG']} for patient_id, data in data_patient.items() if data.get('DIAG') is not None}\n",
    "print(f'There are {len(patient_diag_time_point)} patient with data for DIAG time point')"
   ]
  },
  {
   "cell_type": "code",
   "execution_count": 10,
   "id": "78fb570f-3c22-44b8-a32d-34fb0d863ad4",
   "metadata": {},
   "outputs": [
    {
     "name": "stdout",
     "output_type": "stream",
     "text": [
      "There are 143 patient with data for AVANT_CHIR time point\n"
     ]
    }
   ],
   "source": [
    "patient_chir_time_point = {patient_id: {'AVANT_CHIR': data['AVANT_CHIR']} for patient_id, data in data_patient.items() if data.get('AVANT_CHIR') is not None}\n",
    "print(f'There are {len(patient_chir_time_point)} patient with data for AVANT_CHIR time point')"
   ]
  },
  {
   "cell_type": "code",
   "execution_count": 11,
   "id": "20d72767-2ba1-451d-9455-644c5effee9f",
   "metadata": {},
   "outputs": [
    {
     "name": "stdout",
     "output_type": "stream",
     "text": [
      "There are 143 patient with data for FIN_TT time point\n"
     ]
    }
   ],
   "source": [
    "patient_end_time_point = {patient_id: {'FIN_TT': data['FIN_TT']} for patient_id, data in data_patient.items() if data.get('FIN_TT') is not None}\n",
    "print(f'There are {len(patient_end_time_point)} patient with data for FIN_TT time point')"
   ]
  },
  {
   "cell_type": "code",
   "execution_count": 12,
   "id": "727313be-c69f-47ed-8380-29c4f60ff3cf",
   "metadata": {},
   "outputs": [],
   "source": [
    "## Check that there are no errors\n",
    "nb_files = 0\n",
    "for data in data_patient.values():\n",
    "    nb_files += len(data.values())\n",
    "assert nb_files == len(patient_diag_time_point) \\\n",
    "    + len(patient_chir_time_point) \\\n",
    "    + len(patient_end_time_point)"
   ]
  },
  {
   "cell_type": "markdown",
   "id": "6b38b9c7-7d39-4a59-96c0-3166fcc64cde",
   "metadata": {
    "tags": []
   },
   "source": [
    "## Transform data\n",
    "### Transpose data"
   ]
  },
  {
   "cell_type": "code",
   "execution_count": 13,
   "id": "f5788bdb-61a4-4cd2-a4b0-f14a45dc4791",
   "metadata": {},
   "outputs": [],
   "source": [
    "def transpose_data_one_patient(data: pd.DataFrame) -> pd.DataFrame:\n",
    "    one_data = data.copy()\n",
    "    one_data = one_data[['id', 'ratio', 'zscore']].set_index('id').stack().reset_index()\n",
    "    one_data.columns = ['id', 'score_label', 'value']\n",
    "    one_data['col_name'] = one_data['id'] + '_' + one_data['score_label']\n",
    "    return one_data.set_index('col_name')['value'].to_frame().T\n",
    "\n",
    "\n",
    "def format_all_data_as_df(patient_data: defaultdict) -> pd.DataFrame:\n",
    "    transpose_data = []\n",
    "    ids_patient = []\n",
    "    \n",
    "    for patient_id, data in patient_data.items():\n",
    "        for time_point, data in data.items():\n",
    "            transpose_data.append(transpose_data_one_patient(data))\n",
    "            ids_patient.append((patient_id, time_point))\n",
    "        \n",
    "    transpose_data_df = pd.concat(transpose_data, axis=0).reset_index(drop=True)\n",
    "    ids_patient_df = pd.DataFrame(ids_patient, columns=['patient_id', 'time_point'])\n",
    "    \n",
    "    return pd.concat([ids_patient_df, transpose_data_df], axis=1)\n",
    "\n",
    "\n",
    "def pivot_data(patient_all_time_points_df: pd.DataFrame) -> pd.DataFrame:\n",
    "    \"\"\"create 1 column per time_point x gene col\"\"\"\n",
    "    pivoted = patient_all_time_points_df.pivot(index=['patient_id'], columns=['time_point'])\n",
    "    pivoted.columns = ['_'.join(col).strip() for col in pivoted.columns.values]\n",
    "    pivoted = pivoted.reset_index()\n",
    "    return pivoted"
   ]
  },
  {
   "cell_type": "code",
   "execution_count": 14,
   "id": "8af294fd-2406-4107-9f7a-4909ec9f9b4e",
   "metadata": {},
   "outputs": [],
   "source": [
    "patient_diag_time_point_df = format_all_data_as_df(patient_diag_time_point)\n",
    "patient_chir_time_point_df = format_all_data_as_df(patient_chir_time_point)\n",
    "patient_end_time_point_df = format_all_data_as_df(patient_end_time_point)"
   ]
  },
  {
   "cell_type": "code",
   "execution_count": 15,
   "id": "e5095507-19a9-4fb7-a84a-4c9562bc3d40",
   "metadata": {},
   "outputs": [],
   "source": [
    "patient_all_time_points_df = format_all_data_as_df(patient_all_time_points)"
   ]
  },
  {
   "cell_type": "code",
   "execution_count": 16,
   "id": "72591793-06f1-4fe3-b79b-fde0341894b9",
   "metadata": {},
   "outputs": [],
   "source": [
    "patient_all_time_points_pivoted = pivot_data(patient_all_time_points_df)"
   ]
  },
  {
   "cell_type": "code",
   "execution_count": 17,
   "id": "139ce622-a696-442f-b5ba-0fe6617fe657",
   "metadata": {},
   "outputs": [
    {
     "data": {
      "text/html": [
       "<div>\n",
       "<style scoped>\n",
       "    .dataframe tbody tr th:only-of-type {\n",
       "        vertical-align: middle;\n",
       "    }\n",
       "\n",
       "    .dataframe tbody tr th {\n",
       "        vertical-align: top;\n",
       "    }\n",
       "\n",
       "    .dataframe thead th {\n",
       "        text-align: right;\n",
       "    }\n",
       "</style>\n",
       "<table border=\"1\" class=\"dataframe\">\n",
       "  <thead>\n",
       "    <tr style=\"text-align: right;\">\n",
       "      <th></th>\n",
       "      <th>patient_id</th>\n",
       "      <th>time_point</th>\n",
       "      <th>1:1000001-2000000_ratio</th>\n",
       "      <th>1:1000001-2000000_zscore</th>\n",
       "      <th>1:3000001-4000000_ratio</th>\n",
       "      <th>1:3000001-4000000_zscore</th>\n",
       "      <th>1:4000001-5000000_ratio</th>\n",
       "      <th>1:4000001-5000000_zscore</th>\n",
       "      <th>1:5000001-6000000_ratio</th>\n",
       "      <th>1:5000001-6000000_zscore</th>\n",
       "      <th>...</th>\n",
       "      <th>Y:20000001-21000000_ratio</th>\n",
       "      <th>Y:20000001-21000000_zscore</th>\n",
       "      <th>Y:21000001-22000000_ratio</th>\n",
       "      <th>Y:21000001-22000000_zscore</th>\n",
       "      <th>Y:56000001-57000000_ratio</th>\n",
       "      <th>Y:56000001-57000000_zscore</th>\n",
       "      <th>2:225000001-226000000_ratio</th>\n",
       "      <th>2:225000001-226000000_zscore</th>\n",
       "      <th>8:76000001-77000000_ratio</th>\n",
       "      <th>8:76000001-77000000_zscore</th>\n",
       "    </tr>\n",
       "  </thead>\n",
       "  <tbody>\n",
       "    <tr>\n",
       "      <th>0</th>\n",
       "      <td>OS2006_273</td>\n",
       "      <td>DIAG</td>\n",
       "      <td>-0.041425</td>\n",
       "      <td>-0.976791</td>\n",
       "      <td>-0.062404</td>\n",
       "      <td>-1.544387</td>\n",
       "      <td>-0.003995</td>\n",
       "      <td>-0.110273</td>\n",
       "      <td>-0.067551</td>\n",
       "      <td>-1.800513</td>\n",
       "      <td>...</td>\n",
       "      <td>NaN</td>\n",
       "      <td>NaN</td>\n",
       "      <td>NaN</td>\n",
       "      <td>NaN</td>\n",
       "      <td>NaN</td>\n",
       "      <td>NaN</td>\n",
       "      <td>NaN</td>\n",
       "      <td>NaN</td>\n",
       "      <td>NaN</td>\n",
       "      <td>NaN</td>\n",
       "    </tr>\n",
       "    <tr>\n",
       "      <th>1</th>\n",
       "      <td>OS2006_20</td>\n",
       "      <td>DIAG</td>\n",
       "      <td>-0.069139</td>\n",
       "      <td>-0.879803</td>\n",
       "      <td>-0.065056</td>\n",
       "      <td>-0.964620</td>\n",
       "      <td>-0.076228</td>\n",
       "      <td>-1.209564</td>\n",
       "      <td>0.059106</td>\n",
       "      <td>0.861878</td>\n",
       "      <td>...</td>\n",
       "      <td>-0.075287</td>\n",
       "      <td>-0.983087</td>\n",
       "      <td>-0.061387</td>\n",
       "      <td>-0.743372</td>\n",
       "      <td>0.030197</td>\n",
       "      <td>0.363847</td>\n",
       "      <td>NaN</td>\n",
       "      <td>NaN</td>\n",
       "      <td>NaN</td>\n",
       "      <td>NaN</td>\n",
       "    </tr>\n",
       "    <tr>\n",
       "      <th>2</th>\n",
       "      <td>OS2006_37</td>\n",
       "      <td>DIAG</td>\n",
       "      <td>0.096445</td>\n",
       "      <td>1.610565</td>\n",
       "      <td>0.167901</td>\n",
       "      <td>2.627620</td>\n",
       "      <td>0.165071</td>\n",
       "      <td>2.363639</td>\n",
       "      <td>0.143986</td>\n",
       "      <td>2.085317</td>\n",
       "      <td>...</td>\n",
       "      <td>0.068260</td>\n",
       "      <td>0.667947</td>\n",
       "      <td>0.142330</td>\n",
       "      <td>1.608445</td>\n",
       "      <td>-0.451219</td>\n",
       "      <td>-5.174899</td>\n",
       "      <td>NaN</td>\n",
       "      <td>NaN</td>\n",
       "      <td>NaN</td>\n",
       "      <td>NaN</td>\n",
       "    </tr>\n",
       "    <tr>\n",
       "      <th>3</th>\n",
       "      <td>OS2006_320</td>\n",
       "      <td>DIAG</td>\n",
       "      <td>0.059786</td>\n",
       "      <td>1.019763</td>\n",
       "      <td>0.117976</td>\n",
       "      <td>2.038471</td>\n",
       "      <td>0.133299</td>\n",
       "      <td>2.370724</td>\n",
       "      <td>0.190704</td>\n",
       "      <td>3.304253</td>\n",
       "      <td>...</td>\n",
       "      <td>-0.368986</td>\n",
       "      <td>-3.677375</td>\n",
       "      <td>-0.312518</td>\n",
       "      <td>-3.143064</td>\n",
       "      <td>-0.033962</td>\n",
       "      <td>-0.449842</td>\n",
       "      <td>NaN</td>\n",
       "      <td>NaN</td>\n",
       "      <td>NaN</td>\n",
       "      <td>NaN</td>\n",
       "    </tr>\n",
       "    <tr>\n",
       "      <th>4</th>\n",
       "      <td>OS2006_504</td>\n",
       "      <td>DIAG</td>\n",
       "      <td>-0.114674</td>\n",
       "      <td>-1.678215</td>\n",
       "      <td>-0.100271</td>\n",
       "      <td>-1.710686</td>\n",
       "      <td>-0.092227</td>\n",
       "      <td>-1.720962</td>\n",
       "      <td>-0.039484</td>\n",
       "      <td>-0.659434</td>\n",
       "      <td>...</td>\n",
       "      <td>-0.216662</td>\n",
       "      <td>-2.878748</td>\n",
       "      <td>-0.087349</td>\n",
       "      <td>-1.327402</td>\n",
       "      <td>-0.082043</td>\n",
       "      <td>-1.076253</td>\n",
       "      <td>-0.154327</td>\n",
       "      <td>-2.448759</td>\n",
       "      <td>NaN</td>\n",
       "      <td>NaN</td>\n",
       "    </tr>\n",
       "  </tbody>\n",
       "</table>\n",
       "<p>5 rows × 5340 columns</p>\n",
       "</div>"
      ],
      "text/plain": [
       "   patient_id time_point  1:1000001-2000000_ratio  1:1000001-2000000_zscore  \\\n",
       "0  OS2006_273       DIAG                -0.041425                 -0.976791   \n",
       "1   OS2006_20       DIAG                -0.069139                 -0.879803   \n",
       "2   OS2006_37       DIAG                 0.096445                  1.610565   \n",
       "3  OS2006_320       DIAG                 0.059786                  1.019763   \n",
       "4  OS2006_504       DIAG                -0.114674                 -1.678215   \n",
       "\n",
       "   1:3000001-4000000_ratio  1:3000001-4000000_zscore  1:4000001-5000000_ratio  \\\n",
       "0                -0.062404                 -1.544387                -0.003995   \n",
       "1                -0.065056                 -0.964620                -0.076228   \n",
       "2                 0.167901                  2.627620                 0.165071   \n",
       "3                 0.117976                  2.038471                 0.133299   \n",
       "4                -0.100271                 -1.710686                -0.092227   \n",
       "\n",
       "   1:4000001-5000000_zscore  1:5000001-6000000_ratio  \\\n",
       "0                 -0.110273                -0.067551   \n",
       "1                 -1.209564                 0.059106   \n",
       "2                  2.363639                 0.143986   \n",
       "3                  2.370724                 0.190704   \n",
       "4                 -1.720962                -0.039484   \n",
       "\n",
       "   1:5000001-6000000_zscore  ...  Y:20000001-21000000_ratio  \\\n",
       "0                 -1.800513  ...                        NaN   \n",
       "1                  0.861878  ...                  -0.075287   \n",
       "2                  2.085317  ...                   0.068260   \n",
       "3                  3.304253  ...                  -0.368986   \n",
       "4                 -0.659434  ...                  -0.216662   \n",
       "\n",
       "   Y:20000001-21000000_zscore  Y:21000001-22000000_ratio  \\\n",
       "0                         NaN                        NaN   \n",
       "1                   -0.983087                  -0.061387   \n",
       "2                    0.667947                   0.142330   \n",
       "3                   -3.677375                  -0.312518   \n",
       "4                   -2.878748                  -0.087349   \n",
       "\n",
       "   Y:21000001-22000000_zscore  Y:56000001-57000000_ratio  \\\n",
       "0                         NaN                        NaN   \n",
       "1                   -0.743372                   0.030197   \n",
       "2                    1.608445                  -0.451219   \n",
       "3                   -3.143064                  -0.033962   \n",
       "4                   -1.327402                  -0.082043   \n",
       "\n",
       "   Y:56000001-57000000_zscore  2:225000001-226000000_ratio  \\\n",
       "0                         NaN                          NaN   \n",
       "1                    0.363847                          NaN   \n",
       "2                   -5.174899                          NaN   \n",
       "3                   -0.449842                          NaN   \n",
       "4                   -1.076253                    -0.154327   \n",
       "\n",
       "   2:225000001-226000000_zscore  8:76000001-77000000_ratio  \\\n",
       "0                           NaN                        NaN   \n",
       "1                           NaN                        NaN   \n",
       "2                           NaN                        NaN   \n",
       "3                           NaN                        NaN   \n",
       "4                     -2.448759                        NaN   \n",
       "\n",
       "   8:76000001-77000000_zscore  \n",
       "0                         NaN  \n",
       "1                         NaN  \n",
       "2                         NaN  \n",
       "3                         NaN  \n",
       "4                         NaN  \n",
       "\n",
       "[5 rows x 5340 columns]"
      ]
     },
     "execution_count": 17,
     "metadata": {},
     "output_type": "execute_result"
    }
   ],
   "source": [
    "patient_diag_time_point_df.head()"
   ]
  },
  {
   "cell_type": "markdown",
   "id": "261d5128-083b-4c1c-bcb2-2482a1abcb24",
   "metadata": {
    "tags": []
   },
   "source": [
    "## Clean metadata"
   ]
  },
  {
   "cell_type": "code",
   "execution_count": 18,
   "id": "ed567419-7675-49f9-a6eb-4686838f0fd9",
   "metadata": {},
   "outputs": [],
   "source": [
    "metadata_df = metadata.copy()\n",
    "metadata_df = metadata_df.rename(columns={'Code': 'patient_id'})\n",
    "metadata_df = metadata_df.sort_values('cpa_diagnostic', ascending=False).drop_duplicates(['patient_id'], keep='first')"
   ]
  },
  {
   "cell_type": "code",
   "execution_count": 19,
   "id": "44d51945-3c3b-4584-880a-2140d0923ce6",
   "metadata": {},
   "outputs": [
    {
     "data": {
      "text/html": [
       "<div>\n",
       "<style scoped>\n",
       "    .dataframe tbody tr th:only-of-type {\n",
       "        vertical-align: middle;\n",
       "    }\n",
       "\n",
       "    .dataframe tbody tr th {\n",
       "        vertical-align: top;\n",
       "    }\n",
       "\n",
       "    .dataframe thead th {\n",
       "        text-align: right;\n",
       "    }\n",
       "</style>\n",
       "<table border=\"1\" class=\"dataframe\">\n",
       "  <thead>\n",
       "    <tr style=\"text-align: right;\">\n",
       "      <th></th>\n",
       "      <th>sex</th>\n",
       "      <th>age</th>\n",
       "      <th>pub</th>\n",
       "      <th>htum</th>\n",
       "      <th>meta_bis</th>\n",
       "      <th>chimgr</th>\n",
       "      <th>rep_histo</th>\n",
       "      <th>relapse</th>\n",
       "      <th>etat2</th>\n",
       "      <th>time_OS</th>\n",
       "      <th>time_PFS</th>\n",
       "      <th>cpa_finTT</th>\n",
       "      <th>cpa_diagnostic</th>\n",
       "      <th>cpa_chirurgie</th>\n",
       "      <th>EFS</th>\n",
       "      <th>patient_id</th>\n",
       "    </tr>\n",
       "  </thead>\n",
       "  <tbody>\n",
       "    <tr>\n",
       "      <th>33</th>\n",
       "      <td>Feminin</td>\n",
       "      <td>20.55</td>\n",
       "      <td>0.0</td>\n",
       "      <td>11.6</td>\n",
       "      <td>1</td>\n",
       "      <td>MTX</td>\n",
       "      <td>GR</td>\n",
       "      <td>0</td>\n",
       "      <td>0</td>\n",
       "      <td>2628.0</td>\n",
       "      <td>NaN</td>\n",
       "      <td>0.378365</td>\n",
       "      <td>1.620802</td>\n",
       "      <td>NaN</td>\n",
       "      <td>2628.0</td>\n",
       "      <td>OS2006_34</td>\n",
       "    </tr>\n",
       "    <tr>\n",
       "      <th>93</th>\n",
       "      <td>Feminin</td>\n",
       "      <td>12.91</td>\n",
       "      <td>1.0</td>\n",
       "      <td>9.3</td>\n",
       "      <td>0</td>\n",
       "      <td>MTX</td>\n",
       "      <td>GR</td>\n",
       "      <td>1</td>\n",
       "      <td>0</td>\n",
       "      <td>1786.0</td>\n",
       "      <td>1412.0</td>\n",
       "      <td>0.407198</td>\n",
       "      <td>1.255325</td>\n",
       "      <td>0.375167</td>\n",
       "      <td>1412.0</td>\n",
       "      <td>OS2006_424</td>\n",
       "    </tr>\n",
       "    <tr>\n",
       "      <th>10</th>\n",
       "      <td>Masculin</td>\n",
       "      <td>4.71</td>\n",
       "      <td>1.0</td>\n",
       "      <td>10.2</td>\n",
       "      <td>0</td>\n",
       "      <td>MTX</td>\n",
       "      <td>NaN</td>\n",
       "      <td>1</td>\n",
       "      <td>1</td>\n",
       "      <td>261.0</td>\n",
       "      <td>59.0</td>\n",
       "      <td>NaN</td>\n",
       "      <td>1.180568</td>\n",
       "      <td>NaN</td>\n",
       "      <td>59.0</td>\n",
       "      <td>OS2006_6</td>\n",
       "    </tr>\n",
       "    <tr>\n",
       "      <th>157</th>\n",
       "      <td>Feminin</td>\n",
       "      <td>15.62</td>\n",
       "      <td>0.0</td>\n",
       "      <td>15.0</td>\n",
       "      <td>1</td>\n",
       "      <td>MTX</td>\n",
       "      <td>NaN</td>\n",
       "      <td>1</td>\n",
       "      <td>0</td>\n",
       "      <td>1100.0</td>\n",
       "      <td>63.0</td>\n",
       "      <td>0.424170</td>\n",
       "      <td>1.172536</td>\n",
       "      <td>0.405512</td>\n",
       "      <td>63.0</td>\n",
       "      <td>OS2006_543</td>\n",
       "    </tr>\n",
       "    <tr>\n",
       "      <th>70</th>\n",
       "      <td>Feminin</td>\n",
       "      <td>12.56</td>\n",
       "      <td>0.0</td>\n",
       "      <td>11.4</td>\n",
       "      <td>1</td>\n",
       "      <td>MTX</td>\n",
       "      <td>NaN</td>\n",
       "      <td>1</td>\n",
       "      <td>1</td>\n",
       "      <td>258.0</td>\n",
       "      <td>61.0</td>\n",
       "      <td>NaN</td>\n",
       "      <td>1.160646</td>\n",
       "      <td>0.441871</td>\n",
       "      <td>61.0</td>\n",
       "      <td>OS2006_357</td>\n",
       "    </tr>\n",
       "  </tbody>\n",
       "</table>\n",
       "</div>"
      ],
      "text/plain": [
       "          sex    age  pub  htum  meta_bis chimgr rep_histo  relapse  etat2  \\\n",
       "33    Feminin  20.55  0.0  11.6         1    MTX        GR        0      0   \n",
       "93    Feminin  12.91  1.0   9.3         0    MTX        GR        1      0   \n",
       "10   Masculin   4.71  1.0  10.2         0    MTX       NaN        1      1   \n",
       "157   Feminin  15.62  0.0  15.0         1    MTX       NaN        1      0   \n",
       "70    Feminin  12.56  0.0  11.4         1    MTX       NaN        1      1   \n",
       "\n",
       "     time_OS  time_PFS  cpa_finTT  cpa_diagnostic  cpa_chirurgie     EFS  \\\n",
       "33    2628.0       NaN   0.378365        1.620802            NaN  2628.0   \n",
       "93    1786.0    1412.0   0.407198        1.255325       0.375167  1412.0   \n",
       "10     261.0      59.0        NaN        1.180568            NaN    59.0   \n",
       "157   1100.0      63.0   0.424170        1.172536       0.405512    63.0   \n",
       "70     258.0      61.0        NaN        1.160646       0.441871    61.0   \n",
       "\n",
       "     patient_id  \n",
       "33    OS2006_34  \n",
       "93   OS2006_424  \n",
       "10     OS2006_6  \n",
       "157  OS2006_543  \n",
       "70   OS2006_357  "
      ]
     },
     "execution_count": 19,
     "metadata": {},
     "output_type": "execute_result"
    }
   ],
   "source": [
    "metadata_df.head()"
   ]
  },
  {
   "cell_type": "markdown",
   "id": "15a5708e-4f5c-435a-9f82-d63eee883c7b",
   "metadata": {},
   "source": [
    "# join data and metadata"
   ]
  },
  {
   "cell_type": "markdown",
   "id": "b1aa65f7-cd0d-4dbc-a6c1-272e0e7dafeb",
   "metadata": {},
   "source": [
    "## one row per patient, all time points"
   ]
  },
  {
   "cell_type": "code",
   "execution_count": 20,
   "id": "70ca4185-bc89-48f9-b3cb-9bcceaa1fda5",
   "metadata": {},
   "outputs": [],
   "source": [
    "merged = pd.merge(metadata_df, patient_all_time_points_pivoted, on='patient_id', how='outer') "
   ]
  },
  {
   "cell_type": "code",
   "execution_count": 21,
   "id": "39746b01-96f0-40fd-afe6-3a295f4d1521",
   "metadata": {},
   "outputs": [
    {
     "name": "stdout",
     "output_type": "stream",
     "text": [
      "proportion of nulls: 0.36813186813186816\n"
     ]
    }
   ],
   "source": [
    "print(f\"proportion of nulls: {merged['1:6000001-7000000_ratio_DIAG'].isna().sum()/len(merged)}\")"
   ]
  },
  {
   "cell_type": "code",
   "execution_count": 22,
   "id": "55328c4d-acc6-4e02-92ff-1c242036ab57",
   "metadata": {},
   "outputs": [],
   "source": [
    "assert len(merged.patient_id.unique()) == len(merged), \"there are duplicated values\""
   ]
  },
  {
   "cell_type": "markdown",
   "id": "3ead43a7-3818-4a1f-87ca-549a63b219a8",
   "metadata": {},
   "source": [
    "## per time point"
   ]
  },
  {
   "cell_type": "code",
   "execution_count": 23,
   "id": "cd2b613d-1029-41a8-af7f-3681cdd2e683",
   "metadata": {},
   "outputs": [],
   "source": [
    "def merge_data_and_metadata(\n",
    "        metadata_df: pd.DataFrame,\n",
    "        data: pd.DataFrame,\n",
    "        to_drop: List[str],\n",
    "        time_points: List[str],\n",
    "        ) -> pd.DataFrame:\n",
    "    data_processed = data.copy()\n",
    "    data_processed = data_processed.drop(columns=to_drop, errors=\"ignore\")\n",
    "    data_processed = data_processed[data_processed['time_point'].isin(time_points)]\n",
    "    data_processed = pivot_data(data_processed)\n",
    "    return pd.merge(\n",
    "        metadata_df.drop(columns=to_drop, errors=\"ignore\"),\n",
    "        data_processed,\n",
    "        how='inner',\n",
    "        on='patient_id',\n",
    "    )"
   ]
  },
  {
   "cell_type": "code",
   "execution_count": 24,
   "id": "8439f3be-1dfd-4b0f-a4f5-181d39b5d832",
   "metadata": {},
   "outputs": [],
   "source": [
    "TO_DROP = ['cpa_chirurgie', 'cpa_finTT', 'rep_histo']    # to avoid data leakage\n",
    "TIME_POINTS = ['DIAG']    # we assure 'AVANT_CHIR' is actually after diag\n",
    "\n",
    "merged_diag = merge_data_and_metadata(\n",
    "    metadata_df,\n",
    "    patient_all_time_points_df,\n",
    "    to_drop=TO_DROP,\n",
    "    time_points=TIME_POINTS)"
   ]
  },
  {
   "cell_type": "code",
   "execution_count": 25,
   "id": "feed3f38-a447-455c-bea9-a8bb5fa69631",
   "metadata": {},
   "outputs": [],
   "source": [
    "TO_DROP = ['cpa_finTT']    # to avoid data leakage\n",
    "TIME_POINTS = ['DIAG', 'AVANT_CHIR']    # we assume 'avant_chir' is after chir\n",
    "\n",
    "merged_chir = merge_data_and_metadata(\n",
    "    metadata_df,\n",
    "    patient_all_time_points_df,\n",
    "    to_drop=TO_DROP,\n",
    "    time_points=TIME_POINTS)"
   ]
  },
  {
   "cell_type": "code",
   "execution_count": 26,
   "id": "468960a3-8249-4882-aadb-206c215d2e3b",
   "metadata": {},
   "outputs": [],
   "source": [
    "# merged\n",
    "merged.to_csv(OUTPUT_DIR / 'data_metadata.csv', index=False)    # all time points\n",
    "merged_diag.to_csv(OUTPUT_DIR / 'data_metadata_diag.csv', index=False)    # diag data only\n",
    "merged_chir.to_csv(OUTPUT_DIR / 'data_metadata_chir.csv', index=False)    # diag + chir data\n",
    "\n",
    "# data\n",
    "patient_all_time_points_pivoted.to_csv(OUTPUT_DIR / 'data_all_time_point_pivoted.csv', index=False)    # one row per patient\n",
    "patient_all_time_points_df.to_csv(OUTPUT_DIR / 'data_data_all_time_point.csv', index=False)    # one row per patient per time point\n",
    "\n",
    "# metadata\n",
    "metadata_df.to_csv(OUTPUT_DIR / \"metadata.csv\", index=False)"
   ]
  },
  {
   "cell_type": "markdown",
   "id": "6ca7e004-5f26-40c6-9286-29eed40ebb8e",
   "metadata": {
    "tags": []
   },
   "source": [
    "# Load processed data"
   ]
  },
  {
   "cell_type": "code",
   "execution_count": 27,
   "id": "b0716c3d-e37d-4c4f-9eb3-823b7252af61",
   "metadata": {},
   "outputs": [],
   "source": [
    "OUTPUT_DIR = Path('..') / 'data' / 'intermediate'\n",
    "\n",
    "# merged\n",
    "merged = pd.read_csv(OUTPUT_DIR / 'data_metadata.csv')    # all time points\n",
    "merged_diag = pd.read_csv(OUTPUT_DIR / 'data_metadata_diag.csv')    # diag data only\n",
    "merged_chir = pd.read_csv(OUTPUT_DIR / 'data_metadata_chir.csv')    # diag + chir data\n",
    "\n",
    "# data\n",
    "patient_all_time_points_pivoted = pd.read_csv(OUTPUT_DIR / 'data_all_time_point_pivoted.csv')    # one row per patient\n",
    "patient_all_time_points_df = pd.read_csv(OUTPUT_DIR / 'data_data_all_time_point.csv')    # one row per patient per time point\n",
    "\n",
    "# metadata\n",
    "metadata_df = pd.read_csv(OUTPUT_DIR / \"metadata.csv\")"
   ]
  },
  {
   "cell_type": "markdown",
   "id": "7eecbc9f-b4d5-4bae-8576-fa2c0294cf43",
   "metadata": {},
   "source": [
    "# Outliers\n",
    "## Because CPA to important"
   ]
  },
  {
   "cell_type": "code",
   "execution_count": 28,
   "id": "a2f4dbb4-958e-4c14-88da-5418f2aa6f38",
   "metadata": {},
   "outputs": [],
   "source": [
    "# come frome the previous notebook\n",
    "outliers_ids = ['OS2006_34', 'OS2006_548', 'OS2006_20']"
   ]
  },
  {
   "cell_type": "markdown",
   "id": "4e0f9edd-0854-4946-823e-f8976254798e",
   "metadata": {},
   "source": [
    "## Because time_os too low"
   ]
  },
  {
   "cell_type": "code",
   "execution_count": 29,
   "id": "dc4d0d12-08de-4f95-b639-04729b9c8dc2",
   "metadata": {},
   "outputs": [
    {
     "data": {
      "text/plain": [
       "<AxesSubplot:>"
      ]
     },
     "execution_count": 29,
     "metadata": {},
     "output_type": "execute_result"
    },
    {
     "data": {
      "image/png": "[encoded data removed]",
      "text/plain": [
       "<Figure size 432x288 with 1 Axes>"
      ]
     },
     "metadata": {
      "needs_background": "light"
     },
     "output_type": "display_data"
    }
   ],
   "source": [
    "metadata_df['time_OS'].hist()"
   ]
  },
  {
   "cell_type": "code",
   "execution_count": 30,
   "id": "6c094900-2c78-4364-8245-7392f6bcc8c8",
   "metadata": {},
   "outputs": [
    {
     "data": {
      "text/plain": [
       "(150, 16)"
      ]
     },
     "execution_count": 30,
     "metadata": {},
     "output_type": "execute_result"
    }
   ],
   "source": [
    "metadata_df[metadata_df['time_OS'] > 700].shape"
   ]
  },
  {
   "cell_type": "code",
   "execution_count": 31,
   "id": "f3779eb2-9148-4edd-bbbd-e2f174825c87",
   "metadata": {},
   "outputs": [
    {
     "data": {
      "text/plain": [
       "(182, 16)"
      ]
     },
     "execution_count": 31,
     "metadata": {},
     "output_type": "execute_result"
    }
   ],
   "source": [
    "metadata_df.shape"
   ]
  },
  {
   "cell_type": "code",
   "execution_count": 32,
   "id": "b3263dca-ee73-4aed-95dd-5d0a9762f6d4",
   "metadata": {},
   "outputs": [],
   "source": [
    "outliers_ids.extend(metadata_df.loc[(metadata_df['time_OS'] < 700) & (metadata_df['relapse'] == 0), 'patient_id'].tolist())"
   ]
  },
  {
   "cell_type": "markdown",
   "id": "995d9cee-3850-498f-95ce-d073ecba574d",
   "metadata": {},
   "source": [
    "## Remove outliers"
   ]
  },
  {
   "cell_type": "code",
   "execution_count": 33,
   "id": "ae27249b-4f17-466b-bb87-9bb655dcf182",
   "metadata": {},
   "outputs": [
    {
     "data": {
      "text/plain": [
       "31"
      ]
     },
     "execution_count": 33,
     "metadata": {},
     "output_type": "execute_result"
    }
   ],
   "source": [
    "len(outliers_ids)"
   ]
  },
  {
   "cell_type": "code",
   "execution_count": 34,
   "id": "4a03d0bb-08bf-468f-8d6e-f2db841cd7e1",
   "metadata": {},
   "outputs": [],
   "source": [
    "patient_diag_time_point_no_outlier_df = patient_diag_time_point_df[~patient_diag_time_point_df['patient_id'].isin(outliers_ids)]\n",
    "patient_diag_time_point_no_outlier_df.reset_index(drop=True, inplace=True)"
   ]
  },
  {
   "cell_type": "markdown",
   "id": "9a746ef6-89bc-4f42-8dc0-e08dc0ad64ef",
   "metadata": {},
   "source": [
    "# build features / labels"
   ]
  },
  {
   "cell_type": "code",
   "execution_count": 35,
   "id": "1e34f07f-612c-44dd-adf4-fb5c2729b225",
   "metadata": {},
   "outputs": [
    {
     "data": {
      "text/html": [
       "<div>\n",
       "<style scoped>\n",
       "    .dataframe tbody tr th:only-of-type {\n",
       "        vertical-align: middle;\n",
       "    }\n",
       "\n",
       "    .dataframe tbody tr th {\n",
       "        vertical-align: top;\n",
       "    }\n",
       "\n",
       "    .dataframe thead th {\n",
       "        text-align: right;\n",
       "    }\n",
       "</style>\n",
       "<table border=\"1\" class=\"dataframe\">\n",
       "  <thead>\n",
       "    <tr style=\"text-align: right;\">\n",
       "      <th></th>\n",
       "      <th>patient_id</th>\n",
       "      <th>time_point</th>\n",
       "      <th>1:1000001-2000000_ratio</th>\n",
       "      <th>1:1000001-2000000_zscore</th>\n",
       "      <th>1:3000001-4000000_ratio</th>\n",
       "      <th>1:3000001-4000000_zscore</th>\n",
       "      <th>1:4000001-5000000_ratio</th>\n",
       "      <th>1:4000001-5000000_zscore</th>\n",
       "      <th>1:5000001-6000000_ratio</th>\n",
       "      <th>1:5000001-6000000_zscore</th>\n",
       "      <th>...</th>\n",
       "      <th>Y:20000001-21000000_ratio</th>\n",
       "      <th>Y:20000001-21000000_zscore</th>\n",
       "      <th>Y:21000001-22000000_ratio</th>\n",
       "      <th>Y:21000001-22000000_zscore</th>\n",
       "      <th>Y:56000001-57000000_ratio</th>\n",
       "      <th>Y:56000001-57000000_zscore</th>\n",
       "      <th>2:225000001-226000000_ratio</th>\n",
       "      <th>2:225000001-226000000_zscore</th>\n",
       "      <th>8:76000001-77000000_ratio</th>\n",
       "      <th>8:76000001-77000000_zscore</th>\n",
       "    </tr>\n",
       "  </thead>\n",
       "  <tbody>\n",
       "    <tr>\n",
       "      <th>0</th>\n",
       "      <td>OS2006_273</td>\n",
       "      <td>DIAG</td>\n",
       "      <td>-0.041425</td>\n",
       "      <td>-0.976791</td>\n",
       "      <td>-0.062404</td>\n",
       "      <td>-1.544387</td>\n",
       "      <td>-0.003995</td>\n",
       "      <td>-0.110273</td>\n",
       "      <td>-0.067551</td>\n",
       "      <td>-1.800513</td>\n",
       "      <td>...</td>\n",
       "      <td>NaN</td>\n",
       "      <td>NaN</td>\n",
       "      <td>NaN</td>\n",
       "      <td>NaN</td>\n",
       "      <td>NaN</td>\n",
       "      <td>NaN</td>\n",
       "      <td>NaN</td>\n",
       "      <td>NaN</td>\n",
       "      <td>NaN</td>\n",
       "      <td>NaN</td>\n",
       "    </tr>\n",
       "    <tr>\n",
       "      <th>1</th>\n",
       "      <td>OS2006_37</td>\n",
       "      <td>DIAG</td>\n",
       "      <td>0.096445</td>\n",
       "      <td>1.610565</td>\n",
       "      <td>0.167901</td>\n",
       "      <td>2.627620</td>\n",
       "      <td>0.165071</td>\n",
       "      <td>2.363639</td>\n",
       "      <td>0.143986</td>\n",
       "      <td>2.085317</td>\n",
       "      <td>...</td>\n",
       "      <td>0.068260</td>\n",
       "      <td>0.667947</td>\n",
       "      <td>0.142330</td>\n",
       "      <td>1.608445</td>\n",
       "      <td>-0.451219</td>\n",
       "      <td>-5.174899</td>\n",
       "      <td>NaN</td>\n",
       "      <td>NaN</td>\n",
       "      <td>NaN</td>\n",
       "      <td>NaN</td>\n",
       "    </tr>\n",
       "    <tr>\n",
       "      <th>2</th>\n",
       "      <td>OS2006_320</td>\n",
       "      <td>DIAG</td>\n",
       "      <td>0.059786</td>\n",
       "      <td>1.019763</td>\n",
       "      <td>0.117976</td>\n",
       "      <td>2.038471</td>\n",
       "      <td>0.133299</td>\n",
       "      <td>2.370724</td>\n",
       "      <td>0.190704</td>\n",
       "      <td>3.304253</td>\n",
       "      <td>...</td>\n",
       "      <td>-0.368986</td>\n",
       "      <td>-3.677375</td>\n",
       "      <td>-0.312518</td>\n",
       "      <td>-3.143064</td>\n",
       "      <td>-0.033962</td>\n",
       "      <td>-0.449842</td>\n",
       "      <td>NaN</td>\n",
       "      <td>NaN</td>\n",
       "      <td>NaN</td>\n",
       "      <td>NaN</td>\n",
       "    </tr>\n",
       "    <tr>\n",
       "      <th>3</th>\n",
       "      <td>OS2006_454</td>\n",
       "      <td>DIAG</td>\n",
       "      <td>-0.080659</td>\n",
       "      <td>-2.219705</td>\n",
       "      <td>-0.087107</td>\n",
       "      <td>-2.564875</td>\n",
       "      <td>0.091030</td>\n",
       "      <td>2.927293</td>\n",
       "      <td>0.071785</td>\n",
       "      <td>2.375454</td>\n",
       "      <td>...</td>\n",
       "      <td>-0.239354</td>\n",
       "      <td>-6.671689</td>\n",
       "      <td>0.008678</td>\n",
       "      <td>0.287086</td>\n",
       "      <td>-0.068674</td>\n",
       "      <td>-1.861192</td>\n",
       "      <td>NaN</td>\n",
       "      <td>NaN</td>\n",
       "      <td>-0.032918</td>\n",
       "      <td>-0.994376</td>\n",
       "    </tr>\n",
       "    <tr>\n",
       "      <th>4</th>\n",
       "      <td>OS2006_356</td>\n",
       "      <td>DIAG</td>\n",
       "      <td>0.191670</td>\n",
       "      <td>4.122737</td>\n",
       "      <td>0.153430</td>\n",
       "      <td>2.938652</td>\n",
       "      <td>0.042777</td>\n",
       "      <td>0.815245</td>\n",
       "      <td>0.005525</td>\n",
       "      <td>0.132439</td>\n",
       "      <td>...</td>\n",
       "      <td>NaN</td>\n",
       "      <td>NaN</td>\n",
       "      <td>NaN</td>\n",
       "      <td>NaN</td>\n",
       "      <td>NaN</td>\n",
       "      <td>NaN</td>\n",
       "      <td>NaN</td>\n",
       "      <td>NaN</td>\n",
       "      <td>NaN</td>\n",
       "      <td>NaN</td>\n",
       "    </tr>\n",
       "    <tr>\n",
       "      <th>...</th>\n",
       "      <td>...</td>\n",
       "      <td>...</td>\n",
       "      <td>...</td>\n",
       "      <td>...</td>\n",
       "      <td>...</td>\n",
       "      <td>...</td>\n",
       "      <td>...</td>\n",
       "      <td>...</td>\n",
       "      <td>...</td>\n",
       "      <td>...</td>\n",
       "      <td>...</td>\n",
       "      <td>...</td>\n",
       "      <td>...</td>\n",
       "      <td>...</td>\n",
       "      <td>...</td>\n",
       "      <td>...</td>\n",
       "      <td>...</td>\n",
       "      <td>...</td>\n",
       "      <td>...</td>\n",
       "      <td>...</td>\n",
       "      <td>...</td>\n",
       "    </tr>\n",
       "    <tr>\n",
       "      <th>142</th>\n",
       "      <td>OS2006_29</td>\n",
       "      <td>DIAG</td>\n",
       "      <td>0.131603</td>\n",
       "      <td>3.533083</td>\n",
       "      <td>0.130085</td>\n",
       "      <td>3.242053</td>\n",
       "      <td>0.007131</td>\n",
       "      <td>0.148884</td>\n",
       "      <td>0.002434</td>\n",
       "      <td>0.030667</td>\n",
       "      <td>...</td>\n",
       "      <td>NaN</td>\n",
       "      <td>NaN</td>\n",
       "      <td>NaN</td>\n",
       "      <td>NaN</td>\n",
       "      <td>NaN</td>\n",
       "      <td>NaN</td>\n",
       "      <td>-0.019207</td>\n",
       "      <td>-0.540331</td>\n",
       "      <td>0.025165</td>\n",
       "      <td>0.639913</td>\n",
       "    </tr>\n",
       "    <tr>\n",
       "      <th>143</th>\n",
       "      <td>OS2006_74</td>\n",
       "      <td>DIAG</td>\n",
       "      <td>-0.012060</td>\n",
       "      <td>-0.267332</td>\n",
       "      <td>0.048694</td>\n",
       "      <td>1.356621</td>\n",
       "      <td>0.051124</td>\n",
       "      <td>1.365275</td>\n",
       "      <td>0.059460</td>\n",
       "      <td>1.660112</td>\n",
       "      <td>...</td>\n",
       "      <td>NaN</td>\n",
       "      <td>NaN</td>\n",
       "      <td>NaN</td>\n",
       "      <td>NaN</td>\n",
       "      <td>NaN</td>\n",
       "      <td>NaN</td>\n",
       "      <td>NaN</td>\n",
       "      <td>NaN</td>\n",
       "      <td>0.023205</td>\n",
       "      <td>0.512286</td>\n",
       "    </tr>\n",
       "    <tr>\n",
       "      <th>144</th>\n",
       "      <td>OS2006_291</td>\n",
       "      <td>DIAG</td>\n",
       "      <td>-0.011405</td>\n",
       "      <td>-0.350386</td>\n",
       "      <td>0.003667</td>\n",
       "      <td>0.119972</td>\n",
       "      <td>0.014676</td>\n",
       "      <td>0.380061</td>\n",
       "      <td>0.048636</td>\n",
       "      <td>1.383245</td>\n",
       "      <td>...</td>\n",
       "      <td>0.160422</td>\n",
       "      <td>3.827754</td>\n",
       "      <td>-0.032544</td>\n",
       "      <td>-0.917820</td>\n",
       "      <td>0.104093</td>\n",
       "      <td>2.307465</td>\n",
       "      <td>NaN</td>\n",
       "      <td>NaN</td>\n",
       "      <td>NaN</td>\n",
       "      <td>NaN</td>\n",
       "    </tr>\n",
       "    <tr>\n",
       "      <th>145</th>\n",
       "      <td>OS2006_196</td>\n",
       "      <td>DIAG</td>\n",
       "      <td>0.003971</td>\n",
       "      <td>-0.009709</td>\n",
       "      <td>0.024788</td>\n",
       "      <td>0.188285</td>\n",
       "      <td>-0.071519</td>\n",
       "      <td>-0.754290</td>\n",
       "      <td>-0.027218</td>\n",
       "      <td>-0.288237</td>\n",
       "      <td>...</td>\n",
       "      <td>-0.673586</td>\n",
       "      <td>-5.267646</td>\n",
       "      <td>-0.448902</td>\n",
       "      <td>-3.714471</td>\n",
       "      <td>-0.171304</td>\n",
       "      <td>-1.512941</td>\n",
       "      <td>NaN</td>\n",
       "      <td>NaN</td>\n",
       "      <td>NaN</td>\n",
       "      <td>NaN</td>\n",
       "    </tr>\n",
       "    <tr>\n",
       "      <th>146</th>\n",
       "      <td>OS2006_65</td>\n",
       "      <td>DIAG</td>\n",
       "      <td>0.029892</td>\n",
       "      <td>1.170783</td>\n",
       "      <td>0.011493</td>\n",
       "      <td>0.304773</td>\n",
       "      <td>-0.000287</td>\n",
       "      <td>-0.106703</td>\n",
       "      <td>0.042237</td>\n",
       "      <td>1.747220</td>\n",
       "      <td>...</td>\n",
       "      <td>NaN</td>\n",
       "      <td>NaN</td>\n",
       "      <td>NaN</td>\n",
       "      <td>NaN</td>\n",
       "      <td>NaN</td>\n",
       "      <td>NaN</td>\n",
       "      <td>0.015921</td>\n",
       "      <td>0.546679</td>\n",
       "      <td>0.009602</td>\n",
       "      <td>0.436263</td>\n",
       "    </tr>\n",
       "  </tbody>\n",
       "</table>\n",
       "<p>147 rows × 5340 columns</p>\n",
       "</div>"
      ],
      "text/plain": [
       "     patient_id time_point  1:1000001-2000000_ratio  1:1000001-2000000_zscore  \\\n",
       "0    OS2006_273       DIAG                -0.041425                 -0.976791   \n",
       "1     OS2006_37       DIAG                 0.096445                  1.610565   \n",
       "2    OS2006_320       DIAG                 0.059786                  1.019763   \n",
       "3    OS2006_454       DIAG                -0.080659                 -2.219705   \n",
       "4    OS2006_356       DIAG                 0.191670                  4.122737   \n",
       "..          ...        ...                      ...                       ...   \n",
       "142   OS2006_29       DIAG                 0.131603                  3.533083   \n",
       "143   OS2006_74       DIAG                -0.012060                 -0.267332   \n",
       "144  OS2006_291       DIAG                -0.011405                 -0.350386   \n",
       "145  OS2006_196       DIAG                 0.003971                 -0.009709   \n",
       "146   OS2006_65       DIAG                 0.029892                  1.170783   \n",
       "\n",
       "     1:3000001-4000000_ratio  1:3000001-4000000_zscore  \\\n",
       "0                  -0.062404                 -1.544387   \n",
       "1                   0.167901                  2.627620   \n",
       "2                   0.117976                  2.038471   \n",
       "3                  -0.087107                 -2.564875   \n",
       "4                   0.153430                  2.938652   \n",
       "..                       ...                       ...   \n",
       "142                 0.130085                  3.242053   \n",
       "143                 0.048694                  1.356621   \n",
       "144                 0.003667                  0.119972   \n",
       "145                 0.024788                  0.188285   \n",
       "146                 0.011493                  0.304773   \n",
       "\n",
       "     1:4000001-5000000_ratio  1:4000001-5000000_zscore  \\\n",
       "0                  -0.003995                 -0.110273   \n",
       "1                   0.165071                  2.363639   \n",
       "2                   0.133299                  2.370724   \n",
       "3                   0.091030                  2.927293   \n",
       "4                   0.042777                  0.815245   \n",
       "..                       ...                       ...   \n",
       "142                 0.007131                  0.148884   \n",
       "143                 0.051124                  1.365275   \n",
       "144                 0.014676                  0.380061   \n",
       "145                -0.071519                 -0.754290   \n",
       "146                -0.000287                 -0.106703   \n",
       "\n",
       "     1:5000001-6000000_ratio  1:5000001-6000000_zscore  ...  \\\n",
       "0                  -0.067551                 -1.800513  ...   \n",
       "1                   0.143986                  2.085317  ...   \n",
       "2                   0.190704                  3.304253  ...   \n",
       "3                   0.071785                  2.375454  ...   \n",
       "4                   0.005525                  0.132439  ...   \n",
       "..                       ...                       ...  ...   \n",
       "142                 0.002434                  0.030667  ...   \n",
       "143                 0.059460                  1.660112  ...   \n",
       "144                 0.048636                  1.383245  ...   \n",
       "145                -0.027218                 -0.288237  ...   \n",
       "146                 0.042237                  1.747220  ...   \n",
       "\n",
       "     Y:20000001-21000000_ratio  Y:20000001-21000000_zscore  \\\n",
       "0                          NaN                         NaN   \n",
       "1                     0.068260                    0.667947   \n",
       "2                    -0.368986                   -3.677375   \n",
       "3                    -0.239354                   -6.671689   \n",
       "4                          NaN                         NaN   \n",
       "..                         ...                         ...   \n",
       "142                        NaN                         NaN   \n",
       "143                        NaN                         NaN   \n",
       "144                   0.160422                    3.827754   \n",
       "145                  -0.673586                   -5.267646   \n",
       "146                        NaN                         NaN   \n",
       "\n",
       "     Y:21000001-22000000_ratio  Y:21000001-22000000_zscore  \\\n",
       "0                          NaN                         NaN   \n",
       "1                     0.142330                    1.608445   \n",
       "2                    -0.312518                   -3.143064   \n",
       "3                     0.008678                    0.287086   \n",
       "4                          NaN                         NaN   \n",
       "..                         ...                         ...   \n",
       "142                        NaN                         NaN   \n",
       "143                        NaN                         NaN   \n",
       "144                  -0.032544                   -0.917820   \n",
       "145                  -0.448902                   -3.714471   \n",
       "146                        NaN                         NaN   \n",
       "\n",
       "     Y:56000001-57000000_ratio  Y:56000001-57000000_zscore  \\\n",
       "0                          NaN                         NaN   \n",
       "1                    -0.451219                   -5.174899   \n",
       "2                    -0.033962                   -0.449842   \n",
       "3                    -0.068674                   -1.861192   \n",
       "4                          NaN                         NaN   \n",
       "..                         ...                         ...   \n",
       "142                        NaN                         NaN   \n",
       "143                        NaN                         NaN   \n",
       "144                   0.104093                    2.307465   \n",
       "145                  -0.171304                   -1.512941   \n",
       "146                        NaN                         NaN   \n",
       "\n",
       "     2:225000001-226000000_ratio  2:225000001-226000000_zscore  \\\n",
       "0                            NaN                           NaN   \n",
       "1                            NaN                           NaN   \n",
       "2                            NaN                           NaN   \n",
       "3                            NaN                           NaN   \n",
       "4                            NaN                           NaN   \n",
       "..                           ...                           ...   \n",
       "142                    -0.019207                     -0.540331   \n",
       "143                          NaN                           NaN   \n",
       "144                          NaN                           NaN   \n",
       "145                          NaN                           NaN   \n",
       "146                     0.015921                      0.546679   \n",
       "\n",
       "     8:76000001-77000000_ratio  8:76000001-77000000_zscore  \n",
       "0                          NaN                         NaN  \n",
       "1                          NaN                         NaN  \n",
       "2                          NaN                         NaN  \n",
       "3                    -0.032918                   -0.994376  \n",
       "4                          NaN                         NaN  \n",
       "..                         ...                         ...  \n",
       "142                   0.025165                    0.639913  \n",
       "143                   0.023205                    0.512286  \n",
       "144                        NaN                         NaN  \n",
       "145                        NaN                         NaN  \n",
       "146                   0.009602                    0.436263  \n",
       "\n",
       "[147 rows x 5340 columns]"
      ]
     },
     "execution_count": 35,
     "metadata": {},
     "output_type": "execute_result"
    }
   ],
   "source": [
    "patient_diag_time_point_no_outlier_df"
   ]
  },
  {
   "cell_type": "code",
   "execution_count": 36,
   "id": "b6dffc63-06b5-4755-9657-c7cac5425fba",
   "metadata": {},
   "outputs": [],
   "source": [
    "def remove_x_and_y_chrom(features: pd.DataFrame) -> pd.DataFrame:\n",
    "    return features[[x for x in features.columns if not (x.startswith('X:') or x.startswith('Y:'))]]\n",
    "\n",
    "def compute_features(data: pd.DataFrame, score: str = 'ratio') -> pd.DataFrame:\n",
    "    features = data[[x for x in data.columns if f'_{score}' in x]]\n",
    "    features = remove_x_and_y_chrom(features)\n",
    "    features.fillna(0, inplace=True)\n",
    "    return features"
   ]
  },
  {
   "cell_type": "code",
   "execution_count": 37,
   "id": "29546328-2b34-488f-a50e-fa69c2d0bae9",
   "metadata": {},
   "outputs": [],
   "source": [
    "X = compute_features(patient_diag_time_point_no_outlier_df)"
   ]
  },
  {
   "cell_type": "code",
   "execution_count": 38,
   "id": "f58f73fc-ab21-4e1d-8967-503439fed64e",
   "metadata": {},
   "outputs": [],
   "source": [
    "y_df = pd.merge(patient_diag_time_point_no_outlier_df, metadata_df[['patient_id', 'relapse']], on='patient_id', how='left')['relapse']"
   ]
  },
  {
   "cell_type": "code",
   "execution_count": 39,
   "id": "849efb70-068c-4518-9f7d-9f09859e2355",
   "metadata": {},
   "outputs": [
    {
     "data": {
      "text/plain": [
       "0    94\n",
       "1    53\n",
       "Name: relapse, dtype: int64"
      ]
     },
     "execution_count": 39,
     "metadata": {},
     "output_type": "execute_result"
    }
   ],
   "source": [
    "y_df.value_counts()"
   ]
  },
  {
   "cell_type": "code",
   "execution_count": 40,
   "id": "df246c8e-4803-4251-bb93-649e4d196aea",
   "metadata": {},
   "outputs": [
    {
     "data": {
      "text/plain": [
       "array([0, 1])"
      ]
     },
     "execution_count": 40,
     "metadata": {},
     "output_type": "execute_result"
    }
   ],
   "source": [
    "np.unique(y_df)"
   ]
  },
  {
   "cell_type": "code",
   "execution_count": 41,
   "id": "93a892bf-4707-4a2b-b942-9e71aad80636",
   "metadata": {},
   "outputs": [],
   "source": [
    "y = y_df.to_list()"
   ]
  },
  {
   "cell_type": "markdown",
   "id": "107e1850-4faa-4e56-a2cc-e7cad0ce0d97",
   "metadata": {},
   "source": [
    "# Training\n",
    "## basic cross validation"
   ]
  },
  {
   "cell_type": "code",
   "execution_count": 42,
   "id": "e464e500-0002-4e0f-a1b9-fcd48213bf74",
   "metadata": {},
   "outputs": [],
   "source": [
    "from sklearn.model_selection import cross_val_score\n",
    "from sklearn.linear_model import LogisticRegression\n"
   ]
  },
  {
   "cell_type": "code",
   "execution_count": 43,
   "id": "8dad2c41-649b-4f77-bb80-492af350471f",
   "metadata": {},
   "outputs": [],
   "source": [
    "lr = LogisticRegression(class_weight='balanced')"
   ]
  },
  {
   "cell_type": "code",
   "execution_count": 44,
   "id": "394ba9e8-556a-407f-873e-c3e9a9fac95e",
   "metadata": {},
   "outputs": [],
   "source": [
    "cv_score = cross_val_score(lr, X, y, cv=5)"
   ]
  },
  {
   "cell_type": "code",
   "execution_count": 45,
   "id": "9770b527-cf08-4014-bfd9-4e2ba24d5213",
   "metadata": {},
   "outputs": [],
   "source": [
    "mean_score = 100 * np.mean(cv_score)\n",
    "std_score = 100 * np.std(cv_score)"
   ]
  },
  {
   "cell_type": "code",
   "execution_count": 46,
   "id": "c1669a2f-9d29-4dd6-84d9-f22f0bf51aac",
   "metadata": {},
   "outputs": [
    {
     "data": {
      "text/plain": [
       "4.539866128306095"
      ]
     },
     "execution_count": 46,
     "metadata": {},
     "output_type": "execute_result"
    }
   ],
   "source": [
    "std_score"
   ]
  },
  {
   "cell_type": "code",
   "execution_count": 47,
   "id": "94228769-32d1-45cb-9383-751e76088494",
   "metadata": {},
   "outputs": [
    {
     "data": {
      "text/plain": [
       "66.66666666666667"
      ]
     },
     "execution_count": 47,
     "metadata": {},
     "output_type": "execute_result"
    }
   ],
   "source": [
    "mean_score"
   ]
  },
  {
   "cell_type": "code",
   "execution_count": 48,
   "id": "4d405fca-126c-420a-931e-75daefaa3a58",
   "metadata": {},
   "outputs": [
    {
     "data": {
      "text/plain": [
       "array([0.66666667, 0.66666667, 0.68965517, 0.72413793, 0.5862069 ])"
      ]
     },
     "execution_count": 48,
     "metadata": {},
     "output_type": "execute_result"
    }
   ],
   "source": [
    "cv_score"
   ]
  },
  {
   "cell_type": "code",
   "execution_count": 49,
   "id": "6b4d7140-c2d5-4f63-bd79-ade564bdcf7c",
   "metadata": {},
   "outputs": [
    {
     "data": {
      "text/plain": [
       "0.04539866128306094"
      ]
     },
     "execution_count": 49,
     "metadata": {},
     "output_type": "execute_result"
    }
   ],
   "source": [
    "np.std(cv_score)"
   ]
  },
  {
   "cell_type": "markdown",
   "id": "62ecf97d-73da-4afe-beb1-1f1c74e9bdc1",
   "metadata": {},
   "source": [
    "## Take random features\n",
    "### use all possible combinaitions"
   ]
  },
  {
   "cell_type": "code",
   "execution_count": 50,
   "id": "d8b04f7d-a9ee-429b-83fc-4bffb433b0af",
   "metadata": {},
   "outputs": [],
   "source": [
    "features_name = X.columns.tolist()"
   ]
  },
  {
   "cell_type": "code",
   "execution_count": 51,
   "id": "66487f1b-fc47-441a-a281-83e8d219bd4b",
   "metadata": {},
   "outputs": [
    {
     "data": {
      "text/plain": [
       "2498"
      ]
     },
     "execution_count": 51,
     "metadata": {},
     "output_type": "execute_result"
    }
   ],
   "source": [
    "len(features_name)"
   ]
  },
  {
   "cell_type": "code",
   "execution_count": 52,
   "id": "3e26fe81-e860-4177-8888-c21c09b09ab4",
   "metadata": {},
   "outputs": [
    {
     "data": {
      "text/plain": [
       "2.5605178712370793e+27"
      ]
     },
     "execution_count": 52,
     "metadata": {},
     "output_type": "execute_result"
    }
   ],
   "source": [
    "from math import factorial\n",
    "nb_features_to_pick = 10\n",
    "nb_combinaison = factorial(2498)/(factorial(nb_features_to_pick) * factorial(2498 - nb_features_to_pick))\n",
    "nb_combinaison"
   ]
  },
  {
   "cell_type": "markdown",
   "id": "4029eea3-a0e9-42c1-af90-4311a50f1602",
   "metadata": {},
   "source": [
    "## Take random features"
   ]
  },
  {
   "cell_type": "code",
   "execution_count": 53,
   "id": "54825762-c7d7-4601-9254-21bba6fa4083",
   "metadata": {},
   "outputs": [],
   "source": [
    "logging.basicConfig(filename='adn_circulant_brute_force.log',\n",
    "                    filemode='a',\n",
    "                    format='%(message)s',\n",
    "                    level=logging.INFO)"
   ]
  },
  {
   "cell_type": "code",
   "execution_count": 65,
   "id": "55f0aefd-7e5d-4454-b96d-6f6d53379d95",
   "metadata": {},
   "outputs": [],
   "source": [
    "pickle.dump(X, open(Path('..') / 'features' / 'X.pkl', 'wb'))\n",
    "pickle.dump(y, open(Path('..') / 'features' /'y.pkl', 'wb'))"
   ]
  },
  {
   "cell_type": "code",
   "execution_count": 59,
   "id": "46572c0a-a783-46bb-b901-c05a893711ee",
   "metadata": {},
   "outputs": [],
   "source": [
    "features_name = X.columns.tolist()\n",
    "nb_features_to_pick = 200\n",
    "\n",
    "def compute_model_with_random_features(i):\n",
    "    features_to_use = sample(features_name, nb_features_to_pick)\n",
    "    lr = LogisticRegression()\n",
    "    cv_score = cross_val_score(lr, X[features_to_use], y, cv=5)\n",
    "    mean_score = round(100 * np.mean(cv_score), 1)\n",
    "    std_score = round(100 * np.std(cv_score), 1) \n",
    "    logging.warning(f'{mean_score}|{std_score}|{cv_score}')\n",
    "\n",
    "    \n",
    "    score_to_save = {\n",
    "        'features': features_to_use,\n",
    "        'mean_score': round(100 * np.mean(cv_score), 1),\n",
    "        'std_score': round(100 * np.std(cv_score), 1) \n",
    "    }\n",
    "    #print(score_to_save)"
   ]
  },
  {
   "cell_type": "code",
   "execution_count": 61,
   "id": "1f33b28b-6132-413e-bfd1-25951cf12192",
   "metadata": {},
   "outputs": [
    {
     "name": "stderr",
     "output_type": "stream",
     "text": [
      "100%|████████████████████████████████████████████████████████████████████████████████████████████████████████████████████████████████████████████████████████████████████████████| 100/100 [00:03<00:00, 25.42it/s]\n"
     ]
    }
   ],
   "source": [
    "from multiprocessing import Pool\n",
    "from tqdm import tqdm\n",
    "with Pool() as p:\n",
    "    list(tqdm(p.imap(compute_model_with_random_features, range(100), chunksize=10), total=100))"
   ]
  },
  {
   "cell_type": "code",
   "execution_count": 55,
   "id": "75c11dae-4b9c-445e-a5ed-800dfa2b6346",
   "metadata": {},
   "outputs": [
    {
     "ename": "NameError",
     "evalue": "name 'toto' is not defined",
     "output_type": "error",
     "traceback": [
      "\u001b[0;31m---------------------------------------------------------------------------\u001b[0m",
      "\u001b[0;31mNameError\u001b[0m                                 Traceback (most recent call last)",
      "Input \u001b[0;32mIn [55]\u001b[0m, in \u001b[0;36m<module>\u001b[0;34m\u001b[0m\n\u001b[0;32m----> 1\u001b[0m \u001b[43mtoto\u001b[49m\n",
      "\u001b[0;31mNameError\u001b[0m: name 'toto' is not defined"
     ]
    },
    {
     "name": "stdout",
     "output_type": "stream",
     "text": [
      "ERROR! Session/line number was not unique in database. History logging moved to new session 20\n"
     ]
    }
   ],
   "source": [
    "toto"
   ]
  },
  {
   "cell_type": "code",
   "execution_count": null,
   "id": "54547b73-f294-4098-9ae5-0b01b0e05c04",
   "metadata": {},
   "outputs": [],
   "source": []
  }
 ],
 "metadata": {
  "kernelspec": {
   "display_name": "Python 3 (ipykernel)",
   "language": "python",
   "name": "python3"
  },
  "language_info": {
   "codemirror_mode": {
    "name": "ipython",
    "version": 3
   },
   "file_extension": ".py",
   "mimetype": "text/x-python",
   "name": "python",
   "nbconvert_exporter": "python",
   "pygments_lexer": "ipython3",
   "version": "3.8.10"
  }
 },
 "nbformat": 4,
 "nbformat_minor": 5
}
