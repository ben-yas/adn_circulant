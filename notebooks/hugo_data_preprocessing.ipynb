{
 "cells": [
  {
   "cell_type": "code",
   "execution_count": 1,
   "id": "da0ce424-69c5-4fe7-9da9-fc50be20677e",
   "metadata": {},
   "outputs": [],
   "source": [
    "from pathlib import Path\n",
    "from typing import Tuple, List\n",
    "from collections import defaultdict\n",
    "\n",
    "import pandas as pd\n",
    "from matplotlib import pyplot as plt\n",
    "import numpy as np\n",
    "\n",
    "import seaborn as sns"
   ]
  },
  {
   "cell_type": "markdown",
   "id": "7b2f48a3-aef8-4a0f-ab27-83dadada1a76",
   "metadata": {},
   "source": [
    "# TODO\n",
    "- [X] Drop X and Y chromosomes in gene cols F: XX, H: XY\n",
    "- [ ] Remove observations with low PFS"
   ]
  },
  {
   "cell_type": "markdown",
   "id": "7641415f-6534-4945-b3cc-3187a2c1a9e7",
   "metadata": {
    "tags": []
   },
   "source": [
    "# Data description\n",
    "\n",
    "## Metadata\n",
    "1 ligne par fichier, des fois 2 ; dans le cas où il y a 2 lignes prendre la ligne où le CPA est le plus élevé (correspond à une seconde analyse où plus de séquences d'ADN ont été analysées)\n",
    "\n",
    "3 colonnes CPA ont été normalisées par la fonction racine carré (afin de limiter au maximum l'impact des outlayers lors des analyses). Les valeurs CPA que l'on voit sont en fait les racines-carrés des valeurs initiales (un petit carré sur les colonnes permettra de retomber sur les valeurs initiales, non normalisées) \n",
    "\n",
    "* CPA : % d'altération. Nb d'altération détectée par rapport à une baseline. Estimation de la quantité d'adn de la tumeur qui se trouve dans le sang. C'est une valeur pas un pourcentage.\n",
    "* nb.reads = dans un premier temps on s'en fiche (valeur qui permet de normaliser) Nombre de séquences scanées. Si très bas on fait moins confiance.\n",
    "* sexe\n",
    "* age\n",
    "* htum : grosseur de la tumeur au diagnostic (ie. le jour où on fait la radio)\n",
    "* relapse : 1 rechute, 0 pas rechute\n",
    "* etat2 : statut du patient (0 vivant, 1 décédé)\n",
    "* id.x : id patient\n",
    "* time_point : 3 valeurs possibles (DIAG, AVANT_CHIR, FIN_TTT)\n",
    "* time_OS : durée de suivi total\n",
    "* time_PFS : nombre de jour entre la rechute et le diagnostique\n",
    "* rep_histo : reponse histologique. Bon ou mauvais répondeur. On l'a après le 1er traitement\n",
    "* puberte : + parlant que l'âge\n",
    "* meta_bis : présence de métastase au diagnostique\n",
    "* Time EFS: Time OS ou time PFS\n",
    "\n",
    "\n",
    "## Data\n",
    "\n",
    "En fonction des patients on n'a pas tous les time points\n",
    "* Diagnotique\n",
    "* Avant chirurgie (déjà un traitement)\n",
    "* Fin T : fin traitement\n",
    "\n",
    "Chaque chromosome est découpé en fenêtres => même fenetres pour tous les patients\n",
    "Indicateur de présence d'ADN tumoral (0 : 2 copies, > 0 copie en trop, < 0 perte)"
   ]
  },
  {
   "cell_type": "markdown",
   "id": "319de2e4-bde8-49f8-83f5-23ae9b1f5596",
   "metadata": {
    "tags": []
   },
   "source": [
    "# Preprocess data"
   ]
  },
  {
   "cell_type": "markdown",
   "id": "42b40fcb-7afc-4751-941a-19cc4c7854cb",
   "metadata": {
    "tags": []
   },
   "source": [
    "## Load files"
   ]
  },
  {
   "cell_type": "code",
   "execution_count": 2,
   "id": "5a35581a-7b8e-4e60-8441-2d631e64bb82",
   "metadata": {},
   "outputs": [],
   "source": [
    "OUTPUT_DIR = Path('..') / 'data' / 'intermediate'\n",
    "\n",
    "data_dir = Path('..') / 'data' / 'raw' / 'results'\n",
    "metadata_path = Path('..') / 'data' / 'raw' / 'metadata_DMLHT_ctDNA.csv'\n",
    "metadata_path_old = Path('..') / 'data' / 'raw' / 'metadata_OS2006_ctdna.csv'"
   ]
  },
  {
   "cell_type": "code",
   "execution_count": 3,
   "id": "07aa96d5-79dc-4c75-a5ce-10e17a26eeb9",
   "metadata": {},
   "outputs": [],
   "source": [
    "metadata = pd.read_csv(metadata_path, sep='\\t', skiprows=1)"
   ]
  },
  {
   "cell_type": "code",
   "execution_count": 4,
   "id": "b04c57c5-72f9-40fb-82d9-36ac5d55f95c",
   "metadata": {},
   "outputs": [
    {
     "data": {
      "text/html": [
       "<div>\n",
       "<style scoped>\n",
       "    .dataframe tbody tr th:only-of-type {\n",
       "        vertical-align: middle;\n",
       "    }\n",
       "\n",
       "    .dataframe tbody tr th {\n",
       "        vertical-align: top;\n",
       "    }\n",
       "\n",
       "    .dataframe thead th {\n",
       "        text-align: right;\n",
       "    }\n",
       "</style>\n",
       "<table border=\"1\" class=\"dataframe\">\n",
       "  <thead>\n",
       "    <tr style=\"text-align: right;\">\n",
       "      <th></th>\n",
       "      <th>col_name</th>\n",
       "      <th>desc</th>\n",
       "    </tr>\n",
       "  </thead>\n",
       "  <tbody>\n",
       "    <tr>\n",
       "      <th>0</th>\n",
       "      <td>sex</td>\n",
       "      <td>Genre du patient</td>\n",
       "    </tr>\n",
       "    <tr>\n",
       "      <th>1</th>\n",
       "      <td>age</td>\n",
       "      <td>Age du patient (années)</td>\n",
       "    </tr>\n",
       "    <tr>\n",
       "      <th>2</th>\n",
       "      <td>pub</td>\n",
       "      <td>Stade pubertaire</td>\n",
       "    </tr>\n",
       "    <tr>\n",
       "      <th>3</th>\n",
       "      <td>htum</td>\n",
       "      <td>hauteur de la tumeur (mm)</td>\n",
       "    </tr>\n",
       "    <tr>\n",
       "      <th>4</th>\n",
       "      <td>meta_bis</td>\n",
       "      <td>Présence (ou non) de metastase au diagnostic</td>\n",
       "    </tr>\n",
       "    <tr>\n",
       "      <th>5</th>\n",
       "      <td>chimgr</td>\n",
       "      <td>Type de chimio</td>\n",
       "    </tr>\n",
       "    <tr>\n",
       "      <th>6</th>\n",
       "      <td>rep_histo</td>\n",
       "      <td>réponse histologique : bonne (GR) ou mauvaise ...</td>\n",
       "    </tr>\n",
       "    <tr>\n",
       "      <th>7</th>\n",
       "      <td>relapse</td>\n",
       "      <td>Rechute  (1=oui, 0= non)</td>\n",
       "    </tr>\n",
       "    <tr>\n",
       "      <th>8</th>\n",
       "      <td>etat2</td>\n",
       "      <td>Statut vital (1 =décédé)</td>\n",
       "    </tr>\n",
       "    <tr>\n",
       "      <th>9</th>\n",
       "      <td>time_OS</td>\n",
       "      <td>Survie globale jusqu’à la dernière date de sui...</td>\n",
       "    </tr>\n",
       "    <tr>\n",
       "      <th>10</th>\n",
       "      <td>time_PFS</td>\n",
       "      <td>Temps jusqu’à la rechute (jours)</td>\n",
       "    </tr>\n",
       "    <tr>\n",
       "      <th>11</th>\n",
       "      <td>cpa_finTT</td>\n",
       "      <td>CPA mesuré à la fin du traitement</td>\n",
       "    </tr>\n",
       "    <tr>\n",
       "      <th>12</th>\n",
       "      <td>cpa_diagnostic</td>\n",
       "      <td>CPA mesuré au diagnostic</td>\n",
       "    </tr>\n",
       "    <tr>\n",
       "      <th>13</th>\n",
       "      <td>cpa_chirurgie</td>\n",
       "      <td>CPA mesuré à la chirurgie</td>\n",
       "    </tr>\n",
       "    <tr>\n",
       "      <th>14</th>\n",
       "      <td>EFS</td>\n",
       "      <td>Temps jusqu’à la rechute (si rechute observée)...</td>\n",
       "    </tr>\n",
       "    <tr>\n",
       "      <th>15</th>\n",
       "      <td>Code</td>\n",
       "      <td>Code d’anonymisation</td>\n",
       "    </tr>\n",
       "  </tbody>\n",
       "</table>\n",
       "</div>"
      ],
      "text/plain": [
       "          col_name                                               desc\n",
       "0              sex                                   Genre du patient\n",
       "1              age                            Age du patient (années)\n",
       "2              pub                                   Stade pubertaire\n",
       "3             htum                          hauteur de la tumeur (mm)\n",
       "4         meta_bis       Présence (ou non) de metastase au diagnostic\n",
       "5           chimgr                                    Type de chimio \n",
       "6        rep_histo  réponse histologique : bonne (GR) ou mauvaise ...\n",
       "7          relapse                           Rechute  (1=oui, 0= non)\n",
       "8            etat2                          Statut vital (1 =décédé) \n",
       "9          time_OS  Survie globale jusqu’à la dernière date de sui...\n",
       "10        time_PFS                   Temps jusqu’à la rechute (jours)\n",
       "11       cpa_finTT                 CPA mesuré à la fin du traitement \n",
       "12  cpa_diagnostic                          CPA mesuré au diagnostic \n",
       "13   cpa_chirurgie                          CPA mesuré à la chirurgie\n",
       "14             EFS  Temps jusqu’à la rechute (si rechute observée)...\n",
       "15            Code                               Code d’anonymisation"
      ]
     },
     "execution_count": 4,
     "metadata": {},
     "output_type": "execute_result"
    }
   ],
   "source": [
    "# get columns description\n",
    "col_desc = !head -n 1 ../data/raw/metadata_DMLHT_ctDNA.csv\n",
    "col_desc = pd.concat([pd.Series(metadata.columns), pd.Series(col_desc[0].split('\\t'))], axis=1)\n",
    "col_desc.columns = ['col_name', 'desc']\n",
    "col_desc"
   ]
  },
  {
   "cell_type": "code",
   "execution_count": 5,
   "id": "db57b16c-bfe2-48b3-9ad0-e5efc8eb9555",
   "metadata": {},
   "outputs": [],
   "source": [
    "def get_infos_from_filename(filename: str) -> Tuple[str, str]:\n",
    "    filename = filename.split('.')[0]\n",
    "    splitted_filename = filename.split('_')\n",
    "    id_patient = f'{splitted_filename[0]}_{splitted_filename[1]}'\n",
    "    time_point = f'{splitted_filename[2]}_{splitted_filename[3]}' if len(splitted_filename) == 4 else splitted_filename[2]\n",
    "    return id_patient, time_point\n",
    "\n",
    "\n",
    "def load_all_data_patient(data_dir: Path) -> defaultdict:\n",
    "    data_patient = defaultdict(dict)\n",
    "\n",
    "    for p in data_dir.glob('*.txt'):\n",
    "        if not p.is_file():\n",
    "            continue\n",
    "        filename = str(p).split('/')[-1]\n",
    "        id_patient, time_point = get_infos_from_filename(filename)\n",
    "        data_patient[id_patient][time_point] = pd.read_csv(p, sep='\\t')\n",
    "    \n",
    "    return data_patient"
   ]
  },
  {
   "cell_type": "code",
   "execution_count": 6,
   "id": "19301a51-cd71-4a54-9a2f-d77d365da827",
   "metadata": {},
   "outputs": [
    {
     "name": "stdout",
     "output_type": "stream",
     "text": [
      "There are 182 patient\n"
     ]
    }
   ],
   "source": [
    "data_patient = load_all_data_patient(data_dir)\n",
    "print(f'There are {len(data_patient)} patient')"
   ]
  },
  {
   "cell_type": "markdown",
   "id": "cacc1107-13b7-465c-bf6e-eff3aaa05db6",
   "metadata": {
    "tags": []
   },
   "source": [
    "## Organize data"
   ]
  },
  {
   "cell_type": "code",
   "execution_count": 7,
   "id": "0adf5dcb-64eb-480d-8af5-5f5e47c34a60",
   "metadata": {},
   "outputs": [
    {
     "name": "stdout",
     "output_type": "stream",
     "text": [
      "There are 115 patient with data for the 3 time points\n"
     ]
    }
   ],
   "source": [
    "patient_all_time_points = {patient_id: data for patient_id, data in data_patient.items() if len(data) == 3}\n",
    "print(f'There are {len(patient_all_time_points)} patient with data for the 3 time points')"
   ]
  },
  {
   "cell_type": "code",
   "execution_count": 8,
   "id": "bf1dddc8-b664-496e-acb0-313724c70bb1",
   "metadata": {},
   "outputs": [
    {
     "name": "stdout",
     "output_type": "stream",
     "text": [
      "There are 177 patient with data for DIAG time point\n"
     ]
    }
   ],
   "source": [
    "patient_diag_time_point = {patient_id: {'DIAG': data['DIAG']} for patient_id, data in data_patient.items() if data.get('DIAG') is not None}\n",
    "print(f'There are {len(patient_diag_time_point)} patient with data for DIAG time point')"
   ]
  },
  {
   "cell_type": "code",
   "execution_count": 9,
   "id": "78fb570f-3c22-44b8-a32d-34fb0d863ad4",
   "metadata": {},
   "outputs": [
    {
     "name": "stdout",
     "output_type": "stream",
     "text": [
      "There are 143 patient with data for AVANT_CHIR time point\n"
     ]
    }
   ],
   "source": [
    "patient_chir_time_point = {patient_id: {'AVANT_CHIR': data['AVANT_CHIR']} for patient_id, data in data_patient.items() if data.get('AVANT_CHIR') is not None}\n",
    "print(f'There are {len(patient_chir_time_point)} patient with data for AVANT_CHIR time point')"
   ]
  },
  {
   "cell_type": "code",
   "execution_count": 10,
   "id": "20d72767-2ba1-451d-9455-644c5effee9f",
   "metadata": {},
   "outputs": [
    {
     "name": "stdout",
     "output_type": "stream",
     "text": [
      "There are 143 patient with data for FIN_TT time point\n"
     ]
    }
   ],
   "source": [
    "patient_end_time_point = {patient_id: {'FIN_TT': data['FIN_TT']} for patient_id, data in data_patient.items() if data.get('FIN_TT') is not None}\n",
    "print(f'There are {len(patient_end_time_point)} patient with data for FIN_TT time point')"
   ]
  },
  {
   "cell_type": "code",
   "execution_count": 11,
   "id": "727313be-c69f-47ed-8380-29c4f60ff3cf",
   "metadata": {},
   "outputs": [],
   "source": [
    "## Check that there are no errors\n",
    "nb_files = 0\n",
    "for data in data_patient.values():\n",
    "    nb_files += len(data.values())\n",
    "assert nb_files == len(patient_diag_time_point) \\\n",
    "    + len(patient_chir_time_point) \\\n",
    "    + len(patient_end_time_point)"
   ]
  },
  {
   "cell_type": "markdown",
   "id": "6b38b9c7-7d39-4a59-96c0-3166fcc64cde",
   "metadata": {
    "tags": []
   },
   "source": [
    "## Transform data\n",
    "### Transpose data"
   ]
  },
  {
   "cell_type": "code",
   "execution_count": 12,
   "id": "f5788bdb-61a4-4cd2-a4b0-f14a45dc4791",
   "metadata": {},
   "outputs": [],
   "source": [
    "def transpose_data_one_patient(data: pd.DataFrame) -> pd.DataFrame:\n",
    "    one_data = data.copy()\n",
    "    one_data = one_data[['id', 'ratio', 'zscore']].set_index('id').stack().reset_index()\n",
    "    one_data.columns = ['id', 'score_label', 'value']\n",
    "    one_data['col_name'] = one_data['id'] + '_' + one_data['score_label']\n",
    "    return one_data.set_index('col_name')['value'].to_frame().T\n",
    "\n",
    "\n",
    "def format_all_data_as_df(patient_data: defaultdict) -> pd.DataFrame:\n",
    "    transpose_data = []\n",
    "    ids_patient = []\n",
    "    \n",
    "    for patient_id, data in patient_data.items():\n",
    "        for time_point, data in data.items():\n",
    "            transpose_data.append(transpose_data_one_patient(data))\n",
    "            ids_patient.append((patient_id, time_point))\n",
    "        \n",
    "    transpose_data_df = pd.concat(transpose_data, axis=0).reset_index(drop=True)\n",
    "    ids_patient_df = pd.DataFrame(ids_patient, columns=['patient_id', 'time_point'])\n",
    "    \n",
    "    return pd.concat([ids_patient_df, transpose_data_df], axis=1)\n",
    "\n",
    "\n",
    "def pivot_data(patient_all_time_points_df: pd.DataFrame) -> pd.DataFrame:\n",
    "    \"\"\"create 1 column per time_point x gene col\"\"\"\n",
    "    pivoted = patient_all_time_points_df.pivot(index=['patient_id'], columns=['time_point'])\n",
    "    pivoted.columns = ['_'.join(col).strip() for col in pivoted.columns.values]\n",
    "    pivoted = pivoted.reset_index()\n",
    "    return pivoted"
   ]
  },
  {
   "cell_type": "code",
   "execution_count": 13,
   "id": "8af294fd-2406-4107-9f7a-4909ec9f9b4e",
   "metadata": {},
   "outputs": [],
   "source": [
    "patient_diag_time_point_df = format_all_data_as_df(patient_diag_time_point)\n",
    "patient_chir_time_point_df = format_all_data_as_df(patient_chir_time_point)\n",
    "patient_end_time_point_df = format_all_data_as_df(patient_end_time_point)"
   ]
  },
  {
   "cell_type": "code",
   "execution_count": 14,
   "id": "e5095507-19a9-4fb7-a84a-4c9562bc3d40",
   "metadata": {},
   "outputs": [],
   "source": [
    "patient_all_time_points_df = format_all_data_as_df(patient_all_time_points)"
   ]
  },
  {
   "cell_type": "code",
   "execution_count": 15,
   "id": "6ed8bd33-0705-43f8-9a0a-36bb6db90630",
   "metadata": {},
   "outputs": [],
   "source": [
    "# removing X,Y chromosomes\n",
    "cols_to_keep = [col for col in patient_all_time_points_df.columns\n",
    " if not col.startswith('X')\n",
    " and not col.startswith('Y')]\n",
    "\n",
    "list(set([col[0] for col in cols_to_keep])) # first char of col name\n",
    "\n",
    "patient_all_time_points_df = patient_all_time_points_df[cols_to_keep]"
   ]
  },
  {
   "cell_type": "code",
   "execution_count": 16,
   "id": "72591793-06f1-4fe3-b79b-fde0341894b9",
   "metadata": {},
   "outputs": [],
   "source": [
    "patient_all_time_points_pivoted = pivot_data(patient_all_time_points_df)"
   ]
  },
  {
   "cell_type": "markdown",
   "id": "261d5128-083b-4c1c-bcb2-2482a1abcb24",
   "metadata": {
    "tags": []
   },
   "source": [
    "## Clean metadata"
   ]
  },
  {
   "cell_type": "code",
   "execution_count": 17,
   "id": "ed567419-7675-49f9-a6eb-4686838f0fd9",
   "metadata": {},
   "outputs": [],
   "source": [
    "COL_MAPPER = {\n",
    "    'Code': 'patient_id',\n",
    "    'EFS': 'time_EFS'}\n",
    "\n",
    "metadata_df = metadata.copy()\n",
    "metadata_df = metadata_df.rename(columns=COL_MAPPER)\n",
    "metadata_df = metadata_df.sort_values('cpa_diagnostic', ascending=False).drop_duplicates(['patient_id'], keep='first')"
   ]
  },
  {
   "cell_type": "code",
   "execution_count": 18,
   "id": "44d51945-3c3b-4584-880a-2140d0923ce6",
   "metadata": {},
   "outputs": [
    {
     "data": {
      "text/html": [
       "<div>\n",
       "<style scoped>\n",
       "    .dataframe tbody tr th:only-of-type {\n",
       "        vertical-align: middle;\n",
       "    }\n",
       "\n",
       "    .dataframe tbody tr th {\n",
       "        vertical-align: top;\n",
       "    }\n",
       "\n",
       "    .dataframe thead th {\n",
       "        text-align: right;\n",
       "    }\n",
       "</style>\n",
       "<table border=\"1\" class=\"dataframe\">\n",
       "  <thead>\n",
       "    <tr style=\"text-align: right;\">\n",
       "      <th></th>\n",
       "      <th>sex</th>\n",
       "      <th>age</th>\n",
       "      <th>pub</th>\n",
       "      <th>htum</th>\n",
       "      <th>meta_bis</th>\n",
       "      <th>chimgr</th>\n",
       "      <th>rep_histo</th>\n",
       "      <th>relapse</th>\n",
       "      <th>etat2</th>\n",
       "      <th>time_OS</th>\n",
       "      <th>time_PFS</th>\n",
       "      <th>cpa_finTT</th>\n",
       "      <th>cpa_diagnostic</th>\n",
       "      <th>cpa_chirurgie</th>\n",
       "      <th>time_EFS</th>\n",
       "      <th>patient_id</th>\n",
       "    </tr>\n",
       "  </thead>\n",
       "  <tbody>\n",
       "    <tr>\n",
       "      <th>33</th>\n",
       "      <td>Feminin</td>\n",
       "      <td>20.55</td>\n",
       "      <td>0.0</td>\n",
       "      <td>11.6</td>\n",
       "      <td>1</td>\n",
       "      <td>MTX</td>\n",
       "      <td>GR</td>\n",
       "      <td>0</td>\n",
       "      <td>0</td>\n",
       "      <td>2628.0</td>\n",
       "      <td>NaN</td>\n",
       "      <td>0.378365</td>\n",
       "      <td>1.620802</td>\n",
       "      <td>NaN</td>\n",
       "      <td>2628.0</td>\n",
       "      <td>OS2006_34</td>\n",
       "    </tr>\n",
       "    <tr>\n",
       "      <th>93</th>\n",
       "      <td>Feminin</td>\n",
       "      <td>12.91</td>\n",
       "      <td>1.0</td>\n",
       "      <td>9.3</td>\n",
       "      <td>0</td>\n",
       "      <td>MTX</td>\n",
       "      <td>GR</td>\n",
       "      <td>1</td>\n",
       "      <td>0</td>\n",
       "      <td>1786.0</td>\n",
       "      <td>1412.0</td>\n",
       "      <td>0.407198</td>\n",
       "      <td>1.255325</td>\n",
       "      <td>0.375167</td>\n",
       "      <td>1412.0</td>\n",
       "      <td>OS2006_424</td>\n",
       "    </tr>\n",
       "    <tr>\n",
       "      <th>10</th>\n",
       "      <td>Masculin</td>\n",
       "      <td>4.71</td>\n",
       "      <td>1.0</td>\n",
       "      <td>10.2</td>\n",
       "      <td>0</td>\n",
       "      <td>MTX</td>\n",
       "      <td>NaN</td>\n",
       "      <td>1</td>\n",
       "      <td>1</td>\n",
       "      <td>261.0</td>\n",
       "      <td>59.0</td>\n",
       "      <td>NaN</td>\n",
       "      <td>1.180568</td>\n",
       "      <td>NaN</td>\n",
       "      <td>59.0</td>\n",
       "      <td>OS2006_6</td>\n",
       "    </tr>\n",
       "    <tr>\n",
       "      <th>157</th>\n",
       "      <td>Feminin</td>\n",
       "      <td>15.62</td>\n",
       "      <td>0.0</td>\n",
       "      <td>15.0</td>\n",
       "      <td>1</td>\n",
       "      <td>MTX</td>\n",
       "      <td>NaN</td>\n",
       "      <td>1</td>\n",
       "      <td>0</td>\n",
       "      <td>1100.0</td>\n",
       "      <td>63.0</td>\n",
       "      <td>0.424170</td>\n",
       "      <td>1.172536</td>\n",
       "      <td>0.405512</td>\n",
       "      <td>63.0</td>\n",
       "      <td>OS2006_543</td>\n",
       "    </tr>\n",
       "    <tr>\n",
       "      <th>70</th>\n",
       "      <td>Feminin</td>\n",
       "      <td>12.56</td>\n",
       "      <td>0.0</td>\n",
       "      <td>11.4</td>\n",
       "      <td>1</td>\n",
       "      <td>MTX</td>\n",
       "      <td>NaN</td>\n",
       "      <td>1</td>\n",
       "      <td>1</td>\n",
       "      <td>258.0</td>\n",
       "      <td>61.0</td>\n",
       "      <td>NaN</td>\n",
       "      <td>1.160646</td>\n",
       "      <td>0.441871</td>\n",
       "      <td>61.0</td>\n",
       "      <td>OS2006_357</td>\n",
       "    </tr>\n",
       "  </tbody>\n",
       "</table>\n",
       "</div>"
      ],
      "text/plain": [
       "          sex    age  pub  htum  meta_bis chimgr rep_histo  relapse  etat2  \\\n",
       "33    Feminin  20.55  0.0  11.6         1    MTX        GR        0      0   \n",
       "93    Feminin  12.91  1.0   9.3         0    MTX        GR        1      0   \n",
       "10   Masculin   4.71  1.0  10.2         0    MTX       NaN        1      1   \n",
       "157   Feminin  15.62  0.0  15.0         1    MTX       NaN        1      0   \n",
       "70    Feminin  12.56  0.0  11.4         1    MTX       NaN        1      1   \n",
       "\n",
       "     time_OS  time_PFS  cpa_finTT  cpa_diagnostic  cpa_chirurgie  time_EFS  \\\n",
       "33    2628.0       NaN   0.378365        1.620802            NaN    2628.0   \n",
       "93    1786.0    1412.0   0.407198        1.255325       0.375167    1412.0   \n",
       "10     261.0      59.0        NaN        1.180568            NaN      59.0   \n",
       "157   1100.0      63.0   0.424170        1.172536       0.405512      63.0   \n",
       "70     258.0      61.0        NaN        1.160646       0.441871      61.0   \n",
       "\n",
       "     patient_id  \n",
       "33    OS2006_34  \n",
       "93   OS2006_424  \n",
       "10     OS2006_6  \n",
       "157  OS2006_543  \n",
       "70   OS2006_357  "
      ]
     },
     "execution_count": 18,
     "metadata": {},
     "output_type": "execute_result"
    }
   ],
   "source": [
    "metadata_df.head()"
   ]
  },
  {
   "cell_type": "markdown",
   "id": "15a5708e-4f5c-435a-9f82-d63eee883c7b",
   "metadata": {},
   "source": [
    "# join data and metadata"
   ]
  },
  {
   "cell_type": "markdown",
   "id": "b1aa65f7-cd0d-4dbc-a6c1-272e0e7dafeb",
   "metadata": {},
   "source": [
    "## one row per patient, all time points"
   ]
  },
  {
   "cell_type": "code",
   "execution_count": 19,
   "id": "70ca4185-bc89-48f9-b3cb-9bcceaa1fda5",
   "metadata": {},
   "outputs": [],
   "source": [
    "merged = pd.merge(metadata_df, patient_all_time_points_pivoted, on='patient_id', how='outer') "
   ]
  },
  {
   "cell_type": "code",
   "execution_count": 20,
   "id": "39746b01-96f0-40fd-afe6-3a295f4d1521",
   "metadata": {},
   "outputs": [
    {
     "name": "stdout",
     "output_type": "stream",
     "text": [
      "proportion of nulls: 0.36813186813186816\n"
     ]
    }
   ],
   "source": [
    "print(f\"proportion of nulls: {merged['1:6000001-7000000_ratio_DIAG'].isna().sum()/len(merged)}\")"
   ]
  },
  {
   "cell_type": "code",
   "execution_count": 21,
   "id": "55328c4d-acc6-4e02-92ff-1c242036ab57",
   "metadata": {},
   "outputs": [],
   "source": [
    "assert len(merged.patient_id.unique()) == len(merged), \"there are duplicated values\""
   ]
  },
  {
   "cell_type": "markdown",
   "id": "3ead43a7-3818-4a1f-87ca-549a63b219a8",
   "metadata": {},
   "source": [
    "## per time point"
   ]
  },
  {
   "cell_type": "code",
   "execution_count": 22,
   "id": "cd2b613d-1029-41a8-af7f-3681cdd2e683",
   "metadata": {},
   "outputs": [],
   "source": [
    "def merge_data_and_metadata(\n",
    "        metadata_df: pd.DataFrame,\n",
    "        data: pd.DataFrame,\n",
    "        to_drop: List[str],\n",
    "        time_points: List[str],\n",
    "        ) -> pd.DataFrame:\n",
    "    data_processed = data.copy()\n",
    "    data_processed = data_processed.drop(columns=to_drop, errors=\"ignore\")\n",
    "    data_processed = data_processed[data_processed['time_point'].isin(time_points)]\n",
    "    data_processed = pivot_data(data_processed)\n",
    "    return pd.merge(\n",
    "        metadata_df.drop(columns=to_drop, errors=\"ignore\"),\n",
    "        data_processed,\n",
    "        how='inner',\n",
    "        on='patient_id',\n",
    "    )"
   ]
  },
  {
   "cell_type": "code",
   "execution_count": 23,
   "id": "8439f3be-1dfd-4b0f-a4f5-181d39b5d832",
   "metadata": {},
   "outputs": [],
   "source": [
    "TO_DROP = ['cpa_chirurgie', 'cpa_finTT', 'rep_histo']    # to avoid data leakage\n",
    "TIME_POINTS = ['DIAG']    # we assure 'AVANT_CHIR' is actually after diag\n",
    "\n",
    "merged_diag = merge_data_and_metadata(\n",
    "    metadata_df,\n",
    "    patient_all_time_points_df,\n",
    "    to_drop=TO_DROP,\n",
    "    time_points=TIME_POINTS)"
   ]
  },
  {
   "cell_type": "code",
   "execution_count": 24,
   "id": "feed3f38-a447-455c-bea9-a8bb5fa69631",
   "metadata": {},
   "outputs": [],
   "source": [
    "TO_DROP = ['cpa_finTT']    # to avoid data leakage\n",
    "TIME_POINTS = ['DIAG', 'AVANT_CHIR']    # we assume 'avant_chir' is after chir\n",
    "\n",
    "merged_chir = merge_data_and_metadata(\n",
    "    metadata_df,\n",
    "    patient_all_time_points_df,\n",
    "    to_drop=TO_DROP,\n",
    "    time_points=TIME_POINTS)"
   ]
  },
  {
   "cell_type": "markdown",
   "id": "1328bb2e-1795-4e19-9367-953e74509add",
   "metadata": {},
   "source": [
    "# Save"
   ]
  },
  {
   "cell_type": "code",
   "execution_count": 25,
   "id": "468960a3-8249-4882-aadb-206c215d2e3b",
   "metadata": {},
   "outputs": [],
   "source": [
    "# merged\n",
    "merged.to_csv(OUTPUT_DIR / 'data_metadata.csv', index=False)    # all time points\n",
    "merged_diag.to_csv(OUTPUT_DIR / 'data_metadata_diag.csv', index=False)    # diag data only\n",
    "merged_chir.to_csv(OUTPUT_DIR / 'data_metadata_chir.csv', index=False)    # diag + chir data\n",
    "\n",
    "# data\n",
    "patient_all_time_points_pivoted.to_csv(OUTPUT_DIR / 'data_all_time_point_pivoted.csv', index=False)    # one row per patient\n",
    "patient_all_time_points_df.to_csv(OUTPUT_DIR / 'data_data_all_time_point.csv', index=False)    # one row per patient per time point\n",
    "\n",
    "# metadata\n",
    "metadata_df.to_csv(OUTPUT_DIR / \"metadata.csv\", index=False)"
   ]
  },
  {
   "cell_type": "markdown",
   "id": "6ca7e004-5f26-40c6-9286-29eed40ebb8e",
   "metadata": {
    "tags": []
   },
   "source": [
    "# Load processed data"
   ]
  },
  {
   "cell_type": "code",
   "execution_count": 26,
   "id": "b0716c3d-e37d-4c4f-9eb3-823b7252af61",
   "metadata": {},
   "outputs": [],
   "source": [
    "OUTPUT_DIR = Path('..') / 'data' / 'intermediate'\n",
    "\n",
    "# merged\n",
    "merged = pd.read_csv(OUTPUT_DIR / 'data_metadata.csv')    # all time points\n",
    "merged_diag = pd.read_csv(OUTPUT_DIR / 'data_metadata_diag.csv')    # diag data only\n",
    "merged_chir = pd.read_csv(OUTPUT_DIR / 'data_metadata_chir.csv')    # diag + chir data\n",
    "\n",
    "# data\n",
    "patient_all_time_points_pivoted = pd.read_csv(OUTPUT_DIR / 'data_all_time_point_pivoted.csv')    # one row per patient\n",
    "patient_all_time_points_df = pd.read_csv(OUTPUT_DIR / 'data_data_all_time_point.csv')    # one row per patient per time point\n",
    "\n",
    "# metadata\n",
    "metadata_df = pd.read_csv(OUTPUT_DIR / \"metadata.csv\")"
   ]
  },
  {
   "cell_type": "code",
   "execution_count": null,
   "id": "533d4fd7-5a29-49c6-8abe-0e199e9e169e",
   "metadata": {},
   "outputs": [],
   "source": []
  }
 ],
 "metadata": {
  "kernelspec": {
   "display_name": "Python 3",
   "language": "python",
   "name": "python3"
  },
  "language_info": {
   "codemirror_mode": {
    "name": "ipython",
    "version": 3
   },
   "file_extension": ".py",
   "mimetype": "text/x-python",
   "name": "python",
   "nbconvert_exporter": "python",
   "pygments_lexer": "ipython3",
   "version": "3.8.5"
  }
 },
 "nbformat": 4,
 "nbformat_minor": 5
}
