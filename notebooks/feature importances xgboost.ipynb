{
 "cells": [
  {
   "cell_type": "code",
   "execution_count": 135,
   "id": "c58c6898-3848-4245-a331-64bcb0f0f13b",
   "metadata": {},
   "outputs": [],
   "source": [
    "from pathlib import Path\n",
    "from ast import literal_eval\n",
    "from collections import Counter\n",
    "import pickle\n",
    "from typing import Tuple\n",
    "\n",
    "from sklearn.preprocessing import StandardScaler\n",
    "from sklearn.feature_selection import SelectFromModel\n",
    "from sklearn.linear_model import LogisticRegression\n",
    "from sklearn.model_selection import train_test_split\n",
    "from sklearn.metrics import accuracy_score, precision_recall_fscore_support\n",
    "from sklearn.model_selection import StratifiedKFold\n",
    "from sklearn.ensemble import RandomForestClassifier\n",
    "from xgboost import XGBClassifier\n",
    "from xgboost import plot_importance\n",
    "from sklearn.model_selection import cross_val_score\n",
    "import pandas as pd\n",
    "import numpy as np\n",
    "import tqdm"
   ]
  },
  {
   "cell_type": "code",
   "execution_count": 96,
   "id": "a49512aa",
   "metadata": {},
   "outputs": [
    {
     "data": {
      "text/plain": [
       "array([0.        , 0.        , 0.        , ..., 0.04525986, 0.04580943,\n",
       "       0.04611834], dtype=float32)"
      ]
     },
     "execution_count": 96,
     "metadata": {},
     "output_type": "execute_result"
    }
   ],
   "source": [
    "thresholds"
   ]
  },
  {
   "cell_type": "code",
   "execution_count": 108,
   "id": "beab87e9",
   "metadata": {},
   "outputs": [],
   "source": [
    "final =[]\n",
    "for i in range (0, 5):\n",
    "    for set_ in [\"train\"]:\n",
    "        X = pickle.load(open(f\"C:/Users/benna/Documents/adn_circulant/data/for_training/X_{set_}_{i}.pkl\", 'rb'))\n",
    "        y = pickle.load(open(f\"C:/Users/benna/Documents/adn_circulant/data/for_training/y_{set_}_{i}.pkl\",'rb'))\n",
    "        model = XGBClassifier(tree_method=\"hist\")\n",
    "        model.fit(X, y)\n",
    "        # extract the feature importances\n",
    "        thresholds = np.sort(model.feature_importances_)\n",
    "        first_not_nul = [i for i in thresholds if i != 0][0]\n",
    "        # select features using threshold\n",
    "        selection = SelectFromModel(model,threshold=first_not_nul, prefit=True)\n",
    "        feature_idx = selection.get_support()\n",
    "        feature_name = X.columns[feature_idx]\n",
    "        final =list(set(feature_name) | set(final))"
   ]
  },
  {
   "cell_type": "code",
   "execution_count": 139,
   "id": "e6759b98",
   "metadata": {},
   "outputs": [
    {
     "data": {
      "text/plain": [
       "520"
      ]
     },
     "execution_count": 139,
     "metadata": {},
     "output_type": "execute_result"
    }
   ],
   "source": [
    "len(final)"
   ]
  },
  {
   "cell_type": "markdown",
   "id": "d0fd5db0",
   "metadata": {},
   "source": [
    "# Mmodèle après feature selection"
   ]
  },
  {
   "cell_type": "code",
   "execution_count": 137,
   "id": "94abf2e4",
   "metadata": {},
   "outputs": [],
   "source": [
    "def cross_val(xgb):\n",
    "    acc_cv = []\n",
    "    for i in range (0,5):\n",
    "        X_test = pickle.load(open(f\"C:/Users/benna/Documents/adn_circulant/data/for_training/X_test_{i}.pkl\", 'rb'))\n",
    "        y_test = pickle.load(open(f\"C:/Users/benna/Documents/adn_circulant/data/for_training/y_test_{i}.pkl\",'rb'))\n",
    "        X_train = pickle.load(open(f\"C:/Users/benna/Documents/adn_circulant/data/for_training/X_train_{i}.pkl\", 'rb'))\n",
    "        y_train = pickle.load(open(f\"C:/Users/benna/Documents/adn_circulant/data/for_training/y_train_{i}.pkl\",'rb'))\n",
    "        #---------- feature selection \n",
    "        model = XGBClassifier(tree_method=\"hist\")\n",
    "        model.fit(X, y)\n",
    "        # extract the feature importances\n",
    "        thresholds = np.sort(model.feature_importances_)\n",
    "        first_not_nul = [i for i in thresholds if i != 0][0]\n",
    "        # select features using threshold\n",
    "        selection = SelectFromModel(model,threshold=first_not_nul, prefit=True)\n",
    "        feature_idx = selection.get_support()\n",
    "        feature_name = X.columns[feature_idx]\n",
    "        print (f\"selected feature: {len(feature_name)}\")\n",
    "        X_train_selected = X_train[feature_name]\n",
    "        X_test_selected = X_test[feature_name]\n",
    "        xgb.fit(X_train_selected, y_train)\n",
    "            \n",
    "        y_pred = xgb.predict(X_train_selected)\n",
    "        print(f'Accuracy on train : {round(100 * accuracy_score(y_pred, y_train))} % for set {i}')\n",
    "            \n",
    "        y_pred = xgb.predict(X_test_selected)\n",
    "        print(f'Accuracy on test : {round(100 * accuracy_score(y_pred, y_test))} % for set {i}')\n",
    "        acc_cv.append(accuracy_score(y_pred, y_test))\n",
    "    return np.mean(acc_cv), acc_cv"
   ]
  },
  {
   "cell_type": "code",
   "execution_count": 138,
   "id": "e5d5fb78",
   "metadata": {},
   "outputs": [
    {
     "name": "stdout",
     "output_type": "stream",
     "text": [
      "selected feature: 139\n",
      "Accuracy on train : 100.0 % for set 0\n",
      "Accuracy on test : 91.0 % for set 0\n",
      "selected feature: 139\n",
      "Accuracy on train : 100.0 % for set 1\n",
      "Accuracy on test : 79.0 % for set 1\n",
      "selected feature: 139\n",
      "Accuracy on train : 100.0 % for set 2\n",
      "Accuracy on test : 71.0 % for set 2\n",
      "selected feature: 139\n",
      "Accuracy on train : 100.0 % for set 3\n",
      "Accuracy on test : 68.0 % for set 3\n",
      "selected feature: 139\n",
      "Accuracy on train : 100.0 % for set 4\n",
      "Accuracy on test : 67.0 % for set 4\n"
     ]
    },
    {
     "data": {
      "text/plain": [
       "(0.7509803921568626,\n",
       " [0.9117647058823529,\n",
       "  0.7941176470588235,\n",
       "  0.7058823529411765,\n",
       "  0.6764705882352942,\n",
       "  0.6666666666666666])"
      ]
     },
     "execution_count": 138,
     "metadata": {},
     "output_type": "execute_result"
    }
   ],
   "source": [
    "xgb = XGBClassifier(tree_method = \"hist\")\n",
    "cross_val(xgb)"
   ]
  },
  {
   "cell_type": "code",
   "execution_count": 140,
   "id": "cd831541",
   "metadata": {},
   "outputs": [
    {
     "name": "stdout",
     "output_type": "stream",
     "text": [
      "selected feature: 139\n",
      "Accuracy on train : 100.0 % for set 0\n",
      "Accuracy on test : 82.0 % for set 0\n",
      "selected feature: 139\n",
      "Accuracy on train : 100.0 % for set 1\n",
      "Accuracy on test : 76.0 % for set 1\n",
      "selected feature: 139\n",
      "Accuracy on train : 100.0 % for set 2\n",
      "Accuracy on test : 79.0 % for set 2\n",
      "selected feature: 139\n",
      "Accuracy on train : 100.0 % for set 3\n",
      "Accuracy on test : 68.0 % for set 3\n",
      "selected feature: 139\n",
      "Accuracy on train : 100.0 % for set 4\n",
      "Accuracy on test : 76.0 % for set 4\n"
     ]
    },
    {
     "data": {
      "text/plain": [
       "(0.7632798573975045,\n",
       " [0.8235294117647058,\n",
       "  0.7647058823529411,\n",
       "  0.7941176470588235,\n",
       "  0.6764705882352942,\n",
       "  0.7575757575757576])"
      ]
     },
     "execution_count": 140,
     "metadata": {},
     "output_type": "execute_result"
    }
   ],
   "source": [
    "rf = RandomForestClassifier(n_estimators=1000)\n",
    "cross_val(rf)"
   ]
  },
  {
   "cell_type": "code",
   "execution_count": 141,
   "id": "705f3629",
   "metadata": {},
   "outputs": [
    {
     "name": "stdout",
     "output_type": "stream",
     "text": [
      "selected feature: 139\n",
      "Accuracy on train : 92.0 % for set 0\n",
      "Accuracy on test : 76.0 % for set 0\n",
      "selected feature: 139\n",
      "Accuracy on train : 88.0 % for set 1\n",
      "Accuracy on test : 79.0 % for set 1\n",
      "selected feature: 139\n",
      "Accuracy on train : 87.0 % for set 2\n",
      "Accuracy on test : 82.0 % for set 2\n",
      "selected feature: 139\n",
      "Accuracy on train : 87.0 % for set 3\n",
      "Accuracy on test : 76.0 % for set 3\n",
      "selected feature: 139\n",
      "Accuracy on train : 92.0 % for set 4\n",
      "Accuracy on test : 64.0 % for set 4\n"
     ]
    },
    {
     "data": {
      "text/plain": [
       "(0.7566844919786095,\n",
       " [0.7647058823529411,\n",
       "  0.7941176470588235,\n",
       "  0.8235294117647058,\n",
       "  0.7647058823529411,\n",
       "  0.6363636363636364])"
      ]
     },
     "execution_count": 141,
     "metadata": {},
     "output_type": "execute_result"
    }
   ],
   "source": [
    "lr = LogisticRegression(class_weight='balanced', C=2)\n",
    "cross_val(lr)"
   ]
  },
  {
   "cell_type": "code",
   "execution_count": null,
   "id": "4b1392d5",
   "metadata": {},
   "outputs": [],
   "source": []
  }
 ],
 "metadata": {
  "kernelspec": {
   "display_name": "Python 3.8.3 ('base')",
   "language": "python",
   "name": "python3"
  },
  "language_info": {
   "codemirror_mode": {
    "name": "ipython",
    "version": 3
   },
   "file_extension": ".py",
   "mimetype": "text/x-python",
   "name": "python",
   "nbconvert_exporter": "python",
   "pygments_lexer": "ipython3",
   "version": "3.8.3"
  },
  "vscode": {
   "interpreter": {
    "hash": "88279d2366fe020547cde40dd65aa0e3aa662a6ec1f3ca12d88834876c85e1a6"
   }
  }
 },
 "nbformat": 4,
 "nbformat_minor": 5
}
