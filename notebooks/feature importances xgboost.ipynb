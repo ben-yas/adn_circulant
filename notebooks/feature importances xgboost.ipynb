{
 "cells": [
  {
   "cell_type": "code",
   "execution_count": 1,
   "id": "c58c6898-3848-4245-a331-64bcb0f0f13b",
   "metadata": {},
   "outputs": [],
   "source": [
    "from pathlib import Path\n",
    "from ast import literal_eval\n",
    "from collections import Counter\n",
    "import pickle\n",
    "from typing import Tuple\n",
    "\n",
    "from sklearn.preprocessing import StandardScaler\n",
    "from sklearn.feature_selection import SelectFromModel\n",
    "from sklearn.linear_model import LogisticRegression\n",
    "from sklearn.model_selection import train_test_split\n",
    "from sklearn.metrics import accuracy_score, precision_recall_fscore_support\n",
    "from sklearn.model_selection import StratifiedKFold\n",
    "from sklearn.ensemble import RandomForestClassifier\n",
    "from xgboost import XGBClassifier\n",
    "from xgboost import plot_importance\n",
    "from sklearn.model_selection import cross_val_score\n",
    "import pandas as pd\n",
    "import numpy as np\n",
    "import tqdm"
   ]
  },
  {
   "cell_type": "code",
   "execution_count": 13,
   "id": "beab87e9",
   "metadata": {},
   "outputs": [
    {
     "name": "stdout",
     "output_type": "stream",
     "text": [
      "140\n",
      "141\n",
      "136\n",
      "132\n",
      "139\n"
     ]
    }
   ],
   "source": [
    "final =[]\n",
    "for i in range (0, 5):\n",
    "    for set_ in [\"train\"]:\n",
    "        X = pickle.load(open(f\"C:/Users/benna/Documents/adn_circulant/data/for_training/X_{set_}_{i}.pkl\", 'rb'))\n",
    "        y = pickle.load(open(f\"C:/Users/benna/Documents/adn_circulant/data/for_training/y_{set_}_{i}.pkl\",'rb'))\n",
    "        model = XGBClassifier(tree_method=\"hist\")\n",
    "        model.fit(X, y)\n",
    "        # extract the feature importances\n",
    "        thresholds = np.sort(model.feature_importances_)\n",
    "        first_not_nul = [i for i in thresholds if i != 0][0]\n",
    "        # select features using threshold\n",
    "        selection = SelectFromModel(model,threshold=first_not_nul, prefit=True)\n",
    "        feature_idx = selection.get_support()\n",
    "        feature_name = X.columns[feature_idx]\n",
    "        print(len(feature_name))\n",
    "        final =list(set(feature_name) | set(final))"
   ]
  },
  {
   "cell_type": "code",
   "execution_count": 14,
   "id": "e6759b98",
   "metadata": {},
   "outputs": [
    {
     "data": {
      "text/plain": [
       "520"
      ]
     },
     "execution_count": 14,
     "metadata": {},
     "output_type": "execute_result"
    }
   ],
   "source": [
    "len(final)"
   ]
  },
  {
   "attachments": {},
   "cell_type": "markdown",
   "id": "d0fd5db0",
   "metadata": {},
   "source": [
    "# Modèle après feature selection"
   ]
  },
  {
   "cell_type": "code",
   "execution_count": 50,
   "id": "94abf2e4",
   "metadata": {},
   "outputs": [],
   "source": [
    "def cross_val(xgb):\n",
    "    acc_cv = []\n",
    "    for i in range (0,5):\n",
    "        X_test = pickle.load(open(f\"C:/Users/benna/Documents/adn_circulant/data/for_training/X_test_{i}.pkl\", 'rb'))\n",
    "        y_test = pickle.load(open(f\"C:/Users/benna/Documents/adn_circulant/data/for_training/y_test_{i}.pkl\",'rb'))\n",
    "        X_train = pickle.load(open(f\"C:/Users/benna/Documents/adn_circulant/data/for_training/X_train_{i}.pkl\", 'rb'))\n",
    "        y_train = pickle.load(open(f\"C:/Users/benna/Documents/adn_circulant/data/for_training/y_train_{i}.pkl\",'rb'))\n",
    "        #---------- feature selection \n",
    "        model = XGBClassifier(tree_method=\"hist\")\n",
    "        model.fit(X_train, y_train)\n",
    "        # extract the feature importances\n",
    "        thresholds = np.sort(model.feature_importances_)\n",
    "        first_not_nul = [i for i in thresholds if i != 0][0]\n",
    "        # select features using threshold\n",
    "        selection = SelectFromModel(model,threshold=first_not_nul, prefit=True)\n",
    "        feature_idx = selection.get_support()\n",
    "        feature_name = X_train.columns[feature_idx]\n",
    "        print (f\"selected feature: {len(feature_name)}\")\n",
    "        X_train_selected = X_train[feature_name]\n",
    "        X_test_selected = X_test[feature_name]\n",
    "        xgb.fit(X_train_selected, y_train)\n",
    "            \n",
    "        y_pred = xgb.predict(X_train_selected)\n",
    "        print(f'Accuracy on train : {round(100 * accuracy_score(y_pred, y_train))} % for set {i}')\n",
    "            \n",
    "        y_pred = xgb.predict(X_test_selected)\n",
    "        print(f'Accuracy on test : {round(100 * accuracy_score(y_pred, y_test))} % for set {i}')\n",
    "        acc_cv.append(accuracy_score(y_pred, y_test))\n",
    "    return np.mean(acc_cv), acc_cv"
   ]
  },
  {
   "cell_type": "code",
   "execution_count": 51,
   "id": "e5d5fb78",
   "metadata": {},
   "outputs": [
    {
     "name": "stdout",
     "output_type": "stream",
     "text": [
      "selected feature: 140\n",
      "Accuracy on train : 100.0 % for set 0\n",
      "Accuracy on test : 65.0 % for set 0\n",
      "selected feature: 141\n",
      "Accuracy on train : 100.0 % for set 1\n",
      "Accuracy on test : 59.0 % for set 1\n",
      "selected feature: 136\n",
      "Accuracy on train : 100.0 % for set 2\n",
      "Accuracy on test : 65.0 % for set 2\n",
      "selected feature: 132\n",
      "Accuracy on train : 100.0 % for set 3\n",
      "Accuracy on test : 41.0 % for set 3\n",
      "selected feature: 139\n",
      "Accuracy on train : 100.0 % for set 4\n",
      "Accuracy on test : 67.0 % for set 4\n"
     ]
    },
    {
     "data": {
      "text/plain": [
       "(0.5921568627450979,\n",
       " [0.6470588235294118,\n",
       "  0.5882352941176471,\n",
       "  0.6470588235294118,\n",
       "  0.4117647058823529,\n",
       "  0.6666666666666666])"
      ]
     },
     "execution_count": 51,
     "metadata": {},
     "output_type": "execute_result"
    }
   ],
   "source": [
    "xgb = XGBClassifier(tree_method = \"hist\")\n",
    "cross_val(xgb)"
   ]
  },
  {
   "cell_type": "code",
   "execution_count": 19,
   "id": "cd831541",
   "metadata": {},
   "outputs": [
    {
     "name": "stdout",
     "output_type": "stream",
     "text": [
      "selected feature: 140\n",
      "Accuracy on train : 100.0 % for set 0\n",
      "Accuracy on test : 59.0 % for set 0\n",
      "selected feature: 141\n",
      "Accuracy on train : 100.0 % for set 1\n",
      "Accuracy on test : 62.0 % for set 1\n",
      "selected feature: 136\n",
      "Accuracy on train : 100.0 % for set 2\n",
      "Accuracy on test : 62.0 % for set 2\n",
      "selected feature: 132\n",
      "Accuracy on train : 100.0 % for set 3\n",
      "Accuracy on test : 62.0 % for set 3\n",
      "selected feature: 139\n",
      "Accuracy on train : 100.0 % for set 4\n",
      "Accuracy on test : 70.0 % for set 4\n"
     ]
    },
    {
     "data": {
      "text/plain": [
       "(0.6276292335115865,\n",
       " [0.5882352941176471,\n",
       "  0.6176470588235294,\n",
       "  0.6176470588235294,\n",
       "  0.6176470588235294,\n",
       "  0.696969696969697])"
      ]
     },
     "execution_count": 19,
     "metadata": {},
     "output_type": "execute_result"
    }
   ],
   "source": [
    "rf = RandomForestClassifier(n_estimators=1000)\n",
    "cross_val(rf)"
   ]
  },
  {
   "cell_type": "code",
   "execution_count": 20,
   "id": "705f3629",
   "metadata": {},
   "outputs": [
    {
     "name": "stdout",
     "output_type": "stream",
     "text": [
      "selected feature: 140\n",
      "Accuracy on train : 94.0 % for set 0\n",
      "Accuracy on test : 62.0 % for set 0\n",
      "selected feature: 141\n",
      "Accuracy on train : 94.0 % for set 1\n",
      "Accuracy on test : 56.0 % for set 1\n",
      "selected feature: 136\n",
      "Accuracy on train : 96.0 % for set 2\n",
      "Accuracy on test : 68.0 % for set 2\n",
      "selected feature: 132\n",
      "Accuracy on train : 96.0 % for set 3\n",
      "Accuracy on test : 65.0 % for set 3\n",
      "selected feature: 139\n",
      "Accuracy on train : 92.0 % for set 4\n",
      "Accuracy on test : 64.0 % for set 4\n"
     ]
    },
    {
     "data": {
      "text/plain": [
       "(0.6272727272727272,\n",
       " [0.6176470588235294,\n",
       "  0.5588235294117647,\n",
       "  0.6764705882352942,\n",
       "  0.6470588235294118,\n",
       "  0.6363636363636364])"
      ]
     },
     "execution_count": 20,
     "metadata": {},
     "output_type": "execute_result"
    }
   ],
   "source": [
    "lr = LogisticRegression(class_weight='balanced', C=2)\n",
    "cross_val(lr)"
   ]
  },
  {
   "attachments": {},
   "cell_type": "markdown",
   "id": "72a03836",
   "metadata": {},
   "source": [
    "# intersection des features "
   ]
  },
  {
   "cell_type": "code",
   "execution_count": 21,
   "id": "4b1392d5",
   "metadata": {},
   "outputs": [
    {
     "name": "stdout",
     "output_type": "stream",
     "text": [
      "140\n",
      "141\n",
      "136\n",
      "132\n",
      "139\n",
      "0\n"
     ]
    }
   ],
   "source": [
    "final =[]\n",
    "for i in range (0, 5):\n",
    "    for set_ in [\"train\"]:\n",
    "        X = pickle.load(open(f\"C:/Users/benna/Documents/adn_circulant/data/for_training/X_{set_}_{i}.pkl\", 'rb'))\n",
    "        y = pickle.load(open(f\"C:/Users/benna/Documents/adn_circulant/data/for_training/y_{set_}_{i}.pkl\",'rb'))\n",
    "        model = XGBClassifier(tree_method=\"hist\")\n",
    "        model.fit(X, y)\n",
    "        # extract the feature importances\n",
    "        thresholds = np.sort(model.feature_importances_)\n",
    "        first_not_nul = [i for i in thresholds if i != 0][0]\n",
    "        # select features using threshold\n",
    "        selection = SelectFromModel(model,threshold=first_not_nul, prefit=True)\n",
    "        feature_idx = selection.get_support()\n",
    "        feature_name = X.columns[feature_idx]\n",
    "        print(len(feature_name))\n",
    "        final =list(set(feature_name) & set(final))\n",
    "print (len(final))"
   ]
  },
  {
   "attachments": {},
   "cell_type": "markdown",
   "id": "2983d9e4",
   "metadata": {},
   "source": [
    "# union"
   ]
  },
  {
   "cell_type": "code",
   "execution_count": 57,
   "id": "b9389b4f",
   "metadata": {},
   "outputs": [
    {
     "name": "stdout",
     "output_type": "stream",
     "text": [
      "140\n",
      "141\n",
      "136\n",
      "132\n",
      "139\n",
      "520\n"
     ]
    }
   ],
   "source": [
    "final =[]\n",
    "for i in range (0, 5):\n",
    "    for set_ in [\"train\"]:\n",
    "        X = pickle.load(open(f\"C:/Users/benna/Documents/adn_circulant/data/for_training/X_{set_}_{i}.pkl\", 'rb'))\n",
    "        y = pickle.load(open(f\"C:/Users/benna/Documents/adn_circulant/data/for_training/y_{set_}_{i}.pkl\",'rb'))\n",
    "        model = XGBClassifier(tree_method=\"hist\")\n",
    "        model.fit(X, y)\n",
    "        # extract the feature importances\n",
    "        thresholds = np.sort(model.feature_importances_)\n",
    "        first_not_nul = [i for i in thresholds if i != 0][0]\n",
    "        # select features using threshold\n",
    "        selection = SelectFromModel(model,threshold=first_not_nul, prefit=True)\n",
    "        feature_idx = selection.get_support()\n",
    "        feature_name = X.columns[feature_idx]\n",
    "        print(len(feature_name))\n",
    "        final =list(set(feature_name) | set(final))\n",
    "print (len(final))"
   ]
  },
  {
   "cell_type": "code",
   "execution_count": 59,
   "id": "c9272b84",
   "metadata": {},
   "outputs": [
    {
     "name": "stdout",
     "output_type": "stream",
     "text": [
      "Accuracy on train : 100.0 % for set 0\n",
      "Accuracy on test : 59.0 % for set 0\n",
      "Accuracy on train : 100.0 % for set 1\n",
      "Accuracy on test : 56.0 % for set 1\n",
      "Accuracy on train : 100.0 % for set 2\n",
      "Accuracy on test : 62.0 % for set 2\n",
      "Accuracy on train : 100.0 % for set 3\n",
      "Accuracy on test : 47.0 % for set 3\n",
      "Accuracy on train : 100.0 % for set 4\n",
      "Accuracy on test : 70.0 % for set 4\n",
      "0.5864527629233512 [0.5882352941176471, 0.5588235294117647, 0.6176470588235294, 0.47058823529411764, 0.696969696969697]\n"
     ]
    }
   ],
   "source": [
    "acc_cv = []\n",
    "for i in range (0,5):\n",
    "    X_test = pickle.load(open(f\"C:/Users/benna/Documents/adn_circulant/data/for_training/X_test_{i}.pkl\", 'rb'))\n",
    "    y_test = pickle.load(open(f\"C:/Users/benna/Documents/adn_circulant/data/for_training/y_test_{i}.pkl\",'rb'))\n",
    "    X_train = pickle.load(open(f\"C:/Users/benna/Documents/adn_circulant/data/for_training/X_train_{i}.pkl\", 'rb'))\n",
    "    y_train = pickle.load(open(f\"C:/Users/benna/Documents/adn_circulant/data/for_training/y_train_{i}.pkl\",'rb'))\n",
    "\n",
    "    X_train_selected = X_train[final]\n",
    "    X_test_selected = X_test[final]\n",
    "    xgb.fit(X_train_selected, y_train)\n",
    "        \n",
    "    y_pred = xgb.predict(X_train_selected)\n",
    "    print(f'Accuracy on train : {round(100 * accuracy_score(y_pred, y_train))} % for set {i}')\n",
    "        \n",
    "    y_pred = xgb.predict(X_test_selected)\n",
    "    print(f'Accuracy on test : {round(100 * accuracy_score(y_pred, y_test))} % for set {i}')\n",
    "    acc_cv.append(accuracy_score(y_pred, y_test))\n",
    "print(np.mean(acc_cv), acc_cv)"
   ]
  },
  {
   "attachments": {},
   "cell_type": "markdown",
   "id": "157856d1",
   "metadata": {},
   "source": [
    "# train/ validation"
   ]
  },
  {
   "cell_type": "code",
   "execution_count": 65,
   "id": "5dc47924",
   "metadata": {},
   "outputs": [
    {
     "name": "stderr",
     "output_type": "stream",
     "text": [
      "100%|██████████| 100/100 [00:16<00:00,  6.22it/s]\n",
      "100%|██████████| 100/100 [00:15<00:00,  6.61it/s]\n",
      "100%|██████████| 100/100 [00:14<00:00,  6.72it/s]\n",
      "100%|██████████| 100/100 [00:15<00:00,  6.58it/s]\n",
      "100%|██████████| 100/100 [00:17<00:00,  5.58it/s]\n"
     ]
    },
    {
     "data": {
      "text/plain": [
       "<matplotlib.legend.Legend at 0x206948be4c0>"
      ]
     },
     "execution_count": 65,
     "metadata": {},
     "output_type": "execute_result"
    },
    {
     "data": {
      "image/png": "[encoded data removed]",
      "text/plain": [
       "<Figure size 432x288 with 1 Axes>"
      ]
     },
     "metadata": {
      "needs_background": "light"
     },
     "output_type": "display_data"
    }
   ],
   "source": [
    "set_ = \"train\"\n",
    "test_size = 0.2\n",
    "seed = 42\n",
    "from sklearn.model_selection import train_test_split\n",
    "from tqdm import tqdm\n",
    "for i in range(0,5):\n",
    "    X = pickle.load(open(f\"C:/Users/benna/Documents/adn_circulant/data/for_training/X_{set_}_{i}.pkl\", 'rb'))\n",
    "    y = pickle.load(open(f\"C:/Users/benna/Documents/adn_circulant/data/for_training/y_{set_}_{i}.pkl\",'rb'))\n",
    "    X_train, X_validate, y_train, y_validate = train_test_split(X, y, test_size=test_size, stratify=y, random_state=seed)\n",
    "    validate_acc = []\n",
    "    #---------- feature selection \n",
    "    model = XGBClassifier(tree_method=\"hist\")\n",
    "    model.fit(X_train, y_train)\n",
    "    # extract the feature importances\n",
    "    thresholds = np.sort(model.feature_importances_)\n",
    "    for it in tqdm(range (0,100)):\n",
    "        \n",
    "        first_not_nul = [i for i in thresholds if i != 0][it]\n",
    "        # select features using threshold\n",
    "        selection = SelectFromModel(model,threshold=first_not_nul, prefit=True)\n",
    "        feature_idx = selection.get_support()\n",
    "        feature_name = X_train.columns[feature_idx]\n",
    "        X_train_selected = X_train[feature_name]\n",
    "        X_test_selected = X_validate[feature_name]\n",
    "        xgb.fit(X_train_selected, y_train)\n",
    "            \n",
    "        y_pred = xgb.predict(X_test_selected)\n",
    "        validate_acc.append(accuracy_score(y_pred, y_validate))\n",
    "    pyplot.plot([i for i in range(0,100)], validate_acc, label = f\"set {i}\")\n",
    "pyplot.legend()"
   ]
  },
  {
   "cell_type": "code",
   "execution_count": null,
   "id": "b094d940",
   "metadata": {},
   "outputs": [],
   "source": []
  }
 ],
 "metadata": {
  "kernelspec": {
   "display_name": "Python 3.8.3 ('base')",
   "language": "python",
   "name": "python3"
  },
  "language_info": {
   "codemirror_mode": {
    "name": "ipython",
    "version": 3
   },
   "file_extension": ".py",
   "mimetype": "text/x-python",
   "name": "python",
   "nbconvert_exporter": "python",
   "pygments_lexer": "ipython3",
   "version": "3.8.3"
  },
  "vscode": {
   "interpreter": {
    "hash": "88279d2366fe020547cde40dd65aa0e3aa662a6ec1f3ca12d88834876c85e1a6"
   }
  }
 },
 "nbformat": 4,
 "nbformat_minor": 5
}
