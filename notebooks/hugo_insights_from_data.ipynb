{
 "cells": [
  {
   "cell_type": "code",
   "execution_count": 2,
   "id": "da0ce424-69c5-4fe7-9da9-fc50be20677e",
   "metadata": {},
   "outputs": [],
   "source": [
    "from pathlib import Path\n",
    "from typing import Tuple\n",
    "from collections import defaultdict\n",
    "\n",
    "import pandas as pd\n",
    "from sklearn.decomposition import PCA\n",
    "from sklearn.manifold import TSNE\n",
    "from sklearn.preprocessing import StandardScaler\n",
    "from sklearn.model_selection import StratifiedKFold\n",
    "from sklearn.metrics import accuracy_score\n",
    "from sklearn.linear_model import LogisticRegression\n",
    "from sklearn.ensemble import RandomForestClassifier\n",
    "from sklearn.svm import SVC\n",
    "from matplotlib import pyplot as plt\n",
    "import numpy as np\n",
    "\n",
    "import seaborn as sns"
   ]
  },
  {
   "cell_type": "markdown",
   "id": "a1a99c7d-0038-4c8d-aba0-99ed9e206288",
   "metadata": {},
   "source": [
    "# TODO"
   ]
  },
  {
   "cell_type": "markdown",
   "id": "a2d1c195-f7db-4449-aa31-52851976d63a",
   "metadata": {},
   "source": [
    "\n",
    "- [ ] Appliquer le reduction sur les 3\n",
    "- [ ] tester avec 300 days time OS vs. 700\n",
    "- [ ] ajouter les 90 features gènes (au diagnostique). \n",
    "\n",
    "```\n",
    "\n",
    "['5:37000001-38000000_ratio',\n",
    " '8:2000001-3000000_ratio',\n",
    " '9:20000001-21000000_ratio',\n",
    " '2:235000001-236000000_ratio',\n",
    " '6:80000001-81000000_ratio',\n",
    " '12:62000001-63000000_ratio',\n",
    " '2:237000001-238000000_ratio',\n",
    " '6:53000001-54000000_ratio',\n",
    " '12:34000001-35000000_ratio',\n",
    " '5:29000001-30000000_ratio',\n",
    " '2:228000001-229000000_ratio',\n",
    " '8:143000001-144000000_ratio',\n",
    " '5:23000001-24000000_ratio',\n",
    " '5:36000001-37000000_ratio',\n",
    " '6:1-1000000_ratio',\n",
    " '5:40000001-41000000_ratio',\n",
    " '5:32000001-33000000_ratio',\n",
    " '5:27000001-28000000_ratio',\n",
    " '2:240000001-241000000_ratio',\n",
    " '8:11000001-12000000_ratio',\n",
    " '18:30000001-31000000_ratio',\n",
    " '8:1-1000000_ratio',\n",
    " '2:232000001-233000000_ratio',\n",
    " '2:236000001-237000000_ratio',\n",
    " '9:107000001-108000000_ratio',\n",
    " '14:38000001-39000000_ratio',\n",
    " '14:45000001-46000000_ratio',\n",
    " '14:60000001-61000000_ratio',\n",
    " '8:8000001-9000000_ratio',\n",
    " '14:81000001-82000000_ratio',\n",
    " '4:157000001-158000000_ratio',\n",
    " '5:33000001-34000000_ratio',\n",
    " '6:81000001-82000000_ratio',\n",
    " '14:35000001-36000000_ratio',\n",
    " '9:3000001-4000000_ratio',\n",
    " '14:71000001-72000000_ratio',\n",
    " '18:29000001-30000000_ratio',\n",
    " '8:21000001-22000000_ratio',\n",
    " '12:63000001-64000000_ratio',\n",
    " '18:31000001-32000000_ratio',\n",
    " '10:74000001-75000000_ratio',\n",
    " '14:62000001-63000000_ratio',\n",
    " '13:70000001-71000000_ratio',\n",
    " '8:10000001-11000000_ratio',\n",
    " '14:47000001-48000000_ratio',\n",
    " '9:1000001-2000000_ratio',\n",
    " '2:88000001-89000000_ratio',\n",
    " '14:50000001-51000000_ratio',\n",
    " '4:37000001-38000000_ratio',\n",
    " '14:73000001-74000000_ratio',\n",
    " '21:28000001-29000000_ratio',\n",
    " '14:61000001-62000000_ratio',\n",
    " '14:48000001-49000000_ratio',\n",
    " '4:55000001-56000000_ratio',\n",
    " '2:4000001-5000000_ratio',\n",
    " '18:24000001-25000000_ratio',\n",
    " '9:7000001-8000000_ratio',\n",
    " '20:64000001-65000000_ratio',\n",
    " '14:40000001-41000000_ratio',\n",
    " '19:44000001-45000000_ratio',\n",
    " '15:51000001-52000000_ratio',\n",
    " '10:15000001-16000000_ratio',\n",
    " '9:8000001-9000000_ratio',\n",
    " '9:71000001-72000000_ratio',\n",
    " '12:99000001-100000000_ratio',\n",
    " '2:17000001-18000000_ratio',\n",
    " '1:86000001-87000000_ratio',\n",
    " '22:25000001-26000000_ratio',\n",
    " '11:35000001-36000000_ratio',\n",
    " '1:183000001-184000000_ratio',\n",
    " '13:22000001-23000000_ratio',\n",
    " '10:68000001-69000000_ratio',\n",
    " '14:89000001-90000000_ratio',\n",
    " '8:36000001-37000000_ratio',\n",
    " '8:20000001-21000000_ratio',\n",
    " '4:112000001-113000000_ratio',\n",
    " '15:46000001-47000000_ratio',\n",
    " '15:54000001-55000000_ratio',\n",
    " '12:23000001-24000000_ratio',\n",
    " '4:38000001-39000000_ratio',\n",
    " '13:39000001-40000000_ratio',\n",
    " '17:65000001-66000000_ratio',\n",
    " '21:27000001-28000000_ratio',\n",
    " '1:201000001-202000000_ratio',\n",
    " '1:185000001-186000000_ratio',\n",
    " '9:9000001-10000000_ratio',\n",
    " '1:77000001-78000000_ratio',\n",
    " '9:68000001-69000000_ratio',\n",
    " '1:227000001-228000000_ratio',\n",
    " '9:120000001-121000000_ratio',\n",
    " '5:56000001-57000000_ratio',\n",
    " '14:46000001-47000000_ratio']\n",
    "```\n",
    "\n",
    "P2:\n",
    "- [ ] essayer de faire la diff de chrom entre les 3 \n",
    "- [ ] essayer d'overfitter pour voir si le modèle peut apprendre"
   ]
  },
  {
   "cell_type": "markdown",
   "id": "6ca7e004-5f26-40c6-9286-29eed40ebb8e",
   "metadata": {
    "tags": []
   },
   "source": [
    "# Load processed data"
   ]
  },
  {
   "cell_type": "code",
   "execution_count": 3,
   "id": "b0716c3d-e37d-4c4f-9eb3-823b7252af61",
   "metadata": {},
   "outputs": [],
   "source": [
    "OUTPUT_DIR = Path('..') / 'data' / 'intermediate'\n",
    "\n",
    "# merged\n",
    "data_all = pd.read_csv(OUTPUT_DIR / 'data_metadata.csv')    # all time points"
   ]
  },
  {
   "cell_type": "code",
   "execution_count": 4,
   "id": "289b8197-66fb-41a6-94e1-e97b4ee61b77",
   "metadata": {},
   "outputs": [
    {
     "data": {
      "text/html": [
       "<div>\n",
       "<style scoped>\n",
       "    .dataframe tbody tr th:only-of-type {\n",
       "        vertical-align: middle;\n",
       "    }\n",
       "\n",
       "    .dataframe tbody tr th {\n",
       "        vertical-align: top;\n",
       "    }\n",
       "\n",
       "    .dataframe thead th {\n",
       "        text-align: right;\n",
       "    }\n",
       "</style>\n",
       "<table border=\"1\" class=\"dataframe\">\n",
       "  <thead>\n",
       "    <tr style=\"text-align: right;\">\n",
       "      <th></th>\n",
       "      <th>sex</th>\n",
       "      <th>age</th>\n",
       "      <th>pub</th>\n",
       "      <th>htum</th>\n",
       "      <th>meta_bis</th>\n",
       "      <th>chimgr</th>\n",
       "      <th>rep_histo</th>\n",
       "      <th>relapse</th>\n",
       "      <th>etat2</th>\n",
       "      <th>time_OS</th>\n",
       "      <th>...</th>\n",
       "      <th>2:225000001-226000000_ratio_FIN_TT</th>\n",
       "      <th>2:225000001-226000000_zscore_AVANT_CHIR</th>\n",
       "      <th>2:225000001-226000000_zscore_DIAG</th>\n",
       "      <th>2:225000001-226000000_zscore_FIN_TT</th>\n",
       "      <th>8:76000001-77000000_ratio_AVANT_CHIR</th>\n",
       "      <th>8:76000001-77000000_ratio_DIAG</th>\n",
       "      <th>8:76000001-77000000_ratio_FIN_TT</th>\n",
       "      <th>8:76000001-77000000_zscore_AVANT_CHIR</th>\n",
       "      <th>8:76000001-77000000_zscore_DIAG</th>\n",
       "      <th>8:76000001-77000000_zscore_FIN_TT</th>\n",
       "    </tr>\n",
       "  </thead>\n",
       "  <tbody>\n",
       "    <tr>\n",
       "      <th>0</th>\n",
       "      <td>Feminin</td>\n",
       "      <td>20.55</td>\n",
       "      <td>0.0</td>\n",
       "      <td>11.6</td>\n",
       "      <td>1</td>\n",
       "      <td>MTX</td>\n",
       "      <td>GR</td>\n",
       "      <td>0</td>\n",
       "      <td>0</td>\n",
       "      <td>2628.0</td>\n",
       "      <td>...</td>\n",
       "      <td>NaN</td>\n",
       "      <td>NaN</td>\n",
       "      <td>NaN</td>\n",
       "      <td>NaN</td>\n",
       "      <td>NaN</td>\n",
       "      <td>NaN</td>\n",
       "      <td>NaN</td>\n",
       "      <td>NaN</td>\n",
       "      <td>NaN</td>\n",
       "      <td>NaN</td>\n",
       "    </tr>\n",
       "    <tr>\n",
       "      <th>1</th>\n",
       "      <td>Feminin</td>\n",
       "      <td>12.91</td>\n",
       "      <td>1.0</td>\n",
       "      <td>9.3</td>\n",
       "      <td>0</td>\n",
       "      <td>MTX</td>\n",
       "      <td>GR</td>\n",
       "      <td>1</td>\n",
       "      <td>0</td>\n",
       "      <td>1786.0</td>\n",
       "      <td>...</td>\n",
       "      <td>NaN</td>\n",
       "      <td>NaN</td>\n",
       "      <td>-1.706492</td>\n",
       "      <td>NaN</td>\n",
       "      <td>0.149701</td>\n",
       "      <td>0.245046</td>\n",
       "      <td>NaN</td>\n",
       "      <td>3.923849</td>\n",
       "      <td>1.834662</td>\n",
       "      <td>NaN</td>\n",
       "    </tr>\n",
       "    <tr>\n",
       "      <th>2</th>\n",
       "      <td>Masculin</td>\n",
       "      <td>4.71</td>\n",
       "      <td>1.0</td>\n",
       "      <td>10.2</td>\n",
       "      <td>0</td>\n",
       "      <td>MTX</td>\n",
       "      <td>NaN</td>\n",
       "      <td>1</td>\n",
       "      <td>1</td>\n",
       "      <td>261.0</td>\n",
       "      <td>...</td>\n",
       "      <td>NaN</td>\n",
       "      <td>NaN</td>\n",
       "      <td>NaN</td>\n",
       "      <td>NaN</td>\n",
       "      <td>NaN</td>\n",
       "      <td>NaN</td>\n",
       "      <td>NaN</td>\n",
       "      <td>NaN</td>\n",
       "      <td>NaN</td>\n",
       "      <td>NaN</td>\n",
       "    </tr>\n",
       "    <tr>\n",
       "      <th>3</th>\n",
       "      <td>Feminin</td>\n",
       "      <td>15.62</td>\n",
       "      <td>0.0</td>\n",
       "      <td>15.0</td>\n",
       "      <td>1</td>\n",
       "      <td>MTX</td>\n",
       "      <td>NaN</td>\n",
       "      <td>1</td>\n",
       "      <td>0</td>\n",
       "      <td>1100.0</td>\n",
       "      <td>...</td>\n",
       "      <td>-0.009755</td>\n",
       "      <td>NaN</td>\n",
       "      <td>NaN</td>\n",
       "      <td>-0.29966</td>\n",
       "      <td>NaN</td>\n",
       "      <td>NaN</td>\n",
       "      <td>-0.031106</td>\n",
       "      <td>NaN</td>\n",
       "      <td>NaN</td>\n",
       "      <td>-0.774995</td>\n",
       "    </tr>\n",
       "    <tr>\n",
       "      <th>4</th>\n",
       "      <td>Feminin</td>\n",
       "      <td>12.56</td>\n",
       "      <td>0.0</td>\n",
       "      <td>11.4</td>\n",
       "      <td>1</td>\n",
       "      <td>MTX</td>\n",
       "      <td>NaN</td>\n",
       "      <td>1</td>\n",
       "      <td>1</td>\n",
       "      <td>258.0</td>\n",
       "      <td>...</td>\n",
       "      <td>NaN</td>\n",
       "      <td>NaN</td>\n",
       "      <td>NaN</td>\n",
       "      <td>NaN</td>\n",
       "      <td>NaN</td>\n",
       "      <td>NaN</td>\n",
       "      <td>NaN</td>\n",
       "      <td>NaN</td>\n",
       "      <td>NaN</td>\n",
       "      <td>NaN</td>\n",
       "    </tr>\n",
       "  </tbody>\n",
       "</table>\n",
       "<p>5 rows × 15004 columns</p>\n",
       "</div>"
      ],
      "text/plain": [
       "        sex    age  pub  htum  meta_bis chimgr rep_histo  relapse  etat2  \\\n",
       "0   Feminin  20.55  0.0  11.6         1    MTX        GR        0      0   \n",
       "1   Feminin  12.91  1.0   9.3         0    MTX        GR        1      0   \n",
       "2  Masculin   4.71  1.0  10.2         0    MTX       NaN        1      1   \n",
       "3   Feminin  15.62  0.0  15.0         1    MTX       NaN        1      0   \n",
       "4   Feminin  12.56  0.0  11.4         1    MTX       NaN        1      1   \n",
       "\n",
       "   time_OS  ...  2:225000001-226000000_ratio_FIN_TT  \\\n",
       "0   2628.0  ...                                 NaN   \n",
       "1   1786.0  ...                                 NaN   \n",
       "2    261.0  ...                                 NaN   \n",
       "3   1100.0  ...                           -0.009755   \n",
       "4    258.0  ...                                 NaN   \n",
       "\n",
       "   2:225000001-226000000_zscore_AVANT_CHIR  2:225000001-226000000_zscore_DIAG  \\\n",
       "0                                      NaN                                NaN   \n",
       "1                                      NaN                          -1.706492   \n",
       "2                                      NaN                                NaN   \n",
       "3                                      NaN                                NaN   \n",
       "4                                      NaN                                NaN   \n",
       "\n",
       "   2:225000001-226000000_zscore_FIN_TT  8:76000001-77000000_ratio_AVANT_CHIR  \\\n",
       "0                                  NaN                                   NaN   \n",
       "1                                  NaN                              0.149701   \n",
       "2                                  NaN                                   NaN   \n",
       "3                             -0.29966                                   NaN   \n",
       "4                                  NaN                                   NaN   \n",
       "\n",
       "  8:76000001-77000000_ratio_DIAG  8:76000001-77000000_ratio_FIN_TT  \\\n",
       "0                            NaN                               NaN   \n",
       "1                       0.245046                               NaN   \n",
       "2                            NaN                               NaN   \n",
       "3                            NaN                         -0.031106   \n",
       "4                            NaN                               NaN   \n",
       "\n",
       "   8:76000001-77000000_zscore_AVANT_CHIR  8:76000001-77000000_zscore_DIAG  \\\n",
       "0                                    NaN                              NaN   \n",
       "1                               3.923849                         1.834662   \n",
       "2                                    NaN                              NaN   \n",
       "3                                    NaN                              NaN   \n",
       "4                                    NaN                              NaN   \n",
       "\n",
       "   8:76000001-77000000_zscore_FIN_TT  \n",
       "0                                NaN  \n",
       "1                                NaN  \n",
       "2                                NaN  \n",
       "3                          -0.774995  \n",
       "4                                NaN  \n",
       "\n",
       "[5 rows x 15004 columns]"
      ]
     },
     "execution_count": 4,
     "metadata": {},
     "output_type": "execute_result"
    }
   ],
   "source": [
    "data_all.head()"
   ]
  },
  {
   "cell_type": "markdown",
   "id": "41ba143c-9641-4f6e-927f-f3f239b26dbe",
   "metadata": {},
   "source": [
    "# removing observations with not enought time"
   ]
  },
  {
   "cell_type": "code",
   "execution_count": 9,
   "id": "d297f1a7-105d-4280-bd28-dc69927a7e52",
   "metadata": {},
   "outputs": [
    {
     "name": "stderr",
     "output_type": "stream",
     "text": [
      "/opt/homebrew/Caskroom/miniconda/base/lib/python3.8/site-packages/seaborn/distributions.py:2557: FutureWarning:\n",
      "\n",
      "`distplot` is a deprecated function and will be removed in a future version. Please adapt your code to use either `displot` (a figure-level function with similar flexibility) or `histplot` (an axes-level function for histograms).\n",
      "\n"
     ]
    },
    {
     "data": {
      "text/plain": [
       "<AxesSubplot:xlabel='time_OS', ylabel='Density'>"
      ]
     },
     "execution_count": 9,
     "metadata": {},
     "output_type": "execute_result"
    },
    {
     "data": {
      "image/png": "[encoded data removed]",
      "text/plain": [
       "<Figure size 432x288 with 1 Axes>"
      ]
     },
     "metadata": {
      "needs_background": "light"
     },
     "output_type": "display_data"
    }
   ],
   "source": [
    "sns.distplot(data_all.time_OS, bins=10)"
   ]
  },
  {
   "cell_type": "code",
   "execution_count": null,
   "id": "e1933889-512b-4a57-b4ec-d2fcc72f5086",
   "metadata": {},
   "outputs": [],
   "source": [
    "sns.distplot(data_all.time_OS, bins=10)"
   ]
  },
  {
   "cell_type": "markdown",
   "id": "53fdb803-a9ef-4a45-8b25-3c0e38cd6235",
   "metadata": {},
   "source": [
    "## remove patients with low observation time"
   ]
  },
  {
   "cell_type": "code",
   "execution_count": 33,
   "id": "28d98a2d-effd-4c77-b6bf-ec24b1620ea9",
   "metadata": {},
   "outputs": [
    {
     "data": {
      "application/vnd.plotly.v1+json": {
       "config": {
        "plotlyServerURL": "https://plot.ly"
       },
       "data": [
        {
         "alignmentgroup": "True",
         "hovertemplate": "variable=%{x}<br>value=%{y}<extra></extra>",
         "legendgroup": "",
         "marker": {
          "color": "#636efa"
         },
         "name": "",
         "notched": false,
         "offsetgroup": "",
         "orientation": "v",
         "showlegend": false,
         "type": "box",
         "x": [
          "time_OS",
          "time_OS",
          "time_OS",
          "time_OS",
          "time_OS",
          "time_OS",
          "time_OS",
          "time_OS",
          "time_OS",
          "time_OS",
          "time_OS",
          "time_OS",
          "time_OS",
          "time_OS",
          "time_OS",
          "time_OS",
          "time_OS",
          "time_OS",
          "time_OS",
          "time_OS",
          "time_OS",
          "time_OS",
          "time_OS",
          "time_OS",
          "time_OS",
          "time_OS",
          "time_OS",
          "time_OS",
          "time_OS",
          "time_OS",
          "time_OS",
          "time_OS",
          "time_OS",
          "time_OS",
          "time_OS",
          "time_OS",
          "time_OS",
          "time_OS",
          "time_OS",
          "time_OS",
          "time_OS",
          "time_OS",
          "time_OS",
          "time_OS",
          "time_OS",
          "time_OS",
          "time_OS",
          "time_OS",
          "time_OS",
          "time_OS",
          "time_OS",
          "time_OS",
          "time_OS",
          "time_OS",
          "time_OS",
          "time_OS",
          "time_OS",
          "time_OS",
          "time_OS",
          "time_OS",
          "time_OS",
          "time_OS",
          "time_OS",
          "time_OS",
          "time_OS",
          "time_OS",
          "time_OS",
          "time_OS",
          "time_OS",
          "time_OS",
          "time_OS",
          "time_OS",
          "time_OS",
          "time_OS",
          "time_OS",
          "time_OS",
          "time_OS",
          "time_OS",
          "time_OS",
          "time_OS",
          "time_OS",
          "time_OS",
          "time_OS",
          "time_OS",
          "time_OS",
          "time_OS",
          "time_OS",
          "time_OS",
          "time_OS",
          "time_OS",
          "time_OS",
          "time_OS",
          "time_OS",
          "time_OS",
          "time_OS",
          "time_OS",
          "time_OS",
          "time_OS",
          "time_OS",
          "time_OS",
          "time_OS",
          "time_OS",
          "time_OS",
          "time_OS",
          "time_OS",
          "time_OS",
          "time_OS",
          "time_OS",
          "time_OS",
          "time_OS",
          "time_OS",
          "time_OS",
          "time_OS",
          "time_OS",
          "time_OS",
          "time_OS",
          "time_OS",
          "time_OS",
          "time_OS",
          "time_OS",
          "time_OS",
          "time_OS",
          "time_OS",
          "time_OS",
          "time_OS",
          "time_OS",
          "time_OS",
          "time_OS",
          "time_OS",
          "time_OS",
          "time_OS",
          "time_OS",
          "time_OS",
          "time_OS",
          "time_OS",
          "time_OS",
          "time_OS",
          "time_OS",
          "time_OS",
          "time_OS",
          "time_OS",
          "time_OS",
          "time_OS",
          "time_OS",
          "time_OS",
          "time_OS",
          "time_OS",
          "time_OS",
          "time_OS",
          "time_OS",
          "time_OS",
          "time_OS",
          "time_OS",
          "time_OS",
          "time_OS",
          "time_OS",
          "time_OS",
          "time_OS",
          "time_OS",
          "time_OS",
          "time_OS",
          "time_OS",
          "time_OS",
          "time_OS",
          "time_OS",
          "time_OS",
          "time_OS",
          "time_OS",
          "time_OS",
          "time_OS",
          "time_OS",
          "time_OS",
          "time_OS",
          "time_OS",
          "time_OS",
          "time_OS",
          "time_OS",
          "time_OS",
          "time_OS",
          "time_OS",
          "time_OS",
          "time_OS"
         ],
         "x0": " ",
         "xaxis": "x",
         "y": [
          2628,
          1786,
          261,
          1100,
          258,
          2467,
          1703,
          2419,
          1248,
          400,
          1676,
          1156,
          2014,
          1387,
          428,
          990,
          1223,
          1601,
          409,
          743,
          764,
          590,
          460,
          944,
          1746,
          1187,
          2307,
          637,
          1465,
          1352,
          1560,
          423,
          2456,
          3493,
          2739,
          2053,
          2188,
          181,
          1205,
          854,
          1344,
          1025,
          445,
          242,
          1210,
          2374,
          775,
          1415,
          343,
          829,
          2984,
          1467,
          1019,
          780,
          614,
          615,
          272,
          null,
          773,
          1885,
          1404,
          1538,
          2618,
          434,
          1295,
          1138,
          2744,
          1613,
          2868,
          453,
          641,
          1370,
          1040,
          1385,
          3199,
          1042,
          321,
          607,
          1555,
          662,
          1323,
          2179,
          null,
          1313,
          904,
          2483,
          1379,
          2141,
          816,
          1571,
          712,
          717,
          868,
          2440,
          1452,
          1216,
          2107,
          2318,
          1202,
          882,
          2709,
          806,
          1742,
          1395,
          2058,
          3017,
          1084,
          3031,
          1592,
          2520,
          2864,
          2062,
          1008,
          1153,
          2184,
          2176,
          621,
          355,
          349,
          1707,
          2518,
          590,
          1332,
          1131,
          1918,
          1263,
          2052,
          1427,
          686,
          1313,
          2228,
          2168,
          1437,
          2116,
          2049,
          2803,
          760,
          1122,
          2629,
          1272,
          1484,
          1265,
          882,
          1698,
          2283,
          1195,
          2665,
          1966,
          1868,
          1452,
          868,
          2581,
          2017,
          1851,
          1792,
          2969,
          1097,
          null,
          1203,
          1579,
          2280,
          522,
          3694,
          2999,
          1127,
          null,
          975,
          1512,
          1187,
          2759,
          2639,
          2700,
          1005,
          2991,
          1392,
          703,
          1036,
          2024,
          2213,
          2036,
          1949,
          1658
         ],
         "y0": " ",
         "yaxis": "y"
        }
       ],
       "layout": {
        "autosize": true,
        "boxmode": "group",
        "legend": {
         "tracegroupgap": 0
        },
        "margin": {
         "t": 60
        },
        "template": {
         "data": {
          "bar": [
           {
            "error_x": {
             "color": "#2a3f5f"
            },
            "error_y": {
             "color": "#2a3f5f"
            },
            "marker": {
             "line": {
              "color": "#E5ECF6",
              "width": 0.5
             }
            },
            "type": "bar"
           }
          ],
          "barpolar": [
           {
            "marker": {
             "line": {
              "color": "#E5ECF6",
              "width": 0.5
             }
            },
            "type": "barpolar"
           }
          ],
          "carpet": [
           {
            "aaxis": {
             "endlinecolor": "#2a3f5f",
             "gridcolor": "white",
             "linecolor": "white",
             "minorgridcolor": "white",
             "startlinecolor": "#2a3f5f"
            },
            "baxis": {
             "endlinecolor": "#2a3f5f",
             "gridcolor": "white",
             "linecolor": "white",
             "minorgridcolor": "white",
             "startlinecolor": "#2a3f5f"
            },
            "type": "carpet"
           }
          ],
          "choropleth": [
           {
            "colorbar": {
             "outlinewidth": 0,
             "ticks": ""
            },
            "type": "choropleth"
           }
          ],
          "contour": [
           {
            "colorbar": {
             "outlinewidth": 0,
             "ticks": ""
            },
            "colorscale": [
             [
              0,
              "#0d0887"
             ],
             [
              0.1111111111111111,
              "#46039f"
             ],
             [
              0.2222222222222222,
              "#7201a8"
             ],
             [
              0.3333333333333333,
              "#9c179e"
             ],
             [
              0.4444444444444444,
              "#bd3786"
             ],
             [
              0.5555555555555556,
              "#d8576b"
             ],
             [
              0.6666666666666666,
              "#ed7953"
             ],
             [
              0.7777777777777778,
              "#fb9f3a"
             ],
             [
              0.8888888888888888,
              "#fdca26"
             ],
             [
              1,
              "#f0f921"
             ]
            ],
            "type": "contour"
           }
          ],
          "contourcarpet": [
           {
            "colorbar": {
             "outlinewidth": 0,
             "ticks": ""
            },
            "type": "contourcarpet"
           }
          ],
          "heatmap": [
           {
            "colorbar": {
             "outlinewidth": 0,
             "ticks": ""
            },
            "colorscale": [
             [
              0,
              "#0d0887"
             ],
             [
              0.1111111111111111,
              "#46039f"
             ],
             [
              0.2222222222222222,
              "#7201a8"
             ],
             [
              0.3333333333333333,
              "#9c179e"
             ],
             [
              0.4444444444444444,
              "#bd3786"
             ],
             [
              0.5555555555555556,
              "#d8576b"
             ],
             [
              0.6666666666666666,
              "#ed7953"
             ],
             [
              0.7777777777777778,
              "#fb9f3a"
             ],
             [
              0.8888888888888888,
              "#fdca26"
             ],
             [
              1,
              "#f0f921"
             ]
            ],
            "type": "heatmap"
           }
          ],
          "heatmapgl": [
           {
            "colorbar": {
             "outlinewidth": 0,
             "ticks": ""
            },
            "colorscale": [
             [
              0,
              "#0d0887"
             ],
             [
              0.1111111111111111,
              "#46039f"
             ],
             [
              0.2222222222222222,
              "#7201a8"
             ],
             [
              0.3333333333333333,
              "#9c179e"
             ],
             [
              0.4444444444444444,
              "#bd3786"
             ],
             [
              0.5555555555555556,
              "#d8576b"
             ],
             [
              0.6666666666666666,
              "#ed7953"
             ],
             [
              0.7777777777777778,
              "#fb9f3a"
             ],
             [
              0.8888888888888888,
              "#fdca26"
             ],
             [
              1,
              "#f0f921"
             ]
            ],
            "type": "heatmapgl"
           }
          ],
          "histogram": [
           {
            "marker": {
             "colorbar": {
              "outlinewidth": 0,
              "ticks": ""
             }
            },
            "type": "histogram"
           }
          ],
          "histogram2d": [
           {
            "colorbar": {
             "outlinewidth": 0,
             "ticks": ""
            },
            "colorscale": [
             [
              0,
              "#0d0887"
             ],
             [
              0.1111111111111111,
              "#46039f"
             ],
             [
              0.2222222222222222,
              "#7201a8"
             ],
             [
              0.3333333333333333,
              "#9c179e"
             ],
             [
              0.4444444444444444,
              "#bd3786"
             ],
             [
              0.5555555555555556,
              "#d8576b"
             ],
             [
              0.6666666666666666,
              "#ed7953"
             ],
             [
              0.7777777777777778,
              "#fb9f3a"
             ],
             [
              0.8888888888888888,
              "#fdca26"
             ],
             [
              1,
              "#f0f921"
             ]
            ],
            "type": "histogram2d"
           }
          ],
          "histogram2dcontour": [
           {
            "colorbar": {
             "outlinewidth": 0,
             "ticks": ""
            },
            "colorscale": [
             [
              0,
              "#0d0887"
             ],
             [
              0.1111111111111111,
              "#46039f"
             ],
             [
              0.2222222222222222,
              "#7201a8"
             ],
             [
              0.3333333333333333,
              "#9c179e"
             ],
             [
              0.4444444444444444,
              "#bd3786"
             ],
             [
              0.5555555555555556,
              "#d8576b"
             ],
             [
              0.6666666666666666,
              "#ed7953"
             ],
             [
              0.7777777777777778,
              "#fb9f3a"
             ],
             [
              0.8888888888888888,
              "#fdca26"
             ],
             [
              1,
              "#f0f921"
             ]
            ],
            "type": "histogram2dcontour"
           }
          ],
          "mesh3d": [
           {
            "colorbar": {
             "outlinewidth": 0,
             "ticks": ""
            },
            "type": "mesh3d"
           }
          ],
          "parcoords": [
           {
            "line": {
             "colorbar": {
              "outlinewidth": 0,
              "ticks": ""
             }
            },
            "type": "parcoords"
           }
          ],
          "pie": [
           {
            "automargin": true,
            "type": "pie"
           }
          ],
          "scatter": [
           {
            "marker": {
             "colorbar": {
              "outlinewidth": 0,
              "ticks": ""
             }
            },
            "type": "scatter"
           }
          ],
          "scatter3d": [
           {
            "line": {
             "colorbar": {
              "outlinewidth": 0,
              "ticks": ""
             }
            },
            "marker": {
             "colorbar": {
              "outlinewidth": 0,
              "ticks": ""
             }
            },
            "type": "scatter3d"
           }
          ],
          "scattercarpet": [
           {
            "marker": {
             "colorbar": {
              "outlinewidth": 0,
              "ticks": ""
             }
            },
            "type": "scattercarpet"
           }
          ],
          "scattergeo": [
           {
            "marker": {
             "colorbar": {
              "outlinewidth": 0,
              "ticks": ""
             }
            },
            "type": "scattergeo"
           }
          ],
          "scattergl": [
           {
            "marker": {
             "colorbar": {
              "outlinewidth": 0,
              "ticks": ""
             }
            },
            "type": "scattergl"
           }
          ],
          "scattermapbox": [
           {
            "marker": {
             "colorbar": {
              "outlinewidth": 0,
              "ticks": ""
             }
            },
            "type": "scattermapbox"
           }
          ],
          "scatterpolar": [
           {
            "marker": {
             "colorbar": {
              "outlinewidth": 0,
              "ticks": ""
             }
            },
            "type": "scatterpolar"
           }
          ],
          "scatterpolargl": [
           {
            "marker": {
             "colorbar": {
              "outlinewidth": 0,
              "ticks": ""
             }
            },
            "type": "scatterpolargl"
           }
          ],
          "scatterternary": [
           {
            "marker": {
             "colorbar": {
              "outlinewidth": 0,
              "ticks": ""
             }
            },
            "type": "scatterternary"
           }
          ],
          "surface": [
           {
            "colorbar": {
             "outlinewidth": 0,
             "ticks": ""
            },
            "colorscale": [
             [
              0,
              "#0d0887"
             ],
             [
              0.1111111111111111,
              "#46039f"
             ],
             [
              0.2222222222222222,
              "#7201a8"
             ],
             [
              0.3333333333333333,
              "#9c179e"
             ],
             [
              0.4444444444444444,
              "#bd3786"
             ],
             [
              0.5555555555555556,
              "#d8576b"
             ],
             [
              0.6666666666666666,
              "#ed7953"
             ],
             [
              0.7777777777777778,
              "#fb9f3a"
             ],
             [
              0.8888888888888888,
              "#fdca26"
             ],
             [
              1,
              "#f0f921"
             ]
            ],
            "type": "surface"
           }
          ],
          "table": [
           {
            "cells": {
             "fill": {
              "color": "#EBF0F8"
             },
             "line": {
              "color": "white"
             }
            },
            "header": {
             "fill": {
              "color": "#C8D4E3"
             },
             "line": {
              "color": "white"
             }
            },
            "type": "table"
           }
          ]
         },
         "layout": {
          "annotationdefaults": {
           "arrowcolor": "#2a3f5f",
           "arrowhead": 0,
           "arrowwidth": 1
          },
          "autotypenumbers": "strict",
          "coloraxis": {
           "colorbar": {
            "outlinewidth": 0,
            "ticks": ""
           }
          },
          "colorscale": {
           "diverging": [
            [
             0,
             "#8e0152"
            ],
            [
             0.1,
             "#c51b7d"
            ],
            [
             0.2,
             "#de77ae"
            ],
            [
             0.3,
             "#f1b6da"
            ],
            [
             0.4,
             "#fde0ef"
            ],
            [
             0.5,
             "#f7f7f7"
            ],
            [
             0.6,
             "#e6f5d0"
            ],
            [
             0.7,
             "#b8e186"
            ],
            [
             0.8,
             "#7fbc41"
            ],
            [
             0.9,
             "#4d9221"
            ],
            [
             1,
             "#276419"
            ]
           ],
           "sequential": [
            [
             0,
             "#0d0887"
            ],
            [
             0.1111111111111111,
             "#46039f"
            ],
            [
             0.2222222222222222,
             "#7201a8"
            ],
            [
             0.3333333333333333,
             "#9c179e"
            ],
            [
             0.4444444444444444,
             "#bd3786"
            ],
            [
             0.5555555555555556,
             "#d8576b"
            ],
            [
             0.6666666666666666,
             "#ed7953"
            ],
            [
             0.7777777777777778,
             "#fb9f3a"
            ],
            [
             0.8888888888888888,
             "#fdca26"
            ],
            [
             1,
             "#f0f921"
            ]
           ],
           "sequentialminus": [
            [
             0,
             "#0d0887"
            ],
            [
             0.1111111111111111,
             "#46039f"
            ],
            [
             0.2222222222222222,
             "#7201a8"
            ],
            [
             0.3333333333333333,
             "#9c179e"
            ],
            [
             0.4444444444444444,
             "#bd3786"
            ],
            [
             0.5555555555555556,
             "#d8576b"
            ],
            [
             0.6666666666666666,
             "#ed7953"
            ],
            [
             0.7777777777777778,
             "#fb9f3a"
            ],
            [
             0.8888888888888888,
             "#fdca26"
            ],
            [
             1,
             "#f0f921"
            ]
           ]
          },
          "colorway": [
           "#636efa",
           "#EF553B",
           "#00cc96",
           "#ab63fa",
           "#FFA15A",
           "#19d3f3",
           "#FF6692",
           "#B6E880",
           "#FF97FF",
           "#FECB52"
          ],
          "font": {
           "color": "#2a3f5f"
          },
          "geo": {
           "bgcolor": "white",
           "lakecolor": "white",
           "landcolor": "#E5ECF6",
           "showlakes": true,
           "showland": true,
           "subunitcolor": "white"
          },
          "hoverlabel": {
           "align": "left"
          },
          "hovermode": "closest",
          "mapbox": {
           "style": "light"
          },
          "paper_bgcolor": "white",
          "plot_bgcolor": "#E5ECF6",
          "polar": {
           "angularaxis": {
            "gridcolor": "white",
            "linecolor": "white",
            "ticks": ""
           },
           "bgcolor": "#E5ECF6",
           "radialaxis": {
            "gridcolor": "white",
            "linecolor": "white",
            "ticks": ""
           }
          },
          "scene": {
           "xaxis": {
            "backgroundcolor": "#E5ECF6",
            "gridcolor": "white",
            "gridwidth": 2,
            "linecolor": "white",
            "showbackground": true,
            "ticks": "",
            "zerolinecolor": "white"
           },
           "yaxis": {
            "backgroundcolor": "#E5ECF6",
            "gridcolor": "white",
            "gridwidth": 2,
            "linecolor": "white",
            "showbackground": true,
            "ticks": "",
            "zerolinecolor": "white"
           },
           "zaxis": {
            "backgroundcolor": "#E5ECF6",
            "gridcolor": "white",
            "gridwidth": 2,
            "linecolor": "white",
            "showbackground": true,
            "ticks": "",
            "zerolinecolor": "white"
           }
          },
          "shapedefaults": {
           "line": {
            "color": "#2a3f5f"
           }
          },
          "ternary": {
           "aaxis": {
            "gridcolor": "white",
            "linecolor": "white",
            "ticks": ""
           },
           "baxis": {
            "gridcolor": "white",
            "linecolor": "white",
            "ticks": ""
           },
           "bgcolor": "#E5ECF6",
           "caxis": {
            "gridcolor": "white",
            "linecolor": "white",
            "ticks": ""
           }
          },
          "title": {
           "x": 0.05
          },
          "xaxis": {
           "automargin": true,
           "gridcolor": "white",
           "linecolor": "white",
           "ticks": "",
           "title": {
            "standoff": 15
           },
           "zerolinecolor": "white",
           "zerolinewidth": 2
          },
          "yaxis": {
           "automargin": true,
           "gridcolor": "white",
           "linecolor": "white",
           "ticks": "",
           "title": {
            "standoff": 15
           },
           "zerolinecolor": "white",
           "zerolinewidth": 2
          }
         }
        },
        "xaxis": {
         "anchor": "y",
         "autorange": true,
         "domain": [
          0,
          1
         ],
         "range": [
          -0.5,
          0.5
         ],
         "title": {
          "text": "variable"
         },
         "type": "category"
        },
        "yaxis": {
         "anchor": "x",
         "autorange": true,
         "domain": [
          0,
          1
         ],
         "range": [
          -14.166666666666686,
          3889.1666666666665
         ],
         "title": {
          "text": "value"
         },
         "type": "linear"
        }
       }
      },
      "image/png": "[encoded data removed]",
      "text/html": [
       "<div>                            <div id=\"65e4c5d7-f444-4517-9383-cf13088dcf75\" class=\"plotly-graph-div\" style=\"height:525px; width:100%;\"></div>            <script type=\"text/javascript\">                require([\"plotly\"], function(Plotly) {                    window.PLOTLYENV=window.PLOTLYENV || {};                                    if (document.getElementById(\"65e4c5d7-f444-4517-9383-cf13088dcf75\")) {                    Plotly.newPlot(                        \"65e4c5d7-f444-4517-9383-cf13088dcf75\",                        [{\"alignmentgroup\": \"True\", \"hovertemplate\": \"variable=%{x}<br>value=%{y}<extra></extra>\", \"legendgroup\": \"\", \"marker\": {\"color\": \"#636efa\"}, \"name\": \"\", \"notched\": false, \"offsetgroup\": \"\", \"orientation\": \"v\", \"showlegend\": false, \"type\": \"box\", \"x\": [\"time_OS\", \"time_OS\", \"time_OS\", \"time_OS\", \"time_OS\", \"time_OS\", \"time_OS\", \"time_OS\", \"time_OS\", \"time_OS\", \"time_OS\", \"time_OS\", \"time_OS\", \"time_OS\", \"time_OS\", \"time_OS\", \"time_OS\", \"time_OS\", \"time_OS\", \"time_OS\", \"time_OS\", \"time_OS\", \"time_OS\", \"time_OS\", \"time_OS\", \"time_OS\", \"time_OS\", \"time_OS\", \"time_OS\", \"time_OS\", \"time_OS\", \"time_OS\", \"time_OS\", \"time_OS\", \"time_OS\", \"time_OS\", \"time_OS\", \"time_OS\", \"time_OS\", \"time_OS\", \"time_OS\", \"time_OS\", \"time_OS\", \"time_OS\", \"time_OS\", \"time_OS\", \"time_OS\", \"time_OS\", \"time_OS\", \"time_OS\", \"time_OS\", \"time_OS\", \"time_OS\", \"time_OS\", \"time_OS\", \"time_OS\", \"time_OS\", \"time_OS\", \"time_OS\", \"time_OS\", \"time_OS\", \"time_OS\", \"time_OS\", \"time_OS\", \"time_OS\", \"time_OS\", \"time_OS\", \"time_OS\", \"time_OS\", \"time_OS\", \"time_OS\", \"time_OS\", \"time_OS\", \"time_OS\", \"time_OS\", \"time_OS\", \"time_OS\", \"time_OS\", \"time_OS\", \"time_OS\", \"time_OS\", \"time_OS\", \"time_OS\", \"time_OS\", \"time_OS\", \"time_OS\", \"time_OS\", \"time_OS\", \"time_OS\", \"time_OS\", \"time_OS\", \"time_OS\", \"time_OS\", \"time_OS\", \"time_OS\", \"time_OS\", \"time_OS\", \"time_OS\", \"time_OS\", \"time_OS\", \"time_OS\", \"time_OS\", \"time_OS\", \"time_OS\", \"time_OS\", \"time_OS\", \"time_OS\", \"time_OS\", \"time_OS\", \"time_OS\", \"time_OS\", \"time_OS\", \"time_OS\", \"time_OS\", \"time_OS\", \"time_OS\", \"time_OS\", \"time_OS\", \"time_OS\", \"time_OS\", \"time_OS\", \"time_OS\", \"time_OS\", \"time_OS\", \"time_OS\", \"time_OS\", \"time_OS\", \"time_OS\", \"time_OS\", \"time_OS\", \"time_OS\", \"time_OS\", \"time_OS\", \"time_OS\", \"time_OS\", \"time_OS\", \"time_OS\", \"time_OS\", \"time_OS\", \"time_OS\", \"time_OS\", \"time_OS\", \"time_OS\", \"time_OS\", \"time_OS\", \"time_OS\", \"time_OS\", \"time_OS\", \"time_OS\", \"time_OS\", \"time_OS\", \"time_OS\", \"time_OS\", \"time_OS\", \"time_OS\", \"time_OS\", \"time_OS\", \"time_OS\", \"time_OS\", \"time_OS\", \"time_OS\", \"time_OS\", \"time_OS\", \"time_OS\", \"time_OS\", \"time_OS\", \"time_OS\", \"time_OS\", \"time_OS\", \"time_OS\", \"time_OS\", \"time_OS\", \"time_OS\", \"time_OS\", \"time_OS\", \"time_OS\", \"time_OS\", \"time_OS\", \"time_OS\", \"time_OS\", \"time_OS\", \"time_OS\"], \"x0\": \" \", \"xaxis\": \"x\", \"y\": [2628.0, 1786.0, 261.0, 1100.0, 258.0, 2467.0, 1703.0, 2419.0, 1248.0, 400.0, 1676.0, 1156.0, 2014.0, 1387.0, 428.0, 990.0, 1223.0, 1601.0, 409.0, 743.0, 764.0, 590.0, 460.0, 944.0, 1746.0, 1187.0, 2307.0, 637.0, 1465.0, 1352.0, 1560.0, 423.0, 2456.0, 3493.0, 2739.0, 2053.0, 2188.0, 181.0, 1205.0, 854.0, 1344.0, 1025.0, 445.0, 242.0, 1210.0, 2374.0, 775.0, 1415.0, 343.0, 829.0, 2984.0, 1467.0, 1019.0, 780.0, 614.0, 615.0, 272.0, null, 773.0, 1885.0, 1404.0, 1538.0, 2618.0, 434.0, 1295.0, 1138.0, 2744.0, 1613.0, 2868.0, 453.0, 641.0, 1370.0, 1040.0, 1385.0, 3199.0, 1042.0, 321.0, 607.0, 1555.0, 662.0, 1323.0, 2179.0, null, 1313.0, 904.0, 2483.0, 1379.0, 2141.0, 816.0, 1571.0, 712.0, 717.0, 868.0, 2440.0, 1452.0, 1216.0, 2107.0, 2318.0, 1202.0, 882.0, 2709.0, 806.0, 1742.0, 1395.0, 2058.0, 3017.0, 1084.0, 3031.0, 1592.0, 2520.0, 2864.0, 2062.0, 1008.0, 1153.0, 2184.0, 2176.0, 621.0, 355.0, 349.0, 1707.0, 2518.0, 590.0, 1332.0, 1131.0, 1918.0, 1263.0, 2052.0, 1427.0, 686.0, 1313.0, 2228.0, 2168.0, 1437.0, 2116.0, 2049.0, 2803.0, 760.0, 1122.0, 2629.0, 1272.0, 1484.0, 1265.0, 882.0, 1698.0, 2283.0, 1195.0, 2665.0, 1966.0, 1868.0, 1452.0, 868.0, 2581.0, 2017.0, 1851.0, 1792.0, 2969.0, 1097.0, null, 1203.0, 1579.0, 2280.0, 522.0, 3694.0, 2999.0, 1127.0, null, 975.0, 1512.0, 1187.0, 2759.0, 2639.0, 2700.0, 1005.0, 2991.0, 1392.0, 703.0, 1036.0, 2024.0, 2213.0, 2036.0, 1949.0, 1658.0], \"y0\": \" \", \"yaxis\": \"y\"}],                        {\"boxmode\": \"group\", \"legend\": {\"tracegroupgap\": 0}, \"margin\": {\"t\": 60}, \"template\": {\"data\": {\"bar\": [{\"error_x\": {\"color\": \"#2a3f5f\"}, \"error_y\": {\"color\": \"#2a3f5f\"}, \"marker\": {\"line\": {\"color\": \"#E5ECF6\", \"width\": 0.5}}, \"type\": \"bar\"}], \"barpolar\": [{\"marker\": {\"line\": {\"color\": \"#E5ECF6\", \"width\": 0.5}}, \"type\": \"barpolar\"}], \"carpet\": [{\"aaxis\": {\"endlinecolor\": \"#2a3f5f\", \"gridcolor\": \"white\", \"linecolor\": \"white\", \"minorgridcolor\": \"white\", \"startlinecolor\": \"#2a3f5f\"}, \"baxis\": {\"endlinecolor\": \"#2a3f5f\", \"gridcolor\": \"white\", \"linecolor\": \"white\", \"minorgridcolor\": \"white\", \"startlinecolor\": \"#2a3f5f\"}, \"type\": \"carpet\"}], \"choropleth\": [{\"colorbar\": {\"outlinewidth\": 0, \"ticks\": \"\"}, \"type\": \"choropleth\"}], \"contour\": [{\"colorbar\": {\"outlinewidth\": 0, \"ticks\": \"\"}, \"colorscale\": [[0.0, \"#0d0887\"], [0.1111111111111111, \"#46039f\"], [0.2222222222222222, \"#7201a8\"], [0.3333333333333333, \"#9c179e\"], [0.4444444444444444, \"#bd3786\"], [0.5555555555555556, \"#d8576b\"], [0.6666666666666666, \"#ed7953\"], [0.7777777777777778, \"#fb9f3a\"], [0.8888888888888888, \"#fdca26\"], [1.0, \"#f0f921\"]], \"type\": \"contour\"}], \"contourcarpet\": [{\"colorbar\": {\"outlinewidth\": 0, \"ticks\": \"\"}, \"type\": \"contourcarpet\"}], \"heatmap\": [{\"colorbar\": {\"outlinewidth\": 0, \"ticks\": \"\"}, \"colorscale\": [[0.0, \"#0d0887\"], [0.1111111111111111, \"#46039f\"], [0.2222222222222222, \"#7201a8\"], [0.3333333333333333, \"#9c179e\"], [0.4444444444444444, \"#bd3786\"], [0.5555555555555556, \"#d8576b\"], [0.6666666666666666, \"#ed7953\"], [0.7777777777777778, \"#fb9f3a\"], [0.8888888888888888, \"#fdca26\"], [1.0, \"#f0f921\"]], \"type\": \"heatmap\"}], \"heatmapgl\": [{\"colorbar\": {\"outlinewidth\": 0, \"ticks\": \"\"}, \"colorscale\": [[0.0, \"#0d0887\"], [0.1111111111111111, \"#46039f\"], [0.2222222222222222, \"#7201a8\"], [0.3333333333333333, \"#9c179e\"], [0.4444444444444444, \"#bd3786\"], [0.5555555555555556, \"#d8576b\"], [0.6666666666666666, \"#ed7953\"], [0.7777777777777778, \"#fb9f3a\"], [0.8888888888888888, \"#fdca26\"], [1.0, \"#f0f921\"]], \"type\": \"heatmapgl\"}], \"histogram\": [{\"marker\": {\"colorbar\": {\"outlinewidth\": 0, \"ticks\": \"\"}}, \"type\": \"histogram\"}], \"histogram2d\": [{\"colorbar\": {\"outlinewidth\": 0, \"ticks\": \"\"}, \"colorscale\": [[0.0, \"#0d0887\"], [0.1111111111111111, \"#46039f\"], [0.2222222222222222, \"#7201a8\"], [0.3333333333333333, \"#9c179e\"], [0.4444444444444444, \"#bd3786\"], [0.5555555555555556, \"#d8576b\"], [0.6666666666666666, \"#ed7953\"], [0.7777777777777778, \"#fb9f3a\"], [0.8888888888888888, \"#fdca26\"], [1.0, \"#f0f921\"]], \"type\": \"histogram2d\"}], \"histogram2dcontour\": [{\"colorbar\": {\"outlinewidth\": 0, \"ticks\": \"\"}, \"colorscale\": [[0.0, \"#0d0887\"], [0.1111111111111111, \"#46039f\"], [0.2222222222222222, \"#7201a8\"], [0.3333333333333333, \"#9c179e\"], [0.4444444444444444, \"#bd3786\"], [0.5555555555555556, \"#d8576b\"], [0.6666666666666666, \"#ed7953\"], [0.7777777777777778, \"#fb9f3a\"], [0.8888888888888888, \"#fdca26\"], [1.0, \"#f0f921\"]], \"type\": \"histogram2dcontour\"}], \"mesh3d\": [{\"colorbar\": {\"outlinewidth\": 0, \"ticks\": \"\"}, \"type\": \"mesh3d\"}], \"parcoords\": [{\"line\": {\"colorbar\": {\"outlinewidth\": 0, \"ticks\": \"\"}}, \"type\": \"parcoords\"}], \"pie\": [{\"automargin\": true, \"type\": \"pie\"}], \"scatter\": [{\"marker\": {\"colorbar\": {\"outlinewidth\": 0, \"ticks\": \"\"}}, \"type\": \"scatter\"}], \"scatter3d\": [{\"line\": {\"colorbar\": {\"outlinewidth\": 0, \"ticks\": \"\"}}, \"marker\": {\"colorbar\": {\"outlinewidth\": 0, \"ticks\": \"\"}}, \"type\": \"scatter3d\"}], \"scattercarpet\": [{\"marker\": {\"colorbar\": {\"outlinewidth\": 0, \"ticks\": \"\"}}, \"type\": \"scattercarpet\"}], \"scattergeo\": [{\"marker\": {\"colorbar\": {\"outlinewidth\": 0, \"ticks\": \"\"}}, \"type\": \"scattergeo\"}], \"scattergl\": [{\"marker\": {\"colorbar\": {\"outlinewidth\": 0, \"ticks\": \"\"}}, \"type\": \"scattergl\"}], \"scattermapbox\": [{\"marker\": {\"colorbar\": {\"outlinewidth\": 0, \"ticks\": \"\"}}, \"type\": \"scattermapbox\"}], \"scatterpolar\": [{\"marker\": {\"colorbar\": {\"outlinewidth\": 0, \"ticks\": \"\"}}, \"type\": \"scatterpolar\"}], \"scatterpolargl\": [{\"marker\": {\"colorbar\": {\"outlinewidth\": 0, \"ticks\": \"\"}}, \"type\": \"scatterpolargl\"}], \"scatterternary\": [{\"marker\": {\"colorbar\": {\"outlinewidth\": 0, \"ticks\": \"\"}}, \"type\": \"scatterternary\"}], \"surface\": [{\"colorbar\": {\"outlinewidth\": 0, \"ticks\": \"\"}, \"colorscale\": [[0.0, \"#0d0887\"], [0.1111111111111111, \"#46039f\"], [0.2222222222222222, \"#7201a8\"], [0.3333333333333333, \"#9c179e\"], [0.4444444444444444, \"#bd3786\"], [0.5555555555555556, \"#d8576b\"], [0.6666666666666666, \"#ed7953\"], [0.7777777777777778, \"#fb9f3a\"], [0.8888888888888888, \"#fdca26\"], [1.0, \"#f0f921\"]], \"type\": \"surface\"}], \"table\": [{\"cells\": {\"fill\": {\"color\": \"#EBF0F8\"}, \"line\": {\"color\": \"white\"}}, \"header\": {\"fill\": {\"color\": \"#C8D4E3\"}, \"line\": {\"color\": \"white\"}}, \"type\": \"table\"}]}, \"layout\": {\"annotationdefaults\": {\"arrowcolor\": \"#2a3f5f\", \"arrowhead\": 0, \"arrowwidth\": 1}, \"autotypenumbers\": \"strict\", \"coloraxis\": {\"colorbar\": {\"outlinewidth\": 0, \"ticks\": \"\"}}, \"colorscale\": {\"diverging\": [[0, \"#8e0152\"], [0.1, \"#c51b7d\"], [0.2, \"#de77ae\"], [0.3, \"#f1b6da\"], [0.4, \"#fde0ef\"], [0.5, \"#f7f7f7\"], [0.6, \"#e6f5d0\"], [0.7, \"#b8e186\"], [0.8, \"#7fbc41\"], [0.9, \"#4d9221\"], [1, \"#276419\"]], \"sequential\": [[0.0, \"#0d0887\"], [0.1111111111111111, \"#46039f\"], [0.2222222222222222, \"#7201a8\"], [0.3333333333333333, \"#9c179e\"], [0.4444444444444444, \"#bd3786\"], [0.5555555555555556, \"#d8576b\"], [0.6666666666666666, \"#ed7953\"], [0.7777777777777778, \"#fb9f3a\"], [0.8888888888888888, \"#fdca26\"], [1.0, \"#f0f921\"]], \"sequentialminus\": [[0.0, \"#0d0887\"], [0.1111111111111111, \"#46039f\"], [0.2222222222222222, \"#7201a8\"], [0.3333333333333333, \"#9c179e\"], [0.4444444444444444, \"#bd3786\"], [0.5555555555555556, \"#d8576b\"], [0.6666666666666666, \"#ed7953\"], [0.7777777777777778, \"#fb9f3a\"], [0.8888888888888888, \"#fdca26\"], [1.0, \"#f0f921\"]]}, \"colorway\": [\"#636efa\", \"#EF553B\", \"#00cc96\", \"#ab63fa\", \"#FFA15A\", \"#19d3f3\", \"#FF6692\", \"#B6E880\", \"#FF97FF\", \"#FECB52\"], \"font\": {\"color\": \"#2a3f5f\"}, \"geo\": {\"bgcolor\": \"white\", \"lakecolor\": \"white\", \"landcolor\": \"#E5ECF6\", \"showlakes\": true, \"showland\": true, \"subunitcolor\": \"white\"}, \"hoverlabel\": {\"align\": \"left\"}, \"hovermode\": \"closest\", \"mapbox\": {\"style\": \"light\"}, \"paper_bgcolor\": \"white\", \"plot_bgcolor\": \"#E5ECF6\", \"polar\": {\"angularaxis\": {\"gridcolor\": \"white\", \"linecolor\": \"white\", \"ticks\": \"\"}, \"bgcolor\": \"#E5ECF6\", \"radialaxis\": {\"gridcolor\": \"white\", \"linecolor\": \"white\", \"ticks\": \"\"}}, \"scene\": {\"xaxis\": {\"backgroundcolor\": \"#E5ECF6\", \"gridcolor\": \"white\", \"gridwidth\": 2, \"linecolor\": \"white\", \"showbackground\": true, \"ticks\": \"\", \"zerolinecolor\": \"white\"}, \"yaxis\": {\"backgroundcolor\": \"#E5ECF6\", \"gridcolor\": \"white\", \"gridwidth\": 2, \"linecolor\": \"white\", \"showbackground\": true, \"ticks\": \"\", \"zerolinecolor\": \"white\"}, \"zaxis\": {\"backgroundcolor\": \"#E5ECF6\", \"gridcolor\": \"white\", \"gridwidth\": 2, \"linecolor\": \"white\", \"showbackground\": true, \"ticks\": \"\", \"zerolinecolor\": \"white\"}}, \"shapedefaults\": {\"line\": {\"color\": \"#2a3f5f\"}}, \"ternary\": {\"aaxis\": {\"gridcolor\": \"white\", \"linecolor\": \"white\", \"ticks\": \"\"}, \"baxis\": {\"gridcolor\": \"white\", \"linecolor\": \"white\", \"ticks\": \"\"}, \"bgcolor\": \"#E5ECF6\", \"caxis\": {\"gridcolor\": \"white\", \"linecolor\": \"white\", \"ticks\": \"\"}}, \"title\": {\"x\": 0.05}, \"xaxis\": {\"automargin\": true, \"gridcolor\": \"white\", \"linecolor\": \"white\", \"ticks\": \"\", \"title\": {\"standoff\": 15}, \"zerolinecolor\": \"white\", \"zerolinewidth\": 2}, \"yaxis\": {\"automargin\": true, \"gridcolor\": \"white\", \"linecolor\": \"white\", \"ticks\": \"\", \"title\": {\"standoff\": 15}, \"zerolinecolor\": \"white\", \"zerolinewidth\": 2}}}, \"xaxis\": {\"anchor\": \"y\", \"domain\": [0.0, 1.0], \"title\": {\"text\": \"variable\"}}, \"yaxis\": {\"anchor\": \"x\", \"domain\": [0.0, 1.0], \"title\": {\"text\": \"value\"}}},                        {\"responsive\": true}                    ).then(function(){\n",
       "                            \n",
       "var gd = document.getElementById('65e4c5d7-f444-4517-9383-cf13088dcf75');\n",
       "var x = new MutationObserver(function (mutations, observer) {{\n",
       "        var display = window.getComputedStyle(gd).display;\n",
       "        if (!display || display === 'none') {{\n",
       "            console.log([gd, 'removed!']);\n",
       "            Plotly.purge(gd);\n",
       "            observer.disconnect();\n",
       "        }}\n",
       "}});\n",
       "\n",
       "// Listen for the removal of the full notebook cells\n",
       "var notebookContainer = gd.closest('#notebook-container');\n",
       "if (notebookContainer) {{\n",
       "    x.observe(notebookContainer, {childList: true});\n",
       "}}\n",
       "\n",
       "// Listen for the clearing of the current output cell\n",
       "var outputEl = gd.closest('.output');\n",
       "if (outputEl) {{\n",
       "    x.observe(outputEl, {childList: true});\n",
       "}}\n",
       "\n",
       "                        })                };                });            </script>        </div>"
      ]
     },
     "metadata": {},
     "output_type": "display_data"
    }
   ],
   "source": [
    "# Survie globale jusqu’à la dernière date de suivi\n",
    "px.box(data_all.time_OS)"
   ]
  },
  {
   "cell_type": "code",
   "execution_count": 34,
   "id": "158addfc-0bd2-4a58-88d0-b61944c0ee19",
   "metadata": {},
   "outputs": [
    {
     "data": {
      "application/vnd.plotly.v1+json": {
       "config": {
        "plotlyServerURL": "https://plot.ly"
       },
       "data": [
        {
         "alignmentgroup": "True",
         "hovertemplate": "variable=%{x}<br>value=%{y}<extra></extra>",
         "legendgroup": "",
         "marker": {
          "color": "#636efa"
         },
         "name": "",
         "notched": false,
         "offsetgroup": "",
         "orientation": "v",
         "showlegend": false,
         "type": "box",
         "x": [
          "time_PFS",
          "time_PFS",
          "time_PFS",
          "time_PFS",
          "time_PFS",
          "time_PFS",
          "time_PFS",
          "time_PFS",
          "time_PFS",
          "time_PFS",
          "time_PFS",
          "time_PFS",
          "time_PFS",
          "time_PFS",
          "time_PFS",
          "time_PFS",
          "time_PFS",
          "time_PFS",
          "time_PFS",
          "time_PFS",
          "time_PFS",
          "time_PFS",
          "time_PFS",
          "time_PFS",
          "time_PFS",
          "time_PFS",
          "time_PFS",
          "time_PFS",
          "time_PFS",
          "time_PFS",
          "time_PFS",
          "time_PFS",
          "time_PFS",
          "time_PFS",
          "time_PFS",
          "time_PFS",
          "time_PFS",
          "time_PFS",
          "time_PFS",
          "time_PFS",
          "time_PFS",
          "time_PFS",
          "time_PFS",
          "time_PFS",
          "time_PFS",
          "time_PFS",
          "time_PFS",
          "time_PFS",
          "time_PFS",
          "time_PFS",
          "time_PFS",
          "time_PFS",
          "time_PFS",
          "time_PFS",
          "time_PFS",
          "time_PFS",
          "time_PFS",
          "time_PFS",
          "time_PFS",
          "time_PFS",
          "time_PFS",
          "time_PFS",
          "time_PFS",
          "time_PFS",
          "time_PFS",
          "time_PFS",
          "time_PFS",
          "time_PFS",
          "time_PFS",
          "time_PFS",
          "time_PFS",
          "time_PFS",
          "time_PFS",
          "time_PFS",
          "time_PFS",
          "time_PFS",
          "time_PFS",
          "time_PFS",
          "time_PFS",
          "time_PFS",
          "time_PFS",
          "time_PFS",
          "time_PFS",
          "time_PFS",
          "time_PFS",
          "time_PFS",
          "time_PFS",
          "time_PFS",
          "time_PFS",
          "time_PFS",
          "time_PFS",
          "time_PFS",
          "time_PFS",
          "time_PFS",
          "time_PFS",
          "time_PFS",
          "time_PFS",
          "time_PFS",
          "time_PFS",
          "time_PFS",
          "time_PFS",
          "time_PFS",
          "time_PFS",
          "time_PFS",
          "time_PFS",
          "time_PFS",
          "time_PFS",
          "time_PFS",
          "time_PFS",
          "time_PFS",
          "time_PFS",
          "time_PFS",
          "time_PFS",
          "time_PFS",
          "time_PFS",
          "time_PFS",
          "time_PFS",
          "time_PFS",
          "time_PFS",
          "time_PFS",
          "time_PFS",
          "time_PFS",
          "time_PFS",
          "time_PFS",
          "time_PFS",
          "time_PFS",
          "time_PFS",
          "time_PFS",
          "time_PFS",
          "time_PFS",
          "time_PFS",
          "time_PFS",
          "time_PFS",
          "time_PFS",
          "time_PFS",
          "time_PFS",
          "time_PFS",
          "time_PFS",
          "time_PFS",
          "time_PFS",
          "time_PFS",
          "time_PFS",
          "time_PFS",
          "time_PFS",
          "time_PFS",
          "time_PFS",
          "time_PFS",
          "time_PFS",
          "time_PFS",
          "time_PFS",
          "time_PFS",
          "time_PFS",
          "time_PFS",
          "time_PFS",
          "time_PFS",
          "time_PFS",
          "time_PFS",
          "time_PFS",
          "time_PFS",
          "time_PFS",
          "time_PFS",
          "time_PFS",
          "time_PFS",
          "time_PFS",
          "time_PFS",
          "time_PFS",
          "time_PFS",
          "time_PFS",
          "time_PFS",
          "time_PFS",
          "time_PFS",
          "time_PFS",
          "time_PFS",
          "time_PFS",
          "time_PFS",
          "time_PFS",
          "time_PFS",
          "time_PFS",
          "time_PFS",
          "time_PFS",
          "time_PFS",
          "time_PFS"
         ],
         "x0": " ",
         "xaxis": "x",
         "y": [
          null,
          1412,
          59,
          63,
          61,
          null,
          null,
          null,
          498,
          313,
          null,
          null,
          698,
          573,
          270,
          458,
          null,
          805,
          336,
          579,
          null,
          378,
          250,
          null,
          null,
          374,
          932,
          637,
          436,
          null,
          null,
          195,
          null,
          559,
          564,
          null,
          null,
          72,
          null,
          null,
          1336,
          null,
          122,
          99,
          611,
          742,
          null,
          687,
          76,
          595,
          515,
          null,
          514,
          727,
          352,
          59,
          70,
          null,
          46,
          952,
          null,
          null,
          null,
          286,
          null,
          null,
          null,
          null,
          null,
          308,
          518,
          null,
          null,
          null,
          null,
          593,
          null,
          null,
          1107,
          529,
          null,
          669,
          null,
          null,
          59,
          null,
          984,
          null,
          390,
          1039,
          394,
          null,
          397,
          550,
          629,
          1013,
          null,
          877,
          null,
          null,
          null,
          null,
          null,
          363,
          null,
          637,
          null,
          2786,
          null,
          650,
          null,
          null,
          null,
          511,
          null,
          null,
          null,
          null,
          null,
          null,
          1208,
          202,
          null,
          435,
          496,
          null,
          null,
          null,
          null,
          null,
          null,
          663,
          null,
          null,
          null,
          null,
          525,
          null,
          null,
          null,
          null,
          null,
          null,
          null,
          null,
          null,
          null,
          1260,
          524,
          null,
          null,
          null,
          null,
          null,
          null,
          null,
          517,
          null,
          null,
          null,
          null,
          290,
          null,
          null,
          null,
          null,
          null,
          null,
          null,
          616,
          null,
          null,
          441,
          680,
          null,
          289,
          null,
          1384,
          1974,
          null,
          609,
          null
         ],
         "y0": " ",
         "yaxis": "y"
        }
       ],
       "layout": {
        "autosize": true,
        "boxmode": "group",
        "legend": {
         "tracegroupgap": 0
        },
        "margin": {
         "t": 60
        },
        "template": {
         "data": {
          "bar": [
           {
            "error_x": {
             "color": "#2a3f5f"
            },
            "error_y": {
             "color": "#2a3f5f"
            },
            "marker": {
             "line": {
              "color": "#E5ECF6",
              "width": 0.5
             }
            },
            "type": "bar"
           }
          ],
          "barpolar": [
           {
            "marker": {
             "line": {
              "color": "#E5ECF6",
              "width": 0.5
             }
            },
            "type": "barpolar"
           }
          ],
          "carpet": [
           {
            "aaxis": {
             "endlinecolor": "#2a3f5f",
             "gridcolor": "white",
             "linecolor": "white",
             "minorgridcolor": "white",
             "startlinecolor": "#2a3f5f"
            },
            "baxis": {
             "endlinecolor": "#2a3f5f",
             "gridcolor": "white",
             "linecolor": "white",
             "minorgridcolor": "white",
             "startlinecolor": "#2a3f5f"
            },
            "type": "carpet"
           }
          ],
          "choropleth": [
           {
            "colorbar": {
             "outlinewidth": 0,
             "ticks": ""
            },
            "type": "choropleth"
           }
          ],
          "contour": [
           {
            "colorbar": {
             "outlinewidth": 0,
             "ticks": ""
            },
            "colorscale": [
             [
              0,
              "#0d0887"
             ],
             [
              0.1111111111111111,
              "#46039f"
             ],
             [
              0.2222222222222222,
              "#7201a8"
             ],
             [
              0.3333333333333333,
              "#9c179e"
             ],
             [
              0.4444444444444444,
              "#bd3786"
             ],
             [
              0.5555555555555556,
              "#d8576b"
             ],
             [
              0.6666666666666666,
              "#ed7953"
             ],
             [
              0.7777777777777778,
              "#fb9f3a"
             ],
             [
              0.8888888888888888,
              "#fdca26"
             ],
             [
              1,
              "#f0f921"
             ]
            ],
            "type": "contour"
           }
          ],
          "contourcarpet": [
           {
            "colorbar": {
             "outlinewidth": 0,
             "ticks": ""
            },
            "type": "contourcarpet"
           }
          ],
          "heatmap": [
           {
            "colorbar": {
             "outlinewidth": 0,
             "ticks": ""
            },
            "colorscale": [
             [
              0,
              "#0d0887"
             ],
             [
              0.1111111111111111,
              "#46039f"
             ],
             [
              0.2222222222222222,
              "#7201a8"
             ],
             [
              0.3333333333333333,
              "#9c179e"
             ],
             [
              0.4444444444444444,
              "#bd3786"
             ],
             [
              0.5555555555555556,
              "#d8576b"
             ],
             [
              0.6666666666666666,
              "#ed7953"
             ],
             [
              0.7777777777777778,
              "#fb9f3a"
             ],
             [
              0.8888888888888888,
              "#fdca26"
             ],
             [
              1,
              "#f0f921"
             ]
            ],
            "type": "heatmap"
           }
          ],
          "heatmapgl": [
           {
            "colorbar": {
             "outlinewidth": 0,
             "ticks": ""
            },
            "colorscale": [
             [
              0,
              "#0d0887"
             ],
             [
              0.1111111111111111,
              "#46039f"
             ],
             [
              0.2222222222222222,
              "#7201a8"
             ],
             [
              0.3333333333333333,
              "#9c179e"
             ],
             [
              0.4444444444444444,
              "#bd3786"
             ],
             [
              0.5555555555555556,
              "#d8576b"
             ],
             [
              0.6666666666666666,
              "#ed7953"
             ],
             [
              0.7777777777777778,
              "#fb9f3a"
             ],
             [
              0.8888888888888888,
              "#fdca26"
             ],
             [
              1,
              "#f0f921"
             ]
            ],
            "type": "heatmapgl"
           }
          ],
          "histogram": [
           {
            "marker": {
             "colorbar": {
              "outlinewidth": 0,
              "ticks": ""
             }
            },
            "type": "histogram"
           }
          ],
          "histogram2d": [
           {
            "colorbar": {
             "outlinewidth": 0,
             "ticks": ""
            },
            "colorscale": [
             [
              0,
              "#0d0887"
             ],
             [
              0.1111111111111111,
              "#46039f"
             ],
             [
              0.2222222222222222,
              "#7201a8"
             ],
             [
              0.3333333333333333,
              "#9c179e"
             ],
             [
              0.4444444444444444,
              "#bd3786"
             ],
             [
              0.5555555555555556,
              "#d8576b"
             ],
             [
              0.6666666666666666,
              "#ed7953"
             ],
             [
              0.7777777777777778,
              "#fb9f3a"
             ],
             [
              0.8888888888888888,
              "#fdca26"
             ],
             [
              1,
              "#f0f921"
             ]
            ],
            "type": "histogram2d"
           }
          ],
          "histogram2dcontour": [
           {
            "colorbar": {
             "outlinewidth": 0,
             "ticks": ""
            },
            "colorscale": [
             [
              0,
              "#0d0887"
             ],
             [
              0.1111111111111111,
              "#46039f"
             ],
             [
              0.2222222222222222,
              "#7201a8"
             ],
             [
              0.3333333333333333,
              "#9c179e"
             ],
             [
              0.4444444444444444,
              "#bd3786"
             ],
             [
              0.5555555555555556,
              "#d8576b"
             ],
             [
              0.6666666666666666,
              "#ed7953"
             ],
             [
              0.7777777777777778,
              "#fb9f3a"
             ],
             [
              0.8888888888888888,
              "#fdca26"
             ],
             [
              1,
              "#f0f921"
             ]
            ],
            "type": "histogram2dcontour"
           }
          ],
          "mesh3d": [
           {
            "colorbar": {
             "outlinewidth": 0,
             "ticks": ""
            },
            "type": "mesh3d"
           }
          ],
          "parcoords": [
           {
            "line": {
             "colorbar": {
              "outlinewidth": 0,
              "ticks": ""
             }
            },
            "type": "parcoords"
           }
          ],
          "pie": [
           {
            "automargin": true,
            "type": "pie"
           }
          ],
          "scatter": [
           {
            "marker": {
             "colorbar": {
              "outlinewidth": 0,
              "ticks": ""
             }
            },
            "type": "scatter"
           }
          ],
          "scatter3d": [
           {
            "line": {
             "colorbar": {
              "outlinewidth": 0,
              "ticks": ""
             }
            },
            "marker": {
             "colorbar": {
              "outlinewidth": 0,
              "ticks": ""
             }
            },
            "type": "scatter3d"
           }
          ],
          "scattercarpet": [
           {
            "marker": {
             "colorbar": {
              "outlinewidth": 0,
              "ticks": ""
             }
            },
            "type": "scattercarpet"
           }
          ],
          "scattergeo": [
           {
            "marker": {
             "colorbar": {
              "outlinewidth": 0,
              "ticks": ""
             }
            },
            "type": "scattergeo"
           }
          ],
          "scattergl": [
           {
            "marker": {
             "colorbar": {
              "outlinewidth": 0,
              "ticks": ""
             }
            },
            "type": "scattergl"
           }
          ],
          "scattermapbox": [
           {
            "marker": {
             "colorbar": {
              "outlinewidth": 0,
              "ticks": ""
             }
            },
            "type": "scattermapbox"
           }
          ],
          "scatterpolar": [
           {
            "marker": {
             "colorbar": {
              "outlinewidth": 0,
              "ticks": ""
             }
            },
            "type": "scatterpolar"
           }
          ],
          "scatterpolargl": [
           {
            "marker": {
             "colorbar": {
              "outlinewidth": 0,
              "ticks": ""
             }
            },
            "type": "scatterpolargl"
           }
          ],
          "scatterternary": [
           {
            "marker": {
             "colorbar": {
              "outlinewidth": 0,
              "ticks": ""
             }
            },
            "type": "scatterternary"
           }
          ],
          "surface": [
           {
            "colorbar": {
             "outlinewidth": 0,
             "ticks": ""
            },
            "colorscale": [
             [
              0,
              "#0d0887"
             ],
             [
              0.1111111111111111,
              "#46039f"
             ],
             [
              0.2222222222222222,
              "#7201a8"
             ],
             [
              0.3333333333333333,
              "#9c179e"
             ],
             [
              0.4444444444444444,
              "#bd3786"
             ],
             [
              0.5555555555555556,
              "#d8576b"
             ],
             [
              0.6666666666666666,
              "#ed7953"
             ],
             [
              0.7777777777777778,
              "#fb9f3a"
             ],
             [
              0.8888888888888888,
              "#fdca26"
             ],
             [
              1,
              "#f0f921"
             ]
            ],
            "type": "surface"
           }
          ],
          "table": [
           {
            "cells": {
             "fill": {
              "color": "#EBF0F8"
             },
             "line": {
              "color": "white"
             }
            },
            "header": {
             "fill": {
              "color": "#C8D4E3"
             },
             "line": {
              "color": "white"
             }
            },
            "type": "table"
           }
          ]
         },
         "layout": {
          "annotationdefaults": {
           "arrowcolor": "#2a3f5f",
           "arrowhead": 0,
           "arrowwidth": 1
          },
          "autotypenumbers": "strict",
          "coloraxis": {
           "colorbar": {
            "outlinewidth": 0,
            "ticks": ""
           }
          },
          "colorscale": {
           "diverging": [
            [
             0,
             "#8e0152"
            ],
            [
             0.1,
             "#c51b7d"
            ],
            [
             0.2,
             "#de77ae"
            ],
            [
             0.3,
             "#f1b6da"
            ],
            [
             0.4,
             "#fde0ef"
            ],
            [
             0.5,
             "#f7f7f7"
            ],
            [
             0.6,
             "#e6f5d0"
            ],
            [
             0.7,
             "#b8e186"
            ],
            [
             0.8,
             "#7fbc41"
            ],
            [
             0.9,
             "#4d9221"
            ],
            [
             1,
             "#276419"
            ]
           ],
           "sequential": [
            [
             0,
             "#0d0887"
            ],
            [
             0.1111111111111111,
             "#46039f"
            ],
            [
             0.2222222222222222,
             "#7201a8"
            ],
            [
             0.3333333333333333,
             "#9c179e"
            ],
            [
             0.4444444444444444,
             "#bd3786"
            ],
            [
             0.5555555555555556,
             "#d8576b"
            ],
            [
             0.6666666666666666,
             "#ed7953"
            ],
            [
             0.7777777777777778,
             "#fb9f3a"
            ],
            [
             0.8888888888888888,
             "#fdca26"
            ],
            [
             1,
             "#f0f921"
            ]
           ],
           "sequentialminus": [
            [
             0,
             "#0d0887"
            ],
            [
             0.1111111111111111,
             "#46039f"
            ],
            [
             0.2222222222222222,
             "#7201a8"
            ],
            [
             0.3333333333333333,
             "#9c179e"
            ],
            [
             0.4444444444444444,
             "#bd3786"
            ],
            [
             0.5555555555555556,
             "#d8576b"
            ],
            [
             0.6666666666666666,
             "#ed7953"
            ],
            [
             0.7777777777777778,
             "#fb9f3a"
            ],
            [
             0.8888888888888888,
             "#fdca26"
            ],
            [
             1,
             "#f0f921"
            ]
           ]
          },
          "colorway": [
           "#636efa",
           "#EF553B",
           "#00cc96",
           "#ab63fa",
           "#FFA15A",
           "#19d3f3",
           "#FF6692",
           "#B6E880",
           "#FF97FF",
           "#FECB52"
          ],
          "font": {
           "color": "#2a3f5f"
          },
          "geo": {
           "bgcolor": "white",
           "lakecolor": "white",
           "landcolor": "#E5ECF6",
           "showlakes": true,
           "showland": true,
           "subunitcolor": "white"
          },
          "hoverlabel": {
           "align": "left"
          },
          "hovermode": "closest",
          "mapbox": {
           "style": "light"
          },
          "paper_bgcolor": "white",
          "plot_bgcolor": "#E5ECF6",
          "polar": {
           "angularaxis": {
            "gridcolor": "white",
            "linecolor": "white",
            "ticks": ""
           },
           "bgcolor": "#E5ECF6",
           "radialaxis": {
            "gridcolor": "white",
            "linecolor": "white",
            "ticks": ""
           }
          },
          "scene": {
           "xaxis": {
            "backgroundcolor": "#E5ECF6",
            "gridcolor": "white",
            "gridwidth": 2,
            "linecolor": "white",
            "showbackground": true,
            "ticks": "",
            "zerolinecolor": "white"
           },
           "yaxis": {
            "backgroundcolor": "#E5ECF6",
            "gridcolor": "white",
            "gridwidth": 2,
            "linecolor": "white",
            "showbackground": true,
            "ticks": "",
            "zerolinecolor": "white"
           },
           "zaxis": {
            "backgroundcolor": "#E5ECF6",
            "gridcolor": "white",
            "gridwidth": 2,
            "linecolor": "white",
            "showbackground": true,
            "ticks": "",
            "zerolinecolor": "white"
           }
          },
          "shapedefaults": {
           "line": {
            "color": "#2a3f5f"
           }
          },
          "ternary": {
           "aaxis": {
            "gridcolor": "white",
            "linecolor": "white",
            "ticks": ""
           },
           "baxis": {
            "gridcolor": "white",
            "linecolor": "white",
            "ticks": ""
           },
           "bgcolor": "#E5ECF6",
           "caxis": {
            "gridcolor": "white",
            "linecolor": "white",
            "ticks": ""
           }
          },
          "title": {
           "x": 0.05
          },
          "xaxis": {
           "automargin": true,
           "gridcolor": "white",
           "linecolor": "white",
           "ticks": "",
           "title": {
            "standoff": 15
           },
           "zerolinecolor": "white",
           "zerolinewidth": 2
          },
          "yaxis": {
           "automargin": true,
           "gridcolor": "white",
           "linecolor": "white",
           "ticks": "",
           "title": {
            "standoff": 15
           },
           "zerolinecolor": "white",
           "zerolinewidth": 2
          }
         }
        },
        "xaxis": {
         "anchor": "y",
         "autorange": true,
         "domain": [
          0,
          1
         ],
         "range": [
          -0.5,
          0.5
         ],
         "title": {
          "text": "variable"
         },
         "type": "category"
        },
        "yaxis": {
         "anchor": "x",
         "autorange": true,
         "domain": [
          0,
          1
         ],
         "range": [
          -106.22222222222223,
          2938.222222222222
         ],
         "title": {
          "text": "value"
         },
         "type": "linear"
        }
       }
      },
      "image/png": "[encoded data removed]",
      "text/html": [
       "<div>                            <div id=\"836bf758-135f-498b-843a-d57ee3e3b8fb\" class=\"plotly-graph-div\" style=\"height:525px; width:100%;\"></div>            <script type=\"text/javascript\">                require([\"plotly\"], function(Plotly) {                    window.PLOTLYENV=window.PLOTLYENV || {};                                    if (document.getElementById(\"836bf758-135f-498b-843a-d57ee3e3b8fb\")) {                    Plotly.newPlot(                        \"836bf758-135f-498b-843a-d57ee3e3b8fb\",                        [{\"alignmentgroup\": \"True\", \"hovertemplate\": \"variable=%{x}<br>value=%{y}<extra></extra>\", \"legendgroup\": \"\", \"marker\": {\"color\": \"#636efa\"}, \"name\": \"\", \"notched\": false, \"offsetgroup\": \"\", \"orientation\": \"v\", \"showlegend\": false, \"type\": \"box\", \"x\": [\"time_PFS\", \"time_PFS\", \"time_PFS\", \"time_PFS\", \"time_PFS\", \"time_PFS\", \"time_PFS\", \"time_PFS\", \"time_PFS\", \"time_PFS\", \"time_PFS\", \"time_PFS\", \"time_PFS\", \"time_PFS\", \"time_PFS\", \"time_PFS\", \"time_PFS\", \"time_PFS\", \"time_PFS\", \"time_PFS\", \"time_PFS\", \"time_PFS\", \"time_PFS\", \"time_PFS\", \"time_PFS\", \"time_PFS\", \"time_PFS\", \"time_PFS\", \"time_PFS\", \"time_PFS\", \"time_PFS\", \"time_PFS\", \"time_PFS\", \"time_PFS\", \"time_PFS\", \"time_PFS\", \"time_PFS\", \"time_PFS\", \"time_PFS\", \"time_PFS\", \"time_PFS\", \"time_PFS\", \"time_PFS\", \"time_PFS\", \"time_PFS\", \"time_PFS\", \"time_PFS\", \"time_PFS\", \"time_PFS\", \"time_PFS\", \"time_PFS\", \"time_PFS\", \"time_PFS\", \"time_PFS\", \"time_PFS\", \"time_PFS\", \"time_PFS\", \"time_PFS\", \"time_PFS\", \"time_PFS\", \"time_PFS\", \"time_PFS\", \"time_PFS\", \"time_PFS\", \"time_PFS\", \"time_PFS\", \"time_PFS\", \"time_PFS\", \"time_PFS\", \"time_PFS\", \"time_PFS\", \"time_PFS\", \"time_PFS\", \"time_PFS\", \"time_PFS\", \"time_PFS\", \"time_PFS\", \"time_PFS\", \"time_PFS\", \"time_PFS\", \"time_PFS\", \"time_PFS\", \"time_PFS\", \"time_PFS\", \"time_PFS\", \"time_PFS\", \"time_PFS\", \"time_PFS\", \"time_PFS\", \"time_PFS\", \"time_PFS\", \"time_PFS\", \"time_PFS\", \"time_PFS\", \"time_PFS\", \"time_PFS\", \"time_PFS\", \"time_PFS\", \"time_PFS\", \"time_PFS\", \"time_PFS\", \"time_PFS\", \"time_PFS\", \"time_PFS\", \"time_PFS\", \"time_PFS\", \"time_PFS\", \"time_PFS\", \"time_PFS\", \"time_PFS\", \"time_PFS\", \"time_PFS\", \"time_PFS\", \"time_PFS\", \"time_PFS\", \"time_PFS\", \"time_PFS\", \"time_PFS\", \"time_PFS\", \"time_PFS\", \"time_PFS\", \"time_PFS\", \"time_PFS\", \"time_PFS\", \"time_PFS\", \"time_PFS\", \"time_PFS\", \"time_PFS\", \"time_PFS\", \"time_PFS\", \"time_PFS\", \"time_PFS\", \"time_PFS\", \"time_PFS\", \"time_PFS\", \"time_PFS\", \"time_PFS\", \"time_PFS\", \"time_PFS\", \"time_PFS\", \"time_PFS\", \"time_PFS\", \"time_PFS\", \"time_PFS\", \"time_PFS\", \"time_PFS\", \"time_PFS\", \"time_PFS\", \"time_PFS\", \"time_PFS\", \"time_PFS\", \"time_PFS\", \"time_PFS\", \"time_PFS\", \"time_PFS\", \"time_PFS\", \"time_PFS\", \"time_PFS\", \"time_PFS\", \"time_PFS\", \"time_PFS\", \"time_PFS\", \"time_PFS\", \"time_PFS\", \"time_PFS\", \"time_PFS\", \"time_PFS\", \"time_PFS\", \"time_PFS\", \"time_PFS\", \"time_PFS\", \"time_PFS\", \"time_PFS\", \"time_PFS\", \"time_PFS\", \"time_PFS\", \"time_PFS\", \"time_PFS\", \"time_PFS\", \"time_PFS\", \"time_PFS\", \"time_PFS\"], \"x0\": \" \", \"xaxis\": \"x\", \"y\": [null, 1412.0, 59.0, 63.0, 61.0, null, null, null, 498.0, 313.0, null, null, 698.0, 573.0, 270.0, 458.0, null, 805.0, 336.0, 579.0, null, 378.0, 250.0, null, null, 374.0, 932.0, 637.0, 436.0, null, null, 195.0, null, 559.0, 564.0, null, null, 72.0, null, null, 1336.0, null, 122.0, 99.0, 611.0, 742.0, null, 687.0, 76.0, 595.0, 515.0, null, 514.0, 727.0, 352.0, 59.0, 70.0, null, 46.0, 952.0, null, null, null, 286.0, null, null, null, null, null, 308.0, 518.0, null, null, null, null, 593.0, null, null, 1107.0, 529.0, null, 669.0, null, null, 59.0, null, 984.0, null, 390.0, 1039.0, 394.0, null, 397.0, 550.0, 629.0, 1013.0, null, 877.0, null, null, null, null, null, 363.0, null, 637.0, null, 2786.0, null, 650.0, null, null, null, 511.0, null, null, null, null, null, null, 1208.0, 202.0, null, 435.0, 496.0, null, null, null, null, null, null, 663.0, null, null, null, null, 525.0, null, null, null, null, null, null, null, null, null, null, 1260.0, 524.0, null, null, null, null, null, null, null, 517.0, null, null, null, null, 290.0, null, null, null, null, null, null, null, 616.0, null, null, 441.0, 680.0, null, 289.0, null, 1384.0, 1974.0, null, 609.0, null], \"y0\": \" \", \"yaxis\": \"y\"}],                        {\"boxmode\": \"group\", \"legend\": {\"tracegroupgap\": 0}, \"margin\": {\"t\": 60}, \"template\": {\"data\": {\"bar\": [{\"error_x\": {\"color\": \"#2a3f5f\"}, \"error_y\": {\"color\": \"#2a3f5f\"}, \"marker\": {\"line\": {\"color\": \"#E5ECF6\", \"width\": 0.5}}, \"type\": \"bar\"}], \"barpolar\": [{\"marker\": {\"line\": {\"color\": \"#E5ECF6\", \"width\": 0.5}}, \"type\": \"barpolar\"}], \"carpet\": [{\"aaxis\": {\"endlinecolor\": \"#2a3f5f\", \"gridcolor\": \"white\", \"linecolor\": \"white\", \"minorgridcolor\": \"white\", \"startlinecolor\": \"#2a3f5f\"}, \"baxis\": {\"endlinecolor\": \"#2a3f5f\", \"gridcolor\": \"white\", \"linecolor\": \"white\", \"minorgridcolor\": \"white\", \"startlinecolor\": \"#2a3f5f\"}, \"type\": \"carpet\"}], \"choropleth\": [{\"colorbar\": {\"outlinewidth\": 0, \"ticks\": \"\"}, \"type\": \"choropleth\"}], \"contour\": [{\"colorbar\": {\"outlinewidth\": 0, \"ticks\": \"\"}, \"colorscale\": [[0.0, \"#0d0887\"], [0.1111111111111111, \"#46039f\"], [0.2222222222222222, \"#7201a8\"], [0.3333333333333333, \"#9c179e\"], [0.4444444444444444, \"#bd3786\"], [0.5555555555555556, \"#d8576b\"], [0.6666666666666666, \"#ed7953\"], [0.7777777777777778, \"#fb9f3a\"], [0.8888888888888888, \"#fdca26\"], [1.0, \"#f0f921\"]], \"type\": \"contour\"}], \"contourcarpet\": [{\"colorbar\": {\"outlinewidth\": 0, \"ticks\": \"\"}, \"type\": \"contourcarpet\"}], \"heatmap\": [{\"colorbar\": {\"outlinewidth\": 0, \"ticks\": \"\"}, \"colorscale\": [[0.0, \"#0d0887\"], [0.1111111111111111, \"#46039f\"], [0.2222222222222222, \"#7201a8\"], [0.3333333333333333, \"#9c179e\"], [0.4444444444444444, \"#bd3786\"], [0.5555555555555556, \"#d8576b\"], [0.6666666666666666, \"#ed7953\"], [0.7777777777777778, \"#fb9f3a\"], [0.8888888888888888, \"#fdca26\"], [1.0, \"#f0f921\"]], \"type\": \"heatmap\"}], \"heatmapgl\": [{\"colorbar\": {\"outlinewidth\": 0, \"ticks\": \"\"}, \"colorscale\": [[0.0, \"#0d0887\"], [0.1111111111111111, \"#46039f\"], [0.2222222222222222, \"#7201a8\"], [0.3333333333333333, \"#9c179e\"], [0.4444444444444444, \"#bd3786\"], [0.5555555555555556, \"#d8576b\"], [0.6666666666666666, \"#ed7953\"], [0.7777777777777778, \"#fb9f3a\"], [0.8888888888888888, \"#fdca26\"], [1.0, \"#f0f921\"]], \"type\": \"heatmapgl\"}], \"histogram\": [{\"marker\": {\"colorbar\": {\"outlinewidth\": 0, \"ticks\": \"\"}}, \"type\": \"histogram\"}], \"histogram2d\": [{\"colorbar\": {\"outlinewidth\": 0, \"ticks\": \"\"}, \"colorscale\": [[0.0, \"#0d0887\"], [0.1111111111111111, \"#46039f\"], [0.2222222222222222, \"#7201a8\"], [0.3333333333333333, \"#9c179e\"], [0.4444444444444444, \"#bd3786\"], [0.5555555555555556, \"#d8576b\"], [0.6666666666666666, \"#ed7953\"], [0.7777777777777778, \"#fb9f3a\"], [0.8888888888888888, \"#fdca26\"], [1.0, \"#f0f921\"]], \"type\": \"histogram2d\"}], \"histogram2dcontour\": [{\"colorbar\": {\"outlinewidth\": 0, \"ticks\": \"\"}, \"colorscale\": [[0.0, \"#0d0887\"], [0.1111111111111111, \"#46039f\"], [0.2222222222222222, \"#7201a8\"], [0.3333333333333333, \"#9c179e\"], [0.4444444444444444, \"#bd3786\"], [0.5555555555555556, \"#d8576b\"], [0.6666666666666666, \"#ed7953\"], [0.7777777777777778, \"#fb9f3a\"], [0.8888888888888888, \"#fdca26\"], [1.0, \"#f0f921\"]], \"type\": \"histogram2dcontour\"}], \"mesh3d\": [{\"colorbar\": {\"outlinewidth\": 0, \"ticks\": \"\"}, \"type\": \"mesh3d\"}], \"parcoords\": [{\"line\": {\"colorbar\": {\"outlinewidth\": 0, \"ticks\": \"\"}}, \"type\": \"parcoords\"}], \"pie\": [{\"automargin\": true, \"type\": \"pie\"}], \"scatter\": [{\"marker\": {\"colorbar\": {\"outlinewidth\": 0, \"ticks\": \"\"}}, \"type\": \"scatter\"}], \"scatter3d\": [{\"line\": {\"colorbar\": {\"outlinewidth\": 0, \"ticks\": \"\"}}, \"marker\": {\"colorbar\": {\"outlinewidth\": 0, \"ticks\": \"\"}}, \"type\": \"scatter3d\"}], \"scattercarpet\": [{\"marker\": {\"colorbar\": {\"outlinewidth\": 0, \"ticks\": \"\"}}, \"type\": \"scattercarpet\"}], \"scattergeo\": [{\"marker\": {\"colorbar\": {\"outlinewidth\": 0, \"ticks\": \"\"}}, \"type\": \"scattergeo\"}], \"scattergl\": [{\"marker\": {\"colorbar\": {\"outlinewidth\": 0, \"ticks\": \"\"}}, \"type\": \"scattergl\"}], \"scattermapbox\": [{\"marker\": {\"colorbar\": {\"outlinewidth\": 0, \"ticks\": \"\"}}, \"type\": \"scattermapbox\"}], \"scatterpolar\": [{\"marker\": {\"colorbar\": {\"outlinewidth\": 0, \"ticks\": \"\"}}, \"type\": \"scatterpolar\"}], \"scatterpolargl\": [{\"marker\": {\"colorbar\": {\"outlinewidth\": 0, \"ticks\": \"\"}}, \"type\": \"scatterpolargl\"}], \"scatterternary\": [{\"marker\": {\"colorbar\": {\"outlinewidth\": 0, \"ticks\": \"\"}}, \"type\": \"scatterternary\"}], \"surface\": [{\"colorbar\": {\"outlinewidth\": 0, \"ticks\": \"\"}, \"colorscale\": [[0.0, \"#0d0887\"], [0.1111111111111111, \"#46039f\"], [0.2222222222222222, \"#7201a8\"], [0.3333333333333333, \"#9c179e\"], [0.4444444444444444, \"#bd3786\"], [0.5555555555555556, \"#d8576b\"], [0.6666666666666666, \"#ed7953\"], [0.7777777777777778, \"#fb9f3a\"], [0.8888888888888888, \"#fdca26\"], [1.0, \"#f0f921\"]], \"type\": \"surface\"}], \"table\": [{\"cells\": {\"fill\": {\"color\": \"#EBF0F8\"}, \"line\": {\"color\": \"white\"}}, \"header\": {\"fill\": {\"color\": \"#C8D4E3\"}, \"line\": {\"color\": \"white\"}}, \"type\": \"table\"}]}, \"layout\": {\"annotationdefaults\": {\"arrowcolor\": \"#2a3f5f\", \"arrowhead\": 0, \"arrowwidth\": 1}, \"autotypenumbers\": \"strict\", \"coloraxis\": {\"colorbar\": {\"outlinewidth\": 0, \"ticks\": \"\"}}, \"colorscale\": {\"diverging\": [[0, \"#8e0152\"], [0.1, \"#c51b7d\"], [0.2, \"#de77ae\"], [0.3, \"#f1b6da\"], [0.4, \"#fde0ef\"], [0.5, \"#f7f7f7\"], [0.6, \"#e6f5d0\"], [0.7, \"#b8e186\"], [0.8, \"#7fbc41\"], [0.9, \"#4d9221\"], [1, \"#276419\"]], \"sequential\": [[0.0, \"#0d0887\"], [0.1111111111111111, \"#46039f\"], [0.2222222222222222, \"#7201a8\"], [0.3333333333333333, \"#9c179e\"], [0.4444444444444444, \"#bd3786\"], [0.5555555555555556, \"#d8576b\"], [0.6666666666666666, \"#ed7953\"], [0.7777777777777778, \"#fb9f3a\"], [0.8888888888888888, \"#fdca26\"], [1.0, \"#f0f921\"]], \"sequentialminus\": [[0.0, \"#0d0887\"], [0.1111111111111111, \"#46039f\"], [0.2222222222222222, \"#7201a8\"], [0.3333333333333333, \"#9c179e\"], [0.4444444444444444, \"#bd3786\"], [0.5555555555555556, \"#d8576b\"], [0.6666666666666666, \"#ed7953\"], [0.7777777777777778, \"#fb9f3a\"], [0.8888888888888888, \"#fdca26\"], [1.0, \"#f0f921\"]]}, \"colorway\": [\"#636efa\", \"#EF553B\", \"#00cc96\", \"#ab63fa\", \"#FFA15A\", \"#19d3f3\", \"#FF6692\", \"#B6E880\", \"#FF97FF\", \"#FECB52\"], \"font\": {\"color\": \"#2a3f5f\"}, \"geo\": {\"bgcolor\": \"white\", \"lakecolor\": \"white\", \"landcolor\": \"#E5ECF6\", \"showlakes\": true, \"showland\": true, \"subunitcolor\": \"white\"}, \"hoverlabel\": {\"align\": \"left\"}, \"hovermode\": \"closest\", \"mapbox\": {\"style\": \"light\"}, \"paper_bgcolor\": \"white\", \"plot_bgcolor\": \"#E5ECF6\", \"polar\": {\"angularaxis\": {\"gridcolor\": \"white\", \"linecolor\": \"white\", \"ticks\": \"\"}, \"bgcolor\": \"#E5ECF6\", \"radialaxis\": {\"gridcolor\": \"white\", \"linecolor\": \"white\", \"ticks\": \"\"}}, \"scene\": {\"xaxis\": {\"backgroundcolor\": \"#E5ECF6\", \"gridcolor\": \"white\", \"gridwidth\": 2, \"linecolor\": \"white\", \"showbackground\": true, \"ticks\": \"\", \"zerolinecolor\": \"white\"}, \"yaxis\": {\"backgroundcolor\": \"#E5ECF6\", \"gridcolor\": \"white\", \"gridwidth\": 2, \"linecolor\": \"white\", \"showbackground\": true, \"ticks\": \"\", \"zerolinecolor\": \"white\"}, \"zaxis\": {\"backgroundcolor\": \"#E5ECF6\", \"gridcolor\": \"white\", \"gridwidth\": 2, \"linecolor\": \"white\", \"showbackground\": true, \"ticks\": \"\", \"zerolinecolor\": \"white\"}}, \"shapedefaults\": {\"line\": {\"color\": \"#2a3f5f\"}}, \"ternary\": {\"aaxis\": {\"gridcolor\": \"white\", \"linecolor\": \"white\", \"ticks\": \"\"}, \"baxis\": {\"gridcolor\": \"white\", \"linecolor\": \"white\", \"ticks\": \"\"}, \"bgcolor\": \"#E5ECF6\", \"caxis\": {\"gridcolor\": \"white\", \"linecolor\": \"white\", \"ticks\": \"\"}}, \"title\": {\"x\": 0.05}, \"xaxis\": {\"automargin\": true, \"gridcolor\": \"white\", \"linecolor\": \"white\", \"ticks\": \"\", \"title\": {\"standoff\": 15}, \"zerolinecolor\": \"white\", \"zerolinewidth\": 2}, \"yaxis\": {\"automargin\": true, \"gridcolor\": \"white\", \"linecolor\": \"white\", \"ticks\": \"\", \"title\": {\"standoff\": 15}, \"zerolinecolor\": \"white\", \"zerolinewidth\": 2}}}, \"xaxis\": {\"anchor\": \"y\", \"domain\": [0.0, 1.0], \"title\": {\"text\": \"variable\"}}, \"yaxis\": {\"anchor\": \"x\", \"domain\": [0.0, 1.0], \"title\": {\"text\": \"value\"}}},                        {\"responsive\": true}                    ).then(function(){\n",
       "                            \n",
       "var gd = document.getElementById('836bf758-135f-498b-843a-d57ee3e3b8fb');\n",
       "var x = new MutationObserver(function (mutations, observer) {{\n",
       "        var display = window.getComputedStyle(gd).display;\n",
       "        if (!display || display === 'none') {{\n",
       "            console.log([gd, 'removed!']);\n",
       "            Plotly.purge(gd);\n",
       "            observer.disconnect();\n",
       "        }}\n",
       "}});\n",
       "\n",
       "// Listen for the removal of the full notebook cells\n",
       "var notebookContainer = gd.closest('#notebook-container');\n",
       "if (notebookContainer) {{\n",
       "    x.observe(notebookContainer, {childList: true});\n",
       "}}\n",
       "\n",
       "// Listen for the clearing of the current output cell\n",
       "var outputEl = gd.closest('.output');\n",
       "if (outputEl) {{\n",
       "    x.observe(outputEl, {childList: true});\n",
       "}}\n",
       "\n",
       "                        })                };                });            </script>        </div>"
      ]
     },
     "metadata": {},
     "output_type": "display_data"
    }
   ],
   "source": [
    "# Temps jusqu’à la rechute (jours)\n",
    "px.box(data_all.time_PFS)"
   ]
  },
  {
   "cell_type": "code",
   "execution_count": 133,
   "id": "b7dfabf4-788a-47be-a1c5-9c2925b4e993",
   "metadata": {},
   "outputs": [
    {
     "name": "stdout",
     "output_type": "stream",
     "text": [
      "keeping 150/182 (0.8241758241758241)\n"
     ]
    }
   ],
   "source": [
    "MIN_OS_TIME = 700    # suppression de tous les gens de -2ans d'ancienneté\n",
    "\n",
    "data_subset = data_all[(data_all.time_OS > MIN_OS_TIME)]\n",
    "print(f\"keeping {len(data_subset)}/{len(data_all)} ({len(data_subset)/len(data_all)})\")"
   ]
  },
  {
   "cell_type": "markdown",
   "id": "745c03bb-f56b-49f7-8869-4af3562cf94e",
   "metadata": {
    "tags": []
   },
   "source": [
    "# Data Analysis"
   ]
  },
  {
   "cell_type": "code",
   "execution_count": 134,
   "id": "c55e66cb-3eb6-4e17-9e3f-5f89d4c5e9e7",
   "metadata": {},
   "outputs": [],
   "source": [
    "data_all.relapse = data_all.relapse.astype(\"category\")"
   ]
  },
  {
   "cell_type": "code",
   "execution_count": 135,
   "id": "315536c9-4e72-4712-bc4e-ebb98981df17",
   "metadata": {},
   "outputs": [
    {
     "data": {
      "text/html": [
       "        <script type=\"text/javascript\">\n",
       "        window.PlotlyConfig = {MathJaxConfig: 'local'};\n",
       "        if (window.MathJax) {MathJax.Hub.Config({SVG: {font: \"STIX-Web\"}});}\n",
       "        if (typeof require !== 'undefined') {\n",
       "        require.undef(\"plotly\");\n",
       "        requirejs.config({\n",
       "            paths: {\n",
       "                'plotly': ['https://cdn.plot.ly/plotly-latest.min']\n",
       "            }\n",
       "        });\n",
       "        require(['plotly'], function(Plotly) {\n",
       "            window._Plotly = Plotly;\n",
       "        });\n",
       "        }\n",
       "        </script>\n",
       "        "
      ]
     },
     "metadata": {},
     "output_type": "display_data"
    }
   ],
   "source": [
    "import plotly.express as px\n",
    "from plotly.offline import init_notebook_mode\n",
    "\n",
    "init_notebook_mode(connected=True)"
   ]
  },
  {
   "cell_type": "code",
   "execution_count": 136,
   "id": "fa2d2476-ac51-4154-9c88-117eb40bce95",
   "metadata": {},
   "outputs": [
    {
     "data": {
      "text/plain": [
       "<AxesSubplot:ylabel='relapse'>"
      ]
     },
     "execution_count": 136,
     "metadata": {},
     "output_type": "execute_result"
    },
    {
     "data": {
      "image/png": "[encoded data removed]",
      "text/plain": [
       "<Figure size 576x396 with 1 Axes>"
      ]
     },
     "metadata": {},
     "output_type": "display_data"
    }
   ],
   "source": [
    "# dataset is balanced, we can use AUC as metric\n",
    "data_all.relapse.value_counts().plot(kind='pie')"
   ]
  },
  {
   "cell_type": "code",
   "execution_count": 137,
   "id": "e3e9e069-b88f-4298-bcd1-795471a93986",
   "metadata": {},
   "outputs": [
    {
     "data": {
      "text/plain": [
       "<AxesSubplot:ylabel='relapse'>"
      ]
     },
     "execution_count": 137,
     "metadata": {},
     "output_type": "execute_result"
    },
    {
     "data": {
      "image/png": "[encoded data removed]",
      "text/plain": [
       "<Figure size 576x396 with 1 Axes>"
      ]
     },
     "metadata": {},
     "output_type": "display_data"
    }
   ],
   "source": [
    "# dataset is balanced, we can use AUC as metric\n",
    "data_subset.relapse.value_counts().plot(kind='pie')"
   ]
  },
  {
   "cell_type": "markdown",
   "id": "ed87c191-c0ac-4396-8ff3-f71c6992c5ce",
   "metadata": {},
   "source": [
    "## Outliers"
   ]
  },
  {
   "cell_type": "code",
   "execution_count": 138,
   "id": "dc62ab45-96f9-4a05-b461-5844ac4d7354",
   "metadata": {
    "tags": []
   },
   "outputs": [],
   "source": [
    "outliers_ids = ['OS2006_34', 'OS2006_548', 'OS2006_20']\n"
   ]
  },
  {
   "cell_type": "markdown",
   "id": "92feb076-c718-4330-a491-9fdc11bd65e4",
   "metadata": {
    "tags": []
   },
   "source": [
    "# ML models on metadata"
   ]
  },
  {
   "cell_type": "markdown",
   "id": "26e2375b-9b5f-407a-a2da-3c55740924ee",
   "metadata": {
    "tags": []
   },
   "source": [
    "## Compute features"
   ]
  },
  {
   "cell_type": "code",
   "execution_count": 139,
   "id": "2826f882-a3e1-4a26-ac6a-b8760f925e5c",
   "metadata": {},
   "outputs": [
    {
     "name": "stdout",
     "output_type": "stream",
     "text": [
      "Initial features shape : (150, 15004)\n",
      "Features shape after some cleaning: (148, 15004)\n"
     ]
    }
   ],
   "source": [
    "features = data_subset.copy()\n",
    "print(f'Initial features shape : {features.shape}')\n",
    "\n",
    "features['sex'] = features.apply(lambda x: 0 if x['sex'] == 'Feminin' else 1, axis=1)\n",
    "features = features[~features['patient_id'].isin(outliers_ids)]\n",
    "features.reset_index(drop=True, inplace=True)\n",
    "\n",
    "print(f'Features shape after some cleaning: {features.shape}')\n",
    "\n",
    "label = 'relapse'\n",
    "labels = features[label]\n",
    "\n",
    "data = features.copy()   # dataset with target for pycaret"
   ]
  },
  {
   "cell_type": "code",
   "execution_count": 140,
   "id": "951297df-7e20-44ca-8a67-64be2c144d50",
   "metadata": {},
   "outputs": [
    {
     "data": {
      "text/plain": [
       "MTX       127\n",
       "API-AI     18\n",
       "NaN         3\n",
       "Name: chimgr, dtype: int64"
      ]
     },
     "execution_count": 140,
     "metadata": {},
     "output_type": "execute_result"
    }
   ],
   "source": [
    "data.chimgr.value_counts(dropna=False)"
   ]
  },
  {
   "cell_type": "code",
   "execution_count": 141,
   "id": "13c86daa-40e2-4911-af64-ad939d4ebee7",
   "metadata": {},
   "outputs": [
    {
     "data": {
      "text/plain": [
       "GR     90\n",
       "PR     55\n",
       "NaN     3\n",
       "Name: rep_histo, dtype: int64"
      ]
     },
     "execution_count": 141,
     "metadata": {},
     "output_type": "execute_result"
    }
   ],
   "source": [
    "data.rep_histo.value_counts(dropna=False)"
   ]
  },
  {
   "cell_type": "code",
   "execution_count": 142,
   "id": "ce4362b9-6e28-44ba-8976-0e360bcc9cc4",
   "metadata": {},
   "outputs": [],
   "source": [
    "REP_HISTO_MAPPER = {\n",
    "    'GR': 1,   # good histemiological response\n",
    "    'PR': 0,   # bad histemiological response\n",
    "}\n",
    "data['rep_histo'] = data.rep_histo.map(REP_HISTO_MAPPER)"
   ]
  },
  {
   "cell_type": "code",
   "execution_count": 143,
   "id": "075bcff9-e791-4502-960e-7af851ed1b5e",
   "metadata": {},
   "outputs": [],
   "source": [
    "CAT_FEATURES = ['sex', 'pub', 'meta_bis', 'chimgr', \"rep_histo\"]\n",
    "NUM_FEATURES = ['age', 'htum', 'cpa_diagnostic', 'cpa_chirurgie', 'cpa_finTT']\n",
    "\n",
    "data = data[CAT_FEATURES + NUM_FEATURES + [label]]"
   ]
  },
  {
   "cell_type": "markdown",
   "id": "7a312fcd-ce8a-4555-a58f-bd9444b6765b",
   "metadata": {
    "tags": []
   },
   "source": [
    "## First baseline with Pycaret"
   ]
  },
  {
   "cell_type": "code",
   "execution_count": 144,
   "id": "05da25c3-869b-46b9-8e2d-46e3d3f62271",
   "metadata": {},
   "outputs": [
    {
     "name": "stdout",
     "output_type": "stream",
     "text": [
      "0.23.2\n"
     ]
    }
   ],
   "source": [
    "from pycaret.classification import *\n",
    "from sklearn import __version__\n",
    "\n",
    "print(__version__)"
   ]
  },
  {
   "cell_type": "code",
   "execution_count": 146,
   "id": "f62c2ba8-9102-47c7-ad19-3b538e1fce49",
   "metadata": {},
   "outputs": [
    {
     "data": {
      "text/html": [
       "<style type=\"text/css\">\n",
       "#T_75d91_row5_col1, #T_75d91_row29_col1, #T_75d91_row44_col1 {\n",
       "  background-color: lightgreen;\n",
       "}\n",
       "</style>\n",
       "<table id=\"T_75d91_\">\n",
       "  <thead>\n",
       "    <tr>\n",
       "      <th class=\"blank level0\" >&nbsp;</th>\n",
       "      <th class=\"col_heading level0 col0\" >Description</th>\n",
       "      <th class=\"col_heading level0 col1\" >Value</th>\n",
       "    </tr>\n",
       "  </thead>\n",
       "  <tbody>\n",
       "    <tr>\n",
       "      <th id=\"T_75d91_level0_row0\" class=\"row_heading level0 row0\" >0</th>\n",
       "      <td id=\"T_75d91_row0_col0\" class=\"data row0 col0\" >session_id</td>\n",
       "      <td id=\"T_75d91_row0_col1\" class=\"data row0 col1\" >518</td>\n",
       "    </tr>\n",
       "    <tr>\n",
       "      <th id=\"T_75d91_level0_row1\" class=\"row_heading level0 row1\" >1</th>\n",
       "      <td id=\"T_75d91_row1_col0\" class=\"data row1 col0\" >Target</td>\n",
       "      <td id=\"T_75d91_row1_col1\" class=\"data row1 col1\" >relapse</td>\n",
       "    </tr>\n",
       "    <tr>\n",
       "      <th id=\"T_75d91_level0_row2\" class=\"row_heading level0 row2\" >2</th>\n",
       "      <td id=\"T_75d91_row2_col0\" class=\"data row2 col0\" >Target Type</td>\n",
       "      <td id=\"T_75d91_row2_col1\" class=\"data row2 col1\" >Binary</td>\n",
       "    </tr>\n",
       "    <tr>\n",
       "      <th id=\"T_75d91_level0_row3\" class=\"row_heading level0 row3\" >3</th>\n",
       "      <td id=\"T_75d91_row3_col0\" class=\"data row3 col0\" >Label Encoded</td>\n",
       "      <td id=\"T_75d91_row3_col1\" class=\"data row3 col1\" >0: 0, 1: 1</td>\n",
       "    </tr>\n",
       "    <tr>\n",
       "      <th id=\"T_75d91_level0_row4\" class=\"row_heading level0 row4\" >4</th>\n",
       "      <td id=\"T_75d91_row4_col0\" class=\"data row4 col0\" >Original Data</td>\n",
       "      <td id=\"T_75d91_row4_col1\" class=\"data row4 col1\" >(148, 11)</td>\n",
       "    </tr>\n",
       "    <tr>\n",
       "      <th id=\"T_75d91_level0_row5\" class=\"row_heading level0 row5\" >5</th>\n",
       "      <td id=\"T_75d91_row5_col0\" class=\"data row5 col0\" >Missing Values</td>\n",
       "      <td id=\"T_75d91_row5_col1\" class=\"data row5 col1\" >True</td>\n",
       "    </tr>\n",
       "    <tr>\n",
       "      <th id=\"T_75d91_level0_row6\" class=\"row_heading level0 row6\" >6</th>\n",
       "      <td id=\"T_75d91_row6_col0\" class=\"data row6 col0\" >Numeric Features</td>\n",
       "      <td id=\"T_75d91_row6_col1\" class=\"data row6 col1\" >5</td>\n",
       "    </tr>\n",
       "    <tr>\n",
       "      <th id=\"T_75d91_level0_row7\" class=\"row_heading level0 row7\" >7</th>\n",
       "      <td id=\"T_75d91_row7_col0\" class=\"data row7 col0\" >Categorical Features</td>\n",
       "      <td id=\"T_75d91_row7_col1\" class=\"data row7 col1\" >5</td>\n",
       "    </tr>\n",
       "    <tr>\n",
       "      <th id=\"T_75d91_level0_row8\" class=\"row_heading level0 row8\" >8</th>\n",
       "      <td id=\"T_75d91_row8_col0\" class=\"data row8 col0\" >Ordinal Features</td>\n",
       "      <td id=\"T_75d91_row8_col1\" class=\"data row8 col1\" >False</td>\n",
       "    </tr>\n",
       "    <tr>\n",
       "      <th id=\"T_75d91_level0_row9\" class=\"row_heading level0 row9\" >9</th>\n",
       "      <td id=\"T_75d91_row9_col0\" class=\"data row9 col0\" >High Cardinality Features</td>\n",
       "      <td id=\"T_75d91_row9_col1\" class=\"data row9 col1\" >False</td>\n",
       "    </tr>\n",
       "    <tr>\n",
       "      <th id=\"T_75d91_level0_row10\" class=\"row_heading level0 row10\" >10</th>\n",
       "      <td id=\"T_75d91_row10_col0\" class=\"data row10 col0\" >High Cardinality Method</td>\n",
       "      <td id=\"T_75d91_row10_col1\" class=\"data row10 col1\" >None</td>\n",
       "    </tr>\n",
       "    <tr>\n",
       "      <th id=\"T_75d91_level0_row11\" class=\"row_heading level0 row11\" >11</th>\n",
       "      <td id=\"T_75d91_row11_col0\" class=\"data row11 col0\" >Transformed Train Set</td>\n",
       "      <td id=\"T_75d91_row11_col1\" class=\"data row11 col1\" >(103, 16)</td>\n",
       "    </tr>\n",
       "    <tr>\n",
       "      <th id=\"T_75d91_level0_row12\" class=\"row_heading level0 row12\" >12</th>\n",
       "      <td id=\"T_75d91_row12_col0\" class=\"data row12 col0\" >Transformed Test Set</td>\n",
       "      <td id=\"T_75d91_row12_col1\" class=\"data row12 col1\" >(45, 16)</td>\n",
       "    </tr>\n",
       "    <tr>\n",
       "      <th id=\"T_75d91_level0_row13\" class=\"row_heading level0 row13\" >13</th>\n",
       "      <td id=\"T_75d91_row13_col0\" class=\"data row13 col0\" >Shuffle Train-Test</td>\n",
       "      <td id=\"T_75d91_row13_col1\" class=\"data row13 col1\" >True</td>\n",
       "    </tr>\n",
       "    <tr>\n",
       "      <th id=\"T_75d91_level0_row14\" class=\"row_heading level0 row14\" >14</th>\n",
       "      <td id=\"T_75d91_row14_col0\" class=\"data row14 col0\" >Stratify Train-Test</td>\n",
       "      <td id=\"T_75d91_row14_col1\" class=\"data row14 col1\" >False</td>\n",
       "    </tr>\n",
       "    <tr>\n",
       "      <th id=\"T_75d91_level0_row15\" class=\"row_heading level0 row15\" >15</th>\n",
       "      <td id=\"T_75d91_row15_col0\" class=\"data row15 col0\" >Fold Generator</td>\n",
       "      <td id=\"T_75d91_row15_col1\" class=\"data row15 col1\" >StratifiedKFold</td>\n",
       "    </tr>\n",
       "    <tr>\n",
       "      <th id=\"T_75d91_level0_row16\" class=\"row_heading level0 row16\" >16</th>\n",
       "      <td id=\"T_75d91_row16_col0\" class=\"data row16 col0\" >Fold Number</td>\n",
       "      <td id=\"T_75d91_row16_col1\" class=\"data row16 col1\" >10</td>\n",
       "    </tr>\n",
       "    <tr>\n",
       "      <th id=\"T_75d91_level0_row17\" class=\"row_heading level0 row17\" >17</th>\n",
       "      <td id=\"T_75d91_row17_col0\" class=\"data row17 col0\" >CPU Jobs</td>\n",
       "      <td id=\"T_75d91_row17_col1\" class=\"data row17 col1\" >-1</td>\n",
       "    </tr>\n",
       "    <tr>\n",
       "      <th id=\"T_75d91_level0_row18\" class=\"row_heading level0 row18\" >18</th>\n",
       "      <td id=\"T_75d91_row18_col0\" class=\"data row18 col0\" >Use GPU</td>\n",
       "      <td id=\"T_75d91_row18_col1\" class=\"data row18 col1\" >False</td>\n",
       "    </tr>\n",
       "    <tr>\n",
       "      <th id=\"T_75d91_level0_row19\" class=\"row_heading level0 row19\" >19</th>\n",
       "      <td id=\"T_75d91_row19_col0\" class=\"data row19 col0\" >Log Experiment</td>\n",
       "      <td id=\"T_75d91_row19_col1\" class=\"data row19 col1\" >False</td>\n",
       "    </tr>\n",
       "    <tr>\n",
       "      <th id=\"T_75d91_level0_row20\" class=\"row_heading level0 row20\" >20</th>\n",
       "      <td id=\"T_75d91_row20_col0\" class=\"data row20 col0\" >Experiment Name</td>\n",
       "      <td id=\"T_75d91_row20_col1\" class=\"data row20 col1\" >clf-default-name</td>\n",
       "    </tr>\n",
       "    <tr>\n",
       "      <th id=\"T_75d91_level0_row21\" class=\"row_heading level0 row21\" >21</th>\n",
       "      <td id=\"T_75d91_row21_col0\" class=\"data row21 col0\" >USI</td>\n",
       "      <td id=\"T_75d91_row21_col1\" class=\"data row21 col1\" >1d34</td>\n",
       "    </tr>\n",
       "    <tr>\n",
       "      <th id=\"T_75d91_level0_row22\" class=\"row_heading level0 row22\" >22</th>\n",
       "      <td id=\"T_75d91_row22_col0\" class=\"data row22 col0\" >Imputation Type</td>\n",
       "      <td id=\"T_75d91_row22_col1\" class=\"data row22 col1\" >simple</td>\n",
       "    </tr>\n",
       "    <tr>\n",
       "      <th id=\"T_75d91_level0_row23\" class=\"row_heading level0 row23\" >23</th>\n",
       "      <td id=\"T_75d91_row23_col0\" class=\"data row23 col0\" >Iterative Imputation Iteration</td>\n",
       "      <td id=\"T_75d91_row23_col1\" class=\"data row23 col1\" >None</td>\n",
       "    </tr>\n",
       "    <tr>\n",
       "      <th id=\"T_75d91_level0_row24\" class=\"row_heading level0 row24\" >24</th>\n",
       "      <td id=\"T_75d91_row24_col0\" class=\"data row24 col0\" >Numeric Imputer</td>\n",
       "      <td id=\"T_75d91_row24_col1\" class=\"data row24 col1\" >mean</td>\n",
       "    </tr>\n",
       "    <tr>\n",
       "      <th id=\"T_75d91_level0_row25\" class=\"row_heading level0 row25\" >25</th>\n",
       "      <td id=\"T_75d91_row25_col0\" class=\"data row25 col0\" >Iterative Imputation Numeric Model</td>\n",
       "      <td id=\"T_75d91_row25_col1\" class=\"data row25 col1\" >None</td>\n",
       "    </tr>\n",
       "    <tr>\n",
       "      <th id=\"T_75d91_level0_row26\" class=\"row_heading level0 row26\" >26</th>\n",
       "      <td id=\"T_75d91_row26_col0\" class=\"data row26 col0\" >Categorical Imputer</td>\n",
       "      <td id=\"T_75d91_row26_col1\" class=\"data row26 col1\" >constant</td>\n",
       "    </tr>\n",
       "    <tr>\n",
       "      <th id=\"T_75d91_level0_row27\" class=\"row_heading level0 row27\" >27</th>\n",
       "      <td id=\"T_75d91_row27_col0\" class=\"data row27 col0\" >Iterative Imputation Categorical Model</td>\n",
       "      <td id=\"T_75d91_row27_col1\" class=\"data row27 col1\" >None</td>\n",
       "    </tr>\n",
       "    <tr>\n",
       "      <th id=\"T_75d91_level0_row28\" class=\"row_heading level0 row28\" >28</th>\n",
       "      <td id=\"T_75d91_row28_col0\" class=\"data row28 col0\" >Unknown Categoricals Handling</td>\n",
       "      <td id=\"T_75d91_row28_col1\" class=\"data row28 col1\" >least_frequent</td>\n",
       "    </tr>\n",
       "    <tr>\n",
       "      <th id=\"T_75d91_level0_row29\" class=\"row_heading level0 row29\" >29</th>\n",
       "      <td id=\"T_75d91_row29_col0\" class=\"data row29 col0\" >Normalize</td>\n",
       "      <td id=\"T_75d91_row29_col1\" class=\"data row29 col1\" >True</td>\n",
       "    </tr>\n",
       "    <tr>\n",
       "      <th id=\"T_75d91_level0_row30\" class=\"row_heading level0 row30\" >30</th>\n",
       "      <td id=\"T_75d91_row30_col0\" class=\"data row30 col0\" >Normalize Method</td>\n",
       "      <td id=\"T_75d91_row30_col1\" class=\"data row30 col1\" >zscore</td>\n",
       "    </tr>\n",
       "    <tr>\n",
       "      <th id=\"T_75d91_level0_row31\" class=\"row_heading level0 row31\" >31</th>\n",
       "      <td id=\"T_75d91_row31_col0\" class=\"data row31 col0\" >Transformation</td>\n",
       "      <td id=\"T_75d91_row31_col1\" class=\"data row31 col1\" >False</td>\n",
       "    </tr>\n",
       "    <tr>\n",
       "      <th id=\"T_75d91_level0_row32\" class=\"row_heading level0 row32\" >32</th>\n",
       "      <td id=\"T_75d91_row32_col0\" class=\"data row32 col0\" >Transformation Method</td>\n",
       "      <td id=\"T_75d91_row32_col1\" class=\"data row32 col1\" >None</td>\n",
       "    </tr>\n",
       "    <tr>\n",
       "      <th id=\"T_75d91_level0_row33\" class=\"row_heading level0 row33\" >33</th>\n",
       "      <td id=\"T_75d91_row33_col0\" class=\"data row33 col0\" >PCA</td>\n",
       "      <td id=\"T_75d91_row33_col1\" class=\"data row33 col1\" >False</td>\n",
       "    </tr>\n",
       "    <tr>\n",
       "      <th id=\"T_75d91_level0_row34\" class=\"row_heading level0 row34\" >34</th>\n",
       "      <td id=\"T_75d91_row34_col0\" class=\"data row34 col0\" >PCA Method</td>\n",
       "      <td id=\"T_75d91_row34_col1\" class=\"data row34 col1\" >None</td>\n",
       "    </tr>\n",
       "    <tr>\n",
       "      <th id=\"T_75d91_level0_row35\" class=\"row_heading level0 row35\" >35</th>\n",
       "      <td id=\"T_75d91_row35_col0\" class=\"data row35 col0\" >PCA Components</td>\n",
       "      <td id=\"T_75d91_row35_col1\" class=\"data row35 col1\" >None</td>\n",
       "    </tr>\n",
       "    <tr>\n",
       "      <th id=\"T_75d91_level0_row36\" class=\"row_heading level0 row36\" >36</th>\n",
       "      <td id=\"T_75d91_row36_col0\" class=\"data row36 col0\" >Ignore Low Variance</td>\n",
       "      <td id=\"T_75d91_row36_col1\" class=\"data row36 col1\" >False</td>\n",
       "    </tr>\n",
       "    <tr>\n",
       "      <th id=\"T_75d91_level0_row37\" class=\"row_heading level0 row37\" >37</th>\n",
       "      <td id=\"T_75d91_row37_col0\" class=\"data row37 col0\" >Combine Rare Levels</td>\n",
       "      <td id=\"T_75d91_row37_col1\" class=\"data row37 col1\" >False</td>\n",
       "    </tr>\n",
       "    <tr>\n",
       "      <th id=\"T_75d91_level0_row38\" class=\"row_heading level0 row38\" >38</th>\n",
       "      <td id=\"T_75d91_row38_col0\" class=\"data row38 col0\" >Rare Level Threshold</td>\n",
       "      <td id=\"T_75d91_row38_col1\" class=\"data row38 col1\" >None</td>\n",
       "    </tr>\n",
       "    <tr>\n",
       "      <th id=\"T_75d91_level0_row39\" class=\"row_heading level0 row39\" >39</th>\n",
       "      <td id=\"T_75d91_row39_col0\" class=\"data row39 col0\" >Numeric Binning</td>\n",
       "      <td id=\"T_75d91_row39_col1\" class=\"data row39 col1\" >False</td>\n",
       "    </tr>\n",
       "    <tr>\n",
       "      <th id=\"T_75d91_level0_row40\" class=\"row_heading level0 row40\" >40</th>\n",
       "      <td id=\"T_75d91_row40_col0\" class=\"data row40 col0\" >Remove Outliers</td>\n",
       "      <td id=\"T_75d91_row40_col1\" class=\"data row40 col1\" >False</td>\n",
       "    </tr>\n",
       "    <tr>\n",
       "      <th id=\"T_75d91_level0_row41\" class=\"row_heading level0 row41\" >41</th>\n",
       "      <td id=\"T_75d91_row41_col0\" class=\"data row41 col0\" >Outliers Threshold</td>\n",
       "      <td id=\"T_75d91_row41_col1\" class=\"data row41 col1\" >None</td>\n",
       "    </tr>\n",
       "    <tr>\n",
       "      <th id=\"T_75d91_level0_row42\" class=\"row_heading level0 row42\" >42</th>\n",
       "      <td id=\"T_75d91_row42_col0\" class=\"data row42 col0\" >Remove Multicollinearity</td>\n",
       "      <td id=\"T_75d91_row42_col1\" class=\"data row42 col1\" >False</td>\n",
       "    </tr>\n",
       "    <tr>\n",
       "      <th id=\"T_75d91_level0_row43\" class=\"row_heading level0 row43\" >43</th>\n",
       "      <td id=\"T_75d91_row43_col0\" class=\"data row43 col0\" >Multicollinearity Threshold</td>\n",
       "      <td id=\"T_75d91_row43_col1\" class=\"data row43 col1\" >None</td>\n",
       "    </tr>\n",
       "    <tr>\n",
       "      <th id=\"T_75d91_level0_row44\" class=\"row_heading level0 row44\" >44</th>\n",
       "      <td id=\"T_75d91_row44_col0\" class=\"data row44 col0\" >Remove Perfect Collinearity</td>\n",
       "      <td id=\"T_75d91_row44_col1\" class=\"data row44 col1\" >True</td>\n",
       "    </tr>\n",
       "    <tr>\n",
       "      <th id=\"T_75d91_level0_row45\" class=\"row_heading level0 row45\" >45</th>\n",
       "      <td id=\"T_75d91_row45_col0\" class=\"data row45 col0\" >Clustering</td>\n",
       "      <td id=\"T_75d91_row45_col1\" class=\"data row45 col1\" >False</td>\n",
       "    </tr>\n",
       "    <tr>\n",
       "      <th id=\"T_75d91_level0_row46\" class=\"row_heading level0 row46\" >46</th>\n",
       "      <td id=\"T_75d91_row46_col0\" class=\"data row46 col0\" >Clustering Iteration</td>\n",
       "      <td id=\"T_75d91_row46_col1\" class=\"data row46 col1\" >None</td>\n",
       "    </tr>\n",
       "    <tr>\n",
       "      <th id=\"T_75d91_level0_row47\" class=\"row_heading level0 row47\" >47</th>\n",
       "      <td id=\"T_75d91_row47_col0\" class=\"data row47 col0\" >Polynomial Features</td>\n",
       "      <td id=\"T_75d91_row47_col1\" class=\"data row47 col1\" >False</td>\n",
       "    </tr>\n",
       "    <tr>\n",
       "      <th id=\"T_75d91_level0_row48\" class=\"row_heading level0 row48\" >48</th>\n",
       "      <td id=\"T_75d91_row48_col0\" class=\"data row48 col0\" >Polynomial Degree</td>\n",
       "      <td id=\"T_75d91_row48_col1\" class=\"data row48 col1\" >None</td>\n",
       "    </tr>\n",
       "    <tr>\n",
       "      <th id=\"T_75d91_level0_row49\" class=\"row_heading level0 row49\" >49</th>\n",
       "      <td id=\"T_75d91_row49_col0\" class=\"data row49 col0\" >Trignometry Features</td>\n",
       "      <td id=\"T_75d91_row49_col1\" class=\"data row49 col1\" >False</td>\n",
       "    </tr>\n",
       "    <tr>\n",
       "      <th id=\"T_75d91_level0_row50\" class=\"row_heading level0 row50\" >50</th>\n",
       "      <td id=\"T_75d91_row50_col0\" class=\"data row50 col0\" >Polynomial Threshold</td>\n",
       "      <td id=\"T_75d91_row50_col1\" class=\"data row50 col1\" >None</td>\n",
       "    </tr>\n",
       "    <tr>\n",
       "      <th id=\"T_75d91_level0_row51\" class=\"row_heading level0 row51\" >51</th>\n",
       "      <td id=\"T_75d91_row51_col0\" class=\"data row51 col0\" >Group Features</td>\n",
       "      <td id=\"T_75d91_row51_col1\" class=\"data row51 col1\" >False</td>\n",
       "    </tr>\n",
       "    <tr>\n",
       "      <th id=\"T_75d91_level0_row52\" class=\"row_heading level0 row52\" >52</th>\n",
       "      <td id=\"T_75d91_row52_col0\" class=\"data row52 col0\" >Feature Selection</td>\n",
       "      <td id=\"T_75d91_row52_col1\" class=\"data row52 col1\" >False</td>\n",
       "    </tr>\n",
       "    <tr>\n",
       "      <th id=\"T_75d91_level0_row53\" class=\"row_heading level0 row53\" >53</th>\n",
       "      <td id=\"T_75d91_row53_col0\" class=\"data row53 col0\" >Feature Selection Method</td>\n",
       "      <td id=\"T_75d91_row53_col1\" class=\"data row53 col1\" >classic</td>\n",
       "    </tr>\n",
       "    <tr>\n",
       "      <th id=\"T_75d91_level0_row54\" class=\"row_heading level0 row54\" >54</th>\n",
       "      <td id=\"T_75d91_row54_col0\" class=\"data row54 col0\" >Features Selection Threshold</td>\n",
       "      <td id=\"T_75d91_row54_col1\" class=\"data row54 col1\" >None</td>\n",
       "    </tr>\n",
       "    <tr>\n",
       "      <th id=\"T_75d91_level0_row55\" class=\"row_heading level0 row55\" >55</th>\n",
       "      <td id=\"T_75d91_row55_col0\" class=\"data row55 col0\" >Feature Interaction</td>\n",
       "      <td id=\"T_75d91_row55_col1\" class=\"data row55 col1\" >False</td>\n",
       "    </tr>\n",
       "    <tr>\n",
       "      <th id=\"T_75d91_level0_row56\" class=\"row_heading level0 row56\" >56</th>\n",
       "      <td id=\"T_75d91_row56_col0\" class=\"data row56 col0\" >Feature Ratio</td>\n",
       "      <td id=\"T_75d91_row56_col1\" class=\"data row56 col1\" >False</td>\n",
       "    </tr>\n",
       "    <tr>\n",
       "      <th id=\"T_75d91_level0_row57\" class=\"row_heading level0 row57\" >57</th>\n",
       "      <td id=\"T_75d91_row57_col0\" class=\"data row57 col0\" >Interaction Threshold</td>\n",
       "      <td id=\"T_75d91_row57_col1\" class=\"data row57 col1\" >None</td>\n",
       "    </tr>\n",
       "    <tr>\n",
       "      <th id=\"T_75d91_level0_row58\" class=\"row_heading level0 row58\" >58</th>\n",
       "      <td id=\"T_75d91_row58_col0\" class=\"data row58 col0\" >Fix Imbalance</td>\n",
       "      <td id=\"T_75d91_row58_col1\" class=\"data row58 col1\" >False</td>\n",
       "    </tr>\n",
       "    <tr>\n",
       "      <th id=\"T_75d91_level0_row59\" class=\"row_heading level0 row59\" >59</th>\n",
       "      <td id=\"T_75d91_row59_col0\" class=\"data row59 col0\" >Fix Imbalance Method</td>\n",
       "      <td id=\"T_75d91_row59_col1\" class=\"data row59 col1\" >SMOTE</td>\n",
       "    </tr>\n",
       "  </tbody>\n",
       "</table>\n"
      ],
      "text/plain": [
       "<pandas.io.formats.style.Styler at 0x7fc858d707f0>"
      ]
     },
     "metadata": {},
     "output_type": "display_data"
    }
   ],
   "source": [
    "clf1 = setup(\n",
    "    data,\n",
    "    target=label,\n",
    "    categorical_features=CAT_FEATURES,\n",
    "    numeric_features=NUM_FEATURES,\n",
    "    normalize=True,\n",
    "    normalize_method='zscore',\n",
    "    feature_selection=False,\n",
    ")"
   ]
  },
  {
   "cell_type": "code",
   "execution_count": 147,
   "id": "cc775fa6-92d8-4d37-ae1d-d0b992022674",
   "metadata": {},
   "outputs": [
    {
     "data": {
      "text/html": [
       "<style type=\"text/css\">\n",
       "#T_6d05e_ th {\n",
       "  text-align: left;\n",
       "}\n",
       "#T_6d05e_row0_col0, #T_6d05e_row0_col2, #T_6d05e_row0_col3, #T_6d05e_row0_col5, #T_6d05e_row1_col0, #T_6d05e_row1_col1, #T_6d05e_row1_col2, #T_6d05e_row1_col3, #T_6d05e_row1_col4, #T_6d05e_row1_col5, #T_6d05e_row1_col6, #T_6d05e_row1_col7, #T_6d05e_row2_col0, #T_6d05e_row2_col1, #T_6d05e_row2_col2, #T_6d05e_row2_col3, #T_6d05e_row2_col4, #T_6d05e_row2_col5, #T_6d05e_row2_col6, #T_6d05e_row2_col7, #T_6d05e_row3_col0, #T_6d05e_row3_col1, #T_6d05e_row3_col3, #T_6d05e_row3_col4, #T_6d05e_row3_col5, #T_6d05e_row3_col6, #T_6d05e_row3_col7, #T_6d05e_row4_col0, #T_6d05e_row4_col1, #T_6d05e_row4_col2, #T_6d05e_row4_col3, #T_6d05e_row4_col4, #T_6d05e_row4_col6, #T_6d05e_row4_col7, #T_6d05e_row5_col0, #T_6d05e_row5_col1, #T_6d05e_row5_col2, #T_6d05e_row5_col3, #T_6d05e_row5_col4, #T_6d05e_row5_col5, #T_6d05e_row5_col6, #T_6d05e_row5_col7, #T_6d05e_row6_col0, #T_6d05e_row6_col1, #T_6d05e_row6_col2, #T_6d05e_row6_col3, #T_6d05e_row6_col4, #T_6d05e_row6_col5, #T_6d05e_row6_col6, #T_6d05e_row6_col7, #T_6d05e_row7_col0, #T_6d05e_row7_col1, #T_6d05e_row7_col2, #T_6d05e_row7_col3, #T_6d05e_row7_col4, #T_6d05e_row7_col5, #T_6d05e_row7_col6, #T_6d05e_row7_col7, #T_6d05e_row8_col0, #T_6d05e_row8_col1, #T_6d05e_row8_col2, #T_6d05e_row8_col3, #T_6d05e_row8_col4, #T_6d05e_row8_col5, #T_6d05e_row8_col6, #T_6d05e_row8_col7, #T_6d05e_row9_col0, #T_6d05e_row9_col1, #T_6d05e_row9_col2, #T_6d05e_row9_col3, #T_6d05e_row9_col4, #T_6d05e_row9_col5, #T_6d05e_row9_col6, #T_6d05e_row9_col7, #T_6d05e_row10_col0, #T_6d05e_row10_col1, #T_6d05e_row10_col2, #T_6d05e_row10_col3, #T_6d05e_row10_col4, #T_6d05e_row10_col5, #T_6d05e_row10_col6, #T_6d05e_row10_col7, #T_6d05e_row11_col0, #T_6d05e_row11_col1, #T_6d05e_row11_col2, #T_6d05e_row11_col4, #T_6d05e_row11_col5, #T_6d05e_row11_col6, #T_6d05e_row11_col7, #T_6d05e_row12_col0, #T_6d05e_row12_col1, #T_6d05e_row12_col2, #T_6d05e_row12_col3, #T_6d05e_row12_col4, #T_6d05e_row12_col5, #T_6d05e_row12_col6, #T_6d05e_row12_col7, #T_6d05e_row13_col0, #T_6d05e_row13_col1, #T_6d05e_row13_col2, #T_6d05e_row13_col3, #T_6d05e_row13_col4, #T_6d05e_row13_col5, #T_6d05e_row13_col6, #T_6d05e_row13_col7, #T_6d05e_row14_col0, #T_6d05e_row14_col1, #T_6d05e_row14_col2, #T_6d05e_row14_col3, #T_6d05e_row14_col4, #T_6d05e_row14_col5, #T_6d05e_row14_col6, #T_6d05e_row14_col7 {\n",
       "  text-align: left;\n",
       "}\n",
       "#T_6d05e_row0_col1, #T_6d05e_row0_col4, #T_6d05e_row0_col6, #T_6d05e_row0_col7, #T_6d05e_row3_col2, #T_6d05e_row4_col5, #T_6d05e_row11_col3 {\n",
       "  text-align: left;\n",
       "  background-color: yellow;\n",
       "}\n",
       "#T_6d05e_row0_col8, #T_6d05e_row1_col8, #T_6d05e_row2_col8, #T_6d05e_row3_col8, #T_6d05e_row4_col8, #T_6d05e_row5_col8, #T_6d05e_row6_col8, #T_6d05e_row7_col8, #T_6d05e_row9_col8, #T_6d05e_row10_col8, #T_6d05e_row11_col8, #T_6d05e_row12_col8, #T_6d05e_row13_col8, #T_6d05e_row14_col8 {\n",
       "  text-align: left;\n",
       "  background-color: lightgrey;\n",
       "}\n",
       "#T_6d05e_row8_col8 {\n",
       "  text-align: left;\n",
       "  background-color: yellow;\n",
       "  background-color: lightgrey;\n",
       "}\n",
       "</style>\n",
       "<table id=\"T_6d05e_\">\n",
       "  <thead>\n",
       "    <tr>\n",
       "      <th class=\"blank level0\" >&nbsp;</th>\n",
       "      <th class=\"col_heading level0 col0\" >Model</th>\n",
       "      <th class=\"col_heading level0 col1\" >Accuracy</th>\n",
       "      <th class=\"col_heading level0 col2\" >AUC</th>\n",
       "      <th class=\"col_heading level0 col3\" >Recall</th>\n",
       "      <th class=\"col_heading level0 col4\" >Prec.</th>\n",
       "      <th class=\"col_heading level0 col5\" >F1</th>\n",
       "      <th class=\"col_heading level0 col6\" >Kappa</th>\n",
       "      <th class=\"col_heading level0 col7\" >MCC</th>\n",
       "      <th class=\"col_heading level0 col8\" >TT (Sec)</th>\n",
       "    </tr>\n",
       "  </thead>\n",
       "  <tbody>\n",
       "    <tr>\n",
       "      <th id=\"T_6d05e_level0_row0\" class=\"row_heading level0 row0\" >lr</th>\n",
       "      <td id=\"T_6d05e_row0_col0\" class=\"data row0 col0\" >Logistic Regression</td>\n",
       "      <td id=\"T_6d05e_row0_col1\" class=\"data row0 col1\" >0.6236</td>\n",
       "      <td id=\"T_6d05e_row0_col2\" class=\"data row0 col2\" >0.6550</td>\n",
       "      <td id=\"T_6d05e_row0_col3\" class=\"data row0 col3\" >0.3950</td>\n",
       "      <td id=\"T_6d05e_row0_col4\" class=\"data row0 col4\" >0.5983</td>\n",
       "      <td id=\"T_6d05e_row0_col5\" class=\"data row0 col5\" >0.4531</td>\n",
       "      <td id=\"T_6d05e_row0_col6\" class=\"data row0 col6\" >0.1984</td>\n",
       "      <td id=\"T_6d05e_row0_col7\" class=\"data row0 col7\" >0.2139</td>\n",
       "      <td id=\"T_6d05e_row0_col8\" class=\"data row0 col8\" >0.6090</td>\n",
       "    </tr>\n",
       "    <tr>\n",
       "      <th id=\"T_6d05e_level0_row1\" class=\"row_heading level0 row1\" >knn</th>\n",
       "      <td id=\"T_6d05e_row1_col0\" class=\"data row1 col0\" >K Neighbors Classifier</td>\n",
       "      <td id=\"T_6d05e_row1_col1\" class=\"data row1 col1\" >0.6145</td>\n",
       "      <td id=\"T_6d05e_row1_col2\" class=\"data row1 col2\" >0.5969</td>\n",
       "      <td id=\"T_6d05e_row1_col3\" class=\"data row1 col3\" >0.3200</td>\n",
       "      <td id=\"T_6d05e_row1_col4\" class=\"data row1 col4\" >0.4667</td>\n",
       "      <td id=\"T_6d05e_row1_col5\" class=\"data row1 col5\" >0.3688</td>\n",
       "      <td id=\"T_6d05e_row1_col6\" class=\"data row1 col6\" >0.1556</td>\n",
       "      <td id=\"T_6d05e_row1_col7\" class=\"data row1 col7\" >0.1508</td>\n",
       "      <td id=\"T_6d05e_row1_col8\" class=\"data row1 col8\" >0.0120</td>\n",
       "    </tr>\n",
       "    <tr>\n",
       "      <th id=\"T_6d05e_level0_row2\" class=\"row_heading level0 row2\" >ridge</th>\n",
       "      <td id=\"T_6d05e_row2_col0\" class=\"data row2 col0\" >Ridge Classifier</td>\n",
       "      <td id=\"T_6d05e_row2_col1\" class=\"data row2 col1\" >0.6136</td>\n",
       "      <td id=\"T_6d05e_row2_col2\" class=\"data row2 col2\" >0.0000</td>\n",
       "      <td id=\"T_6d05e_row2_col3\" class=\"data row2 col3\" >0.3750</td>\n",
       "      <td id=\"T_6d05e_row2_col4\" class=\"data row2 col4\" >0.5750</td>\n",
       "      <td id=\"T_6d05e_row2_col5\" class=\"data row2 col5\" >0.4409</td>\n",
       "      <td id=\"T_6d05e_row2_col6\" class=\"data row2 col6\" >0.1785</td>\n",
       "      <td id=\"T_6d05e_row2_col7\" class=\"data row2 col7\" >0.1887</td>\n",
       "      <td id=\"T_6d05e_row2_col8\" class=\"data row2 col8\" >0.0080</td>\n",
       "    </tr>\n",
       "    <tr>\n",
       "      <th id=\"T_6d05e_level0_row3\" class=\"row_heading level0 row3\" >lda</th>\n",
       "      <td id=\"T_6d05e_row3_col0\" class=\"data row3 col0\" >Linear Discriminant Analysis</td>\n",
       "      <td id=\"T_6d05e_row3_col1\" class=\"data row3 col1\" >0.6036</td>\n",
       "      <td id=\"T_6d05e_row3_col2\" class=\"data row3 col2\" >0.6553</td>\n",
       "      <td id=\"T_6d05e_row3_col3\" class=\"data row3 col3\" >0.3750</td>\n",
       "      <td id=\"T_6d05e_row3_col4\" class=\"data row3 col4\" >0.5667</td>\n",
       "      <td id=\"T_6d05e_row3_col5\" class=\"data row3 col5\" >0.4373</td>\n",
       "      <td id=\"T_6d05e_row3_col6\" class=\"data row3 col6\" >0.1622</td>\n",
       "      <td id=\"T_6d05e_row3_col7\" class=\"data row3 col7\" >0.1726</td>\n",
       "      <td id=\"T_6d05e_row3_col8\" class=\"data row3 col8\" >0.0060</td>\n",
       "    </tr>\n",
       "    <tr>\n",
       "      <th id=\"T_6d05e_level0_row4\" class=\"row_heading level0 row4\" >et</th>\n",
       "      <td id=\"T_6d05e_row4_col0\" class=\"data row4 col0\" >Extra Trees Classifier</td>\n",
       "      <td id=\"T_6d05e_row4_col1\" class=\"data row4 col1\" >0.5855</td>\n",
       "      <td id=\"T_6d05e_row4_col2\" class=\"data row4 col2\" >0.5522</td>\n",
       "      <td id=\"T_6d05e_row4_col3\" class=\"data row4 col3\" >0.4450</td>\n",
       "      <td id=\"T_6d05e_row4_col4\" class=\"data row4 col4\" >0.5233</td>\n",
       "      <td id=\"T_6d05e_row4_col5\" class=\"data row4 col5\" >0.4659</td>\n",
       "      <td id=\"T_6d05e_row4_col6\" class=\"data row4 col6\" >0.1447</td>\n",
       "      <td id=\"T_6d05e_row4_col7\" class=\"data row4 col7\" >0.1495</td>\n",
       "      <td id=\"T_6d05e_row4_col8\" class=\"data row4 col8\" >0.0420</td>\n",
       "    </tr>\n",
       "    <tr>\n",
       "      <th id=\"T_6d05e_level0_row5\" class=\"row_heading level0 row5\" >nb</th>\n",
       "      <td id=\"T_6d05e_row5_col0\" class=\"data row5 col0\" >Naive Bayes</td>\n",
       "      <td id=\"T_6d05e_row5_col1\" class=\"data row5 col1\" >0.5827</td>\n",
       "      <td id=\"T_6d05e_row5_col2\" class=\"data row5 col2\" >0.6386</td>\n",
       "      <td id=\"T_6d05e_row5_col3\" class=\"data row5 col3\" >0.1200</td>\n",
       "      <td id=\"T_6d05e_row5_col4\" class=\"data row5 col4\" >0.4000</td>\n",
       "      <td id=\"T_6d05e_row5_col5\" class=\"data row5 col5\" >0.1800</td>\n",
       "      <td id=\"T_6d05e_row5_col6\" class=\"data row5 col6\" >0.0577</td>\n",
       "      <td id=\"T_6d05e_row5_col7\" class=\"data row5 col7\" >0.0762</td>\n",
       "      <td id=\"T_6d05e_row5_col8\" class=\"data row5 col8\" >0.0050</td>\n",
       "    </tr>\n",
       "    <tr>\n",
       "      <th id=\"T_6d05e_level0_row6\" class=\"row_heading level0 row6\" >rf</th>\n",
       "      <td id=\"T_6d05e_row6_col0\" class=\"data row6 col0\" >Random Forest Classifier</td>\n",
       "      <td id=\"T_6d05e_row6_col1\" class=\"data row6 col1\" >0.5809</td>\n",
       "      <td id=\"T_6d05e_row6_col2\" class=\"data row6 col2\" >0.5642</td>\n",
       "      <td id=\"T_6d05e_row6_col3\" class=\"data row6 col3\" >0.3150</td>\n",
       "      <td id=\"T_6d05e_row6_col4\" class=\"data row6 col4\" >0.4667</td>\n",
       "      <td id=\"T_6d05e_row6_col5\" class=\"data row6 col5\" >0.3562</td>\n",
       "      <td id=\"T_6d05e_row6_col6\" class=\"data row6 col6\" >0.0976</td>\n",
       "      <td id=\"T_6d05e_row6_col7\" class=\"data row6 col7\" >0.0882</td>\n",
       "      <td id=\"T_6d05e_row6_col8\" class=\"data row6 col8\" >0.0630</td>\n",
       "    </tr>\n",
       "    <tr>\n",
       "      <th id=\"T_6d05e_level0_row7\" class=\"row_heading level0 row7\" >qda</th>\n",
       "      <td id=\"T_6d05e_row7_col0\" class=\"data row7 col0\" >Quadratic Discriminant Analysis</td>\n",
       "      <td id=\"T_6d05e_row7_col1\" class=\"data row7 col1\" >0.5736</td>\n",
       "      <td id=\"T_6d05e_row7_col2\" class=\"data row7 col2\" >0.0000</td>\n",
       "      <td id=\"T_6d05e_row7_col3\" class=\"data row7 col3\" >0.0000</td>\n",
       "      <td id=\"T_6d05e_row7_col4\" class=\"data row7 col4\" >0.0000</td>\n",
       "      <td id=\"T_6d05e_row7_col5\" class=\"data row7 col5\" >0.0000</td>\n",
       "      <td id=\"T_6d05e_row7_col6\" class=\"data row7 col6\" >0.0000</td>\n",
       "      <td id=\"T_6d05e_row7_col7\" class=\"data row7 col7\" >0.0000</td>\n",
       "      <td id=\"T_6d05e_row7_col8\" class=\"data row7 col8\" >0.0110</td>\n",
       "    </tr>\n",
       "    <tr>\n",
       "      <th id=\"T_6d05e_level0_row8\" class=\"row_heading level0 row8\" >dummy</th>\n",
       "      <td id=\"T_6d05e_row8_col0\" class=\"data row8 col0\" >Dummy Classifier</td>\n",
       "      <td id=\"T_6d05e_row8_col1\" class=\"data row8 col1\" >0.5736</td>\n",
       "      <td id=\"T_6d05e_row8_col2\" class=\"data row8 col2\" >0.5000</td>\n",
       "      <td id=\"T_6d05e_row8_col3\" class=\"data row8 col3\" >0.0000</td>\n",
       "      <td id=\"T_6d05e_row8_col4\" class=\"data row8 col4\" >0.0000</td>\n",
       "      <td id=\"T_6d05e_row8_col5\" class=\"data row8 col5\" >0.0000</td>\n",
       "      <td id=\"T_6d05e_row8_col6\" class=\"data row8 col6\" >0.0000</td>\n",
       "      <td id=\"T_6d05e_row8_col7\" class=\"data row8 col7\" >0.0000</td>\n",
       "      <td id=\"T_6d05e_row8_col8\" class=\"data row8 col8\" >0.0040</td>\n",
       "    </tr>\n",
       "    <tr>\n",
       "      <th id=\"T_6d05e_level0_row9\" class=\"row_heading level0 row9\" >gbc</th>\n",
       "      <td id=\"T_6d05e_row9_col0\" class=\"data row9 col0\" >Gradient Boosting Classifier</td>\n",
       "      <td id=\"T_6d05e_row9_col1\" class=\"data row9 col1\" >0.5609</td>\n",
       "      <td id=\"T_6d05e_row9_col2\" class=\"data row9 col2\" >0.4870</td>\n",
       "      <td id=\"T_6d05e_row9_col3\" class=\"data row9 col3\" >0.4250</td>\n",
       "      <td id=\"T_6d05e_row9_col4\" class=\"data row9 col4\" >0.5405</td>\n",
       "      <td id=\"T_6d05e_row9_col5\" class=\"data row9 col5\" >0.4493</td>\n",
       "      <td id=\"T_6d05e_row9_col6\" class=\"data row9 col6\" >0.0962</td>\n",
       "      <td id=\"T_6d05e_row9_col7\" class=\"data row9 col7\" >0.1140</td>\n",
       "      <td id=\"T_6d05e_row9_col8\" class=\"data row9 col8\" >0.0190</td>\n",
       "    </tr>\n",
       "    <tr>\n",
       "      <th id=\"T_6d05e_level0_row10\" class=\"row_heading level0 row10\" >svm</th>\n",
       "      <td id=\"T_6d05e_row10_col0\" class=\"data row10 col0\" >SVM - Linear Kernel</td>\n",
       "      <td id=\"T_6d05e_row10_col1\" class=\"data row10 col1\" >0.5518</td>\n",
       "      <td id=\"T_6d05e_row10_col2\" class=\"data row10 col2\" >0.0000</td>\n",
       "      <td id=\"T_6d05e_row10_col3\" class=\"data row10 col3\" >0.3950</td>\n",
       "      <td id=\"T_6d05e_row10_col4\" class=\"data row10 col4\" >0.4521</td>\n",
       "      <td id=\"T_6d05e_row10_col5\" class=\"data row10 col5\" >0.3959</td>\n",
       "      <td id=\"T_6d05e_row10_col6\" class=\"data row10 col6\" >0.0678</td>\n",
       "      <td id=\"T_6d05e_row10_col7\" class=\"data row10 col7\" >0.0870</td>\n",
       "      <td id=\"T_6d05e_row10_col8\" class=\"data row10 col8\" >0.0060</td>\n",
       "    </tr>\n",
       "    <tr>\n",
       "      <th id=\"T_6d05e_level0_row11\" class=\"row_heading level0 row11\" >dt</th>\n",
       "      <td id=\"T_6d05e_row11_col0\" class=\"data row11 col0\" >Decision Tree Classifier</td>\n",
       "      <td id=\"T_6d05e_row11_col1\" class=\"data row11 col1\" >0.5491</td>\n",
       "      <td id=\"T_6d05e_row11_col2\" class=\"data row11 col2\" >0.5375</td>\n",
       "      <td id=\"T_6d05e_row11_col3\" class=\"data row11 col3\" >0.4850</td>\n",
       "      <td id=\"T_6d05e_row11_col4\" class=\"data row11 col4\" >0.4475</td>\n",
       "      <td id=\"T_6d05e_row11_col5\" class=\"data row11 col5\" >0.4521</td>\n",
       "      <td id=\"T_6d05e_row11_col6\" class=\"data row11 col6\" >0.0786</td>\n",
       "      <td id=\"T_6d05e_row11_col7\" class=\"data row11 col7\" >0.0805</td>\n",
       "      <td id=\"T_6d05e_row11_col8\" class=\"data row11 col8\" >0.0310</td>\n",
       "    </tr>\n",
       "    <tr>\n",
       "      <th id=\"T_6d05e_level0_row12\" class=\"row_heading level0 row12\" >lightgbm</th>\n",
       "      <td id=\"T_6d05e_row12_col0\" class=\"data row12 col0\" >Light Gradient Boosting Machine</td>\n",
       "      <td id=\"T_6d05e_row12_col1\" class=\"data row12 col1\" >0.5045</td>\n",
       "      <td id=\"T_6d05e_row12_col2\" class=\"data row12 col2\" >0.5310</td>\n",
       "      <td id=\"T_6d05e_row12_col3\" class=\"data row12 col3\" >0.3900</td>\n",
       "      <td id=\"T_6d05e_row12_col4\" class=\"data row12 col4\" >0.4381</td>\n",
       "      <td id=\"T_6d05e_row12_col5\" class=\"data row12 col5\" >0.3951</td>\n",
       "      <td id=\"T_6d05e_row12_col6\" class=\"data row12 col6\" >-0.0077</td>\n",
       "      <td id=\"T_6d05e_row12_col7\" class=\"data row12 col7\" >-0.0124</td>\n",
       "      <td id=\"T_6d05e_row12_col8\" class=\"data row12 col8\" >0.1330</td>\n",
       "    </tr>\n",
       "    <tr>\n",
       "      <th id=\"T_6d05e_level0_row13\" class=\"row_heading level0 row13\" >ada</th>\n",
       "      <td id=\"T_6d05e_row13_col0\" class=\"data row13 col0\" >Ada Boost Classifier</td>\n",
       "      <td id=\"T_6d05e_row13_col1\" class=\"data row13 col1\" >0.4918</td>\n",
       "      <td id=\"T_6d05e_row13_col2\" class=\"data row13 col2\" >0.4808</td>\n",
       "      <td id=\"T_6d05e_row13_col3\" class=\"data row13 col3\" >0.3850</td>\n",
       "      <td id=\"T_6d05e_row13_col4\" class=\"data row13 col4\" >0.4617</td>\n",
       "      <td id=\"T_6d05e_row13_col5\" class=\"data row13 col5\" >0.3999</td>\n",
       "      <td id=\"T_6d05e_row13_col6\" class=\"data row13 col6\" >-0.0230</td>\n",
       "      <td id=\"T_6d05e_row13_col7\" class=\"data row13 col7\" >-0.0353</td>\n",
       "      <td id=\"T_6d05e_row13_col8\" class=\"data row13 col8\" >0.0190</td>\n",
       "    </tr>\n",
       "    <tr>\n",
       "      <th id=\"T_6d05e_level0_row14\" class=\"row_heading level0 row14\" >xgboost</th>\n",
       "      <td id=\"T_6d05e_row14_col0\" class=\"data row14 col0\" >Extreme Gradient Boosting</td>\n",
       "      <td id=\"T_6d05e_row14_col1\" class=\"data row14 col1\" >0.4827</td>\n",
       "      <td id=\"T_6d05e_row14_col2\" class=\"data row14 col2\" >0.5282</td>\n",
       "      <td id=\"T_6d05e_row14_col3\" class=\"data row14 col3\" >0.3800</td>\n",
       "      <td id=\"T_6d05e_row14_col4\" class=\"data row14 col4\" >0.4021</td>\n",
       "      <td id=\"T_6d05e_row14_col5\" class=\"data row14 col5\" >0.3727</td>\n",
       "      <td id=\"T_6d05e_row14_col6\" class=\"data row14 col6\" >-0.0532</td>\n",
       "      <td id=\"T_6d05e_row14_col7\" class=\"data row14 col7\" >-0.0515</td>\n",
       "      <td id=\"T_6d05e_row14_col8\" class=\"data row14 col8\" >0.2010</td>\n",
       "    </tr>\n",
       "  </tbody>\n",
       "</table>\n"
      ],
      "text/plain": [
       "<pandas.io.formats.style.Styler at 0x7fc82879ee80>"
      ]
     },
     "metadata": {},
     "output_type": "display_data"
    }
   ],
   "source": [
    "best_model = compare_models()"
   ]
  },
  {
   "cell_type": "code",
   "execution_count": 148,
   "id": "fd668b2a-fdf3-44f9-ad77-f45c53e4d2f0",
   "metadata": {},
   "outputs": [
    {
     "data": {
      "text/html": [
       "<style type=\"text/css\">\n",
       "#T_14cb0_row10_col0, #T_14cb0_row10_col1, #T_14cb0_row10_col2, #T_14cb0_row10_col3, #T_14cb0_row10_col4, #T_14cb0_row10_col5, #T_14cb0_row10_col6 {\n",
       "  background: yellow;\n",
       "}\n",
       "</style>\n",
       "<table id=\"T_14cb0_\">\n",
       "  <thead>\n",
       "    <tr>\n",
       "      <th class=\"blank level0\" >&nbsp;</th>\n",
       "      <th class=\"col_heading level0 col0\" >Accuracy</th>\n",
       "      <th class=\"col_heading level0 col1\" >AUC</th>\n",
       "      <th class=\"col_heading level0 col2\" >Recall</th>\n",
       "      <th class=\"col_heading level0 col3\" >Prec.</th>\n",
       "      <th class=\"col_heading level0 col4\" >F1</th>\n",
       "      <th class=\"col_heading level0 col5\" >Kappa</th>\n",
       "      <th class=\"col_heading level0 col6\" >MCC</th>\n",
       "    </tr>\n",
       "  </thead>\n",
       "  <tbody>\n",
       "    <tr>\n",
       "      <th id=\"T_14cb0_level0_row0\" class=\"row_heading level0 row0\" >0</th>\n",
       "      <td id=\"T_14cb0_row0_col0\" class=\"data row0 col0\" >0.6364</td>\n",
       "      <td id=\"T_14cb0_row0_col1\" class=\"data row0 col1\" >0.8333</td>\n",
       "      <td id=\"T_14cb0_row0_col2\" class=\"data row0 col2\" >0.4000</td>\n",
       "      <td id=\"T_14cb0_row0_col3\" class=\"data row0 col3\" >0.6667</td>\n",
       "      <td id=\"T_14cb0_row0_col4\" class=\"data row0 col4\" >0.5000</td>\n",
       "      <td id=\"T_14cb0_row0_col5\" class=\"data row0 col5\" >0.2414</td>\n",
       "      <td id=\"T_14cb0_row0_col6\" class=\"data row0 col6\" >0.2609</td>\n",
       "    </tr>\n",
       "    <tr>\n",
       "      <th id=\"T_14cb0_level0_row1\" class=\"row_heading level0 row1\" >1</th>\n",
       "      <td id=\"T_14cb0_row1_col0\" class=\"data row1 col0\" >0.4545</td>\n",
       "      <td id=\"T_14cb0_row1_col1\" class=\"data row1 col1\" >0.5000</td>\n",
       "      <td id=\"T_14cb0_row1_col2\" class=\"data row1 col2\" >0.4000</td>\n",
       "      <td id=\"T_14cb0_row1_col3\" class=\"data row1 col3\" >0.4000</td>\n",
       "      <td id=\"T_14cb0_row1_col4\" class=\"data row1 col4\" >0.4000</td>\n",
       "      <td id=\"T_14cb0_row1_col5\" class=\"data row1 col5\" >-0.1000</td>\n",
       "      <td id=\"T_14cb0_row1_col6\" class=\"data row1 col6\" >-0.1000</td>\n",
       "    </tr>\n",
       "    <tr>\n",
       "      <th id=\"T_14cb0_level0_row2\" class=\"row_heading level0 row2\" >2</th>\n",
       "      <td id=\"T_14cb0_row2_col0\" class=\"data row2 col0\" >0.5455</td>\n",
       "      <td id=\"T_14cb0_row2_col1\" class=\"data row2 col1\" >0.7333</td>\n",
       "      <td id=\"T_14cb0_row2_col2\" class=\"data row2 col2\" >0.2000</td>\n",
       "      <td id=\"T_14cb0_row2_col3\" class=\"data row2 col3\" >0.5000</td>\n",
       "      <td id=\"T_14cb0_row2_col4\" class=\"data row2 col4\" >0.2857</td>\n",
       "      <td id=\"T_14cb0_row2_col5\" class=\"data row2 col5\" >0.0351</td>\n",
       "      <td id=\"T_14cb0_row2_col6\" class=\"data row2 col6\" >0.0430</td>\n",
       "    </tr>\n",
       "    <tr>\n",
       "      <th id=\"T_14cb0_level0_row3\" class=\"row_heading level0 row3\" >3</th>\n",
       "      <td id=\"T_14cb0_row3_col0\" class=\"data row3 col0\" >0.9000</td>\n",
       "      <td id=\"T_14cb0_row3_col1\" class=\"data row3 col1\" >0.8750</td>\n",
       "      <td id=\"T_14cb0_row3_col2\" class=\"data row3 col2\" >0.7500</td>\n",
       "      <td id=\"T_14cb0_row3_col3\" class=\"data row3 col3\" >1.0000</td>\n",
       "      <td id=\"T_14cb0_row3_col4\" class=\"data row3 col4\" >0.8571</td>\n",
       "      <td id=\"T_14cb0_row3_col5\" class=\"data row3 col5\" >0.7826</td>\n",
       "      <td id=\"T_14cb0_row3_col6\" class=\"data row3 col6\" >0.8018</td>\n",
       "    </tr>\n",
       "    <tr>\n",
       "      <th id=\"T_14cb0_level0_row4\" class=\"row_heading level0 row4\" >4</th>\n",
       "      <td id=\"T_14cb0_row4_col0\" class=\"data row4 col0\" >0.4000</td>\n",
       "      <td id=\"T_14cb0_row4_col1\" class=\"data row4 col1\" >0.3333</td>\n",
       "      <td id=\"T_14cb0_row4_col2\" class=\"data row4 col2\" >0.0000</td>\n",
       "      <td id=\"T_14cb0_row4_col3\" class=\"data row4 col3\" >0.0000</td>\n",
       "      <td id=\"T_14cb0_row4_col4\" class=\"data row4 col4\" >0.0000</td>\n",
       "      <td id=\"T_14cb0_row4_col5\" class=\"data row4 col5\" >-0.3636</td>\n",
       "      <td id=\"T_14cb0_row4_col6\" class=\"data row4 col6\" >-0.4082</td>\n",
       "    </tr>\n",
       "    <tr>\n",
       "      <th id=\"T_14cb0_level0_row5\" class=\"row_heading level0 row5\" >5</th>\n",
       "      <td id=\"T_14cb0_row5_col0\" class=\"data row5 col0\" >0.6000</td>\n",
       "      <td id=\"T_14cb0_row5_col1\" class=\"data row5 col1\" >0.7083</td>\n",
       "      <td id=\"T_14cb0_row5_col2\" class=\"data row5 col2\" >0.2500</td>\n",
       "      <td id=\"T_14cb0_row5_col3\" class=\"data row5 col3\" >0.5000</td>\n",
       "      <td id=\"T_14cb0_row5_col4\" class=\"data row5 col4\" >0.3333</td>\n",
       "      <td id=\"T_14cb0_row5_col5\" class=\"data row5 col5\" >0.0909</td>\n",
       "      <td id=\"T_14cb0_row5_col6\" class=\"data row5 col6\" >0.1021</td>\n",
       "    </tr>\n",
       "    <tr>\n",
       "      <th id=\"T_14cb0_level0_row6\" class=\"row_heading level0 row6\" >6</th>\n",
       "      <td id=\"T_14cb0_row6_col0\" class=\"data row6 col0\" >0.7000</td>\n",
       "      <td id=\"T_14cb0_row6_col1\" class=\"data row6 col1\" >0.7917</td>\n",
       "      <td id=\"T_14cb0_row6_col2\" class=\"data row6 col2\" >0.5000</td>\n",
       "      <td id=\"T_14cb0_row6_col3\" class=\"data row6 col3\" >0.6667</td>\n",
       "      <td id=\"T_14cb0_row6_col4\" class=\"data row6 col4\" >0.5714</td>\n",
       "      <td id=\"T_14cb0_row6_col5\" class=\"data row6 col5\" >0.3478</td>\n",
       "      <td id=\"T_14cb0_row6_col6\" class=\"data row6 col6\" >0.3563</td>\n",
       "    </tr>\n",
       "    <tr>\n",
       "      <th id=\"T_14cb0_level0_row7\" class=\"row_heading level0 row7\" >7</th>\n",
       "      <td id=\"T_14cb0_row7_col0\" class=\"data row7 col0\" >0.8000</td>\n",
       "      <td id=\"T_14cb0_row7_col1\" class=\"data row7 col1\" >0.7083</td>\n",
       "      <td id=\"T_14cb0_row7_col2\" class=\"data row7 col2\" >0.7500</td>\n",
       "      <td id=\"T_14cb0_row7_col3\" class=\"data row7 col3\" >0.7500</td>\n",
       "      <td id=\"T_14cb0_row7_col4\" class=\"data row7 col4\" >0.7500</td>\n",
       "      <td id=\"T_14cb0_row7_col5\" class=\"data row7 col5\" >0.5833</td>\n",
       "      <td id=\"T_14cb0_row7_col6\" class=\"data row7 col6\" >0.5833</td>\n",
       "    </tr>\n",
       "    <tr>\n",
       "      <th id=\"T_14cb0_level0_row8\" class=\"row_heading level0 row8\" >8</th>\n",
       "      <td id=\"T_14cb0_row8_col0\" class=\"data row8 col0\" >0.6000</td>\n",
       "      <td id=\"T_14cb0_row8_col1\" class=\"data row8 col1\" >0.6667</td>\n",
       "      <td id=\"T_14cb0_row8_col2\" class=\"data row8 col2\" >0.5000</td>\n",
       "      <td id=\"T_14cb0_row8_col3\" class=\"data row8 col3\" >0.5000</td>\n",
       "      <td id=\"T_14cb0_row8_col4\" class=\"data row8 col4\" >0.5000</td>\n",
       "      <td id=\"T_14cb0_row8_col5\" class=\"data row8 col5\" >0.1667</td>\n",
       "      <td id=\"T_14cb0_row8_col6\" class=\"data row8 col6\" >0.1667</td>\n",
       "    </tr>\n",
       "    <tr>\n",
       "      <th id=\"T_14cb0_level0_row9\" class=\"row_heading level0 row9\" >9</th>\n",
       "      <td id=\"T_14cb0_row9_col0\" class=\"data row9 col0\" >0.6000</td>\n",
       "      <td id=\"T_14cb0_row9_col1\" class=\"data row9 col1\" >0.4000</td>\n",
       "      <td id=\"T_14cb0_row9_col2\" class=\"data row9 col2\" >0.2000</td>\n",
       "      <td id=\"T_14cb0_row9_col3\" class=\"data row9 col3\" >1.0000</td>\n",
       "      <td id=\"T_14cb0_row9_col4\" class=\"data row9 col4\" >0.3333</td>\n",
       "      <td id=\"T_14cb0_row9_col5\" class=\"data row9 col5\" >0.2000</td>\n",
       "      <td id=\"T_14cb0_row9_col6\" class=\"data row9 col6\" >0.3333</td>\n",
       "    </tr>\n",
       "    <tr>\n",
       "      <th id=\"T_14cb0_level0_row10\" class=\"row_heading level0 row10\" >Mean</th>\n",
       "      <td id=\"T_14cb0_row10_col0\" class=\"data row10 col0\" >0.6236</td>\n",
       "      <td id=\"T_14cb0_row10_col1\" class=\"data row10 col1\" >0.6550</td>\n",
       "      <td id=\"T_14cb0_row10_col2\" class=\"data row10 col2\" >0.3950</td>\n",
       "      <td id=\"T_14cb0_row10_col3\" class=\"data row10 col3\" >0.5983</td>\n",
       "      <td id=\"T_14cb0_row10_col4\" class=\"data row10 col4\" >0.4531</td>\n",
       "      <td id=\"T_14cb0_row10_col5\" class=\"data row10 col5\" >0.1984</td>\n",
       "      <td id=\"T_14cb0_row10_col6\" class=\"data row10 col6\" >0.2139</td>\n",
       "    </tr>\n",
       "    <tr>\n",
       "      <th id=\"T_14cb0_level0_row11\" class=\"row_heading level0 row11\" >SD</th>\n",
       "      <td id=\"T_14cb0_row11_col0\" class=\"data row11 col0\" >0.1414</td>\n",
       "      <td id=\"T_14cb0_row11_col1\" class=\"data row11 col1\" >0.1742</td>\n",
       "      <td id=\"T_14cb0_row11_col2\" class=\"data row11 col2\" >0.2296</td>\n",
       "      <td id=\"T_14cb0_row11_col3\" class=\"data row11 col3\" >0.2795</td>\n",
       "      <td id=\"T_14cb0_row11_col4\" class=\"data row11 col4\" >0.2312</td>\n",
       "      <td id=\"T_14cb0_row11_col5\" class=\"data row11 col5\" >0.3095</td>\n",
       "      <td id=\"T_14cb0_row11_col6\" class=\"data row11 col6\" >0.3238</td>\n",
       "    </tr>\n",
       "  </tbody>\n",
       "</table>\n"
      ],
      "text/plain": [
       "<pandas.io.formats.style.Styler at 0x7fc7e8bba910>"
      ]
     },
     "metadata": {},
     "output_type": "display_data"
    }
   ],
   "source": [
    "# we create the model that maximize AUC\n",
    "model = create_model('lr')"
   ]
  },
  {
   "cell_type": "code",
   "execution_count": 149,
   "id": "acc64398-d95e-4c09-87f1-85921f44c1ff",
   "metadata": {},
   "outputs": [
    {
     "data": {
      "text/html": [
       "<style type=\"text/css\">\n",
       "#T_4bb7f_row10_col0, #T_4bb7f_row10_col1, #T_4bb7f_row10_col2, #T_4bb7f_row10_col3, #T_4bb7f_row10_col4, #T_4bb7f_row10_col5, #T_4bb7f_row10_col6 {\n",
       "  background: yellow;\n",
       "}\n",
       "</style>\n",
       "<table id=\"T_4bb7f_\">\n",
       "  <thead>\n",
       "    <tr>\n",
       "      <th class=\"blank level0\" >&nbsp;</th>\n",
       "      <th class=\"col_heading level0 col0\" >Accuracy</th>\n",
       "      <th class=\"col_heading level0 col1\" >AUC</th>\n",
       "      <th class=\"col_heading level0 col2\" >Recall</th>\n",
       "      <th class=\"col_heading level0 col3\" >Prec.</th>\n",
       "      <th class=\"col_heading level0 col4\" >F1</th>\n",
       "      <th class=\"col_heading level0 col5\" >Kappa</th>\n",
       "      <th class=\"col_heading level0 col6\" >MCC</th>\n",
       "    </tr>\n",
       "  </thead>\n",
       "  <tbody>\n",
       "    <tr>\n",
       "      <th id=\"T_4bb7f_level0_row0\" class=\"row_heading level0 row0\" >0</th>\n",
       "      <td id=\"T_4bb7f_row0_col0\" class=\"data row0 col0\" >0.8182</td>\n",
       "      <td id=\"T_4bb7f_row0_col1\" class=\"data row0 col1\" >0.8667</td>\n",
       "      <td id=\"T_4bb7f_row0_col2\" class=\"data row0 col2\" >0.8000</td>\n",
       "      <td id=\"T_4bb7f_row0_col3\" class=\"data row0 col3\" >0.8000</td>\n",
       "      <td id=\"T_4bb7f_row0_col4\" class=\"data row0 col4\" >0.8000</td>\n",
       "      <td id=\"T_4bb7f_row0_col5\" class=\"data row0 col5\" >0.6333</td>\n",
       "      <td id=\"T_4bb7f_row0_col6\" class=\"data row0 col6\" >0.6333</td>\n",
       "    </tr>\n",
       "    <tr>\n",
       "      <th id=\"T_4bb7f_level0_row1\" class=\"row_heading level0 row1\" >1</th>\n",
       "      <td id=\"T_4bb7f_row1_col0\" class=\"data row1 col0\" >0.5455</td>\n",
       "      <td id=\"T_4bb7f_row1_col1\" class=\"data row1 col1\" >0.5000</td>\n",
       "      <td id=\"T_4bb7f_row1_col2\" class=\"data row1 col2\" >0.6000</td>\n",
       "      <td id=\"T_4bb7f_row1_col3\" class=\"data row1 col3\" >0.5000</td>\n",
       "      <td id=\"T_4bb7f_row1_col4\" class=\"data row1 col4\" >0.5455</td>\n",
       "      <td id=\"T_4bb7f_row1_col5\" class=\"data row1 col5\" >0.0984</td>\n",
       "      <td id=\"T_4bb7f_row1_col6\" class=\"data row1 col6\" >0.1000</td>\n",
       "    </tr>\n",
       "    <tr>\n",
       "      <th id=\"T_4bb7f_level0_row2\" class=\"row_heading level0 row2\" >2</th>\n",
       "      <td id=\"T_4bb7f_row2_col0\" class=\"data row2 col0\" >0.5455</td>\n",
       "      <td id=\"T_4bb7f_row2_col1\" class=\"data row2 col1\" >0.7333</td>\n",
       "      <td id=\"T_4bb7f_row2_col2\" class=\"data row2 col2\" >0.4000</td>\n",
       "      <td id=\"T_4bb7f_row2_col3\" class=\"data row2 col3\" >0.5000</td>\n",
       "      <td id=\"T_4bb7f_row2_col4\" class=\"data row2 col4\" >0.4444</td>\n",
       "      <td id=\"T_4bb7f_row2_col5\" class=\"data row2 col5\" >0.0678</td>\n",
       "      <td id=\"T_4bb7f_row2_col6\" class=\"data row2 col6\" >0.0690</td>\n",
       "    </tr>\n",
       "    <tr>\n",
       "      <th id=\"T_4bb7f_level0_row3\" class=\"row_heading level0 row3\" >3</th>\n",
       "      <td id=\"T_4bb7f_row3_col0\" class=\"data row3 col0\" >0.9000</td>\n",
       "      <td id=\"T_4bb7f_row3_col1\" class=\"data row3 col1\" >0.8750</td>\n",
       "      <td id=\"T_4bb7f_row3_col2\" class=\"data row3 col2\" >0.7500</td>\n",
       "      <td id=\"T_4bb7f_row3_col3\" class=\"data row3 col3\" >1.0000</td>\n",
       "      <td id=\"T_4bb7f_row3_col4\" class=\"data row3 col4\" >0.8571</td>\n",
       "      <td id=\"T_4bb7f_row3_col5\" class=\"data row3 col5\" >0.7826</td>\n",
       "      <td id=\"T_4bb7f_row3_col6\" class=\"data row3 col6\" >0.8018</td>\n",
       "    </tr>\n",
       "    <tr>\n",
       "      <th id=\"T_4bb7f_level0_row4\" class=\"row_heading level0 row4\" >4</th>\n",
       "      <td id=\"T_4bb7f_row4_col0\" class=\"data row4 col0\" >0.4000</td>\n",
       "      <td id=\"T_4bb7f_row4_col1\" class=\"data row4 col1\" >0.2917</td>\n",
       "      <td id=\"T_4bb7f_row4_col2\" class=\"data row4 col2\" >0.0000</td>\n",
       "      <td id=\"T_4bb7f_row4_col3\" class=\"data row4 col3\" >0.0000</td>\n",
       "      <td id=\"T_4bb7f_row4_col4\" class=\"data row4 col4\" >0.0000</td>\n",
       "      <td id=\"T_4bb7f_row4_col5\" class=\"data row4 col5\" >-0.3636</td>\n",
       "      <td id=\"T_4bb7f_row4_col6\" class=\"data row4 col6\" >-0.4082</td>\n",
       "    </tr>\n",
       "    <tr>\n",
       "      <th id=\"T_4bb7f_level0_row5\" class=\"row_heading level0 row5\" >5</th>\n",
       "      <td id=\"T_4bb7f_row5_col0\" class=\"data row5 col0\" >0.7000</td>\n",
       "      <td id=\"T_4bb7f_row5_col1\" class=\"data row5 col1\" >0.7083</td>\n",
       "      <td id=\"T_4bb7f_row5_col2\" class=\"data row5 col2\" >0.5000</td>\n",
       "      <td id=\"T_4bb7f_row5_col3\" class=\"data row5 col3\" >0.6667</td>\n",
       "      <td id=\"T_4bb7f_row5_col4\" class=\"data row5 col4\" >0.5714</td>\n",
       "      <td id=\"T_4bb7f_row5_col5\" class=\"data row5 col5\" >0.3478</td>\n",
       "      <td id=\"T_4bb7f_row5_col6\" class=\"data row5 col6\" >0.3563</td>\n",
       "    </tr>\n",
       "    <tr>\n",
       "      <th id=\"T_4bb7f_level0_row6\" class=\"row_heading level0 row6\" >6</th>\n",
       "      <td id=\"T_4bb7f_row6_col0\" class=\"data row6 col0\" >0.7000</td>\n",
       "      <td id=\"T_4bb7f_row6_col1\" class=\"data row6 col1\" >0.7500</td>\n",
       "      <td id=\"T_4bb7f_row6_col2\" class=\"data row6 col2\" >0.7500</td>\n",
       "      <td id=\"T_4bb7f_row6_col3\" class=\"data row6 col3\" >0.6000</td>\n",
       "      <td id=\"T_4bb7f_row6_col4\" class=\"data row6 col4\" >0.6667</td>\n",
       "      <td id=\"T_4bb7f_row6_col5\" class=\"data row6 col5\" >0.4000</td>\n",
       "      <td id=\"T_4bb7f_row6_col6\" class=\"data row6 col6\" >0.4082</td>\n",
       "    </tr>\n",
       "    <tr>\n",
       "      <th id=\"T_4bb7f_level0_row7\" class=\"row_heading level0 row7\" >7</th>\n",
       "      <td id=\"T_4bb7f_row7_col0\" class=\"data row7 col0\" >0.6000</td>\n",
       "      <td id=\"T_4bb7f_row7_col1\" class=\"data row7 col1\" >0.7083</td>\n",
       "      <td id=\"T_4bb7f_row7_col2\" class=\"data row7 col2\" >0.7500</td>\n",
       "      <td id=\"T_4bb7f_row7_col3\" class=\"data row7 col3\" >0.5000</td>\n",
       "      <td id=\"T_4bb7f_row7_col4\" class=\"data row7 col4\" >0.6000</td>\n",
       "      <td id=\"T_4bb7f_row7_col5\" class=\"data row7 col5\" >0.2308</td>\n",
       "      <td id=\"T_4bb7f_row7_col6\" class=\"data row7 col6\" >0.2500</td>\n",
       "    </tr>\n",
       "    <tr>\n",
       "      <th id=\"T_4bb7f_level0_row8\" class=\"row_heading level0 row8\" >8</th>\n",
       "      <td id=\"T_4bb7f_row8_col0\" class=\"data row8 col0\" >0.6000</td>\n",
       "      <td id=\"T_4bb7f_row8_col1\" class=\"data row8 col1\" >0.6250</td>\n",
       "      <td id=\"T_4bb7f_row8_col2\" class=\"data row8 col2\" >0.7500</td>\n",
       "      <td id=\"T_4bb7f_row8_col3\" class=\"data row8 col3\" >0.5000</td>\n",
       "      <td id=\"T_4bb7f_row8_col4\" class=\"data row8 col4\" >0.6000</td>\n",
       "      <td id=\"T_4bb7f_row8_col5\" class=\"data row8 col5\" >0.2308</td>\n",
       "      <td id=\"T_4bb7f_row8_col6\" class=\"data row8 col6\" >0.2500</td>\n",
       "    </tr>\n",
       "    <tr>\n",
       "      <th id=\"T_4bb7f_level0_row9\" class=\"row_heading level0 row9\" >9</th>\n",
       "      <td id=\"T_4bb7f_row9_col0\" class=\"data row9 col0\" >0.5000</td>\n",
       "      <td id=\"T_4bb7f_row9_col1\" class=\"data row9 col1\" >0.5600</td>\n",
       "      <td id=\"T_4bb7f_row9_col2\" class=\"data row9 col2\" >0.4000</td>\n",
       "      <td id=\"T_4bb7f_row9_col3\" class=\"data row9 col3\" >0.5000</td>\n",
       "      <td id=\"T_4bb7f_row9_col4\" class=\"data row9 col4\" >0.4444</td>\n",
       "      <td id=\"T_4bb7f_row9_col5\" class=\"data row9 col5\" >0.0000</td>\n",
       "      <td id=\"T_4bb7f_row9_col6\" class=\"data row9 col6\" >0.0000</td>\n",
       "    </tr>\n",
       "    <tr>\n",
       "      <th id=\"T_4bb7f_level0_row10\" class=\"row_heading level0 row10\" >Mean</th>\n",
       "      <td id=\"T_4bb7f_row10_col0\" class=\"data row10 col0\" >0.6309</td>\n",
       "      <td id=\"T_4bb7f_row10_col1\" class=\"data row10 col1\" >0.6618</td>\n",
       "      <td id=\"T_4bb7f_row10_col2\" class=\"data row10 col2\" >0.5700</td>\n",
       "      <td id=\"T_4bb7f_row10_col3\" class=\"data row10 col3\" >0.5567</td>\n",
       "      <td id=\"T_4bb7f_row10_col4\" class=\"data row10 col4\" >0.5530</td>\n",
       "      <td id=\"T_4bb7f_row10_col5\" class=\"data row10 col5\" >0.2428</td>\n",
       "      <td id=\"T_4bb7f_row10_col6\" class=\"data row10 col6\" >0.2460</td>\n",
       "    </tr>\n",
       "    <tr>\n",
       "      <th id=\"T_4bb7f_level0_row11\" class=\"row_heading level0 row11\" >SD</th>\n",
       "      <td id=\"T_4bb7f_row11_col0\" class=\"data row11 col0\" >0.1428</td>\n",
       "      <td id=\"T_4bb7f_row11_col1\" class=\"data row11 col1\" >0.1672</td>\n",
       "      <td id=\"T_4bb7f_row11_col2\" class=\"data row11 col2\" >0.2390</td>\n",
       "      <td id=\"T_4bb7f_row11_col3\" class=\"data row11 col3\" >0.2441</td>\n",
       "      <td id=\"T_4bb7f_row11_col4\" class=\"data row11 col4\" >0.2237</td>\n",
       "      <td id=\"T_4bb7f_row11_col5\" class=\"data row11 col5\" >0.3095</td>\n",
       "      <td id=\"T_4bb7f_row11_col6\" class=\"data row11 col6\" >0.3223</td>\n",
       "    </tr>\n",
       "  </tbody>\n",
       "</table>\n"
      ],
      "text/plain": [
       "<pandas.io.formats.style.Styler at 0x7fc82879afd0>"
      ]
     },
     "metadata": {},
     "output_type": "display_data"
    }
   ],
   "source": [
    "tuned_model = tune_model(model)"
   ]
  },
  {
   "cell_type": "code",
   "execution_count": 150,
   "id": "b133afe0-8f1e-4e03-8802-acc0ede213a5",
   "metadata": {},
   "outputs": [
    {
     "data": {
      "image/png": "[encoded data removed]",
      "text/plain": [
       "<Figure size 576x396 with 1 Axes>"
      ]
     },
     "metadata": {},
     "output_type": "display_data"
    }
   ],
   "source": [
    "plot_model(tuned_model)"
   ]
  },
  {
   "cell_type": "code",
   "execution_count": 94,
   "id": "64ce45a2-4e11-4ff9-853e-c7f1db5bf2e4",
   "metadata": {},
   "outputs": [
    {
     "data": {
      "image/png": "[encoded data removed]",
      "text/plain": [
       "<Figure size 576x396 with 1 Axes>"
      ]
     },
     "metadata": {},
     "output_type": "display_data"
    }
   ],
   "source": [
    "plot_model(tuned_model, plot = 'pr')"
   ]
  },
  {
   "cell_type": "code",
   "execution_count": 151,
   "id": "d4cffd42-25c8-4bf2-9390-4335821112c4",
   "metadata": {},
   "outputs": [
    {
     "data": {
      "image/png": "[encoded data removed]",
      "text/plain": [
       "<Figure size 576x396 with 1 Axes>"
      ]
     },
     "metadata": {},
     "output_type": "display_data"
    }
   ],
   "source": [
    "plot_model(tuned_model, plot = 'confusion_matrix')"
   ]
  },
  {
   "cell_type": "code",
   "execution_count": 152,
   "id": "34d91746-d3f0-42c0-9f5c-9ad31998b458",
   "metadata": {},
   "outputs": [
    {
     "data": {
      "image/png": "[encoded data removed]",
      "text/plain": [
       "<Figure size 800x500 with 1 Axes>"
      ]
     },
     "metadata": {},
     "output_type": "display_data"
    }
   ],
   "source": [
    "plot_model(tuned_model, plot = 'feature')"
   ]
  },
  {
   "cell_type": "code",
   "execution_count": 153,
   "id": "098c37af-8a7b-40c3-ad27-f5e5ce5f4343",
   "metadata": {},
   "outputs": [
    {
     "ename": "TypeError",
     "evalue": "This function only supports tree based models for binary classification: lightgbm, et, xgboost, dt, rf.",
     "output_type": "error",
     "traceback": [
      "\u001b[0;31m---------------------------------------------------------------------------\u001b[0m",
      "\u001b[0;31mTypeError\u001b[0m                                 Traceback (most recent call last)",
      "\u001b[0;32m<ipython-input-153-fe0d132d012b>\u001b[0m in \u001b[0;36m<module>\u001b[0;34m\u001b[0m\n\u001b[0;32m----> 1\u001b[0;31m \u001b[0minterpret_model\u001b[0m\u001b[0;34m(\u001b[0m\u001b[0mtuned_model\u001b[0m\u001b[0;34m)\u001b[0m\u001b[0;34m\u001b[0m\u001b[0;34m\u001b[0m\u001b[0m\n\u001b[0m",
      "\u001b[0;32m/opt/homebrew/Caskroom/miniconda/base/lib/python3.8/site-packages/pycaret/classification.py\u001b[0m in \u001b[0;36minterpret_model\u001b[0;34m(estimator, plot, feature, observation, use_train_data, X_new_sample, y_new_sample, save, **kwargs)\u001b[0m\n\u001b[1;32m   1760\u001b[0m     \"\"\"\n\u001b[1;32m   1761\u001b[0m \u001b[0;34m\u001b[0m\u001b[0m\n\u001b[0;32m-> 1762\u001b[0;31m     return pycaret.internal.tabular.interpret_model(\n\u001b[0m\u001b[1;32m   1763\u001b[0m         \u001b[0mestimator\u001b[0m\u001b[0;34m=\u001b[0m\u001b[0mestimator\u001b[0m\u001b[0;34m,\u001b[0m\u001b[0;34m\u001b[0m\u001b[0;34m\u001b[0m\u001b[0m\n\u001b[1;32m   1764\u001b[0m         \u001b[0mplot\u001b[0m\u001b[0;34m=\u001b[0m\u001b[0mplot\u001b[0m\u001b[0;34m,\u001b[0m\u001b[0;34m\u001b[0m\u001b[0;34m\u001b[0m\u001b[0m\n",
      "\u001b[0;32m/opt/homebrew/Caskroom/miniconda/base/lib/python3.8/site-packages/pycaret/internal/tabular.py\u001b[0m in \u001b[0;36minterpret_model\u001b[0;34m(estimator, plot, feature, observation, use_train_data, X_new_sample, y_new_sample, save, **kwargs)\u001b[0m\n\u001b[1;32m   7667\u001b[0m         \u001b[0mmodel_id\u001b[0m \u001b[0;32mnot\u001b[0m \u001b[0;32min\u001b[0m \u001b[0mshap_models_ids\u001b[0m\u001b[0;34m\u001b[0m\u001b[0;34m\u001b[0m\u001b[0m\n\u001b[1;32m   7668\u001b[0m     ):\n\u001b[0;32m-> 7669\u001b[0;31m         raise TypeError(\n\u001b[0m\u001b[1;32m   7670\u001b[0m             \u001b[0;34mf\"This function only supports tree based models for binary classification: {', '.join(shap_models_ids)}.\"\u001b[0m\u001b[0;34m\u001b[0m\u001b[0;34m\u001b[0m\u001b[0m\n\u001b[1;32m   7671\u001b[0m         )\n",
      "\u001b[0;31mTypeError\u001b[0m: This function only supports tree based models for binary classification: lightgbm, et, xgboost, dt, rf."
     ]
    }
   ],
   "source": [
    "interpret_model(tuned_model)"
   ]
  },
  {
   "cell_type": "markdown",
   "id": "3b4986fb-2dbd-418d-8fdf-46727d99e222",
   "metadata": {
    "tags": []
   },
   "source": [
    "# Processing gene data"
   ]
  },
  {
   "cell_type": "markdown",
   "id": "2abe045a-1f2c-4c19-9d07-4b82c98ce7de",
   "metadata": {
    "tags": []
   },
   "source": [
    "## removing gene cols with missing values"
   ]
  },
  {
   "cell_type": "code",
   "execution_count": 103,
   "id": "f0e22f56-961e-4e66-8971-88a49d279fd2",
   "metadata": {},
   "outputs": [],
   "source": [
    "ratio_cols = [col for col in data_all.columns.tolist() if \"ratio\" in col]\n",
    "zscore_cols = [col for col in data_all.columns.tolist() if \"zscore\" in col]\n",
    "gene_ratio = data_all[ratio_cols]\n",
    "gene_zscore = data_all[zscore_cols]"
   ]
  },
  {
   "cell_type": "code",
   "execution_count": 106,
   "id": "2629f035-b6d5-45ef-adb0-a4dbfa1ac988",
   "metadata": {},
   "outputs": [],
   "source": [
    "def compute_null_ratio(df: pd.DataFrame) -> pd.DataFrame:\n",
    "    return pd.DataFrame(df.isna().sum()/len(df), columns=['null_ratio']).reset_index()"
   ]
  },
  {
   "cell_type": "code",
   "execution_count": 107,
   "id": "191b7809-9530-4840-bb97-cf5240cae6a5",
   "metadata": {},
   "outputs": [],
   "source": [
    "ratio_stats = compute_null_ratio(gene_ratio)\n",
    "zscore_stats = compute_null_ratio(gene_zscore)"
   ]
  },
  {
   "cell_type": "code",
   "execution_count": 108,
   "id": "3d0ec233-8034-437e-8fc3-77ba8c7d590c",
   "metadata": {},
   "outputs": [],
   "source": [
    "def plot_distribution(df: pd.DataFrame, threshold: float = 0.0) -> None:\n",
    "    sub_df = df.query(f'null_ratio > {threshold}')\n",
    "    sns.distplot(sub_df['null_ratio'])"
   ]
  },
  {
   "cell_type": "code",
   "execution_count": 109,
   "id": "2ab0cec7-33f1-4dea-ae82-17d80c4e3780",
   "metadata": {},
   "outputs": [
    {
     "data": {
      "image/png": "[encoded data removed]",
      "text/plain": [
       "<Figure size 576x396 with 1 Axes>"
      ]
     },
     "metadata": {},
     "output_type": "display_data"
    }
   ],
   "source": [
    "plot_distribution(ratio_stats)"
   ]
  },
  {
   "cell_type": "code",
   "execution_count": 110,
   "id": "49939e3f-a611-44c6-89e9-ac4a1d2fc242",
   "metadata": {},
   "outputs": [
    {
     "data": {
      "image/png": "[encoded data removed]",
      "text/plain": [
       "<Figure size 576x396 with 1 Axes>"
      ]
     },
     "metadata": {},
     "output_type": "display_data"
    }
   ],
   "source": [
    "plot_distribution(zscore_stats)"
   ]
  },
  {
   "cell_type": "code",
   "execution_count": 111,
   "id": "ef7bb76c-dcfb-48ab-a26b-08e3d508f5a4",
   "metadata": {},
   "outputs": [
    {
     "data": {
      "text/html": [
       "<div>\n",
       "<style scoped>\n",
       "    .dataframe tbody tr th:only-of-type {\n",
       "        vertical-align: middle;\n",
       "    }\n",
       "\n",
       "    .dataframe tbody tr th {\n",
       "        vertical-align: top;\n",
       "    }\n",
       "\n",
       "    .dataframe thead th {\n",
       "        text-align: right;\n",
       "    }\n",
       "</style>\n",
       "<table border=\"1\" class=\"dataframe\">\n",
       "  <thead>\n",
       "    <tr style=\"text-align: right;\">\n",
       "      <th></th>\n",
       "      <th>index</th>\n",
       "      <th>null_ratio</th>\n",
       "      <th>index_zscore</th>\n",
       "      <th>null_ratio_zscore</th>\n",
       "    </tr>\n",
       "  </thead>\n",
       "  <tbody>\n",
       "    <tr>\n",
       "      <th>18</th>\n",
       "      <td>1:8000001-9000000_ratio_AVANT_CHIR</td>\n",
       "      <td>0.384615</td>\n",
       "      <td>1:8000001-9000000_zscore_AVANT_CHIR</td>\n",
       "      <td>0.379121</td>\n",
       "    </tr>\n",
       "    <tr>\n",
       "      <th>23</th>\n",
       "      <td>1:9000001-10000000_ratio_FIN_TT</td>\n",
       "      <td>0.368132</td>\n",
       "      <td>1:9000001-10000000_zscore_FIN_TT</td>\n",
       "      <td>0.373626</td>\n",
       "    </tr>\n",
       "    <tr>\n",
       "      <th>38</th>\n",
       "      <td>1:14000001-15000000_ratio_FIN_TT</td>\n",
       "      <td>0.368132</td>\n",
       "      <td>1:14000001-15000000_zscore_FIN_TT</td>\n",
       "      <td>0.373626</td>\n",
       "    </tr>\n",
       "    <tr>\n",
       "      <th>56</th>\n",
       "      <td>1:21000001-22000000_ratio_FIN_TT</td>\n",
       "      <td>0.373626</td>\n",
       "      <td>1:21000001-22000000_zscore_FIN_TT</td>\n",
       "      <td>0.368132</td>\n",
       "    </tr>\n",
       "    <tr>\n",
       "      <th>61</th>\n",
       "      <td>1:23000001-24000000_ratio_DIAG</td>\n",
       "      <td>0.373626</td>\n",
       "      <td>1:23000001-24000000_zscore_DIAG</td>\n",
       "      <td>0.368132</td>\n",
       "    </tr>\n",
       "    <tr>\n",
       "      <th>...</th>\n",
       "      <td>...</td>\n",
       "      <td>...</td>\n",
       "      <td>...</td>\n",
       "      <td>...</td>\n",
       "    </tr>\n",
       "    <tr>\n",
       "      <th>7345</th>\n",
       "      <td>21:35000001-36000000_ratio_DIAG</td>\n",
       "      <td>0.368132</td>\n",
       "      <td>21:35000001-36000000_zscore_DIAG</td>\n",
       "      <td>0.373626</td>\n",
       "    </tr>\n",
       "    <tr>\n",
       "      <th>7423</th>\n",
       "      <td>22:30000001-31000000_ratio_DIAG</td>\n",
       "      <td>0.373626</td>\n",
       "      <td>22:30000001-31000000_zscore_DIAG</td>\n",
       "      <td>0.368132</td>\n",
       "    </tr>\n",
       "    <tr>\n",
       "      <th>7428</th>\n",
       "      <td>22:32000001-33000000_ratio_AVANT_CHIR</td>\n",
       "      <td>0.379121</td>\n",
       "      <td>22:32000001-33000000_zscore_AVANT_CHIR</td>\n",
       "      <td>0.384615</td>\n",
       "    </tr>\n",
       "    <tr>\n",
       "      <th>7443</th>\n",
       "      <td>22:37000001-38000000_ratio_AVANT_CHIR</td>\n",
       "      <td>0.379121</td>\n",
       "      <td>22:37000001-38000000_zscore_AVANT_CHIR</td>\n",
       "      <td>0.373626</td>\n",
       "    </tr>\n",
       "    <tr>\n",
       "      <th>7450</th>\n",
       "      <td>22:39000001-40000000_ratio_DIAG</td>\n",
       "      <td>0.368132</td>\n",
       "      <td>22:39000001-40000000_zscore_DIAG</td>\n",
       "      <td>0.373626</td>\n",
       "    </tr>\n",
       "  </tbody>\n",
       "</table>\n",
       "<p>262 rows × 4 columns</p>\n",
       "</div>"
      ],
      "text/plain": [
       "                                      index  null_ratio  \\\n",
       "18       1:8000001-9000000_ratio_AVANT_CHIR    0.384615   \n",
       "23          1:9000001-10000000_ratio_FIN_TT    0.368132   \n",
       "38         1:14000001-15000000_ratio_FIN_TT    0.368132   \n",
       "56         1:21000001-22000000_ratio_FIN_TT    0.373626   \n",
       "61           1:23000001-24000000_ratio_DIAG    0.373626   \n",
       "...                                     ...         ...   \n",
       "7345        21:35000001-36000000_ratio_DIAG    0.368132   \n",
       "7423        22:30000001-31000000_ratio_DIAG    0.373626   \n",
       "7428  22:32000001-33000000_ratio_AVANT_CHIR    0.379121   \n",
       "7443  22:37000001-38000000_ratio_AVANT_CHIR    0.379121   \n",
       "7450        22:39000001-40000000_ratio_DIAG    0.368132   \n",
       "\n",
       "                                index_zscore  null_ratio_zscore  \n",
       "18       1:8000001-9000000_zscore_AVANT_CHIR           0.379121  \n",
       "23          1:9000001-10000000_zscore_FIN_TT           0.373626  \n",
       "38         1:14000001-15000000_zscore_FIN_TT           0.373626  \n",
       "56         1:21000001-22000000_zscore_FIN_TT           0.368132  \n",
       "61           1:23000001-24000000_zscore_DIAG           0.368132  \n",
       "...                                      ...                ...  \n",
       "7345        21:35000001-36000000_zscore_DIAG           0.373626  \n",
       "7423        22:30000001-31000000_zscore_DIAG           0.368132  \n",
       "7428  22:32000001-33000000_zscore_AVANT_CHIR           0.384615  \n",
       "7443  22:37000001-38000000_zscore_AVANT_CHIR           0.373626  \n",
       "7450        22:39000001-40000000_zscore_DIAG           0.373626  \n",
       "\n",
       "[262 rows x 4 columns]"
      ]
     },
     "execution_count": 111,
     "metadata": {},
     "output_type": "execute_result"
    }
   ],
   "source": [
    "both_stats = pd.concat(\n",
    "    [\n",
    "        ratio_stats,\n",
    "        zscore_stats.rename(columns={'null_ratio': 'null_ratio_zscore', 'index': 'index_zscore'})\n",
    "    ], axis=1)\n",
    "both_stats.query(\"null_ratio != null_ratio_zscore\")"
   ]
  },
  {
   "cell_type": "code",
   "execution_count": 113,
   "id": "3c80be6c-14bb-4066-968a-7a1a86ec35ae",
   "metadata": {},
   "outputs": [],
   "source": [
    "# we remove the columns with high null rates \n",
    "to_remove = both_stats.query('null_ratio > 0.2')\n",
    "cols_to_remove = to_remove['index'].to_list() + to_remove['index_zscore'].to_list()\n",
    "data_diag_clean = data_all.drop(columns=cols_to_remove, errors='ignore')\n",
    "\n",
    "ratio_cols = [col for col in data_diag_clean.columns.tolist() if \"ratio\" in col]\n",
    "zscore_cols = [col for col in data_diag_clean.columns.tolist() if \"zscore\" in col]"
   ]
  },
  {
   "cell_type": "code",
   "execution_count": 114,
   "id": "a3c61086-862c-4ddc-a76a-1804f6d3d631",
   "metadata": {},
   "outputs": [],
   "source": [
    "for col in ratio_cols + zscore_cols:\n",
    "    data_diag_clean[col] = data_diag_clean[col].fillna(0.0)"
   ]
  },
  {
   "cell_type": "markdown",
   "id": "55004b9b-f84c-4e83-9514-4fb6150778a4",
   "metadata": {
    "tags": []
   },
   "source": [
    "## Dimensionality reduction using UMAP"
   ]
  },
  {
   "cell_type": "markdown",
   "id": "e14e7e13-f99a-4633-9a6a-878a56ccfe0d",
   "metadata": {
    "tags": []
   },
   "source": [
    "### First, visualization in 3D"
   ]
  },
  {
   "cell_type": "code",
   "execution_count": 115,
   "id": "f53ccaa8-7e57-4929-8c58-f09f7f6d3ab5",
   "metadata": {},
   "outputs": [],
   "source": [
    "def vector_numpy_to_pandas(umap_res: np.ndarray) -> pd.DataFrame:\n",
    "    df = pd.DataFrame(umap_res)\n",
    "    df = df.add_prefix('dim_')\n",
    "    return df"
   ]
  },
  {
   "cell_type": "code",
   "execution_count": 117,
   "id": "ea11095b-306d-439c-955d-bb249abadb52",
   "metadata": {},
   "outputs": [
    {
     "ename": "ValueError",
     "evalue": "Found array with 0 feature(s) (shape=(182, 0)) while a minimum of 1 is required.",
     "output_type": "error",
     "traceback": [
      "\u001b[0;31m---------------------------------------------------------------------------\u001b[0m",
      "\u001b[0;31mValueError\u001b[0m                                Traceback (most recent call last)",
      "\u001b[0;32m<ipython-input-117-b155014b21e8>\u001b[0m in \u001b[0;36m<module>\u001b[0;34m\u001b[0m\n\u001b[1;32m     11\u001b[0m )\n\u001b[1;32m     12\u001b[0m \u001b[0;34m\u001b[0m\u001b[0m\n\u001b[0;32m---> 13\u001b[0;31m \u001b[0mu\u001b[0m \u001b[0;34m=\u001b[0m \u001b[0mfit\u001b[0m\u001b[0;34m.\u001b[0m\u001b[0mfit_transform\u001b[0m\u001b[0;34m(\u001b[0m\u001b[0mdata_diag_clean\u001b[0m\u001b[0;34m[\u001b[0m\u001b[0mzscore_cols\u001b[0m\u001b[0;34m]\u001b[0m\u001b[0;34m.\u001b[0m\u001b[0mto_numpy\u001b[0m\u001b[0;34m(\u001b[0m\u001b[0;34m)\u001b[0m\u001b[0;34m)\u001b[0m\u001b[0;34m\u001b[0m\u001b[0;34m\u001b[0m\u001b[0m\n\u001b[0m",
      "\u001b[0;32m/opt/homebrew/Caskroom/miniconda/base/lib/python3.8/site-packages/umap/umap_.py\u001b[0m in \u001b[0;36mfit_transform\u001b[0;34m(self, X, y)\u001b[0m\n\u001b[1;32m   2770\u001b[0m             \u001b[0mLocal\u001b[0m \u001b[0mradii\u001b[0m \u001b[0mof\u001b[0m \u001b[0mdata\u001b[0m \u001b[0mpoints\u001b[0m \u001b[0;32min\u001b[0m \u001b[0mthe\u001b[0m \u001b[0membedding\u001b[0m \u001b[0;34m(\u001b[0m\u001b[0mlog\u001b[0m\u001b[0;34m-\u001b[0m\u001b[0mtransformed\u001b[0m\u001b[0;34m)\u001b[0m\u001b[0;34m.\u001b[0m\u001b[0;34m\u001b[0m\u001b[0;34m\u001b[0m\u001b[0m\n\u001b[1;32m   2771\u001b[0m         \"\"\"\n\u001b[0;32m-> 2772\u001b[0;31m         \u001b[0mself\u001b[0m\u001b[0;34m.\u001b[0m\u001b[0mfit\u001b[0m\u001b[0;34m(\u001b[0m\u001b[0mX\u001b[0m\u001b[0;34m,\u001b[0m \u001b[0my\u001b[0m\u001b[0;34m)\u001b[0m\u001b[0;34m\u001b[0m\u001b[0;34m\u001b[0m\u001b[0m\n\u001b[0m\u001b[1;32m   2773\u001b[0m         \u001b[0;32mif\u001b[0m \u001b[0mself\u001b[0m\u001b[0;34m.\u001b[0m\u001b[0mtransform_mode\u001b[0m \u001b[0;34m==\u001b[0m \u001b[0;34m\"embedding\"\u001b[0m\u001b[0;34m:\u001b[0m\u001b[0;34m\u001b[0m\u001b[0;34m\u001b[0m\u001b[0m\n\u001b[1;32m   2774\u001b[0m             \u001b[0;32mif\u001b[0m \u001b[0mself\u001b[0m\u001b[0;34m.\u001b[0m\u001b[0moutput_dens\u001b[0m\u001b[0;34m:\u001b[0m\u001b[0;34m\u001b[0m\u001b[0;34m\u001b[0m\u001b[0m\n",
      "\u001b[0;32m/opt/homebrew/Caskroom/miniconda/base/lib/python3.8/site-packages/umap/umap_.py\u001b[0m in \u001b[0;36mfit\u001b[0;34m(self, X, y)\u001b[0m\n\u001b[1;32m   2267\u001b[0m         \"\"\"\n\u001b[1;32m   2268\u001b[0m \u001b[0;34m\u001b[0m\u001b[0m\n\u001b[0;32m-> 2269\u001b[0;31m         \u001b[0mX\u001b[0m \u001b[0;34m=\u001b[0m \u001b[0mcheck_array\u001b[0m\u001b[0;34m(\u001b[0m\u001b[0mX\u001b[0m\u001b[0;34m,\u001b[0m \u001b[0mdtype\u001b[0m\u001b[0;34m=\u001b[0m\u001b[0mnp\u001b[0m\u001b[0;34m.\u001b[0m\u001b[0mfloat32\u001b[0m\u001b[0;34m,\u001b[0m \u001b[0maccept_sparse\u001b[0m\u001b[0;34m=\u001b[0m\u001b[0;34m\"csr\"\u001b[0m\u001b[0;34m,\u001b[0m \u001b[0morder\u001b[0m\u001b[0;34m=\u001b[0m\u001b[0;34m\"C\"\u001b[0m\u001b[0;34m)\u001b[0m\u001b[0;34m\u001b[0m\u001b[0;34m\u001b[0m\u001b[0m\n\u001b[0m\u001b[1;32m   2270\u001b[0m         \u001b[0mself\u001b[0m\u001b[0;34m.\u001b[0m\u001b[0m_raw_data\u001b[0m \u001b[0;34m=\u001b[0m \u001b[0mX\u001b[0m\u001b[0;34m\u001b[0m\u001b[0;34m\u001b[0m\u001b[0m\n\u001b[1;32m   2271\u001b[0m \u001b[0;34m\u001b[0m\u001b[0m\n",
      "\u001b[0;32m/opt/homebrew/Caskroom/miniconda/base/lib/python3.8/site-packages/sklearn/utils/validation.py\u001b[0m in \u001b[0;36minner_f\u001b[0;34m(*args, **kwargs)\u001b[0m\n\u001b[1;32m     70\u001b[0m                           FutureWarning)\n\u001b[1;32m     71\u001b[0m         \u001b[0mkwargs\u001b[0m\u001b[0;34m.\u001b[0m\u001b[0mupdate\u001b[0m\u001b[0;34m(\u001b[0m\u001b[0;34m{\u001b[0m\u001b[0mk\u001b[0m\u001b[0;34m:\u001b[0m \u001b[0marg\u001b[0m \u001b[0;32mfor\u001b[0m \u001b[0mk\u001b[0m\u001b[0;34m,\u001b[0m \u001b[0marg\u001b[0m \u001b[0;32min\u001b[0m \u001b[0mzip\u001b[0m\u001b[0;34m(\u001b[0m\u001b[0msig\u001b[0m\u001b[0;34m.\u001b[0m\u001b[0mparameters\u001b[0m\u001b[0;34m,\u001b[0m \u001b[0margs\u001b[0m\u001b[0;34m)\u001b[0m\u001b[0;34m}\u001b[0m\u001b[0;34m)\u001b[0m\u001b[0;34m\u001b[0m\u001b[0;34m\u001b[0m\u001b[0m\n\u001b[0;32m---> 72\u001b[0;31m         \u001b[0;32mreturn\u001b[0m \u001b[0mf\u001b[0m\u001b[0;34m(\u001b[0m\u001b[0;34m**\u001b[0m\u001b[0mkwargs\u001b[0m\u001b[0;34m)\u001b[0m\u001b[0;34m\u001b[0m\u001b[0;34m\u001b[0m\u001b[0m\n\u001b[0m\u001b[1;32m     73\u001b[0m     \u001b[0;32mreturn\u001b[0m \u001b[0minner_f\u001b[0m\u001b[0;34m\u001b[0m\u001b[0;34m\u001b[0m\u001b[0m\n\u001b[1;32m     74\u001b[0m \u001b[0;34m\u001b[0m\u001b[0m\n",
      "\u001b[0;32m/opt/homebrew/Caskroom/miniconda/base/lib/python3.8/site-packages/sklearn/utils/validation.py\u001b[0m in \u001b[0;36mcheck_array\u001b[0;34m(array, accept_sparse, accept_large_sparse, dtype, order, copy, force_all_finite, ensure_2d, allow_nd, ensure_min_samples, ensure_min_features, estimator)\u001b[0m\n\u001b[1;32m    656\u001b[0m         \u001b[0mn_features\u001b[0m \u001b[0;34m=\u001b[0m \u001b[0marray\u001b[0m\u001b[0;34m.\u001b[0m\u001b[0mshape\u001b[0m\u001b[0;34m[\u001b[0m\u001b[0;36m1\u001b[0m\u001b[0;34m]\u001b[0m\u001b[0;34m\u001b[0m\u001b[0;34m\u001b[0m\u001b[0m\n\u001b[1;32m    657\u001b[0m         \u001b[0;32mif\u001b[0m \u001b[0mn_features\u001b[0m \u001b[0;34m<\u001b[0m \u001b[0mensure_min_features\u001b[0m\u001b[0;34m:\u001b[0m\u001b[0;34m\u001b[0m\u001b[0;34m\u001b[0m\u001b[0m\n\u001b[0;32m--> 658\u001b[0;31m             raise ValueError(\"Found array with %d feature(s) (shape=%s) while\"\n\u001b[0m\u001b[1;32m    659\u001b[0m                              \u001b[0;34m\" a minimum of %d is required%s.\"\u001b[0m\u001b[0;34m\u001b[0m\u001b[0;34m\u001b[0m\u001b[0m\n\u001b[1;32m    660\u001b[0m                              % (n_features, array.shape, ensure_min_features,\n",
      "\u001b[0;31mValueError\u001b[0m: Found array with 0 feature(s) (shape=(182, 0)) while a minimum of 1 is required."
     ]
    }
   ],
   "source": [
    "import umap\n",
    "\n",
    "N_DIMS = 3\n",
    "\n",
    "fit = umap.UMAP(\n",
    "    n_neighbors=30,\n",
    "    min_dist=0.1,\n",
    "    n_components=N_DIMS,\n",
    "    metric='cosine',\n",
    "    random_state=42\n",
    ")\n",
    "\n",
    "u = fit.fit_transform(data_diag_clean[zscore_cols].to_numpy())\n",
    "\n",
    "features = data_diag_clean.iloc[:,:11]\n",
    "vector = vector_numpy_to_pandas(u)\n",
    "features = pd.concat([features, vector], axis=1)\n",
    "\n",
    "features.head()"
   ]
  },
  {
   "cell_type": "code",
   "execution_count": null,
   "id": "2ff92bf5-7dc1-4f0d-81a3-4d0d4552982b",
   "metadata": {},
   "outputs": [],
   "source": [
    "import cufflinks as cf\n",
    "cf.go_offline()\n",
    "cf.set_config_file(offline=True)\n",
    "import plotly.graph_objs as go\n",
    "import plotly.offline as py\n",
    "import plotly.graph_objs as go\n",
    "from IPython.display import Image,display\n",
    "\n",
    "def plot_cluster(df, name=''):\n",
    "    trace1 = go.Scatter3d(\n",
    "        x=df['dim_0'],\n",
    "        y=df['dim_1'],\n",
    "        z=df['dim_2'],\n",
    "\n",
    "        mode='markers',\n",
    "        marker=dict(\n",
    "            size=2,\n",
    "            color=df[\"relapse\"],\n",
    "            colorscale='Viridis',   # choose a colorscale\n",
    "            opacity=1\n",
    "        ),\n",
    "        text=df['relapse']\n",
    "    )\n",
    "\n",
    "    data = [trace1]\n",
    "    layout = go.Layout(\n",
    "        margin=dict(\n",
    "            l=0,\n",
    "            r=0,\n",
    "            b=0,\n",
    "            t=0\n",
    "        )\n",
    "    )\n",
    "    fig = go.Figure(data=data, layout=layout)\n",
    "    file='../reports/'+name+'.html'\n",
    "    py.iplot(fig, filename=file)\n",
    "    py.plot(fig, filename=file,auto_open=False)"
   ]
  },
  {
   "cell_type": "code",
   "execution_count": null,
   "id": "3e770617-3bc0-46c9-88a3-b2c6d43565e7",
   "metadata": {},
   "outputs": [],
   "source": [
    "# commented to save space when versionned \n",
    "#plot_cluster(features, 'umap')"
   ]
  },
  {
   "cell_type": "markdown",
   "id": "72d19ca0-0a73-45d9-b325-2549577f2d35",
   "metadata": {
    "tags": []
   },
   "source": [
    "### Compute vector of N dimensions"
   ]
  },
  {
   "cell_type": "code",
   "execution_count": 110,
   "id": "088136a1-1eca-4f7a-b599-3fabc6dd6a7c",
   "metadata": {},
   "outputs": [
    {
     "data": {
      "text/plain": [
       "2645"
      ]
     },
     "execution_count": 110,
     "metadata": {},
     "output_type": "execute_result"
    }
   ],
   "source": [
    "len(zscore_cols)"
   ]
  },
  {
   "cell_type": "code",
   "execution_count": 121,
   "id": "8dcb3d3e-ef7c-4490-8423-c8f11aa18b5c",
   "metadata": {},
   "outputs": [],
   "source": [
    "import umap\n",
    "\n",
    "N_DIMS = 10\n",
    "\n",
    "fit = umap.UMAP(\n",
    "    n_neighbors=30,\n",
    "    min_dist=0.1,\n",
    "    n_components=N_DIMS,\n",
    "    metric='cosine',\n",
    "    random_state=42\n",
    ")\n",
    "\n",
    "u = fit.fit_transform(data_diag_clean[zscore_cols].to_numpy())\n",
    "\n",
    "features = data_all.iloc[:,:11]\n",
    "vector = vector_numpy_to_pandas(u)\n",
    "features = pd.concat([features, vector], axis=1)"
   ]
  },
  {
   "cell_type": "markdown",
   "id": "cdba3a34-6910-4999-addc-fd37cbeffc84",
   "metadata": {
    "tags": []
   },
   "source": [
    "# Train a ML model using all these features"
   ]
  },
  {
   "cell_type": "code",
   "execution_count": 123,
   "id": "402a162c-fe42-4eec-8db0-650ce0b3d3fa",
   "metadata": {},
   "outputs": [],
   "source": [
    "features = features[~features['patient_id'].isin(outliers_ids)]"
   ]
  },
  {
   "cell_type": "code",
   "execution_count": 131,
   "id": "b0c54d30-4b79-4e30-8900-963406a217c9",
   "metadata": {},
   "outputs": [],
   "source": [
    "COLS_TO_DROP = ['patient_id', 'etat2', 'time_OS', 'time_PFS']\n",
    "features = features.drop(columns=COLS_TO_DROP, errors='ignore')"
   ]
  },
  {
   "cell_type": "code",
   "execution_count": 132,
   "id": "662d12f4-c8d7-4786-9083-d507124861d1",
   "metadata": {},
   "outputs": [
    {
     "data": {
      "text/html": [
       "<div>\n",
       "<style scoped>\n",
       "    .dataframe tbody tr th:only-of-type {\n",
       "        vertical-align: middle;\n",
       "    }\n",
       "\n",
       "    .dataframe tbody tr th {\n",
       "        vertical-align: top;\n",
       "    }\n",
       "\n",
       "    .dataframe thead th {\n",
       "        text-align: right;\n",
       "    }\n",
       "</style>\n",
       "<table border=\"1\" class=\"dataframe\">\n",
       "  <thead>\n",
       "    <tr style=\"text-align: right;\">\n",
       "      <th></th>\n",
       "      <th>sex</th>\n",
       "      <th>age</th>\n",
       "      <th>htum</th>\n",
       "      <th>relapse</th>\n",
       "      <th>CPA_AVANT_CHIR</th>\n",
       "      <th>CPA_DIAG</th>\n",
       "      <th>CPA_FIN_TT</th>\n",
       "      <th>dim_0</th>\n",
       "      <th>dim_1</th>\n",
       "      <th>dim_2</th>\n",
       "      <th>dim_3</th>\n",
       "      <th>dim_4</th>\n",
       "      <th>dim_5</th>\n",
       "      <th>dim_6</th>\n",
       "      <th>dim_7</th>\n",
       "      <th>dim_8</th>\n",
       "      <th>dim_9</th>\n",
       "    </tr>\n",
       "  </thead>\n",
       "  <tbody>\n",
       "    <tr>\n",
       "      <th>0</th>\n",
       "      <td>Feminin</td>\n",
       "      <td>17.58</td>\n",
       "      <td>10.6</td>\n",
       "      <td>0.0</td>\n",
       "      <td>0.13178</td>\n",
       "      <td>0.15446</td>\n",
       "      <td>0.12948</td>\n",
       "      <td>6.819944</td>\n",
       "      <td>6.741635</td>\n",
       "      <td>6.552502</td>\n",
       "      <td>3.163334</td>\n",
       "      <td>2.380113</td>\n",
       "      <td>4.450327</td>\n",
       "      <td>7.125168</td>\n",
       "      <td>9.759988</td>\n",
       "      <td>3.327932</td>\n",
       "      <td>5.137546</td>\n",
       "    </tr>\n",
       "    <tr>\n",
       "      <th>1</th>\n",
       "      <td>Masculin</td>\n",
       "      <td>14.51</td>\n",
       "      <td>11.1</td>\n",
       "      <td>0.0</td>\n",
       "      <td>0.12377</td>\n",
       "      <td>0.34361</td>\n",
       "      <td>0.14044</td>\n",
       "      <td>7.009439</td>\n",
       "      <td>7.755746</td>\n",
       "      <td>4.909565</td>\n",
       "      <td>1.374685</td>\n",
       "      <td>2.436057</td>\n",
       "      <td>5.700484</td>\n",
       "      <td>8.502618</td>\n",
       "      <td>10.000359</td>\n",
       "      <td>3.280427</td>\n",
       "      <td>5.533571</td>\n",
       "    </tr>\n",
       "    <tr>\n",
       "      <th>2</th>\n",
       "      <td>Masculin</td>\n",
       "      <td>18.83</td>\n",
       "      <td>7.0</td>\n",
       "      <td>0.0</td>\n",
       "      <td>0.11279</td>\n",
       "      <td>0.17640</td>\n",
       "      <td>0.14109</td>\n",
       "      <td>6.880323</td>\n",
       "      <td>7.230412</td>\n",
       "      <td>4.378039</td>\n",
       "      <td>1.720146</td>\n",
       "      <td>2.839537</td>\n",
       "      <td>5.274788</td>\n",
       "      <td>8.151042</td>\n",
       "      <td>10.238515</td>\n",
       "      <td>3.643500</td>\n",
       "      <td>5.489123</td>\n",
       "    </tr>\n",
       "    <tr>\n",
       "      <th>3</th>\n",
       "      <td>Feminin</td>\n",
       "      <td>11.69</td>\n",
       "      <td>12.4</td>\n",
       "      <td>0.0</td>\n",
       "      <td>0.27524</td>\n",
       "      <td>0.56731</td>\n",
       "      <td>0.17286</td>\n",
       "      <td>6.784331</td>\n",
       "      <td>7.194227</td>\n",
       "      <td>5.372379</td>\n",
       "      <td>2.115988</td>\n",
       "      <td>2.722812</td>\n",
       "      <td>5.398668</td>\n",
       "      <td>7.920492</td>\n",
       "      <td>10.083903</td>\n",
       "      <td>3.973462</td>\n",
       "      <td>5.517278</td>\n",
       "    </tr>\n",
       "    <tr>\n",
       "      <th>4</th>\n",
       "      <td>Feminin</td>\n",
       "      <td>15.91</td>\n",
       "      <td>8.0</td>\n",
       "      <td>1.0</td>\n",
       "      <td>0.14314</td>\n",
       "      <td>0.28877</td>\n",
       "      <td>0.15033</td>\n",
       "      <td>7.550785</td>\n",
       "      <td>7.845530</td>\n",
       "      <td>5.454696</td>\n",
       "      <td>1.102061</td>\n",
       "      <td>1.423698</td>\n",
       "      <td>4.822525</td>\n",
       "      <td>8.000863</td>\n",
       "      <td>11.224867</td>\n",
       "      <td>3.088291</td>\n",
       "      <td>4.955470</td>\n",
       "    </tr>\n",
       "  </tbody>\n",
       "</table>\n",
       "</div>"
      ],
      "text/plain": [
       "        sex    age  htum  relapse  CPA_AVANT_CHIR  CPA_DIAG  CPA_FIN_TT  \\\n",
       "0   Feminin  17.58  10.6      0.0         0.13178   0.15446     0.12948   \n",
       "1  Masculin  14.51  11.1      0.0         0.12377   0.34361     0.14044   \n",
       "2  Masculin  18.83   7.0      0.0         0.11279   0.17640     0.14109   \n",
       "3   Feminin  11.69  12.4      0.0         0.27524   0.56731     0.17286   \n",
       "4   Feminin  15.91   8.0      1.0         0.14314   0.28877     0.15033   \n",
       "\n",
       "      dim_0     dim_1     dim_2     dim_3     dim_4     dim_5     dim_6  \\\n",
       "0  6.819944  6.741635  6.552502  3.163334  2.380113  4.450327  7.125168   \n",
       "1  7.009439  7.755746  4.909565  1.374685  2.436057  5.700484  8.502618   \n",
       "2  6.880323  7.230412  4.378039  1.720146  2.839537  5.274788  8.151042   \n",
       "3  6.784331  7.194227  5.372379  2.115988  2.722812  5.398668  7.920492   \n",
       "4  7.550785  7.845530  5.454696  1.102061  1.423698  4.822525  8.000863   \n",
       "\n",
       "       dim_7     dim_8     dim_9  \n",
       "0   9.759988  3.327932  5.137546  \n",
       "1  10.000359  3.280427  5.533571  \n",
       "2  10.238515  3.643500  5.489123  \n",
       "3  10.083903  3.973462  5.517278  \n",
       "4  11.224867  3.088291  4.955470  "
      ]
     },
     "execution_count": 132,
     "metadata": {},
     "output_type": "execute_result"
    }
   ],
   "source": [
    "features.head()"
   ]
  },
  {
   "cell_type": "code",
   "execution_count": 134,
   "id": "4c8b650a-319a-4666-b1b9-e93f78685efb",
   "metadata": {},
   "outputs": [
    {
     "data": {
      "text/html": [
       "<style type=\"text/css\">\n",
       "#T_cf149_row5_col1, #T_cf149_row29_col1, #T_cf149_row44_col1 {\n",
       "  background-color: lightgreen;\n",
       "}\n",
       "</style>\n",
       "<table id=\"T_cf149_\">\n",
       "  <thead>\n",
       "    <tr>\n",
       "      <th class=\"blank level0\" >&nbsp;</th>\n",
       "      <th class=\"col_heading level0 col0\" >Description</th>\n",
       "      <th class=\"col_heading level0 col1\" >Value</th>\n",
       "    </tr>\n",
       "  </thead>\n",
       "  <tbody>\n",
       "    <tr>\n",
       "      <th id=\"T_cf149_level0_row0\" class=\"row_heading level0 row0\" >0</th>\n",
       "      <td id=\"T_cf149_row0_col0\" class=\"data row0 col0\" >session_id</td>\n",
       "      <td id=\"T_cf149_row0_col1\" class=\"data row0 col1\" >3771</td>\n",
       "    </tr>\n",
       "    <tr>\n",
       "      <th id=\"T_cf149_level0_row1\" class=\"row_heading level0 row1\" >1</th>\n",
       "      <td id=\"T_cf149_row1_col0\" class=\"data row1 col0\" >Target</td>\n",
       "      <td id=\"T_cf149_row1_col1\" class=\"data row1 col1\" >relapse</td>\n",
       "    </tr>\n",
       "    <tr>\n",
       "      <th id=\"T_cf149_level0_row2\" class=\"row_heading level0 row2\" >2</th>\n",
       "      <td id=\"T_cf149_row2_col0\" class=\"data row2 col0\" >Target Type</td>\n",
       "      <td id=\"T_cf149_row2_col1\" class=\"data row2 col1\" >Binary</td>\n",
       "    </tr>\n",
       "    <tr>\n",
       "      <th id=\"T_cf149_level0_row3\" class=\"row_heading level0 row3\" >3</th>\n",
       "      <td id=\"T_cf149_row3_col0\" class=\"data row3 col0\" >Label Encoded</td>\n",
       "      <td id=\"T_cf149_row3_col1\" class=\"data row3 col1\" >0.0: 0, 1.0: 1</td>\n",
       "    </tr>\n",
       "    <tr>\n",
       "      <th id=\"T_cf149_level0_row4\" class=\"row_heading level0 row4\" >4</th>\n",
       "      <td id=\"T_cf149_row4_col0\" class=\"data row4 col0\" >Original Data</td>\n",
       "      <td id=\"T_cf149_row4_col1\" class=\"data row4 col1\" >(175, 17)</td>\n",
       "    </tr>\n",
       "    <tr>\n",
       "      <th id=\"T_cf149_level0_row5\" class=\"row_heading level0 row5\" >5</th>\n",
       "      <td id=\"T_cf149_row5_col0\" class=\"data row5 col0\" >Missing Values</td>\n",
       "      <td id=\"T_cf149_row5_col1\" class=\"data row5 col1\" >True</td>\n",
       "    </tr>\n",
       "    <tr>\n",
       "      <th id=\"T_cf149_level0_row6\" class=\"row_heading level0 row6\" >6</th>\n",
       "      <td id=\"T_cf149_row6_col0\" class=\"data row6 col0\" >Numeric Features</td>\n",
       "      <td id=\"T_cf149_row6_col1\" class=\"data row6 col1\" >15</td>\n",
       "    </tr>\n",
       "    <tr>\n",
       "      <th id=\"T_cf149_level0_row7\" class=\"row_heading level0 row7\" >7</th>\n",
       "      <td id=\"T_cf149_row7_col0\" class=\"data row7 col0\" >Categorical Features</td>\n",
       "      <td id=\"T_cf149_row7_col1\" class=\"data row7 col1\" >1</td>\n",
       "    </tr>\n",
       "    <tr>\n",
       "      <th id=\"T_cf149_level0_row8\" class=\"row_heading level0 row8\" >8</th>\n",
       "      <td id=\"T_cf149_row8_col0\" class=\"data row8 col0\" >Ordinal Features</td>\n",
       "      <td id=\"T_cf149_row8_col1\" class=\"data row8 col1\" >False</td>\n",
       "    </tr>\n",
       "    <tr>\n",
       "      <th id=\"T_cf149_level0_row9\" class=\"row_heading level0 row9\" >9</th>\n",
       "      <td id=\"T_cf149_row9_col0\" class=\"data row9 col0\" >High Cardinality Features</td>\n",
       "      <td id=\"T_cf149_row9_col1\" class=\"data row9 col1\" >False</td>\n",
       "    </tr>\n",
       "    <tr>\n",
       "      <th id=\"T_cf149_level0_row10\" class=\"row_heading level0 row10\" >10</th>\n",
       "      <td id=\"T_cf149_row10_col0\" class=\"data row10 col0\" >High Cardinality Method</td>\n",
       "      <td id=\"T_cf149_row10_col1\" class=\"data row10 col1\" >None</td>\n",
       "    </tr>\n",
       "    <tr>\n",
       "      <th id=\"T_cf149_level0_row11\" class=\"row_heading level0 row11\" >11</th>\n",
       "      <td id=\"T_cf149_row11_col0\" class=\"data row11 col0\" >Transformed Train Set</td>\n",
       "      <td id=\"T_cf149_row11_col1\" class=\"data row11 col1\" >(73, 16)</td>\n",
       "    </tr>\n",
       "    <tr>\n",
       "      <th id=\"T_cf149_level0_row12\" class=\"row_heading level0 row12\" >12</th>\n",
       "      <td id=\"T_cf149_row12_col0\" class=\"data row12 col0\" >Transformed Test Set</td>\n",
       "      <td id=\"T_cf149_row12_col1\" class=\"data row12 col1\" >(38, 16)</td>\n",
       "    </tr>\n",
       "    <tr>\n",
       "      <th id=\"T_cf149_level0_row13\" class=\"row_heading level0 row13\" >13</th>\n",
       "      <td id=\"T_cf149_row13_col0\" class=\"data row13 col0\" >Shuffle Train-Test</td>\n",
       "      <td id=\"T_cf149_row13_col1\" class=\"data row13 col1\" >True</td>\n",
       "    </tr>\n",
       "    <tr>\n",
       "      <th id=\"T_cf149_level0_row14\" class=\"row_heading level0 row14\" >14</th>\n",
       "      <td id=\"T_cf149_row14_col0\" class=\"data row14 col0\" >Stratify Train-Test</td>\n",
       "      <td id=\"T_cf149_row14_col1\" class=\"data row14 col1\" >False</td>\n",
       "    </tr>\n",
       "    <tr>\n",
       "      <th id=\"T_cf149_level0_row15\" class=\"row_heading level0 row15\" >15</th>\n",
       "      <td id=\"T_cf149_row15_col0\" class=\"data row15 col0\" >Fold Generator</td>\n",
       "      <td id=\"T_cf149_row15_col1\" class=\"data row15 col1\" >StratifiedKFold</td>\n",
       "    </tr>\n",
       "    <tr>\n",
       "      <th id=\"T_cf149_level0_row16\" class=\"row_heading level0 row16\" >16</th>\n",
       "      <td id=\"T_cf149_row16_col0\" class=\"data row16 col0\" >Fold Number</td>\n",
       "      <td id=\"T_cf149_row16_col1\" class=\"data row16 col1\" >10</td>\n",
       "    </tr>\n",
       "    <tr>\n",
       "      <th id=\"T_cf149_level0_row17\" class=\"row_heading level0 row17\" >17</th>\n",
       "      <td id=\"T_cf149_row17_col0\" class=\"data row17 col0\" >CPU Jobs</td>\n",
       "      <td id=\"T_cf149_row17_col1\" class=\"data row17 col1\" >-1</td>\n",
       "    </tr>\n",
       "    <tr>\n",
       "      <th id=\"T_cf149_level0_row18\" class=\"row_heading level0 row18\" >18</th>\n",
       "      <td id=\"T_cf149_row18_col0\" class=\"data row18 col0\" >Use GPU</td>\n",
       "      <td id=\"T_cf149_row18_col1\" class=\"data row18 col1\" >False</td>\n",
       "    </tr>\n",
       "    <tr>\n",
       "      <th id=\"T_cf149_level0_row19\" class=\"row_heading level0 row19\" >19</th>\n",
       "      <td id=\"T_cf149_row19_col0\" class=\"data row19 col0\" >Log Experiment</td>\n",
       "      <td id=\"T_cf149_row19_col1\" class=\"data row19 col1\" >False</td>\n",
       "    </tr>\n",
       "    <tr>\n",
       "      <th id=\"T_cf149_level0_row20\" class=\"row_heading level0 row20\" >20</th>\n",
       "      <td id=\"T_cf149_row20_col0\" class=\"data row20 col0\" >Experiment Name</td>\n",
       "      <td id=\"T_cf149_row20_col1\" class=\"data row20 col1\" >clf-default-name</td>\n",
       "    </tr>\n",
       "    <tr>\n",
       "      <th id=\"T_cf149_level0_row21\" class=\"row_heading level0 row21\" >21</th>\n",
       "      <td id=\"T_cf149_row21_col0\" class=\"data row21 col0\" >USI</td>\n",
       "      <td id=\"T_cf149_row21_col1\" class=\"data row21 col1\" >bfe0</td>\n",
       "    </tr>\n",
       "    <tr>\n",
       "      <th id=\"T_cf149_level0_row22\" class=\"row_heading level0 row22\" >22</th>\n",
       "      <td id=\"T_cf149_row22_col0\" class=\"data row22 col0\" >Imputation Type</td>\n",
       "      <td id=\"T_cf149_row22_col1\" class=\"data row22 col1\" >simple</td>\n",
       "    </tr>\n",
       "    <tr>\n",
       "      <th id=\"T_cf149_level0_row23\" class=\"row_heading level0 row23\" >23</th>\n",
       "      <td id=\"T_cf149_row23_col0\" class=\"data row23 col0\" >Iterative Imputation Iteration</td>\n",
       "      <td id=\"T_cf149_row23_col1\" class=\"data row23 col1\" >None</td>\n",
       "    </tr>\n",
       "    <tr>\n",
       "      <th id=\"T_cf149_level0_row24\" class=\"row_heading level0 row24\" >24</th>\n",
       "      <td id=\"T_cf149_row24_col0\" class=\"data row24 col0\" >Numeric Imputer</td>\n",
       "      <td id=\"T_cf149_row24_col1\" class=\"data row24 col1\" >mean</td>\n",
       "    </tr>\n",
       "    <tr>\n",
       "      <th id=\"T_cf149_level0_row25\" class=\"row_heading level0 row25\" >25</th>\n",
       "      <td id=\"T_cf149_row25_col0\" class=\"data row25 col0\" >Iterative Imputation Numeric Model</td>\n",
       "      <td id=\"T_cf149_row25_col1\" class=\"data row25 col1\" >None</td>\n",
       "    </tr>\n",
       "    <tr>\n",
       "      <th id=\"T_cf149_level0_row26\" class=\"row_heading level0 row26\" >26</th>\n",
       "      <td id=\"T_cf149_row26_col0\" class=\"data row26 col0\" >Categorical Imputer</td>\n",
       "      <td id=\"T_cf149_row26_col1\" class=\"data row26 col1\" >constant</td>\n",
       "    </tr>\n",
       "    <tr>\n",
       "      <th id=\"T_cf149_level0_row27\" class=\"row_heading level0 row27\" >27</th>\n",
       "      <td id=\"T_cf149_row27_col0\" class=\"data row27 col0\" >Iterative Imputation Categorical Model</td>\n",
       "      <td id=\"T_cf149_row27_col1\" class=\"data row27 col1\" >None</td>\n",
       "    </tr>\n",
       "    <tr>\n",
       "      <th id=\"T_cf149_level0_row28\" class=\"row_heading level0 row28\" >28</th>\n",
       "      <td id=\"T_cf149_row28_col0\" class=\"data row28 col0\" >Unknown Categoricals Handling</td>\n",
       "      <td id=\"T_cf149_row28_col1\" class=\"data row28 col1\" >least_frequent</td>\n",
       "    </tr>\n",
       "    <tr>\n",
       "      <th id=\"T_cf149_level0_row29\" class=\"row_heading level0 row29\" >29</th>\n",
       "      <td id=\"T_cf149_row29_col0\" class=\"data row29 col0\" >Normalize</td>\n",
       "      <td id=\"T_cf149_row29_col1\" class=\"data row29 col1\" >True</td>\n",
       "    </tr>\n",
       "    <tr>\n",
       "      <th id=\"T_cf149_level0_row30\" class=\"row_heading level0 row30\" >30</th>\n",
       "      <td id=\"T_cf149_row30_col0\" class=\"data row30 col0\" >Normalize Method</td>\n",
       "      <td id=\"T_cf149_row30_col1\" class=\"data row30 col1\" >zscore</td>\n",
       "    </tr>\n",
       "    <tr>\n",
       "      <th id=\"T_cf149_level0_row31\" class=\"row_heading level0 row31\" >31</th>\n",
       "      <td id=\"T_cf149_row31_col0\" class=\"data row31 col0\" >Transformation</td>\n",
       "      <td id=\"T_cf149_row31_col1\" class=\"data row31 col1\" >False</td>\n",
       "    </tr>\n",
       "    <tr>\n",
       "      <th id=\"T_cf149_level0_row32\" class=\"row_heading level0 row32\" >32</th>\n",
       "      <td id=\"T_cf149_row32_col0\" class=\"data row32 col0\" >Transformation Method</td>\n",
       "      <td id=\"T_cf149_row32_col1\" class=\"data row32 col1\" >None</td>\n",
       "    </tr>\n",
       "    <tr>\n",
       "      <th id=\"T_cf149_level0_row33\" class=\"row_heading level0 row33\" >33</th>\n",
       "      <td id=\"T_cf149_row33_col0\" class=\"data row33 col0\" >PCA</td>\n",
       "      <td id=\"T_cf149_row33_col1\" class=\"data row33 col1\" >False</td>\n",
       "    </tr>\n",
       "    <tr>\n",
       "      <th id=\"T_cf149_level0_row34\" class=\"row_heading level0 row34\" >34</th>\n",
       "      <td id=\"T_cf149_row34_col0\" class=\"data row34 col0\" >PCA Method</td>\n",
       "      <td id=\"T_cf149_row34_col1\" class=\"data row34 col1\" >None</td>\n",
       "    </tr>\n",
       "    <tr>\n",
       "      <th id=\"T_cf149_level0_row35\" class=\"row_heading level0 row35\" >35</th>\n",
       "      <td id=\"T_cf149_row35_col0\" class=\"data row35 col0\" >PCA Components</td>\n",
       "      <td id=\"T_cf149_row35_col1\" class=\"data row35 col1\" >None</td>\n",
       "    </tr>\n",
       "    <tr>\n",
       "      <th id=\"T_cf149_level0_row36\" class=\"row_heading level0 row36\" >36</th>\n",
       "      <td id=\"T_cf149_row36_col0\" class=\"data row36 col0\" >Ignore Low Variance</td>\n",
       "      <td id=\"T_cf149_row36_col1\" class=\"data row36 col1\" >False</td>\n",
       "    </tr>\n",
       "    <tr>\n",
       "      <th id=\"T_cf149_level0_row37\" class=\"row_heading level0 row37\" >37</th>\n",
       "      <td id=\"T_cf149_row37_col0\" class=\"data row37 col0\" >Combine Rare Levels</td>\n",
       "      <td id=\"T_cf149_row37_col1\" class=\"data row37 col1\" >False</td>\n",
       "    </tr>\n",
       "    <tr>\n",
       "      <th id=\"T_cf149_level0_row38\" class=\"row_heading level0 row38\" >38</th>\n",
       "      <td id=\"T_cf149_row38_col0\" class=\"data row38 col0\" >Rare Level Threshold</td>\n",
       "      <td id=\"T_cf149_row38_col1\" class=\"data row38 col1\" >None</td>\n",
       "    </tr>\n",
       "    <tr>\n",
       "      <th id=\"T_cf149_level0_row39\" class=\"row_heading level0 row39\" >39</th>\n",
       "      <td id=\"T_cf149_row39_col0\" class=\"data row39 col0\" >Numeric Binning</td>\n",
       "      <td id=\"T_cf149_row39_col1\" class=\"data row39 col1\" >False</td>\n",
       "    </tr>\n",
       "    <tr>\n",
       "      <th id=\"T_cf149_level0_row40\" class=\"row_heading level0 row40\" >40</th>\n",
       "      <td id=\"T_cf149_row40_col0\" class=\"data row40 col0\" >Remove Outliers</td>\n",
       "      <td id=\"T_cf149_row40_col1\" class=\"data row40 col1\" >False</td>\n",
       "    </tr>\n",
       "    <tr>\n",
       "      <th id=\"T_cf149_level0_row41\" class=\"row_heading level0 row41\" >41</th>\n",
       "      <td id=\"T_cf149_row41_col0\" class=\"data row41 col0\" >Outliers Threshold</td>\n",
       "      <td id=\"T_cf149_row41_col1\" class=\"data row41 col1\" >None</td>\n",
       "    </tr>\n",
       "    <tr>\n",
       "      <th id=\"T_cf149_level0_row42\" class=\"row_heading level0 row42\" >42</th>\n",
       "      <td id=\"T_cf149_row42_col0\" class=\"data row42 col0\" >Remove Multicollinearity</td>\n",
       "      <td id=\"T_cf149_row42_col1\" class=\"data row42 col1\" >False</td>\n",
       "    </tr>\n",
       "    <tr>\n",
       "      <th id=\"T_cf149_level0_row43\" class=\"row_heading level0 row43\" >43</th>\n",
       "      <td id=\"T_cf149_row43_col0\" class=\"data row43 col0\" >Multicollinearity Threshold</td>\n",
       "      <td id=\"T_cf149_row43_col1\" class=\"data row43 col1\" >None</td>\n",
       "    </tr>\n",
       "    <tr>\n",
       "      <th id=\"T_cf149_level0_row44\" class=\"row_heading level0 row44\" >44</th>\n",
       "      <td id=\"T_cf149_row44_col0\" class=\"data row44 col0\" >Remove Perfect Collinearity</td>\n",
       "      <td id=\"T_cf149_row44_col1\" class=\"data row44 col1\" >True</td>\n",
       "    </tr>\n",
       "    <tr>\n",
       "      <th id=\"T_cf149_level0_row45\" class=\"row_heading level0 row45\" >45</th>\n",
       "      <td id=\"T_cf149_row45_col0\" class=\"data row45 col0\" >Clustering</td>\n",
       "      <td id=\"T_cf149_row45_col1\" class=\"data row45 col1\" >False</td>\n",
       "    </tr>\n",
       "    <tr>\n",
       "      <th id=\"T_cf149_level0_row46\" class=\"row_heading level0 row46\" >46</th>\n",
       "      <td id=\"T_cf149_row46_col0\" class=\"data row46 col0\" >Clustering Iteration</td>\n",
       "      <td id=\"T_cf149_row46_col1\" class=\"data row46 col1\" >None</td>\n",
       "    </tr>\n",
       "    <tr>\n",
       "      <th id=\"T_cf149_level0_row47\" class=\"row_heading level0 row47\" >47</th>\n",
       "      <td id=\"T_cf149_row47_col0\" class=\"data row47 col0\" >Polynomial Features</td>\n",
       "      <td id=\"T_cf149_row47_col1\" class=\"data row47 col1\" >False</td>\n",
       "    </tr>\n",
       "    <tr>\n",
       "      <th id=\"T_cf149_level0_row48\" class=\"row_heading level0 row48\" >48</th>\n",
       "      <td id=\"T_cf149_row48_col0\" class=\"data row48 col0\" >Polynomial Degree</td>\n",
       "      <td id=\"T_cf149_row48_col1\" class=\"data row48 col1\" >None</td>\n",
       "    </tr>\n",
       "    <tr>\n",
       "      <th id=\"T_cf149_level0_row49\" class=\"row_heading level0 row49\" >49</th>\n",
       "      <td id=\"T_cf149_row49_col0\" class=\"data row49 col0\" >Trignometry Features</td>\n",
       "      <td id=\"T_cf149_row49_col1\" class=\"data row49 col1\" >False</td>\n",
       "    </tr>\n",
       "    <tr>\n",
       "      <th id=\"T_cf149_level0_row50\" class=\"row_heading level0 row50\" >50</th>\n",
       "      <td id=\"T_cf149_row50_col0\" class=\"data row50 col0\" >Polynomial Threshold</td>\n",
       "      <td id=\"T_cf149_row50_col1\" class=\"data row50 col1\" >None</td>\n",
       "    </tr>\n",
       "    <tr>\n",
       "      <th id=\"T_cf149_level0_row51\" class=\"row_heading level0 row51\" >51</th>\n",
       "      <td id=\"T_cf149_row51_col0\" class=\"data row51 col0\" >Group Features</td>\n",
       "      <td id=\"T_cf149_row51_col1\" class=\"data row51 col1\" >False</td>\n",
       "    </tr>\n",
       "    <tr>\n",
       "      <th id=\"T_cf149_level0_row52\" class=\"row_heading level0 row52\" >52</th>\n",
       "      <td id=\"T_cf149_row52_col0\" class=\"data row52 col0\" >Feature Selection</td>\n",
       "      <td id=\"T_cf149_row52_col1\" class=\"data row52 col1\" >False</td>\n",
       "    </tr>\n",
       "    <tr>\n",
       "      <th id=\"T_cf149_level0_row53\" class=\"row_heading level0 row53\" >53</th>\n",
       "      <td id=\"T_cf149_row53_col0\" class=\"data row53 col0\" >Feature Selection Method</td>\n",
       "      <td id=\"T_cf149_row53_col1\" class=\"data row53 col1\" >classic</td>\n",
       "    </tr>\n",
       "    <tr>\n",
       "      <th id=\"T_cf149_level0_row54\" class=\"row_heading level0 row54\" >54</th>\n",
       "      <td id=\"T_cf149_row54_col0\" class=\"data row54 col0\" >Features Selection Threshold</td>\n",
       "      <td id=\"T_cf149_row54_col1\" class=\"data row54 col1\" >None</td>\n",
       "    </tr>\n",
       "    <tr>\n",
       "      <th id=\"T_cf149_level0_row55\" class=\"row_heading level0 row55\" >55</th>\n",
       "      <td id=\"T_cf149_row55_col0\" class=\"data row55 col0\" >Feature Interaction</td>\n",
       "      <td id=\"T_cf149_row55_col1\" class=\"data row55 col1\" >False</td>\n",
       "    </tr>\n",
       "    <tr>\n",
       "      <th id=\"T_cf149_level0_row56\" class=\"row_heading level0 row56\" >56</th>\n",
       "      <td id=\"T_cf149_row56_col0\" class=\"data row56 col0\" >Feature Ratio</td>\n",
       "      <td id=\"T_cf149_row56_col1\" class=\"data row56 col1\" >False</td>\n",
       "    </tr>\n",
       "    <tr>\n",
       "      <th id=\"T_cf149_level0_row57\" class=\"row_heading level0 row57\" >57</th>\n",
       "      <td id=\"T_cf149_row57_col0\" class=\"data row57 col0\" >Interaction Threshold</td>\n",
       "      <td id=\"T_cf149_row57_col1\" class=\"data row57 col1\" >None</td>\n",
       "    </tr>\n",
       "    <tr>\n",
       "      <th id=\"T_cf149_level0_row58\" class=\"row_heading level0 row58\" >58</th>\n",
       "      <td id=\"T_cf149_row58_col0\" class=\"data row58 col0\" >Fix Imbalance</td>\n",
       "      <td id=\"T_cf149_row58_col1\" class=\"data row58 col1\" >False</td>\n",
       "    </tr>\n",
       "    <tr>\n",
       "      <th id=\"T_cf149_level0_row59\" class=\"row_heading level0 row59\" >59</th>\n",
       "      <td id=\"T_cf149_row59_col0\" class=\"data row59 col0\" >Fix Imbalance Method</td>\n",
       "      <td id=\"T_cf149_row59_col1\" class=\"data row59 col1\" >SMOTE</td>\n",
       "    </tr>\n",
       "  </tbody>\n",
       "</table>\n"
      ],
      "text/plain": [
       "<pandas.io.formats.style.Styler at 0x7f7eb3745370>"
      ]
     },
     "metadata": {},
     "output_type": "display_data"
    }
   ],
   "source": [
    "clf1 = setup(\n",
    "    features,\n",
    "    target=label,\n",
    "    categorical_features=['sex'],\n",
    "    numeric_features=['age', 'htum', 'CPA_DIAG', 'CPA_AVANT_CHIR', 'CPA_FIN_TT'] + [col for col in features.columns if col.startswith('dim_')],\n",
    "    normalize=True,\n",
    "    normalize_method='zscore',\n",
    "    feature_selection=False,\n",
    ")"
   ]
  },
  {
   "cell_type": "code",
   "execution_count": 135,
   "id": "4a9f5f95-87f0-46e2-87cd-d1ae5a75adbb",
   "metadata": {},
   "outputs": [
    {
     "data": {
      "text/html": [
       "<style type=\"text/css\">\n",
       "#T_44ef4_ th {\n",
       "  text-align: left;\n",
       "}\n",
       "#T_44ef4_row0_col0, #T_44ef4_row0_col2, #T_44ef4_row0_col3, #T_44ef4_row0_col4, #T_44ef4_row0_col5, #T_44ef4_row0_col6, #T_44ef4_row0_col7, #T_44ef4_row1_col0, #T_44ef4_row1_col1, #T_44ef4_row1_col2, #T_44ef4_row2_col0, #T_44ef4_row2_col1, #T_44ef4_row2_col3, #T_44ef4_row2_col4, #T_44ef4_row2_col5, #T_44ef4_row2_col6, #T_44ef4_row2_col7, #T_44ef4_row3_col0, #T_44ef4_row3_col1, #T_44ef4_row3_col2, #T_44ef4_row3_col3, #T_44ef4_row3_col4, #T_44ef4_row3_col5, #T_44ef4_row3_col6, #T_44ef4_row3_col7, #T_44ef4_row4_col0, #T_44ef4_row4_col1, #T_44ef4_row4_col2, #T_44ef4_row4_col3, #T_44ef4_row4_col4, #T_44ef4_row4_col5, #T_44ef4_row4_col6, #T_44ef4_row4_col7, #T_44ef4_row5_col0, #T_44ef4_row5_col1, #T_44ef4_row5_col2, #T_44ef4_row5_col3, #T_44ef4_row5_col4, #T_44ef4_row5_col5, #T_44ef4_row5_col6, #T_44ef4_row5_col7, #T_44ef4_row6_col0, #T_44ef4_row6_col1, #T_44ef4_row6_col2, #T_44ef4_row6_col3, #T_44ef4_row6_col4, #T_44ef4_row6_col5, #T_44ef4_row6_col6, #T_44ef4_row6_col7, #T_44ef4_row7_col0, #T_44ef4_row7_col1, #T_44ef4_row7_col2, #T_44ef4_row7_col3, #T_44ef4_row7_col4, #T_44ef4_row7_col5, #T_44ef4_row7_col6, #T_44ef4_row7_col7, #T_44ef4_row8_col0, #T_44ef4_row8_col1, #T_44ef4_row8_col2, #T_44ef4_row8_col3, #T_44ef4_row8_col4, #T_44ef4_row8_col5, #T_44ef4_row8_col6, #T_44ef4_row8_col7, #T_44ef4_row9_col0, #T_44ef4_row9_col1, #T_44ef4_row9_col2, #T_44ef4_row9_col3, #T_44ef4_row9_col4, #T_44ef4_row9_col5, #T_44ef4_row9_col6, #T_44ef4_row9_col7, #T_44ef4_row10_col0, #T_44ef4_row10_col1, #T_44ef4_row10_col2, #T_44ef4_row10_col3, #T_44ef4_row10_col4, #T_44ef4_row10_col5, #T_44ef4_row10_col6, #T_44ef4_row10_col7, #T_44ef4_row11_col0, #T_44ef4_row11_col1, #T_44ef4_row11_col2, #T_44ef4_row11_col3, #T_44ef4_row11_col4, #T_44ef4_row11_col5, #T_44ef4_row11_col6, #T_44ef4_row11_col7, #T_44ef4_row12_col0, #T_44ef4_row12_col1, #T_44ef4_row12_col2, #T_44ef4_row12_col3, #T_44ef4_row12_col4, #T_44ef4_row12_col5, #T_44ef4_row12_col6, #T_44ef4_row12_col7, #T_44ef4_row13_col0, #T_44ef4_row13_col1, #T_44ef4_row13_col2, #T_44ef4_row13_col3, #T_44ef4_row13_col4, #T_44ef4_row13_col5, #T_44ef4_row13_col6, #T_44ef4_row13_col7, #T_44ef4_row14_col0, #T_44ef4_row14_col1, #T_44ef4_row14_col2, #T_44ef4_row14_col3, #T_44ef4_row14_col4, #T_44ef4_row14_col5, #T_44ef4_row14_col6, #T_44ef4_row14_col7 {\n",
       "  text-align: left;\n",
       "}\n",
       "#T_44ef4_row0_col1, #T_44ef4_row1_col3, #T_44ef4_row1_col4, #T_44ef4_row1_col5, #T_44ef4_row1_col6, #T_44ef4_row1_col7, #T_44ef4_row2_col2 {\n",
       "  text-align: left;\n",
       "  background-color: yellow;\n",
       "}\n",
       "#T_44ef4_row0_col8, #T_44ef4_row4_col8 {\n",
       "  text-align: left;\n",
       "  background-color: yellow;\n",
       "  background-color: lightgrey;\n",
       "}\n",
       "#T_44ef4_row1_col8, #T_44ef4_row2_col8, #T_44ef4_row3_col8, #T_44ef4_row5_col8, #T_44ef4_row6_col8, #T_44ef4_row7_col8, #T_44ef4_row8_col8, #T_44ef4_row9_col8, #T_44ef4_row10_col8, #T_44ef4_row11_col8, #T_44ef4_row12_col8, #T_44ef4_row13_col8, #T_44ef4_row14_col8 {\n",
       "  text-align: left;\n",
       "  background-color: lightgrey;\n",
       "}\n",
       "</style>\n",
       "<table id=\"T_44ef4_\">\n",
       "  <thead>\n",
       "    <tr>\n",
       "      <th class=\"blank level0\" >&nbsp;</th>\n",
       "      <th class=\"col_heading level0 col0\" >Model</th>\n",
       "      <th class=\"col_heading level0 col1\" >Accuracy</th>\n",
       "      <th class=\"col_heading level0 col2\" >AUC</th>\n",
       "      <th class=\"col_heading level0 col3\" >Recall</th>\n",
       "      <th class=\"col_heading level0 col4\" >Prec.</th>\n",
       "      <th class=\"col_heading level0 col5\" >F1</th>\n",
       "      <th class=\"col_heading level0 col6\" >Kappa</th>\n",
       "      <th class=\"col_heading level0 col7\" >MCC</th>\n",
       "      <th class=\"col_heading level0 col8\" >TT (Sec)</th>\n",
       "    </tr>\n",
       "  </thead>\n",
       "  <tbody>\n",
       "    <tr>\n",
       "      <th id=\"T_44ef4_level0_row0\" class=\"row_heading level0 row0\" >ridge</th>\n",
       "      <td id=\"T_44ef4_row0_col0\" class=\"data row0 col0\" >Ridge Classifier</td>\n",
       "      <td id=\"T_44ef4_row0_col1\" class=\"data row0 col1\" >0.6196</td>\n",
       "      <td id=\"T_44ef4_row0_col2\" class=\"data row0 col2\" >0.0000</td>\n",
       "      <td id=\"T_44ef4_row0_col3\" class=\"data row0 col3\" >0.5083</td>\n",
       "      <td id=\"T_44ef4_row0_col4\" class=\"data row0 col4\" >0.6083</td>\n",
       "      <td id=\"T_44ef4_row0_col5\" class=\"data row0 col5\" >0.5194</td>\n",
       "      <td id=\"T_44ef4_row0_col6\" class=\"data row0 col6\" >0.2188</td>\n",
       "      <td id=\"T_44ef4_row0_col7\" class=\"data row0 col7\" >0.2402</td>\n",
       "      <td id=\"T_44ef4_row0_col8\" class=\"data row0 col8\" >0.0040</td>\n",
       "    </tr>\n",
       "    <tr>\n",
       "      <th id=\"T_44ef4_level0_row1\" class=\"row_heading level0 row1\" >svm</th>\n",
       "      <td id=\"T_44ef4_row1_col0\" class=\"data row1 col0\" >SVM - Linear Kernel</td>\n",
       "      <td id=\"T_44ef4_row1_col1\" class=\"data row1 col1\" >0.6179</td>\n",
       "      <td id=\"T_44ef4_row1_col2\" class=\"data row1 col2\" >0.0000</td>\n",
       "      <td id=\"T_44ef4_row1_col3\" class=\"data row1 col3\" >0.6000</td>\n",
       "      <td id=\"T_44ef4_row1_col4\" class=\"data row1 col4\" >0.6133</td>\n",
       "      <td id=\"T_44ef4_row1_col5\" class=\"data row1 col5\" >0.5816</td>\n",
       "      <td id=\"T_44ef4_row1_col6\" class=\"data row1 col6\" >0.2318</td>\n",
       "      <td id=\"T_44ef4_row1_col7\" class=\"data row1 col7\" >0.2466</td>\n",
       "      <td id=\"T_44ef4_row1_col8\" class=\"data row1 col8\" >0.0090</td>\n",
       "    </tr>\n",
       "    <tr>\n",
       "      <th id=\"T_44ef4_level0_row2\" class=\"row_heading level0 row2\" >lda</th>\n",
       "      <td id=\"T_44ef4_row2_col0\" class=\"data row2 col0\" >Linear Discriminant Analysis</td>\n",
       "      <td id=\"T_44ef4_row2_col1\" class=\"data row2 col1\" >0.6071</td>\n",
       "      <td id=\"T_44ef4_row2_col2\" class=\"data row2 col2\" >0.6542</td>\n",
       "      <td id=\"T_44ef4_row2_col3\" class=\"data row2 col3\" >0.4833</td>\n",
       "      <td id=\"T_44ef4_row2_col4\" class=\"data row2 col4\" >0.5917</td>\n",
       "      <td id=\"T_44ef4_row2_col5\" class=\"data row2 col5\" >0.4956</td>\n",
       "      <td id=\"T_44ef4_row2_col6\" class=\"data row2 col6\" >0.1938</td>\n",
       "      <td id=\"T_44ef4_row2_col7\" class=\"data row2 col7\" >0.2143</td>\n",
       "      <td id=\"T_44ef4_row2_col8\" class=\"data row2 col8\" >0.0050</td>\n",
       "    </tr>\n",
       "    <tr>\n",
       "      <th id=\"T_44ef4_level0_row3\" class=\"row_heading level0 row3\" >lr</th>\n",
       "      <td id=\"T_44ef4_row3_col0\" class=\"data row3 col0\" >Logistic Regression</td>\n",
       "      <td id=\"T_44ef4_row3_col1\" class=\"data row3 col1\" >0.6054</td>\n",
       "      <td id=\"T_44ef4_row3_col2\" class=\"data row3 col2\" >0.6188</td>\n",
       "      <td id=\"T_44ef4_row3_col3\" class=\"data row3 col3\" >0.5167</td>\n",
       "      <td id=\"T_44ef4_row3_col4\" class=\"data row3 col4\" >0.5850</td>\n",
       "      <td id=\"T_44ef4_row3_col5\" class=\"data row3 col5\" >0.5276</td>\n",
       "      <td id=\"T_44ef4_row3_col6\" class=\"data row3 col6\" >0.2051</td>\n",
       "      <td id=\"T_44ef4_row3_col7\" class=\"data row3 col7\" >0.2169</td>\n",
       "      <td id=\"T_44ef4_row3_col8\" class=\"data row3 col8\" >0.6470</td>\n",
       "    </tr>\n",
       "    <tr>\n",
       "      <th id=\"T_44ef4_level0_row4\" class=\"row_heading level0 row4\" >nb</th>\n",
       "      <td id=\"T_44ef4_row4_col0\" class=\"data row4 col0\" >Naive Bayes</td>\n",
       "      <td id=\"T_44ef4_row4_col1\" class=\"data row4 col1\" >0.5714</td>\n",
       "      <td id=\"T_44ef4_row4_col2\" class=\"data row4 col2\" >0.5562</td>\n",
       "      <td id=\"T_44ef4_row4_col3\" class=\"data row4 col3\" >0.4333</td>\n",
       "      <td id=\"T_44ef4_row4_col4\" class=\"data row4 col4\" >0.5500</td>\n",
       "      <td id=\"T_44ef4_row4_col5\" class=\"data row4 col5\" >0.4617</td>\n",
       "      <td id=\"T_44ef4_row4_col6\" class=\"data row4 col6\" >0.1300</td>\n",
       "      <td id=\"T_44ef4_row4_col7\" class=\"data row4 col7\" >0.1366</td>\n",
       "      <td id=\"T_44ef4_row4_col8\" class=\"data row4 col8\" >0.0040</td>\n",
       "    </tr>\n",
       "    <tr>\n",
       "      <th id=\"T_44ef4_level0_row5\" class=\"row_heading level0 row5\" >dummy</th>\n",
       "      <td id=\"T_44ef4_row5_col0\" class=\"data row5 col0\" >Dummy Classifier</td>\n",
       "      <td id=\"T_44ef4_row5_col1\" class=\"data row5 col1\" >0.5357</td>\n",
       "      <td id=\"T_44ef4_row5_col2\" class=\"data row5 col2\" >0.5000</td>\n",
       "      <td id=\"T_44ef4_row5_col3\" class=\"data row5 col3\" >0.0000</td>\n",
       "      <td id=\"T_44ef4_row5_col4\" class=\"data row5 col4\" >0.0000</td>\n",
       "      <td id=\"T_44ef4_row5_col5\" class=\"data row5 col5\" >0.0000</td>\n",
       "      <td id=\"T_44ef4_row5_col6\" class=\"data row5 col6\" >0.0000</td>\n",
       "      <td id=\"T_44ef4_row5_col7\" class=\"data row5 col7\" >0.0000</td>\n",
       "      <td id=\"T_44ef4_row5_col8\" class=\"data row5 col8\" >0.0100</td>\n",
       "    </tr>\n",
       "    <tr>\n",
       "      <th id=\"T_44ef4_level0_row6\" class=\"row_heading level0 row6\" >gbc</th>\n",
       "      <td id=\"T_44ef4_row6_col0\" class=\"data row6 col0\" >Gradient Boosting Classifier</td>\n",
       "      <td id=\"T_44ef4_row6_col1\" class=\"data row6 col1\" >0.5071</td>\n",
       "      <td id=\"T_44ef4_row6_col2\" class=\"data row6 col2\" >0.4729</td>\n",
       "      <td id=\"T_44ef4_row6_col3\" class=\"data row6 col3\" >0.3333</td>\n",
       "      <td id=\"T_44ef4_row6_col4\" class=\"data row6 col4\" >0.4000</td>\n",
       "      <td id=\"T_44ef4_row6_col5\" class=\"data row6 col5\" >0.3538</td>\n",
       "      <td id=\"T_44ef4_row6_col6\" class=\"data row6 col6\" >-0.0076</td>\n",
       "      <td id=\"T_44ef4_row6_col7\" class=\"data row6 col7\" >-0.0282</td>\n",
       "      <td id=\"T_44ef4_row6_col8\" class=\"data row6 col8\" >0.0190</td>\n",
       "    </tr>\n",
       "    <tr>\n",
       "      <th id=\"T_44ef4_level0_row7\" class=\"row_heading level0 row7\" >lightgbm</th>\n",
       "      <td id=\"T_44ef4_row7_col0\" class=\"data row7 col0\" >Light Gradient Boosting Machine</td>\n",
       "      <td id=\"T_44ef4_row7_col1\" class=\"data row7 col1\" >0.4911</td>\n",
       "      <td id=\"T_44ef4_row7_col2\" class=\"data row7 col2\" >0.4833</td>\n",
       "      <td id=\"T_44ef4_row7_col3\" class=\"data row7 col3\" >0.3583</td>\n",
       "      <td id=\"T_44ef4_row7_col4\" class=\"data row7 col4\" >0.4250</td>\n",
       "      <td id=\"T_44ef4_row7_col5\" class=\"data row7 col5\" >0.3629</td>\n",
       "      <td id=\"T_44ef4_row7_col6\" class=\"data row7 col6\" >-0.0355</td>\n",
       "      <td id=\"T_44ef4_row7_col7\" class=\"data row7 col7\" >-0.0349</td>\n",
       "      <td id=\"T_44ef4_row7_col8\" class=\"data row7 col8\" >0.1140</td>\n",
       "    </tr>\n",
       "    <tr>\n",
       "      <th id=\"T_44ef4_level0_row8\" class=\"row_heading level0 row8\" >qda</th>\n",
       "      <td id=\"T_44ef4_row8_col0\" class=\"data row8 col0\" >Quadratic Discriminant Analysis</td>\n",
       "      <td id=\"T_44ef4_row8_col1\" class=\"data row8 col1\" >0.4857</td>\n",
       "      <td id=\"T_44ef4_row8_col2\" class=\"data row8 col2\" >0.4875</td>\n",
       "      <td id=\"T_44ef4_row8_col3\" class=\"data row8 col3\" >0.3500</td>\n",
       "      <td id=\"T_44ef4_row8_col4\" class=\"data row8 col4\" >0.3233</td>\n",
       "      <td id=\"T_44ef4_row8_col5\" class=\"data row8 col5\" >0.3233</td>\n",
       "      <td id=\"T_44ef4_row8_col6\" class=\"data row8 col6\" >-0.0344</td>\n",
       "      <td id=\"T_44ef4_row8_col7\" class=\"data row8 col7\" >-0.0434</td>\n",
       "      <td id=\"T_44ef4_row8_col8\" class=\"data row8 col8\" >0.0160</td>\n",
       "    </tr>\n",
       "    <tr>\n",
       "      <th id=\"T_44ef4_level0_row9\" class=\"row_heading level0 row9\" >knn</th>\n",
       "      <td id=\"T_44ef4_row9_col0\" class=\"data row9 col0\" >K Neighbors Classifier</td>\n",
       "      <td id=\"T_44ef4_row9_col1\" class=\"data row9 col1\" >0.4804</td>\n",
       "      <td id=\"T_44ef4_row9_col2\" class=\"data row9 col2\" >0.4729</td>\n",
       "      <td id=\"T_44ef4_row9_col3\" class=\"data row9 col3\" >0.3333</td>\n",
       "      <td id=\"T_44ef4_row9_col4\" class=\"data row9 col4\" >0.4833</td>\n",
       "      <td id=\"T_44ef4_row9_col5\" class=\"data row9 col5\" >0.3714</td>\n",
       "      <td id=\"T_44ef4_row9_col6\" class=\"data row9 col6\" >-0.0369</td>\n",
       "      <td id=\"T_44ef4_row9_col7\" class=\"data row9 col7\" >-0.0370</td>\n",
       "      <td id=\"T_44ef4_row9_col8\" class=\"data row9 col8\" >0.0190</td>\n",
       "    </tr>\n",
       "    <tr>\n",
       "      <th id=\"T_44ef4_level0_row10\" class=\"row_heading level0 row10\" >dt</th>\n",
       "      <td id=\"T_44ef4_row10_col0\" class=\"data row10 col0\" >Decision Tree Classifier</td>\n",
       "      <td id=\"T_44ef4_row10_col1\" class=\"data row10 col1\" >0.4786</td>\n",
       "      <td id=\"T_44ef4_row10_col2\" class=\"data row10 col2\" >0.4792</td>\n",
       "      <td id=\"T_44ef4_row10_col3\" class=\"data row10 col3\" >0.5583</td>\n",
       "      <td id=\"T_44ef4_row10_col4\" class=\"data row10 col4\" >0.4233</td>\n",
       "      <td id=\"T_44ef4_row10_col5\" class=\"data row10 col5\" >0.4767</td>\n",
       "      <td id=\"T_44ef4_row10_col6\" class=\"data row10 col6\" >-0.0468</td>\n",
       "      <td id=\"T_44ef4_row10_col7\" class=\"data row10 col7\" >-0.0584</td>\n",
       "      <td id=\"T_44ef4_row10_col8\" class=\"data row10 col8\" >0.0300</td>\n",
       "    </tr>\n",
       "    <tr>\n",
       "      <th id=\"T_44ef4_level0_row11\" class=\"row_heading level0 row11\" >ada</th>\n",
       "      <td id=\"T_44ef4_row11_col0\" class=\"data row11 col0\" >Ada Boost Classifier</td>\n",
       "      <td id=\"T_44ef4_row11_col1\" class=\"data row11 col1\" >0.4696</td>\n",
       "      <td id=\"T_44ef4_row11_col2\" class=\"data row11 col2\" >0.5187</td>\n",
       "      <td id=\"T_44ef4_row11_col3\" class=\"data row11 col3\" >0.4000</td>\n",
       "      <td id=\"T_44ef4_row11_col4\" class=\"data row11 col4\" >0.3667</td>\n",
       "      <td id=\"T_44ef4_row11_col5\" class=\"data row11 col5\" >0.3613</td>\n",
       "      <td id=\"T_44ef4_row11_col6\" class=\"data row11 col6\" >-0.0658</td>\n",
       "      <td id=\"T_44ef4_row11_col7\" class=\"data row11 col7\" >-0.0616</td>\n",
       "      <td id=\"T_44ef4_row11_col8\" class=\"data row11 col8\" >0.0400</td>\n",
       "    </tr>\n",
       "    <tr>\n",
       "      <th id=\"T_44ef4_level0_row12\" class=\"row_heading level0 row12\" >xgboost</th>\n",
       "      <td id=\"T_44ef4_row12_col0\" class=\"data row12 col0\" >Extreme Gradient Boosting</td>\n",
       "      <td id=\"T_44ef4_row12_col1\" class=\"data row12 col1\" >0.4696</td>\n",
       "      <td id=\"T_44ef4_row12_col2\" class=\"data row12 col2\" >0.4688</td>\n",
       "      <td id=\"T_44ef4_row12_col3\" class=\"data row12 col3\" >0.4250</td>\n",
       "      <td id=\"T_44ef4_row12_col4\" class=\"data row12 col4\" >0.3700</td>\n",
       "      <td id=\"T_44ef4_row12_col5\" class=\"data row12 col5\" >0.3893</td>\n",
       "      <td id=\"T_44ef4_row12_col6\" class=\"data row12 col6\" >-0.0635</td>\n",
       "      <td id=\"T_44ef4_row12_col7\" class=\"data row12 col7\" >-0.0794</td>\n",
       "      <td id=\"T_44ef4_row12_col8\" class=\"data row12 col8\" >0.1730</td>\n",
       "    </tr>\n",
       "    <tr>\n",
       "      <th id=\"T_44ef4_level0_row13\" class=\"row_heading level0 row13\" >rf</th>\n",
       "      <td id=\"T_44ef4_row13_col0\" class=\"data row13 col0\" >Random Forest Classifier</td>\n",
       "      <td id=\"T_44ef4_row13_col1\" class=\"data row13 col1\" >0.4393</td>\n",
       "      <td id=\"T_44ef4_row13_col2\" class=\"data row13 col2\" >0.4052</td>\n",
       "      <td id=\"T_44ef4_row13_col3\" class=\"data row13 col3\" >0.3583</td>\n",
       "      <td id=\"T_44ef4_row13_col4\" class=\"data row13 col4\" >0.3217</td>\n",
       "      <td id=\"T_44ef4_row13_col5\" class=\"data row13 col5\" >0.3321</td>\n",
       "      <td id=\"T_44ef4_row13_col6\" class=\"data row13 col6\" >-0.1169</td>\n",
       "      <td id=\"T_44ef4_row13_col7\" class=\"data row13 col7\" >-0.1287</td>\n",
       "      <td id=\"T_44ef4_row13_col8\" class=\"data row13 col8\" >0.0670</td>\n",
       "    </tr>\n",
       "    <tr>\n",
       "      <th id=\"T_44ef4_level0_row14\" class=\"row_heading level0 row14\" >et</th>\n",
       "      <td id=\"T_44ef4_row14_col0\" class=\"data row14 col0\" >Extra Trees Classifier</td>\n",
       "      <td id=\"T_44ef4_row14_col1\" class=\"data row14 col1\" >0.4000</td>\n",
       "      <td id=\"T_44ef4_row14_col2\" class=\"data row14 col2\" >0.3948</td>\n",
       "      <td id=\"T_44ef4_row14_col3\" class=\"data row14 col3\" >0.2333</td>\n",
       "      <td id=\"T_44ef4_row14_col4\" class=\"data row14 col4\" >0.3533</td>\n",
       "      <td id=\"T_44ef4_row14_col5\" class=\"data row14 col5\" >0.2641</td>\n",
       "      <td id=\"T_44ef4_row14_col6\" class=\"data row14 col6\" >-0.2214</td>\n",
       "      <td id=\"T_44ef4_row14_col7\" class=\"data row14 col7\" >-0.2192</td>\n",
       "      <td id=\"T_44ef4_row14_col8\" class=\"data row14 col8\" >0.0630</td>\n",
       "    </tr>\n",
       "  </tbody>\n",
       "</table>\n"
      ],
      "text/plain": [
       "<pandas.io.formats.style.Styler at 0x7f7e6297f040>"
      ]
     },
     "metadata": {},
     "output_type": "display_data"
    }
   ],
   "source": [
    "best_model = compare_models()"
   ]
  },
  {
   "cell_type": "code",
   "execution_count": 136,
   "id": "48f1362a-1c03-48e2-a856-5783f98d1cd4",
   "metadata": {},
   "outputs": [
    {
     "data": {
      "image/png": "[encoded data removed]",
      "text/plain": [
       "<Figure size 800x500 with 1 Axes>"
      ]
     },
     "metadata": {},
     "output_type": "display_data"
    }
   ],
   "source": [
    "plot_model(best_model, plot = 'feature')"
   ]
  },
  {
   "cell_type": "code",
   "execution_count": 137,
   "id": "839f5d32-ba7c-4b32-b0e6-e2f8cc550234",
   "metadata": {},
   "outputs": [
    {
     "ename": "TypeError",
     "evalue": "This function only supports tree based models for binary classification: rf, lightgbm, dt, et, xgboost.",
     "output_type": "error",
     "traceback": [
      "\u001b[0;31m---------------------------------------------------------------------------\u001b[0m",
      "\u001b[0;31mTypeError\u001b[0m                                 Traceback (most recent call last)",
      "\u001b[0;32m<ipython-input-137-f12889431735>\u001b[0m in \u001b[0;36m<module>\u001b[0;34m\u001b[0m\n\u001b[0;32m----> 1\u001b[0;31m \u001b[0minterpret_model\u001b[0m\u001b[0;34m(\u001b[0m\u001b[0mbest_model\u001b[0m\u001b[0;34m)\u001b[0m\u001b[0;34m\u001b[0m\u001b[0;34m\u001b[0m\u001b[0m\n\u001b[0m",
      "\u001b[0;32m/opt/homebrew/Caskroom/miniconda/base/lib/python3.8/site-packages/pycaret/classification.py\u001b[0m in \u001b[0;36minterpret_model\u001b[0;34m(estimator, plot, feature, observation, use_train_data, X_new_sample, y_new_sample, save, **kwargs)\u001b[0m\n\u001b[1;32m   1760\u001b[0m     \"\"\"\n\u001b[1;32m   1761\u001b[0m \u001b[0;34m\u001b[0m\u001b[0m\n\u001b[0;32m-> 1762\u001b[0;31m     return pycaret.internal.tabular.interpret_model(\n\u001b[0m\u001b[1;32m   1763\u001b[0m         \u001b[0mestimator\u001b[0m\u001b[0;34m=\u001b[0m\u001b[0mestimator\u001b[0m\u001b[0;34m,\u001b[0m\u001b[0;34m\u001b[0m\u001b[0;34m\u001b[0m\u001b[0m\n\u001b[1;32m   1764\u001b[0m         \u001b[0mplot\u001b[0m\u001b[0;34m=\u001b[0m\u001b[0mplot\u001b[0m\u001b[0;34m,\u001b[0m\u001b[0;34m\u001b[0m\u001b[0;34m\u001b[0m\u001b[0m\n",
      "\u001b[0;32m/opt/homebrew/Caskroom/miniconda/base/lib/python3.8/site-packages/pycaret/internal/tabular.py\u001b[0m in \u001b[0;36minterpret_model\u001b[0;34m(estimator, plot, feature, observation, use_train_data, X_new_sample, y_new_sample, save, **kwargs)\u001b[0m\n\u001b[1;32m   7667\u001b[0m         \u001b[0mmodel_id\u001b[0m \u001b[0;32mnot\u001b[0m \u001b[0;32min\u001b[0m \u001b[0mshap_models_ids\u001b[0m\u001b[0;34m\u001b[0m\u001b[0;34m\u001b[0m\u001b[0m\n\u001b[1;32m   7668\u001b[0m     ):\n\u001b[0;32m-> 7669\u001b[0;31m         raise TypeError(\n\u001b[0m\u001b[1;32m   7670\u001b[0m             \u001b[0;34mf\"This function only supports tree based models for binary classification: {', '.join(shap_models_ids)}.\"\u001b[0m\u001b[0;34m\u001b[0m\u001b[0;34m\u001b[0m\u001b[0m\n\u001b[1;32m   7671\u001b[0m         )\n",
      "\u001b[0;31mTypeError\u001b[0m: This function only supports tree based models for binary classification: rf, lightgbm, dt, et, xgboost."
     ]
    }
   ],
   "source": [
    "interpret_model(best_model)"
   ]
  },
  {
   "cell_type": "code",
   "execution_count": null,
   "id": "a4505dfb-3611-4ab9-a966-9ca729d9c466",
   "metadata": {},
   "outputs": [],
   "source": []
  }
 ],
 "metadata": {
  "kernelspec": {
   "display_name": "Python 3",
   "language": "python",
   "name": "python3"
  },
  "language_info": {
   "codemirror_mode": {
    "name": "ipython",
    "version": 3
   },
   "file_extension": ".py",
   "mimetype": "text/x-python",
   "name": "python",
   "nbconvert_exporter": "python",
   "pygments_lexer": "ipython3",
   "version": "3.8.5"
  }
 },
 "nbformat": 4,
 "nbformat_minor": 5
}
