{
 "cells": [
  {
   "cell_type": "code",
   "execution_count": 1,
   "id": "c58c6898-3848-4245-a331-64bcb0f0f13b",
   "metadata": {},
   "outputs": [],
   "source": [
    "from pathlib import Path\n",
    "from ast import literal_eval\n",
    "from collections import Counter\n",
    "import pickle\n",
    "\n",
    "import pandas as pd\n",
    "import numpy as np"
   ]
  },
  {
   "cell_type": "markdown",
   "id": "07774108-e565-44f2-84a8-2e7eeb511ed1",
   "metadata": {},
   "source": [
    "# Build merge of best results"
   ]
  },
  {
   "cell_type": "code",
   "execution_count": 2,
   "id": "f1714287-6877-4c04-98d1-4e63e282f0a9",
   "metadata": {},
   "outputs": [],
   "source": [
    "# last taken adn_circulant_brute_force_14.log\n",
    "file_name = 'adn_circulant_brute_force_13.log'\n",
    "data = pd.read_csv(Path('..') / 'results' / file_name, sep='|', header=0, names=['mean', 'std', 'scores_cv', 'features'])"
   ]
  },
  {
   "cell_type": "code",
   "execution_count": 3,
   "id": "3cf0b64e-af33-463f-968b-5cf855984038",
   "metadata": {},
   "outputs": [],
   "source": [
    "data.sort_values('mean', inplace=True, ascending=False)\n",
    "data.reset_index(drop=True, inplace=True)"
   ]
  },
  {
   "cell_type": "code",
   "execution_count": 4,
   "id": "c75c84cb-0817-40a3-85b3-de2c483bdb5e",
   "metadata": {},
   "outputs": [],
   "source": [
    "nb_best_results = 50000\n",
    "best_results_tmp = data.loc[: nb_best_results, :]"
   ]
  },
  {
   "cell_type": "code",
   "execution_count": 5,
   "id": "4f18adee-21b5-4475-8ab8-25146bdc1ad1",
   "metadata": {},
   "outputs": [],
   "source": [
    "best_results_file_name = 'best_results_old.log'\n",
    "best_results = pd.read_csv(Path('..') / 'results' / best_results_file_name, sep='|', header=0, names=['mean', 'std', 'scores_cv', 'features'])"
   ]
  },
  {
   "cell_type": "code",
   "execution_count": 6,
   "id": "6e77c8fa-8843-4df2-b09d-07487c59b261",
   "metadata": {},
   "outputs": [
    {
     "data": {
      "text/plain": [
       "(250005, 4)"
      ]
     },
     "execution_count": 6,
     "metadata": {},
     "output_type": "execute_result"
    }
   ],
   "source": [
    "best_results.shape"
   ]
  },
  {
   "cell_type": "code",
   "execution_count": 7,
   "id": "18dbea12-2954-4dad-a785-69460e2e34d1",
   "metadata": {},
   "outputs": [],
   "source": [
    "best_results = pd.concat([best_results, best_results_tmp])\n",
    "best_results.sort_values('mean', inplace=True, ascending=False)\n",
    "best_results.reset_index(drop=True, inplace=True)"
   ]
  },
  {
   "cell_type": "code",
   "execution_count": 8,
   "id": "9a796faf-b228-4882-a75f-3357846a47b4",
   "metadata": {},
   "outputs": [
    {
     "data": {
      "text/plain": [
       "(300006, 4)"
      ]
     },
     "execution_count": 8,
     "metadata": {},
     "output_type": "execute_result"
    }
   ],
   "source": [
    "best_results.shape"
   ]
  },
  {
   "cell_type": "code",
   "execution_count": 9,
   "id": "c4813bbd-cfe7-4e82-af93-bbb86f43d8cd",
   "metadata": {},
   "outputs": [],
   "source": [
    "best_results.to_csv(Path('..') / 'results' / best_results_file_name, sep='|', index=False)"
   ]
  },
  {
   "cell_type": "markdown",
   "id": "ea494bc7-3cee-4ed6-b1f8-c84aab6aafbb",
   "metadata": {
    "tags": []
   },
   "source": [
    "# Load data"
   ]
  },
  {
   "cell_type": "code",
   "execution_count": 2,
   "id": "0f8eaae6-a5d7-4420-9fff-855a0f46f635",
   "metadata": {},
   "outputs": [
    {
     "ename": "NameError",
     "evalue": "name 'best_results_file_name' is not defined",
     "output_type": "error",
     "traceback": [
      "\u001b[0;31m---------------------------------------------------------------------------\u001b[0m",
      "\u001b[0;31mNameError\u001b[0m                                 Traceback (most recent call last)",
      "Input \u001b[0;32mIn [2]\u001b[0m, in \u001b[0;36m<module>\u001b[0;34m\u001b[0m\n\u001b[1;32m      1\u001b[0m file_name \u001b[38;5;241m=\u001b[39m \u001b[38;5;124m'\u001b[39m\u001b[38;5;124madn_circulant_brute_force_1.log\u001b[39m\u001b[38;5;124m'\u001b[39m\n\u001b[0;32m----> 2\u001b[0m data \u001b[38;5;241m=\u001b[39m pd\u001b[38;5;241m.\u001b[39mread_csv(Path(\u001b[38;5;124m'\u001b[39m\u001b[38;5;124m..\u001b[39m\u001b[38;5;124m'\u001b[39m) \u001b[38;5;241m/\u001b[39m \u001b[38;5;124m'\u001b[39m\u001b[38;5;124mresults\u001b[39m\u001b[38;5;124m'\u001b[39m \u001b[38;5;241m/\u001b[39m \u001b[43mbest_results_file_name\u001b[49m, sep\u001b[38;5;241m=\u001b[39m\u001b[38;5;124m'\u001b[39m\u001b[38;5;124m|\u001b[39m\u001b[38;5;124m'\u001b[39m, header\u001b[38;5;241m=\u001b[39m\u001b[38;5;241m0\u001b[39m, names\u001b[38;5;241m=\u001b[39m[\u001b[38;5;124m'\u001b[39m\u001b[38;5;124mmean\u001b[39m\u001b[38;5;124m'\u001b[39m, \u001b[38;5;124m'\u001b[39m\u001b[38;5;124mstd\u001b[39m\u001b[38;5;124m'\u001b[39m, \u001b[38;5;124m'\u001b[39m\u001b[38;5;124mscores_cv\u001b[39m\u001b[38;5;124m'\u001b[39m, \u001b[38;5;124m'\u001b[39m\u001b[38;5;124mfeatures\u001b[39m\u001b[38;5;124m'\u001b[39m])\n",
      "\u001b[0;31mNameError\u001b[0m: name 'best_results_file_name' is not defined"
     ]
    }
   ],
   "source": [
    "file_name = 'adn_circulant_brute_force_1.log'\n",
    "data = pd.read_csv(Path('..') / 'results' / best_results_file_name, sep='|', header=0, names=['mean', 'std', 'scores_cv', 'features'])"
   ]
  },
  {
   "cell_type": "code",
   "execution_count": 4,
   "id": "d81f2734-01ae-4448-9bb9-d1c8124dc79b",
   "metadata": {},
   "outputs": [],
   "source": [
    "data.sort_values('mean', inplace=True, ascending=False)\n",
    "data.reset_index(drop=True, inplace=True)"
   ]
  },
  {
   "cell_type": "code",
   "execution_count": 87,
   "id": "2382a908-e5d3-4d4f-b09b-33d9f2a96c45",
   "metadata": {},
   "outputs": [
    {
     "data": {
      "text/html": [
       "<div>\n",
       "<style scoped>\n",
       "    .dataframe tbody tr th:only-of-type {\n",
       "        vertical-align: middle;\n",
       "    }\n",
       "\n",
       "    .dataframe tbody tr th {\n",
       "        vertical-align: top;\n",
       "    }\n",
       "\n",
       "    .dataframe thead th {\n",
       "        text-align: right;\n",
       "    }\n",
       "</style>\n",
       "<table border=\"1\" class=\"dataframe\">\n",
       "  <thead>\n",
       "    <tr style=\"text-align: right;\">\n",
       "      <th></th>\n",
       "      <th>mean</th>\n",
       "      <th>std</th>\n",
       "      <th>scores_cv</th>\n",
       "      <th>features</th>\n",
       "    </tr>\n",
       "  </thead>\n",
       "  <tbody>\n",
       "    <tr>\n",
       "      <th>0</th>\n",
       "      <td>72.8</td>\n",
       "      <td>3.9</td>\n",
       "      <td>[0.76666667 0.73333333 0.75862069 0.72413793 0...</td>\n",
       "      <td>['5:115000001-116000000_ratio', '9:3000001-400...</td>\n",
       "    </tr>\n",
       "    <tr>\n",
       "      <th>1</th>\n",
       "      <td>72.8</td>\n",
       "      <td>5.4</td>\n",
       "      <td>[0.76666667 0.63333333 0.72413793 0.79310345 0...</td>\n",
       "      <td>['2:96000001-97000000_ratio', '5:56000001-5700...</td>\n",
       "    </tr>\n",
       "    <tr>\n",
       "      <th>2</th>\n",
       "      <td>72.8</td>\n",
       "      <td>5.5</td>\n",
       "      <td>[0.73333333 0.76666667 0.62068966 0.75862069 0...</td>\n",
       "      <td>['20:25000001-26000000_ratio', '11:114000001-1...</td>\n",
       "    </tr>\n",
       "    <tr>\n",
       "      <th>3</th>\n",
       "      <td>72.8</td>\n",
       "      <td>2.2</td>\n",
       "      <td>[0.73333333 0.73333333 0.72413793 0.75862069 0...</td>\n",
       "      <td>['1:240000001-241000000_ratio', '1:238000001-2...</td>\n",
       "    </tr>\n",
       "    <tr>\n",
       "      <th>4</th>\n",
       "      <td>72.8</td>\n",
       "      <td>2.2</td>\n",
       "      <td>[0.73333333 0.73333333 0.68965517 0.72413793 0...</td>\n",
       "      <td>['5:71000001-72000000_ratio', '12:125000001-12...</td>\n",
       "    </tr>\n",
       "    <tr>\n",
       "      <th>...</th>\n",
       "      <td>...</td>\n",
       "      <td>...</td>\n",
       "      <td>...</td>\n",
       "      <td>...</td>\n",
       "    </tr>\n",
       "    <tr>\n",
       "      <th>95</th>\n",
       "      <td>71.4</td>\n",
       "      <td>6.2</td>\n",
       "      <td>[0.76666667 0.63333333 0.65517241 0.79310345 0...</td>\n",
       "      <td>['16:20000001-21000000_ratio', '9:3000001-4000...</td>\n",
       "    </tr>\n",
       "    <tr>\n",
       "      <th>96</th>\n",
       "      <td>71.4</td>\n",
       "      <td>3.5</td>\n",
       "      <td>[0.73333333 0.7        0.65517241 0.75862069 0...</td>\n",
       "      <td>['2:176000001-177000000_ratio', '18:60000001-6...</td>\n",
       "    </tr>\n",
       "    <tr>\n",
       "      <th>97</th>\n",
       "      <td>71.4</td>\n",
       "      <td>4.8</td>\n",
       "      <td>[0.73333333 0.73333333 0.62068966 0.75862069 0...</td>\n",
       "      <td>['5:102000001-103000000_ratio', '4:23000001-24...</td>\n",
       "    </tr>\n",
       "    <tr>\n",
       "      <th>98</th>\n",
       "      <td>71.4</td>\n",
       "      <td>5.4</td>\n",
       "      <td>[0.8        0.73333333 0.65517241 0.72413793 0...</td>\n",
       "      <td>['8:51000001-52000000_ratio', '2:64000001-6500...</td>\n",
       "    </tr>\n",
       "    <tr>\n",
       "      <th>99</th>\n",
       "      <td>71.4</td>\n",
       "      <td>3.8</td>\n",
       "      <td>[0.76666667 0.73333333 0.65517241 0.72413793 0...</td>\n",
       "      <td>['9:86000001-87000000_ratio', '8:30000001-3100...</td>\n",
       "    </tr>\n",
       "  </tbody>\n",
       "</table>\n",
       "<p>100 rows × 4 columns</p>\n",
       "</div>"
      ],
      "text/plain": [
       "    mean  std                                          scores_cv  \\\n",
       "0   72.8  3.9  [0.76666667 0.73333333 0.75862069 0.72413793 0...   \n",
       "1   72.8  5.4  [0.76666667 0.63333333 0.72413793 0.79310345 0...   \n",
       "2   72.8  5.5  [0.73333333 0.76666667 0.62068966 0.75862069 0...   \n",
       "3   72.8  2.2  [0.73333333 0.73333333 0.72413793 0.75862069 0...   \n",
       "4   72.8  2.2  [0.73333333 0.73333333 0.68965517 0.72413793 0...   \n",
       "..   ...  ...                                                ...   \n",
       "95  71.4  6.2  [0.76666667 0.63333333 0.65517241 0.79310345 0...   \n",
       "96  71.4  3.5  [0.73333333 0.7        0.65517241 0.75862069 0...   \n",
       "97  71.4  4.8  [0.73333333 0.73333333 0.62068966 0.75862069 0...   \n",
       "98  71.4  5.4  [0.8        0.73333333 0.65517241 0.72413793 0...   \n",
       "99  71.4  3.8  [0.76666667 0.73333333 0.65517241 0.72413793 0...   \n",
       "\n",
       "                                             features  \n",
       "0   ['5:115000001-116000000_ratio', '9:3000001-400...  \n",
       "1   ['2:96000001-97000000_ratio', '5:56000001-5700...  \n",
       "2   ['20:25000001-26000000_ratio', '11:114000001-1...  \n",
       "3   ['1:240000001-241000000_ratio', '1:238000001-2...  \n",
       "4   ['5:71000001-72000000_ratio', '12:125000001-12...  \n",
       "..                                                ...  \n",
       "95  ['16:20000001-21000000_ratio', '9:3000001-4000...  \n",
       "96  ['2:176000001-177000000_ratio', '18:60000001-6...  \n",
       "97  ['5:102000001-103000000_ratio', '4:23000001-24...  \n",
       "98  ['8:51000001-52000000_ratio', '2:64000001-6500...  \n",
       "99  ['9:86000001-87000000_ratio', '8:30000001-3100...  \n",
       "\n",
       "[100 rows x 4 columns]"
      ]
     },
     "execution_count": 87,
     "metadata": {},
     "output_type": "execute_result"
    }
   ],
   "source": [
    "data.head(100)"
   ]
  },
  {
   "cell_type": "markdown",
   "id": "11fa234a-3fb6-4c6d-87f8-52fb4937cfda",
   "metadata": {},
   "source": [
    "# Find commun features"
   ]
  },
  {
   "cell_type": "code",
   "execution_count": 10,
   "id": "e54b093f-e780-4279-8fe0-e44d378b9bc2",
   "metadata": {},
   "outputs": [],
   "source": [
    "data = best_results"
   ]
  },
  {
   "cell_type": "code",
   "execution_count": 11,
   "id": "de338726-c471-4360-9a88-144b2ce9f734",
   "metadata": {},
   "outputs": [],
   "source": [
    "n_cv = 750\n",
    "features_list = [literal_eval(x) for x in data.loc[:n_cv,  'features'].to_list()]\n",
    "features_flat_list = [item for sublist in features_list for item in sublist]\n"
   ]
  },
  {
   "cell_type": "code",
   "execution_count": 12,
   "id": "8cf18c27-8541-4f8d-b621-8e843ad08a7d",
   "metadata": {
    "tags": []
   },
   "outputs": [],
   "source": [
    "c = Counter(features_flat_list)"
   ]
  },
  {
   "cell_type": "code",
   "execution_count": 13,
   "id": "c6134e4a-b9df-4d8c-b84e-2eefcf425820",
   "metadata": {},
   "outputs": [],
   "source": [
    "nb_features = 92\n",
    "features_name = [x[0] for x in c.most_common()[:nb_features]]"
   ]
  },
  {
   "cell_type": "markdown",
   "id": "3aaa6b02-7340-4ebe-be50-70aef992351a",
   "metadata": {},
   "source": [
    "# Train model"
   ]
  },
  {
   "cell_type": "code",
   "execution_count": 14,
   "id": "412ad7da-bf67-44be-b93a-fb496783c3d0",
   "metadata": {},
   "outputs": [],
   "source": [
    "from sklearn.linear_model import LogisticRegression\n",
    "from sklearn.model_selection import cross_val_score"
   ]
  },
  {
   "cell_type": "code",
   "execution_count": 15,
   "id": "b05f4be4-a7f6-46f7-b626-cbf99c51a11b",
   "metadata": {},
   "outputs": [],
   "source": [
    "X = pickle.load(open(Path('..') / 'features' / 'X.pkl', 'rb'))\n",
    "y = pickle.load(open(Path('..') / 'features' / 'y.pkl', 'rb'))"
   ]
  },
  {
   "cell_type": "code",
   "execution_count": 16,
   "id": "5f1a83d4-e08c-4072-a926-dddadbc1114a",
   "metadata": {},
   "outputs": [],
   "source": [
    "X_light = X.loc[:, features_name]\n",
    "#X_light = X.loc[:, new_features_set]"
   ]
  },
  {
   "cell_type": "code",
   "execution_count": 17,
   "id": "79a031f7-74f8-44b6-aab2-aa97eb19ad4e",
   "metadata": {},
   "outputs": [
    {
     "name": "stdout",
     "output_type": "stream",
     "text": [
      "53\n",
      "94\n"
     ]
    }
   ],
   "source": [
    "print(len([x for x in y if x ==1]))\n",
    "print(len([x for x in y if x ==0]))"
   ]
  },
  {
   "cell_type": "markdown",
   "id": "718f8db3-b2ff-41d8-a20c-d15c9fe1a952",
   "metadata": {},
   "source": [
    "## automatic cross val"
   ]
  },
  {
   "cell_type": "code",
   "execution_count": 24,
   "id": "6c4b0a55-d0ad-4d73-a97b-c530a171cd7a",
   "metadata": {},
   "outputs": [],
   "source": [
    "lr = LogisticRegression(class_weight='balanced', C=1)\n",
    "cv_score = cross_val_score(lr, X_light, y, cv=5)"
   ]
  },
  {
   "cell_type": "code",
   "execution_count": 25,
   "id": "f323a575-39f3-4fc9-8281-a5ff60a768b1",
   "metadata": {},
   "outputs": [
    {
     "data": {
      "text/plain": [
       "array([0.76666667, 0.9       , 0.93103448, 0.86206897, 0.86206897])"
      ]
     },
     "execution_count": 25,
     "metadata": {},
     "output_type": "execute_result"
    }
   ],
   "source": [
    "cv_score"
   ]
  },
  {
   "cell_type": "code",
   "execution_count": 26,
   "id": "7e801ad8-047c-491c-ba53-399e74587225",
   "metadata": {},
   "outputs": [
    {
     "data": {
      "text/plain": [
       "0.864367816091954"
      ]
     },
     "execution_count": 26,
     "metadata": {},
     "output_type": "execute_result"
    }
   ],
   "source": [
    "np.mean(cv_score)"
   ]
  },
  {
   "cell_type": "markdown",
   "id": "578d86e6-3fc7-4eaa-8a23-b438d7a6ccdc",
   "metadata": {},
   "source": [
    "## manual cross val"
   ]
  },
  {
   "cell_type": "code",
   "execution_count": 28,
   "id": "00d9ae52-6973-4de2-88a0-69fd314e6958",
   "metadata": {},
   "outputs": [],
   "source": [
    "from sklearn.model_selection import StratifiedKFold\n",
    "from sklearn.metrics import accuracy_score, precision_recall_fscore_support"
   ]
  },
  {
   "cell_type": "code",
   "execution_count": 35,
   "id": "d926e710-f134-4a6c-b21a-e4538890607d",
   "metadata": {},
   "outputs": [],
   "source": [
    "nb_cv = 5\n",
    "class_weight = {0: 1, 1: 2}\n",
    "skf = StratifiedKFold(n_splits=nb_cv)\n",
    "accuracy = []\n",
    "models = []\n",
    "train_score, test_score = [], []\n",
    "\n",
    "for i, (idx_train, idx_test) in enumerate(skf.split(X_light, y)):\n",
    "    lr = LogisticRegression(C=1, class_weight='balanced')\n",
    "    lr.fit(X_light.loc[idx_train, :], np.array(y)[idx_train])\n",
    "    y_train_pred = lr.predict(X_light.loc[idx_train, :])\n",
    "\n",
    "    train_acc = accuracy_score(y_train_pred, np.array(y)[idx_train])\n",
    "    #train_precision, train_recall, train_fscore, train_support = precision_recall_fscore_support(y_train_pred, np.array(y)[idx_train])\n",
    "    train_score.append(precision_recall_fscore_support(y_train_pred, np.array(y)[idx_train], labels=[0, 1]))\n",
    "    \n",
    "    y_test_pred = lr.predict(X_light.loc[idx_test, :])\n",
    "    test_acc = accuracy_score(y_test_pred, np.array(y)[idx_test])\n",
    "    #test_precision, test_recall, test_fscore, test_support = precision_recall_fscore_support(y_test_pred, np.array(y)[idx_test])\n",
    "    test_score.append(precision_recall_fscore_support(y_test_pred, np.array(y)[idx_test]))\n",
    "    \n",
    "    accuracy.append((train_acc, test_acc))\n",
    "    models.append(lr)"
   ]
  },
  {
   "cell_type": "markdown",
   "id": "7cbad153-238a-49e6-9bfa-109dbd89d0b2",
   "metadata": {},
   "source": [
    "### scores"
   ]
  },
  {
   "cell_type": "code",
   "execution_count": 36,
   "id": "ed187967-6ded-43be-bb6d-3a4ba77e3892",
   "metadata": {},
   "outputs": [
    {
     "name": "stdout",
     "output_type": "stream",
     "text": [
      "Accuracy :\n"
     ]
    },
    {
     "data": {
      "text/plain": [
       "train    87.8\n",
       "test     86.4\n",
       "dtype: float64"
      ]
     },
     "execution_count": 36,
     "metadata": {},
     "output_type": "execute_result"
    }
   ],
   "source": [
    "print(\"Accuracy :\")\n",
    "round(100 * pd.DataFrame(accuracy, columns=['train', 'test']).mean(axis=0), 1)"
   ]
  },
  {
   "cell_type": "code",
   "execution_count": 37,
   "id": "01a97bc5-f031-4e3d-8e3e-d6703d2f6102",
   "metadata": {},
   "outputs": [
    {
     "data": {
      "text/html": [
       "<div>\n",
       "<style scoped>\n",
       "    .dataframe tbody tr th:only-of-type {\n",
       "        vertical-align: middle;\n",
       "    }\n",
       "\n",
       "    .dataframe tbody tr th {\n",
       "        vertical-align: top;\n",
       "    }\n",
       "\n",
       "    .dataframe thead th {\n",
       "        text-align: right;\n",
       "    }\n",
       "</style>\n",
       "<table border=\"1\" class=\"dataframe\">\n",
       "  <thead>\n",
       "    <tr style=\"text-align: right;\">\n",
       "      <th></th>\n",
       "      <th>0</th>\n",
       "      <th>1</th>\n",
       "    </tr>\n",
       "  </thead>\n",
       "  <tbody>\n",
       "    <tr>\n",
       "      <th>precision</th>\n",
       "      <td>97.0</td>\n",
       "      <td>72.0</td>\n",
       "    </tr>\n",
       "    <tr>\n",
       "      <th>rappel</th>\n",
       "      <td>86.0</td>\n",
       "      <td>93.0</td>\n",
       "    </tr>\n",
       "    <tr>\n",
       "      <th>f1score</th>\n",
       "      <td>91.0</td>\n",
       "      <td>81.0</td>\n",
       "    </tr>\n",
       "    <tr>\n",
       "      <th>support</th>\n",
       "      <td>8480.0</td>\n",
       "      <td>3280.0</td>\n",
       "    </tr>\n",
       "  </tbody>\n",
       "</table>\n",
       "</div>"
      ],
      "text/plain": [
       "                0       1\n",
       "precision    97.0    72.0\n",
       "rappel       86.0    93.0\n",
       "f1score      91.0    81.0\n",
       "support    8480.0  3280.0"
      ]
     },
     "execution_count": 37,
     "metadata": {},
     "output_type": "execute_result"
    }
   ],
   "source": [
    "mean_train_score = np.round(100 * np.sum(train_score, axis=0) / 5)\n",
    "pd.DataFrame(mean_train_score, columns=[0, 1], index= ['precision', 'rappel', 'f1score', 'support'])"
   ]
  },
  {
   "cell_type": "code",
   "execution_count": 38,
   "id": "809d1228-9f86-4199-bd6c-cae151801dc4",
   "metadata": {},
   "outputs": [
    {
     "data": {
      "text/html": [
       "<div>\n",
       "<style scoped>\n",
       "    .dataframe tbody tr th:only-of-type {\n",
       "        vertical-align: middle;\n",
       "    }\n",
       "\n",
       "    .dataframe tbody tr th {\n",
       "        vertical-align: top;\n",
       "    }\n",
       "\n",
       "    .dataframe thead th {\n",
       "        text-align: right;\n",
       "    }\n",
       "</style>\n",
       "<table border=\"1\" class=\"dataframe\">\n",
       "  <thead>\n",
       "    <tr style=\"text-align: right;\">\n",
       "      <th></th>\n",
       "      <th>0</th>\n",
       "      <th>1</th>\n",
       "    </tr>\n",
       "  </thead>\n",
       "  <tbody>\n",
       "    <tr>\n",
       "      <th>precision</th>\n",
       "      <td>97.0</td>\n",
       "      <td>68.0</td>\n",
       "    </tr>\n",
       "    <tr>\n",
       "      <th>rappel</th>\n",
       "      <td>84.0</td>\n",
       "      <td>94.0</td>\n",
       "    </tr>\n",
       "    <tr>\n",
       "      <th>f1score</th>\n",
       "      <td>90.0</td>\n",
       "      <td>78.0</td>\n",
       "    </tr>\n",
       "    <tr>\n",
       "      <th>support</th>\n",
       "      <td>2160.0</td>\n",
       "      <td>780.0</td>\n",
       "    </tr>\n",
       "  </tbody>\n",
       "</table>\n",
       "</div>"
      ],
      "text/plain": [
       "                0      1\n",
       "precision    97.0   68.0\n",
       "rappel       84.0   94.0\n",
       "f1score      90.0   78.0\n",
       "support    2160.0  780.0"
      ]
     },
     "execution_count": 38,
     "metadata": {},
     "output_type": "execute_result"
    }
   ],
   "source": [
    "mean_test_score = np.round(100 * np.sum(test_score, axis=0) / 5)\n",
    "pd.DataFrame(mean_test_score, columns=[0, 1], index= ['precision', 'rappel', 'f1score', 'support'])"
   ]
  },
  {
   "cell_type": "markdown",
   "id": "6e306b44-5f05-43df-b23a-025ad7a661f2",
   "metadata": {},
   "source": [
    "### coeff"
   ]
  },
  {
   "cell_type": "code",
   "execution_count": 23,
   "id": "f0ca0927-433e-4fe4-b1ce-01ec3ac67207",
   "metadata": {},
   "outputs": [],
   "source": [
    "mean_coef = np.zeros(len(features_name))\n",
    "for i in range(0, nb_cv):\n",
    "    mean_coef += models[i].coef_[0]\n",
    "mean_coef = mean_coef / nb_cv"
   ]
  },
  {
   "cell_type": "code",
   "execution_count": 30,
   "id": "273069b0-0412-4e35-894b-6a9f73db279f",
   "metadata": {},
   "outputs": [
    {
     "data": {
      "text/html": [
       "<div>\n",
       "<style scoped>\n",
       "    .dataframe tbody tr th:only-of-type {\n",
       "        vertical-align: middle;\n",
       "    }\n",
       "\n",
       "    .dataframe tbody tr th {\n",
       "        vertical-align: top;\n",
       "    }\n",
       "\n",
       "    .dataframe thead th {\n",
       "        text-align: right;\n",
       "    }\n",
       "</style>\n",
       "<table border=\"1\" class=\"dataframe\">\n",
       "  <thead>\n",
       "    <tr style=\"text-align: right;\">\n",
       "      <th></th>\n",
       "      <th>feature</th>\n",
       "      <th>weight</th>\n",
       "    </tr>\n",
       "  </thead>\n",
       "  <tbody>\n",
       "    <tr>\n",
       "      <th>9</th>\n",
       "      <td>5:29000001-30000000_ratio</td>\n",
       "      <td>0.772241</td>\n",
       "    </tr>\n",
       "    <tr>\n",
       "      <th>50</th>\n",
       "      <td>21:28000001-29000000_ratio</td>\n",
       "      <td>0.630533</td>\n",
       "    </tr>\n",
       "    <tr>\n",
       "      <th>0</th>\n",
       "      <td>5:37000001-38000000_ratio</td>\n",
       "      <td>0.601851</td>\n",
       "    </tr>\n",
       "    <tr>\n",
       "      <th>82</th>\n",
       "      <td>21:27000001-28000000_ratio</td>\n",
       "      <td>0.552940</td>\n",
       "    </tr>\n",
       "    <tr>\n",
       "      <th>90</th>\n",
       "      <td>5:56000001-57000000_ratio</td>\n",
       "      <td>0.537730</td>\n",
       "    </tr>\n",
       "    <tr>\n",
       "      <th>...</th>\n",
       "      <td>...</td>\n",
       "      <td>...</td>\n",
       "    </tr>\n",
       "    <tr>\n",
       "      <th>74</th>\n",
       "      <td>8:20000001-21000000_ratio</td>\n",
       "      <td>-0.632364</td>\n",
       "    </tr>\n",
       "    <tr>\n",
       "      <th>67</th>\n",
       "      <td>22:25000001-26000000_ratio</td>\n",
       "      <td>-0.639043</td>\n",
       "    </tr>\n",
       "    <tr>\n",
       "      <th>1</th>\n",
       "      <td>8:2000001-3000000_ratio</td>\n",
       "      <td>-0.647601</td>\n",
       "    </tr>\n",
       "    <tr>\n",
       "      <th>2</th>\n",
       "      <td>9:20000001-21000000_ratio</td>\n",
       "      <td>-0.669472</td>\n",
       "    </tr>\n",
       "    <tr>\n",
       "      <th>34</th>\n",
       "      <td>9:3000001-4000000_ratio</td>\n",
       "      <td>-0.790536</td>\n",
       "    </tr>\n",
       "  </tbody>\n",
       "</table>\n",
       "<p>92 rows × 2 columns</p>\n",
       "</div>"
      ],
      "text/plain": [
       "                       feature    weight\n",
       "9    5:29000001-30000000_ratio  0.772241\n",
       "50  21:28000001-29000000_ratio  0.630533\n",
       "0    5:37000001-38000000_ratio  0.601851\n",
       "82  21:27000001-28000000_ratio  0.552940\n",
       "90   5:56000001-57000000_ratio  0.537730\n",
       "..                         ...       ...\n",
       "74   8:20000001-21000000_ratio -0.632364\n",
       "67  22:25000001-26000000_ratio -0.639043\n",
       "1      8:2000001-3000000_ratio -0.647601\n",
       "2    9:20000001-21000000_ratio -0.669472\n",
       "34     9:3000001-4000000_ratio -0.790536\n",
       "\n",
       "[92 rows x 2 columns]"
      ]
     },
     "execution_count": 30,
     "metadata": {},
     "output_type": "execute_result"
    }
   ],
   "source": [
    "coef_lr = pd.DataFrame({'feature': X_light.columns,'weight': mean_coef})\n",
    "coef_lr.sort_values('weight', ascending=False)"
   ]
  },
  {
   "cell_type": "code",
   "execution_count": 31,
   "id": "95bb155f-11e4-4be7-b986-ef027af7edfe",
   "metadata": {},
   "outputs": [
    {
     "data": {
      "text/plain": [
       "array([[<AxesSubplot:title={'center':'weight'}>]], dtype=object)"
      ]
     },
     "execution_count": 31,
     "metadata": {},
     "output_type": "execute_result"
    },
    {
     "data": {
      "image/png": "[encoded data removed]",
      "text/plain": [
       "<Figure size 432x288 with 1 Axes>"
      ]
     },
     "metadata": {
      "needs_background": "light"
     },
     "output_type": "display_data"
    }
   ],
   "source": [
    "coef_lr.hist(bins=20)"
   ]
  },
  {
   "cell_type": "code",
   "execution_count": 42,
   "id": "d3233f9c-4447-4a4e-a5f5-428f597bccbb",
   "metadata": {},
   "outputs": [],
   "source": [
    "threshold_features = 0.35\n",
    "new_features_set = coef_lr.loc[abs(coef_lr['weight']) > threshold_features, 'feature']"
   ]
  },
  {
   "cell_type": "code",
   "execution_count": 43,
   "id": "05626ab0-f842-4e68-a02f-aa792c15a827",
   "metadata": {},
   "outputs": [
    {
     "data": {
      "text/plain": [
       "59"
      ]
     },
     "execution_count": 43,
     "metadata": {},
     "output_type": "execute_result"
    }
   ],
   "source": [
    "len(new_features_set)"
   ]
  },
  {
   "cell_type": "markdown",
   "id": "b0d1a3dc-44ee-4810-8f7f-ec9a35fa2b2e",
   "metadata": {},
   "source": [
    "# Find best number of features"
   ]
  },
  {
   "cell_type": "code",
   "execution_count": 45,
   "id": "97e0b794-d9a6-405d-9c42-a14773914a9a",
   "metadata": {},
   "outputs": [],
   "source": [
    "nb_features = range(10, 300)\n",
    "res = {}\n",
    "for nb_feat in nb_features:\n",
    "    features_name = [x[0] for x in c.most_common()[:nb_feat]]\n",
    "    X_light = X.loc[:, features_name]\n",
    "    lr = LogisticRegression(class_weight='balanced')\n",
    "    cv_score = cross_val_score(lr, X_light, y, cv=5)\n",
    "    res[nb_feat] = np.mean(cv_score)"
   ]
  },
  {
   "cell_type": "code",
   "execution_count": 46,
   "id": "d4caba8a-9201-405d-b3a5-716ed962a6c8",
   "metadata": {},
   "outputs": [],
   "source": [
    "res_df = pd.DataFrame({'nb_feat': list(res.keys()), 'score': list(res.values())})"
   ]
  },
  {
   "cell_type": "code",
   "execution_count": 47,
   "id": "c478ec6e-e98a-4853-a759-a21dbc3c2eff",
   "metadata": {},
   "outputs": [
    {
     "data": {
      "text/html": [
       "<div>\n",
       "<style scoped>\n",
       "    .dataframe tbody tr th:only-of-type {\n",
       "        vertical-align: middle;\n",
       "    }\n",
       "\n",
       "    .dataframe tbody tr th {\n",
       "        vertical-align: top;\n",
       "    }\n",
       "\n",
       "    .dataframe thead th {\n",
       "        text-align: right;\n",
       "    }\n",
       "</style>\n",
       "<table border=\"1\" class=\"dataframe\">\n",
       "  <thead>\n",
       "    <tr style=\"text-align: right;\">\n",
       "      <th></th>\n",
       "      <th>nb_feat</th>\n",
       "      <th>score</th>\n",
       "    </tr>\n",
       "  </thead>\n",
       "  <tbody>\n",
       "    <tr>\n",
       "      <th>213</th>\n",
       "      <td>223</td>\n",
       "      <td>0.850345</td>\n",
       "    </tr>\n",
       "    <tr>\n",
       "      <th>222</th>\n",
       "      <td>232</td>\n",
       "      <td>0.850345</td>\n",
       "    </tr>\n",
       "    <tr>\n",
       "      <th>221</th>\n",
       "      <td>231</td>\n",
       "      <td>0.850345</td>\n",
       "    </tr>\n",
       "    <tr>\n",
       "      <th>223</th>\n",
       "      <td>233</td>\n",
       "      <td>0.850345</td>\n",
       "    </tr>\n",
       "    <tr>\n",
       "      <th>207</th>\n",
       "      <td>217</td>\n",
       "      <td>0.850345</td>\n",
       "    </tr>\n",
       "    <tr>\n",
       "      <th>...</th>\n",
       "      <td>...</td>\n",
       "      <td>...</td>\n",
       "    </tr>\n",
       "    <tr>\n",
       "      <th>7</th>\n",
       "      <td>17</td>\n",
       "      <td>0.735632</td>\n",
       "    </tr>\n",
       "    <tr>\n",
       "      <th>12</th>\n",
       "      <td>22</td>\n",
       "      <td>0.735402</td>\n",
       "    </tr>\n",
       "    <tr>\n",
       "      <th>13</th>\n",
       "      <td>23</td>\n",
       "      <td>0.735402</td>\n",
       "    </tr>\n",
       "    <tr>\n",
       "      <th>9</th>\n",
       "      <td>19</td>\n",
       "      <td>0.735402</td>\n",
       "    </tr>\n",
       "    <tr>\n",
       "      <th>4</th>\n",
       "      <td>14</td>\n",
       "      <td>0.735172</td>\n",
       "    </tr>\n",
       "  </tbody>\n",
       "</table>\n",
       "<p>290 rows × 2 columns</p>\n",
       "</div>"
      ],
      "text/plain": [
       "     nb_feat     score\n",
       "213      223  0.850345\n",
       "222      232  0.850345\n",
       "221      231  0.850345\n",
       "223      233  0.850345\n",
       "207      217  0.850345\n",
       "..       ...       ...\n",
       "7         17  0.735632\n",
       "12        22  0.735402\n",
       "13        23  0.735402\n",
       "9         19  0.735402\n",
       "4         14  0.735172\n",
       "\n",
       "[290 rows x 2 columns]"
      ]
     },
     "execution_count": 47,
     "metadata": {},
     "output_type": "execute_result"
    }
   ],
   "source": [
    "res_df.sort_values('score', ascending=False)"
   ]
  },
  {
   "cell_type": "code",
   "execution_count": 146,
   "id": "fbb63033-8f79-4830-b302-4fda90350d8b",
   "metadata": {},
   "outputs": [],
   "source": [
    "# For files from 1 to 13\n",
    "\n",
    "# Best results : 140 features, n_cv=5000\n",
    "# Best results : 67 features, n_cv=500, score=0.843908\n",
    "# Best results : 266 features, n_cv=1000, score=0.851034\n",
    "# Best results : 92 features, n_cv=750, score=0.864368"
   ]
  },
  {
   "cell_type": "markdown",
   "id": "15865910-e81e-4733-9ca5-b721058cf4b8",
   "metadata": {},
   "source": [
    "## Test pycaret"
   ]
  },
  {
   "cell_type": "code",
   "execution_count": 30,
   "id": "033e72eb-1d55-46fd-bb1a-f9d3cae92ec7",
   "metadata": {},
   "outputs": [],
   "source": [
    "X_light['label'] = y"
   ]
  },
  {
   "cell_type": "code",
   "execution_count": 31,
   "id": "d8b9cae6-544e-4dd5-83d5-98206cc3b241",
   "metadata": {
    "collapsed": true,
    "jupyter": {
     "outputs_hidden": true
    },
    "tags": []
   },
   "outputs": [
    {
     "data": {
      "text/html": [
       "<style type=\"text/css\">\n",
       "#T_9a7f9_row44_col1 {\n",
       "  background-color: lightgreen;\n",
       "}\n",
       "</style>\n",
       "<table id=\"T_9a7f9\">\n",
       "  <thead>\n",
       "    <tr>\n",
       "      <th class=\"blank level0\" >&nbsp;</th>\n",
       "      <th id=\"T_9a7f9_level0_col0\" class=\"col_heading level0 col0\" >Description</th>\n",
       "      <th id=\"T_9a7f9_level0_col1\" class=\"col_heading level0 col1\" >Value</th>\n",
       "    </tr>\n",
       "  </thead>\n",
       "  <tbody>\n",
       "    <tr>\n",
       "      <th id=\"T_9a7f9_level0_row0\" class=\"row_heading level0 row0\" >0</th>\n",
       "      <td id=\"T_9a7f9_row0_col0\" class=\"data row0 col0\" >session_id</td>\n",
       "      <td id=\"T_9a7f9_row0_col1\" class=\"data row0 col1\" >123</td>\n",
       "    </tr>\n",
       "    <tr>\n",
       "      <th id=\"T_9a7f9_level0_row1\" class=\"row_heading level0 row1\" >1</th>\n",
       "      <td id=\"T_9a7f9_row1_col0\" class=\"data row1 col0\" >Target</td>\n",
       "      <td id=\"T_9a7f9_row1_col1\" class=\"data row1 col1\" >label</td>\n",
       "    </tr>\n",
       "    <tr>\n",
       "      <th id=\"T_9a7f9_level0_row2\" class=\"row_heading level0 row2\" >2</th>\n",
       "      <td id=\"T_9a7f9_row2_col0\" class=\"data row2 col0\" >Target Type</td>\n",
       "      <td id=\"T_9a7f9_row2_col1\" class=\"data row2 col1\" >Binary</td>\n",
       "    </tr>\n",
       "    <tr>\n",
       "      <th id=\"T_9a7f9_level0_row3\" class=\"row_heading level0 row3\" >3</th>\n",
       "      <td id=\"T_9a7f9_row3_col0\" class=\"data row3 col0\" >Label Encoded</td>\n",
       "      <td id=\"T_9a7f9_row3_col1\" class=\"data row3 col1\" >None</td>\n",
       "    </tr>\n",
       "    <tr>\n",
       "      <th id=\"T_9a7f9_level0_row4\" class=\"row_heading level0 row4\" >4</th>\n",
       "      <td id=\"T_9a7f9_row4_col0\" class=\"data row4 col0\" >Original Data</td>\n",
       "      <td id=\"T_9a7f9_row4_col1\" class=\"data row4 col1\" >(147, 68)</td>\n",
       "    </tr>\n",
       "    <tr>\n",
       "      <th id=\"T_9a7f9_level0_row5\" class=\"row_heading level0 row5\" >5</th>\n",
       "      <td id=\"T_9a7f9_row5_col0\" class=\"data row5 col0\" >Missing Values</td>\n",
       "      <td id=\"T_9a7f9_row5_col1\" class=\"data row5 col1\" >0</td>\n",
       "    </tr>\n",
       "    <tr>\n",
       "      <th id=\"T_9a7f9_level0_row6\" class=\"row_heading level0 row6\" >6</th>\n",
       "      <td id=\"T_9a7f9_row6_col0\" class=\"data row6 col0\" >Numeric Features</td>\n",
       "      <td id=\"T_9a7f9_row6_col1\" class=\"data row6 col1\" >67</td>\n",
       "    </tr>\n",
       "    <tr>\n",
       "      <th id=\"T_9a7f9_level0_row7\" class=\"row_heading level0 row7\" >7</th>\n",
       "      <td id=\"T_9a7f9_row7_col0\" class=\"data row7 col0\" >Categorical Features</td>\n",
       "      <td id=\"T_9a7f9_row7_col1\" class=\"data row7 col1\" >0</td>\n",
       "    </tr>\n",
       "    <tr>\n",
       "      <th id=\"T_9a7f9_level0_row8\" class=\"row_heading level0 row8\" >8</th>\n",
       "      <td id=\"T_9a7f9_row8_col0\" class=\"data row8 col0\" >Ordinal Features</td>\n",
       "      <td id=\"T_9a7f9_row8_col1\" class=\"data row8 col1\" >0</td>\n",
       "    </tr>\n",
       "    <tr>\n",
       "      <th id=\"T_9a7f9_level0_row9\" class=\"row_heading level0 row9\" >9</th>\n",
       "      <td id=\"T_9a7f9_row9_col0\" class=\"data row9 col0\" >High Cardinality Features</td>\n",
       "      <td id=\"T_9a7f9_row9_col1\" class=\"data row9 col1\" >0</td>\n",
       "    </tr>\n",
       "    <tr>\n",
       "      <th id=\"T_9a7f9_level0_row10\" class=\"row_heading level0 row10\" >10</th>\n",
       "      <td id=\"T_9a7f9_row10_col0\" class=\"data row10 col0\" >High Cardinality Method</td>\n",
       "      <td id=\"T_9a7f9_row10_col1\" class=\"data row10 col1\" >None</td>\n",
       "    </tr>\n",
       "    <tr>\n",
       "      <th id=\"T_9a7f9_level0_row11\" class=\"row_heading level0 row11\" >11</th>\n",
       "      <td id=\"T_9a7f9_row11_col0\" class=\"data row11 col0\" >Transformed Train Set</td>\n",
       "      <td id=\"T_9a7f9_row11_col1\" class=\"data row11 col1\" >(102, 67)</td>\n",
       "    </tr>\n",
       "    <tr>\n",
       "      <th id=\"T_9a7f9_level0_row12\" class=\"row_heading level0 row12\" >12</th>\n",
       "      <td id=\"T_9a7f9_row12_col0\" class=\"data row12 col0\" >Transformed Test Set</td>\n",
       "      <td id=\"T_9a7f9_row12_col1\" class=\"data row12 col1\" >(45, 67)</td>\n",
       "    </tr>\n",
       "    <tr>\n",
       "      <th id=\"T_9a7f9_level0_row13\" class=\"row_heading level0 row13\" >13</th>\n",
       "      <td id=\"T_9a7f9_row13_col0\" class=\"data row13 col0\" >Shuffle Train-Test</td>\n",
       "      <td id=\"T_9a7f9_row13_col1\" class=\"data row13 col1\" >True</td>\n",
       "    </tr>\n",
       "    <tr>\n",
       "      <th id=\"T_9a7f9_level0_row14\" class=\"row_heading level0 row14\" >14</th>\n",
       "      <td id=\"T_9a7f9_row14_col0\" class=\"data row14 col0\" >Stratify Train-Test</td>\n",
       "      <td id=\"T_9a7f9_row14_col1\" class=\"data row14 col1\" >False</td>\n",
       "    </tr>\n",
       "    <tr>\n",
       "      <th id=\"T_9a7f9_level0_row15\" class=\"row_heading level0 row15\" >15</th>\n",
       "      <td id=\"T_9a7f9_row15_col0\" class=\"data row15 col0\" >Fold Generator</td>\n",
       "      <td id=\"T_9a7f9_row15_col1\" class=\"data row15 col1\" >StratifiedKFold</td>\n",
       "    </tr>\n",
       "    <tr>\n",
       "      <th id=\"T_9a7f9_level0_row16\" class=\"row_heading level0 row16\" >16</th>\n",
       "      <td id=\"T_9a7f9_row16_col0\" class=\"data row16 col0\" >Fold Number</td>\n",
       "      <td id=\"T_9a7f9_row16_col1\" class=\"data row16 col1\" >10</td>\n",
       "    </tr>\n",
       "    <tr>\n",
       "      <th id=\"T_9a7f9_level0_row17\" class=\"row_heading level0 row17\" >17</th>\n",
       "      <td id=\"T_9a7f9_row17_col0\" class=\"data row17 col0\" >CPU Jobs</td>\n",
       "      <td id=\"T_9a7f9_row17_col1\" class=\"data row17 col1\" >-1</td>\n",
       "    </tr>\n",
       "    <tr>\n",
       "      <th id=\"T_9a7f9_level0_row18\" class=\"row_heading level0 row18\" >18</th>\n",
       "      <td id=\"T_9a7f9_row18_col0\" class=\"data row18 col0\" >Use GPU</td>\n",
       "      <td id=\"T_9a7f9_row18_col1\" class=\"data row18 col1\" >0</td>\n",
       "    </tr>\n",
       "    <tr>\n",
       "      <th id=\"T_9a7f9_level0_row19\" class=\"row_heading level0 row19\" >19</th>\n",
       "      <td id=\"T_9a7f9_row19_col0\" class=\"data row19 col0\" >Log Experiment</td>\n",
       "      <td id=\"T_9a7f9_row19_col1\" class=\"data row19 col1\" >0</td>\n",
       "    </tr>\n",
       "    <tr>\n",
       "      <th id=\"T_9a7f9_level0_row20\" class=\"row_heading level0 row20\" >20</th>\n",
       "      <td id=\"T_9a7f9_row20_col0\" class=\"data row20 col0\" >Experiment Name</td>\n",
       "      <td id=\"T_9a7f9_row20_col1\" class=\"data row20 col1\" >clf-default-name</td>\n",
       "    </tr>\n",
       "    <tr>\n",
       "      <th id=\"T_9a7f9_level0_row21\" class=\"row_heading level0 row21\" >21</th>\n",
       "      <td id=\"T_9a7f9_row21_col0\" class=\"data row21 col0\" >USI</td>\n",
       "      <td id=\"T_9a7f9_row21_col1\" class=\"data row21 col1\" >287f</td>\n",
       "    </tr>\n",
       "    <tr>\n",
       "      <th id=\"T_9a7f9_level0_row22\" class=\"row_heading level0 row22\" >22</th>\n",
       "      <td id=\"T_9a7f9_row22_col0\" class=\"data row22 col0\" >Imputation Type</td>\n",
       "      <td id=\"T_9a7f9_row22_col1\" class=\"data row22 col1\" >simple</td>\n",
       "    </tr>\n",
       "    <tr>\n",
       "      <th id=\"T_9a7f9_level0_row23\" class=\"row_heading level0 row23\" >23</th>\n",
       "      <td id=\"T_9a7f9_row23_col0\" class=\"data row23 col0\" >Iterative Imputation Iteration</td>\n",
       "      <td id=\"T_9a7f9_row23_col1\" class=\"data row23 col1\" >None</td>\n",
       "    </tr>\n",
       "    <tr>\n",
       "      <th id=\"T_9a7f9_level0_row24\" class=\"row_heading level0 row24\" >24</th>\n",
       "      <td id=\"T_9a7f9_row24_col0\" class=\"data row24 col0\" >Numeric Imputer</td>\n",
       "      <td id=\"T_9a7f9_row24_col1\" class=\"data row24 col1\" >mean</td>\n",
       "    </tr>\n",
       "    <tr>\n",
       "      <th id=\"T_9a7f9_level0_row25\" class=\"row_heading level0 row25\" >25</th>\n",
       "      <td id=\"T_9a7f9_row25_col0\" class=\"data row25 col0\" >Iterative Imputation Numeric Model</td>\n",
       "      <td id=\"T_9a7f9_row25_col1\" class=\"data row25 col1\" >None</td>\n",
       "    </tr>\n",
       "    <tr>\n",
       "      <th id=\"T_9a7f9_level0_row26\" class=\"row_heading level0 row26\" >26</th>\n",
       "      <td id=\"T_9a7f9_row26_col0\" class=\"data row26 col0\" >Categorical Imputer</td>\n",
       "      <td id=\"T_9a7f9_row26_col1\" class=\"data row26 col1\" >constant</td>\n",
       "    </tr>\n",
       "    <tr>\n",
       "      <th id=\"T_9a7f9_level0_row27\" class=\"row_heading level0 row27\" >27</th>\n",
       "      <td id=\"T_9a7f9_row27_col0\" class=\"data row27 col0\" >Iterative Imputation Categorical Model</td>\n",
       "      <td id=\"T_9a7f9_row27_col1\" class=\"data row27 col1\" >None</td>\n",
       "    </tr>\n",
       "    <tr>\n",
       "      <th id=\"T_9a7f9_level0_row28\" class=\"row_heading level0 row28\" >28</th>\n",
       "      <td id=\"T_9a7f9_row28_col0\" class=\"data row28 col0\" >Unknown Categoricals Handling</td>\n",
       "      <td id=\"T_9a7f9_row28_col1\" class=\"data row28 col1\" >least_frequent</td>\n",
       "    </tr>\n",
       "    <tr>\n",
       "      <th id=\"T_9a7f9_level0_row29\" class=\"row_heading level0 row29\" >29</th>\n",
       "      <td id=\"T_9a7f9_row29_col0\" class=\"data row29 col0\" >Normalize</td>\n",
       "      <td id=\"T_9a7f9_row29_col1\" class=\"data row29 col1\" >0</td>\n",
       "    </tr>\n",
       "    <tr>\n",
       "      <th id=\"T_9a7f9_level0_row30\" class=\"row_heading level0 row30\" >30</th>\n",
       "      <td id=\"T_9a7f9_row30_col0\" class=\"data row30 col0\" >Normalize Method</td>\n",
       "      <td id=\"T_9a7f9_row30_col1\" class=\"data row30 col1\" >None</td>\n",
       "    </tr>\n",
       "    <tr>\n",
       "      <th id=\"T_9a7f9_level0_row31\" class=\"row_heading level0 row31\" >31</th>\n",
       "      <td id=\"T_9a7f9_row31_col0\" class=\"data row31 col0\" >Transformation</td>\n",
       "      <td id=\"T_9a7f9_row31_col1\" class=\"data row31 col1\" >0</td>\n",
       "    </tr>\n",
       "    <tr>\n",
       "      <th id=\"T_9a7f9_level0_row32\" class=\"row_heading level0 row32\" >32</th>\n",
       "      <td id=\"T_9a7f9_row32_col0\" class=\"data row32 col0\" >Transformation Method</td>\n",
       "      <td id=\"T_9a7f9_row32_col1\" class=\"data row32 col1\" >None</td>\n",
       "    </tr>\n",
       "    <tr>\n",
       "      <th id=\"T_9a7f9_level0_row33\" class=\"row_heading level0 row33\" >33</th>\n",
       "      <td id=\"T_9a7f9_row33_col0\" class=\"data row33 col0\" >PCA</td>\n",
       "      <td id=\"T_9a7f9_row33_col1\" class=\"data row33 col1\" >0</td>\n",
       "    </tr>\n",
       "    <tr>\n",
       "      <th id=\"T_9a7f9_level0_row34\" class=\"row_heading level0 row34\" >34</th>\n",
       "      <td id=\"T_9a7f9_row34_col0\" class=\"data row34 col0\" >PCA Method</td>\n",
       "      <td id=\"T_9a7f9_row34_col1\" class=\"data row34 col1\" >None</td>\n",
       "    </tr>\n",
       "    <tr>\n",
       "      <th id=\"T_9a7f9_level0_row35\" class=\"row_heading level0 row35\" >35</th>\n",
       "      <td id=\"T_9a7f9_row35_col0\" class=\"data row35 col0\" >PCA Components</td>\n",
       "      <td id=\"T_9a7f9_row35_col1\" class=\"data row35 col1\" >None</td>\n",
       "    </tr>\n",
       "    <tr>\n",
       "      <th id=\"T_9a7f9_level0_row36\" class=\"row_heading level0 row36\" >36</th>\n",
       "      <td id=\"T_9a7f9_row36_col0\" class=\"data row36 col0\" >Ignore Low Variance</td>\n",
       "      <td id=\"T_9a7f9_row36_col1\" class=\"data row36 col1\" >0</td>\n",
       "    </tr>\n",
       "    <tr>\n",
       "      <th id=\"T_9a7f9_level0_row37\" class=\"row_heading level0 row37\" >37</th>\n",
       "      <td id=\"T_9a7f9_row37_col0\" class=\"data row37 col0\" >Combine Rare Levels</td>\n",
       "      <td id=\"T_9a7f9_row37_col1\" class=\"data row37 col1\" >0</td>\n",
       "    </tr>\n",
       "    <tr>\n",
       "      <th id=\"T_9a7f9_level0_row38\" class=\"row_heading level0 row38\" >38</th>\n",
       "      <td id=\"T_9a7f9_row38_col0\" class=\"data row38 col0\" >Rare Level Threshold</td>\n",
       "      <td id=\"T_9a7f9_row38_col1\" class=\"data row38 col1\" >None</td>\n",
       "    </tr>\n",
       "    <tr>\n",
       "      <th id=\"T_9a7f9_level0_row39\" class=\"row_heading level0 row39\" >39</th>\n",
       "      <td id=\"T_9a7f9_row39_col0\" class=\"data row39 col0\" >Numeric Binning</td>\n",
       "      <td id=\"T_9a7f9_row39_col1\" class=\"data row39 col1\" >0</td>\n",
       "    </tr>\n",
       "    <tr>\n",
       "      <th id=\"T_9a7f9_level0_row40\" class=\"row_heading level0 row40\" >40</th>\n",
       "      <td id=\"T_9a7f9_row40_col0\" class=\"data row40 col0\" >Remove Outliers</td>\n",
       "      <td id=\"T_9a7f9_row40_col1\" class=\"data row40 col1\" >0</td>\n",
       "    </tr>\n",
       "    <tr>\n",
       "      <th id=\"T_9a7f9_level0_row41\" class=\"row_heading level0 row41\" >41</th>\n",
       "      <td id=\"T_9a7f9_row41_col0\" class=\"data row41 col0\" >Outliers Threshold</td>\n",
       "      <td id=\"T_9a7f9_row41_col1\" class=\"data row41 col1\" >None</td>\n",
       "    </tr>\n",
       "    <tr>\n",
       "      <th id=\"T_9a7f9_level0_row42\" class=\"row_heading level0 row42\" >42</th>\n",
       "      <td id=\"T_9a7f9_row42_col0\" class=\"data row42 col0\" >Remove Multicollinearity</td>\n",
       "      <td id=\"T_9a7f9_row42_col1\" class=\"data row42 col1\" >0</td>\n",
       "    </tr>\n",
       "    <tr>\n",
       "      <th id=\"T_9a7f9_level0_row43\" class=\"row_heading level0 row43\" >43</th>\n",
       "      <td id=\"T_9a7f9_row43_col0\" class=\"data row43 col0\" >Multicollinearity Threshold</td>\n",
       "      <td id=\"T_9a7f9_row43_col1\" class=\"data row43 col1\" >None</td>\n",
       "    </tr>\n",
       "    <tr>\n",
       "      <th id=\"T_9a7f9_level0_row44\" class=\"row_heading level0 row44\" >44</th>\n",
       "      <td id=\"T_9a7f9_row44_col0\" class=\"data row44 col0\" >Remove Perfect Collinearity</td>\n",
       "      <td id=\"T_9a7f9_row44_col1\" class=\"data row44 col1\" >1</td>\n",
       "    </tr>\n",
       "    <tr>\n",
       "      <th id=\"T_9a7f9_level0_row45\" class=\"row_heading level0 row45\" >45</th>\n",
       "      <td id=\"T_9a7f9_row45_col0\" class=\"data row45 col0\" >Clustering</td>\n",
       "      <td id=\"T_9a7f9_row45_col1\" class=\"data row45 col1\" >0</td>\n",
       "    </tr>\n",
       "    <tr>\n",
       "      <th id=\"T_9a7f9_level0_row46\" class=\"row_heading level0 row46\" >46</th>\n",
       "      <td id=\"T_9a7f9_row46_col0\" class=\"data row46 col0\" >Clustering Iteration</td>\n",
       "      <td id=\"T_9a7f9_row46_col1\" class=\"data row46 col1\" >None</td>\n",
       "    </tr>\n",
       "    <tr>\n",
       "      <th id=\"T_9a7f9_level0_row47\" class=\"row_heading level0 row47\" >47</th>\n",
       "      <td id=\"T_9a7f9_row47_col0\" class=\"data row47 col0\" >Polynomial Features</td>\n",
       "      <td id=\"T_9a7f9_row47_col1\" class=\"data row47 col1\" >0</td>\n",
       "    </tr>\n",
       "    <tr>\n",
       "      <th id=\"T_9a7f9_level0_row48\" class=\"row_heading level0 row48\" >48</th>\n",
       "      <td id=\"T_9a7f9_row48_col0\" class=\"data row48 col0\" >Polynomial Degree</td>\n",
       "      <td id=\"T_9a7f9_row48_col1\" class=\"data row48 col1\" >None</td>\n",
       "    </tr>\n",
       "    <tr>\n",
       "      <th id=\"T_9a7f9_level0_row49\" class=\"row_heading level0 row49\" >49</th>\n",
       "      <td id=\"T_9a7f9_row49_col0\" class=\"data row49 col0\" >Trignometry Features</td>\n",
       "      <td id=\"T_9a7f9_row49_col1\" class=\"data row49 col1\" >0</td>\n",
       "    </tr>\n",
       "    <tr>\n",
       "      <th id=\"T_9a7f9_level0_row50\" class=\"row_heading level0 row50\" >50</th>\n",
       "      <td id=\"T_9a7f9_row50_col0\" class=\"data row50 col0\" >Polynomial Threshold</td>\n",
       "      <td id=\"T_9a7f9_row50_col1\" class=\"data row50 col1\" >None</td>\n",
       "    </tr>\n",
       "    <tr>\n",
       "      <th id=\"T_9a7f9_level0_row51\" class=\"row_heading level0 row51\" >51</th>\n",
       "      <td id=\"T_9a7f9_row51_col0\" class=\"data row51 col0\" >Group Features</td>\n",
       "      <td id=\"T_9a7f9_row51_col1\" class=\"data row51 col1\" >0</td>\n",
       "    </tr>\n",
       "    <tr>\n",
       "      <th id=\"T_9a7f9_level0_row52\" class=\"row_heading level0 row52\" >52</th>\n",
       "      <td id=\"T_9a7f9_row52_col0\" class=\"data row52 col0\" >Feature Selection</td>\n",
       "      <td id=\"T_9a7f9_row52_col1\" class=\"data row52 col1\" >0</td>\n",
       "    </tr>\n",
       "    <tr>\n",
       "      <th id=\"T_9a7f9_level0_row53\" class=\"row_heading level0 row53\" >53</th>\n",
       "      <td id=\"T_9a7f9_row53_col0\" class=\"data row53 col0\" >Feature Selection Method</td>\n",
       "      <td id=\"T_9a7f9_row53_col1\" class=\"data row53 col1\" >classic</td>\n",
       "    </tr>\n",
       "    <tr>\n",
       "      <th id=\"T_9a7f9_level0_row54\" class=\"row_heading level0 row54\" >54</th>\n",
       "      <td id=\"T_9a7f9_row54_col0\" class=\"data row54 col0\" >Features Selection Threshold</td>\n",
       "      <td id=\"T_9a7f9_row54_col1\" class=\"data row54 col1\" >None</td>\n",
       "    </tr>\n",
       "    <tr>\n",
       "      <th id=\"T_9a7f9_level0_row55\" class=\"row_heading level0 row55\" >55</th>\n",
       "      <td id=\"T_9a7f9_row55_col0\" class=\"data row55 col0\" >Feature Interaction</td>\n",
       "      <td id=\"T_9a7f9_row55_col1\" class=\"data row55 col1\" >0</td>\n",
       "    </tr>\n",
       "    <tr>\n",
       "      <th id=\"T_9a7f9_level0_row56\" class=\"row_heading level0 row56\" >56</th>\n",
       "      <td id=\"T_9a7f9_row56_col0\" class=\"data row56 col0\" >Feature Ratio</td>\n",
       "      <td id=\"T_9a7f9_row56_col1\" class=\"data row56 col1\" >0</td>\n",
       "    </tr>\n",
       "    <tr>\n",
       "      <th id=\"T_9a7f9_level0_row57\" class=\"row_heading level0 row57\" >57</th>\n",
       "      <td id=\"T_9a7f9_row57_col0\" class=\"data row57 col0\" >Interaction Threshold</td>\n",
       "      <td id=\"T_9a7f9_row57_col1\" class=\"data row57 col1\" >None</td>\n",
       "    </tr>\n",
       "    <tr>\n",
       "      <th id=\"T_9a7f9_level0_row58\" class=\"row_heading level0 row58\" >58</th>\n",
       "      <td id=\"T_9a7f9_row58_col0\" class=\"data row58 col0\" >Fix Imbalance</td>\n",
       "      <td id=\"T_9a7f9_row58_col1\" class=\"data row58 col1\" >0</td>\n",
       "    </tr>\n",
       "    <tr>\n",
       "      <th id=\"T_9a7f9_level0_row59\" class=\"row_heading level0 row59\" >59</th>\n",
       "      <td id=\"T_9a7f9_row59_col0\" class=\"data row59 col0\" >Fix Imbalance Method</td>\n",
       "      <td id=\"T_9a7f9_row59_col1\" class=\"data row59 col1\" >SMOTE</td>\n",
       "    </tr>\n",
       "  </tbody>\n",
       "</table>\n"
      ],
      "text/plain": [
       "<pandas.io.formats.style.Styler at 0x7f1aa4230550>"
      ]
     },
     "metadata": {},
     "output_type": "display_data"
    }
   ],
   "source": [
    "from pycaret.classification import *\n",
    "exp_clf101 = setup(data = X_light, target = 'label', session_id=123) "
   ]
  },
  {
   "cell_type": "code",
   "execution_count": 22,
   "id": "3d1ebf27-341e-459a-89b4-a8475160aa13",
   "metadata": {},
   "outputs": [
    {
     "data": {
      "text/html": [
       "<style type=\"text/css\">\n",
       "#T_6a153 th {\n",
       "  text-align: left;\n",
       "}\n",
       "#T_6a153_row0_col0, #T_6a153_row0_col2, #T_6a153_row0_col3, #T_6a153_row0_col5, #T_6a153_row1_col0, #T_6a153_row1_col1, #T_6a153_row1_col3, #T_6a153_row1_col5, #T_6a153_row1_col6, #T_6a153_row1_col7, #T_6a153_row2_col0, #T_6a153_row2_col1, #T_6a153_row2_col2, #T_6a153_row2_col3, #T_6a153_row2_col4, #T_6a153_row2_col5, #T_6a153_row2_col6, #T_6a153_row2_col7, #T_6a153_row3_col0, #T_6a153_row3_col1, #T_6a153_row3_col2, #T_6a153_row3_col4, #T_6a153_row3_col6, #T_6a153_row3_col7, #T_6a153_row4_col0, #T_6a153_row4_col1, #T_6a153_row4_col2, #T_6a153_row4_col3, #T_6a153_row4_col4, #T_6a153_row4_col5, #T_6a153_row4_col6, #T_6a153_row4_col7, #T_6a153_row5_col0, #T_6a153_row5_col1, #T_6a153_row5_col2, #T_6a153_row5_col3, #T_6a153_row5_col4, #T_6a153_row5_col5, #T_6a153_row5_col6, #T_6a153_row5_col7, #T_6a153_row6_col0, #T_6a153_row6_col1, #T_6a153_row6_col2, #T_6a153_row6_col3, #T_6a153_row6_col4, #T_6a153_row6_col5, #T_6a153_row6_col6, #T_6a153_row6_col7, #T_6a153_row7_col0, #T_6a153_row7_col1, #T_6a153_row7_col2, #T_6a153_row7_col3, #T_6a153_row7_col4, #T_6a153_row7_col5, #T_6a153_row7_col6, #T_6a153_row7_col7, #T_6a153_row8_col0, #T_6a153_row8_col1, #T_6a153_row8_col2, #T_6a153_row8_col3, #T_6a153_row8_col4, #T_6a153_row8_col5, #T_6a153_row8_col6, #T_6a153_row8_col7, #T_6a153_row9_col0, #T_6a153_row9_col1, #T_6a153_row9_col2, #T_6a153_row9_col3, #T_6a153_row9_col4, #T_6a153_row9_col5, #T_6a153_row9_col6, #T_6a153_row9_col7, #T_6a153_row10_col0, #T_6a153_row10_col1, #T_6a153_row10_col2, #T_6a153_row10_col3, #T_6a153_row10_col4, #T_6a153_row10_col5, #T_6a153_row10_col6, #T_6a153_row10_col7, #T_6a153_row11_col0, #T_6a153_row11_col1, #T_6a153_row11_col2, #T_6a153_row11_col3, #T_6a153_row11_col4, #T_6a153_row11_col5, #T_6a153_row11_col6, #T_6a153_row11_col7, #T_6a153_row12_col0, #T_6a153_row12_col1, #T_6a153_row12_col2, #T_6a153_row12_col3, #T_6a153_row12_col4, #T_6a153_row12_col5, #T_6a153_row12_col6, #T_6a153_row12_col7, #T_6a153_row13_col0, #T_6a153_row13_col1, #T_6a153_row13_col2, #T_6a153_row13_col3, #T_6a153_row13_col4, #T_6a153_row13_col5, #T_6a153_row13_col6, #T_6a153_row13_col7 {\n",
       "  text-align: left;\n",
       "}\n",
       "#T_6a153_row0_col1, #T_6a153_row0_col4, #T_6a153_row0_col6, #T_6a153_row0_col7, #T_6a153_row1_col2, #T_6a153_row1_col4, #T_6a153_row3_col3, #T_6a153_row3_col5 {\n",
       "  text-align: left;\n",
       "  background-color: yellow;\n",
       "}\n",
       "#T_6a153_row0_col8, #T_6a153_row1_col8, #T_6a153_row2_col8, #T_6a153_row3_col8, #T_6a153_row4_col8, #T_6a153_row5_col8, #T_6a153_row6_col8, #T_6a153_row7_col8, #T_6a153_row8_col8, #T_6a153_row9_col8, #T_6a153_row11_col8, #T_6a153_row12_col8, #T_6a153_row13_col8 {\n",
       "  text-align: left;\n",
       "  background-color: lightgrey;\n",
       "}\n",
       "#T_6a153_row10_col8 {\n",
       "  text-align: left;\n",
       "  background-color: yellow;\n",
       "  background-color: lightgrey;\n",
       "}\n",
       "</style>\n",
       "<table id=\"T_6a153\">\n",
       "  <thead>\n",
       "    <tr>\n",
       "      <th class=\"blank level0\" >&nbsp;</th>\n",
       "      <th id=\"T_6a153_level0_col0\" class=\"col_heading level0 col0\" >Model</th>\n",
       "      <th id=\"T_6a153_level0_col1\" class=\"col_heading level0 col1\" >Accuracy</th>\n",
       "      <th id=\"T_6a153_level0_col2\" class=\"col_heading level0 col2\" >AUC</th>\n",
       "      <th id=\"T_6a153_level0_col3\" class=\"col_heading level0 col3\" >Recall</th>\n",
       "      <th id=\"T_6a153_level0_col4\" class=\"col_heading level0 col4\" >Prec.</th>\n",
       "      <th id=\"T_6a153_level0_col5\" class=\"col_heading level0 col5\" >F1</th>\n",
       "      <th id=\"T_6a153_level0_col6\" class=\"col_heading level0 col6\" >Kappa</th>\n",
       "      <th id=\"T_6a153_level0_col7\" class=\"col_heading level0 col7\" >MCC</th>\n",
       "      <th id=\"T_6a153_level0_col8\" class=\"col_heading level0 col8\" >TT (Sec)</th>\n",
       "    </tr>\n",
       "  </thead>\n",
       "  <tbody>\n",
       "    <tr>\n",
       "      <th id=\"T_6a153_level0_row0\" class=\"row_heading level0 row0\" >ridge</th>\n",
       "      <td id=\"T_6a153_row0_col0\" class=\"data row0 col0\" >Ridge Classifier</td>\n",
       "      <td id=\"T_6a153_row0_col1\" class=\"data row0 col1\" >0.8145</td>\n",
       "      <td id=\"T_6a153_row0_col2\" class=\"data row0 col2\" >0.0000</td>\n",
       "      <td id=\"T_6a153_row0_col3\" class=\"data row0 col3\" >0.5650</td>\n",
       "      <td id=\"T_6a153_row0_col4\" class=\"data row0 col4\" >0.9667</td>\n",
       "      <td id=\"T_6a153_row0_col5\" class=\"data row0 col5\" >0.6876</td>\n",
       "      <td id=\"T_6a153_row0_col6\" class=\"data row0 col6\" >0.5796</td>\n",
       "      <td id=\"T_6a153_row0_col7\" class=\"data row0 col7\" >0.6354</td>\n",
       "      <td id=\"T_6a153_row0_col8\" class=\"data row0 col8\" >0.0030</td>\n",
       "    </tr>\n",
       "    <tr>\n",
       "      <th id=\"T_6a153_level0_row1\" class=\"row_heading level0 row1\" >lr</th>\n",
       "      <td id=\"T_6a153_row1_col0\" class=\"data row1 col0\" >Logistic Regression</td>\n",
       "      <td id=\"T_6a153_row1_col1\" class=\"data row1 col1\" >0.7855</td>\n",
       "      <td id=\"T_6a153_row1_col2\" class=\"data row1 col2\" >0.9155</td>\n",
       "      <td id=\"T_6a153_row1_col3\" class=\"data row1 col3\" >0.4950</td>\n",
       "      <td id=\"T_6a153_row1_col4\" class=\"data row1 col4\" >0.9667</td>\n",
       "      <td id=\"T_6a153_row1_col5\" class=\"data row1 col5\" >0.6352</td>\n",
       "      <td id=\"T_6a153_row1_col6\" class=\"data row1 col6\" >0.5155</td>\n",
       "      <td id=\"T_6a153_row1_col7\" class=\"data row1 col7\" >0.5788</td>\n",
       "      <td id=\"T_6a153_row1_col8\" class=\"data row1 col8\" >0.2730</td>\n",
       "    </tr>\n",
       "    <tr>\n",
       "      <th id=\"T_6a153_level0_row2\" class=\"row_heading level0 row2\" >et</th>\n",
       "      <td id=\"T_6a153_row2_col0\" class=\"data row2 col0\" >Extra Trees Classifier</td>\n",
       "      <td id=\"T_6a153_row2_col1\" class=\"data row2 col1\" >0.7464</td>\n",
       "      <td id=\"T_6a153_row2_col2\" class=\"data row2 col2\" >0.7580</td>\n",
       "      <td id=\"T_6a153_row2_col3\" class=\"data row2 col3\" >0.4900</td>\n",
       "      <td id=\"T_6a153_row2_col4\" class=\"data row2 col4\" >0.8333</td>\n",
       "      <td id=\"T_6a153_row2_col5\" class=\"data row2 col5\" >0.6071</td>\n",
       "      <td id=\"T_6a153_row2_col6\" class=\"data row2 col6\" >0.4386</td>\n",
       "      <td id=\"T_6a153_row2_col7\" class=\"data row2 col7\" >0.4797</td>\n",
       "      <td id=\"T_6a153_row2_col8\" class=\"data row2 col8\" >0.0340</td>\n",
       "    </tr>\n",
       "    <tr>\n",
       "      <th id=\"T_6a153_level0_row3\" class=\"row_heading level0 row3\" >svm</th>\n",
       "      <td id=\"T_6a153_row3_col0\" class=\"data row3 col0\" >SVM - Linear Kernel</td>\n",
       "      <td id=\"T_6a153_row3_col1\" class=\"data row3 col1\" >0.7382</td>\n",
       "      <td id=\"T_6a153_row3_col2\" class=\"data row3 col2\" >0.0000</td>\n",
       "      <td id=\"T_6a153_row3_col3\" class=\"data row3 col3\" >0.8100</td>\n",
       "      <td id=\"T_6a153_row3_col4\" class=\"data row3 col4\" >0.6930</td>\n",
       "      <td id=\"T_6a153_row3_col5\" class=\"data row3 col5\" >0.7239</td>\n",
       "      <td id=\"T_6a153_row3_col6\" class=\"data row3 col6\" >0.5000</td>\n",
       "      <td id=\"T_6a153_row3_col7\" class=\"data row3 col7\" >0.5146</td>\n",
       "      <td id=\"T_6a153_row3_col8\" class=\"data row3 col8\" >0.0030</td>\n",
       "    </tr>\n",
       "    <tr>\n",
       "      <th id=\"T_6a153_level0_row4\" class=\"row_heading level0 row4\" >nb</th>\n",
       "      <td id=\"T_6a153_row4_col0\" class=\"data row4 col0\" >Naive Bayes</td>\n",
       "      <td id=\"T_6a153_row4_col1\" class=\"data row4 col1\" >0.7345</td>\n",
       "      <td id=\"T_6a153_row4_col2\" class=\"data row4 col2\" >0.7314</td>\n",
       "      <td id=\"T_6a153_row4_col3\" class=\"data row4 col3\" >0.5150</td>\n",
       "      <td id=\"T_6a153_row4_col4\" class=\"data row4 col4\" >0.7667</td>\n",
       "      <td id=\"T_6a153_row4_col5\" class=\"data row4 col5\" >0.5876</td>\n",
       "      <td id=\"T_6a153_row4_col6\" class=\"data row4 col6\" >0.4139</td>\n",
       "      <td id=\"T_6a153_row4_col7\" class=\"data row4 col7\" >0.4455</td>\n",
       "      <td id=\"T_6a153_row4_col8\" class=\"data row4 col8\" >0.0030</td>\n",
       "    </tr>\n",
       "    <tr>\n",
       "      <th id=\"T_6a153_level0_row5\" class=\"row_heading level0 row5\" >knn</th>\n",
       "      <td id=\"T_6a153_row5_col0\" class=\"data row5 col0\" >K Neighbors Classifier</td>\n",
       "      <td id=\"T_6a153_row5_col1\" class=\"data row5 col1\" >0.7082</td>\n",
       "      <td id=\"T_6a153_row5_col2\" class=\"data row5 col2\" >0.7051</td>\n",
       "      <td id=\"T_6a153_row5_col3\" class=\"data row5 col3\" >0.4000</td>\n",
       "      <td id=\"T_6a153_row5_col4\" class=\"data row5 col4\" >0.6583</td>\n",
       "      <td id=\"T_6a153_row5_col5\" class=\"data row5 col5\" >0.4817</td>\n",
       "      <td id=\"T_6a153_row5_col6\" class=\"data row5 col6\" >0.3380</td>\n",
       "      <td id=\"T_6a153_row5_col7\" class=\"data row5 col7\" >0.3574</td>\n",
       "      <td id=\"T_6a153_row5_col8\" class=\"data row5 col8\" >0.1500</td>\n",
       "    </tr>\n",
       "    <tr>\n",
       "      <th id=\"T_6a153_level0_row6\" class=\"row_heading level0 row6\" >ada</th>\n",
       "      <td id=\"T_6a153_row6_col0\" class=\"data row6 col0\" >Ada Boost Classifier</td>\n",
       "      <td id=\"T_6a153_row6_col1\" class=\"data row6 col1\" >0.7073</td>\n",
       "      <td id=\"T_6a153_row6_col2\" class=\"data row6 col2\" >0.7505</td>\n",
       "      <td id=\"T_6a153_row6_col3\" class=\"data row6 col3\" >0.5400</td>\n",
       "      <td id=\"T_6a153_row6_col4\" class=\"data row6 col4\" >0.6250</td>\n",
       "      <td id=\"T_6a153_row6_col5\" class=\"data row6 col5\" >0.5555</td>\n",
       "      <td id=\"T_6a153_row6_col6\" class=\"data row6 col6\" >0.3636</td>\n",
       "      <td id=\"T_6a153_row6_col7\" class=\"data row6 col7\" >0.3850</td>\n",
       "      <td id=\"T_6a153_row6_col8\" class=\"data row6 col8\" >0.0200</td>\n",
       "    </tr>\n",
       "    <tr>\n",
       "      <th id=\"T_6a153_level0_row7\" class=\"row_heading level0 row7\" >rf</th>\n",
       "      <td id=\"T_6a153_row7_col0\" class=\"data row7 col0\" >Random Forest Classifier</td>\n",
       "      <td id=\"T_6a153_row7_col1\" class=\"data row7 col1\" >0.7064</td>\n",
       "      <td id=\"T_6a153_row7_col2\" class=\"data row7 col2\" >0.7380</td>\n",
       "      <td id=\"T_6a153_row7_col3\" class=\"data row7 col3\" >0.4900</td>\n",
       "      <td id=\"T_6a153_row7_col4\" class=\"data row7 col4\" >0.7333</td>\n",
       "      <td id=\"T_6a153_row7_col5\" class=\"data row7 col5\" >0.5762</td>\n",
       "      <td id=\"T_6a153_row7_col6\" class=\"data row7 col6\" >0.3632</td>\n",
       "      <td id=\"T_6a153_row7_col7\" class=\"data row7 col7\" >0.3904</td>\n",
       "      <td id=\"T_6a153_row7_col8\" class=\"data row7 col8\" >0.0410</td>\n",
       "    </tr>\n",
       "    <tr>\n",
       "      <th id=\"T_6a153_level0_row8\" class=\"row_heading level0 row8\" >lightgbm</th>\n",
       "      <td id=\"T_6a153_row8_col0\" class=\"data row8 col0\" >Light Gradient Boosting Machine</td>\n",
       "      <td id=\"T_6a153_row8_col1\" class=\"data row8 col1\" >0.6755</td>\n",
       "      <td id=\"T_6a153_row8_col2\" class=\"data row8 col2\" >0.7637</td>\n",
       "      <td id=\"T_6a153_row8_col3\" class=\"data row8 col3\" >0.5100</td>\n",
       "      <td id=\"T_6a153_row8_col4\" class=\"data row8 col4\" >0.6333</td>\n",
       "      <td id=\"T_6a153_row8_col5\" class=\"data row8 col5\" >0.5552</td>\n",
       "      <td id=\"T_6a153_row8_col6\" class=\"data row8 col6\" >0.3046</td>\n",
       "      <td id=\"T_6a153_row8_col7\" class=\"data row8 col7\" >0.3161</td>\n",
       "      <td id=\"T_6a153_row8_col8\" class=\"data row8 col8\" >0.0080</td>\n",
       "    </tr>\n",
       "    <tr>\n",
       "      <th id=\"T_6a153_level0_row9\" class=\"row_heading level0 row9\" >gbc</th>\n",
       "      <td id=\"T_6a153_row9_col0\" class=\"data row9 col0\" >Gradient Boosting Classifier</td>\n",
       "      <td id=\"T_6a153_row9_col1\" class=\"data row9 col1\" >0.6373</td>\n",
       "      <td id=\"T_6a153_row9_col2\" class=\"data row9 col2\" >0.6488</td>\n",
       "      <td id=\"T_6a153_row9_col3\" class=\"data row9 col3\" >0.4900</td>\n",
       "      <td id=\"T_6a153_row9_col4\" class=\"data row9 col4\" >0.6450</td>\n",
       "      <td id=\"T_6a153_row9_col5\" class=\"data row9 col5\" >0.5345</td>\n",
       "      <td id=\"T_6a153_row9_col6\" class=\"data row9 col6\" >0.2446</td>\n",
       "      <td id=\"T_6a153_row9_col7\" class=\"data row9 col7\" >0.2695</td>\n",
       "      <td id=\"T_6a153_row9_col8\" class=\"data row9 col8\" >0.0320</td>\n",
       "    </tr>\n",
       "    <tr>\n",
       "      <th id=\"T_6a153_level0_row10\" class=\"row_heading level0 row10\" >dummy</th>\n",
       "      <td id=\"T_6a153_row10_col0\" class=\"data row10 col0\" >Dummy Classifier</td>\n",
       "      <td id=\"T_6a153_row10_col1\" class=\"data row10 col1\" >0.5982</td>\n",
       "      <td id=\"T_6a153_row10_col2\" class=\"data row10 col2\" >0.5000</td>\n",
       "      <td id=\"T_6a153_row10_col3\" class=\"data row10 col3\" >0.0000</td>\n",
       "      <td id=\"T_6a153_row10_col4\" class=\"data row10 col4\" >0.0000</td>\n",
       "      <td id=\"T_6a153_row10_col5\" class=\"data row10 col5\" >0.0000</td>\n",
       "      <td id=\"T_6a153_row10_col6\" class=\"data row10 col6\" >0.0000</td>\n",
       "      <td id=\"T_6a153_row10_col7\" class=\"data row10 col7\" >0.0000</td>\n",
       "      <td id=\"T_6a153_row10_col8\" class=\"data row10 col8\" >0.0020</td>\n",
       "    </tr>\n",
       "    <tr>\n",
       "      <th id=\"T_6a153_level0_row11\" class=\"row_heading level0 row11\" >dt</th>\n",
       "      <td id=\"T_6a153_row11_col0\" class=\"data row11 col0\" >Decision Tree Classifier</td>\n",
       "      <td id=\"T_6a153_row11_col1\" class=\"data row11 col1\" >0.5973</td>\n",
       "      <td id=\"T_6a153_row11_col2\" class=\"data row11 col2\" >0.5902</td>\n",
       "      <td id=\"T_6a153_row11_col3\" class=\"data row11 col3\" >0.5400</td>\n",
       "      <td id=\"T_6a153_row11_col4\" class=\"data row11 col4\" >0.5050</td>\n",
       "      <td id=\"T_6a153_row11_col5\" class=\"data row11 col5\" >0.5083</td>\n",
       "      <td id=\"T_6a153_row11_col6\" class=\"data row11 col6\" >0.1752</td>\n",
       "      <td id=\"T_6a153_row11_col7\" class=\"data row11 col7\" >0.1815</td>\n",
       "      <td id=\"T_6a153_row11_col8\" class=\"data row11 col8\" >0.0030</td>\n",
       "    </tr>\n",
       "    <tr>\n",
       "      <th id=\"T_6a153_level0_row12\" class=\"row_heading level0 row12\" >qda</th>\n",
       "      <td id=\"T_6a153_row12_col0\" class=\"data row12 col0\" >Quadratic Discriminant Analysis</td>\n",
       "      <td id=\"T_6a153_row12_col1\" class=\"data row12 col1\" >0.4691</td>\n",
       "      <td id=\"T_6a153_row12_col2\" class=\"data row12 col2\" >0.5169</td>\n",
       "      <td id=\"T_6a153_row12_col3\" class=\"data row12 col3\" >0.7600</td>\n",
       "      <td id=\"T_6a153_row12_col4\" class=\"data row12 col4\" >0.4157</td>\n",
       "      <td id=\"T_6a153_row12_col5\" class=\"data row12 col5\" >0.5347</td>\n",
       "      <td id=\"T_6a153_row12_col6\" class=\"data row12 col6\" >0.0272</td>\n",
       "      <td id=\"T_6a153_row12_col7\" class=\"data row12 col7\" >0.0438</td>\n",
       "      <td id=\"T_6a153_row12_col8\" class=\"data row12 col8\" >0.0040</td>\n",
       "    </tr>\n",
       "    <tr>\n",
       "      <th id=\"T_6a153_level0_row13\" class=\"row_heading level0 row13\" >lda</th>\n",
       "      <td id=\"T_6a153_row13_col0\" class=\"data row13 col0\" >Linear Discriminant Analysis</td>\n",
       "      <td id=\"T_6a153_row13_col1\" class=\"data row13 col1\" >0.4645</td>\n",
       "      <td id=\"T_6a153_row13_col2\" class=\"data row13 col2\" >0.4684</td>\n",
       "      <td id=\"T_6a153_row13_col3\" class=\"data row13 col3\" >0.3900</td>\n",
       "      <td id=\"T_6a153_row13_col4\" class=\"data row13 col4\" >0.3321</td>\n",
       "      <td id=\"T_6a153_row13_col5\" class=\"data row13 col5\" >0.3396</td>\n",
       "      <td id=\"T_6a153_row13_col6\" class=\"data row13 col6\" >-0.0950</td>\n",
       "      <td id=\"T_6a153_row13_col7\" class=\"data row13 col7\" >-0.0925</td>\n",
       "      <td id=\"T_6a153_row13_col8\" class=\"data row13 col8\" >0.0040</td>\n",
       "    </tr>\n",
       "  </tbody>\n",
       "</table>\n"
      ],
      "text/plain": [
       "<pandas.io.formats.style.Styler at 0x7f1aae167df0>"
      ]
     },
     "metadata": {},
     "output_type": "display_data"
    }
   ],
   "source": [
    "best_model = compare_models()\n"
   ]
  },
  {
   "cell_type": "code",
   "execution_count": null,
   "id": "0bf774c8-f59f-4e58-9d1f-298ba996e524",
   "metadata": {},
   "outputs": [],
   "source": []
  }
 ],
 "metadata": {
  "kernelspec": {
   "display_name": "Python 3 (ipykernel)",
   "language": "python",
   "name": "python3"
  },
  "language_info": {
   "codemirror_mode": {
    "name": "ipython",
    "version": 3
   },
   "file_extension": ".py",
   "mimetype": "text/x-python",
   "name": "python",
   "nbconvert_exporter": "python",
   "pygments_lexer": "ipython3",
   "version": "3.9.7"
  }
 },
 "nbformat": 4,
 "nbformat_minor": 5
}
