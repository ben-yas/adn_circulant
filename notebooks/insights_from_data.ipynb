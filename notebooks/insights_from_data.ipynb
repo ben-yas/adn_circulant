{
 "cells": [
  {
   "cell_type": "code",
   "execution_count": 152,
   "id": "da0ce424-69c5-4fe7-9da9-fc50be20677e",
   "metadata": {},
   "outputs": [],
   "source": [
    "from pathlib import Path\n",
    "from typing import Tuple\n",
    "from collections import defaultdict\n",
    "\n",
    "import pandas as pd\n",
    "from sklearn.decomposition import PCA\n",
    "from sklearn.manifold import TSNE\n",
    "from sklearn.preprocessing import StandardScaler\n",
    "from sklearn.model_selection import StratifiedKFold\n",
    "from sklearn.metrics import accuracy_score\n",
    "from sklearn.linear_model import LogisticRegression\n",
    "from sklearn.ensemble import RandomForestClassifier\n",
    "from sklearn.svm import SVC\n",
    "from matplotlib import pyplot as plt\n",
    "import numpy as np"
   ]
  },
  {
   "cell_type": "markdown",
   "id": "319de2e4-bde8-49f8-83f5-23ae9b1f5596",
   "metadata": {},
   "source": [
    "# Load data\n",
    "## Load files"
   ]
  },
  {
   "cell_type": "code",
   "execution_count": 2,
   "id": "683c8fa2-2d4a-4cbe-8e85-7693843a079b",
   "metadata": {},
   "outputs": [],
   "source": [
    "metadata_path = Path('..') / 'data' / 'metadata_OS2006_ctdna.csv'\n",
    "data_dir = Path('..') / 'data' / 'results'"
   ]
  },
  {
   "cell_type": "code",
   "execution_count": 3,
   "id": "87977130-08c2-46d4-9e77-f87241a453e3",
   "metadata": {},
   "outputs": [],
   "source": [
    "metadata = pd.read_csv(metadata_path)"
   ]
  },
  {
   "cell_type": "code",
   "execution_count": 4,
   "id": "6b224343-5530-4aae-b22b-e98e7667c69f",
   "metadata": {},
   "outputs": [
    {
     "data": {
      "text/html": [
       "<div>\n",
       "<style scoped>\n",
       "    .dataframe tbody tr th:only-of-type {\n",
       "        vertical-align: middle;\n",
       "    }\n",
       "\n",
       "    .dataframe tbody tr th {\n",
       "        vertical-align: top;\n",
       "    }\n",
       "\n",
       "    .dataframe thead th {\n",
       "        text-align: right;\n",
       "    }\n",
       "</style>\n",
       "<table border=\"1\" class=\"dataframe\">\n",
       "  <thead>\n",
       "    <tr style=\"text-align: right;\">\n",
       "      <th></th>\n",
       "      <th>Unnamed: 0</th>\n",
       "      <th>CPA</th>\n",
       "      <th>Nb.Reads</th>\n",
       "      <th>sex</th>\n",
       "      <th>age</th>\n",
       "      <th>htum</th>\n",
       "      <th>relapse</th>\n",
       "      <th>etat2</th>\n",
       "      <th>id.x</th>\n",
       "      <th>time_point</th>\n",
       "      <th>time_OS</th>\n",
       "      <th>time_PFS</th>\n",
       "    </tr>\n",
       "  </thead>\n",
       "  <tbody>\n",
       "    <tr>\n",
       "      <th>0</th>\n",
       "      <td>1</td>\n",
       "      <td>0.21416</td>\n",
       "      <td>34870298</td>\n",
       "      <td>Masculin</td>\n",
       "      <td>15.69</td>\n",
       "      <td>4.7</td>\n",
       "      <td>1</td>\n",
       "      <td>1</td>\n",
       "      <td>OS2006_22</td>\n",
       "      <td>DIAG</td>\n",
       "      <td>1918.0</td>\n",
       "      <td>496.0</td>\n",
       "    </tr>\n",
       "    <tr>\n",
       "      <th>1</th>\n",
       "      <td>2</td>\n",
       "      <td>0.16532</td>\n",
       "      <td>29805492</td>\n",
       "      <td>Masculin</td>\n",
       "      <td>15.69</td>\n",
       "      <td>4.7</td>\n",
       "      <td>1</td>\n",
       "      <td>1</td>\n",
       "      <td>OS2006_22</td>\n",
       "      <td>FIN_TTT</td>\n",
       "      <td>1918.0</td>\n",
       "      <td>496.0</td>\n",
       "    </tr>\n",
       "    <tr>\n",
       "      <th>2</th>\n",
       "      <td>3</td>\n",
       "      <td>0.15569</td>\n",
       "      <td>24460617</td>\n",
       "      <td>Feminin</td>\n",
       "      <td>33.76</td>\n",
       "      <td>4.0</td>\n",
       "      <td>0</td>\n",
       "      <td>0</td>\n",
       "      <td>OS2006_29</td>\n",
       "      <td>DIAG</td>\n",
       "      <td>3694.0</td>\n",
       "      <td>NaN</td>\n",
       "    </tr>\n",
       "    <tr>\n",
       "      <th>3</th>\n",
       "      <td>4</td>\n",
       "      <td>0.12670</td>\n",
       "      <td>30044657</td>\n",
       "      <td>Feminin</td>\n",
       "      <td>33.76</td>\n",
       "      <td>4.0</td>\n",
       "      <td>0</td>\n",
       "      <td>0</td>\n",
       "      <td>OS2006_29</td>\n",
       "      <td>FIN_TTT</td>\n",
       "      <td>3694.0</td>\n",
       "      <td>NaN</td>\n",
       "    </tr>\n",
       "    <tr>\n",
       "      <th>4</th>\n",
       "      <td>5</td>\n",
       "      <td>0.25768</td>\n",
       "      <td>38510628</td>\n",
       "      <td>Masculin</td>\n",
       "      <td>15.03</td>\n",
       "      <td>11.0</td>\n",
       "      <td>1</td>\n",
       "      <td>1</td>\n",
       "      <td>OS2006_97</td>\n",
       "      <td>DIAG</td>\n",
       "      <td>3017.0</td>\n",
       "      <td>637.0</td>\n",
       "    </tr>\n",
       "  </tbody>\n",
       "</table>\n",
       "</div>"
      ],
      "text/plain": [
       "   Unnamed: 0      CPA  Nb.Reads       sex    age  htum  relapse  etat2  \\\n",
       "0           1  0.21416  34870298  Masculin  15.69   4.7        1      1   \n",
       "1           2  0.16532  29805492  Masculin  15.69   4.7        1      1   \n",
       "2           3  0.15569  24460617   Feminin  33.76   4.0        0      0   \n",
       "3           4  0.12670  30044657   Feminin  33.76   4.0        0      0   \n",
       "4           5  0.25768  38510628  Masculin  15.03  11.0        1      1   \n",
       "\n",
       "        id.x time_point  time_OS  time_PFS  \n",
       "0  OS2006_22       DIAG   1918.0     496.0  \n",
       "1  OS2006_22    FIN_TTT   1918.0     496.0  \n",
       "2  OS2006_29       DIAG   3694.0       NaN  \n",
       "3  OS2006_29    FIN_TTT   3694.0       NaN  \n",
       "4  OS2006_97       DIAG   3017.0     637.0  "
      ]
     },
     "execution_count": 4,
     "metadata": {},
     "output_type": "execute_result"
    }
   ],
   "source": [
    "metadata.head()"
   ]
  },
  {
   "cell_type": "code",
   "execution_count": 5,
   "id": "db57b16c-bfe2-48b3-9ad0-e5efc8eb9555",
   "metadata": {},
   "outputs": [],
   "source": [
    "def get_infos_from_filename(filename: str) -> Tuple[str, str]:\n",
    "    filename = filename.split('.')[0]\n",
    "    splitted_filename = filename.split('_')\n",
    "    id_patient = f'{splitted_filename[0]}_{splitted_filename[1]}'\n",
    "    time_point = f'{splitted_filename[2]}_{splitted_filename[3]}' if len(splitted_filename) == 4 else splitted_filename[2]\n",
    "    return id_patient, time_point"
   ]
  },
  {
   "cell_type": "code",
   "execution_count": 6,
   "id": "767b7ade-0ba6-49e2-a1c4-8b82298f0284",
   "metadata": {},
   "outputs": [],
   "source": [
    "def load_all_data_patient(data_dir: Path) -> defaultdict:\n",
    "    data_patient = defaultdict(dict)\n",
    "\n",
    "    for p in data_dir.iterdir():\n",
    "        if not p.is_file():\n",
    "            continue\n",
    "        filename = str(p).split('/')[-1]\n",
    "        id_patient, time_point = get_infos_from_filename(filename)\n",
    "        data_patient[id_patient][time_point] = pd.read_csv(p, sep='\\t')\n",
    "    \n",
    "    return data_patient"
   ]
  },
  {
   "cell_type": "code",
   "execution_count": 7,
   "id": "19301a51-cd71-4a54-9a2f-d77d365da827",
   "metadata": {},
   "outputs": [
    {
     "name": "stdout",
     "output_type": "stream",
     "text": [
      "There are 182 patient\n"
     ]
    }
   ],
   "source": [
    "data_patient = load_all_data_patient(data_dir)\n",
    "print(f'There are {len(data_patient)} patient')"
   ]
  },
  {
   "cell_type": "markdown",
   "id": "cacc1107-13b7-465c-bf6e-eff3aaa05db6",
   "metadata": {},
   "source": [
    "## Organize data"
   ]
  },
  {
   "cell_type": "code",
   "execution_count": 8,
   "id": "0adf5dcb-64eb-480d-8af5-5f5e47c34a60",
   "metadata": {},
   "outputs": [
    {
     "name": "stdout",
     "output_type": "stream",
     "text": [
      "There are 115 patient with data for the 3 time points\n"
     ]
    }
   ],
   "source": [
    "patient_all_time_points = {patient_id: data for patient_id, data in data_patient.items() if len(data) == 3}\n",
    "print(f'There are {len(patient_all_time_points)} patient with data for the 3 time points')"
   ]
  },
  {
   "cell_type": "code",
   "execution_count": 9,
   "id": "bf1dddc8-b664-496e-acb0-313724c70bb1",
   "metadata": {},
   "outputs": [
    {
     "name": "stdout",
     "output_type": "stream",
     "text": [
      "There are 177 patient with data for DIAG time point\n"
     ]
    }
   ],
   "source": [
    "patient_diag_time_point = {patient_id: {'DIAG': data['DIAG']} for patient_id, data in data_patient.items() if data.get('DIAG') is not None}\n",
    "print(f'There are {len(patient_diag_time_point)} patient with data for DIAG time point')"
   ]
  },
  {
   "cell_type": "code",
   "execution_count": 10,
   "id": "78fb570f-3c22-44b8-a32d-34fb0d863ad4",
   "metadata": {},
   "outputs": [
    {
     "name": "stdout",
     "output_type": "stream",
     "text": [
      "There are 143 patient with data for AVANT_CHIR time point\n"
     ]
    }
   ],
   "source": [
    "patient_chir_time_point = {patient_id: {'AVANT_CHIR': data['AVANT_CHIR']} for patient_id, data in data_patient.items() if data.get('AVANT_CHIR') is not None}\n",
    "print(f'There are {len(patient_chir_time_point)} patient with data for AVANT_CHIR time point')"
   ]
  },
  {
   "cell_type": "code",
   "execution_count": 11,
   "id": "20d72767-2ba1-451d-9455-644c5effee9f",
   "metadata": {},
   "outputs": [
    {
     "name": "stdout",
     "output_type": "stream",
     "text": [
      "There are 143 patient with data for FIN_TT time point\n"
     ]
    }
   ],
   "source": [
    "patient_end_time_point = {patient_id: {'FIN_TT': data['FIN_TT']} for patient_id, data in data_patient.items() if data.get('FIN_TT') is not None}\n",
    "print(f'There are {len(patient_end_time_point)} patient with data for FIN_TT time point')"
   ]
  },
  {
   "cell_type": "markdown",
   "id": "cee3ddd3-3cce-4476-910e-a72894f1ff69",
   "metadata": {},
   "source": [
    "## Check no error"
   ]
  },
  {
   "cell_type": "code",
   "execution_count": 12,
   "id": "727313be-c69f-47ed-8380-29c4f60ff3cf",
   "metadata": {},
   "outputs": [
    {
     "data": {
      "text/plain": [
       "463"
      ]
     },
     "execution_count": 12,
     "metadata": {},
     "output_type": "execute_result"
    }
   ],
   "source": [
    "nb_files = 0\n",
    "for data in data_patient.values():\n",
    "    nb_files += len(data.values())\n",
    "nb_files"
   ]
  },
  {
   "cell_type": "code",
   "execution_count": 13,
   "id": "ce2d1bc6-7eb0-4f9d-a3fa-fa66026b5803",
   "metadata": {},
   "outputs": [
    {
     "data": {
      "text/plain": [
       "463"
      ]
     },
     "execution_count": 13,
     "metadata": {},
     "output_type": "execute_result"
    }
   ],
   "source": [
    "177 + 143 * 2"
   ]
  },
  {
   "cell_type": "markdown",
   "id": "6b38b9c7-7d39-4a59-96c0-3166fcc64cde",
   "metadata": {},
   "source": [
    "## Transform data\n",
    "### Transpose data"
   ]
  },
  {
   "cell_type": "code",
   "execution_count": 14,
   "id": "f5788bdb-61a4-4cd2-a4b0-f14a45dc4791",
   "metadata": {},
   "outputs": [],
   "source": [
    "def transpose_data_one_patient(data: pd.DataFrame) -> pd.DataFrame:\n",
    "    one_data = data.copy()\n",
    "    one_data = one_data[['id', 'ratio', 'zscore']].set_index('id').stack().reset_index()\n",
    "    one_data.columns = ['id', 'score_label', 'value']\n",
    "    one_data['col_name'] = one_data['id'] + '_' + one_data['score_label']\n",
    "    return one_data.set_index('col_name')['value'].to_frame().T"
   ]
  },
  {
   "cell_type": "code",
   "execution_count": 15,
   "id": "4d03804b-363b-4d2b-8a39-0f89c72f00e9",
   "metadata": {},
   "outputs": [],
   "source": [
    "def format_all_data_as_df(patient_data: defaultdict) -> pd.DataFrame:\n",
    "    transpose_data = []\n",
    "    ids_patient = []\n",
    "    \n",
    "    for patient_id, data in patient_data.items():\n",
    "        for time_point, data in data.items():\n",
    "            transpose_data.append(transpose_data_one_patient(data))\n",
    "            ids_patient.append((patient_id, time_point))\n",
    "        \n",
    "    transpose_data_df = pd.concat(transpose_data, axis=0).reset_index(drop=True)\n",
    "    ids_patient_df = pd.DataFrame(ids_patient, columns=['patient_id', 'time_point'])\n",
    "    \n",
    "    return pd.concat([ids_patient_df, transpose_data_df], axis=1)"
   ]
  },
  {
   "cell_type": "code",
   "execution_count": 16,
   "id": "b5b70b2a-0ffc-474a-9c1e-a6bc38337758",
   "metadata": {},
   "outputs": [],
   "source": [
    "patient_all_time_points_df = format_all_data_as_df(patient_all_time_points)"
   ]
  },
  {
   "cell_type": "code",
   "execution_count": 17,
   "id": "8af294fd-2406-4107-9f7a-4909ec9f9b4e",
   "metadata": {},
   "outputs": [],
   "source": [
    "patient_diag_time_point_df = format_all_data_as_df(patient_diag_time_point)"
   ]
  },
  {
   "cell_type": "code",
   "execution_count": 18,
   "id": "85e8e74b-f225-4ca9-b274-786920b2fcdc",
   "metadata": {},
   "outputs": [],
   "source": [
    "patient_chir_time_point_df = format_all_data_as_df(patient_chir_time_point)"
   ]
  },
  {
   "cell_type": "code",
   "execution_count": 19,
   "id": "53940683-1bea-4804-8e05-bdf9b62771a5",
   "metadata": {},
   "outputs": [],
   "source": [
    "patient_end_time_point_df = format_all_data_as_df(patient_end_time_point)"
   ]
  },
  {
   "cell_type": "markdown",
   "id": "261d5128-083b-4c1c-bcb2-2482a1abcb24",
   "metadata": {},
   "source": [
    "## Clean metadata"
   ]
  },
  {
   "cell_type": "code",
   "execution_count": 20,
   "id": "91bf18af-8ec5-40ce-afe6-1189774b4154",
   "metadata": {},
   "outputs": [],
   "source": [
    "metadata_df = metadata.copy()\n",
    "del metadata_df['Unnamed: 0']"
   ]
  },
  {
   "cell_type": "code",
   "execution_count": 21,
   "id": "79a5f22c-df04-4531-be9f-6f30b9d3ecab",
   "metadata": {},
   "outputs": [],
   "source": [
    "metadata_df = metadata_df.sort_values('CPA', ascending=False).drop_duplicates(['id.x', 'time_point'], keep='first')"
   ]
  },
  {
   "cell_type": "code",
   "execution_count": 22,
   "id": "ed567419-7675-49f9-a6eb-4686838f0fd9",
   "metadata": {},
   "outputs": [],
   "source": [
    "metadata_df.rename(columns={'id.x': 'patient_id'}, inplace=True)\n",
    "metadata_df['time_point'] = metadata_df['time_point'].str.replace('FIN_TTT', 'FIN_TT')"
   ]
  },
  {
   "cell_type": "markdown",
   "id": "a0e95488-4177-4987-b562-f312bf4ad93d",
   "metadata": {
    "tags": []
   },
   "source": [
    "## Merge metadata and data"
   ]
  },
  {
   "cell_type": "code",
   "execution_count": 23,
   "id": "578c04e9-398f-4507-8942-e29df88502fa",
   "metadata": {},
   "outputs": [],
   "source": [
    "data_all_time_points = pd.merge(metadata_df, patient_all_time_points_df, on=['patient_id', 'time_point'], how='right')\n",
    "columns_to_keep = ['patient_id', 'time_point'] + [col for col in data_all_time_points.columns if col.endswith('_ratio') or col.endswith('_zscore')]\n",
    "data_all_time_points = data_all_time_points[columns_to_keep].set_index(['time_point', 'patient_id']).unstack('time_point')\n",
    "data_all_time_points.columns = ['_'.join(col).strip() for col in data_all_time_points.columns.values]\n",
    "data_all_time_points.reset_index(inplace=True)\n",
    "data_all_time_points = pd.merge(metadata_df[['patient_id', 'sex', 'age', 'htum', 'relapse', 'etat2']], data_all_time_points, on='patient_id', how='right').drop_duplicates('patient_id').reset_index(drop=True)"
   ]
  },
  {
   "cell_type": "code",
   "execution_count": 24,
   "id": "853e1080-8656-4ae3-98fc-cb15ab6ef5c9",
   "metadata": {},
   "outputs": [
    {
     "data": {
      "text/html": [
       "<div>\n",
       "<style scoped>\n",
       "    .dataframe tbody tr th:only-of-type {\n",
       "        vertical-align: middle;\n",
       "    }\n",
       "\n",
       "    .dataframe tbody tr th {\n",
       "        vertical-align: top;\n",
       "    }\n",
       "\n",
       "    .dataframe thead th {\n",
       "        text-align: right;\n",
       "    }\n",
       "</style>\n",
       "<table border=\"1\" class=\"dataframe\">\n",
       "  <thead>\n",
       "    <tr style=\"text-align: right;\">\n",
       "      <th></th>\n",
       "      <th>patient_id</th>\n",
       "      <th>sex</th>\n",
       "      <th>age</th>\n",
       "      <th>htum</th>\n",
       "      <th>relapse</th>\n",
       "      <th>etat2</th>\n",
       "      <th>1:1000001-2000000_ratio_AVANT_CHIR</th>\n",
       "      <th>1:1000001-2000000_ratio_DIAG</th>\n",
       "      <th>1:1000001-2000000_ratio_FIN_TT</th>\n",
       "      <th>1:1000001-2000000_zscore_AVANT_CHIR</th>\n",
       "      <th>...</th>\n",
       "      <th>Y:56000001-57000000_ratio_FIN_TT</th>\n",
       "      <th>Y:56000001-57000000_zscore_AVANT_CHIR</th>\n",
       "      <th>Y:56000001-57000000_zscore_DIAG</th>\n",
       "      <th>Y:56000001-57000000_zscore_FIN_TT</th>\n",
       "      <th>8:76000001-77000000_ratio_AVANT_CHIR</th>\n",
       "      <th>8:76000001-77000000_ratio_DIAG</th>\n",
       "      <th>8:76000001-77000000_ratio_FIN_TT</th>\n",
       "      <th>8:76000001-77000000_zscore_AVANT_CHIR</th>\n",
       "      <th>8:76000001-77000000_zscore_DIAG</th>\n",
       "      <th>8:76000001-77000000_zscore_FIN_TT</th>\n",
       "    </tr>\n",
       "  </thead>\n",
       "  <tbody>\n",
       "    <tr>\n",
       "      <th>0</th>\n",
       "      <td>OS2006_1</td>\n",
       "      <td>Feminin</td>\n",
       "      <td>17.58</td>\n",
       "      <td>10.6</td>\n",
       "      <td>0.0</td>\n",
       "      <td>0.0</td>\n",
       "      <td>0.018393</td>\n",
       "      <td>0.016137</td>\n",
       "      <td>0.058340</td>\n",
       "      <td>0.717335</td>\n",
       "      <td>...</td>\n",
       "      <td>NaN</td>\n",
       "      <td>NaN</td>\n",
       "      <td>NaN</td>\n",
       "      <td>NaN</td>\n",
       "      <td>NaN</td>\n",
       "      <td>NaN</td>\n",
       "      <td>0.042338</td>\n",
       "      <td>NaN</td>\n",
       "      <td>NaN</td>\n",
       "      <td>1.339005</td>\n",
       "    </tr>\n",
       "    <tr>\n",
       "      <th>1</th>\n",
       "      <td>OS2006_10</td>\n",
       "      <td>Masculin</td>\n",
       "      <td>14.51</td>\n",
       "      <td>11.1</td>\n",
       "      <td>0.0</td>\n",
       "      <td>1.0</td>\n",
       "      <td>0.061683</td>\n",
       "      <td>-0.073297</td>\n",
       "      <td>0.049724</td>\n",
       "      <td>2.439719</td>\n",
       "      <td>...</td>\n",
       "      <td>-0.067204</td>\n",
       "      <td>-0.229573</td>\n",
       "      <td>-1.442374</td>\n",
       "      <td>-1.568502</td>\n",
       "      <td>NaN</td>\n",
       "      <td>NaN</td>\n",
       "      <td>NaN</td>\n",
       "      <td>NaN</td>\n",
       "      <td>NaN</td>\n",
       "      <td>NaN</td>\n",
       "    </tr>\n",
       "    <tr>\n",
       "      <th>2</th>\n",
       "      <td>OS2006_11</td>\n",
       "      <td>Masculin</td>\n",
       "      <td>18.83</td>\n",
       "      <td>7.0</td>\n",
       "      <td>0.0</td>\n",
       "      <td>0.0</td>\n",
       "      <td>0.001686</td>\n",
       "      <td>0.044181</td>\n",
       "      <td>0.007257</td>\n",
       "      <td>0.057659</td>\n",
       "      <td>...</td>\n",
       "      <td>0.205231</td>\n",
       "      <td>4.687495</td>\n",
       "      <td>4.854536</td>\n",
       "      <td>7.090777</td>\n",
       "      <td>NaN</td>\n",
       "      <td>0.044237</td>\n",
       "      <td>NaN</td>\n",
       "      <td>NaN</td>\n",
       "      <td>1.504716</td>\n",
       "      <td>NaN</td>\n",
       "    </tr>\n",
       "    <tr>\n",
       "      <th>3</th>\n",
       "      <td>OS2006_12</td>\n",
       "      <td>Feminin</td>\n",
       "      <td>11.69</td>\n",
       "      <td>12.4</td>\n",
       "      <td>0.0</td>\n",
       "      <td>0.0</td>\n",
       "      <td>-0.109241</td>\n",
       "      <td>-0.112703</td>\n",
       "      <td>-0.049262</td>\n",
       "      <td>-1.915631</td>\n",
       "      <td>...</td>\n",
       "      <td>NaN</td>\n",
       "      <td>NaN</td>\n",
       "      <td>NaN</td>\n",
       "      <td>NaN</td>\n",
       "      <td>NaN</td>\n",
       "      <td>-0.091530</td>\n",
       "      <td>NaN</td>\n",
       "      <td>NaN</td>\n",
       "      <td>-1.151688</td>\n",
       "      <td>NaN</td>\n",
       "    </tr>\n",
       "    <tr>\n",
       "      <th>4</th>\n",
       "      <td>OS2006_149</td>\n",
       "      <td>Feminin</td>\n",
       "      <td>15.91</td>\n",
       "      <td>8.0</td>\n",
       "      <td>1.0</td>\n",
       "      <td>0.0</td>\n",
       "      <td>0.047129</td>\n",
       "      <td>0.094966</td>\n",
       "      <td>0.124527</td>\n",
       "      <td>1.828972</td>\n",
       "      <td>...</td>\n",
       "      <td>NaN</td>\n",
       "      <td>NaN</td>\n",
       "      <td>NaN</td>\n",
       "      <td>NaN</td>\n",
       "      <td>NaN</td>\n",
       "      <td>NaN</td>\n",
       "      <td>0.016699</td>\n",
       "      <td>NaN</td>\n",
       "      <td>NaN</td>\n",
       "      <td>0.504069</td>\n",
       "    </tr>\n",
       "  </tbody>\n",
       "</table>\n",
       "<p>5 rows × 16020 columns</p>\n",
       "</div>"
      ],
      "text/plain": [
       "   patient_id       sex    age  htum  relapse  etat2  \\\n",
       "0    OS2006_1   Feminin  17.58  10.6      0.0    0.0   \n",
       "1   OS2006_10  Masculin  14.51  11.1      0.0    1.0   \n",
       "2   OS2006_11  Masculin  18.83   7.0      0.0    0.0   \n",
       "3   OS2006_12   Feminin  11.69  12.4      0.0    0.0   \n",
       "4  OS2006_149   Feminin  15.91   8.0      1.0    0.0   \n",
       "\n",
       "   1:1000001-2000000_ratio_AVANT_CHIR  1:1000001-2000000_ratio_DIAG  \\\n",
       "0                            0.018393                      0.016137   \n",
       "1                            0.061683                     -0.073297   \n",
       "2                            0.001686                      0.044181   \n",
       "3                           -0.109241                     -0.112703   \n",
       "4                            0.047129                      0.094966   \n",
       "\n",
       "   1:1000001-2000000_ratio_FIN_TT  1:1000001-2000000_zscore_AVANT_CHIR  ...  \\\n",
       "0                        0.058340                             0.717335  ...   \n",
       "1                        0.049724                             2.439719  ...   \n",
       "2                        0.007257                             0.057659  ...   \n",
       "3                       -0.049262                            -1.915631  ...   \n",
       "4                        0.124527                             1.828972  ...   \n",
       "\n",
       "   Y:56000001-57000000_ratio_FIN_TT  Y:56000001-57000000_zscore_AVANT_CHIR  \\\n",
       "0                               NaN                                    NaN   \n",
       "1                         -0.067204                              -0.229573   \n",
       "2                          0.205231                               4.687495   \n",
       "3                               NaN                                    NaN   \n",
       "4                               NaN                                    NaN   \n",
       "\n",
       "   Y:56000001-57000000_zscore_DIAG  Y:56000001-57000000_zscore_FIN_TT  \\\n",
       "0                              NaN                                NaN   \n",
       "1                        -1.442374                          -1.568502   \n",
       "2                         4.854536                           7.090777   \n",
       "3                              NaN                                NaN   \n",
       "4                              NaN                                NaN   \n",
       "\n",
       "   8:76000001-77000000_ratio_AVANT_CHIR  8:76000001-77000000_ratio_DIAG  \\\n",
       "0                                   NaN                             NaN   \n",
       "1                                   NaN                             NaN   \n",
       "2                                   NaN                        0.044237   \n",
       "3                                   NaN                       -0.091530   \n",
       "4                                   NaN                             NaN   \n",
       "\n",
       "   8:76000001-77000000_ratio_FIN_TT  8:76000001-77000000_zscore_AVANT_CHIR  \\\n",
       "0                          0.042338                                    NaN   \n",
       "1                               NaN                                    NaN   \n",
       "2                               NaN                                    NaN   \n",
       "3                               NaN                                    NaN   \n",
       "4                          0.016699                                    NaN   \n",
       "\n",
       "   8:76000001-77000000_zscore_DIAG  8:76000001-77000000_zscore_FIN_TT  \n",
       "0                              NaN                           1.339005  \n",
       "1                              NaN                                NaN  \n",
       "2                         1.504716                                NaN  \n",
       "3                        -1.151688                                NaN  \n",
       "4                              NaN                           0.504069  \n",
       "\n",
       "[5 rows x 16020 columns]"
      ]
     },
     "execution_count": 24,
     "metadata": {},
     "output_type": "execute_result"
    }
   ],
   "source": [
    "data_all_time_points.head()"
   ]
  },
  {
   "cell_type": "code",
   "execution_count": 25,
   "id": "1aec920f-6dce-4381-875a-3634f7a470d7",
   "metadata": {},
   "outputs": [],
   "source": [
    "data_diag = pd.merge(metadata_df, patient_diag_time_point_df, on=['patient_id', 'time_point'], how='right')\n",
    "data_chir = pd.merge(metadata_df, patient_chir_time_point_df, on=['patient_id', 'time_point'], how='right')\n",
    "data_end = pd.merge(metadata_df, patient_end_time_point_df, on=['patient_id', 'time_point'], how='right')"
   ]
  },
  {
   "cell_type": "code",
   "execution_count": 26,
   "id": "77a3fd5b-0098-4080-bd6a-be727a7e6472",
   "metadata": {},
   "outputs": [
    {
     "data": {
      "text/html": [
       "<div>\n",
       "<style scoped>\n",
       "    .dataframe tbody tr th:only-of-type {\n",
       "        vertical-align: middle;\n",
       "    }\n",
       "\n",
       "    .dataframe tbody tr th {\n",
       "        vertical-align: top;\n",
       "    }\n",
       "\n",
       "    .dataframe thead th {\n",
       "        text-align: right;\n",
       "    }\n",
       "</style>\n",
       "<table border=\"1\" class=\"dataframe\">\n",
       "  <thead>\n",
       "    <tr style=\"text-align: right;\">\n",
       "      <th></th>\n",
       "      <th>CPA</th>\n",
       "      <th>Nb.Reads</th>\n",
       "      <th>sex</th>\n",
       "      <th>age</th>\n",
       "      <th>htum</th>\n",
       "      <th>relapse</th>\n",
       "      <th>etat2</th>\n",
       "      <th>patient_id</th>\n",
       "      <th>time_point</th>\n",
       "      <th>time_OS</th>\n",
       "      <th>...</th>\n",
       "      <th>Y:20000001-21000000_ratio</th>\n",
       "      <th>Y:20000001-21000000_zscore</th>\n",
       "      <th>Y:21000001-22000000_ratio</th>\n",
       "      <th>Y:21000001-22000000_zscore</th>\n",
       "      <th>Y:56000001-57000000_ratio</th>\n",
       "      <th>Y:56000001-57000000_zscore</th>\n",
       "      <th>2:225000001-226000000_ratio</th>\n",
       "      <th>2:225000001-226000000_zscore</th>\n",
       "      <th>8:76000001-77000000_ratio</th>\n",
       "      <th>8:76000001-77000000_zscore</th>\n",
       "    </tr>\n",
       "  </thead>\n",
       "  <tbody>\n",
       "    <tr>\n",
       "      <th>0</th>\n",
       "      <td>0.17828</td>\n",
       "      <td>7557775.0</td>\n",
       "      <td>Feminin</td>\n",
       "      <td>46.16</td>\n",
       "      <td>4.1</td>\n",
       "      <td>1.0</td>\n",
       "      <td>1.0</td>\n",
       "      <td>OS2006_273</td>\n",
       "      <td>DIAG</td>\n",
       "      <td>1966.0</td>\n",
       "      <td>...</td>\n",
       "      <td>NaN</td>\n",
       "      <td>NaN</td>\n",
       "      <td>NaN</td>\n",
       "      <td>NaN</td>\n",
       "      <td>NaN</td>\n",
       "      <td>NaN</td>\n",
       "      <td>NaN</td>\n",
       "      <td>NaN</td>\n",
       "      <td>NaN</td>\n",
       "      <td>NaN</td>\n",
       "    </tr>\n",
       "    <tr>\n",
       "      <th>1</th>\n",
       "      <td>0.20886</td>\n",
       "      <td>2062129.0</td>\n",
       "      <td>Masculin</td>\n",
       "      <td>15.93</td>\n",
       "      <td>13.3</td>\n",
       "      <td>0.0</td>\n",
       "      <td>0.0</td>\n",
       "      <td>OS2006_20</td>\n",
       "      <td>DIAG</td>\n",
       "      <td>2017.0</td>\n",
       "      <td>...</td>\n",
       "      <td>-0.075287</td>\n",
       "      <td>-0.983087</td>\n",
       "      <td>-0.061387</td>\n",
       "      <td>-0.743372</td>\n",
       "      <td>0.030197</td>\n",
       "      <td>0.363847</td>\n",
       "      <td>NaN</td>\n",
       "      <td>NaN</td>\n",
       "      <td>NaN</td>\n",
       "      <td>NaN</td>\n",
       "    </tr>\n",
       "    <tr>\n",
       "      <th>2</th>\n",
       "      <td>0.90081</td>\n",
       "      <td>39551556.0</td>\n",
       "      <td>Masculin</td>\n",
       "      <td>13.64</td>\n",
       "      <td>11.0</td>\n",
       "      <td>1.0</td>\n",
       "      <td>1.0</td>\n",
       "      <td>OS2006_37</td>\n",
       "      <td>DIAG</td>\n",
       "      <td>743.0</td>\n",
       "      <td>...</td>\n",
       "      <td>0.068260</td>\n",
       "      <td>0.667947</td>\n",
       "      <td>0.142330</td>\n",
       "      <td>1.608445</td>\n",
       "      <td>-0.451219</td>\n",
       "      <td>-5.174899</td>\n",
       "      <td>NaN</td>\n",
       "      <td>NaN</td>\n",
       "      <td>NaN</td>\n",
       "      <td>NaN</td>\n",
       "    </tr>\n",
       "    <tr>\n",
       "      <th>3</th>\n",
       "      <td>0.78868</td>\n",
       "      <td>51066283.0</td>\n",
       "      <td>Masculin</td>\n",
       "      <td>15.75</td>\n",
       "      <td>12.0</td>\n",
       "      <td>1.0</td>\n",
       "      <td>0.0</td>\n",
       "      <td>OS2006_320</td>\n",
       "      <td>DIAG</td>\n",
       "      <td>2307.0</td>\n",
       "      <td>...</td>\n",
       "      <td>-0.368986</td>\n",
       "      <td>-3.677375</td>\n",
       "      <td>-0.312518</td>\n",
       "      <td>-3.143064</td>\n",
       "      <td>-0.033962</td>\n",
       "      <td>-0.449842</td>\n",
       "      <td>NaN</td>\n",
       "      <td>NaN</td>\n",
       "      <td>NaN</td>\n",
       "      <td>NaN</td>\n",
       "    </tr>\n",
       "    <tr>\n",
       "      <th>4</th>\n",
       "      <td>0.83122</td>\n",
       "      <td>1664501.0</td>\n",
       "      <td>Masculin</td>\n",
       "      <td>8.40</td>\n",
       "      <td>6.8</td>\n",
       "      <td>1.0</td>\n",
       "      <td>1.0</td>\n",
       "      <td>OS2006_504</td>\n",
       "      <td>DIAG</td>\n",
       "      <td>423.0</td>\n",
       "      <td>...</td>\n",
       "      <td>-0.216662</td>\n",
       "      <td>-2.878748</td>\n",
       "      <td>-0.087349</td>\n",
       "      <td>-1.327402</td>\n",
       "      <td>-0.082043</td>\n",
       "      <td>-1.076253</td>\n",
       "      <td>-0.154327</td>\n",
       "      <td>-2.448759</td>\n",
       "      <td>NaN</td>\n",
       "      <td>NaN</td>\n",
       "    </tr>\n",
       "  </tbody>\n",
       "</table>\n",
       "<p>5 rows × 5349 columns</p>\n",
       "</div>"
      ],
      "text/plain": [
       "       CPA    Nb.Reads       sex    age  htum  relapse  etat2  patient_id  \\\n",
       "0  0.17828   7557775.0   Feminin  46.16   4.1      1.0    1.0  OS2006_273   \n",
       "1  0.20886   2062129.0  Masculin  15.93  13.3      0.0    0.0   OS2006_20   \n",
       "2  0.90081  39551556.0  Masculin  13.64  11.0      1.0    1.0   OS2006_37   \n",
       "3  0.78868  51066283.0  Masculin  15.75  12.0      1.0    0.0  OS2006_320   \n",
       "4  0.83122   1664501.0  Masculin   8.40   6.8      1.0    1.0  OS2006_504   \n",
       "\n",
       "  time_point  time_OS  ...  Y:20000001-21000000_ratio  \\\n",
       "0       DIAG   1966.0  ...                        NaN   \n",
       "1       DIAG   2017.0  ...                  -0.075287   \n",
       "2       DIAG    743.0  ...                   0.068260   \n",
       "3       DIAG   2307.0  ...                  -0.368986   \n",
       "4       DIAG    423.0  ...                  -0.216662   \n",
       "\n",
       "   Y:20000001-21000000_zscore  Y:21000001-22000000_ratio  \\\n",
       "0                         NaN                        NaN   \n",
       "1                   -0.983087                  -0.061387   \n",
       "2                    0.667947                   0.142330   \n",
       "3                   -3.677375                  -0.312518   \n",
       "4                   -2.878748                  -0.087349   \n",
       "\n",
       "   Y:21000001-22000000_zscore  Y:56000001-57000000_ratio  \\\n",
       "0                         NaN                        NaN   \n",
       "1                   -0.743372                   0.030197   \n",
       "2                    1.608445                  -0.451219   \n",
       "3                   -3.143064                  -0.033962   \n",
       "4                   -1.327402                  -0.082043   \n",
       "\n",
       "   Y:56000001-57000000_zscore  2:225000001-226000000_ratio  \\\n",
       "0                         NaN                          NaN   \n",
       "1                    0.363847                          NaN   \n",
       "2                   -5.174899                          NaN   \n",
       "3                   -0.449842                          NaN   \n",
       "4                   -1.076253                    -0.154327   \n",
       "\n",
       "   2:225000001-226000000_zscore  8:76000001-77000000_ratio  \\\n",
       "0                           NaN                        NaN   \n",
       "1                           NaN                        NaN   \n",
       "2                           NaN                        NaN   \n",
       "3                           NaN                        NaN   \n",
       "4                     -2.448759                        NaN   \n",
       "\n",
       "   8:76000001-77000000_zscore  \n",
       "0                         NaN  \n",
       "1                         NaN  \n",
       "2                         NaN  \n",
       "3                         NaN  \n",
       "4                         NaN  \n",
       "\n",
       "[5 rows x 5349 columns]"
      ]
     },
     "execution_count": 26,
     "metadata": {},
     "output_type": "execute_result"
    }
   ],
   "source": [
    "data_diag.head()"
   ]
  },
  {
   "cell_type": "code",
   "execution_count": 111,
   "id": "96c7e74d-0434-47a3-8977-f911595acaad",
   "metadata": {},
   "outputs": [],
   "source": [
    "join_columns = ['patient_id', 'sex', 'age', 'htum', 'relapse']\n",
    "columns_to_keep = join_columns + ['CPA']\n",
    "\n",
    "metadata_diag = metadata_df.loc[metadata_df['time_point'] == 'DIAG', columns_to_keep]\n",
    "metadata_diag.rename(columns={'CPA': 'CPA_DIAG'}, inplace=True)\n",
    "\n",
    "metadata_chir = metadata_df.loc[metadata_df['time_point'] == 'AVANT_CHIR', columns_to_keep]\n",
    "metadata_chir.rename(columns={'CPA': 'CPA_AVANT_CHIR'}, inplace=True)\n",
    "\n",
    "metadata_end = metadata_df.loc[metadata_df['time_point'] == 'FIN_TT', columns_to_keep]\n",
    "metadata_end.rename(columns={'CPA': 'CPA_FIN_TT'}, inplace=True)\n",
    "\n",
    "metadata_patients_all_time_points = pd.merge(metadata_diag, metadata_chir, how='inner', on=join_columns)\n",
    "metadata_patients_all_time_points = pd.merge(metadata_patients_all_time_points, metadata_end, how='inner', on=join_columns)"
   ]
  },
  {
   "cell_type": "code",
   "execution_count": 106,
   "id": "8b0ec1d9-c83c-44f6-9053-618a542569dd",
   "metadata": {},
   "outputs": [
    {
     "data": {
      "text/html": [
       "<div>\n",
       "<style scoped>\n",
       "    .dataframe tbody tr th:only-of-type {\n",
       "        vertical-align: middle;\n",
       "    }\n",
       "\n",
       "    .dataframe tbody tr th {\n",
       "        vertical-align: top;\n",
       "    }\n",
       "\n",
       "    .dataframe thead th {\n",
       "        text-align: right;\n",
       "    }\n",
       "</style>\n",
       "<table border=\"1\" class=\"dataframe\">\n",
       "  <thead>\n",
       "    <tr style=\"text-align: right;\">\n",
       "      <th></th>\n",
       "      <th>patient_id</th>\n",
       "      <th>sex</th>\n",
       "      <th>age</th>\n",
       "      <th>htum</th>\n",
       "      <th>CPA_DIAG</th>\n",
       "      <th>CPA_AVANT_CHIR</th>\n",
       "      <th>CPA_FIN_TT</th>\n",
       "    </tr>\n",
       "  </thead>\n",
       "  <tbody>\n",
       "    <tr>\n",
       "      <th>0</th>\n",
       "      <td>OS2006_424</td>\n",
       "      <td>Feminin</td>\n",
       "      <td>12.91</td>\n",
       "      <td>9.3</td>\n",
       "      <td>1.73994</td>\n",
       "      <td>0.14075</td>\n",
       "      <td>0.16581</td>\n",
       "    </tr>\n",
       "    <tr>\n",
       "      <th>1</th>\n",
       "      <td>OS2006_489</td>\n",
       "      <td>Feminin</td>\n",
       "      <td>10.17</td>\n",
       "      <td>13.0</td>\n",
       "      <td>1.38208</td>\n",
       "      <td>0.22717</td>\n",
       "      <td>0.21355</td>\n",
       "    </tr>\n",
       "    <tr>\n",
       "      <th>2</th>\n",
       "      <td>OS2006_543</td>\n",
       "      <td>Feminin</td>\n",
       "      <td>15.62</td>\n",
       "      <td>15.0</td>\n",
       "      <td>1.37484</td>\n",
       "      <td>0.16444</td>\n",
       "      <td>0.17992</td>\n",
       "    </tr>\n",
       "    <tr>\n",
       "      <th>3</th>\n",
       "      <td>OS2006_252</td>\n",
       "      <td>Feminin</td>\n",
       "      <td>12.10</td>\n",
       "      <td>6.7</td>\n",
       "      <td>1.31617</td>\n",
       "      <td>0.25735</td>\n",
       "      <td>0.14705</td>\n",
       "    </tr>\n",
       "    <tr>\n",
       "      <th>4</th>\n",
       "      <td>OS2006_430</td>\n",
       "      <td>Feminin</td>\n",
       "      <td>8.25</td>\n",
       "      <td>7.0</td>\n",
       "      <td>1.25124</td>\n",
       "      <td>0.25564</td>\n",
       "      <td>0.16828</td>\n",
       "    </tr>\n",
       "  </tbody>\n",
       "</table>\n",
       "</div>"
      ],
      "text/plain": [
       "   patient_id      sex    age  htum  CPA_DIAG  CPA_AVANT_CHIR  CPA_FIN_TT\n",
       "0  OS2006_424  Feminin  12.91   9.3   1.73994         0.14075     0.16581\n",
       "1  OS2006_489  Feminin  10.17  13.0   1.38208         0.22717     0.21355\n",
       "2  OS2006_543  Feminin  15.62  15.0   1.37484         0.16444     0.17992\n",
       "3  OS2006_252  Feminin  12.10   6.7   1.31617         0.25735     0.14705\n",
       "4  OS2006_430  Feminin   8.25   7.0   1.25124         0.25564     0.16828"
      ]
     },
     "execution_count": 106,
     "metadata": {},
     "output_type": "execute_result"
    }
   ],
   "source": [
    "metadata_patients_all_time_points.head()"
   ]
  },
  {
   "cell_type": "markdown",
   "id": "745c03bb-f56b-49f7-8869-4af3562cf94e",
   "metadata": {},
   "source": [
    "# Data Analysis\n",
    "## Metadata\n",
    "### General infos"
   ]
  },
  {
   "cell_type": "code",
   "execution_count": 28,
   "id": "432167b4-9fa5-4543-85f1-16b0d92402c7",
   "metadata": {},
   "outputs": [
    {
     "data": {
      "text/html": [
       "<div>\n",
       "<style scoped>\n",
       "    .dataframe tbody tr th:only-of-type {\n",
       "        vertical-align: middle;\n",
       "    }\n",
       "\n",
       "    .dataframe tbody tr th {\n",
       "        vertical-align: top;\n",
       "    }\n",
       "\n",
       "    .dataframe thead th {\n",
       "        text-align: right;\n",
       "    }\n",
       "</style>\n",
       "<table border=\"1\" class=\"dataframe\">\n",
       "  <thead>\n",
       "    <tr style=\"text-align: right;\">\n",
       "      <th></th>\n",
       "      <th>CPA</th>\n",
       "      <th>Nb.Reads</th>\n",
       "      <th>age</th>\n",
       "      <th>htum</th>\n",
       "      <th>relapse</th>\n",
       "      <th>etat2</th>\n",
       "      <th>time_OS</th>\n",
       "      <th>time_PFS</th>\n",
       "    </tr>\n",
       "  </thead>\n",
       "  <tbody>\n",
       "    <tr>\n",
       "      <th>count</th>\n",
       "      <td>463.000000</td>\n",
       "      <td>4.630000e+02</td>\n",
       "      <td>463.000000</td>\n",
       "      <td>446.000000</td>\n",
       "      <td>463.000000</td>\n",
       "      <td>463.000000</td>\n",
       "      <td>451.000000</td>\n",
       "      <td>186.000000</td>\n",
       "    </tr>\n",
       "    <tr>\n",
       "      <th>mean</th>\n",
       "      <td>0.302289</td>\n",
       "      <td>1.908883e+07</td>\n",
       "      <td>15.149201</td>\n",
       "      <td>10.908969</td>\n",
       "      <td>0.399568</td>\n",
       "      <td>0.263499</td>\n",
       "      <td>1492.558758</td>\n",
       "      <td>594.236559</td>\n",
       "    </tr>\n",
       "    <tr>\n",
       "      <th>std</th>\n",
       "      <td>0.286295</td>\n",
       "      <td>1.458161e+07</td>\n",
       "      <td>5.881494</td>\n",
       "      <td>4.838201</td>\n",
       "      <td>0.490339</td>\n",
       "      <td>0.441007</td>\n",
       "      <td>754.932820</td>\n",
       "      <td>409.957226</td>\n",
       "    </tr>\n",
       "    <tr>\n",
       "      <th>min</th>\n",
       "      <td>0.074450</td>\n",
       "      <td>8.727000e+03</td>\n",
       "      <td>4.710000</td>\n",
       "      <td>1.300000</td>\n",
       "      <td>0.000000</td>\n",
       "      <td>0.000000</td>\n",
       "      <td>181.000000</td>\n",
       "      <td>46.000000</td>\n",
       "    </tr>\n",
       "    <tr>\n",
       "      <th>25%</th>\n",
       "      <td>0.156005</td>\n",
       "      <td>7.760510e+06</td>\n",
       "      <td>11.710000</td>\n",
       "      <td>7.525000</td>\n",
       "      <td>0.000000</td>\n",
       "      <td>0.000000</td>\n",
       "      <td>882.000000</td>\n",
       "      <td>357.500000</td>\n",
       "    </tr>\n",
       "    <tr>\n",
       "      <th>50%</th>\n",
       "      <td>0.196720</td>\n",
       "      <td>1.454245e+07</td>\n",
       "      <td>14.370000</td>\n",
       "      <td>10.000000</td>\n",
       "      <td>0.000000</td>\n",
       "      <td>0.000000</td>\n",
       "      <td>1352.000000</td>\n",
       "      <td>525.000000</td>\n",
       "    </tr>\n",
       "    <tr>\n",
       "      <th>75%</th>\n",
       "      <td>0.316125</td>\n",
       "      <td>2.877754e+07</td>\n",
       "      <td>16.915000</td>\n",
       "      <td>13.075000</td>\n",
       "      <td>1.000000</td>\n",
       "      <td>1.000000</td>\n",
       "      <td>2055.500000</td>\n",
       "      <td>669.000000</td>\n",
       "    </tr>\n",
       "    <tr>\n",
       "      <th>max</th>\n",
       "      <td>2.627000</td>\n",
       "      <td>1.195946e+08</td>\n",
       "      <td>50.410000</td>\n",
       "      <td>32.000000</td>\n",
       "      <td>1.000000</td>\n",
       "      <td>1.000000</td>\n",
       "      <td>3694.000000</td>\n",
       "      <td>2786.000000</td>\n",
       "    </tr>\n",
       "  </tbody>\n",
       "</table>\n",
       "</div>"
      ],
      "text/plain": [
       "              CPA      Nb.Reads         age        htum     relapse  \\\n",
       "count  463.000000  4.630000e+02  463.000000  446.000000  463.000000   \n",
       "mean     0.302289  1.908883e+07   15.149201   10.908969    0.399568   \n",
       "std      0.286295  1.458161e+07    5.881494    4.838201    0.490339   \n",
       "min      0.074450  8.727000e+03    4.710000    1.300000    0.000000   \n",
       "25%      0.156005  7.760510e+06   11.710000    7.525000    0.000000   \n",
       "50%      0.196720  1.454245e+07   14.370000   10.000000    0.000000   \n",
       "75%      0.316125  2.877754e+07   16.915000   13.075000    1.000000   \n",
       "max      2.627000  1.195946e+08   50.410000   32.000000    1.000000   \n",
       "\n",
       "            etat2      time_OS     time_PFS  \n",
       "count  463.000000   451.000000   186.000000  \n",
       "mean     0.263499  1492.558758   594.236559  \n",
       "std      0.441007   754.932820   409.957226  \n",
       "min      0.000000   181.000000    46.000000  \n",
       "25%      0.000000   882.000000   357.500000  \n",
       "50%      0.000000  1352.000000   525.000000  \n",
       "75%      1.000000  2055.500000   669.000000  \n",
       "max      1.000000  3694.000000  2786.000000  "
      ]
     },
     "execution_count": 28,
     "metadata": {},
     "output_type": "execute_result"
    }
   ],
   "source": [
    "metadata_df.describe()"
   ]
  },
  {
   "cell_type": "code",
   "execution_count": 29,
   "id": "8bb72d0a-2f75-4944-b9ba-0890e5faae76",
   "metadata": {},
   "outputs": [
    {
     "data": {
      "text/plain": [
       "DIAG          174\n",
       "AVANT_CHIR    142\n",
       "FIN_TT        141\n",
       "1_AN            6\n",
       "Name: time_point, dtype: int64"
      ]
     },
     "execution_count": 29,
     "metadata": {},
     "output_type": "execute_result"
    }
   ],
   "source": [
    "metadata_df['time_point'].value_counts()"
   ]
  },
  {
   "cell_type": "code",
   "execution_count": 30,
   "id": "87012e27-d8b2-43ab-9ce9-e524b666c284",
   "metadata": {},
   "outputs": [
    {
     "data": {
      "text/plain": [
       "Masculin    246\n",
       "Feminin     217\n",
       "Name: sex, dtype: int64"
      ]
     },
     "execution_count": 30,
     "metadata": {},
     "output_type": "execute_result"
    }
   ],
   "source": [
    "metadata_df['sex'].value_counts()"
   ]
  },
  {
   "cell_type": "markdown",
   "id": "df63c9e1-901b-45ee-829d-ea56d5c9e011",
   "metadata": {},
   "source": [
    "### CPA VS Relapse"
   ]
  },
  {
   "cell_type": "code",
   "execution_count": 78,
   "id": "b51e797c-d3bd-4d60-80f9-ccc9e93560fb",
   "metadata": {},
   "outputs": [],
   "source": [
    "def hist_by_time_point(metadata : pd.DataFrame, column_name: str, bins: np.array) -> None:\n",
    "    data_diag = metadata.loc[metadata['time_point'] == 'DIAG', column_name]\n",
    "    data_chir = metadata_df.loc[metadata['time_point'] == 'AVANT_CHIR', column_name]\n",
    "    data_end = metadata.loc[metadata['time_point'] == 'FIN_TT', column_name]\n",
    "\n",
    "    plt.figure(figsize=(10, 5))\n",
    "    plt.hist(data_diag, bins=bins, alpha=0.5, label='DIAG')\n",
    "    plt.hist(data_chir, bins=bins, alpha=0.5, label='AVANT_CHIR')\n",
    "    plt.hist(data_end, bins=bins, alpha=0.5, label='FIN_TT')\n",
    "    plt.title(f'histogram of {column_name} per timepoint')\n",
    "    plt.legend(loc='upper right')\n",
    "    plt.show()\n",
    "\n",
    "\n",
    "def hist_one_time_point(metadata : pd.DataFrame, column_name: str, bins: np.array, time_point:str) -> None:\n",
    "    data_diag_relapse = metadata.loc[(metadata['time_point'] == time_point) & (metadata['relapse'] == 1), column_name]\n",
    "    data_diag_no_relapse = metadata.loc[(metadata['time_point'] == time_point) & (metadata['relapse'] == 0), column_name]\n",
    "\n",
    "    plt.figure(figsize=(10, 5))\n",
    "    plt.hist(data_diag_relapse, bins=bins, alpha=0.5, label='RELAPSE', color='r')\n",
    "    plt.hist(data_diag_no_relapse, bins=bins, alpha=0.5, label='NO RELAPSE', color='g')\n",
    "    plt.title(f'histogram for {column_name} of  at {time_point} relapse vs no relapse')\n",
    "    plt.legend(loc='upper right')\n",
    "    plt.show()"
   ]
  },
  {
   "cell_type": "code",
   "execution_count": 77,
   "id": "38c7b783-bffc-48cc-8cca-d12002ca0d2a",
   "metadata": {},
   "outputs": [
    {
     "data": {
      "image/png": "[encoded data removed]",
      "text/plain": [
       "<Figure size 720x360 with 1 Axes>"
      ]
     },
     "metadata": {
      "needs_background": "light"
     },
     "output_type": "display_data"
    }
   ],
   "source": [
    "bins = np.linspace(0, 2.7, 50)\n",
    "hist_by_time_point(metadata_df, 'CPA', bins)"
   ]
  },
  {
   "cell_type": "code",
   "execution_count": 79,
   "id": "8b57c2da-7964-4d34-a0c4-d0ba33e9077a",
   "metadata": {},
   "outputs": [
    {
     "data": {
      "image/png": "[encoded data removed]",
      "text/plain": [
       "<Figure size 720x360 with 1 Axes>"
      ]
     },
     "metadata": {
      "needs_background": "light"
     },
     "output_type": "display_data"
    }
   ],
   "source": [
    "bins = np.linspace(0, 2.7, 50)\n",
    "hist_one_time_point(metadata_df, 'CPA', bins, 'DIAG')"
   ]
  },
  {
   "cell_type": "code",
   "execution_count": 82,
   "id": "aaf45bcd-524c-4038-b699-68dc2aa125a6",
   "metadata": {},
   "outputs": [
    {
     "data": {
      "image/png": "[encoded data removed]",
      "text/plain": [
       "<Figure size 720x360 with 1 Axes>"
      ]
     },
     "metadata": {
      "needs_background": "light"
     },
     "output_type": "display_data"
    }
   ],
   "source": [
    "bins = np.linspace(0, 1.8, 50)\n",
    "hist_one_time_point(metadata_df, 'CPA', bins, 'AVANT_CHIR')"
   ]
  },
  {
   "cell_type": "code",
   "execution_count": 84,
   "id": "95c13d28-37ef-46ae-873d-7eb031d98d29",
   "metadata": {},
   "outputs": [
    {
     "data": {
      "image/png": "[encoded data removed]",
      "text/plain": [
       "<Figure size 720x360 with 1 Axes>"
      ]
     },
     "metadata": {
      "needs_background": "light"
     },
     "output_type": "display_data"
    }
   ],
   "source": [
    "bins = np.linspace(0, 2.2, 50)\n",
    "hist_one_time_point(metadata_df, 'CPA', bins, 'FIN_TT')"
   ]
  },
  {
   "cell_type": "markdown",
   "id": "1711c0ee-08c6-4b5a-9e17-a45883ad3cad",
   "metadata": {},
   "source": [
    "### Htum VS Relapse"
   ]
  },
  {
   "cell_type": "code",
   "execution_count": 108,
   "id": "e0e1a8e7-4c71-4a4d-a36d-f8c2d8656ed6",
   "metadata": {},
   "outputs": [
    {
     "data": {
      "image/png": "[encoded data removed]",
      "text/plain": [
       "<Figure size 720x360 with 1 Axes>"
      ]
     },
     "metadata": {
      "needs_background": "light"
     },
     "output_type": "display_data"
    }
   ],
   "source": [
    "bins = np.linspace(1, 32, 50)\n",
    "hist_one_time_point(metadata_df, 'htum', bins, 'DIAG')"
   ]
  },
  {
   "cell_type": "markdown",
   "id": "549d63c4-e903-4e0b-9f23-81d91ff06f20",
   "metadata": {},
   "source": [
    "### Age vs relapse"
   ]
  },
  {
   "cell_type": "code",
   "execution_count": 90,
   "id": "d7dfbbab-012c-4df4-a245-27ed7fcd6d3d",
   "metadata": {},
   "outputs": [
    {
     "data": {
      "image/png": "[encoded data removed]",
      "text/plain": [
       "<Figure size 720x360 with 1 Axes>"
      ]
     },
     "metadata": {
      "needs_background": "light"
     },
     "output_type": "display_data"
    }
   ],
   "source": [
    "bins = np.linspace(4, 51, 20)\n",
    "hist_one_time_point(metadata_df, 'htum', bins, 'DIAG')"
   ]
  },
  {
   "cell_type": "markdown",
   "id": "ed87c191-c0ac-4396-8ff3-f71c6992c5ce",
   "metadata": {},
   "source": [
    "## Outliers"
   ]
  },
  {
   "cell_type": "code",
   "execution_count": 91,
   "id": "76921d71-4d0d-49d0-b121-1a1eea5215f5",
   "metadata": {},
   "outputs": [
    {
     "data": {
      "text/plain": [
       "132     OS2006_34\n",
       "518    OS2006_548\n",
       "Name: patient_id, dtype: object"
      ]
     },
     "execution_count": 91,
     "metadata": {},
     "output_type": "execute_result"
    }
   ],
   "source": [
    "metadata_df.loc[metadata_df['CPA'] > 2, 'patient_id']"
   ]
  },
  {
   "cell_type": "code",
   "execution_count": 92,
   "id": "590f5b65-a135-40df-abf6-3cfc2576a1a7",
   "metadata": {},
   "outputs": [
    {
     "data": {
      "text/plain": [
       "236    OS2006_20\n",
       "Name: patient_id, dtype: object"
      ]
     },
     "execution_count": 92,
     "metadata": {},
     "output_type": "execute_result"
    }
   ],
   "source": [
    "metadata_df.loc[(metadata_df['CPA'] > 1.5) & (metadata_df['time_point'] == 'AVANT_CHIR'), 'patient_id']"
   ]
  },
  {
   "cell_type": "code",
   "execution_count": 109,
   "id": "dc62ab45-96f9-4a05-b461-5844ac4d7354",
   "metadata": {
    "tags": []
   },
   "outputs": [],
   "source": [
    "outliers_ids = ['OS2006_34', 'OS2006_548', 'OS2006_20']"
   ]
  },
  {
   "cell_type": "markdown",
   "id": "92feb076-c718-4330-a491-9fdc11bd65e4",
   "metadata": {},
   "source": [
    "# ML models on metadata\n",
    "## Compute features"
   ]
  },
  {
   "cell_type": "code",
   "execution_count": 112,
   "id": "d42fb5db-b22b-4611-ab2f-5737a83ebd99",
   "metadata": {},
   "outputs": [
    {
     "data": {
      "text/html": [
       "<div>\n",
       "<style scoped>\n",
       "    .dataframe tbody tr th:only-of-type {\n",
       "        vertical-align: middle;\n",
       "    }\n",
       "\n",
       "    .dataframe tbody tr th {\n",
       "        vertical-align: top;\n",
       "    }\n",
       "\n",
       "    .dataframe thead th {\n",
       "        text-align: right;\n",
       "    }\n",
       "</style>\n",
       "<table border=\"1\" class=\"dataframe\">\n",
       "  <thead>\n",
       "    <tr style=\"text-align: right;\">\n",
       "      <th></th>\n",
       "      <th>patient_id</th>\n",
       "      <th>sex</th>\n",
       "      <th>age</th>\n",
       "      <th>htum</th>\n",
       "      <th>relapse</th>\n",
       "      <th>CPA_DIAG</th>\n",
       "      <th>CPA_AVANT_CHIR</th>\n",
       "      <th>CPA_FIN_TT</th>\n",
       "    </tr>\n",
       "  </thead>\n",
       "  <tbody>\n",
       "    <tr>\n",
       "      <th>0</th>\n",
       "      <td>OS2006_424</td>\n",
       "      <td>Feminin</td>\n",
       "      <td>12.91</td>\n",
       "      <td>9.3</td>\n",
       "      <td>1</td>\n",
       "      <td>1.73994</td>\n",
       "      <td>0.14075</td>\n",
       "      <td>0.16581</td>\n",
       "    </tr>\n",
       "    <tr>\n",
       "      <th>1</th>\n",
       "      <td>OS2006_489</td>\n",
       "      <td>Feminin</td>\n",
       "      <td>10.17</td>\n",
       "      <td>13.0</td>\n",
       "      <td>1</td>\n",
       "      <td>1.38208</td>\n",
       "      <td>0.22717</td>\n",
       "      <td>0.21355</td>\n",
       "    </tr>\n",
       "    <tr>\n",
       "      <th>2</th>\n",
       "      <td>OS2006_543</td>\n",
       "      <td>Feminin</td>\n",
       "      <td>15.62</td>\n",
       "      <td>15.0</td>\n",
       "      <td>1</td>\n",
       "      <td>1.37484</td>\n",
       "      <td>0.16444</td>\n",
       "      <td>0.17992</td>\n",
       "    </tr>\n",
       "    <tr>\n",
       "      <th>3</th>\n",
       "      <td>OS2006_252</td>\n",
       "      <td>Feminin</td>\n",
       "      <td>12.10</td>\n",
       "      <td>6.7</td>\n",
       "      <td>0</td>\n",
       "      <td>1.31617</td>\n",
       "      <td>0.25735</td>\n",
       "      <td>0.14705</td>\n",
       "    </tr>\n",
       "    <tr>\n",
       "      <th>4</th>\n",
       "      <td>OS2006_430</td>\n",
       "      <td>Feminin</td>\n",
       "      <td>8.25</td>\n",
       "      <td>7.0</td>\n",
       "      <td>0</td>\n",
       "      <td>1.25124</td>\n",
       "      <td>0.25564</td>\n",
       "      <td>0.16828</td>\n",
       "    </tr>\n",
       "  </tbody>\n",
       "</table>\n",
       "</div>"
      ],
      "text/plain": [
       "   patient_id      sex    age  htum  relapse  CPA_DIAG  CPA_AVANT_CHIR  \\\n",
       "0  OS2006_424  Feminin  12.91   9.3        1   1.73994         0.14075   \n",
       "1  OS2006_489  Feminin  10.17  13.0        1   1.38208         0.22717   \n",
       "2  OS2006_543  Feminin  15.62  15.0        1   1.37484         0.16444   \n",
       "3  OS2006_252  Feminin  12.10   6.7        0   1.31617         0.25735   \n",
       "4  OS2006_430  Feminin   8.25   7.0        0   1.25124         0.25564   \n",
       "\n",
       "   CPA_FIN_TT  \n",
       "0     0.16581  \n",
       "1     0.21355  \n",
       "2     0.17992  \n",
       "3     0.14705  \n",
       "4     0.16828  "
      ]
     },
     "execution_count": 112,
     "metadata": {},
     "output_type": "execute_result"
    }
   ],
   "source": [
    "metadata_patients_all_time_points.head()"
   ]
  },
  {
   "cell_type": "code",
   "execution_count": 148,
   "id": "e3896232-1f0d-4dae-9985-f1c8e06e7700",
   "metadata": {},
   "outputs": [
    {
     "name": "stdout",
     "output_type": "stream",
     "text": [
      "Initial features shape : (113, 8)\n",
      "Features shape after some cleaning: (106, 8)\n"
     ]
    }
   ],
   "source": [
    "features = metadata_patients_all_time_points.copy()\n",
    "print(f'Initial features shape : {features.shape}')\n",
    "\n",
    "features['sex'] = features.apply(lambda x: 0 if x['sex'] == 'Feminin' else 1, axis=1)\n",
    "features = features[~features['patient_id'].isin(outliers_ids)]\n",
    "features.dropna(inplace=True, axis=0)\n",
    "features.reset_index(drop=True, inplace=True)\n",
    "\n",
    "print(f'Features shape after some cleaning: {features.shape}')\n",
    "\n",
    "label = 'relapse'\n",
    "labels = features[label]\n",
    "del features[label]\n",
    "del features['patient_id']"
   ]
  },
  {
   "cell_type": "code",
   "execution_count": 163,
   "id": "d5ec6f52-5082-4986-9791-81b2b716db3d",
   "metadata": {},
   "outputs": [],
   "source": [
    "features_to_scale = ['age', 'htum', 'CPA_DIAG', 'CPA_AVANT_CHIR', 'CPA_FIN_TT']\n",
    "\n",
    "skf = StratifiedKFold(n_splits=5)\n",
    "model = RandomForestClassifier()\n",
    "train_results = list()\n",
    "test_results = list()\n",
    "\n",
    "for train_index, test_index in skf.split(features, labels):\n",
    "    features_tmp_train = features.loc[train_index, :]\n",
    "    features_tmp_test = features.loc[test_index, :]\n",
    "\n",
    "    ss = StandardScaler()\n",
    "    features_tmp_train[features_to_scale] = ss.fit_transform(features_tmp_train[features_to_scale])\n",
    "    features_tmp_test[features_to_scale] = ss.transform(features_tmp_test[features_to_scale])\n",
    "    \n",
    "    model.fit(features_tmp_train, labels[train_index])\n",
    "    \n",
    "    y_train_pred = model.predict(features_tmp_train)\n",
    "    train_score = round(100 * accuracy_score(labels[train_index], y_train_pred), 1)\n",
    "    train_results.append(train_score)\n",
    "    \n",
    "    y_test_pred = model.predict(features_tmp_test)\n",
    "    test_score = round(100 * accuracy_score(labels[test_index], y_test_pred), 1)\n",
    "    test_results.append(test_score)"
   ]
  },
  {
   "cell_type": "code",
   "execution_count": 164,
   "id": "c54ef5a4-474e-4689-b933-d8f256898aba",
   "metadata": {},
   "outputs": [
    {
     "name": "stdout",
     "output_type": "stream",
     "text": [
      "Accuracy on train : [100.0, 100.0, 100.0, 100.0, 100.0]\n",
      "Accuracy on test : [40.9, 28.6, 23.8, 52.4, 61.9]\n"
     ]
    }
   ],
   "source": [
    "print(f'Accuracy on train : {train_results}')\n",
    "print(f'Accuracy on test : {test_results}')"
   ]
  },
  {
   "cell_type": "code",
   "execution_count": 158,
   "id": "7bad633c-7ab6-40ab-af86-a4978ae2bb73",
   "metadata": {},
   "outputs": [
    {
     "data": {
      "text/plain": [
       "[40.9, 76.2, 61.9, 66.7, 61.9]"
      ]
     },
     "execution_count": 158,
     "metadata": {},
     "output_type": "execute_result"
    }
   ],
   "source": [
    "test_results"
   ]
  },
  {
   "cell_type": "markdown",
   "id": "e21d75da-807f-4f2d-85f7-c5f7b4f37e17",
   "metadata": {
    "tags": []
   },
   "source": [
    "# Plot PCA of raw data"
   ]
  },
  {
   "cell_type": "code",
   "execution_count": 26,
   "id": "39eafff8-6373-41c3-87cd-fb411a5c726b",
   "metadata": {},
   "outputs": [],
   "source": [
    "def remove_x_and_y_chrom(features: pd.DataFrame) -> pd.DataFrame:\n",
    "    return features[[x for x in features.columns if not (x.startswith('X:') or x.startswith('Y:'))]]\n",
    "\n",
    "def remove_row(data_with_label: pd.DataFrame, idx_rows: list) -> pd.DataFrame:\n",
    "    filtered_data_with_label = data_with_label.copy()\n",
    "    filtered_data_with_label = filtered_data_with_label[~filtered_data_with_label.index.isin(idx_rows)].reset_index(drop=True)\n",
    "        \n",
    "    return filtered_data_with_label"
   ]
  },
  {
   "cell_type": "code",
   "execution_count": 27,
   "id": "afd96d46-1dca-4c98-9c1d-72aac24a0e35",
   "metadata": {},
   "outputs": [],
   "source": [
    "def compute_features(data: pd.DataFrame) -> pd.DataFrame:\n",
    "    features = data[[x for x in data.columns if '_ratio' in x]]\n",
    "    features = remove_x_and_y_chrom(features)\n",
    "    features.fillna(0, inplace=True)\n",
    "    return features"
   ]
  },
  {
   "cell_type": "code",
   "execution_count": 28,
   "id": "7554cb89-e191-426b-acba-ed81be9c7edc",
   "metadata": {},
   "outputs": [],
   "source": [
    "def plot_data(data_with_label: pd.DataFrame, data_2_dims: np.array, time_point: str) -> None:\n",
    "    plt.figure(figsize=(10,10))\n",
    "    targets = ['no relapse', 'relapse']\n",
    "    colors = ['g', 'r']\n",
    "    plt.title(f'Plot of each patient : {time_point}', fontsize=20)\n",
    "\n",
    "    for target, color in zip(targets, colors):\n",
    "        idx_target = targets.index(target)\n",
    "        idx_to_keep = data_with_label[data_with_label['relapse'] == idx_target].index.tolist()\n",
    "        plt.scatter(data_2_dims[idx_to_keep, 0],\n",
    "                    data_2_dims[idx_to_keep, 1], \n",
    "                    c=color, s=50)\n",
    "\n",
    "    plt.legend(targets,prop={'size': 15})\n",
    "    plt.show()"
   ]
  },
  {
   "cell_type": "code",
   "execution_count": 29,
   "id": "f6d84495-1d07-4cbd-8d77-8298bb92e22c",
   "metadata": {},
   "outputs": [],
   "source": [
    "def plot_pca(data_with_label: pd.DataFrame, time_point: str, idx_rows_to_remove: list = None) -> None:\n",
    "    if idx_rows_to_remove is not None:\n",
    "        data_with_label = remove_row(data_with_label, idx_rows_to_remove)\n",
    "    features = compute_features(data_with_label)\n",
    "    pca_2 = PCA(n_components=2)\n",
    "    features_2 = pca_2.fit_transform(features)\n",
    "    plot_data(data_with_label, features_2, time_point)"
   ]
  },
  {
   "cell_type": "code",
   "execution_count": 30,
   "id": "8d9a0c9b-31f3-4aaf-a7f3-3bf7dfc3b1e1",
   "metadata": {},
   "outputs": [
    {
     "data": {
      "image/png": "[encoded data removed]",
      "text/plain": [
       "<Figure size 720x720 with 1 Axes>"
      ]
     },
     "metadata": {
      "needs_background": "light"
     },
     "output_type": "display_data"
    }
   ],
   "source": [
    "plot_pca(data_diag, 'DIAG')"
   ]
  },
  {
   "cell_type": "code",
   "execution_count": 31,
   "id": "4ede9280-c11d-4edc-a8bb-108acb71696f",
   "metadata": {},
   "outputs": [
    {
     "data": {
      "image/png": "[encoded data removed]",
      "text/plain": [
       "<Figure size 720x720 with 1 Axes>"
      ]
     },
     "metadata": {
      "needs_background": "light"
     },
     "output_type": "display_data"
    }
   ],
   "source": [
    "plot_pca(data_chir, 'CHIRG', idx_rows_to_remove=[1])"
   ]
  },
  {
   "cell_type": "code",
   "execution_count": 32,
   "id": "1726d390-5888-4689-acfc-28e31f4f4c6b",
   "metadata": {},
   "outputs": [
    {
     "data": {
      "image/png": "[encoded data removed]",
      "text/plain": [
       "<Figure size 720x720 with 1 Axes>"
      ]
     },
     "metadata": {
      "needs_background": "light"
     },
     "output_type": "display_data"
    }
   ],
   "source": [
    "plot_pca(data_end, 'FIN_TT', idx_rows_to_remove=[56])"
   ]
  },
  {
   "cell_type": "code",
   "execution_count": 33,
   "id": "91db777c-b116-45d3-8f66-e5e637be35e4",
   "metadata": {},
   "outputs": [
    {
     "data": {
      "image/png": "[encoded data removed]",
      "text/plain": [
       "<Figure size 720x720 with 1 Axes>"
      ]
     },
     "metadata": {
      "needs_background": "light"
     },
     "output_type": "display_data"
    }
   ],
   "source": [
    "plot_pca(data_all_time_points, 'ALL_TIME_POINTS', idx_rows_to_remove=[11, 83])"
   ]
  },
  {
   "cell_type": "markdown",
   "id": "ddf3c1e1-dc11-483d-8285-c9a95328297a",
   "metadata": {},
   "source": [
    "# Plot TSNE"
   ]
  },
  {
   "cell_type": "code",
   "execution_count": 34,
   "id": "abaa8ae7-7f76-4e82-ab14-3315255ee5ef",
   "metadata": {},
   "outputs": [],
   "source": [
    "def plot_tsne(data_with_label: pd.DataFrame, time_point: str, idx_rows_to_remove: list = None) -> None:\n",
    "    if idx_rows_to_remove is not None:\n",
    "        data_with_label = remove_row(data_with_label, idx_rows_to_remove)\n",
    "    features = compute_features(data_with_label)\n",
    "    tsne_2 = TSNE(n_components=2)\n",
    "    features_2 = tsne_2.fit_transform(features)\n",
    "\n",
    "    plot_data(data_with_label, features_2, time_point)"
   ]
  },
  {
   "cell_type": "code",
   "execution_count": 35,
   "id": "6ea5352e-0edd-44c7-808b-37dba1184997",
   "metadata": {},
   "outputs": [
    {
     "name": "stderr",
     "output_type": "stream",
     "text": [
      "/home/lhericourt/.local/lib/python3.8/site-packages/sklearn/manifold/_t_sne.py:780: FutureWarning: The default initialization in TSNE will change from 'random' to 'pca' in 1.2.\n",
      "  warnings.warn(\n",
      "/home/lhericourt/.local/lib/python3.8/site-packages/sklearn/manifold/_t_sne.py:790: FutureWarning: The default learning rate in TSNE will change from 200.0 to 'auto' in 1.2.\n",
      "  warnings.warn(\n"
     ]
    },
    {
     "data": {
      "image/png": "[encoded data removed]",
      "text/plain": [
       "<Figure size 720x720 with 1 Axes>"
      ]
     },
     "metadata": {
      "needs_background": "light"
     },
     "output_type": "display_data"
    }
   ],
   "source": [
    "plot_tsne(data_diag, 'DIAG')"
   ]
  },
  {
   "cell_type": "code",
   "execution_count": 36,
   "id": "2a9ac260-6e60-4f82-a7c4-a08748fdbd8f",
   "metadata": {},
   "outputs": [
    {
     "name": "stderr",
     "output_type": "stream",
     "text": [
      "/home/lhericourt/.local/lib/python3.8/site-packages/sklearn/manifold/_t_sne.py:780: FutureWarning: The default initialization in TSNE will change from 'random' to 'pca' in 1.2.\n",
      "  warnings.warn(\n",
      "/home/lhericourt/.local/lib/python3.8/site-packages/sklearn/manifold/_t_sne.py:790: FutureWarning: The default learning rate in TSNE will change from 200.0 to 'auto' in 1.2.\n",
      "  warnings.warn(\n"
     ]
    },
    {
     "data": {
      "image/png": "[encoded data removed]",
      "text/plain": [
       "<Figure size 720x720 with 1 Axes>"
      ]
     },
     "metadata": {
      "needs_background": "light"
     },
     "output_type": "display_data"
    }
   ],
   "source": [
    "plot_tsne(data_chir, 'CHIRG', idx_rows_to_remove=[1])"
   ]
  },
  {
   "cell_type": "code",
   "execution_count": 37,
   "id": "2c732f4f-8417-4746-a460-e50356ba860d",
   "metadata": {},
   "outputs": [
    {
     "name": "stderr",
     "output_type": "stream",
     "text": [
      "/home/lhericourt/.local/lib/python3.8/site-packages/sklearn/manifold/_t_sne.py:780: FutureWarning: The default initialization in TSNE will change from 'random' to 'pca' in 1.2.\n",
      "  warnings.warn(\n",
      "/home/lhericourt/.local/lib/python3.8/site-packages/sklearn/manifold/_t_sne.py:790: FutureWarning: The default learning rate in TSNE will change from 200.0 to 'auto' in 1.2.\n",
      "  warnings.warn(\n"
     ]
    },
    {
     "data": {
      "image/png": "[encoded data removed]",
      "text/plain": [
       "<Figure size 720x720 with 1 Axes>"
      ]
     },
     "metadata": {
      "needs_background": "light"
     },
     "output_type": "display_data"
    }
   ],
   "source": [
    "plot_tsne(data_end, 'FIN_TT', idx_rows_to_remove=[56])"
   ]
  },
  {
   "cell_type": "code",
   "execution_count": 38,
   "id": "7cff7c33-b155-47ea-bf0c-9175efa4fdcf",
   "metadata": {},
   "outputs": [
    {
     "name": "stderr",
     "output_type": "stream",
     "text": [
      "/home/lhericourt/.local/lib/python3.8/site-packages/sklearn/manifold/_t_sne.py:780: FutureWarning: The default initialization in TSNE will change from 'random' to 'pca' in 1.2.\n",
      "  warnings.warn(\n",
      "/home/lhericourt/.local/lib/python3.8/site-packages/sklearn/manifold/_t_sne.py:790: FutureWarning: The default learning rate in TSNE will change from 200.0 to 'auto' in 1.2.\n",
      "  warnings.warn(\n"
     ]
    },
    {
     "data": {
      "image/png": "[encoded data removed]",
      "text/plain": [
       "<Figure size 720x720 with 1 Axes>"
      ]
     },
     "metadata": {
      "needs_background": "light"
     },
     "output_type": "display_data"
    }
   ],
   "source": [
    "plot_tsne(data_all_time_points, 'ALL_TIME_POINTS', idx_rows_to_remove=[11, 83])"
   ]
  },
  {
   "cell_type": "markdown",
   "id": "e2be24b4-78c1-4ed9-81c1-99302976a578",
   "metadata": {},
   "source": [
    "# Reduce nb features\n",
    "## Min, max, mean, var"
   ]
  },
  {
   "cell_type": "code",
   "execution_count": 39,
   "id": "8638fb69-40e3-46a5-8b9d-b261c5df29fd",
   "metadata": {},
   "outputs": [],
   "source": [
    "def aggregate_data_one_chromosome(chrom_nb: str, data: pd.Series, function: callable, score=str) -> float:\n",
    "    columns_chrom = [col_name for col_name in data.index if col_name.startswith(chrom_nb + ':') and col_name.endswith(score)]\n",
    "    return function(data[columns_chrom])"
   ]
  },
  {
   "cell_type": "code",
   "execution_count": 40,
   "id": "6a0a81d3-e6b9-4dbf-8104-3a4fd99c8d37",
   "metadata": {},
   "outputs": [
    {
     "data": {
      "text/html": [
       "<div>\n",
       "<style scoped>\n",
       "    .dataframe tbody tr th:only-of-type {\n",
       "        vertical-align: middle;\n",
       "    }\n",
       "\n",
       "    .dataframe tbody tr th {\n",
       "        vertical-align: top;\n",
       "    }\n",
       "\n",
       "    .dataframe thead th {\n",
       "        text-align: right;\n",
       "    }\n",
       "</style>\n",
       "<table border=\"1\" class=\"dataframe\">\n",
       "  <thead>\n",
       "    <tr style=\"text-align: right;\">\n",
       "      <th></th>\n",
       "      <th>CPA</th>\n",
       "      <th>Nb.Reads</th>\n",
       "      <th>sex</th>\n",
       "      <th>age</th>\n",
       "      <th>htum</th>\n",
       "      <th>relapse</th>\n",
       "      <th>etat2</th>\n",
       "      <th>patient_id</th>\n",
       "      <th>time_point</th>\n",
       "      <th>time_OS</th>\n",
       "      <th>...</th>\n",
       "      <th>Y:20000001-21000000_ratio</th>\n",
       "      <th>Y:20000001-21000000_zscore</th>\n",
       "      <th>Y:21000001-22000000_ratio</th>\n",
       "      <th>Y:21000001-22000000_zscore</th>\n",
       "      <th>Y:56000001-57000000_ratio</th>\n",
       "      <th>Y:56000001-57000000_zscore</th>\n",
       "      <th>2:225000001-226000000_ratio</th>\n",
       "      <th>2:225000001-226000000_zscore</th>\n",
       "      <th>8:76000001-77000000_ratio</th>\n",
       "      <th>8:76000001-77000000_zscore</th>\n",
       "    </tr>\n",
       "  </thead>\n",
       "  <tbody>\n",
       "    <tr>\n",
       "      <th>0</th>\n",
       "      <td>0.17828</td>\n",
       "      <td>7557775.0</td>\n",
       "      <td>Feminin</td>\n",
       "      <td>46.16</td>\n",
       "      <td>4.1</td>\n",
       "      <td>1.0</td>\n",
       "      <td>1.0</td>\n",
       "      <td>OS2006_273</td>\n",
       "      <td>DIAG</td>\n",
       "      <td>1966.0</td>\n",
       "      <td>...</td>\n",
       "      <td>NaN</td>\n",
       "      <td>NaN</td>\n",
       "      <td>NaN</td>\n",
       "      <td>NaN</td>\n",
       "      <td>NaN</td>\n",
       "      <td>NaN</td>\n",
       "      <td>NaN</td>\n",
       "      <td>NaN</td>\n",
       "      <td>NaN</td>\n",
       "      <td>NaN</td>\n",
       "    </tr>\n",
       "    <tr>\n",
       "      <th>1</th>\n",
       "      <td>0.20886</td>\n",
       "      <td>2062129.0</td>\n",
       "      <td>Masculin</td>\n",
       "      <td>15.93</td>\n",
       "      <td>13.3</td>\n",
       "      <td>0.0</td>\n",
       "      <td>0.0</td>\n",
       "      <td>OS2006_20</td>\n",
       "      <td>DIAG</td>\n",
       "      <td>2017.0</td>\n",
       "      <td>...</td>\n",
       "      <td>-0.075287</td>\n",
       "      <td>-0.983087</td>\n",
       "      <td>-0.061387</td>\n",
       "      <td>-0.743372</td>\n",
       "      <td>0.030197</td>\n",
       "      <td>0.363847</td>\n",
       "      <td>NaN</td>\n",
       "      <td>NaN</td>\n",
       "      <td>NaN</td>\n",
       "      <td>NaN</td>\n",
       "    </tr>\n",
       "    <tr>\n",
       "      <th>2</th>\n",
       "      <td>0.90081</td>\n",
       "      <td>39551556.0</td>\n",
       "      <td>Masculin</td>\n",
       "      <td>13.64</td>\n",
       "      <td>11.0</td>\n",
       "      <td>1.0</td>\n",
       "      <td>1.0</td>\n",
       "      <td>OS2006_37</td>\n",
       "      <td>DIAG</td>\n",
       "      <td>743.0</td>\n",
       "      <td>...</td>\n",
       "      <td>0.068260</td>\n",
       "      <td>0.667947</td>\n",
       "      <td>0.142330</td>\n",
       "      <td>1.608445</td>\n",
       "      <td>-0.451219</td>\n",
       "      <td>-5.174899</td>\n",
       "      <td>NaN</td>\n",
       "      <td>NaN</td>\n",
       "      <td>NaN</td>\n",
       "      <td>NaN</td>\n",
       "    </tr>\n",
       "    <tr>\n",
       "      <th>3</th>\n",
       "      <td>0.78868</td>\n",
       "      <td>51066283.0</td>\n",
       "      <td>Masculin</td>\n",
       "      <td>15.75</td>\n",
       "      <td>12.0</td>\n",
       "      <td>1.0</td>\n",
       "      <td>0.0</td>\n",
       "      <td>OS2006_320</td>\n",
       "      <td>DIAG</td>\n",
       "      <td>2307.0</td>\n",
       "      <td>...</td>\n",
       "      <td>-0.368986</td>\n",
       "      <td>-3.677375</td>\n",
       "      <td>-0.312518</td>\n",
       "      <td>-3.143064</td>\n",
       "      <td>-0.033962</td>\n",
       "      <td>-0.449842</td>\n",
       "      <td>NaN</td>\n",
       "      <td>NaN</td>\n",
       "      <td>NaN</td>\n",
       "      <td>NaN</td>\n",
       "    </tr>\n",
       "    <tr>\n",
       "      <th>4</th>\n",
       "      <td>0.83122</td>\n",
       "      <td>1664501.0</td>\n",
       "      <td>Masculin</td>\n",
       "      <td>8.40</td>\n",
       "      <td>6.8</td>\n",
       "      <td>1.0</td>\n",
       "      <td>1.0</td>\n",
       "      <td>OS2006_504</td>\n",
       "      <td>DIAG</td>\n",
       "      <td>423.0</td>\n",
       "      <td>...</td>\n",
       "      <td>-0.216662</td>\n",
       "      <td>-2.878748</td>\n",
       "      <td>-0.087349</td>\n",
       "      <td>-1.327402</td>\n",
       "      <td>-0.082043</td>\n",
       "      <td>-1.076253</td>\n",
       "      <td>-0.154327</td>\n",
       "      <td>-2.448759</td>\n",
       "      <td>NaN</td>\n",
       "      <td>NaN</td>\n",
       "    </tr>\n",
       "  </tbody>\n",
       "</table>\n",
       "<p>5 rows × 5349 columns</p>\n",
       "</div>"
      ],
      "text/plain": [
       "       CPA    Nb.Reads       sex    age  htum  relapse  etat2  patient_id  \\\n",
       "0  0.17828   7557775.0   Feminin  46.16   4.1      1.0    1.0  OS2006_273   \n",
       "1  0.20886   2062129.0  Masculin  15.93  13.3      0.0    0.0   OS2006_20   \n",
       "2  0.90081  39551556.0  Masculin  13.64  11.0      1.0    1.0   OS2006_37   \n",
       "3  0.78868  51066283.0  Masculin  15.75  12.0      1.0    0.0  OS2006_320   \n",
       "4  0.83122   1664501.0  Masculin   8.40   6.8      1.0    1.0  OS2006_504   \n",
       "\n",
       "  time_point  time_OS  ...  Y:20000001-21000000_ratio  \\\n",
       "0       DIAG   1966.0  ...                        NaN   \n",
       "1       DIAG   2017.0  ...                  -0.075287   \n",
       "2       DIAG    743.0  ...                   0.068260   \n",
       "3       DIAG   2307.0  ...                  -0.368986   \n",
       "4       DIAG    423.0  ...                  -0.216662   \n",
       "\n",
       "   Y:20000001-21000000_zscore  Y:21000001-22000000_ratio  \\\n",
       "0                         NaN                        NaN   \n",
       "1                   -0.983087                  -0.061387   \n",
       "2                    0.667947                   0.142330   \n",
       "3                   -3.677375                  -0.312518   \n",
       "4                   -2.878748                  -0.087349   \n",
       "\n",
       "   Y:21000001-22000000_zscore  Y:56000001-57000000_ratio  \\\n",
       "0                         NaN                        NaN   \n",
       "1                   -0.743372                   0.030197   \n",
       "2                    1.608445                  -0.451219   \n",
       "3                   -3.143064                  -0.033962   \n",
       "4                   -1.327402                  -0.082043   \n",
       "\n",
       "   Y:56000001-57000000_zscore  2:225000001-226000000_ratio  \\\n",
       "0                         NaN                          NaN   \n",
       "1                    0.363847                          NaN   \n",
       "2                   -5.174899                          NaN   \n",
       "3                   -0.449842                          NaN   \n",
       "4                   -1.076253                    -0.154327   \n",
       "\n",
       "   2:225000001-226000000_zscore  8:76000001-77000000_ratio  \\\n",
       "0                           NaN                        NaN   \n",
       "1                           NaN                        NaN   \n",
       "2                           NaN                        NaN   \n",
       "3                           NaN                        NaN   \n",
       "4                     -2.448759                        NaN   \n",
       "\n",
       "   8:76000001-77000000_zscore  \n",
       "0                         NaN  \n",
       "1                         NaN  \n",
       "2                         NaN  \n",
       "3                         NaN  \n",
       "4                         NaN  \n",
       "\n",
       "[5 rows x 5349 columns]"
      ]
     },
     "execution_count": 40,
     "metadata": {},
     "output_type": "execute_result"
    }
   ],
   "source": [
    "data_diag.head()"
   ]
  },
  {
   "cell_type": "code",
   "execution_count": 41,
   "id": "1728a90f-53ac-4203-a980-9bca8ee33b96",
   "metadata": {},
   "outputs": [],
   "source": [
    "def compute_min_max_mean_var_by_chrom(data: pd.DataFrame, score:str) -> pd.DataFrame:\n",
    "    data_update = data.copy()\n",
    "    for chrom_nb in range(1, 22):\n",
    "        for func in [min, max, np.mean, np.var]:\n",
    "            data_update[f'{func.__name__}_{chrom_nb}'] =  data_update.apply(lambda x: aggregate_data_one_chromosome(str(chrom_nb), x, func, score), axis=1)\n",
    "    columns_to_keep = [col_name for col_name in data_update.columns if col_name.startswith(('min', 'max', 'mean', 'var'))]\n",
    "    return data_update[columns_to_keep]"
   ]
  },
  {
   "cell_type": "code",
   "execution_count": 42,
   "id": "77fae96a-97bd-4834-ac64-fa503e5452c7",
   "metadata": {},
   "outputs": [],
   "source": [
    "def clean_features_and_labels(features: pd.DataFrame, labels: pd.DataFrame) -> Tuple[pd.DataFrame, pd.DataFrame]:\n",
    "    idx_to_remove = labels[labels.isnull()].index.tolist()\n",
    "    \n",
    "    features = features.loc[~features.index.isin(idx_to_remove), :].reset_index(drop=True)\n",
    "    features.fillna(0, inplace=True)\n",
    "    \n",
    "    labels = labels[~labels.isnull()].reset_index(drop=True)\n",
    "    \n",
    "    return features, labels"
   ]
  },
  {
   "cell_type": "code",
   "execution_count": 44,
   "id": "ae7c6ccd-f109-44e4-9be2-7b44ab805bf0",
   "metadata": {},
   "outputs": [],
   "source": [
    "from sklearn.linear_model import LogisticRegression\n",
    "from sklearn.ensemble import RandomForestClassifier\n",
    "\n",
    "from sklearn.model_selection import train_test_split\n",
    "from sklearn.metrics import accuracy_score\n",
    "import lightgbm as lgb\n",
    "\n",
    "\n",
    "def compute_features_and_labels(data: pd.DataFrame, score: str) -> Tuple[pd.DataFrame, pd.DataFrame]:\n",
    "    features = compute_min_max_mean_var_by_chrom(data, score)\n",
    "    labels = data['relapse']\n",
    "    \n",
    "    features, labels = clean_features_and_labels(features, labels)\n",
    "    return features, labels\n",
    "\n",
    "\n",
    "def train_model(model, features: pd.DataFrame, labels: pd.DataFrame, test_size: float, seed: int) -> None:\n",
    "    \n",
    "    X_train, X_test, y_train, y_test = train_test_split(features, labels, test_size=test_size, stratify=labels, random_state=seed)\n",
    "    \n",
    "    model.fit(X_train, y_train)\n",
    "    \n",
    "    y_pred = model.predict(X_train)\n",
    "    print(f'Accuracy on train : {round(100 * accuracy_score(y_pred, y_train))} %')\n",
    "    \n",
    "    y_pred = model.predict(X_test)\n",
    "    print(f'Accuracy on test : {round(100 * accuracy_score(y_pred, y_test))} %')"
   ]
  },
  {
   "cell_type": "markdown",
   "id": "bb12cf42-bba5-494a-ad86-178dbaece6e2",
   "metadata": {},
   "source": [
    "### Test on DIAG data - ratio"
   ]
  },
  {
   "cell_type": "code",
   "execution_count": 45,
   "id": "64e0f380-1acb-4a36-bc84-744c86da5cc7",
   "metadata": {},
   "outputs": [],
   "source": [
    "TEST_SIZE = 0.3\n",
    "SEED = 43\n",
    "\n",
    "features, labels = compute_features_and_labels(data_diag, score='ratio')"
   ]
  },
  {
   "cell_type": "code",
   "execution_count": 332,
   "id": "a8dd7841-e12b-4ac1-a799-8f9f8401d90d",
   "metadata": {},
   "outputs": [
    {
     "name": "stdout",
     "output_type": "stream",
     "text": [
      "Accuracy on train : 67 %\n",
      "Accuracy on test : 67 %\n"
     ]
    }
   ],
   "source": [
    "lr = LogisticRegression(max_iter=1000, random_state=SEED)\n",
    "train_model(lr, features, labels, TEST_SIZE, SEED)"
   ]
  },
  {
   "cell_type": "code",
   "execution_count": 326,
   "id": "bff7777e-4d87-4812-b0a0-f0431828d4e1",
   "metadata": {},
   "outputs": [
    {
     "name": "stdout",
     "output_type": "stream",
     "text": [
      "Accuracy on train : 99 %\n",
      "Accuracy on test : 63 %\n"
     ]
    }
   ],
   "source": [
    "rf = RandomForestClassifier(n_estimators=10, random_state=SEED)\n",
    "train_model(rf, features, labels, TEST_SIZE, SEED)"
   ]
  },
  {
   "cell_type": "code",
   "execution_count": 53,
   "id": "451d4d05-7133-4525-a631-a036cb7b261d",
   "metadata": {},
   "outputs": [
    {
     "data": {
      "text/html": [
       "<div>\n",
       "<style scoped>\n",
       "    .dataframe tbody tr th:only-of-type {\n",
       "        vertical-align: middle;\n",
       "    }\n",
       "\n",
       "    .dataframe tbody tr th {\n",
       "        vertical-align: top;\n",
       "    }\n",
       "\n",
       "    .dataframe thead th {\n",
       "        text-align: right;\n",
       "    }\n",
       "</style>\n",
       "<table border=\"1\" class=\"dataframe\">\n",
       "  <thead>\n",
       "    <tr style=\"text-align: right;\">\n",
       "      <th></th>\n",
       "      <th>CPA</th>\n",
       "      <th>Nb.Reads</th>\n",
       "      <th>sex</th>\n",
       "      <th>age</th>\n",
       "      <th>htum</th>\n",
       "      <th>relapse</th>\n",
       "      <th>etat2</th>\n",
       "      <th>patient_id</th>\n",
       "      <th>time_point</th>\n",
       "      <th>time_OS</th>\n",
       "      <th>...</th>\n",
       "      <th>Y:20000001-21000000_ratio</th>\n",
       "      <th>Y:20000001-21000000_zscore</th>\n",
       "      <th>Y:21000001-22000000_ratio</th>\n",
       "      <th>Y:21000001-22000000_zscore</th>\n",
       "      <th>Y:56000001-57000000_ratio</th>\n",
       "      <th>Y:56000001-57000000_zscore</th>\n",
       "      <th>2:225000001-226000000_ratio</th>\n",
       "      <th>2:225000001-226000000_zscore</th>\n",
       "      <th>8:76000001-77000000_ratio</th>\n",
       "      <th>8:76000001-77000000_zscore</th>\n",
       "    </tr>\n",
       "  </thead>\n",
       "  <tbody>\n",
       "    <tr>\n",
       "      <th>0</th>\n",
       "      <td>0.17828</td>\n",
       "      <td>7557775.0</td>\n",
       "      <td>Feminin</td>\n",
       "      <td>46.16</td>\n",
       "      <td>4.1</td>\n",
       "      <td>1.0</td>\n",
       "      <td>1.0</td>\n",
       "      <td>OS2006_273</td>\n",
       "      <td>DIAG</td>\n",
       "      <td>1966.0</td>\n",
       "      <td>...</td>\n",
       "      <td>NaN</td>\n",
       "      <td>NaN</td>\n",
       "      <td>NaN</td>\n",
       "      <td>NaN</td>\n",
       "      <td>NaN</td>\n",
       "      <td>NaN</td>\n",
       "      <td>NaN</td>\n",
       "      <td>NaN</td>\n",
       "      <td>NaN</td>\n",
       "      <td>NaN</td>\n",
       "    </tr>\n",
       "    <tr>\n",
       "      <th>1</th>\n",
       "      <td>0.20886</td>\n",
       "      <td>2062129.0</td>\n",
       "      <td>Masculin</td>\n",
       "      <td>15.93</td>\n",
       "      <td>13.3</td>\n",
       "      <td>0.0</td>\n",
       "      <td>0.0</td>\n",
       "      <td>OS2006_20</td>\n",
       "      <td>DIAG</td>\n",
       "      <td>2017.0</td>\n",
       "      <td>...</td>\n",
       "      <td>-0.075287</td>\n",
       "      <td>-0.983087</td>\n",
       "      <td>-0.061387</td>\n",
       "      <td>-0.743372</td>\n",
       "      <td>0.030197</td>\n",
       "      <td>0.363847</td>\n",
       "      <td>NaN</td>\n",
       "      <td>NaN</td>\n",
       "      <td>NaN</td>\n",
       "      <td>NaN</td>\n",
       "    </tr>\n",
       "    <tr>\n",
       "      <th>2</th>\n",
       "      <td>0.90081</td>\n",
       "      <td>39551556.0</td>\n",
       "      <td>Masculin</td>\n",
       "      <td>13.64</td>\n",
       "      <td>11.0</td>\n",
       "      <td>1.0</td>\n",
       "      <td>1.0</td>\n",
       "      <td>OS2006_37</td>\n",
       "      <td>DIAG</td>\n",
       "      <td>743.0</td>\n",
       "      <td>...</td>\n",
       "      <td>0.068260</td>\n",
       "      <td>0.667947</td>\n",
       "      <td>0.142330</td>\n",
       "      <td>1.608445</td>\n",
       "      <td>-0.451219</td>\n",
       "      <td>-5.174899</td>\n",
       "      <td>NaN</td>\n",
       "      <td>NaN</td>\n",
       "      <td>NaN</td>\n",
       "      <td>NaN</td>\n",
       "    </tr>\n",
       "    <tr>\n",
       "      <th>3</th>\n",
       "      <td>0.78868</td>\n",
       "      <td>51066283.0</td>\n",
       "      <td>Masculin</td>\n",
       "      <td>15.75</td>\n",
       "      <td>12.0</td>\n",
       "      <td>1.0</td>\n",
       "      <td>0.0</td>\n",
       "      <td>OS2006_320</td>\n",
       "      <td>DIAG</td>\n",
       "      <td>2307.0</td>\n",
       "      <td>...</td>\n",
       "      <td>-0.368986</td>\n",
       "      <td>-3.677375</td>\n",
       "      <td>-0.312518</td>\n",
       "      <td>-3.143064</td>\n",
       "      <td>-0.033962</td>\n",
       "      <td>-0.449842</td>\n",
       "      <td>NaN</td>\n",
       "      <td>NaN</td>\n",
       "      <td>NaN</td>\n",
       "      <td>NaN</td>\n",
       "    </tr>\n",
       "    <tr>\n",
       "      <th>4</th>\n",
       "      <td>0.83122</td>\n",
       "      <td>1664501.0</td>\n",
       "      <td>Masculin</td>\n",
       "      <td>8.40</td>\n",
       "      <td>6.8</td>\n",
       "      <td>1.0</td>\n",
       "      <td>1.0</td>\n",
       "      <td>OS2006_504</td>\n",
       "      <td>DIAG</td>\n",
       "      <td>423.0</td>\n",
       "      <td>...</td>\n",
       "      <td>-0.216662</td>\n",
       "      <td>-2.878748</td>\n",
       "      <td>-0.087349</td>\n",
       "      <td>-1.327402</td>\n",
       "      <td>-0.082043</td>\n",
       "      <td>-1.076253</td>\n",
       "      <td>-0.154327</td>\n",
       "      <td>-2.448759</td>\n",
       "      <td>NaN</td>\n",
       "      <td>NaN</td>\n",
       "    </tr>\n",
       "  </tbody>\n",
       "</table>\n",
       "<p>5 rows × 5349 columns</p>\n",
       "</div>"
      ],
      "text/plain": [
       "       CPA    Nb.Reads       sex    age  htum  relapse  etat2  patient_id  \\\n",
       "0  0.17828   7557775.0   Feminin  46.16   4.1      1.0    1.0  OS2006_273   \n",
       "1  0.20886   2062129.0  Masculin  15.93  13.3      0.0    0.0   OS2006_20   \n",
       "2  0.90081  39551556.0  Masculin  13.64  11.0      1.0    1.0   OS2006_37   \n",
       "3  0.78868  51066283.0  Masculin  15.75  12.0      1.0    0.0  OS2006_320   \n",
       "4  0.83122   1664501.0  Masculin   8.40   6.8      1.0    1.0  OS2006_504   \n",
       "\n",
       "  time_point  time_OS  ...  Y:20000001-21000000_ratio  \\\n",
       "0       DIAG   1966.0  ...                        NaN   \n",
       "1       DIAG   2017.0  ...                  -0.075287   \n",
       "2       DIAG    743.0  ...                   0.068260   \n",
       "3       DIAG   2307.0  ...                  -0.368986   \n",
       "4       DIAG    423.0  ...                  -0.216662   \n",
       "\n",
       "   Y:20000001-21000000_zscore  Y:21000001-22000000_ratio  \\\n",
       "0                         NaN                        NaN   \n",
       "1                   -0.983087                  -0.061387   \n",
       "2                    0.667947                   0.142330   \n",
       "3                   -3.677375                  -0.312518   \n",
       "4                   -2.878748                  -0.087349   \n",
       "\n",
       "   Y:21000001-22000000_zscore  Y:56000001-57000000_ratio  \\\n",
       "0                         NaN                        NaN   \n",
       "1                   -0.743372                   0.030197   \n",
       "2                    1.608445                  -0.451219   \n",
       "3                   -3.143064                  -0.033962   \n",
       "4                   -1.327402                  -0.082043   \n",
       "\n",
       "   Y:56000001-57000000_zscore  2:225000001-226000000_ratio  \\\n",
       "0                         NaN                          NaN   \n",
       "1                    0.363847                          NaN   \n",
       "2                   -5.174899                          NaN   \n",
       "3                   -0.449842                          NaN   \n",
       "4                   -1.076253                    -0.154327   \n",
       "\n",
       "   2:225000001-226000000_zscore  8:76000001-77000000_ratio  \\\n",
       "0                           NaN                        NaN   \n",
       "1                           NaN                        NaN   \n",
       "2                           NaN                        NaN   \n",
       "3                           NaN                        NaN   \n",
       "4                     -2.448759                        NaN   \n",
       "\n",
       "   8:76000001-77000000_zscore  \n",
       "0                         NaN  \n",
       "1                         NaN  \n",
       "2                         NaN  \n",
       "3                         NaN  \n",
       "4                         NaN  \n",
       "\n",
       "[5 rows x 5349 columns]"
      ]
     },
     "execution_count": 53,
     "metadata": {},
     "output_type": "execute_result"
    }
   ],
   "source": [
    "data_diag.head()"
   ]
  },
  {
   "cell_type": "code",
   "execution_count": 71,
   "id": "919b73a0-5c18-4a37-a2bd-a3ec7e5a80c8",
   "metadata": {},
   "outputs": [],
   "source": [
    "cols_starts_to_keep = tuple([f'{i}:' for i in range(1, 22)])\n",
    "cols_to_keep = [col for col in data_diag.columns if col.startswith(cols_starts_to_keep)]\n",
    "\n",
    "features = data_end[cols_to_keep]\n",
    "labels = data_end['relapse']\n",
    "#clean_features_and_labels()"
   ]
  },
  {
   "cell_type": "code",
   "execution_count": 72,
   "id": "2502f8d2-85b7-44b1-ac4a-b002451104a0",
   "metadata": {},
   "outputs": [],
   "source": [
    "features, labels = clean_features_and_labels(features, labels)"
   ]
  },
  {
   "cell_type": "code",
   "execution_count": 73,
   "id": "201fe6d1-3866-4653-9f33-118c1aa8b61c",
   "metadata": {},
   "outputs": [],
   "source": [
    "features.columns = [str(i) for i in range(features.shape[1])]"
   ]
  },
  {
   "cell_type": "code",
   "execution_count": 74,
   "id": "783134ae-524c-4a5b-bbc6-318c67835452",
   "metadata": {},
   "outputs": [
    {
     "name": "stderr",
     "output_type": "stream",
     "text": [
      "/home/lhericourt/.local/lib/python3.8/site-packages/lightgbm/sklearn.py:726: UserWarning: 'early_stopping_rounds' argument is deprecated and will be removed in a future release of LightGBM. Pass 'early_stopping()' callback via 'callbacks' argument instead.\n",
      "  _log_warning(\"'early_stopping_rounds' argument is deprecated and will be removed in a future release of LightGBM. \"\n",
      "/home/lhericourt/.local/lib/python3.8/site-packages/lightgbm/sklearn.py:736: UserWarning: 'verbose' argument is deprecated and will be removed in a future release of LightGBM. Pass 'log_evaluation()' callback via 'callbacks' argument instead.\n",
      "  _log_warning(\"'verbose' argument is deprecated and will be removed in a future release of LightGBM. \"\n"
     ]
    },
    {
     "name": "stdout",
     "output_type": "stream",
     "text": [
      "[LightGBM] [Warning] num_threads is set=-1, n_jobs=-1 will be ignored. Current value: num_threads=-1\n",
      "[LightGBM] [Warning] num_threads is set=-1, n_jobs=-1 will be ignored. Current value: num_threads=-1\n",
      "[LightGBM] [Info] Number of positive: 37, number of negative: 61\n",
      "[LightGBM] [Warning] Auto-choosing col-wise multi-threading, the overhead of testing was 0.019941 seconds.\n",
      "You can set `force_col_wise=true` to remove the overhead.\n",
      "[LightGBM] [Info] Total Bins 168555\n",
      "[LightGBM] [Info] Number of data points in the train set: 98, number of used features: 4922\n",
      "[LightGBM] [Warning] num_threads is set=-1, n_jobs=-1 will be ignored. Current value: num_threads=-1\n",
      "[LightGBM] [Info] [binary:BoostFromScore]: pavg=0.377551 -> initscore=-0.499956\n",
      "[LightGBM] [Info] Start training from score -0.499956\n",
      "[LightGBM] [Warning] No further splits with positive gain, best gain: -inf\n",
      "[LightGBM] [Warning] No further splits with positive gain, best gain: -inf\n",
      "[LightGBM] [Warning] No further splits with positive gain, best gain: -inf\n",
      "[LightGBM] [Warning] No further splits with positive gain, best gain: -inf\n",
      "[LightGBM] [Warning] No further splits with positive gain, best gain: -inf\n",
      "[LightGBM] [Warning] No further splits with positive gain, best gain: -inf\n",
      "[LightGBM] [Warning] No further splits with positive gain, best gain: -inf\n",
      "[LightGBM] [Warning] No further splits with positive gain, best gain: -inf\n",
      "[LightGBM] [Warning] No further splits with positive gain, best gain: -inf\n",
      "[LightGBM] [Warning] No further splits with positive gain, best gain: -inf\n",
      "[LightGBM] [Warning] No further splits with positive gain, best gain: -inf\n",
      "[LightGBM] [Warning] No further splits with positive gain, best gain: -inf\n",
      "[LightGBM] [Warning] No further splits with positive gain, best gain: -inf\n",
      "[LightGBM] [Warning] No further splits with positive gain, best gain: -inf\n",
      "[LightGBM] [Warning] No further splits with positive gain, best gain: -inf\n",
      "[LightGBM] [Warning] No further splits with positive gain, best gain: -inf\n",
      "[LightGBM] [Warning] No further splits with positive gain, best gain: -inf\n",
      "[LightGBM] [Warning] No further splits with positive gain, best gain: -inf\n",
      "[LightGBM] [Warning] No further splits with positive gain, best gain: -inf\n",
      "[LightGBM] [Warning] No further splits with positive gain, best gain: -inf\n",
      "[LightGBM] [Warning] No further splits with positive gain, best gain: -inf\n",
      "[LightGBM] [Warning] No further splits with positive gain, best gain: -inf\n",
      "[LightGBM] [Warning] No further splits with positive gain, best gain: -inf\n",
      "[LightGBM] [Warning] No further splits with positive gain, best gain: -inf\n",
      "[LightGBM] [Warning] No further splits with positive gain, best gain: -inf\n",
      "[LightGBM] [Warning] No further splits with positive gain, best gain: -inf\n",
      "[LightGBM] [Warning] No further splits with positive gain, best gain: -inf\n",
      "[LightGBM] [Warning] No further splits with positive gain, best gain: -inf\n",
      "[LightGBM] [Warning] No further splits with positive gain, best gain: -inf\n",
      "[LightGBM] [Warning] No further splits with positive gain, best gain: -inf\n",
      "[LightGBM] [Warning] No further splits with positive gain, best gain: -inf\n",
      "[LightGBM] [Warning] No further splits with positive gain, best gain: -inf\n",
      "[LightGBM] [Warning] No further splits with positive gain, best gain: -inf\n",
      "[LightGBM] [Warning] No further splits with positive gain, best gain: -inf\n",
      "[LightGBM] [Warning] No further splits with positive gain, best gain: -inf\n",
      "[LightGBM] [Warning] No further splits with positive gain, best gain: -inf\n",
      "[LightGBM] [Warning] No further splits with positive gain, best gain: -inf\n",
      "[LightGBM] [Warning] No further splits with positive gain, best gain: -inf\n",
      "[LightGBM] [Warning] No further splits with positive gain, best gain: -inf\n",
      "[LightGBM] [Warning] No further splits with positive gain, best gain: -inf\n",
      "[LightGBM] [Warning] No further splits with positive gain, best gain: -inf\n",
      "[LightGBM] [Warning] No further splits with positive gain, best gain: -inf\n",
      "[LightGBM] [Warning] No further splits with positive gain, best gain: -inf\n",
      "[LightGBM] [Warning] No further splits with positive gain, best gain: -inf\n",
      "[LightGBM] [Warning] No further splits with positive gain, best gain: -inf\n",
      "[LightGBM] [Warning] No further splits with positive gain, best gain: -inf\n",
      "[LightGBM] [Warning] No further splits with positive gain, best gain: -inf\n",
      "[LightGBM] [Warning] No further splits with positive gain, best gain: -inf\n",
      "[LightGBM] [Warning] No further splits with positive gain, best gain: -inf\n",
      "[LightGBM] [Warning] No further splits with positive gain, best gain: -inf\n",
      "[LightGBM] [Warning] No further splits with positive gain, best gain: -inf\n",
      "[LightGBM] [Warning] No further splits with positive gain, best gain: -inf\n",
      "[LightGBM] [Warning] No further splits with positive gain, best gain: -inf\n",
      "[LightGBM] [Warning] No further splits with positive gain, best gain: -inf\n",
      "[LightGBM] [Warning] No further splits with positive gain, best gain: -inf\n",
      "[LightGBM] [Warning] No further splits with positive gain, best gain: -inf\n",
      "[LightGBM] [Warning] No further splits with positive gain, best gain: -inf\n",
      "[LightGBM] [Warning] No further splits with positive gain, best gain: -inf\n",
      "[LightGBM] [Warning] No further splits with positive gain, best gain: -inf\n",
      "[LightGBM] [Warning] No further splits with positive gain, best gain: -inf\n",
      "[LightGBM] [Warning] No further splits with positive gain, best gain: -inf\n",
      "[LightGBM] [Warning] No further splits with positive gain, best gain: -inf\n",
      "[LightGBM] [Warning] No further splits with positive gain, best gain: -inf\n",
      "[LightGBM] [Warning] No further splits with positive gain, best gain: -inf\n",
      "[LightGBM] [Warning] No further splits with positive gain, best gain: -inf\n",
      "[LightGBM] [Warning] No further splits with positive gain, best gain: -inf\n",
      "[LightGBM] [Warning] No further splits with positive gain, best gain: -inf\n",
      "[LightGBM] [Warning] No further splits with positive gain, best gain: -inf\n",
      "[LightGBM] [Warning] No further splits with positive gain, best gain: -inf\n",
      "[LightGBM] [Warning] No further splits with positive gain, best gain: -inf\n",
      "[LightGBM] [Warning] No further splits with positive gain, best gain: -inf\n",
      "[LightGBM] [Warning] No further splits with positive gain, best gain: -inf\n",
      "[LightGBM] [Warning] No further splits with positive gain, best gain: -inf\n",
      "[LightGBM] [Warning] No further splits with positive gain, best gain: -inf\n",
      "[LightGBM] [Warning] No further splits with positive gain, best gain: -inf\n",
      "[LightGBM] [Warning] No further splits with positive gain, best gain: -inf\n",
      "[LightGBM] [Warning] No further splits with positive gain, best gain: -inf\n",
      "[LightGBM] [Warning] No further splits with positive gain, best gain: -inf\n",
      "[LightGBM] [Warning] No further splits with positive gain, best gain: -inf\n",
      "[LightGBM] [Warning] No further splits with positive gain, best gain: -inf\n",
      "[LightGBM] [Warning] No further splits with positive gain, best gain: -inf\n",
      "[LightGBM] [Warning] No further splits with positive gain, best gain: -inf\n",
      "[LightGBM] [Warning] No further splits with positive gain, best gain: -inf\n",
      "[LightGBM] [Warning] No further splits with positive gain, best gain: -inf\n",
      "[LightGBM] [Warning] No further splits with positive gain, best gain: -inf\n",
      "[LightGBM] [Warning] No further splits with positive gain, best gain: -inf\n",
      "[LightGBM] [Warning] No further splits with positive gain, best gain: -inf\n",
      "[LightGBM] [Warning] No further splits with positive gain, best gain: -inf\n",
      "[LightGBM] [Warning] No further splits with positive gain, best gain: -inf\n",
      "[LightGBM] [Warning] No further splits with positive gain, best gain: -inf\n",
      "[LightGBM] [Warning] No further splits with positive gain, best gain: -inf\n",
      "[LightGBM] [Warning] No further splits with positive gain, best gain: -inf\n",
      "[LightGBM] [Warning] No further splits with positive gain, best gain: -inf\n",
      "[LightGBM] [Warning] No further splits with positive gain, best gain: -inf\n",
      "[LightGBM] [Warning] No further splits with positive gain, best gain: -inf\n",
      "[LightGBM] [Warning] No further splits with positive gain, best gain: -inf\n",
      "[LightGBM] [Warning] No further splits with positive gain, best gain: -inf\n",
      "[LightGBM] [Warning] No further splits with positive gain, best gain: -inf\n",
      "[LightGBM] [Warning] No further splits with positive gain, best gain: -inf\n",
      "[LightGBM] [Warning] No further splits with positive gain, best gain: -inf\n",
      "[LightGBM] [Warning] No further splits with positive gain, best gain: -inf\n",
      "[LightGBM] [Warning] No further splits with positive gain, best gain: -inf\n",
      "[LightGBM] [Warning] No further splits with positive gain, best gain: -inf\n",
      "[LightGBM] [Warning] No further splits with positive gain, best gain: -inf\n",
      "[LightGBM] [Warning] No further splits with positive gain, best gain: -inf\n",
      "[LightGBM] [Warning] No further splits with positive gain, best gain: -inf\n",
      "[LightGBM] [Warning] No further splits with positive gain, best gain: -inf\n",
      "[LightGBM] [Warning] No further splits with positive gain, best gain: -inf\n",
      "[LightGBM] [Warning] No further splits with positive gain, best gain: -inf\n",
      "[LightGBM] [Warning] No further splits with positive gain, best gain: -inf\n",
      "[LightGBM] [Warning] No further splits with positive gain, best gain: -inf\n",
      "[LightGBM] [Warning] No further splits with positive gain, best gain: -inf\n",
      "[LightGBM] [Warning] No further splits with positive gain, best gain: -inf\n",
      "[LightGBM] [Warning] No further splits with positive gain, best gain: -inf\n",
      "[LightGBM] [Warning] No further splits with positive gain, best gain: -inf\n",
      "[LightGBM] [Warning] No further splits with positive gain, best gain: -inf\n",
      "[LightGBM] [Warning] No further splits with positive gain, best gain: -inf\n",
      "[LightGBM] [Warning] No further splits with positive gain, best gain: -inf\n",
      "[LightGBM] [Warning] No further splits with positive gain, best gain: -inf\n",
      "[LightGBM] [Warning] No further splits with positive gain, best gain: -inf\n",
      "[LightGBM] [Warning] No further splits with positive gain, best gain: -inf\n",
      "[LightGBM] [Warning] No further splits with positive gain, best gain: -inf\n",
      "[LightGBM] [Warning] No further splits with positive gain, best gain: -inf\n",
      "[LightGBM] [Warning] No further splits with positive gain, best gain: -inf\n",
      "[LightGBM] [Warning] No further splits with positive gain, best gain: -inf\n",
      "[LightGBM] [Warning] No further splits with positive gain, best gain: -inf\n",
      "[LightGBM] [Warning] No further splits with positive gain, best gain: -inf\n",
      "[LightGBM] [Warning] No further splits with positive gain, best gain: -inf\n",
      "[LightGBM] [Warning] No further splits with positive gain, best gain: -inf\n",
      "[LightGBM] [Warning] No further splits with positive gain, best gain: -inf\n",
      "[LightGBM] [Warning] No further splits with positive gain, best gain: -inf\n",
      "[LightGBM] [Warning] No further splits with positive gain, best gain: -inf\n",
      "[LightGBM] [Warning] No further splits with positive gain, best gain: -inf\n",
      "[LightGBM] [Warning] No further splits with positive gain, best gain: -inf\n",
      "[LightGBM] [Warning] No further splits with positive gain, best gain: -inf\n",
      "[LightGBM] [Warning] No further splits with positive gain, best gain: -inf\n",
      "[LightGBM] [Warning] No further splits with positive gain, best gain: -inf\n",
      "[LightGBM] [Warning] No further splits with positive gain, best gain: -inf\n",
      "[LightGBM] [Warning] No further splits with positive gain, best gain: -inf\n",
      "[LightGBM] [Warning] No further splits with positive gain, best gain: -inf\n",
      "[LightGBM] [Warning] No further splits with positive gain, best gain: -inf\n",
      "[LightGBM] [Warning] No further splits with positive gain, best gain: -inf\n",
      "[LightGBM] [Warning] No further splits with positive gain, best gain: -inf\n",
      "[LightGBM] [Warning] No further splits with positive gain, best gain: -inf\n",
      "[LightGBM] [Warning] No further splits with positive gain, best gain: -inf\n",
      "[LightGBM] [Warning] No further splits with positive gain, best gain: -inf\n",
      "[LightGBM] [Warning] No further splits with positive gain, best gain: -inf\n",
      "[LightGBM] [Warning] No further splits with positive gain, best gain: -inf\n",
      "[LightGBM] [Warning] No further splits with positive gain, best gain: -inf\n",
      "[LightGBM] [Warning] No further splits with positive gain, best gain: -inf\n",
      "[LightGBM] [Warning] No further splits with positive gain, best gain: -inf\n",
      "[LightGBM] [Warning] No further splits with positive gain, best gain: -inf\n",
      "[LightGBM] [Warning] No further splits with positive gain, best gain: -inf\n",
      "[LightGBM] [Warning] No further splits with positive gain, best gain: -inf\n",
      "[LightGBM] [Warning] No further splits with positive gain, best gain: -inf\n",
      "[LightGBM] [Warning] No further splits with positive gain, best gain: -inf\n",
      "[LightGBM] [Warning] No further splits with positive gain, best gain: -inf\n",
      "[LightGBM] [Warning] No further splits with positive gain, best gain: -inf\n"
     ]
    },
    {
     "data": {
      "text/plain": [
       "LGBMClassifier(colsample_bytree=0.7, learning_rate=0.01, n_estimators=100000,\n",
       "               num_leaves=255, num_threads=-1, objective='binary', seed=42,\n",
       "               subsample=0.8, verbose=1)"
      ]
     },
     "execution_count": 74,
     "metadata": {},
     "output_type": "execute_result"
    }
   ],
   "source": [
    " X_train, X_test, y_train, y_test = train_test_split(features, labels, test_size=TEST_SIZE, stratify=labels, random_state=SEED)\n",
    "\n",
    "fit_params={\"early_stopping_rounds\":100, \n",
    "            \"eval_metric\" : 'multi_error', \n",
    "            \"eval_set\" : [(X_test, y_test)],\n",
    "            'eval_names': ['valid'],\n",
    "            'verbose': 1000,\n",
    "            'feature_name': 'auto', # that's actually the default\n",
    "            'categorical_feature': 'auto' # that's actually the default\n",
    "           }\n",
    "\n",
    "#n_estimators is set to a \"large value\". The actual number of trees build will depend on early stopping and 1000 define only the absolute maximum\n",
    "clf = lgb.LGBMClassifier(num_leaves= 255, max_depth=-1, #15\n",
    "                         seed=42, \n",
    "                         objective=\"binary\",\n",
    "                         verbose=1,\n",
    "                         num_threads=-1, \n",
    "                         n_estimators=100000,\n",
    "                         colsample_bytree=0.7,\n",
    "                         subsample=0.8,\n",
    "                         learning_rate=0.01)        \n",
    "clf.fit(X_train, y_train, **fit_params)"
   ]
  },
  {
   "cell_type": "code",
   "execution_count": 75,
   "id": "2ba99f83-101b-45fc-aef0-c393df9e6232",
   "metadata": {},
   "outputs": [
    {
     "name": "stdout",
     "output_type": "stream",
     "text": [
      "Accuracy on train : 82 %\n",
      "Accuracy on test : 67 %\n"
     ]
    }
   ],
   "source": [
    "\n",
    "y_pred = clf.predict(X_train)\n",
    "print(f'Accuracy on train : {round(100 * accuracy_score(y_pred, y_train))} %')\n",
    "\n",
    "y_pred = clf.predict(X_test)\n",
    "print(f'Accuracy on test : {round(100 * accuracy_score(y_pred, y_test))} %')"
   ]
  },
  {
   "cell_type": "markdown",
   "id": "64e37ea7-fe13-4a0d-ad25-afaddf7345e3",
   "metadata": {},
   "source": [
    "### Test on DIAG data - z-score"
   ]
  },
  {
   "cell_type": "code",
   "execution_count": 334,
   "id": "5f8fdd76-f1ad-4431-b31b-ee2ce19f0875",
   "metadata": {},
   "outputs": [],
   "source": [
    "features, labels = compute_features_and_labels(data_diag, score='zscore')"
   ]
  },
  {
   "cell_type": "code",
   "execution_count": 338,
   "id": "c2fde7eb-6f0f-4858-ab58-e75f1c8408d0",
   "metadata": {},
   "outputs": [
    {
     "name": "stdout",
     "output_type": "stream",
     "text": [
      "Accuracy on train : 95 %\n",
      "Accuracy on test : 73 %\n"
     ]
    }
   ],
   "source": [
    "train_model(lr, features, labels, TEST_SIZE, SEED)"
   ]
  },
  {
   "cell_type": "code",
   "execution_count": 336,
   "id": "19bf84ac-7d49-4f8c-89d7-cc982275e2b0",
   "metadata": {},
   "outputs": [
    {
     "name": "stdout",
     "output_type": "stream",
     "text": [
      "Accuracy on train : 99 %\n",
      "Accuracy on test : 67 %\n"
     ]
    }
   ],
   "source": [
    "train_model(rf, features, labels, TEST_SIZE, SEED)"
   ]
  },
  {
   "cell_type": "markdown",
   "id": "dae66a51-02e0-49b0-842f-5c9cc6175212",
   "metadata": {
    "tags": []
   },
   "source": [
    "### Test on CHIR data - ratio"
   ]
  },
  {
   "cell_type": "code",
   "execution_count": 50,
   "id": "7d89fc47-7fb4-4073-8ea2-20584d26b168",
   "metadata": {
    "tags": []
   },
   "outputs": [],
   "source": [
    "features, labels = compute_features_and_labels(data_chir, score='ratio')"
   ]
  },
  {
   "cell_type": "code",
   "execution_count": 340,
   "id": "7df13d6f-666d-415e-b2a2-a8d4069b4d53",
   "metadata": {},
   "outputs": [
    {
     "name": "stdout",
     "output_type": "stream",
     "text": [
      "Accuracy on train : 60 %\n",
      "Accuracy on test : 58 %\n"
     ]
    }
   ],
   "source": [
    "train_model(lr, features, labels, TEST_SIZE, SEED)"
   ]
  },
  {
   "cell_type": "code",
   "execution_count": 341,
   "id": "4e502901-fbc8-4647-a497-f5b05320aae1",
   "metadata": {},
   "outputs": [
    {
     "name": "stdout",
     "output_type": "stream",
     "text": [
      "Accuracy on train : 97 %\n",
      "Accuracy on test : 49 %\n"
     ]
    }
   ],
   "source": [
    "train_model(rf, features, labels, TEST_SIZE, SEED)"
   ]
  },
  {
   "cell_type": "markdown",
   "id": "d64a500f-cc45-49f6-8b6c-89dbe29103a1",
   "metadata": {
    "tags": []
   },
   "source": [
    "### Test on CHIR data - zscore"
   ]
  },
  {
   "cell_type": "code",
   "execution_count": 342,
   "id": "79207ad1-3b94-4403-9e29-fcbf846e70dd",
   "metadata": {
    "tags": []
   },
   "outputs": [],
   "source": [
    "features, labels = compute_features_and_labels(data_chir, score='zscore')"
   ]
  },
  {
   "cell_type": "code",
   "execution_count": 343,
   "id": "6f40ee9f-e4d2-47c2-aeb8-09182f40fb63",
   "metadata": {},
   "outputs": [
    {
     "name": "stdout",
     "output_type": "stream",
     "text": [
      "Accuracy on train : 91 %\n",
      "Accuracy on test : 51 %\n"
     ]
    }
   ],
   "source": [
    "train_model(lr, features, labels, TEST_SIZE, SEED)"
   ]
  },
  {
   "cell_type": "code",
   "execution_count": 344,
   "id": "fdc5b0cb-074f-4d3a-bd5f-42efa67a18ba",
   "metadata": {},
   "outputs": [
    {
     "name": "stdout",
     "output_type": "stream",
     "text": [
      "Accuracy on train : 99 %\n",
      "Accuracy on test : 49 %\n"
     ]
    }
   ],
   "source": [
    "train_model(rf, features, labels, TEST_SIZE, SEED)"
   ]
  },
  {
   "cell_type": "markdown",
   "id": "c52f4b54-c987-491d-b29a-d1aa01e279ca",
   "metadata": {},
   "source": [
    "### Test on END data - ratio"
   ]
  },
  {
   "cell_type": "code",
   "execution_count": 345,
   "id": "6e3afc89-9d22-4916-8b8b-4a615f08cce0",
   "metadata": {},
   "outputs": [],
   "source": [
    "features, labels = compute_features_and_labels(data_end, score='ratio')"
   ]
  },
  {
   "cell_type": "code",
   "execution_count": 346,
   "id": "377dea38-286f-49f3-8cc5-deb1fd839cc3",
   "metadata": {},
   "outputs": [
    {
     "name": "stdout",
     "output_type": "stream",
     "text": [
      "Accuracy on train : 64 %\n",
      "Accuracy on test : 62 %\n"
     ]
    }
   ],
   "source": [
    "train_model(lr, features, labels, TEST_SIZE, SEED)"
   ]
  },
  {
   "cell_type": "code",
   "execution_count": 347,
   "id": "974606d4-bb77-484e-957c-0907e4e1f2a4",
   "metadata": {
    "tags": []
   },
   "outputs": [
    {
     "name": "stdout",
     "output_type": "stream",
     "text": [
      "Accuracy on train : 99 %\n",
      "Accuracy on test : 60 %\n"
     ]
    }
   ],
   "source": [
    "train_model(rf, features, labels, TEST_SIZE, SEED)"
   ]
  },
  {
   "cell_type": "markdown",
   "id": "4105f161-db9d-4be2-8e76-6a0d136c4796",
   "metadata": {},
   "source": [
    "### Test on END data - zscore"
   ]
  },
  {
   "cell_type": "code",
   "execution_count": 348,
   "id": "9360d2f3-68b0-4a7b-b233-9122677395b6",
   "metadata": {},
   "outputs": [],
   "source": [
    "features, labels = compute_features_and_labels(data_end, score='zscore')"
   ]
  },
  {
   "cell_type": "code",
   "execution_count": 349,
   "id": "558a9378-6339-439f-b8ab-daef2c9b8d3f",
   "metadata": {},
   "outputs": [
    {
     "name": "stdout",
     "output_type": "stream",
     "text": [
      "Accuracy on train : 94 %\n",
      "Accuracy on test : 52 %\n"
     ]
    }
   ],
   "source": [
    "train_model(lr, features, labels, TEST_SIZE, SEED)"
   ]
  },
  {
   "cell_type": "code",
   "execution_count": 350,
   "id": "cebbd910-3ce7-44bd-85cc-6a049ba0e1f9",
   "metadata": {
    "tags": []
   },
   "outputs": [
    {
     "name": "stdout",
     "output_type": "stream",
     "text": [
      "Accuracy on train : 98 %\n",
      "Accuracy on test : 52 %\n"
     ]
    }
   ],
   "source": [
    "train_model(rf, features, labels, TEST_SIZE, SEED)"
   ]
  },
  {
   "cell_type": "markdown",
   "id": "40a03c31-f045-4e0f-b03d-d673e5f1d99d",
   "metadata": {},
   "source": [
    "## Min, max"
   ]
  },
  {
   "cell_type": "code",
   "execution_count": 357,
   "id": "4258d5a2-ab28-49e1-928c-b8e1e7e89e70",
   "metadata": {},
   "outputs": [],
   "source": [
    "def compute_min_max_by_chrom(data: pd.DataFrame, score: str) -> pd.DataFrame:\n",
    "    data_update = data.copy()\n",
    "    for chrom_nb in range(1, 22):\n",
    "        for func in [min, max]:\n",
    "            data_update[f'{func.__name__}_{chrom_nb}'] =  data_update.apply(lambda x: aggregate_data_one_chromosome(str(chrom_nb), x, func, score), axis=1)\n",
    "    columns_to_keep = [col_name for col_name in data_update.columns if col_name.startswith(('min', 'max'))]\n",
    "    return data_update[columns_to_keep]\n",
    "\n",
    "\n",
    "\n",
    "def compute_features_and_labels(data: pd.DataFrame, score: str) -> Tuple[pd.DataFrame, pd.DataFrame]:\n",
    "    features = compute_min_max_by_chrom(data, score)\n",
    "    labels = data['relapse']\n",
    "    \n",
    "    features, labels = clean_features_and_labels(features, labels)\n",
    "    return features, labels"
   ]
  },
  {
   "cell_type": "code",
   "execution_count": 358,
   "id": "c98640ed-b95c-47b3-87f5-98608c8657ca",
   "metadata": {},
   "outputs": [],
   "source": [
    "TEST_SIZE = 0.3\n",
    "SEED = 43"
   ]
  },
  {
   "cell_type": "markdown",
   "id": "6ca94394-cb99-4928-b182-ffc2db2c7512",
   "metadata": {
    "tags": []
   },
   "source": [
    "### Test on DIAG data - ratio"
   ]
  },
  {
   "cell_type": "code",
   "execution_count": 359,
   "id": "beb52cd4-227f-4655-a697-255959208e4e",
   "metadata": {},
   "outputs": [],
   "source": [
    "features, labels = compute_features_and_labels(data_diag, score='ratio')"
   ]
  },
  {
   "cell_type": "code",
   "execution_count": 360,
   "id": "7e6c077a-c165-4f8c-82ae-2073c789478a",
   "metadata": {},
   "outputs": [
    {
     "name": "stdout",
     "output_type": "stream",
     "text": [
      "Accuracy on train : 66 %\n",
      "Accuracy on test : 65 %\n"
     ]
    }
   ],
   "source": [
    "lr = LogisticRegression(max_iter=1000, random_state=SEED)\n",
    "train_model(lr, features, labels, TEST_SIZE, SEED)"
   ]
  },
  {
   "cell_type": "code",
   "execution_count": 361,
   "id": "8e6073a9-46fc-440a-ba7b-8fd479bb5dc9",
   "metadata": {},
   "outputs": [
    {
     "name": "stdout",
     "output_type": "stream",
     "text": [
      "Accuracy on train : 100 %\n",
      "Accuracy on test : 69 %\n"
     ]
    }
   ],
   "source": [
    "rf = RandomForestClassifier(n_estimators=100, random_state=SEED)\n",
    "train_model(rf, features, labels, TEST_SIZE, SEED)"
   ]
  },
  {
   "cell_type": "markdown",
   "id": "14909479-58eb-4fb4-94d5-f7eeece11f94",
   "metadata": {
    "tags": []
   },
   "source": [
    "### Test on DIAG data - zscore"
   ]
  },
  {
   "cell_type": "code",
   "execution_count": 362,
   "id": "62cd52d1-9042-4b46-b707-afc3202078e6",
   "metadata": {},
   "outputs": [],
   "source": [
    "features, labels = compute_features_and_labels(data_diag, score='zscore')"
   ]
  },
  {
   "cell_type": "code",
   "execution_count": 365,
   "id": "6dec3cad-5d26-4531-8a3b-326d4797c84f",
   "metadata": {},
   "outputs": [
    {
     "name": "stdout",
     "output_type": "stream",
     "text": [
      "Accuracy on train : 79 %\n",
      "Accuracy on test : 67 %\n"
     ]
    }
   ],
   "source": [
    "train_model(lr, features, labels, TEST_SIZE, SEED)"
   ]
  },
  {
   "cell_type": "code",
   "execution_count": 366,
   "id": "f6275f91-e60a-47d5-9ce0-853acfd1ef37",
   "metadata": {},
   "outputs": [
    {
     "name": "stdout",
     "output_type": "stream",
     "text": [
      "Accuracy on train : 100 %\n",
      "Accuracy on test : 73 %\n"
     ]
    }
   ],
   "source": [
    "train_model(rf, features, labels, TEST_SIZE, SEED)"
   ]
  },
  {
   "cell_type": "markdown",
   "id": "8b118662-1d10-418b-adcd-ca9f5af0d3e4",
   "metadata": {},
   "source": [
    "### Test on CHIR data - ratio"
   ]
  },
  {
   "cell_type": "code",
   "execution_count": 367,
   "id": "7a1460f5-e9ab-4b5e-8939-21a883991952",
   "metadata": {},
   "outputs": [],
   "source": [
    "features, labels = compute_features_and_labels(data_chir, score='ratio')"
   ]
  },
  {
   "cell_type": "code",
   "execution_count": 368,
   "id": "ff45e5aa-f64f-4ac2-9550-4285f132e068",
   "metadata": {},
   "outputs": [
    {
     "name": "stdout",
     "output_type": "stream",
     "text": [
      "Accuracy on train : 60 %\n",
      "Accuracy on test : 58 %\n"
     ]
    }
   ],
   "source": [
    "train_model(lr, features, labels, TEST_SIZE, SEED)"
   ]
  },
  {
   "cell_type": "code",
   "execution_count": 369,
   "id": "d27e26a1-b1ed-432a-9d41-c0021c888a41",
   "metadata": {},
   "outputs": [
    {
     "name": "stdout",
     "output_type": "stream",
     "text": [
      "Accuracy on train : 100 %\n",
      "Accuracy on test : 51 %\n"
     ]
    }
   ],
   "source": [
    "train_model(rf, features, labels, TEST_SIZE, SEED)"
   ]
  },
  {
   "cell_type": "markdown",
   "id": "e8f34392-b8e9-4a98-bc7f-85f875c5c7d9",
   "metadata": {},
   "source": [
    "### Test on CHIR data - zscore"
   ]
  },
  {
   "cell_type": "code",
   "execution_count": 370,
   "id": "53607e94-88f8-492b-ab3a-97066de68305",
   "metadata": {},
   "outputs": [],
   "source": [
    "features, labels = compute_features_and_labels(data_chir, score='zscore')"
   ]
  },
  {
   "cell_type": "code",
   "execution_count": 371,
   "id": "51931cf0-c586-43df-854f-13dc7c2091ec",
   "metadata": {},
   "outputs": [
    {
     "name": "stdout",
     "output_type": "stream",
     "text": [
      "Accuracy on train : 85 %\n",
      "Accuracy on test : 51 %\n"
     ]
    }
   ],
   "source": [
    "train_model(lr, features, labels, TEST_SIZE, SEED)"
   ]
  },
  {
   "cell_type": "code",
   "execution_count": 372,
   "id": "02d8abd6-ec44-4f83-b7f6-143f1922de71",
   "metadata": {},
   "outputs": [
    {
     "name": "stdout",
     "output_type": "stream",
     "text": [
      "Accuracy on train : 100 %\n",
      "Accuracy on test : 56 %\n"
     ]
    }
   ],
   "source": [
    "train_model(rf, features, labels, TEST_SIZE, SEED)"
   ]
  },
  {
   "cell_type": "markdown",
   "id": "1dfefdc8-aa68-4c87-97a8-97bd46f96217",
   "metadata": {},
   "source": [
    "### Test on END data - ratio"
   ]
  },
  {
   "cell_type": "code",
   "execution_count": 373,
   "id": "7a4ab643-9beb-4e68-9f52-92dac2ac1668",
   "metadata": {},
   "outputs": [],
   "source": [
    "features, labels = compute_features_and_labels(data_end, score='ratio')"
   ]
  },
  {
   "cell_type": "code",
   "execution_count": 374,
   "id": "e5d0b78b-3aaf-43ed-b980-94b4e5ed69b5",
   "metadata": {},
   "outputs": [
    {
     "name": "stdout",
     "output_type": "stream",
     "text": [
      "Accuracy on train : 64 %\n",
      "Accuracy on test : 62 %\n"
     ]
    }
   ],
   "source": [
    "train_model(lr, features, labels, TEST_SIZE, SEED)"
   ]
  },
  {
   "cell_type": "code",
   "execution_count": 375,
   "id": "ea417eb6-c554-4c43-bf00-0edbc07ecc7c",
   "metadata": {
    "tags": []
   },
   "outputs": [
    {
     "name": "stdout",
     "output_type": "stream",
     "text": [
      "Accuracy on train : 100 %\n",
      "Accuracy on test : 55 %\n"
     ]
    }
   ],
   "source": [
    "train_model(rf, features, labels, TEST_SIZE, SEED)"
   ]
  },
  {
   "cell_type": "markdown",
   "id": "3fed8cdc-f513-4f52-8c3b-68a3371249c1",
   "metadata": {},
   "source": [
    "### Test on END data - zscore"
   ]
  },
  {
   "cell_type": "code",
   "execution_count": 376,
   "id": "a9683ced-01fe-4685-8ff1-9394b4a1c74a",
   "metadata": {},
   "outputs": [],
   "source": [
    "features, labels = compute_features_and_labels(data_end, score='zscore')"
   ]
  },
  {
   "cell_type": "code",
   "execution_count": 377,
   "id": "7b084883-a61d-456a-b0f8-2d9e50fc4e11",
   "metadata": {},
   "outputs": [
    {
     "name": "stdout",
     "output_type": "stream",
     "text": [
      "Accuracy on train : 89 %\n",
      "Accuracy on test : 55 %\n"
     ]
    }
   ],
   "source": [
    "train_model(lr, features, labels, TEST_SIZE, SEED)"
   ]
  },
  {
   "cell_type": "code",
   "execution_count": 378,
   "id": "e2bfdcb1-9a74-4895-a0b0-cc2f51a114d0",
   "metadata": {
    "tags": []
   },
   "outputs": [
    {
     "name": "stdout",
     "output_type": "stream",
     "text": [
      "Accuracy on train : 100 %\n",
      "Accuracy on test : 57 %\n"
     ]
    }
   ],
   "source": [
    "train_model(rf, features, labels, TEST_SIZE, SEED)"
   ]
  },
  {
   "cell_type": "code",
   "execution_count": null,
   "id": "f4067e8a-6cce-4dad-9573-3e6c8b4f53e6",
   "metadata": {},
   "outputs": [],
   "source": []
  }
 ],
 "metadata": {
  "kernelspec": {
   "display_name": "Python 3 (ipykernel)",
   "language": "python",
   "name": "python3"
  },
  "language_info": {
   "codemirror_mode": {
    "name": "ipython",
    "version": 3
   },
   "file_extension": ".py",
   "mimetype": "text/x-python",
   "name": "python",
   "nbconvert_exporter": "python",
   "pygments_lexer": "ipython3",
   "version": "3.8.10"
  }
 },
 "nbformat": 4,
 "nbformat_minor": 5
}
