{
 "cells": [
  {
   "cell_type": "code",
   "execution_count": 1,
   "id": "c58c6898-3848-4245-a331-64bcb0f0f13b",
   "metadata": {},
   "outputs": [],
   "source": [
    "from pathlib import Path\n",
    "from ast import literal_eval\n",
    "from collections import Counter\n",
    "import pickle\n",
    "\n",
    "import pandas as pd\n",
    "import numpy as np"
   ]
  },
  {
   "cell_type": "markdown",
   "id": "ea494bc7-3cee-4ed6-b1f8-c84aab6aafbb",
   "metadata": {},
   "source": [
    "# Load data"
   ]
  },
  {
   "cell_type": "code",
   "execution_count": 15,
   "id": "0f8eaae6-a5d7-4420-9fff-855a0f46f635",
   "metadata": {},
   "outputs": [],
   "source": [
    "file_name = 'adn_circulant_brute_force_11.log'\n",
    "data = pd.read_csv(Path('..') / 'results' / file_name, sep='|', header=0, names=['mean', 'std', 'scores_cv', 'features'])"
   ]
  },
  {
   "cell_type": "code",
   "execution_count": 16,
   "id": "d81f2734-01ae-4448-9bb9-d1c8124dc79b",
   "metadata": {},
   "outputs": [],
   "source": [
    "data.sort_values('mean', inplace=True, ascending=False)\n",
    "data.reset_index(drop=True, inplace=True)"
   ]
  },
  {
   "cell_type": "code",
   "execution_count": 17,
   "id": "2382a908-e5d3-4d4f-b09b-33d9f2a96c45",
   "metadata": {},
   "outputs": [
    {
     "data": {
      "text/html": [
       "<div>\n",
       "<style scoped>\n",
       "    .dataframe tbody tr th:only-of-type {\n",
       "        vertical-align: middle;\n",
       "    }\n",
       "\n",
       "    .dataframe tbody tr th {\n",
       "        vertical-align: top;\n",
       "    }\n",
       "\n",
       "    .dataframe thead th {\n",
       "        text-align: right;\n",
       "    }\n",
       "</style>\n",
       "<table border=\"1\" class=\"dataframe\">\n",
       "  <thead>\n",
       "    <tr style=\"text-align: right;\">\n",
       "      <th></th>\n",
       "      <th>mean</th>\n",
       "      <th>std</th>\n",
       "      <th>scores_cv</th>\n",
       "      <th>features</th>\n",
       "    </tr>\n",
       "  </thead>\n",
       "  <tbody>\n",
       "    <tr>\n",
       "      <th>0</th>\n",
       "      <td>72.1</td>\n",
       "      <td>3.9</td>\n",
       "      <td>[0.76666667 0.66666667 0.72413793 0.75862069 0...</td>\n",
       "      <td>['2:186000001-187000000_ratio', '11:131000001-...</td>\n",
       "    </tr>\n",
       "    <tr>\n",
       "      <th>1</th>\n",
       "      <td>72.1</td>\n",
       "      <td>1.6</td>\n",
       "      <td>[0.73333333 0.73333333 0.68965517 0.72413793 0...</td>\n",
       "      <td>['13:19000001-20000000_ratio', '2:10000001-110...</td>\n",
       "    </tr>\n",
       "    <tr>\n",
       "      <th>2</th>\n",
       "      <td>72.1</td>\n",
       "      <td>4.2</td>\n",
       "      <td>[0.73333333 0.76666667 0.68965517 0.75862069 0...</td>\n",
       "      <td>['16:11000001-12000000_ratio', '2:174000001-17...</td>\n",
       "    </tr>\n",
       "    <tr>\n",
       "      <th>3</th>\n",
       "      <td>72.1</td>\n",
       "      <td>5.4</td>\n",
       "      <td>[0.66666667 0.76666667 0.65517241 0.79310345 0...</td>\n",
       "      <td>['9:34000001-35000000_ratio', '16:63000001-640...</td>\n",
       "    </tr>\n",
       "    <tr>\n",
       "      <th>4</th>\n",
       "      <td>72.1</td>\n",
       "      <td>2.4</td>\n",
       "      <td>[0.73333333 0.7        0.68965517 0.75862069 0...</td>\n",
       "      <td>['12:62000001-63000000_ratio', '18:29000001-30...</td>\n",
       "    </tr>\n",
       "    <tr>\n",
       "      <th>...</th>\n",
       "      <td>...</td>\n",
       "      <td>...</td>\n",
       "      <td>...</td>\n",
       "      <td>...</td>\n",
       "    </tr>\n",
       "    <tr>\n",
       "      <th>95</th>\n",
       "      <td>70.7</td>\n",
       "      <td>3.1</td>\n",
       "      <td>[0.73333333 0.73333333 0.68965517 0.72413793 0...</td>\n",
       "      <td>['3:22000001-23000000_ratio', '15:82000001-830...</td>\n",
       "    </tr>\n",
       "    <tr>\n",
       "      <th>96</th>\n",
       "      <td>70.7</td>\n",
       "      <td>4.7</td>\n",
       "      <td>[0.76666667 0.66666667 0.68965517 0.75862069 0...</td>\n",
       "      <td>['10:62000001-63000000_ratio', '8:9000001-1000...</td>\n",
       "    </tr>\n",
       "    <tr>\n",
       "      <th>97</th>\n",
       "      <td>70.7</td>\n",
       "      <td>2.8</td>\n",
       "      <td>[0.7        0.73333333 0.72413793 0.72413793 0...</td>\n",
       "      <td>['14:88000001-89000000_ratio', '5:41000001-420...</td>\n",
       "    </tr>\n",
       "    <tr>\n",
       "      <th>98</th>\n",
       "      <td>70.7</td>\n",
       "      <td>5.2</td>\n",
       "      <td>[0.7        0.73333333 0.65517241 0.79310345 0...</td>\n",
       "      <td>['12:102000001-103000000_ratio', '15:88000001-...</td>\n",
       "    </tr>\n",
       "    <tr>\n",
       "      <th>99</th>\n",
       "      <td>70.7</td>\n",
       "      <td>5.4</td>\n",
       "      <td>[0.8        0.7        0.65517241 0.72413793 0...</td>\n",
       "      <td>['3:158000001-159000000_ratio', '7:98000001-99...</td>\n",
       "    </tr>\n",
       "  </tbody>\n",
       "</table>\n",
       "<p>100 rows × 4 columns</p>\n",
       "</div>"
      ],
      "text/plain": [
       "    mean  std                                          scores_cv  \\\n",
       "0   72.1  3.9  [0.76666667 0.66666667 0.72413793 0.75862069 0...   \n",
       "1   72.1  1.6  [0.73333333 0.73333333 0.68965517 0.72413793 0...   \n",
       "2   72.1  4.2  [0.73333333 0.76666667 0.68965517 0.75862069 0...   \n",
       "3   72.1  5.4  [0.66666667 0.76666667 0.65517241 0.79310345 0...   \n",
       "4   72.1  2.4  [0.73333333 0.7        0.68965517 0.75862069 0...   \n",
       "..   ...  ...                                                ...   \n",
       "95  70.7  3.1  [0.73333333 0.73333333 0.68965517 0.72413793 0...   \n",
       "96  70.7  4.7  [0.76666667 0.66666667 0.68965517 0.75862069 0...   \n",
       "97  70.7  2.8  [0.7        0.73333333 0.72413793 0.72413793 0...   \n",
       "98  70.7  5.2  [0.7        0.73333333 0.65517241 0.79310345 0...   \n",
       "99  70.7  5.4  [0.8        0.7        0.65517241 0.72413793 0...   \n",
       "\n",
       "                                             features  \n",
       "0   ['2:186000001-187000000_ratio', '11:131000001-...  \n",
       "1   ['13:19000001-20000000_ratio', '2:10000001-110...  \n",
       "2   ['16:11000001-12000000_ratio', '2:174000001-17...  \n",
       "3   ['9:34000001-35000000_ratio', '16:63000001-640...  \n",
       "4   ['12:62000001-63000000_ratio', '18:29000001-30...  \n",
       "..                                                ...  \n",
       "95  ['3:22000001-23000000_ratio', '15:82000001-830...  \n",
       "96  ['10:62000001-63000000_ratio', '8:9000001-1000...  \n",
       "97  ['14:88000001-89000000_ratio', '5:41000001-420...  \n",
       "98  ['12:102000001-103000000_ratio', '15:88000001-...  \n",
       "99  ['3:158000001-159000000_ratio', '7:98000001-99...  \n",
       "\n",
       "[100 rows x 4 columns]"
      ]
     },
     "execution_count": 17,
     "metadata": {},
     "output_type": "execute_result"
    }
   ],
   "source": [
    "data.head(100)"
   ]
  },
  {
   "cell_type": "markdown",
   "id": "11fa234a-3fb6-4c6d-87f8-52fb4937cfda",
   "metadata": {},
   "source": [
    "# Find commun features"
   ]
  },
  {
   "cell_type": "code",
   "execution_count": 18,
   "id": "de338726-c471-4360-9a88-144b2ce9f734",
   "metadata": {},
   "outputs": [],
   "source": [
    "n_cv = 5000\n",
    "features_list = [literal_eval(x) for x in data.loc[:n_cv,  'features'].to_list()]\n",
    "features_flat_list = [item for sublist in features_list for item in sublist]\n"
   ]
  },
  {
   "cell_type": "code",
   "execution_count": 19,
   "id": "8cf18c27-8541-4f8d-b621-8e843ad08a7d",
   "metadata": {
    "tags": []
   },
   "outputs": [],
   "source": [
    "c = Counter(features_flat_list)"
   ]
  },
  {
   "cell_type": "code",
   "execution_count": 20,
   "id": "033c8c65-4d6b-4c45-b43c-30ef9337e15c",
   "metadata": {
    "tags": []
   },
   "outputs": [
    {
     "data": {
      "text/plain": [
       "[('5:37000001-38000000_ratio', 1217),\n",
       " ('8:2000001-3000000_ratio', 980),\n",
       " ('2:235000001-236000000_ratio', 948),\n",
       " ('9:20000001-21000000_ratio', 868),\n",
       " ('6:80000001-81000000_ratio', 864),\n",
       " ('12:62000001-63000000_ratio', 820),\n",
       " ('5:29000001-30000000_ratio', 818),\n",
       " ('2:237000001-238000000_ratio', 768),\n",
       " ('2:240000001-241000000_ratio', 733),\n",
       " ('5:40000001-41000000_ratio', 725),\n",
       " ('8:1-1000000_ratio', 723),\n",
       " ('12:34000001-35000000_ratio', 722),\n",
       " ('5:23000001-24000000_ratio', 722),\n",
       " ('2:228000001-229000000_ratio', 721),\n",
       " ('6:1-1000000_ratio', 718),\n",
       " ('5:36000001-37000000_ratio', 717),\n",
       " ('6:53000001-54000000_ratio', 714),\n",
       " ('8:143000001-144000000_ratio', 699),\n",
       " ('1:183000001-184000000_ratio', 687),\n",
       " ('8:11000001-12000000_ratio', 675),\n",
       " ('5:32000001-33000000_ratio', 673),\n",
       " ('14:60000001-61000000_ratio', 671),\n",
       " ('14:45000001-46000000_ratio', 667),\n",
       " ('2:236000001-237000000_ratio', 661),\n",
       " ('2:232000001-233000000_ratio', 660),\n",
       " ('18:30000001-31000000_ratio', 659),\n",
       " ('4:157000001-158000000_ratio', 648),\n",
       " ('14:38000001-39000000_ratio', 646),\n",
       " ('9:106000001-107000000_ratio', 642),\n",
       " ('8:10000001-11000000_ratio', 638),\n",
       " ('14:35000001-36000000_ratio', 638),\n",
       " ('6:81000001-82000000_ratio', 628),\n",
       " ('20:64000001-65000000_ratio', 623),\n",
       " ('14:71000001-72000000_ratio', 621),\n",
       " ('12:63000001-64000000_ratio', 611),\n",
       " ('14:81000001-82000000_ratio', 610),\n",
       " ('14:48000001-49000000_ratio', 606),\n",
       " ('8:21000001-22000000_ratio', 606),\n",
       " ('5:33000001-34000000_ratio', 605),\n",
       " ('14:73000001-74000000_ratio', 605)]"
      ]
     },
     "execution_count": 20,
     "metadata": {},
     "output_type": "execute_result"
    }
   ],
   "source": [
    "c.most_common()[:40]"
   ]
  },
  {
   "cell_type": "code",
   "execution_count": 21,
   "id": "c6134e4a-b9df-4d8c-b84e-2eefcf425820",
   "metadata": {},
   "outputs": [],
   "source": [
    "features_name = [x[0] for x in c.most_common()[:200]]"
   ]
  },
  {
   "cell_type": "markdown",
   "id": "3aaa6b02-7340-4ebe-be50-70aef992351a",
   "metadata": {},
   "source": [
    "# Train model"
   ]
  },
  {
   "cell_type": "code",
   "execution_count": 22,
   "id": "412ad7da-bf67-44be-b93a-fb496783c3d0",
   "metadata": {},
   "outputs": [],
   "source": [
    "from sklearn.linear_model import LogisticRegression\n",
    "from sklearn.model_selection import cross_val_score"
   ]
  },
  {
   "cell_type": "code",
   "execution_count": 23,
   "id": "b05f4be4-a7f6-46f7-b626-cbf99c51a11b",
   "metadata": {},
   "outputs": [],
   "source": [
    "X = pickle.load(open(Path('..') / 'features' / 'X.pkl', 'rb'))\n",
    "y = pickle.load(open(Path('..') / 'features' / 'y.pkl', 'rb'))"
   ]
  },
  {
   "cell_type": "code",
   "execution_count": 24,
   "id": "5f1a83d4-e08c-4072-a926-dddadbc1114a",
   "metadata": {},
   "outputs": [],
   "source": [
    "X_light = X.loc[:, features_name]"
   ]
  },
  {
   "cell_type": "code",
   "execution_count": 25,
   "id": "6c4b0a55-d0ad-4d73-a97b-c530a171cd7a",
   "metadata": {},
   "outputs": [],
   "source": [
    "lr = LogisticRegression(class_weight='balanced', C=2)\n",
    "cv_score = cross_val_score(lr, X_light, y, cv=5)"
   ]
  },
  {
   "cell_type": "code",
   "execution_count": 26,
   "id": "f323a575-39f3-4fc9-8281-a5ff60a768b1",
   "metadata": {},
   "outputs": [
    {
     "data": {
      "text/plain": [
       "array([0.83333333, 0.8       , 0.86206897, 0.86206897, 0.82758621])"
      ]
     },
     "execution_count": 26,
     "metadata": {},
     "output_type": "execute_result"
    }
   ],
   "source": [
    "cv_score"
   ]
  },
  {
   "cell_type": "code",
   "execution_count": 27,
   "id": "7e801ad8-047c-491c-ba53-399e74587225",
   "metadata": {},
   "outputs": [
    {
     "data": {
      "text/plain": [
       "0.8370114942528735"
      ]
     },
     "execution_count": 27,
     "metadata": {},
     "output_type": "execute_result"
    }
   ],
   "source": [
    "np.mean(cv_score)"
   ]
  },
  {
   "cell_type": "code",
   "execution_count": 196,
   "id": "97e0b794-d9a6-405d-9c42-a14773914a9a",
   "metadata": {},
   "outputs": [],
   "source": [
    "from sklearn.svm import SVC\n",
    "from sklearn.ensemble import RandomForestClassifier"
   ]
  },
  {
   "cell_type": "code",
   "execution_count": 199,
   "id": "d4caba8a-9201-405d-b3a5-716ed962a6c8",
   "metadata": {},
   "outputs": [],
   "source": [
    "svm = RandomForestClassifier(n_estimators=1000)\n",
    "cv_score = cross_val_score(svm, X_light, y, cv=5)"
   ]
  },
  {
   "cell_type": "code",
   "execution_count": 200,
   "id": "c478ec6e-e98a-4853-a759-a21dbc3c2eff",
   "metadata": {},
   "outputs": [
    {
     "data": {
      "text/plain": [
       "array([0.76666667, 0.7       , 0.82758621, 0.86206897, 0.72413793])"
      ]
     },
     "execution_count": 200,
     "metadata": {},
     "output_type": "execute_result"
    }
   ],
   "source": [
    "cv_score"
   ]
  },
  {
   "cell_type": "code",
   "execution_count": 194,
   "id": "fbb63033-8f79-4830-b302-4fda90350d8b",
   "metadata": {},
   "outputs": [
    {
     "data": {
      "text/plain": [
       "0.7822988505747126"
      ]
     },
     "execution_count": 194,
     "metadata": {},
     "output_type": "execute_result"
    }
   ],
   "source": [
    "np.mean(cv_score)"
   ]
  },
  {
   "cell_type": "code",
   "execution_count": null,
   "id": "47c247e9-da04-463f-8214-6b7d1e58e1e5",
   "metadata": {},
   "outputs": [],
   "source": []
  }
 ],
 "metadata": {
  "kernelspec": {
   "display_name": "Python 3 (ipykernel)",
   "language": "python",
   "name": "python3"
  },
  "language_info": {
   "codemirror_mode": {
    "name": "ipython",
    "version": 3
   },
   "file_extension": ".py",
   "mimetype": "text/x-python",
   "name": "python",
   "nbconvert_exporter": "python",
   "pygments_lexer": "ipython3",
   "version": "3.9.7"
  }
 },
 "nbformat": 4,
 "nbformat_minor": 5
}
